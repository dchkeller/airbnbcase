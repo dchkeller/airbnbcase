{
 "cells": [
  {
   "cell_type": "markdown",
   "metadata": {},
   "source": [
    "# AirBnB Case\n",
    "by David Keller\n",
    "\n"
   ]
  },
  {
   "cell_type": "markdown",
   "metadata": {},
   "source": [
    "### Load required libraries"
   ]
  },
  {
   "cell_type": "code",
   "execution_count": 3,
   "metadata": {},
   "outputs": [
    {
     "ename": "NameError",
     "evalue": "name 'tqdm' is not defined",
     "output_type": "error",
     "traceback": [
      "\u001b[0;31m---------------------------------------------------------------------------\u001b[0m",
      "\u001b[0;31mNameError\u001b[0m                                 Traceback (most recent call last)",
      "\u001b[0;32m<ipython-input-3-41eb25adb394>\u001b[0m in \u001b[0;36m<module>\u001b[0;34m\u001b[0m\n\u001b[1;32m     16\u001b[0m \u001b[0mget_ipython\u001b[0m\u001b[0;34m(\u001b[0m\u001b[0;34m)\u001b[0m\u001b[0;34m.\u001b[0m\u001b[0mrun_line_magic\u001b[0m\u001b[0;34m(\u001b[0m\u001b[0;34m'matplotlib'\u001b[0m\u001b[0;34m,\u001b[0m \u001b[0;34m'inline'\u001b[0m\u001b[0;34m)\u001b[0m\u001b[0;34m\u001b[0m\u001b[0;34m\u001b[0m\u001b[0m\n\u001b[1;32m     17\u001b[0m \u001b[0;34m\u001b[0m\u001b[0m\n\u001b[0;32m---> 18\u001b[0;31m \u001b[0mtqdm\u001b[0m\u001b[0;34m.\u001b[0m\u001b[0mpandas\u001b[0m\u001b[0;34m(\u001b[0m\u001b[0;34m)\u001b[0m\u001b[0;34m\u001b[0m\u001b[0;34m\u001b[0m\u001b[0m\n\u001b[0m",
      "\u001b[0;31mNameError\u001b[0m: name 'tqdm' is not defined"
     ]
    }
   ],
   "source": [
    "import numpy as np\n",
    "import pandas as pd\n",
    "import matplotlib.pyplot as plt\n",
    "from sklearn.linear_model import LinearRegression\n",
    "from sklearn.model_selection import train_test_split\n",
    "from sklearn.metrics import r2_score, mean_squared_error\n",
    "import seaborn as sns\n",
    "\n",
    "import folium\n",
    "import folium.plugins\n",
    "\n",
    "#import text2emotion as te\n",
    "#import textblob\n",
    "#from tqdm import tqdm\n",
    "from dateutil.relativedelta import relativedelta\n",
    "%matplotlib inline\n",
    "\n",
    "tqdm.pandas()"
   ]
  },
  {
   "cell_type": "markdown",
   "metadata": {},
   "source": [
    "### Load airbnb Data"
   ]
  },
  {
   "cell_type": "code",
   "execution_count": 4,
   "metadata": {},
   "outputs": [],
   "source": [
    "calendar = pd.read_csv('./data/airbnb_zurich/calendar.csv')\n",
    "listings = pd.read_csv('./data/airbnb_zurich/listings.csv')\n",
    "reviews = pd.read_csv('./data/airbnb_zurich/reviews.csv')"
   ]
  },
  {
   "cell_type": "markdown",
   "metadata": {},
   "source": [
    "### Understand the Business of AirBnB\n",
    "\n",
    "* Where are the best locations in Zürich? -> find a model to describe location to review_scores_location\n",
    "* How can you optimize your return on AirBnB as a host?\n",
    "* "
   ]
  },
  {
   "cell_type": "markdown",
   "metadata": {},
   "source": [
    "### Understand Data"
   ]
  },
  {
   "cell_type": "code",
   "execution_count": 5,
   "metadata": {},
   "outputs": [
    {
     "data": {
      "text/plain": [
       "(1860, 74)"
      ]
     },
     "execution_count": 5,
     "metadata": {},
     "output_type": "execute_result"
    }
   ],
   "source": [
    "listings.shape"
   ]
  },
  {
   "cell_type": "code",
   "execution_count": 6,
   "metadata": {},
   "outputs": [
    {
     "data": {
      "text/plain": [
       "(678535, 7)"
      ]
     },
     "execution_count": 6,
     "metadata": {},
     "output_type": "execute_result"
    }
   ],
   "source": [
    "calendar.shape"
   ]
  },
  {
   "cell_type": "code",
   "execution_count": 7,
   "metadata": {},
   "outputs": [
    {
     "data": {
      "text/plain": [
       "(50245, 6)"
      ]
     },
     "execution_count": 7,
     "metadata": {},
     "output_type": "execute_result"
    }
   ],
   "source": [
    "reviews.shape"
   ]
  },
  {
   "cell_type": "code",
   "execution_count": 8,
   "metadata": {},
   "outputs": [
    {
     "data": {
      "text/html": [
       "<div>\n",
       "<style scoped>\n",
       "    .dataframe tbody tr th:only-of-type {\n",
       "        vertical-align: middle;\n",
       "    }\n",
       "\n",
       "    .dataframe tbody tr th {\n",
       "        vertical-align: top;\n",
       "    }\n",
       "\n",
       "    .dataframe thead th {\n",
       "        text-align: right;\n",
       "    }\n",
       "</style>\n",
       "<table border=\"1\" class=\"dataframe\">\n",
       "  <thead>\n",
       "    <tr style=\"text-align: right;\">\n",
       "      <th></th>\n",
       "      <th>id</th>\n",
       "      <th>listing_url</th>\n",
       "      <th>scrape_id</th>\n",
       "      <th>last_scraped</th>\n",
       "      <th>name</th>\n",
       "      <th>description</th>\n",
       "      <th>neighborhood_overview</th>\n",
       "      <th>picture_url</th>\n",
       "      <th>host_id</th>\n",
       "      <th>host_url</th>\n",
       "      <th>...</th>\n",
       "      <th>review_scores_communication</th>\n",
       "      <th>review_scores_location</th>\n",
       "      <th>review_scores_value</th>\n",
       "      <th>license</th>\n",
       "      <th>instant_bookable</th>\n",
       "      <th>calculated_host_listings_count</th>\n",
       "      <th>calculated_host_listings_count_entire_homes</th>\n",
       "      <th>calculated_host_listings_count_private_rooms</th>\n",
       "      <th>calculated_host_listings_count_shared_rooms</th>\n",
       "      <th>reviews_per_month</th>\n",
       "    </tr>\n",
       "  </thead>\n",
       "  <tbody>\n",
       "    <tr>\n",
       "      <th>0</th>\n",
       "      <td>73282</td>\n",
       "      <td>https://www.airbnb.com/rooms/73282</td>\n",
       "      <td>20211228000812</td>\n",
       "      <td>2021-12-28</td>\n",
       "      <td>Clean, central, quiet</td>\n",
       "      <td>Arty neighborhood&lt;br /&gt;&lt;br /&gt;&lt;b&gt;The space&lt;/b&gt;&lt;...</td>\n",
       "      <td>NaN</td>\n",
       "      <td>https://a0.muscache.com/pictures/481072/abd94c...</td>\n",
       "      <td>377532</td>\n",
       "      <td>https://www.airbnb.com/users/show/377532</td>\n",
       "      <td>...</td>\n",
       "      <td>4.93</td>\n",
       "      <td>4.71</td>\n",
       "      <td>4.61</td>\n",
       "      <td>NaN</td>\n",
       "      <td>f</td>\n",
       "      <td>1</td>\n",
       "      <td>1</td>\n",
       "      <td>0</td>\n",
       "      <td>0</td>\n",
       "      <td>0.42</td>\n",
       "    </tr>\n",
       "    <tr>\n",
       "      <th>1</th>\n",
       "      <td>86645</td>\n",
       "      <td>https://www.airbnb.com/rooms/86645</td>\n",
       "      <td>20211228000812</td>\n",
       "      <td>2021-12-28</td>\n",
       "      <td>Stadium Letzigrund - by Airhome</td>\n",
       "      <td>Discover a boutique apartment presented by Air...</td>\n",
       "      <td>Located 300 meters to Zurich Letzigrund Stadio...</td>\n",
       "      <td>https://a0.muscache.com/pictures/miso/Hosting-...</td>\n",
       "      <td>475053</td>\n",
       "      <td>https://www.airbnb.com/users/show/475053</td>\n",
       "      <td>...</td>\n",
       "      <td>4.77</td>\n",
       "      <td>4.60</td>\n",
       "      <td>4.47</td>\n",
       "      <td>NaN</td>\n",
       "      <td>t</td>\n",
       "      <td>18</td>\n",
       "      <td>18</td>\n",
       "      <td>0</td>\n",
       "      <td>0</td>\n",
       "      <td>0.39</td>\n",
       "    </tr>\n",
       "    <tr>\n",
       "      <th>2</th>\n",
       "      <td>143821</td>\n",
       "      <td>https://www.airbnb.com/rooms/143821</td>\n",
       "      <td>20211228000812</td>\n",
       "      <td>2021-12-28</td>\n",
       "      <td>marvelous LOFT in SIHLCITY Zürich</td>\n",
       "      <td>&lt;b&gt;The space&lt;/b&gt;&lt;br /&gt;- 2.5 rooms on 2 floors ...</td>\n",
       "      <td>NaN</td>\n",
       "      <td>https://a0.muscache.com/pictures/1012249/a4f34...</td>\n",
       "      <td>697307</td>\n",
       "      <td>https://www.airbnb.com/users/show/697307</td>\n",
       "      <td>...</td>\n",
       "      <td>NaN</td>\n",
       "      <td>NaN</td>\n",
       "      <td>NaN</td>\n",
       "      <td>NaN</td>\n",
       "      <td>f</td>\n",
       "      <td>1</td>\n",
       "      <td>1</td>\n",
       "      <td>0</td>\n",
       "      <td>0</td>\n",
       "      <td>NaN</td>\n",
       "    </tr>\n",
       "    <tr>\n",
       "      <th>3</th>\n",
       "      <td>178448</td>\n",
       "      <td>https://www.airbnb.com/rooms/178448</td>\n",
       "      <td>20211228000812</td>\n",
       "      <td>2021-12-28</td>\n",
       "      <td>a lovely place, top location</td>\n",
       "      <td>Very central location, 5 min walk from Bahnhof...</td>\n",
       "      <td>We live in one of the top locations of Zürich,...</td>\n",
       "      <td>https://a0.muscache.com/pictures/7d41e016-e818...</td>\n",
       "      <td>854016</td>\n",
       "      <td>https://www.airbnb.com/users/show/854016</td>\n",
       "      <td>...</td>\n",
       "      <td>4.89</td>\n",
       "      <td>5.00</td>\n",
       "      <td>4.89</td>\n",
       "      <td>NaN</td>\n",
       "      <td>f</td>\n",
       "      <td>1</td>\n",
       "      <td>0</td>\n",
       "      <td>1</td>\n",
       "      <td>0</td>\n",
       "      <td>0.07</td>\n",
       "    </tr>\n",
       "    <tr>\n",
       "      <th>4</th>\n",
       "      <td>204586</td>\n",
       "      <td>https://www.airbnb.com/rooms/204586</td>\n",
       "      <td>20211228000812</td>\n",
       "      <td>2021-12-28</td>\n",
       "      <td>very nice luxury city apartment</td>\n",
       "      <td>&lt;b&gt;The space&lt;/b&gt;&lt;br /&gt;share a room in a very n...</td>\n",
       "      <td>NaN</td>\n",
       "      <td>https://a0.muscache.com/pictures/55486203/9834...</td>\n",
       "      <td>1004816</td>\n",
       "      <td>https://www.airbnb.com/users/show/1004816</td>\n",
       "      <td>...</td>\n",
       "      <td>NaN</td>\n",
       "      <td>NaN</td>\n",
       "      <td>NaN</td>\n",
       "      <td>NaN</td>\n",
       "      <td>f</td>\n",
       "      <td>1</td>\n",
       "      <td>0</td>\n",
       "      <td>1</td>\n",
       "      <td>0</td>\n",
       "      <td>NaN</td>\n",
       "    </tr>\n",
       "  </tbody>\n",
       "</table>\n",
       "<p>5 rows × 74 columns</p>\n",
       "</div>"
      ],
      "text/plain": [
       "       id                          listing_url       scrape_id last_scraped  \\\n",
       "0   73282   https://www.airbnb.com/rooms/73282  20211228000812   2021-12-28   \n",
       "1   86645   https://www.airbnb.com/rooms/86645  20211228000812   2021-12-28   \n",
       "2  143821  https://www.airbnb.com/rooms/143821  20211228000812   2021-12-28   \n",
       "3  178448  https://www.airbnb.com/rooms/178448  20211228000812   2021-12-28   \n",
       "4  204586  https://www.airbnb.com/rooms/204586  20211228000812   2021-12-28   \n",
       "\n",
       "                                name  \\\n",
       "0              Clean, central, quiet   \n",
       "1    Stadium Letzigrund - by Airhome   \n",
       "2  marvelous LOFT in SIHLCITY Zürich   \n",
       "3       a lovely place, top location   \n",
       "4    very nice luxury city apartment   \n",
       "\n",
       "                                         description  \\\n",
       "0  Arty neighborhood<br /><br /><b>The space</b><...   \n",
       "1  Discover a boutique apartment presented by Air...   \n",
       "2  <b>The space</b><br />- 2.5 rooms on 2 floors ...   \n",
       "3  Very central location, 5 min walk from Bahnhof...   \n",
       "4  <b>The space</b><br />share a room in a very n...   \n",
       "\n",
       "                               neighborhood_overview  \\\n",
       "0                                                NaN   \n",
       "1  Located 300 meters to Zurich Letzigrund Stadio...   \n",
       "2                                                NaN   \n",
       "3  We live in one of the top locations of Zürich,...   \n",
       "4                                                NaN   \n",
       "\n",
       "                                         picture_url  host_id  \\\n",
       "0  https://a0.muscache.com/pictures/481072/abd94c...   377532   \n",
       "1  https://a0.muscache.com/pictures/miso/Hosting-...   475053   \n",
       "2  https://a0.muscache.com/pictures/1012249/a4f34...   697307   \n",
       "3  https://a0.muscache.com/pictures/7d41e016-e818...   854016   \n",
       "4  https://a0.muscache.com/pictures/55486203/9834...  1004816   \n",
       "\n",
       "                                    host_url  ... review_scores_communication  \\\n",
       "0   https://www.airbnb.com/users/show/377532  ...                        4.93   \n",
       "1   https://www.airbnb.com/users/show/475053  ...                        4.77   \n",
       "2   https://www.airbnb.com/users/show/697307  ...                         NaN   \n",
       "3   https://www.airbnb.com/users/show/854016  ...                        4.89   \n",
       "4  https://www.airbnb.com/users/show/1004816  ...                         NaN   \n",
       "\n",
       "  review_scores_location review_scores_value license instant_bookable  \\\n",
       "0                   4.71                4.61     NaN                f   \n",
       "1                   4.60                4.47     NaN                t   \n",
       "2                    NaN                 NaN     NaN                f   \n",
       "3                   5.00                4.89     NaN                f   \n",
       "4                    NaN                 NaN     NaN                f   \n",
       "\n",
       "  calculated_host_listings_count calculated_host_listings_count_entire_homes  \\\n",
       "0                              1                                           1   \n",
       "1                             18                                          18   \n",
       "2                              1                                           1   \n",
       "3                              1                                           0   \n",
       "4                              1                                           0   \n",
       "\n",
       "  calculated_host_listings_count_private_rooms  \\\n",
       "0                                            0   \n",
       "1                                            0   \n",
       "2                                            0   \n",
       "3                                            1   \n",
       "4                                            1   \n",
       "\n",
       "  calculated_host_listings_count_shared_rooms reviews_per_month  \n",
       "0                                           0              0.42  \n",
       "1                                           0              0.39  \n",
       "2                                           0               NaN  \n",
       "3                                           0              0.07  \n",
       "4                                           0               NaN  \n",
       "\n",
       "[5 rows x 74 columns]"
      ]
     },
     "execution_count": 8,
     "metadata": {},
     "output_type": "execute_result"
    }
   ],
   "source": [
    "listings.head()"
   ]
  },
  {
   "cell_type": "code",
   "execution_count": 9,
   "metadata": {},
   "outputs": [
    {
     "data": {
      "text/html": [
       "<div>\n",
       "<style scoped>\n",
       "    .dataframe tbody tr th:only-of-type {\n",
       "        vertical-align: middle;\n",
       "    }\n",
       "\n",
       "    .dataframe tbody tr th {\n",
       "        vertical-align: top;\n",
       "    }\n",
       "\n",
       "    .dataframe thead th {\n",
       "        text-align: right;\n",
       "    }\n",
       "</style>\n",
       "<table border=\"1\" class=\"dataframe\">\n",
       "  <thead>\n",
       "    <tr style=\"text-align: right;\">\n",
       "      <th></th>\n",
       "      <th>listing_id</th>\n",
       "      <th>id</th>\n",
       "      <th>date</th>\n",
       "      <th>reviewer_id</th>\n",
       "      <th>reviewer_name</th>\n",
       "      <th>comments</th>\n",
       "    </tr>\n",
       "  </thead>\n",
       "  <tbody>\n",
       "    <tr>\n",
       "      <th>0</th>\n",
       "      <td>73282</td>\n",
       "      <td>1304820</td>\n",
       "      <td>2012-05-19</td>\n",
       "      <td>1787723</td>\n",
       "      <td>Jeff</td>\n",
       "      <td>Simona was an excellent hostess. The apartment...</td>\n",
       "    </tr>\n",
       "    <tr>\n",
       "      <th>1</th>\n",
       "      <td>73282</td>\n",
       "      <td>1448861</td>\n",
       "      <td>2012-06-10</td>\n",
       "      <td>2183393</td>\n",
       "      <td>Rick</td>\n",
       "      <td>The apartment was fantastic - clean, beautiful...</td>\n",
       "    </tr>\n",
       "    <tr>\n",
       "      <th>2</th>\n",
       "      <td>73282</td>\n",
       "      <td>1574534</td>\n",
       "      <td>2012-06-27</td>\n",
       "      <td>2343568</td>\n",
       "      <td>Joseph</td>\n",
       "      <td>I stayed in the apartment for two weeks with m...</td>\n",
       "    </tr>\n",
       "    <tr>\n",
       "      <th>3</th>\n",
       "      <td>73282</td>\n",
       "      <td>1745571</td>\n",
       "      <td>2012-07-19</td>\n",
       "      <td>2343192</td>\n",
       "      <td>Yvonne</td>\n",
       "      <td>The apartment was everything and more. spaciou...</td>\n",
       "    </tr>\n",
       "    <tr>\n",
       "      <th>4</th>\n",
       "      <td>73282</td>\n",
       "      <td>2026650</td>\n",
       "      <td>2012-08-19</td>\n",
       "      <td>2092762</td>\n",
       "      <td>Joy</td>\n",
       "      <td>Simona's place is great!  It's very quiet and ...</td>\n",
       "    </tr>\n",
       "  </tbody>\n",
       "</table>\n",
       "</div>"
      ],
      "text/plain": [
       "   listing_id       id        date  reviewer_id reviewer_name  \\\n",
       "0       73282  1304820  2012-05-19      1787723          Jeff   \n",
       "1       73282  1448861  2012-06-10      2183393          Rick   \n",
       "2       73282  1574534  2012-06-27      2343568        Joseph   \n",
       "3       73282  1745571  2012-07-19      2343192        Yvonne   \n",
       "4       73282  2026650  2012-08-19      2092762           Joy   \n",
       "\n",
       "                                            comments  \n",
       "0  Simona was an excellent hostess. The apartment...  \n",
       "1  The apartment was fantastic - clean, beautiful...  \n",
       "2  I stayed in the apartment for two weeks with m...  \n",
       "3  The apartment was everything and more. spaciou...  \n",
       "4  Simona's place is great!  It's very quiet and ...  "
      ]
     },
     "execution_count": 9,
     "metadata": {},
     "output_type": "execute_result"
    }
   ],
   "source": [
    "reviews.head()"
   ]
  },
  {
   "cell_type": "code",
   "execution_count": 10,
   "metadata": {},
   "outputs": [
    {
     "data": {
      "text/html": [
       "<div>\n",
       "<style scoped>\n",
       "    .dataframe tbody tr th:only-of-type {\n",
       "        vertical-align: middle;\n",
       "    }\n",
       "\n",
       "    .dataframe tbody tr th {\n",
       "        vertical-align: top;\n",
       "    }\n",
       "\n",
       "    .dataframe thead th {\n",
       "        text-align: right;\n",
       "    }\n",
       "</style>\n",
       "<table border=\"1\" class=\"dataframe\">\n",
       "  <thead>\n",
       "    <tr style=\"text-align: right;\">\n",
       "      <th></th>\n",
       "      <th>listing_id</th>\n",
       "      <th>id</th>\n",
       "      <th>reviewer_id</th>\n",
       "    </tr>\n",
       "  </thead>\n",
       "  <tbody>\n",
       "    <tr>\n",
       "      <th>count</th>\n",
       "      <td>5.024500e+04</td>\n",
       "      <td>5.024500e+04</td>\n",
       "      <td>5.024500e+04</td>\n",
       "    </tr>\n",
       "    <tr>\n",
       "      <th>mean</th>\n",
       "      <td>1.908273e+07</td>\n",
       "      <td>6.993185e+16</td>\n",
       "      <td>1.042475e+08</td>\n",
       "    </tr>\n",
       "    <tr>\n",
       "      <th>std</th>\n",
       "      <td>1.358630e+07</td>\n",
       "      <td>1.651534e+17</td>\n",
       "      <td>1.041389e+08</td>\n",
       "    </tr>\n",
       "    <tr>\n",
       "      <th>min</th>\n",
       "      <td>7.328200e+04</td>\n",
       "      <td>3.066130e+05</td>\n",
       "      <td>3.369000e+03</td>\n",
       "    </tr>\n",
       "    <tr>\n",
       "      <th>25%</th>\n",
       "      <td>6.293591e+06</td>\n",
       "      <td>2.333291e+08</td>\n",
       "      <td>2.288966e+07</td>\n",
       "    </tr>\n",
       "    <tr>\n",
       "      <th>50%</th>\n",
       "      <td>1.790682e+07</td>\n",
       "      <td>4.563381e+08</td>\n",
       "      <td>6.555674e+07</td>\n",
       "    </tr>\n",
       "    <tr>\n",
       "      <th>75%</th>\n",
       "      <td>2.750104e+07</td>\n",
       "      <td>6.503771e+08</td>\n",
       "      <td>1.582684e+08</td>\n",
       "    </tr>\n",
       "    <tr>\n",
       "      <th>max</th>\n",
       "      <td>5.380350e+07</td>\n",
       "      <td>5.266430e+17</td>\n",
       "      <td>4.366466e+08</td>\n",
       "    </tr>\n",
       "  </tbody>\n",
       "</table>\n",
       "</div>"
      ],
      "text/plain": [
       "         listing_id            id   reviewer_id\n",
       "count  5.024500e+04  5.024500e+04  5.024500e+04\n",
       "mean   1.908273e+07  6.993185e+16  1.042475e+08\n",
       "std    1.358630e+07  1.651534e+17  1.041389e+08\n",
       "min    7.328200e+04  3.066130e+05  3.369000e+03\n",
       "25%    6.293591e+06  2.333291e+08  2.288966e+07\n",
       "50%    1.790682e+07  4.563381e+08  6.555674e+07\n",
       "75%    2.750104e+07  6.503771e+08  1.582684e+08\n",
       "max    5.380350e+07  5.266430e+17  4.366466e+08"
      ]
     },
     "execution_count": 10,
     "metadata": {},
     "output_type": "execute_result"
    }
   ],
   "source": [
    "reviews.describe()"
   ]
  },
  {
   "cell_type": "markdown",
   "metadata": {},
   "source": [
    "### Work on Calendar Dataset"
   ]
  },
  {
   "cell_type": "markdown",
   "metadata": {},
   "source": [
    "Convert price and adjusted_price column from string to float."
   ]
  },
  {
   "cell_type": "code",
   "execution_count": 11,
   "metadata": {},
   "outputs": [],
   "source": [
    "calendar.price = calendar.price.str.replace( \"[$,]\", \"\" ).astype(float)\n",
    "calendar.adjusted_price = calendar.adjusted_price.str.replace( \"[$,]\", \"\" ).astype(float)"
   ]
  },
  {
   "cell_type": "markdown",
   "metadata": {},
   "source": [
    "Convert available column to bool"
   ]
  },
  {
   "cell_type": "code",
   "execution_count": 12,
   "metadata": {},
   "outputs": [
    {
     "data": {
      "text/plain": [
       "array(['f', 't'], dtype=object)"
      ]
     },
     "execution_count": 12,
     "metadata": {},
     "output_type": "execute_result"
    }
   ],
   "source": [
    "# check the values in available column\n",
    "calendar.available.unique()"
   ]
  },
  {
   "cell_type": "code",
   "execution_count": 13,
   "metadata": {},
   "outputs": [],
   "source": [
    "calendar[\"available_boolean\"] = (calendar.available == \"t\")\n",
    "calendar.drop( \"available\", axis=1, inplace=True )"
   ]
  },
  {
   "cell_type": "markdown",
   "metadata": {},
   "source": [
    "AirBnB has a mechanism to adjust prices dynamically. How does this mechanism work in our dataset? Check if price and adjusted_price have any difference:"
   ]
  },
  {
   "cell_type": "code",
   "execution_count": 14,
   "metadata": {},
   "outputs": [],
   "source": [
    "calendar[\"price_difference\"] = (calendar.price - calendar.adjusted_price)"
   ]
  },
  {
   "cell_type": "code",
   "execution_count": 15,
   "metadata": {},
   "outputs": [
    {
     "data": {
      "text/plain": [
       "<matplotlib.axes._subplots.AxesSubplot at 0x7f8a62e40490>"
      ]
     },
     "execution_count": 15,
     "metadata": {},
     "output_type": "execute_result"
    },
    {
     "data": {
      "image/png": "[encoded data removed]",
      "text/plain": [
       "<Figure size 432x288 with 1 Axes>"
      ]
     },
     "metadata": {
      "needs_background": "light"
     },
     "output_type": "display_data"
    }
   ],
   "source": [
    "calendar[calendar.available_boolean].plot.scatter( x=\"date\", y=\"price_difference\" )"
   ]
  },
  {
   "cell_type": "markdown",
   "metadata": {},
   "source": [
    "### Work on the Listings Dataset"
   ]
  },
  {
   "cell_type": "code",
   "execution_count": 12,
   "metadata": {},
   "outputs": [
    {
     "data": {
      "text/html": [
       "<div>\n",
       "<style scoped>\n",
       "    .dataframe tbody tr th:only-of-type {\n",
       "        vertical-align: middle;\n",
       "    }\n",
       "\n",
       "    .dataframe tbody tr th {\n",
       "        vertical-align: top;\n",
       "    }\n",
       "\n",
       "    .dataframe thead th {\n",
       "        text-align: right;\n",
       "    }\n",
       "</style>\n",
       "<table border=\"1\" class=\"dataframe\">\n",
       "  <thead>\n",
       "    <tr style=\"text-align: right;\">\n",
       "      <th></th>\n",
       "      <th>id</th>\n",
       "      <th>listing_url</th>\n",
       "      <th>scrape_id</th>\n",
       "      <th>last_scraped</th>\n",
       "      <th>name</th>\n",
       "      <th>description</th>\n",
       "      <th>neighborhood_overview</th>\n",
       "      <th>picture_url</th>\n",
       "      <th>host_id</th>\n",
       "      <th>host_url</th>\n",
       "      <th>...</th>\n",
       "      <th>review_scores_communication</th>\n",
       "      <th>review_scores_location</th>\n",
       "      <th>review_scores_value</th>\n",
       "      <th>license</th>\n",
       "      <th>instant_bookable</th>\n",
       "      <th>calculated_host_listings_count</th>\n",
       "      <th>calculated_host_listings_count_entire_homes</th>\n",
       "      <th>calculated_host_listings_count_private_rooms</th>\n",
       "      <th>calculated_host_listings_count_shared_rooms</th>\n",
       "      <th>reviews_per_month</th>\n",
       "    </tr>\n",
       "  </thead>\n",
       "  <tbody>\n",
       "    <tr>\n",
       "      <th>0</th>\n",
       "      <td>73282</td>\n",
       "      <td>https://www.airbnb.com/rooms/73282</td>\n",
       "      <td>20211228000812</td>\n",
       "      <td>2021-12-28</td>\n",
       "      <td>Clean, central, quiet</td>\n",
       "      <td>Arty neighborhood&lt;br /&gt;&lt;br /&gt;&lt;b&gt;The space&lt;/b&gt;&lt;...</td>\n",
       "      <td>NaN</td>\n",
       "      <td>https://a0.muscache.com/pictures/481072/abd94c...</td>\n",
       "      <td>377532</td>\n",
       "      <td>https://www.airbnb.com/users/show/377532</td>\n",
       "      <td>...</td>\n",
       "      <td>4.93</td>\n",
       "      <td>4.71</td>\n",
       "      <td>4.61</td>\n",
       "      <td>NaN</td>\n",
       "      <td>f</td>\n",
       "      <td>1</td>\n",
       "      <td>1</td>\n",
       "      <td>0</td>\n",
       "      <td>0</td>\n",
       "      <td>0.42</td>\n",
       "    </tr>\n",
       "    <tr>\n",
       "      <th>1</th>\n",
       "      <td>86645</td>\n",
       "      <td>https://www.airbnb.com/rooms/86645</td>\n",
       "      <td>20211228000812</td>\n",
       "      <td>2021-12-28</td>\n",
       "      <td>Stadium Letzigrund - by Airhome</td>\n",
       "      <td>Discover a boutique apartment presented by Air...</td>\n",
       "      <td>Located 300 meters to Zurich Letzigrund Stadio...</td>\n",
       "      <td>https://a0.muscache.com/pictures/miso/Hosting-...</td>\n",
       "      <td>475053</td>\n",
       "      <td>https://www.airbnb.com/users/show/475053</td>\n",
       "      <td>...</td>\n",
       "      <td>4.77</td>\n",
       "      <td>4.60</td>\n",
       "      <td>4.47</td>\n",
       "      <td>NaN</td>\n",
       "      <td>t</td>\n",
       "      <td>18</td>\n",
       "      <td>18</td>\n",
       "      <td>0</td>\n",
       "      <td>0</td>\n",
       "      <td>0.39</td>\n",
       "    </tr>\n",
       "    <tr>\n",
       "      <th>2</th>\n",
       "      <td>143821</td>\n",
       "      <td>https://www.airbnb.com/rooms/143821</td>\n",
       "      <td>20211228000812</td>\n",
       "      <td>2021-12-28</td>\n",
       "      <td>marvelous LOFT in SIHLCITY Zürich</td>\n",
       "      <td>&lt;b&gt;The space&lt;/b&gt;&lt;br /&gt;- 2.5 rooms on 2 floors ...</td>\n",
       "      <td>NaN</td>\n",
       "      <td>https://a0.muscache.com/pictures/1012249/a4f34...</td>\n",
       "      <td>697307</td>\n",
       "      <td>https://www.airbnb.com/users/show/697307</td>\n",
       "      <td>...</td>\n",
       "      <td>NaN</td>\n",
       "      <td>NaN</td>\n",
       "      <td>NaN</td>\n",
       "      <td>NaN</td>\n",
       "      <td>f</td>\n",
       "      <td>1</td>\n",
       "      <td>1</td>\n",
       "      <td>0</td>\n",
       "      <td>0</td>\n",
       "      <td>NaN</td>\n",
       "    </tr>\n",
       "    <tr>\n",
       "      <th>3</th>\n",
       "      <td>178448</td>\n",
       "      <td>https://www.airbnb.com/rooms/178448</td>\n",
       "      <td>20211228000812</td>\n",
       "      <td>2021-12-28</td>\n",
       "      <td>a lovely place, top location</td>\n",
       "      <td>Very central location, 5 min walk from Bahnhof...</td>\n",
       "      <td>We live in one of the top locations of Zürich,...</td>\n",
       "      <td>https://a0.muscache.com/pictures/7d41e016-e818...</td>\n",
       "      <td>854016</td>\n",
       "      <td>https://www.airbnb.com/users/show/854016</td>\n",
       "      <td>...</td>\n",
       "      <td>4.89</td>\n",
       "      <td>5.00</td>\n",
       "      <td>4.89</td>\n",
       "      <td>NaN</td>\n",
       "      <td>f</td>\n",
       "      <td>1</td>\n",
       "      <td>0</td>\n",
       "      <td>1</td>\n",
       "      <td>0</td>\n",
       "      <td>0.07</td>\n",
       "    </tr>\n",
       "    <tr>\n",
       "      <th>4</th>\n",
       "      <td>204586</td>\n",
       "      <td>https://www.airbnb.com/rooms/204586</td>\n",
       "      <td>20211228000812</td>\n",
       "      <td>2021-12-28</td>\n",
       "      <td>very nice luxury city apartment</td>\n",
       "      <td>&lt;b&gt;The space&lt;/b&gt;&lt;br /&gt;share a room in a very n...</td>\n",
       "      <td>NaN</td>\n",
       "      <td>https://a0.muscache.com/pictures/55486203/9834...</td>\n",
       "      <td>1004816</td>\n",
       "      <td>https://www.airbnb.com/users/show/1004816</td>\n",
       "      <td>...</td>\n",
       "      <td>NaN</td>\n",
       "      <td>NaN</td>\n",
       "      <td>NaN</td>\n",
       "      <td>NaN</td>\n",
       "      <td>f</td>\n",
       "      <td>1</td>\n",
       "      <td>0</td>\n",
       "      <td>1</td>\n",
       "      <td>0</td>\n",
       "      <td>NaN</td>\n",
       "    </tr>\n",
       "  </tbody>\n",
       "</table>\n",
       "<p>5 rows × 74 columns</p>\n",
       "</div>"
      ],
      "text/plain": [
       "       id                          listing_url       scrape_id last_scraped  \\\n",
       "0   73282   https://www.airbnb.com/rooms/73282  20211228000812   2021-12-28   \n",
       "1   86645   https://www.airbnb.com/rooms/86645  20211228000812   2021-12-28   \n",
       "2  143821  https://www.airbnb.com/rooms/143821  20211228000812   2021-12-28   \n",
       "3  178448  https://www.airbnb.com/rooms/178448  20211228000812   2021-12-28   \n",
       "4  204586  https://www.airbnb.com/rooms/204586  20211228000812   2021-12-28   \n",
       "\n",
       "                                name  \\\n",
       "0              Clean, central, quiet   \n",
       "1    Stadium Letzigrund - by Airhome   \n",
       "2  marvelous LOFT in SIHLCITY Zürich   \n",
       "3       a lovely place, top location   \n",
       "4    very nice luxury city apartment   \n",
       "\n",
       "                                         description  \\\n",
       "0  Arty neighborhood<br /><br /><b>The space</b><...   \n",
       "1  Discover a boutique apartment presented by Air...   \n",
       "2  <b>The space</b><br />- 2.5 rooms on 2 floors ...   \n",
       "3  Very central location, 5 min walk from Bahnhof...   \n",
       "4  <b>The space</b><br />share a room in a very n...   \n",
       "\n",
       "                               neighborhood_overview  \\\n",
       "0                                                NaN   \n",
       "1  Located 300 meters to Zurich Letzigrund Stadio...   \n",
       "2                                                NaN   \n",
       "3  We live in one of the top locations of Zürich,...   \n",
       "4                                                NaN   \n",
       "\n",
       "                                         picture_url  host_id  \\\n",
       "0  https://a0.muscache.com/pictures/481072/abd94c...   377532   \n",
       "1  https://a0.muscache.com/pictures/miso/Hosting-...   475053   \n",
       "2  https://a0.muscache.com/pictures/1012249/a4f34...   697307   \n",
       "3  https://a0.muscache.com/pictures/7d41e016-e818...   854016   \n",
       "4  https://a0.muscache.com/pictures/55486203/9834...  1004816   \n",
       "\n",
       "                                    host_url  ... review_scores_communication  \\\n",
       "0   https://www.airbnb.com/users/show/377532  ...                        4.93   \n",
       "1   https://www.airbnb.com/users/show/475053  ...                        4.77   \n",
       "2   https://www.airbnb.com/users/show/697307  ...                         NaN   \n",
       "3   https://www.airbnb.com/users/show/854016  ...                        4.89   \n",
       "4  https://www.airbnb.com/users/show/1004816  ...                         NaN   \n",
       "\n",
       "  review_scores_location review_scores_value license instant_bookable  \\\n",
       "0                   4.71                4.61     NaN                f   \n",
       "1                   4.60                4.47     NaN                t   \n",
       "2                    NaN                 NaN     NaN                f   \n",
       "3                   5.00                4.89     NaN                f   \n",
       "4                    NaN                 NaN     NaN                f   \n",
       "\n",
       "  calculated_host_listings_count calculated_host_listings_count_entire_homes  \\\n",
       "0                              1                                           1   \n",
       "1                             18                                          18   \n",
       "2                              1                                           1   \n",
       "3                              1                                           0   \n",
       "4                              1                                           0   \n",
       "\n",
       "  calculated_host_listings_count_private_rooms  \\\n",
       "0                                            0   \n",
       "1                                            0   \n",
       "2                                            0   \n",
       "3                                            1   \n",
       "4                                            1   \n",
       "\n",
       "  calculated_host_listings_count_shared_rooms reviews_per_month  \n",
       "0                                           0              0.42  \n",
       "1                                           0              0.39  \n",
       "2                                           0               NaN  \n",
       "3                                           0              0.07  \n",
       "4                                           0               NaN  \n",
       "\n",
       "[5 rows x 74 columns]"
      ]
     },
     "execution_count": 12,
     "metadata": {},
     "output_type": "execute_result"
    }
   ],
   "source": [
    "listings.head()"
   ]
  },
  {
   "cell_type": "markdown",
   "metadata": {},
   "source": [
    "Convert last_scraped to date. And extract the latest date in this column."
   ]
  },
  {
   "cell_type": "code",
   "execution_count": 13,
   "metadata": {},
   "outputs": [
    {
     "name": "stdout",
     "output_type": "stream",
     "text": [
      "Last scraped date: 2021-12-28 00:00:00\n"
     ]
    }
   ],
   "source": [
    "listings.last_scraped = pd.to_datetime( listings.last_scraped )\n",
    "last_scraped_date = listings.last_scraped.max()\n",
    "print(\"Last scraped date: %s\" % last_scraped_date )"
   ]
  },
  {
   "cell_type": "code",
   "execution_count": 14,
   "metadata": {},
   "outputs": [
    {
     "data": {
      "text/plain": [
       "Index(['id', 'listing_url', 'scrape_id', 'last_scraped', 'name', 'description',\n",
       "       'neighborhood_overview', 'picture_url', 'host_id', 'host_url',\n",
       "       'host_name', 'host_since', 'host_location', 'host_about',\n",
       "       'host_response_time', 'host_response_rate', 'host_acceptance_rate',\n",
       "       'host_is_superhost', 'host_thumbnail_url', 'host_picture_url',\n",
       "       'host_neighbourhood', 'host_listings_count',\n",
       "       'host_total_listings_count', 'host_verifications',\n",
       "       'host_has_profile_pic', 'host_identity_verified', 'neighbourhood',\n",
       "       'neighbourhood_cleansed', 'neighbourhood_group_cleansed', 'latitude',\n",
       "       'longitude', 'property_type', 'room_type', 'accommodates', 'bathrooms',\n",
       "       'bathrooms_text', 'bedrooms', 'beds', 'amenities', 'price',\n",
       "       'minimum_nights', 'maximum_nights', 'minimum_minimum_nights',\n",
       "       'maximum_minimum_nights', 'minimum_maximum_nights',\n",
       "       'maximum_maximum_nights', 'minimum_nights_avg_ntm',\n",
       "       'maximum_nights_avg_ntm', 'calendar_updated', 'has_availability',\n",
       "       'availability_30', 'availability_60', 'availability_90',\n",
       "       'availability_365', 'calendar_last_scraped', 'number_of_reviews',\n",
       "       'number_of_reviews_ltm', 'number_of_reviews_l30d', 'first_review',\n",
       "       'last_review', 'review_scores_rating', 'review_scores_accuracy',\n",
       "       'review_scores_cleanliness', 'review_scores_checkin',\n",
       "       'review_scores_communication', 'review_scores_location',\n",
       "       'review_scores_value', 'license', 'instant_bookable',\n",
       "       'calculated_host_listings_count',\n",
       "       'calculated_host_listings_count_entire_homes',\n",
       "       'calculated_host_listings_count_private_rooms',\n",
       "       'calculated_host_listings_count_shared_rooms', 'reviews_per_month'],\n",
       "      dtype='object')"
      ]
     },
     "execution_count": 14,
     "metadata": {},
     "output_type": "execute_result"
    }
   ],
   "source": [
    "listings.columns"
   ]
  },
  {
   "cell_type": "markdown",
   "metadata": {},
   "source": [
    "Drop columns not relevant for our questions."
   ]
  },
  {
   "cell_type": "code",
   "execution_count": 15,
   "metadata": {},
   "outputs": [
    {
     "data": {
      "text/html": [
       "<div>\n",
       "<style scoped>\n",
       "    .dataframe tbody tr th:only-of-type {\n",
       "        vertical-align: middle;\n",
       "    }\n",
       "\n",
       "    .dataframe tbody tr th {\n",
       "        vertical-align: top;\n",
       "    }\n",
       "\n",
       "    .dataframe thead th {\n",
       "        text-align: right;\n",
       "    }\n",
       "</style>\n",
       "<table border=\"1\" class=\"dataframe\">\n",
       "  <thead>\n",
       "    <tr style=\"text-align: right;\">\n",
       "      <th></th>\n",
       "      <th>id</th>\n",
       "      <th>host_name</th>\n",
       "      <th>host_since</th>\n",
       "      <th>host_location</th>\n",
       "      <th>host_about</th>\n",
       "      <th>host_response_time</th>\n",
       "      <th>host_response_rate</th>\n",
       "      <th>host_acceptance_rate</th>\n",
       "      <th>host_is_superhost</th>\n",
       "      <th>host_thumbnail_url</th>\n",
       "      <th>...</th>\n",
       "      <th>review_scores_communication</th>\n",
       "      <th>review_scores_location</th>\n",
       "      <th>review_scores_value</th>\n",
       "      <th>license</th>\n",
       "      <th>instant_bookable</th>\n",
       "      <th>calculated_host_listings_count</th>\n",
       "      <th>calculated_host_listings_count_entire_homes</th>\n",
       "      <th>calculated_host_listings_count_private_rooms</th>\n",
       "      <th>calculated_host_listings_count_shared_rooms</th>\n",
       "      <th>reviews_per_month</th>\n",
       "    </tr>\n",
       "  </thead>\n",
       "  <tbody>\n",
       "    <tr>\n",
       "      <th>0</th>\n",
       "      <td>73282</td>\n",
       "      <td>Simona</td>\n",
       "      <td>2011-02-04</td>\n",
       "      <td>Zurich, Zurich, Switzerland</td>\n",
       "      <td>I am from Italy and have lived in Zurich for a...</td>\n",
       "      <td>NaN</td>\n",
       "      <td>NaN</td>\n",
       "      <td>NaN</td>\n",
       "      <td>f</td>\n",
       "      <td>https://a0.muscache.com/im/users/377532/profil...</td>\n",
       "      <td>...</td>\n",
       "      <td>4.93</td>\n",
       "      <td>4.71</td>\n",
       "      <td>4.61</td>\n",
       "      <td>NaN</td>\n",
       "      <td>f</td>\n",
       "      <td>1</td>\n",
       "      <td>1</td>\n",
       "      <td>0</td>\n",
       "      <td>0</td>\n",
       "      <td>0.42</td>\n",
       "    </tr>\n",
       "    <tr>\n",
       "      <th>1</th>\n",
       "      <td>86645</td>\n",
       "      <td>James</td>\n",
       "      <td>2011-03-31</td>\n",
       "      <td>Wherever you need me. Always happy to help.</td>\n",
       "      <td>Backed by an international team of guest suppo...</td>\n",
       "      <td>within an hour</td>\n",
       "      <td>98%</td>\n",
       "      <td>94%</td>\n",
       "      <td>t</td>\n",
       "      <td>https://a0.muscache.com/im/users/475053/profil...</td>\n",
       "      <td>...</td>\n",
       "      <td>4.77</td>\n",
       "      <td>4.60</td>\n",
       "      <td>4.47</td>\n",
       "      <td>NaN</td>\n",
       "      <td>t</td>\n",
       "      <td>18</td>\n",
       "      <td>18</td>\n",
       "      <td>0</td>\n",
       "      <td>0</td>\n",
       "      <td>0.39</td>\n",
       "    </tr>\n",
       "    <tr>\n",
       "      <th>2</th>\n",
       "      <td>143821</td>\n",
       "      <td>Erhan</td>\n",
       "      <td>2011-06-13</td>\n",
       "      <td>Zürich, Zurich, Switzerland</td>\n",
       "      <td>Hello everyone!\\n\\ni am living in Zurich.\\n\\nh...</td>\n",
       "      <td>within a day</td>\n",
       "      <td>100%</td>\n",
       "      <td>0%</td>\n",
       "      <td>f</td>\n",
       "      <td>https://a0.muscache.com/im/users/697307/profil...</td>\n",
       "      <td>...</td>\n",
       "      <td>NaN</td>\n",
       "      <td>NaN</td>\n",
       "      <td>NaN</td>\n",
       "      <td>NaN</td>\n",
       "      <td>f</td>\n",
       "      <td>1</td>\n",
       "      <td>1</td>\n",
       "      <td>0</td>\n",
       "      <td>0</td>\n",
       "      <td>NaN</td>\n",
       "    </tr>\n",
       "    <tr>\n",
       "      <th>3</th>\n",
       "      <td>178448</td>\n",
       "      <td>Delphine</td>\n",
       "      <td>2011-07-22</td>\n",
       "      <td>Zurich, Zurich, Switzerland</td>\n",
       "      <td>I am a quiet, friendly and caring person\\r\\nI ...</td>\n",
       "      <td>NaN</td>\n",
       "      <td>NaN</td>\n",
       "      <td>0%</td>\n",
       "      <td>f</td>\n",
       "      <td>https://a0.muscache.com/im/users/854016/profil...</td>\n",
       "      <td>...</td>\n",
       "      <td>4.89</td>\n",
       "      <td>5.00</td>\n",
       "      <td>4.89</td>\n",
       "      <td>NaN</td>\n",
       "      <td>f</td>\n",
       "      <td>1</td>\n",
       "      <td>0</td>\n",
       "      <td>1</td>\n",
       "      <td>0</td>\n",
       "      <td>0.07</td>\n",
       "    </tr>\n",
       "    <tr>\n",
       "      <th>4</th>\n",
       "      <td>204586</td>\n",
       "      <td>Aicha</td>\n",
       "      <td>2011-08-22</td>\n",
       "      <td>Zurich, Zurich, Switzerland</td>\n",
       "      <td>I'm a very active person, love traveling, cook...</td>\n",
       "      <td>NaN</td>\n",
       "      <td>NaN</td>\n",
       "      <td>NaN</td>\n",
       "      <td>f</td>\n",
       "      <td>https://a0.muscache.com/im/users/1004816/profi...</td>\n",
       "      <td>...</td>\n",
       "      <td>NaN</td>\n",
       "      <td>NaN</td>\n",
       "      <td>NaN</td>\n",
       "      <td>NaN</td>\n",
       "      <td>f</td>\n",
       "      <td>1</td>\n",
       "      <td>0</td>\n",
       "      <td>1</td>\n",
       "      <td>0</td>\n",
       "      <td>NaN</td>\n",
       "    </tr>\n",
       "    <tr>\n",
       "      <th>...</th>\n",
       "      <td>...</td>\n",
       "      <td>...</td>\n",
       "      <td>...</td>\n",
       "      <td>...</td>\n",
       "      <td>...</td>\n",
       "      <td>...</td>\n",
       "      <td>...</td>\n",
       "      <td>...</td>\n",
       "      <td>...</td>\n",
       "      <td>...</td>\n",
       "      <td>...</td>\n",
       "      <td>...</td>\n",
       "      <td>...</td>\n",
       "      <td>...</td>\n",
       "      <td>...</td>\n",
       "      <td>...</td>\n",
       "      <td>...</td>\n",
       "      <td>...</td>\n",
       "      <td>...</td>\n",
       "      <td>...</td>\n",
       "      <td>...</td>\n",
       "    </tr>\n",
       "    <tr>\n",
       "      <th>1855</th>\n",
       "      <td>53987227</td>\n",
       "      <td>Carena</td>\n",
       "      <td>2016-05-30</td>\n",
       "      <td>Zürich, Zurich, Switzerland</td>\n",
       "      <td>NaN</td>\n",
       "      <td>within a few hours</td>\n",
       "      <td>100%</td>\n",
       "      <td>67%</td>\n",
       "      <td>f</td>\n",
       "      <td>https://a0.muscache.com/im/pictures/user/9ceeb...</td>\n",
       "      <td>...</td>\n",
       "      <td>NaN</td>\n",
       "      <td>NaN</td>\n",
       "      <td>NaN</td>\n",
       "      <td>NaN</td>\n",
       "      <td>f</td>\n",
       "      <td>2</td>\n",
       "      <td>2</td>\n",
       "      <td>0</td>\n",
       "      <td>0</td>\n",
       "      <td>NaN</td>\n",
       "    </tr>\n",
       "    <tr>\n",
       "      <th>1856</th>\n",
       "      <td>53998419</td>\n",
       "      <td>Mia</td>\n",
       "      <td>2018-06-26</td>\n",
       "      <td>Zürich, Zurich, Switzerland</td>\n",
       "      <td>A happy person that occasionally opens her hom...</td>\n",
       "      <td>within an hour</td>\n",
       "      <td>100%</td>\n",
       "      <td>77%</td>\n",
       "      <td>f</td>\n",
       "      <td>https://a0.muscache.com/im/pictures/user/ee075...</td>\n",
       "      <td>...</td>\n",
       "      <td>NaN</td>\n",
       "      <td>NaN</td>\n",
       "      <td>NaN</td>\n",
       "      <td>NaN</td>\n",
       "      <td>t</td>\n",
       "      <td>8</td>\n",
       "      <td>8</td>\n",
       "      <td>0</td>\n",
       "      <td>0</td>\n",
       "      <td>NaN</td>\n",
       "    </tr>\n",
       "    <tr>\n",
       "      <th>1857</th>\n",
       "      <td>54009704</td>\n",
       "      <td>Blueground</td>\n",
       "      <td>2021-12-01</td>\n",
       "      <td>Zürich, Zurich, Switzerland</td>\n",
       "      <td>Why take a chance picking &amp; choosing between s...</td>\n",
       "      <td>NaN</td>\n",
       "      <td>NaN</td>\n",
       "      <td>NaN</td>\n",
       "      <td>f</td>\n",
       "      <td>https://a0.muscache.com/im/pictures/user/882cb...</td>\n",
       "      <td>...</td>\n",
       "      <td>NaN</td>\n",
       "      <td>NaN</td>\n",
       "      <td>NaN</td>\n",
       "      <td>NaN</td>\n",
       "      <td>t</td>\n",
       "      <td>7</td>\n",
       "      <td>7</td>\n",
       "      <td>0</td>\n",
       "      <td>0</td>\n",
       "      <td>NaN</td>\n",
       "    </tr>\n",
       "    <tr>\n",
       "      <th>1858</th>\n",
       "      <td>54012299</td>\n",
       "      <td>Blueground</td>\n",
       "      <td>2021-12-01</td>\n",
       "      <td>Zürich, Zurich, Switzerland</td>\n",
       "      <td>Why take a chance picking &amp; choosing between s...</td>\n",
       "      <td>NaN</td>\n",
       "      <td>NaN</td>\n",
       "      <td>NaN</td>\n",
       "      <td>f</td>\n",
       "      <td>https://a0.muscache.com/im/pictures/user/882cb...</td>\n",
       "      <td>...</td>\n",
       "      <td>NaN</td>\n",
       "      <td>NaN</td>\n",
       "      <td>NaN</td>\n",
       "      <td>NaN</td>\n",
       "      <td>t</td>\n",
       "      <td>7</td>\n",
       "      <td>7</td>\n",
       "      <td>0</td>\n",
       "      <td>0</td>\n",
       "      <td>NaN</td>\n",
       "    </tr>\n",
       "    <tr>\n",
       "      <th>1859</th>\n",
       "      <td>54012373</td>\n",
       "      <td>Blueground</td>\n",
       "      <td>2021-12-01</td>\n",
       "      <td>Zürich, Zurich, Switzerland</td>\n",
       "      <td>Why take a chance picking &amp; choosing between s...</td>\n",
       "      <td>NaN</td>\n",
       "      <td>NaN</td>\n",
       "      <td>NaN</td>\n",
       "      <td>f</td>\n",
       "      <td>https://a0.muscache.com/im/pictures/user/882cb...</td>\n",
       "      <td>...</td>\n",
       "      <td>NaN</td>\n",
       "      <td>NaN</td>\n",
       "      <td>NaN</td>\n",
       "      <td>NaN</td>\n",
       "      <td>t</td>\n",
       "      <td>7</td>\n",
       "      <td>7</td>\n",
       "      <td>0</td>\n",
       "      <td>0</td>\n",
       "      <td>NaN</td>\n",
       "    </tr>\n",
       "  </tbody>\n",
       "</table>\n",
       "<p>1860 rows × 65 columns</p>\n",
       "</div>"
      ],
      "text/plain": [
       "            id   host_name  host_since  \\\n",
       "0        73282      Simona  2011-02-04   \n",
       "1        86645       James  2011-03-31   \n",
       "2       143821       Erhan  2011-06-13   \n",
       "3       178448    Delphine  2011-07-22   \n",
       "4       204586       Aicha  2011-08-22   \n",
       "...        ...         ...         ...   \n",
       "1855  53987227      Carena  2016-05-30   \n",
       "1856  53998419         Mia  2018-06-26   \n",
       "1857  54009704  Blueground  2021-12-01   \n",
       "1858  54012299  Blueground  2021-12-01   \n",
       "1859  54012373  Blueground  2021-12-01   \n",
       "\n",
       "                                     host_location  \\\n",
       "0                      Zurich, Zurich, Switzerland   \n",
       "1     Wherever you need me. Always happy to help.    \n",
       "2                      Zürich, Zurich, Switzerland   \n",
       "3                      Zurich, Zurich, Switzerland   \n",
       "4                      Zurich, Zurich, Switzerland   \n",
       "...                                            ...   \n",
       "1855                   Zürich, Zurich, Switzerland   \n",
       "1856                   Zürich, Zurich, Switzerland   \n",
       "1857                   Zürich, Zurich, Switzerland   \n",
       "1858                   Zürich, Zurich, Switzerland   \n",
       "1859                   Zürich, Zurich, Switzerland   \n",
       "\n",
       "                                             host_about  host_response_time  \\\n",
       "0     I am from Italy and have lived in Zurich for a...                 NaN   \n",
       "1     Backed by an international team of guest suppo...      within an hour   \n",
       "2     Hello everyone!\\n\\ni am living in Zurich.\\n\\nh...        within a day   \n",
       "3     I am a quiet, friendly and caring person\\r\\nI ...                 NaN   \n",
       "4     I'm a very active person, love traveling, cook...                 NaN   \n",
       "...                                                 ...                 ...   \n",
       "1855                                                NaN  within a few hours   \n",
       "1856  A happy person that occasionally opens her hom...      within an hour   \n",
       "1857  Why take a chance picking & choosing between s...                 NaN   \n",
       "1858  Why take a chance picking & choosing between s...                 NaN   \n",
       "1859  Why take a chance picking & choosing between s...                 NaN   \n",
       "\n",
       "     host_response_rate host_acceptance_rate host_is_superhost  \\\n",
       "0                   NaN                  NaN                 f   \n",
       "1                   98%                  94%                 t   \n",
       "2                  100%                   0%                 f   \n",
       "3                   NaN                   0%                 f   \n",
       "4                   NaN                  NaN                 f   \n",
       "...                 ...                  ...               ...   \n",
       "1855               100%                  67%                 f   \n",
       "1856               100%                  77%                 f   \n",
       "1857                NaN                  NaN                 f   \n",
       "1858                NaN                  NaN                 f   \n",
       "1859                NaN                  NaN                 f   \n",
       "\n",
       "                                     host_thumbnail_url  ...  \\\n",
       "0     https://a0.muscache.com/im/users/377532/profil...  ...   \n",
       "1     https://a0.muscache.com/im/users/475053/profil...  ...   \n",
       "2     https://a0.muscache.com/im/users/697307/profil...  ...   \n",
       "3     https://a0.muscache.com/im/users/854016/profil...  ...   \n",
       "4     https://a0.muscache.com/im/users/1004816/profi...  ...   \n",
       "...                                                 ...  ...   \n",
       "1855  https://a0.muscache.com/im/pictures/user/9ceeb...  ...   \n",
       "1856  https://a0.muscache.com/im/pictures/user/ee075...  ...   \n",
       "1857  https://a0.muscache.com/im/pictures/user/882cb...  ...   \n",
       "1858  https://a0.muscache.com/im/pictures/user/882cb...  ...   \n",
       "1859  https://a0.muscache.com/im/pictures/user/882cb...  ...   \n",
       "\n",
       "     review_scores_communication review_scores_location  review_scores_value  \\\n",
       "0                           4.93                   4.71                 4.61   \n",
       "1                           4.77                   4.60                 4.47   \n",
       "2                            NaN                    NaN                  NaN   \n",
       "3                           4.89                   5.00                 4.89   \n",
       "4                            NaN                    NaN                  NaN   \n",
       "...                          ...                    ...                  ...   \n",
       "1855                         NaN                    NaN                  NaN   \n",
       "1856                         NaN                    NaN                  NaN   \n",
       "1857                         NaN                    NaN                  NaN   \n",
       "1858                         NaN                    NaN                  NaN   \n",
       "1859                         NaN                    NaN                  NaN   \n",
       "\n",
       "      license instant_bookable calculated_host_listings_count  \\\n",
       "0         NaN                f                              1   \n",
       "1         NaN                t                             18   \n",
       "2         NaN                f                              1   \n",
       "3         NaN                f                              1   \n",
       "4         NaN                f                              1   \n",
       "...       ...              ...                            ...   \n",
       "1855      NaN                f                              2   \n",
       "1856      NaN                t                              8   \n",
       "1857      NaN                t                              7   \n",
       "1858      NaN                t                              7   \n",
       "1859      NaN                t                              7   \n",
       "\n",
       "     calculated_host_listings_count_entire_homes  \\\n",
       "0                                              1   \n",
       "1                                             18   \n",
       "2                                              1   \n",
       "3                                              0   \n",
       "4                                              0   \n",
       "...                                          ...   \n",
       "1855                                           2   \n",
       "1856                                           8   \n",
       "1857                                           7   \n",
       "1858                                           7   \n",
       "1859                                           7   \n",
       "\n",
       "     calculated_host_listings_count_private_rooms  \\\n",
       "0                                               0   \n",
       "1                                               0   \n",
       "2                                               0   \n",
       "3                                               1   \n",
       "4                                               1   \n",
       "...                                           ...   \n",
       "1855                                            0   \n",
       "1856                                            0   \n",
       "1857                                            0   \n",
       "1858                                            0   \n",
       "1859                                            0   \n",
       "\n",
       "     calculated_host_listings_count_shared_rooms reviews_per_month  \n",
       "0                                              0              0.42  \n",
       "1                                              0              0.39  \n",
       "2                                              0               NaN  \n",
       "3                                              0              0.07  \n",
       "4                                              0               NaN  \n",
       "...                                          ...               ...  \n",
       "1855                                           0               NaN  \n",
       "1856                                           0               NaN  \n",
       "1857                                           0               NaN  \n",
       "1858                                           0               NaN  \n",
       "1859                                           0               NaN  \n",
       "\n",
       "[1860 rows x 65 columns]"
      ]
     },
     "execution_count": 15,
     "metadata": {},
     "output_type": "execute_result"
    }
   ],
   "source": [
    "listings.drop( [\"listing_url\", \"scrape_id\", \"last_scraped\", \"name\", \"description\", \"neighborhood_overview\", \"picture_url\", \"host_id\", \"host_url\"], axis=1 )"
   ]
  },
  {
   "cell_type": "code",
   "execution_count": null,
   "metadata": {},
   "outputs": [],
   "source": []
  },
  {
   "cell_type": "markdown",
   "metadata": {},
   "source": [
    "### Work on Reviews Dataset"
   ]
  },
  {
   "cell_type": "markdown",
   "metadata": {},
   "source": [
    "Convert date-column to date-time."
   ]
  },
  {
   "cell_type": "code",
   "execution_count": 16,
   "metadata": {},
   "outputs": [],
   "source": [
    "reviews.date = pd.to_datetime( reviews.date )"
   ]
  },
  {
   "cell_type": "markdown",
   "metadata": {},
   "source": [
    "How many unique reviewers do we have? Percentage of total number of reviews"
   ]
  },
  {
   "cell_type": "code",
   "execution_count": 17,
   "metadata": {},
   "outputs": [
    {
     "data": {
      "text/plain": [
       "0.9079908448601851"
      ]
     },
     "execution_count": 17,
     "metadata": {},
     "output_type": "execute_result"
    }
   ],
   "source": [
    "len(reviews.reviewer_id.unique())/reviews.shape[0]"
   ]
  },
  {
   "cell_type": "code",
   "execution_count": 36,
   "metadata": {},
   "outputs": [
    {
     "data": {
      "text/html": [
       "<div>\n",
       "<style scoped>\n",
       "    .dataframe tbody tr th:only-of-type {\n",
       "        vertical-align: middle;\n",
       "    }\n",
       "\n",
       "    .dataframe tbody tr th {\n",
       "        vertical-align: top;\n",
       "    }\n",
       "\n",
       "    .dataframe thead th {\n",
       "        text-align: right;\n",
       "    }\n",
       "</style>\n",
       "<table border=\"1\" class=\"dataframe\">\n",
       "  <thead>\n",
       "    <tr style=\"text-align: right;\">\n",
       "      <th></th>\n",
       "      <th>listing_id</th>\n",
       "      <th>id</th>\n",
       "      <th>date</th>\n",
       "      <th>reviewer_id</th>\n",
       "      <th>reviewer_name</th>\n",
       "      <th>comments</th>\n",
       "    </tr>\n",
       "  </thead>\n",
       "  <tbody>\n",
       "    <tr>\n",
       "      <th>0</th>\n",
       "      <td>73282</td>\n",
       "      <td>1304820</td>\n",
       "      <td>2012-05-19</td>\n",
       "      <td>1787723</td>\n",
       "      <td>Jeff</td>\n",
       "      <td>Simona was an excellent hostess. The apartment...</td>\n",
       "    </tr>\n",
       "    <tr>\n",
       "      <th>1</th>\n",
       "      <td>73282</td>\n",
       "      <td>1448861</td>\n",
       "      <td>2012-06-10</td>\n",
       "      <td>2183393</td>\n",
       "      <td>Rick</td>\n",
       "      <td>The apartment was fantastic - clean, beautiful...</td>\n",
       "    </tr>\n",
       "    <tr>\n",
       "      <th>2</th>\n",
       "      <td>73282</td>\n",
       "      <td>1574534</td>\n",
       "      <td>2012-06-27</td>\n",
       "      <td>2343568</td>\n",
       "      <td>Joseph</td>\n",
       "      <td>I stayed in the apartment for two weeks with m...</td>\n",
       "    </tr>\n",
       "    <tr>\n",
       "      <th>3</th>\n",
       "      <td>73282</td>\n",
       "      <td>1745571</td>\n",
       "      <td>2012-07-19</td>\n",
       "      <td>2343192</td>\n",
       "      <td>Yvonne</td>\n",
       "      <td>The apartment was everything and more. spaciou...</td>\n",
       "    </tr>\n",
       "    <tr>\n",
       "      <th>4</th>\n",
       "      <td>73282</td>\n",
       "      <td>2026650</td>\n",
       "      <td>2012-08-19</td>\n",
       "      <td>2092762</td>\n",
       "      <td>Joy</td>\n",
       "      <td>Simona's place is great!  It's very quiet and ...</td>\n",
       "    </tr>\n",
       "    <tr>\n",
       "      <th>...</th>\n",
       "      <td>...</td>\n",
       "      <td>...</td>\n",
       "      <td>...</td>\n",
       "      <td>...</td>\n",
       "      <td>...</td>\n",
       "      <td>...</td>\n",
       "    </tr>\n",
       "    <tr>\n",
       "      <th>50240</th>\n",
       "      <td>53691391</td>\n",
       "      <td>524467838383695057</td>\n",
       "      <td>2021-12-24</td>\n",
       "      <td>4879473</td>\n",
       "      <td>Noel</td>\n",
       "      <td>Wonderful little flat with fantastic views and...</td>\n",
       "    </tr>\n",
       "    <tr>\n",
       "      <th>50241</th>\n",
       "      <td>53698682</td>\n",
       "      <td>517237336404489957</td>\n",
       "      <td>2021-12-14</td>\n",
       "      <td>214745755</td>\n",
       "      <td>Karim</td>\n",
       "      <td>perfect</td>\n",
       "    </tr>\n",
       "    <tr>\n",
       "      <th>50242</th>\n",
       "      <td>53698682</td>\n",
       "      <td>525191468654428690</td>\n",
       "      <td>2021-12-25</td>\n",
       "      <td>164767134</td>\n",
       "      <td>Jane</td>\n",
       "      <td>Moro was a wonderful host, the most helpful ev...</td>\n",
       "    </tr>\n",
       "    <tr>\n",
       "      <th>50243</th>\n",
       "      <td>53730106</td>\n",
       "      <td>515756983003727009</td>\n",
       "      <td>2021-12-12</td>\n",
       "      <td>396744268</td>\n",
       "      <td>Julien</td>\n",
       "      <td>Sehr sympathische &amp; gut erschlossene Wohnung. ...</td>\n",
       "    </tr>\n",
       "    <tr>\n",
       "      <th>50244</th>\n",
       "      <td>53803497</td>\n",
       "      <td>518677381613528972</td>\n",
       "      <td>2021-12-16</td>\n",
       "      <td>189023428</td>\n",
       "      <td>Bilal</td>\n",
       "      <td>Superbe appartement propre et bien équipé , hô...</td>\n",
       "    </tr>\n",
       "  </tbody>\n",
       "</table>\n",
       "<p>49761 rows × 6 columns</p>\n",
       "</div>"
      ],
      "text/plain": [
       "       listing_id                  id       date  reviewer_id reviewer_name  \\\n",
       "0           73282             1304820 2012-05-19      1787723          Jeff   \n",
       "1           73282             1448861 2012-06-10      2183393          Rick   \n",
       "2           73282             1574534 2012-06-27      2343568        Joseph   \n",
       "3           73282             1745571 2012-07-19      2343192        Yvonne   \n",
       "4           73282             2026650 2012-08-19      2092762           Joy   \n",
       "...           ...                 ...        ...          ...           ...   \n",
       "50240    53691391  524467838383695057 2021-12-24      4879473          Noel   \n",
       "50241    53698682  517237336404489957 2021-12-14    214745755         Karim   \n",
       "50242    53698682  525191468654428690 2021-12-25    164767134          Jane   \n",
       "50243    53730106  515756983003727009 2021-12-12    396744268        Julien   \n",
       "50244    53803497  518677381613528972 2021-12-16    189023428         Bilal   \n",
       "\n",
       "                                                comments  \n",
       "0      Simona was an excellent hostess. The apartment...  \n",
       "1      The apartment was fantastic - clean, beautiful...  \n",
       "2      I stayed in the apartment for two weeks with m...  \n",
       "3      The apartment was everything and more. spaciou...  \n",
       "4      Simona's place is great!  It's very quiet and ...  \n",
       "...                                                  ...  \n",
       "50240  Wonderful little flat with fantastic views and...  \n",
       "50241                                           perfect   \n",
       "50242  Moro was a wonderful host, the most helpful ev...  \n",
       "50243  Sehr sympathische & gut erschlossene Wohnung. ...  \n",
       "50244  Superbe appartement propre et bien équipé , hô...  \n",
       "\n",
       "[49761 rows x 6 columns]"
      ]
     },
     "execution_count": 36,
     "metadata": {},
     "output_type": "execute_result"
    }
   ],
   "source": [
    "reviews.groupby( reviews.reviewer_id ).head()"
   ]
  },
  {
   "cell_type": "markdown",
   "metadata": {},
   "source": [
    "#### Extract Sentiments from Comments"
   ]
  },
  {
   "cell_type": "code",
   "execution_count": null,
   "metadata": {},
   "outputs": [],
   "source": []
  },
  {
   "cell_type": "code",
   "execution_count": 27,
   "metadata": {},
   "outputs": [
    {
     "ename": "ValueError",
     "evalue": "format number 1 of \"Simona was an excellent hostess. The apartment is beautiful (and exactly like it is portrayed in the pictures). Simona made sure the apartment was well stocked with laundry detergent, toilet paper and even brought us a map to help us get around Zurich!  At one point the internet went out, and Simona was very responsive in helping us to solve the issue and get back online right away.  \r<br/>\r<br/>The apartment is clean, bright, airy and very central to trams, busses, shops and the lake. \r<br/>\r<br/>We would LOVE to stay here again when we return to Zurich in the future. \" is not recognized",
     "output_type": "error",
     "traceback": [
      "\u001b[0;31m---------------------------------------------------------------------------\u001b[0m",
      "\u001b[0;31mValueError\u001b[0m                                Traceback (most recent call last)",
      "\u001b[0;32m<ipython-input-27-34b416fb96af>\u001b[0m in \u001b[0;36m<module>\u001b[0;34m\u001b[0m\n\u001b[0;32m----> 1\u001b[0;31m \u001b[0msent\u001b[0m \u001b[0;34m=\u001b[0m \u001b[0mnp\u001b[0m\u001b[0;34m.\u001b[0m\u001b[0mvectorize\u001b[0m\u001b[0;34m(\u001b[0m \u001b[0mtextblob\u001b[0m\u001b[0;34m.\u001b[0m\u001b[0mTextBlob\u001b[0m\u001b[0;34m,\u001b[0m \u001b[0mreviews\u001b[0m\u001b[0;34m.\u001b[0m\u001b[0mcomments\u001b[0m\u001b[0;34m.\u001b[0m\u001b[0mvalues\u001b[0m \u001b[0;34m)\u001b[0m\u001b[0;34m\u001b[0m\u001b[0;34m\u001b[0m\u001b[0m\n\u001b[0m",
      "\u001b[0;32m/usr/local/anaconda3/lib/python3.8/site-packages/numpy/lib/function_base.py\u001b[0m in \u001b[0;36m__init__\u001b[0;34m(self, pyfunc, otypes, doc, excluded, cache, signature)\u001b[0m\n\u001b[1;32m   2259\u001b[0m                     \u001b[0;32mraise\u001b[0m \u001b[0mValueError\u001b[0m\u001b[0;34m(\u001b[0m\u001b[0;34m\"Invalid otype specified: %s\"\u001b[0m \u001b[0;34m%\u001b[0m \u001b[0;34m(\u001b[0m\u001b[0mchar\u001b[0m\u001b[0;34m,\u001b[0m\u001b[0;34m)\u001b[0m\u001b[0;34m)\u001b[0m\u001b[0;34m\u001b[0m\u001b[0;34m\u001b[0m\u001b[0m\n\u001b[1;32m   2260\u001b[0m         \u001b[0;32melif\u001b[0m \u001b[0miterable\u001b[0m\u001b[0;34m(\u001b[0m\u001b[0motypes\u001b[0m\u001b[0;34m)\u001b[0m\u001b[0;34m:\u001b[0m\u001b[0;34m\u001b[0m\u001b[0;34m\u001b[0m\u001b[0m\n\u001b[0;32m-> 2261\u001b[0;31m             \u001b[0motypes\u001b[0m \u001b[0;34m=\u001b[0m \u001b[0;34m''\u001b[0m\u001b[0;34m.\u001b[0m\u001b[0mjoin\u001b[0m\u001b[0;34m(\u001b[0m\u001b[0;34m[\u001b[0m\u001b[0m_nx\u001b[0m\u001b[0;34m.\u001b[0m\u001b[0mdtype\u001b[0m\u001b[0;34m(\u001b[0m\u001b[0mx\u001b[0m\u001b[0;34m)\u001b[0m\u001b[0;34m.\u001b[0m\u001b[0mchar\u001b[0m \u001b[0;32mfor\u001b[0m \u001b[0mx\u001b[0m \u001b[0;32min\u001b[0m \u001b[0motypes\u001b[0m\u001b[0;34m]\u001b[0m\u001b[0;34m)\u001b[0m\u001b[0;34m\u001b[0m\u001b[0;34m\u001b[0m\u001b[0m\n\u001b[0m\u001b[1;32m   2262\u001b[0m         \u001b[0;32melif\u001b[0m \u001b[0motypes\u001b[0m \u001b[0;32mis\u001b[0m \u001b[0;32mnot\u001b[0m \u001b[0;32mNone\u001b[0m\u001b[0;34m:\u001b[0m\u001b[0;34m\u001b[0m\u001b[0;34m\u001b[0m\u001b[0m\n\u001b[1;32m   2263\u001b[0m             \u001b[0;32mraise\u001b[0m \u001b[0mValueError\u001b[0m\u001b[0;34m(\u001b[0m\u001b[0;34m\"Invalid otype specification\"\u001b[0m\u001b[0;34m)\u001b[0m\u001b[0;34m\u001b[0m\u001b[0;34m\u001b[0m\u001b[0m\n",
      "\u001b[0;32m/usr/local/anaconda3/lib/python3.8/site-packages/numpy/lib/function_base.py\u001b[0m in \u001b[0;36m<listcomp>\u001b[0;34m(.0)\u001b[0m\n\u001b[1;32m   2259\u001b[0m                     \u001b[0;32mraise\u001b[0m \u001b[0mValueError\u001b[0m\u001b[0;34m(\u001b[0m\u001b[0;34m\"Invalid otype specified: %s\"\u001b[0m \u001b[0;34m%\u001b[0m \u001b[0;34m(\u001b[0m\u001b[0mchar\u001b[0m\u001b[0;34m,\u001b[0m\u001b[0;34m)\u001b[0m\u001b[0;34m)\u001b[0m\u001b[0;34m\u001b[0m\u001b[0;34m\u001b[0m\u001b[0m\n\u001b[1;32m   2260\u001b[0m         \u001b[0;32melif\u001b[0m \u001b[0miterable\u001b[0m\u001b[0;34m(\u001b[0m\u001b[0motypes\u001b[0m\u001b[0;34m)\u001b[0m\u001b[0;34m:\u001b[0m\u001b[0;34m\u001b[0m\u001b[0;34m\u001b[0m\u001b[0m\n\u001b[0;32m-> 2261\u001b[0;31m             \u001b[0motypes\u001b[0m \u001b[0;34m=\u001b[0m \u001b[0;34m''\u001b[0m\u001b[0;34m.\u001b[0m\u001b[0mjoin\u001b[0m\u001b[0;34m(\u001b[0m\u001b[0;34m[\u001b[0m\u001b[0m_nx\u001b[0m\u001b[0;34m.\u001b[0m\u001b[0mdtype\u001b[0m\u001b[0;34m(\u001b[0m\u001b[0mx\u001b[0m\u001b[0;34m)\u001b[0m\u001b[0;34m.\u001b[0m\u001b[0mchar\u001b[0m \u001b[0;32mfor\u001b[0m \u001b[0mx\u001b[0m \u001b[0;32min\u001b[0m \u001b[0motypes\u001b[0m\u001b[0;34m]\u001b[0m\u001b[0;34m)\u001b[0m\u001b[0;34m\u001b[0m\u001b[0;34m\u001b[0m\u001b[0m\n\u001b[0m\u001b[1;32m   2262\u001b[0m         \u001b[0;32melif\u001b[0m \u001b[0motypes\u001b[0m \u001b[0;32mis\u001b[0m \u001b[0;32mnot\u001b[0m \u001b[0;32mNone\u001b[0m\u001b[0;34m:\u001b[0m\u001b[0;34m\u001b[0m\u001b[0;34m\u001b[0m\u001b[0m\n\u001b[1;32m   2263\u001b[0m             \u001b[0;32mraise\u001b[0m \u001b[0mValueError\u001b[0m\u001b[0;34m(\u001b[0m\u001b[0;34m\"Invalid otype specification\"\u001b[0m\u001b[0;34m)\u001b[0m\u001b[0;34m\u001b[0m\u001b[0;34m\u001b[0m\u001b[0m\n",
      "\u001b[0;32m/usr/local/anaconda3/lib/python3.8/site-packages/numpy/core/_internal.py\u001b[0m in \u001b[0;36m_commastring\u001b[0;34m(astr)\u001b[0m\n\u001b[1;32m    174\u001b[0m                 \u001b[0mmo\u001b[0m \u001b[0;34m=\u001b[0m \u001b[0msep_re\u001b[0m\u001b[0;34m.\u001b[0m\u001b[0mmatch\u001b[0m\u001b[0;34m(\u001b[0m\u001b[0mastr\u001b[0m\u001b[0;34m,\u001b[0m \u001b[0mpos\u001b[0m\u001b[0;34m=\u001b[0m\u001b[0mstartindex\u001b[0m\u001b[0;34m)\u001b[0m\u001b[0;34m\u001b[0m\u001b[0;34m\u001b[0m\u001b[0m\n\u001b[1;32m    175\u001b[0m                 \u001b[0;32mif\u001b[0m \u001b[0;32mnot\u001b[0m \u001b[0mmo\u001b[0m\u001b[0;34m:\u001b[0m\u001b[0;34m\u001b[0m\u001b[0;34m\u001b[0m\u001b[0m\n\u001b[0;32m--> 176\u001b[0;31m                     raise ValueError(\n\u001b[0m\u001b[1;32m    177\u001b[0m                         \u001b[0;34m'format number %d of \"%s\" is not recognized'\u001b[0m \u001b[0;34m%\u001b[0m\u001b[0;34m\u001b[0m\u001b[0;34m\u001b[0m\u001b[0m\n\u001b[1;32m    178\u001b[0m                         (len(result)+1, astr))\n",
      "\u001b[0;31mValueError\u001b[0m: format number 1 of \"Simona was an excellent hostess. The apartment is beautiful (and exactly like it is portrayed in the pictures). Simona made sure the apartment was well stocked with laundry detergent, toilet paper and even brought us a map to help us get around Zurich!  At one point the internet went out, and Simona was very responsive in helping us to solve the issue and get back online right away.  \r<br/>\r<br/>The apartment is clean, bright, airy and very central to trams, busses, shops and the lake. \r<br/>\r<br/>We would LOVE to stay here again when we return to Zurich in the future. \" is not recognized"
     ]
    }
   ],
   "source": [
    "sent = np.vectorize( textblob.TextBlob, reviews.comments.values )"
   ]
  },
  {
   "cell_type": "code",
   "execution_count": 26,
   "metadata": {},
   "outputs": [
    {
     "data": {
      "text/plain": [
       "Sentiment(polarity=0.3546703296703297, subjectivity=0.5018925518925518)"
      ]
     },
     "execution_count": 26,
     "metadata": {},
     "output_type": "execute_result"
    }
   ],
   "source": [
    "sent.sentiment"
   ]
  },
  {
   "cell_type": "code",
   "execution_count": 26,
   "metadata": {},
   "outputs": [
    {
     "name": "stderr",
     "output_type": "stream",
     "text": [
      "Token indices sequence length is longer than the specified maximum sequence length for this model (565 > 512). Running this sequence through the model will result in indexing errors\n"
     ]
    },
    {
     "ename": "InvalidArgumentError",
     "evalue": "Exception encountered when calling layer \"embeddings\" (type TFEmbeddings).\n\nindices[0,560] = 560 is not in [0, 512) [Op:ResourceGather]\n\nCall arguments received:\n  • input_ids=tf.Tensor(shape=(1, 565), dtype=int32)\n  • position_ids=None\n  • inputs_embeds=None\n  • training=False",
     "output_type": "error",
     "traceback": [
      "\u001b[0;31m---------------------------------------------------------------------------\u001b[0m",
      "\u001b[0;31mInvalidArgumentError\u001b[0m                      Traceback (most recent call last)",
      "\u001b[0;32m<ipython-input-26-f0740cf77c4e>\u001b[0m in \u001b[0;36m<module>\u001b[0;34m\u001b[0m\n\u001b[0;32m----> 1\u001b[0;31m \u001b[0mpd\u001b[0m\u001b[0;34m.\u001b[0m\u001b[0mDataFrame\u001b[0m\u001b[0;34m(\u001b[0m \u001b[0msent_pip\u001b[0m\u001b[0;34m(\u001b[0m \u001b[0mreviews\u001b[0m\u001b[0;34m.\u001b[0m\u001b[0mcomments\u001b[0m\u001b[0;34m.\u001b[0m\u001b[0mto_list\u001b[0m\u001b[0;34m(\u001b[0m\u001b[0;34m)\u001b[0m \u001b[0;34m)\u001b[0m \u001b[0;34m)\u001b[0m\u001b[0;34m\u001b[0m\u001b[0;34m\u001b[0m\u001b[0m\n\u001b[0m",
      "\u001b[0;32m/usr/local/anaconda3/lib/python3.8/site-packages/transformers/pipelines/text_classification.py\u001b[0m in \u001b[0;36m__call__\u001b[0;34m(self, *args, **kwargs)\u001b[0m\n\u001b[1;32m    123\u001b[0m             \u001b[0mIf\u001b[0m\u001b[0;31m \u001b[0m\u001b[0;31m`\u001b[0m\u001b[0mself\u001b[0m\u001b[0;34m.\u001b[0m\u001b[0mreturn_all_scores\u001b[0m\u001b[0;34m=\u001b[0m\u001b[0;32mTrue\u001b[0m\u001b[0;31m`\u001b[0m\u001b[0;34m,\u001b[0m \u001b[0mone\u001b[0m \u001b[0msuch\u001b[0m \u001b[0mdictionary\u001b[0m \u001b[0;32mis\u001b[0m \u001b[0mreturned\u001b[0m \u001b[0mper\u001b[0m \u001b[0mlabel\u001b[0m\u001b[0;34m.\u001b[0m\u001b[0;34m\u001b[0m\u001b[0;34m\u001b[0m\u001b[0m\n\u001b[1;32m    124\u001b[0m         \"\"\"\n\u001b[0;32m--> 125\u001b[0;31m         \u001b[0mresult\u001b[0m \u001b[0;34m=\u001b[0m \u001b[0msuper\u001b[0m\u001b[0;34m(\u001b[0m\u001b[0;34m)\u001b[0m\u001b[0;34m.\u001b[0m\u001b[0m__call__\u001b[0m\u001b[0;34m(\u001b[0m\u001b[0;34m*\u001b[0m\u001b[0margs\u001b[0m\u001b[0;34m,\u001b[0m \u001b[0;34m**\u001b[0m\u001b[0mkwargs\u001b[0m\u001b[0;34m)\u001b[0m\u001b[0;34m\u001b[0m\u001b[0;34m\u001b[0m\u001b[0m\n\u001b[0m\u001b[1;32m    126\u001b[0m         \u001b[0;32mif\u001b[0m \u001b[0misinstance\u001b[0m\u001b[0;34m(\u001b[0m\u001b[0margs\u001b[0m\u001b[0;34m[\u001b[0m\u001b[0;36m0\u001b[0m\u001b[0;34m]\u001b[0m\u001b[0;34m,\u001b[0m \u001b[0mstr\u001b[0m\u001b[0;34m)\u001b[0m\u001b[0;34m:\u001b[0m\u001b[0;34m\u001b[0m\u001b[0;34m\u001b[0m\u001b[0m\n\u001b[1;32m    127\u001b[0m             \u001b[0;31m# This pipeline is odd, and return a list when single item is run\u001b[0m\u001b[0;34m\u001b[0m\u001b[0;34m\u001b[0m\u001b[0;34m\u001b[0m\u001b[0m\n",
      "\u001b[0;32m/usr/local/anaconda3/lib/python3.8/site-packages/transformers/pipelines/base.py\u001b[0m in \u001b[0;36m__call__\u001b[0;34m(self, inputs, num_workers, batch_size, *args, **kwargs)\u001b[0m\n\u001b[1;32m   1017\u001b[0m                 \u001b[0;32mreturn\u001b[0m \u001b[0moutputs\u001b[0m\u001b[0;34m\u001b[0m\u001b[0;34m\u001b[0m\u001b[0m\n\u001b[1;32m   1018\u001b[0m             \u001b[0;32melse\u001b[0m\u001b[0;34m:\u001b[0m\u001b[0;34m\u001b[0m\u001b[0;34m\u001b[0m\u001b[0m\n\u001b[0;32m-> 1019\u001b[0;31m                 \u001b[0;32mreturn\u001b[0m \u001b[0mself\u001b[0m\u001b[0;34m.\u001b[0m\u001b[0mrun_multi\u001b[0m\u001b[0;34m(\u001b[0m\u001b[0minputs\u001b[0m\u001b[0;34m,\u001b[0m \u001b[0mpreprocess_params\u001b[0m\u001b[0;34m,\u001b[0m \u001b[0mforward_params\u001b[0m\u001b[0;34m,\u001b[0m \u001b[0mpostprocess_params\u001b[0m\u001b[0;34m)\u001b[0m\u001b[0;34m\u001b[0m\u001b[0;34m\u001b[0m\u001b[0m\n\u001b[0m\u001b[1;32m   1020\u001b[0m         \u001b[0;32melif\u001b[0m \u001b[0mcan_use_iterator\u001b[0m\u001b[0;34m:\u001b[0m\u001b[0;34m\u001b[0m\u001b[0;34m\u001b[0m\u001b[0m\n\u001b[1;32m   1021\u001b[0m             return self.get_iterator(\n",
      "\u001b[0;32m/usr/local/anaconda3/lib/python3.8/site-packages/transformers/pipelines/base.py\u001b[0m in \u001b[0;36mrun_multi\u001b[0;34m(self, inputs, preprocess_params, forward_params, postprocess_params)\u001b[0m\n\u001b[1;32m   1028\u001b[0m \u001b[0;34m\u001b[0m\u001b[0m\n\u001b[1;32m   1029\u001b[0m     \u001b[0;32mdef\u001b[0m \u001b[0mrun_multi\u001b[0m\u001b[0;34m(\u001b[0m\u001b[0mself\u001b[0m\u001b[0;34m,\u001b[0m \u001b[0minputs\u001b[0m\u001b[0;34m,\u001b[0m \u001b[0mpreprocess_params\u001b[0m\u001b[0;34m,\u001b[0m \u001b[0mforward_params\u001b[0m\u001b[0;34m,\u001b[0m \u001b[0mpostprocess_params\u001b[0m\u001b[0;34m)\u001b[0m\u001b[0;34m:\u001b[0m\u001b[0;34m\u001b[0m\u001b[0;34m\u001b[0m\u001b[0m\n\u001b[0;32m-> 1030\u001b[0;31m         \u001b[0;32mreturn\u001b[0m \u001b[0;34m[\u001b[0m\u001b[0mself\u001b[0m\u001b[0;34m.\u001b[0m\u001b[0mrun_single\u001b[0m\u001b[0;34m(\u001b[0m\u001b[0mitem\u001b[0m\u001b[0;34m,\u001b[0m \u001b[0mpreprocess_params\u001b[0m\u001b[0;34m,\u001b[0m \u001b[0mforward_params\u001b[0m\u001b[0;34m,\u001b[0m \u001b[0mpostprocess_params\u001b[0m\u001b[0;34m)\u001b[0m \u001b[0;32mfor\u001b[0m \u001b[0mitem\u001b[0m \u001b[0;32min\u001b[0m \u001b[0minputs\u001b[0m\u001b[0;34m]\u001b[0m\u001b[0;34m\u001b[0m\u001b[0;34m\u001b[0m\u001b[0m\n\u001b[0m\u001b[1;32m   1031\u001b[0m \u001b[0;34m\u001b[0m\u001b[0m\n\u001b[1;32m   1032\u001b[0m     \u001b[0;32mdef\u001b[0m \u001b[0mrun_single\u001b[0m\u001b[0;34m(\u001b[0m\u001b[0mself\u001b[0m\u001b[0;34m,\u001b[0m \u001b[0minputs\u001b[0m\u001b[0;34m,\u001b[0m \u001b[0mpreprocess_params\u001b[0m\u001b[0;34m,\u001b[0m \u001b[0mforward_params\u001b[0m\u001b[0;34m,\u001b[0m \u001b[0mpostprocess_params\u001b[0m\u001b[0;34m)\u001b[0m\u001b[0;34m:\u001b[0m\u001b[0;34m\u001b[0m\u001b[0;34m\u001b[0m\u001b[0m\n",
      "\u001b[0;32m/usr/local/anaconda3/lib/python3.8/site-packages/transformers/pipelines/base.py\u001b[0m in \u001b[0;36m<listcomp>\u001b[0;34m(.0)\u001b[0m\n\u001b[1;32m   1028\u001b[0m \u001b[0;34m\u001b[0m\u001b[0m\n\u001b[1;32m   1029\u001b[0m     \u001b[0;32mdef\u001b[0m \u001b[0mrun_multi\u001b[0m\u001b[0;34m(\u001b[0m\u001b[0mself\u001b[0m\u001b[0;34m,\u001b[0m \u001b[0minputs\u001b[0m\u001b[0;34m,\u001b[0m \u001b[0mpreprocess_params\u001b[0m\u001b[0;34m,\u001b[0m \u001b[0mforward_params\u001b[0m\u001b[0;34m,\u001b[0m \u001b[0mpostprocess_params\u001b[0m\u001b[0;34m)\u001b[0m\u001b[0;34m:\u001b[0m\u001b[0;34m\u001b[0m\u001b[0;34m\u001b[0m\u001b[0m\n\u001b[0;32m-> 1030\u001b[0;31m         \u001b[0;32mreturn\u001b[0m \u001b[0;34m[\u001b[0m\u001b[0mself\u001b[0m\u001b[0;34m.\u001b[0m\u001b[0mrun_single\u001b[0m\u001b[0;34m(\u001b[0m\u001b[0mitem\u001b[0m\u001b[0;34m,\u001b[0m \u001b[0mpreprocess_params\u001b[0m\u001b[0;34m,\u001b[0m \u001b[0mforward_params\u001b[0m\u001b[0;34m,\u001b[0m \u001b[0mpostprocess_params\u001b[0m\u001b[0;34m)\u001b[0m \u001b[0;32mfor\u001b[0m \u001b[0mitem\u001b[0m \u001b[0;32min\u001b[0m \u001b[0minputs\u001b[0m\u001b[0;34m]\u001b[0m\u001b[0;34m\u001b[0m\u001b[0;34m\u001b[0m\u001b[0m\n\u001b[0m\u001b[1;32m   1031\u001b[0m \u001b[0;34m\u001b[0m\u001b[0m\n\u001b[1;32m   1032\u001b[0m     \u001b[0;32mdef\u001b[0m \u001b[0mrun_single\u001b[0m\u001b[0;34m(\u001b[0m\u001b[0mself\u001b[0m\u001b[0;34m,\u001b[0m \u001b[0minputs\u001b[0m\u001b[0;34m,\u001b[0m \u001b[0mpreprocess_params\u001b[0m\u001b[0;34m,\u001b[0m \u001b[0mforward_params\u001b[0m\u001b[0;34m,\u001b[0m \u001b[0mpostprocess_params\u001b[0m\u001b[0;34m)\u001b[0m\u001b[0;34m:\u001b[0m\u001b[0;34m\u001b[0m\u001b[0;34m\u001b[0m\u001b[0m\n",
      "\u001b[0;32m/usr/local/anaconda3/lib/python3.8/site-packages/transformers/pipelines/base.py\u001b[0m in \u001b[0;36mrun_single\u001b[0;34m(self, inputs, preprocess_params, forward_params, postprocess_params)\u001b[0m\n\u001b[1;32m   1032\u001b[0m     \u001b[0;32mdef\u001b[0m \u001b[0mrun_single\u001b[0m\u001b[0;34m(\u001b[0m\u001b[0mself\u001b[0m\u001b[0;34m,\u001b[0m \u001b[0minputs\u001b[0m\u001b[0;34m,\u001b[0m \u001b[0mpreprocess_params\u001b[0m\u001b[0;34m,\u001b[0m \u001b[0mforward_params\u001b[0m\u001b[0;34m,\u001b[0m \u001b[0mpostprocess_params\u001b[0m\u001b[0;34m)\u001b[0m\u001b[0;34m:\u001b[0m\u001b[0;34m\u001b[0m\u001b[0;34m\u001b[0m\u001b[0m\n\u001b[1;32m   1033\u001b[0m         \u001b[0mmodel_inputs\u001b[0m \u001b[0;34m=\u001b[0m \u001b[0mself\u001b[0m\u001b[0;34m.\u001b[0m\u001b[0mpreprocess\u001b[0m\u001b[0;34m(\u001b[0m\u001b[0minputs\u001b[0m\u001b[0;34m,\u001b[0m \u001b[0;34m**\u001b[0m\u001b[0mpreprocess_params\u001b[0m\u001b[0;34m)\u001b[0m\u001b[0;34m\u001b[0m\u001b[0;34m\u001b[0m\u001b[0m\n\u001b[0;32m-> 1034\u001b[0;31m         \u001b[0mmodel_outputs\u001b[0m \u001b[0;34m=\u001b[0m \u001b[0mself\u001b[0m\u001b[0;34m.\u001b[0m\u001b[0mforward\u001b[0m\u001b[0;34m(\u001b[0m\u001b[0mmodel_inputs\u001b[0m\u001b[0;34m,\u001b[0m \u001b[0;34m**\u001b[0m\u001b[0mforward_params\u001b[0m\u001b[0;34m)\u001b[0m\u001b[0;34m\u001b[0m\u001b[0;34m\u001b[0m\u001b[0m\n\u001b[0m\u001b[1;32m   1035\u001b[0m         \u001b[0moutputs\u001b[0m \u001b[0;34m=\u001b[0m \u001b[0mself\u001b[0m\u001b[0;34m.\u001b[0m\u001b[0mpostprocess\u001b[0m\u001b[0;34m(\u001b[0m\u001b[0mmodel_outputs\u001b[0m\u001b[0;34m,\u001b[0m \u001b[0;34m**\u001b[0m\u001b[0mpostprocess_params\u001b[0m\u001b[0;34m)\u001b[0m\u001b[0;34m\u001b[0m\u001b[0;34m\u001b[0m\u001b[0m\n\u001b[1;32m   1036\u001b[0m         \u001b[0;32mreturn\u001b[0m \u001b[0moutputs\u001b[0m\u001b[0;34m\u001b[0m\u001b[0;34m\u001b[0m\u001b[0m\n",
      "\u001b[0;32m/usr/local/anaconda3/lib/python3.8/site-packages/transformers/pipelines/base.py\u001b[0m in \u001b[0;36mforward\u001b[0;34m(self, model_inputs, **forward_params)\u001b[0m\n\u001b[1;32m    937\u001b[0m             \u001b[0;32mif\u001b[0m \u001b[0mself\u001b[0m\u001b[0;34m.\u001b[0m\u001b[0mframework\u001b[0m \u001b[0;34m==\u001b[0m \u001b[0;34m\"tf\"\u001b[0m\u001b[0;34m:\u001b[0m\u001b[0;34m\u001b[0m\u001b[0;34m\u001b[0m\u001b[0m\n\u001b[1;32m    938\u001b[0m                 \u001b[0mmodel_inputs\u001b[0m\u001b[0;34m[\u001b[0m\u001b[0;34m\"training\"\u001b[0m\u001b[0;34m]\u001b[0m \u001b[0;34m=\u001b[0m \u001b[0;32mFalse\u001b[0m\u001b[0;34m\u001b[0m\u001b[0;34m\u001b[0m\u001b[0m\n\u001b[0;32m--> 939\u001b[0;31m                 \u001b[0mmodel_outputs\u001b[0m \u001b[0;34m=\u001b[0m \u001b[0mself\u001b[0m\u001b[0;34m.\u001b[0m\u001b[0m_forward\u001b[0m\u001b[0;34m(\u001b[0m\u001b[0mmodel_inputs\u001b[0m\u001b[0;34m,\u001b[0m \u001b[0;34m**\u001b[0m\u001b[0mforward_params\u001b[0m\u001b[0;34m)\u001b[0m\u001b[0;34m\u001b[0m\u001b[0;34m\u001b[0m\u001b[0m\n\u001b[0m\u001b[1;32m    940\u001b[0m             \u001b[0;32melif\u001b[0m \u001b[0mself\u001b[0m\u001b[0;34m.\u001b[0m\u001b[0mframework\u001b[0m \u001b[0;34m==\u001b[0m \u001b[0;34m\"pt\"\u001b[0m\u001b[0;34m:\u001b[0m\u001b[0;34m\u001b[0m\u001b[0;34m\u001b[0m\u001b[0m\n\u001b[1;32m    941\u001b[0m                 \u001b[0minference_context\u001b[0m \u001b[0;34m=\u001b[0m \u001b[0mself\u001b[0m\u001b[0;34m.\u001b[0m\u001b[0mget_inference_context\u001b[0m\u001b[0;34m(\u001b[0m\u001b[0;34m)\u001b[0m\u001b[0;34m\u001b[0m\u001b[0;34m\u001b[0m\u001b[0m\n",
      "\u001b[0;32m/usr/local/anaconda3/lib/python3.8/site-packages/transformers/pipelines/text_classification.py\u001b[0m in \u001b[0;36m_forward\u001b[0;34m(self, model_inputs)\u001b[0m\n\u001b[1;32m    135\u001b[0m \u001b[0;34m\u001b[0m\u001b[0m\n\u001b[1;32m    136\u001b[0m     \u001b[0;32mdef\u001b[0m \u001b[0m_forward\u001b[0m\u001b[0;34m(\u001b[0m\u001b[0mself\u001b[0m\u001b[0;34m,\u001b[0m \u001b[0mmodel_inputs\u001b[0m\u001b[0;34m)\u001b[0m\u001b[0;34m:\u001b[0m\u001b[0;34m\u001b[0m\u001b[0;34m\u001b[0m\u001b[0m\n\u001b[0;32m--> 137\u001b[0;31m         \u001b[0;32mreturn\u001b[0m \u001b[0mself\u001b[0m\u001b[0;34m.\u001b[0m\u001b[0mmodel\u001b[0m\u001b[0;34m(\u001b[0m\u001b[0;34m**\u001b[0m\u001b[0mmodel_inputs\u001b[0m\u001b[0;34m)\u001b[0m\u001b[0;34m\u001b[0m\u001b[0;34m\u001b[0m\u001b[0m\n\u001b[0m\u001b[1;32m    138\u001b[0m \u001b[0;34m\u001b[0m\u001b[0m\n\u001b[1;32m    139\u001b[0m     \u001b[0;32mdef\u001b[0m \u001b[0mpostprocess\u001b[0m\u001b[0;34m(\u001b[0m\u001b[0mself\u001b[0m\u001b[0;34m,\u001b[0m \u001b[0mmodel_outputs\u001b[0m\u001b[0;34m,\u001b[0m \u001b[0mfunction_to_apply\u001b[0m\u001b[0;34m=\u001b[0m\u001b[0;32mNone\u001b[0m\u001b[0;34m,\u001b[0m \u001b[0mreturn_all_scores\u001b[0m\u001b[0;34m=\u001b[0m\u001b[0;32mFalse\u001b[0m\u001b[0;34m)\u001b[0m\u001b[0;34m:\u001b[0m\u001b[0;34m\u001b[0m\u001b[0;34m\u001b[0m\u001b[0m\n",
      "\u001b[0;32m/usr/local/anaconda3/lib/python3.8/site-packages/keras/utils/traceback_utils.py\u001b[0m in \u001b[0;36merror_handler\u001b[0;34m(*args, **kwargs)\u001b[0m\n\u001b[1;32m     65\u001b[0m     \u001b[0;32mexcept\u001b[0m \u001b[0mException\u001b[0m \u001b[0;32mas\u001b[0m \u001b[0me\u001b[0m\u001b[0;34m:\u001b[0m  \u001b[0;31m# pylint: disable=broad-except\u001b[0m\u001b[0;34m\u001b[0m\u001b[0;34m\u001b[0m\u001b[0m\n\u001b[1;32m     66\u001b[0m       \u001b[0mfiltered_tb\u001b[0m \u001b[0;34m=\u001b[0m \u001b[0m_process_traceback_frames\u001b[0m\u001b[0;34m(\u001b[0m\u001b[0me\u001b[0m\u001b[0;34m.\u001b[0m\u001b[0m__traceback__\u001b[0m\u001b[0;34m)\u001b[0m\u001b[0;34m\u001b[0m\u001b[0;34m\u001b[0m\u001b[0m\n\u001b[0;32m---> 67\u001b[0;31m       \u001b[0;32mraise\u001b[0m \u001b[0me\u001b[0m\u001b[0;34m.\u001b[0m\u001b[0mwith_traceback\u001b[0m\u001b[0;34m(\u001b[0m\u001b[0mfiltered_tb\u001b[0m\u001b[0;34m)\u001b[0m \u001b[0;32mfrom\u001b[0m \u001b[0;32mNone\u001b[0m\u001b[0;34m\u001b[0m\u001b[0;34m\u001b[0m\u001b[0m\n\u001b[0m\u001b[1;32m     68\u001b[0m     \u001b[0;32mfinally\u001b[0m\u001b[0;34m:\u001b[0m\u001b[0;34m\u001b[0m\u001b[0;34m\u001b[0m\u001b[0m\n\u001b[1;32m     69\u001b[0m       \u001b[0;32mdel\u001b[0m \u001b[0mfiltered_tb\u001b[0m\u001b[0;34m\u001b[0m\u001b[0;34m\u001b[0m\u001b[0m\n",
      "\u001b[0;32m/usr/local/anaconda3/lib/python3.8/site-packages/transformers/models/distilbert/modeling_tf_distilbert.py\u001b[0m in \u001b[0;36mcall\u001b[0;34m(self, input_ids, attention_mask, head_mask, inputs_embeds, output_attentions, output_hidden_states, return_dict, labels, training, **kwargs)\u001b[0m\n\u001b[1;32m    795\u001b[0m             \u001b[0mkwargs_call\u001b[0m\u001b[0;34m=\u001b[0m\u001b[0mkwargs\u001b[0m\u001b[0;34m,\u001b[0m\u001b[0;34m\u001b[0m\u001b[0;34m\u001b[0m\u001b[0m\n\u001b[1;32m    796\u001b[0m         )\n\u001b[0;32m--> 797\u001b[0;31m         distilbert_output = self.distilbert(\n\u001b[0m\u001b[1;32m    798\u001b[0m             \u001b[0minput_ids\u001b[0m\u001b[0;34m=\u001b[0m\u001b[0minputs\u001b[0m\u001b[0;34m[\u001b[0m\u001b[0;34m\"input_ids\"\u001b[0m\u001b[0;34m]\u001b[0m\u001b[0;34m,\u001b[0m\u001b[0;34m\u001b[0m\u001b[0;34m\u001b[0m\u001b[0m\n\u001b[1;32m    799\u001b[0m             \u001b[0mattention_mask\u001b[0m\u001b[0;34m=\u001b[0m\u001b[0minputs\u001b[0m\u001b[0;34m[\u001b[0m\u001b[0;34m\"attention_mask\"\u001b[0m\u001b[0;34m]\u001b[0m\u001b[0;34m,\u001b[0m\u001b[0;34m\u001b[0m\u001b[0;34m\u001b[0m\u001b[0m\n",
      "\u001b[0;32m/usr/local/anaconda3/lib/python3.8/site-packages/transformers/models/distilbert/modeling_tf_distilbert.py\u001b[0m in \u001b[0;36mcall\u001b[0;34m(self, input_ids, attention_mask, head_mask, inputs_embeds, output_attentions, output_hidden_states, return_dict, training, **kwargs)\u001b[0m\n\u001b[1;32m    410\u001b[0m             \u001b[0minputs\u001b[0m\u001b[0;34m[\u001b[0m\u001b[0;34m\"head_mask\"\u001b[0m\u001b[0;34m]\u001b[0m \u001b[0;34m=\u001b[0m \u001b[0;34m[\u001b[0m\u001b[0;32mNone\u001b[0m\u001b[0;34m]\u001b[0m \u001b[0;34m*\u001b[0m \u001b[0mself\u001b[0m\u001b[0;34m.\u001b[0m\u001b[0mnum_hidden_layers\u001b[0m\u001b[0;34m\u001b[0m\u001b[0;34m\u001b[0m\u001b[0m\n\u001b[1;32m    411\u001b[0m \u001b[0;34m\u001b[0m\u001b[0m\n\u001b[0;32m--> 412\u001b[0;31m         embedding_output = self.embeddings(\n\u001b[0m\u001b[1;32m    413\u001b[0m             \u001b[0minputs\u001b[0m\u001b[0;34m[\u001b[0m\u001b[0;34m\"input_ids\"\u001b[0m\u001b[0;34m]\u001b[0m\u001b[0;34m,\u001b[0m \u001b[0minputs_embeds\u001b[0m\u001b[0;34m=\u001b[0m\u001b[0minputs\u001b[0m\u001b[0;34m[\u001b[0m\u001b[0;34m\"inputs_embeds\"\u001b[0m\u001b[0;34m]\u001b[0m\u001b[0;34m\u001b[0m\u001b[0;34m\u001b[0m\u001b[0m\n\u001b[1;32m    414\u001b[0m         )  # (bs, seq_length, dim)\n",
      "\u001b[0;32m/usr/local/anaconda3/lib/python3.8/site-packages/transformers/models/distilbert/modeling_tf_distilbert.py\u001b[0m in \u001b[0;36mcall\u001b[0;34m(self, input_ids, position_ids, inputs_embeds, training)\u001b[0m\n\u001b[1;32m    115\u001b[0m             \u001b[0mposition_ids\u001b[0m \u001b[0;34m=\u001b[0m \u001b[0mtf\u001b[0m\u001b[0;34m.\u001b[0m\u001b[0mexpand_dims\u001b[0m\u001b[0;34m(\u001b[0m\u001b[0mtf\u001b[0m\u001b[0;34m.\u001b[0m\u001b[0mrange\u001b[0m\u001b[0;34m(\u001b[0m\u001b[0mstart\u001b[0m\u001b[0;34m=\u001b[0m\u001b[0;36m0\u001b[0m\u001b[0;34m,\u001b[0m \u001b[0mlimit\u001b[0m\u001b[0;34m=\u001b[0m\u001b[0minput_shape\u001b[0m\u001b[0;34m[\u001b[0m\u001b[0;34m-\u001b[0m\u001b[0;36m1\u001b[0m\u001b[0;34m]\u001b[0m\u001b[0;34m)\u001b[0m\u001b[0;34m,\u001b[0m \u001b[0maxis\u001b[0m\u001b[0;34m=\u001b[0m\u001b[0;36m0\u001b[0m\u001b[0;34m)\u001b[0m\u001b[0;34m\u001b[0m\u001b[0;34m\u001b[0m\u001b[0m\n\u001b[1;32m    116\u001b[0m \u001b[0;34m\u001b[0m\u001b[0m\n\u001b[0;32m--> 117\u001b[0;31m         \u001b[0mposition_embeds\u001b[0m \u001b[0;34m=\u001b[0m \u001b[0mtf\u001b[0m\u001b[0;34m.\u001b[0m\u001b[0mgather\u001b[0m\u001b[0;34m(\u001b[0m\u001b[0mparams\u001b[0m\u001b[0;34m=\u001b[0m\u001b[0mself\u001b[0m\u001b[0;34m.\u001b[0m\u001b[0mposition_embeddings\u001b[0m\u001b[0;34m,\u001b[0m \u001b[0mindices\u001b[0m\u001b[0;34m=\u001b[0m\u001b[0mposition_ids\u001b[0m\u001b[0;34m)\u001b[0m\u001b[0;34m\u001b[0m\u001b[0;34m\u001b[0m\u001b[0m\n\u001b[0m\u001b[1;32m    118\u001b[0m         \u001b[0mfinal_embeddings\u001b[0m \u001b[0;34m=\u001b[0m \u001b[0minputs_embeds\u001b[0m \u001b[0;34m+\u001b[0m \u001b[0mposition_embeds\u001b[0m\u001b[0;34m\u001b[0m\u001b[0;34m\u001b[0m\u001b[0m\n\u001b[1;32m    119\u001b[0m         \u001b[0mfinal_embeddings\u001b[0m \u001b[0;34m=\u001b[0m \u001b[0mself\u001b[0m\u001b[0;34m.\u001b[0m\u001b[0mLayerNorm\u001b[0m\u001b[0;34m(\u001b[0m\u001b[0minputs\u001b[0m\u001b[0;34m=\u001b[0m\u001b[0mfinal_embeddings\u001b[0m\u001b[0;34m)\u001b[0m\u001b[0;34m\u001b[0m\u001b[0;34m\u001b[0m\u001b[0m\n",
      "\u001b[0;31mInvalidArgumentError\u001b[0m: Exception encountered when calling layer \"embeddings\" (type TFEmbeddings).\n\nindices[0,560] = 560 is not in [0, 512) [Op:ResourceGather]\n\nCall arguments received:\n  • input_ids=tf.Tensor(shape=(1, 565), dtype=int32)\n  • position_ids=None\n  • inputs_embeds=None\n  • training=False"
     ]
    }
   ],
   "source": [
    "pd.DataFrame( sent_pip( reviews.comments.to_list() ) )"
   ]
  },
  {
   "cell_type": "code",
   "execution_count": 27,
   "metadata": {},
   "outputs": [],
   "source": [
    "sent_pip?"
   ]
  },
  {
   "cell_type": "markdown",
   "metadata": {},
   "source": [
    "### Join Datasets"
   ]
  },
  {
   "cell_type": "code",
   "execution_count": 58,
   "metadata": {},
   "outputs": [],
   "source": [
    "reviews.join( listings, \"\", \"inner\" )"
   ]
  },
  {
   "cell_type": "markdown",
   "metadata": {},
   "source": [
    "### Question: Best scoring locations"
   ]
  },
  {
   "cell_type": "code",
   "execution_count": 25,
   "metadata": {},
   "outputs": [],
   "source": [
    "df_loc = listings[[\"latitude\", \"longitude\", \"review_scores_location\"]]"
   ]
  },
  {
   "cell_type": "markdown",
   "metadata": {},
   "source": [
    "Check if we have longitude and latitude for every listing."
   ]
  },
  {
   "cell_type": "code",
   "execution_count": 26,
   "metadata": {},
   "outputs": [
    {
     "data": {
      "text/plain": [
       "True"
      ]
     },
     "execution_count": 26,
     "metadata": {},
     "output_type": "execute_result"
    }
   ],
   "source": [
    "df_loc.longitude.isnull().sum() == 0 and df_loc.latitude.isnull().sum() == 0"
   ]
  },
  {
   "cell_type": "markdown",
   "metadata": {},
   "source": [
    "What percentage of location scores is NaN?"
   ]
  },
  {
   "cell_type": "code",
   "execution_count": 27,
   "metadata": {},
   "outputs": [
    {
     "data": {
      "text/plain": [
       "0.20913978494623656"
      ]
     },
     "execution_count": 27,
     "metadata": {},
     "output_type": "execute_result"
    }
   ],
   "source": [
    "df_loc.review_scores_location.isnull().sum()/df_loc.shape[0]"
   ]
  },
  {
   "cell_type": "markdown",
   "metadata": {},
   "source": [
    "Roughly one fifth of rows are without a score for the location. We could either drop these before processing or inject a mean value. We follow the second approach here. If a guest does not review the location, we assume he has a neutral opinion here without ups or downs."
   ]
  },
  {
   "cell_type": "code",
   "execution_count": 28,
   "metadata": {},
   "outputs": [],
   "source": [
    "df_loc_filled = df_loc.fillna( value=df_loc.review_scores_location.mean(), axis=0 )"
   ]
  },
  {
   "cell_type": "code",
   "execution_count": 29,
   "metadata": {},
   "outputs": [
    {
     "data": {
      "text/plain": [
       "<matplotlib.axes._subplots.AxesSubplot at 0x7f8a5fd49490>"
      ]
     },
     "execution_count": 29,
     "metadata": {},
     "output_type": "execute_result"
    },
    {
     "data": {
      "image/png": "[encoded data removed]",
      "text/plain": [
       "<Figure size 432x288 with 2 Axes>"
      ]
     },
     "metadata": {
      "needs_background": "light"
     },
     "output_type": "display_data"
    }
   ],
   "source": [
    "df_loc_filled.plot.scatter( x=\"longitude\", y=\"latitude\", c=\"review_scores_location\" )"
   ]
  },
  {
   "cell_type": "code",
   "execution_count": 50,
   "metadata": {},
   "outputs": [
    {
     "data": {
      "text/html": [
       "<div style=\"width:100%;\"><div style=\"position:relative;width:100%;height:0;padding-bottom:60%;\"><span style=\"color:#565656\">Make this Notebook Trusted to load map: File -> Trust Notebook</span><iframe src=\"about:blank\" style=\"position:absolute;width:100%;height:100%;left:0;top:0;border:none !important;\" data-html=%3C%21DOCTYPE%20html%3E%0A%3Chead%3E%20%20%20%20%0A%20%20%20%20%3Cmeta%20http-equiv%3D%22content-type%22%20content%3D%22text/html%3B%20charset%3DUTF-8%22%20/%3E%0A%20%20%20%20%0A%20%20%20%20%20%20%20%20%3Cscript%3E%0A%20%20%20%20%20%20%20%20%20%20%20%20L_NO_TOUCH%20%3D%20false%3B%0A%20%20%20%20%20%20%20%20%20%20%20%20L_DISABLE_3D%20%3D%20false%3B%0A%20%20%20%20%20%20%20%20%3C/script%3E%0A%20%20%20%20%0A%20%20%20%20%3Cstyle%3Ehtml%2C%20body%20%7Bwidth%3A%20100%25%3Bheight%3A%20100%25%3Bmargin%3A%200%3Bpadding%3A%200%3B%7D%3C/style%3E%0A%20%20%20%20%3Cstyle%3E%23map%20%7Bposition%3Aabsolute%3Btop%3A0%3Bbottom%3A0%3Bright%3A0%3Bleft%3A0%3B%7D%3C/style%3E%0A%20%20%20%20%3Cscript%20src%3D%22https%3A//cdn.jsdelivr.net/npm/leaflet%401.6.0/dist/leaflet.js%22%3E%3C/script%3E%0A%20%20%20%20%3Cscript%20src%3D%22https%3A//code.jquery.com/jquery-1.12.4.min.js%22%3E%3C/script%3E%0A%20%20%20%20%3Cscript%20src%3D%22https%3A//maxcdn.bootstrapcdn.com/bootstrap/3.2.0/js/bootstrap.min.js%22%3E%3C/script%3E%0A%20%20%20%20%3Cscript%20src%3D%22https%3A//cdnjs.cloudflare.com/ajax/libs/Leaflet.awesome-markers/2.0.2/leaflet.awesome-markers.js%22%3E%3C/script%3E%0A%20%20%20%20%3Clink%20rel%3D%22stylesheet%22%20href%3D%22https%3A//cdn.jsdelivr.net/npm/leaflet%401.6.0/dist/leaflet.css%22/%3E%0A%20%20%20%20%3Clink%20rel%3D%22stylesheet%22%20href%3D%22https%3A//maxcdn.bootstrapcdn.com/bootstrap/3.2.0/css/bootstrap.min.css%22/%3E%0A%20%20%20%20%3Clink%20rel%3D%22stylesheet%22%20href%3D%22https%3A//maxcdn.bootstrapcdn.com/bootstrap/3.2.0/css/bootstrap-theme.min.css%22/%3E%0A%20%20%20%20%3Clink%20rel%3D%22stylesheet%22%20href%3D%22https%3A//maxcdn.bootstrapcdn.com/font-awesome/4.6.3/css/font-awesome.min.css%22/%3E%0A%20%20%20%20%3Clink%20rel%3D%22stylesheet%22%20href%3D%22https%3A//cdnjs.cloudflare.com/ajax/libs/Leaflet.awesome-markers/2.0.2/leaflet.awesome-markers.css%22/%3E%0A%20%20%20%20%3Clink%20rel%3D%22stylesheet%22%20href%3D%22https%3A//cdn.jsdelivr.net/gh/python-visualization/folium/folium/templates/leaflet.awesome.rotate.min.css%22/%3E%0A%20%20%20%20%0A%20%20%20%20%20%20%20%20%20%20%20%20%3Cmeta%20name%3D%22viewport%22%20content%3D%22width%3Ddevice-width%2C%0A%20%20%20%20%20%20%20%20%20%20%20%20%20%20%20%20initial-scale%3D1.0%2C%20maximum-scale%3D1.0%2C%20user-scalable%3Dno%22%20/%3E%0A%20%20%20%20%20%20%20%20%20%20%20%20%3Cstyle%3E%0A%20%20%20%20%20%20%20%20%20%20%20%20%20%20%20%20%23map_cc5786a43c4944b1b6af2aae9c12fb12%20%7B%0A%20%20%20%20%20%20%20%20%20%20%20%20%20%20%20%20%20%20%20%20position%3A%20relative%3B%0A%20%20%20%20%20%20%20%20%20%20%20%20%20%20%20%20%20%20%20%20width%3A%20100.0%25%3B%0A%20%20%20%20%20%20%20%20%20%20%20%20%20%20%20%20%20%20%20%20height%3A%20100.0%25%3B%0A%20%20%20%20%20%20%20%20%20%20%20%20%20%20%20%20%20%20%20%20left%3A%200.0%25%3B%0A%20%20%20%20%20%20%20%20%20%20%20%20%20%20%20%20%20%20%20%20top%3A%200.0%25%3B%0A%20%20%20%20%20%20%20%20%20%20%20%20%20%20%20%20%7D%0A%20%20%20%20%20%20%20%20%20%20%20%20%3C/style%3E%0A%20%20%20%20%20%20%20%20%0A%20%20%20%20%3Cscript%20src%3D%22https%3A//cdn.jsdelivr.net/gh/python-visualization/folium%40master/folium/templates/leaflet_heat.min.js%22%3E%3C/script%3E%0A%3C/head%3E%0A%3Cbody%3E%20%20%20%20%0A%20%20%20%20%0A%20%20%20%20%20%20%20%20%20%20%20%20%3Cdiv%20class%3D%22folium-map%22%20id%3D%22map_cc5786a43c4944b1b6af2aae9c12fb12%22%20%3E%3C/div%3E%0A%20%20%20%20%20%20%20%20%0A%3C/body%3E%0A%3Cscript%3E%20%20%20%20%0A%20%20%20%20%0A%20%20%20%20%20%20%20%20%20%20%20%20var%20map_cc5786a43c4944b1b6af2aae9c12fb12%20%3D%20L.map%28%0A%20%20%20%20%20%20%20%20%20%20%20%20%20%20%20%20%22map_cc5786a43c4944b1b6af2aae9c12fb12%22%2C%0A%20%20%20%20%20%20%20%20%20%20%20%20%20%20%20%20%7B%0A%20%20%20%20%20%20%20%20%20%20%20%20%20%20%20%20%20%20%20%20center%3A%20%5B47.378094101200475%2C%208.532965369174615%5D%2C%0A%20%20%20%20%20%20%20%20%20%20%20%20%20%20%20%20%20%20%20%20crs%3A%20L.CRS.EPSG3857%2C%0A%20%20%20%20%20%20%20%20%20%20%20%20%20%20%20%20%20%20%20%20zoom%3A%2012.0%2C%0A%20%20%20%20%20%20%20%20%20%20%20%20%20%20%20%20%20%20%20%20zoomControl%3A%20true%2C%0A%20%20%20%20%20%20%20%20%20%20%20%20%20%20%20%20%20%20%20%20preferCanvas%3A%20false%2C%0A%20%20%20%20%20%20%20%20%20%20%20%20%20%20%20%20%7D%0A%20%20%20%20%20%20%20%20%20%20%20%20%29%3B%0A%0A%20%20%20%20%20%20%20%20%20%20%20%20%0A%0A%20%20%20%20%20%20%20%20%0A%20%20%20%20%0A%20%20%20%20%20%20%20%20%20%20%20%20var%20tile_layer_c1fd22d3a2f5499face8e0d9930a09ef%20%3D%20L.tileLayer%28%0A%20%20%20%20%20%20%20%20%20%20%20%20%20%20%20%20%22https%3A//stamen-tiles-%7Bs%7D.a.ssl.fastly.net/toner/%7Bz%7D/%7Bx%7D/%7By%7D.png%22%2C%0A%20%20%20%20%20%20%20%20%20%20%20%20%20%20%20%20%7B%22attribution%22%3A%20%22Map%20tiles%20by%20%5Cu003ca%20href%3D%5C%22http%3A//stamen.com%5C%22%5Cu003eStamen%20Design%5Cu003c/a%5Cu003e%2C%20under%20%5Cu003ca%20href%3D%5C%22http%3A//creativecommons.org/licenses/by/3.0%5C%22%5Cu003eCC%20BY%203.0%5Cu003c/a%5Cu003e.%20Data%20by%20%5Cu0026copy%3B%20%5Cu003ca%20href%3D%5C%22http%3A//openstreetmap.org%5C%22%5Cu003eOpenStreetMap%5Cu003c/a%5Cu003e%2C%20under%20%5Cu003ca%20href%3D%5C%22http%3A//www.openstreetmap.org/copyright%5C%22%5Cu003eODbL%5Cu003c/a%5Cu003e.%22%2C%20%22detectRetina%22%3A%20false%2C%20%22maxNativeZoom%22%3A%2018%2C%20%22maxZoom%22%3A%2018%2C%20%22minZoom%22%3A%200%2C%20%22noWrap%22%3A%20false%2C%20%22opacity%22%3A%201%2C%20%22subdomains%22%3A%20%22abc%22%2C%20%22tms%22%3A%20false%7D%0A%20%20%20%20%20%20%20%20%20%20%20%20%29.addTo%28map_cc5786a43c4944b1b6af2aae9c12fb12%29%3B%0A%20%20%20%20%20%20%20%20%0A%20%20%20%20%0A%20%20%20%20%20%20%20%20%20%20%20%20var%20heat_map_957fd4fb79064ce2932ebeaf5346869c%20%3D%20L.heatLayer%28%0A%20%20%20%20%20%20%20%20%20%20%20%20%20%20%20%20%5B%5B47.373740000000005%2C%208.51957%2C%204.71%5D%2C%20%5B47.38038%2C%208.504610000000001%2C%204.6%5D%2C%20%5B47.357240000000004%2C%208.52304%2C%204.796838885112169%5D%2C%20%5B47.36565%2C%208.52753%2C%205.0%5D%2C%20%5B47.40656%2C%208.48465%2C%204.796838885112169%5D%2C%20%5B47.3788%2C%208.507660000000001%2C%204.796838885112169%5D%2C%20%5B47.33463%2C%208.54117%2C%204.76%5D%2C%20%5B47.38942%2C%208.51881%2C%204.93%5D%2C%20%5B47.38326%2C%208.52718%2C%204.67%5D%2C%20%5B47.372840000000004%2C%208.543239999999999%2C%204.94%5D%2C%20%5B47.37896%2C%208.50787%2C%204.89%5D%2C%20%5B47.36802%2C%208.54813%2C%204.85%5D%2C%20%5B47.37572%2C%208.51291%2C%204.63%5D%2C%20%5B47.39185%2C%208.48432%2C%204.88%5D%2C%20%5B47.389379999999996%2C%208.51844%2C%204.9%5D%2C%20%5B47.37008%2C%208.51368%2C%204.84%5D%2C%20%5B47.40419%2C%208.49593%2C%205.0%5D%2C%20%5B47.36867%2C%208.49841%2C%204.75%5D%2C%20%5B47.40703%2C%208.55232%2C%204.7%5D%2C%20%5B47.39232%2C%208.52876%2C%204.96%5D%2C%20%5B47.38003%2C%208.508289999999999%2C%204.64%5D%2C%20%5B47.37408%2C%208.530710000000001%2C%204.98%5D%2C%20%5B47.3748%2C%208.52668%2C%204.81%5D%2C%20%5B47.39354%2C%208.53019%2C%204.88%5D%2C%20%5B47.3937%2C%208.52998%2C%204.27%5D%2C%20%5B47.36592%2C%208.51377%2C%205.0%5D%2C%20%5B47.35468%2C%208.48535%2C%204.53%5D%2C%20%5B47.33715%2C%208.53265%2C%204.75%5D%2C%20%5B47.426590000000004%2C%208.546569%2C%204.73%5D%2C%20%5B47.35223%2C%208.562710000000001%2C%204.796838885112169%5D%2C%20%5B47.4013%2C%208.56972%2C%204.69%5D%2C%20%5B47.37449%2C%208.52116%2C%204.93%5D%2C%20%5B47.37802%2C%208.53171%2C%204.92%5D%2C%20%5B47.37744%2C%208.50882%2C%204.91%5D%2C%20%5B47.388999999999996%2C%208.52345%2C%204.25%5D%2C%20%5B47.36202%2C%208.52058%2C%205.0%5D%2C%20%5B47.379290000000005%2C%208.5352%2C%204.89%5D%2C%20%5B47.39396%2C%208.508289999999999%2C%204.0%5D%2C%20%5B47.35725%2C%208.556989999999999%2C%205.0%5D%2C%20%5B47.364059999999995%2C%208.55057%2C%204.796838885112169%5D%2C%20%5B47.34836%2C%208.56548%2C%204.88%5D%2C%20%5B47.363929999999996%2C%208.548869999999999%2C%204.99%5D%2C%20%5B47.36508%2C%208.57226%2C%204.67%5D%2C%20%5B47.3661%2C%208.50282%2C%204.15%5D%2C%20%5B47.36063%2C%208.53471%2C%204.92%5D%2C%20%5B47.33142%2C%208.5374%2C%204.69%5D%2C%20%5B47.395%2C%208.534419999999999%2C%204.87%5D%2C%20%5B47.40245%2C%208.58832%2C%203.93%5D%2C%20%5B47.35242%2C%208.57012%2C%204.796838885112169%5D%2C%20%5B47.40782%2C%208.55461%2C%204.83%5D%2C%20%5B47.38302%2C%208.54983%2C%204.87%5D%2C%20%5B47.38435%2C%208.53154%2C%204.87%5D%2C%20%5B47.36538%2C%208.52406%2C%204.88%5D%2C%20%5B47.36562%2C%208.55729%2C%204.84%5D%2C%20%5B47.36463%2C%208.54884%2C%205.0%5D%2C%20%5B47.379690000000004%2C%208.55919%2C%204.796838885112169%5D%2C%20%5B47.36724%2C%208.551789999999999%2C%204.67%5D%2C%20%5B47.3681%2C%208.551160000000001%2C%204.63%5D%2C%20%5B47.36401%2C%208.550469999999999%2C%205.0%5D%2C%20%5B47.38015%2C%208.49808%2C%204.78%5D%2C%20%5B47.394079999999995%2C%208.53195%2C%204.9%5D%2C%20%5B47.37015%2C%208.52678%2C%204.85%5D%2C%20%5B47.36288%2C%208.52304%2C%204.55%5D%2C%20%5B47.366440000000004%2C%208.56301%2C%204.89%5D%2C%20%5B47.42541%2C%208.49986%2C%204.51%5D%2C%20%5B47.366440000000004%2C%208.56301%2C%204.83%5D%2C%20%5B47.38015%2C%208.52768%2C%204.62%5D%2C%20%5B47.36589%2C%208.56362%2C%204.86%5D%2C%20%5B47.36407%2C%208.52113%2C%204.73%5D%2C%20%5B47.3673%2C%208.55255%2C%204.92%5D%2C%20%5B47.32768%2C%208.5151%2C%204.62%5D%2C%20%5B47.37315%2C%208.5458%2C%204.83%5D%2C%20%5B47.36347%2C%208.517489999999999%2C%204.4%5D%2C%20%5B47.373459999999994%2C%208.51491%2C%204.9%5D%2C%20%5B47.40424%2C%208.54829%2C%204.79%5D%2C%20%5B47.37475%2C%208.544130000000001%2C%204.95%5D%2C%20%5B47.33763%2C%208.53492%2C%204.67%5D%2C%20%5B47.3409%2C%208.53246%2C%204.64%5D%2C%20%5B47.37396%2C%208.542910000000001%2C%204.93%5D%2C%20%5B47.390190000000004%2C%208.52018%2C%204.82%5D%2C%20%5B47.37638%2C%208.54463%2C%204.96%5D%2C%20%5B47.372890000000005%2C%208.54145%2C%204.97%5D%2C%20%5B47.37738%2C%208.54754%2C%204.93%5D%2C%20%5B47.38644%2C%208.503169999999999%2C%204.67%5D%2C%20%5B47.38644%2C%208.503169999999999%2C%204.33%5D%2C%20%5B47.38644%2C%208.503169999999999%2C%204.44%5D%2C%20%5B47.38644%2C%208.503169999999999%2C%204.67%5D%2C%20%5B47.37505%2C%208.54372%2C%204.89%5D%2C%20%5B47.37505%2C%208.54372%2C%204.3%5D%2C%20%5B47.362429999999996%2C%208.54878%2C%204.86%5D%2C%20%5B47.37468%2C%208.54342%2C%204.9%5D%2C%20%5B47.37468%2C%208.54342%2C%204.81%5D%2C%20%5B47.37468%2C%208.54342%2C%204.9%5D%2C%20%5B47.37468%2C%208.54342%2C%205.0%5D%2C%20%5B47.37641%2C%208.51478%2C%204.93%5D%2C%20%5B47.37468%2C%208.54342%2C%204.91%5D%2C%20%5B47.35072%2C%208.561910000000001%2C%204.74%5D%2C%20%5B47.40503%2C%208.551%2C%204.89%5D%2C%20%5B47.37958%2C%208.4825%2C%204.5%5D%2C%20%5B47.36102%2C%208.55145%2C%204.9%5D%2C%20%5B47.35164%2C%208.56069%2C%204.88%5D%2C%20%5B47.36226%2C%208.52215%2C%204.4%5D%2C%20%5B47.37685%2C%208.54549%2C%204.96%5D%2C%20%5B47.385%2C%208.5458%2C%205.0%5D%2C%20%5B47.356970000000004%2C%208.55664%2C%205.0%5D%2C%20%5B47.35703%2C%208.5567%2C%204.86%5D%2C%20%5B47.355779999999996%2C%208.5566%2C%204.94%5D%2C%20%5B47.355779999999996%2C%208.55666%2C%204.78%5D%2C%20%5B47.364670000000004%2C%208.549%2C%204.9%5D%2C%20%5B47.37385%2C%208.52988%2C%204.86%5D%2C%20%5B47.36946%2C%208.55693%2C%204.87%5D%2C%20%5B47.36298%2C%208.559460000000001%2C%204.84%5D%2C%20%5B47.36231%2C%208.55827%2C%204.9%5D%2C%20%5B47.39342%2C%208.523489999999999%2C%204.53%5D%2C%20%5B47.38729%2C%208.52267%2C%204.33%5D%2C%20%5B47.36092%2C%208.56657%2C%204.796838885112169%5D%2C%20%5B47.38157%2C%208.480960000000001%2C%204.73%5D%2C%20%5B47.36342%2C%208.55865%2C%204.71%5D%2C%20%5B47.36546%2C%208.50422%2C%204.86%5D%2C%20%5B47.38863%2C%208.49107%2C%204.75%5D%2C%20%5B47.37997%2C%208.507019999999999%2C%204.53%5D%2C%20%5B47.364%2C%208.54975%2C%204.87%5D%2C%20%5B47.382870000000004%2C%208.50033%2C%204.74%5D%2C%20%5B47.36051%2C%208.5649%2C%204.68%5D%2C%20%5B47.36051%2C%208.5649%2C%204.71%5D%2C%20%5B47.36051%2C%208.5649%2C%204.68%5D%2C%20%5B47.35784%2C%208.552999999999999%2C%204.88%5D%2C%20%5B47.3622%2C%208.566180000000001%2C%204.92%5D%2C%20%5B47.35784%2C%208.552999999999999%2C%204.8%5D%2C%20%5B47.35784%2C%208.552999999999999%2C%204.81%5D%2C%20%5B47.38368%2C%208.53995%2C%204.77%5D%2C%20%5B47.4069%2C%208.548210000000001%2C%204.96%5D%2C%20%5B47.371359999999996%2C%208.543510000000001%2C%204.87%5D%2C%20%5B47.35784%2C%208.552999999999999%2C%205.0%5D%2C%20%5B47.38368%2C%208.53995%2C%204.83%5D%2C%20%5B47.358109999999996%2C%208.59906%2C%204.83%5D%2C%20%5B47.380179999999996%2C%208.50485%2C%204.0%5D%2C%20%5B47.37833%2C%208.5263%2C%204.62%5D%2C%20%5B47.35865%2C%208.5494%2C%205.0%5D%2C%20%5B47.39258%2C%208.4786%2C%204.3%5D%2C%20%5B47.388729999999995%2C%208.537980000000001%2C%204.93%5D%2C%20%5B47.41409%2C%208.545%2C%204.07%5D%2C%20%5B47.38917%2C%208.48504%2C%204.89%5D%2C%20%5B47.392179999999996%2C%208.52935%2C%205.0%5D%2C%20%5B47.36006%2C%208.53437%2C%204.85%5D%2C%20%5B47.41792%2C%208.546439999999999%2C%204.796838885112169%5D%2C%20%5B47.3836%2C%208.52844%2C%204.796838885112169%5D%2C%20%5B47.35924%2C%208.52103%2C%204.91%5D%2C%20%5B47.38115%2C%208.51781%2C%204.5%5D%2C%20%5B47.38568%2C%208.53316%2C%205.0%5D%2C%20%5B47.384170000000005%2C%208.542119999999999%2C%205.0%5D%2C%20%5B47.3714%2C%208.54349%2C%204.89%5D%2C%20%5B47.3714%2C%208.54349%2C%204.91%5D%2C%20%5B47.37611%2C%208.53542%2C%204.96%5D%2C%20%5B47.42583%2C%208.54883%2C%205.0%5D%2C%20%5B47.37797%2C%208.519689999999999%2C%205.0%5D%2C%20%5B47.386509999999994%2C%208.545110000000001%2C%204.94%5D%2C%20%5B47.37642%2C%208.52352%2C%204.85%5D%2C%20%5B47.391090000000005%2C%208.53796%2C%204.796838885112169%5D%2C%20%5B47.41939%2C%208.51165%2C%204.73%5D%2C%20%5B47.37256%2C%208.544360000000001%2C%204.91%5D%2C%20%5B47.38068%2C%208.53699%2C%204.796838885112169%5D%2C%20%5B47.357929999999996%2C%208.59777%2C%204.84%5D%2C%20%5B47.3563%2C%208.59896%2C%204.75%5D%2C%20%5B47.38368%2C%208.53995%2C%204.67%5D%2C%20%5B47.35784%2C%208.552999999999999%2C%204.67%5D%2C%20%5B47.368790000000004%2C%208.52689%2C%205.0%5D%2C%20%5B47.362320000000004%2C%208.52775%2C%204.75%5D%2C%20%5B47.355779999999996%2C%208.55666%2C%205.0%5D%2C%20%5B47.355779999999996%2C%208.55666%2C%204.796838885112169%5D%2C%20%5B47.3605%2C%208.56529%2C%204.36%5D%2C%20%5B47.3605%2C%208.56529%2C%204.53%5D%2C%20%5B47.40653%2C%208.48022%2C%204.796838885112169%5D%2C%20%5B47.41103%2C%208.54619%2C%204.796838885112169%5D%2C%20%5B47.37205%2C%208.5427%2C%204.97%5D%2C%20%5B47.37271%2C%208.53225%2C%204.796838885112169%5D%2C%20%5B47.36226%2C%208.52215%2C%204.51%5D%2C%20%5B47.41409%2C%208.545%2C%204.44%5D%2C%20%5B47.372859999999996%2C%208.54384%2C%204.97%5D%2C%20%5B47.37323%2C%208.52616%2C%204.62%5D%2C%20%5B47.41881%2C%208.55751%2C%204.61%5D%2C%20%5B47.35965%2C%208.52389%2C%204.95%5D%2C%20%5B47.361340000000006%2C%208.566289999999999%2C%204.79%5D%2C%20%5B47.35448%2C%208.563039999999999%2C%204.796838885112169%5D%2C%20%5B47.40424%2C%208.55429%2C%204.72%5D%2C%20%5B47.37377%2C%208.53849%2C%204.96%5D%2C%20%5B47.39705%2C%208.58657%2C%204.5%5D%2C%20%5B47.36371%2C%208.54953%2C%204.89%5D%2C%20%5B47.40075%2C%208.538269999999999%2C%204.88%5D%2C%20%5B47.36544%2C%208.52028%2C%204.58%5D%2C%20%5B47.35671%2C%208.55663%2C%204.796838885112169%5D%2C%20%5B47.41831%2C%208.55781%2C%204.82%5D%2C%20%5B47.36231%2C%208.55827%2C%204.9%5D%2C%20%5B47.413000000000004%2C%208.52719%2C%204.79%5D%2C%20%5B47.369659999999996%2C%208.55303%2C%205.0%5D%2C%20%5B47.37332%2C%208.51905%2C%204.68%5D%2C%20%5B47.380320000000005%2C%208.55722%2C%204.89%5D%2C%20%5B47.3718%2C%208.54541%2C%204.96%5D%2C%20%5B47.3698%2C%208.5432%2C%204.91%5D%2C%20%5B47.37792%2C%208.51425%2C%204.79%5D%2C%20%5B47.3652%2C%208.54825%2C%205.0%5D%2C%20%5B47.37563%2C%208.530610000000001%2C%205.0%5D%2C%20%5B47.3922%2C%208.55069%2C%204.796838885112169%5D%2C%20%5B47.365359999999995%2C%208.55408%2C%205.0%5D%2C%20%5B47.41105%2C%208.48109%2C%204.91%5D%2C%20%5B47.39349%2C%208.534989999999999%2C%205.0%5D%2C%20%5B47.36773%2C%208.55611%2C%204.92%5D%2C%20%5B47.35286%2C%208.55978%2C%204.92%5D%2C%20%5B47.354729999999996%2C%208.55668%2C%205.0%5D%2C%20%5B47.36987%2C%208.531889999999999%2C%204.92%5D%2C%20%5B47.41035%2C%208.54643%2C%204.73%5D%2C%20%5B47.37585%2C%208.51511%2C%204.9%5D%2C%20%5B47.40918%2C%208.545689999999999%2C%204.79%5D%2C%20%5B47.384879999999995%2C%208.49463%2C%204.5%5D%2C%20%5B47.380309999999994%2C%208.48205%2C%204.76%5D%2C%20%5B47.3815%2C%208.48216%2C%204.6%5D%2C%20%5B47.36217%2C%208.52206%2C%204.65%5D%2C%20%5B47.36226%2C%208.52215%2C%204.14%5D%2C%20%5B47.37825%2C%208.56035%2C%204.81%5D%2C%20%5B47.36268%2C%208.56684%2C%205.0%5D%2C%20%5B47.378809999999994%2C%208.55894%2C%204.75%5D%2C%20%5B47.37704%2C%208.509730000000001%2C%205.0%5D%2C%20%5B47.373740000000005%2C%208.51556%2C%204.97%5D%2C%20%5B47.37771%2C%208.560130000000001%2C%204.71%5D%2C%20%5B47.37137%2C%208.54428%2C%204.94%5D%2C%20%5B47.36309%2C%208.56658%2C%204.73%5D%2C%20%5B47.39822%2C%208.55302%2C%205.0%5D%2C%20%5B47.37753%2C%208.55925%2C%204.81%5D%2C%20%5B47.37941%2C%208.560130000000001%2C%204.67%5D%2C%20%5B47.37658%2C%208.5253%2C%204.796838885112169%5D%2C%20%5B47.357601%2C%208.599310000000001%2C%204.43%5D%2C%20%5B47.411590000000004%2C%208.48127%2C%204.68%5D%2C%20%5B47.357601%2C%208.599310000000001%2C%204.6%5D%2C%20%5B47.35477%2C%208.56168%2C%204.75%5D%2C%20%5B47.403909999999996%2C%208.55308%2C%204.85%5D%2C%20%5B47.388870000000004%2C%208.529860000000001%2C%204.92%5D%2C%20%5B47.38645%2C%208.503160000000001%2C%204.0%5D%2C%20%5B47.38645%2C%208.503160000000001%2C%204.796838885112169%5D%2C%20%5B47.37682%2C%208.53883%2C%204.98%5D%2C%20%5B47.38817%2C%208.498610000000001%2C%204.6%5D%2C%20%5B47.3645%2C%208.555019999999999%2C%204.796838885112169%5D%2C%20%5B47.374268%2C%208.521883%2C%205.0%5D%2C%20%5B47.36136%2C%208.552710000000001%2C%204.87%5D%2C%20%5B47.376909999999995%2C%208.532580000000001%2C%204.83%5D%2C%20%5B47.376909999999995%2C%208.532580000000001%2C%204.71%5D%2C%20%5B47.36107%2C%208.54984%2C%204.9%5D%2C%20%5B47.37316%2C%208.51976%2C%204.81%5D%2C%20%5B47.37259%2C%208.54535%2C%204.96%5D%2C%20%5B47.363690000000005%2C%208.512030000000001%2C%204.74%5D%2C%20%5B47.355779999999996%2C%208.55666%2C%205.0%5D%2C%20%5B47.42689%2C%208.55265%2C%204.796838885112169%5D%2C%20%5B47.41407%2C%208.54519%2C%204.4%5D%2C%20%5B47.36987%2C%208.531889999999999%2C%204.83%5D%2C%20%5B47.3783%2C%208.558810000000001%2C%204.9%5D%2C%20%5B47.3771%2C%208.515089999999999%2C%205.0%5D%2C%20%5B47.36114%2C%208.5518%2C%204.89%5D%2C%20%5B47.37708%2C%208.523480000000001%2C%204.5%5D%2C%20%5B47.37708%2C%208.523480000000001%2C%204.83%5D%2C%20%5B47.37708%2C%208.523480000000001%2C%204.62%5D%2C%20%5B47.37708%2C%208.523480000000001%2C%204.6%5D%2C%20%5B47.37708%2C%208.523480000000001%2C%204.63%5D%2C%20%5B47.3715%2C%208.54473%2C%204.9%5D%2C%20%5B47.38309%2C%208.54791%2C%204.89%5D%2C%20%5B47.40036%2C%208.57644%2C%204.96%5D%2C%20%5B47.40136%2C%208.576139999999999%2C%204.91%5D%2C%20%5B47.35465%2C%208.53251%2C%204.5%5D%2C%20%5B47.376979999999996%2C%208.528789999999999%2C%204.73%5D%2C%20%5B47.3827%2C%208.55204%2C%204.83%5D%2C%20%5B47.378240000000005%2C%208.55907%2C%204.92%5D%2C%20%5B47.38865%2C%208.540939999999999%2C%204.86%5D%2C%20%5B47.40955%2C%208.4871%2C%204.5%5D%2C%20%5B47.3623%2C%208.52228%2C%204.58%5D%2C%20%5B47.37292%2C%208.54433%2C%204.96%5D%2C%20%5B47.357209999999995%2C%208.5547%2C%204.89%5D%2C%20%5B47.3706%2C%208.53353%2C%204.88%5D%2C%20%5B47.35743%2C%208.553560000000001%2C%204.796838885112169%5D%2C%20%5B47.36231%2C%208.52214%2C%204.9%5D%2C%20%5B47.3797%2C%208.500810000000001%2C%204.83%5D%2C%20%5B47.37358%2C%208.544%2C%204.97%5D%2C%20%5B47.40805%2C%208.54772%2C%204.5%5D%2C%20%5B47.364670000000004%2C%208.550289999999999%2C%205.0%5D%2C%20%5B47.40807%2C%208.54763%2C%205.0%5D%2C%20%5B47.40805%2C%208.5476%2C%204.4%5D%2C%20%5B47.40806%2C%208.54758%2C%204.5%5D%2C%20%5B47.37312%2C%208.51953%2C%204.8%5D%2C%20%5B47.396359999999994%2C%208.52292%2C%204.75%5D%2C%20%5B47.37075%2C%208.54147%2C%204.86%5D%2C%20%5B47.39049%2C%208.54989%2C%204.8%5D%2C%20%5B47.38485%2C%208.52455%2C%204.96%5D%2C%20%5B47.394020000000005%2C%208.53246%2C%204.83%5D%2C%20%5B47.36902%2C%208.54354%2C%204.93%5D%2C%20%5B47.35861%2C%208.526530000000001%2C%204.78%5D%2C%20%5B47.36098%2C%208.54948%2C%205.0%5D%2C%20%5B47.366659999999996%2C%208.54292%2C%204.75%5D%2C%20%5B47.34323%2C%208.52305%2C%204.54%5D%2C%20%5B47.38105%2C%208.54301%2C%204.86%5D%2C%20%5B47.37765%2C%208.55885%2C%205.0%5D%2C%20%5B47.37485%2C%208.5441%2C%205.0%5D%2C%20%5B47.37301%2C%208.52605%2C%204.7%5D%2C%20%5B47.37301%2C%208.52605%2C%204.6%5D%2C%20%5B47.373000000000005%2C%208.52618%2C%204.25%5D%2C%20%5B47.38967%2C%208.532760000000001%2C%205.0%5D%2C%20%5B47.40802%2C%208.54762%2C%204.7%5D%2C%20%5B47.381190000000004%2C%208.53346%2C%204.9%5D%2C%20%5B47.386140000000005%2C%208.52568%2C%205.0%5D%2C%20%5B47.38898%2C%208.49287%2C%204.75%5D%2C%20%5B47.357209999999995%2C%208.5547%2C%204.82%5D%2C%20%5B47.37827%2C%208.52135%2C%204.88%5D%2C%20%5B47.36035%2C%208.549610000000001%2C%204.796838885112169%5D%2C%20%5B47.397890000000004%2C%208.49951%2C%204.796838885112169%5D%2C%20%5B47.36953%2C%208.54568%2C%204.98%5D%2C%20%5B47.41553%2C%208.5451%2C%204.6%5D%2C%20%5B47.41554%2C%208.544839999999999%2C%204.5%5D%2C%20%5B47.4002%2C%208.590639999999999%2C%204.796838885112169%5D%2C%20%5B47.4156%2C%208.54518%2C%204.78%5D%2C%20%5B47.40802%2C%208.54762%2C%205.0%5D%2C%20%5B47.37543%2C%208.5301%2C%205.0%5D%2C%20%5B47.36473%2C%208.548910000000001%2C%204.89%5D%2C%20%5B47.373670000000004%2C%208.52206%2C%204.87%5D%2C%20%5B47.39375%2C%208.5285%2C%205.0%5D%2C%20%5B47.363040000000005%2C%208.55033%2C%204.63%5D%2C%20%5B47.407070000000004%2C%208.55428%2C%204.68%5D%2C%20%5B47.40903%2C%208.48827%2C%204.86%5D%2C%20%5B47.34708%2C%208.5282%2C%204.796838885112169%5D%2C%20%5B47.382940000000005%2C%208.54053%2C%204.94%5D%2C%20%5B47.35263%2C%208.53058%2C%204.9%5D%2C%20%5B47.3733%2C%208.54177%2C%204.97%5D%2C%20%5B47.41935%2C%208.5565%2C%204.78%5D%2C%20%5B47.3773%2C%208.54053%2C%204.33%5D%2C%20%5B47.41547%2C%208.544939999999999%2C%204.78%5D%2C%20%5B47.392140000000005%2C%208.51455%2C%204.88%5D%2C%20%5B47.37888%2C%208.50335%2C%204.83%5D%2C%20%5B47.35137%2C%208.57959%2C%205.0%5D%2C%20%5B47.37276%2C%208.539539999999999%2C%204.9%5D%2C%20%5B47.39982%2C%208.541269999999999%2C%204.71%5D%2C%20%5B47.37305%2C%208.54167%2C%204.99%5D%2C%20%5B47.36387%2C%208.54882%2C%205.0%5D%2C%20%5B47.35666%2C%208.52867%2C%204.9%5D%2C%20%5B47.370670000000004%2C%208.54021%2C%204.96%5D%2C%20%5B47.375370000000004%2C%208.53501%2C%204.88%5D%2C%20%5B47.39953%2C%208.54091%2C%205.0%5D%2C%20%5B47.36385%2C%208.54942%2C%204.95%5D%2C%20%5B47.36385%2C%208.54942%2C%204.95%5D%2C%20%5B47.35733%2C%208.55358%2C%204.82%5D%2C%20%5B47.36376%2C%208.53257%2C%204.91%5D%2C%20%5B47.396%2C%208.52921%2C%204.5%5D%2C%20%5B47.35406%2C%208.5573%2C%204.86%5D%2C%20%5B47.37323%2C%208.52616%2C%204.57%5D%2C%20%5B47.361340000000006%2C%208.5359%2C%204.77%5D%2C%20%5B47.38077%2C%208.53434%2C%204.9%5D%2C%20%5B47.37438%2C%208.5308%2C%205.0%5D%2C%20%5B47.37137%2C%208.54428%2C%204.75%5D%2C%20%5B47.373129999999996%2C%208.54242%2C%204.94%5D%2C%20%5B47.39114%2C%208.53096%2C%205.0%5D%2C%20%5B47.35784%2C%208.526769999999999%2C%204.83%5D%2C%20%5B47.39835%2C%208.58831%2C%204.67%5D%2C%20%5B47.36582%2C%208.515239999999999%2C%204.83%5D%2C%20%5B47.37896%2C%208.50636%2C%204.56%5D%2C%20%5B47.39628%2C%208.52365%2C%204.79%5D%2C%20%5B47.36841%2C%208.48882%2C%204.65%5D%2C%20%5B47.41555%2C%208.5451%2C%205.0%5D%2C%20%5B47.3832%2C%208.52917%2C%205.0%5D%2C%20%5B47.36057%2C%208.51748%2C%204.83%5D%2C%20%5B47.36023%2C%208.530289999999999%2C%204.92%5D%2C%20%5B47.36213%2C%208.566410000000001%2C%204.85%5D%2C%20%5B47.37608%2C%208.5225%2C%204.93%5D%2C%20%5B47.358999999999995%2C%208.55077%2C%204.97%5D%2C%20%5B47.3821%2C%208.50132%2C%204.65%5D%2C%20%5B47.40592%2C%208.5917%2C%204.78%5D%2C%20%5B47.3923%2C%208.51627%2C%204.92%5D%2C%20%5B47.38368%2C%208.54912%2C%204.89%5D%2C%20%5B47.38943%2C%208.55307%2C%204.796838885112169%5D%2C%20%5B47.3568%2C%208.55211%2C%205.0%5D%2C%20%5B47.412690000000005%2C%208.48064%2C%205.0%5D%2C%20%5B47.40801%2C%208.548010000000001%2C%204.81%5D%2C%20%5B47.37912%2C%208.52599%2C%204.38%5D%2C%20%5B47.36997%2C%208.546710000000001%2C%204.96%5D%2C%20%5B47.3596%2C%208.558530000000001%2C%204.73%5D%2C%20%5B47.36327%2C%208.5487%2C%204.83%5D%2C%20%5B47.36849%2C%208.55659%2C%205.0%5D%2C%20%5B47.37491%2C%208.517489999999999%2C%204.796838885112169%5D%2C%20%5B47.38368%2C%208.55327%2C%204.796838885112169%5D%2C%20%5B47.35672%2C%208.55542%2C%204.796838885112169%5D%2C%20%5B47.36477%2C%208.51936%2C%204.58%5D%2C%20%5B47.42232%2C%208.50421%2C%204.796838885112169%5D%2C%20%5B47.39682%2C%208.539069999999999%2C%204.33%5D%2C%20%5B47.39255%2C%208.53185%2C%204.8%5D%2C%20%5B47.38179%2C%208.56216%2C%204.87%5D%2C%20%5B47.36084%2C%208.51707%2C%204.91%5D%2C%20%5B47.37177%2C%208.5046%2C%204.0%5D%2C%20%5B47.367979999999996%2C%208.56327%2C%204.87%5D%2C%20%5B47.362140000000004%2C%208.566310000000001%2C%204.796838885112169%5D%2C%20%5B47.35913%2C%208.51717%2C%204.5%5D%2C%20%5B47.376870000000004%2C%208.524519999999999%2C%204.8%5D%2C%20%5B47.391000000000005%2C%208.5478%2C%204.96%5D%2C%20%5B47.373259999999995%2C%208.52085%2C%205.0%5D%2C%20%5B47.39543%2C%208.524289999999999%2C%204.78%5D%2C%20%5B47.35982%2C%208.51704%2C%204.53%5D%2C%20%5B47.39119%2C%208.51117%2C%204.94%5D%2C%20%5B47.391609%2C%208.510444%2C%204.91%5D%2C%20%5B47.41728%2C%208.54833%2C%204.77%5D%2C%20%5B47.37708%2C%208.523480000000001%2C%204.6%5D%2C%20%5B47.37708%2C%208.523480000000001%2C%204.77%5D%2C%20%5B47.37708%2C%208.523480000000001%2C%204.57%5D%2C%20%5B47.37708%2C%208.523480000000001%2C%204.67%5D%2C%20%5B47.37372%2C%208.52848%2C%204.796838885112169%5D%2C%20%5B47.40802%2C%208.54762%2C%204.83%5D%2C%20%5B47.40802%2C%208.54762%2C%205.0%5D%2C%20%5B47.40802%2C%208.54762%2C%205.0%5D%2C%20%5B47.40802%2C%208.54762%2C%205.0%5D%2C%20%5B47.40802%2C%208.54762%2C%205.0%5D%2C%20%5B47.40802%2C%208.54762%2C%205.0%5D%2C%20%5B47.40802%2C%208.54762%2C%204.796838885112169%5D%2C%20%5B47.40802%2C%208.54762%2C%204.5%5D%2C%20%5B47.40802%2C%208.54762%2C%204.67%5D%2C%20%5B47.40802%2C%208.54762%2C%205.0%5D%2C%20%5B47.38645%2C%208.503160000000001%2C%203.33%5D%2C%20%5B47.36378%2C%208.54889%2C%205.0%5D%2C%20%5B47.38645%2C%208.503160000000001%2C%204.0%5D%2C%20%5B47.38645%2C%208.503160000000001%2C%204.796838885112169%5D%2C%20%5B47.38645%2C%208.503160000000001%2C%204.5%5D%2C%20%5B47.38645%2C%208.503160000000001%2C%204.8%5D%2C%20%5B47.38645%2C%208.503160000000001%2C%204.796838885112169%5D%2C%20%5B47.38645%2C%208.503160000000001%2C%204.33%5D%2C%20%5B47.38645%2C%208.503160000000001%2C%204.5%5D%2C%20%5B47.38645%2C%208.503160000000001%2C%204.796838885112169%5D%2C%20%5B47.35944%2C%208.526489999999999%2C%204.78%5D%2C%20%5B47.38645%2C%208.503160000000001%2C%204.796838885112169%5D%2C%20%5B47.38645%2C%208.503160000000001%2C%204.0%5D%2C%20%5B47.38645%2C%208.503160000000001%2C%204.796838885112169%5D%2C%20%5B47.38645%2C%208.503160000000001%2C%204.57%5D%2C%20%5B47.37985%2C%208.51411%2C%204.73%5D%2C%20%5B47.40886%2C%208.53224%2C%204.77%5D%2C%20%5B47.38735%2C%208.51522%2C%204.86%5D%2C%20%5B47.38645%2C%208.503160000000001%2C%204.5%5D%2C%20%5B47.38645%2C%208.503160000000001%2C%205.0%5D%2C%20%5B47.38645%2C%208.503160000000001%2C%204.796838885112169%5D%2C%20%5B47.38645%2C%208.503160000000001%2C%205.0%5D%2C%20%5B47.37467%2C%208.52908%2C%204.93%5D%2C%20%5B47.4144%2C%208.558589999999999%2C%204.91%5D%2C%20%5B47.40063%2C%208.53103%2C%205.0%5D%2C%20%5B47.40756%2C%208.559339999999999%2C%204.796838885112169%5D%2C%20%5B47.35994%2C%208.52206%2C%205.0%5D%2C%20%5B47.349940000000004%2C%208.56335%2C%204.93%5D%2C%20%5B47.387240000000006%2C%208.5516%2C%204.8%5D%2C%20%5B47.37686%2C%208.51255%2C%204.83%5D%2C%20%5B47.36052%2C%208.525210000000001%2C%205.0%5D%2C%20%5B47.39076%2C%208.52594%2C%205.0%5D%2C%20%5B47.37038%2C%208.547189999999999%2C%204.86%5D%2C%20%5B47.35263%2C%208.53012%2C%204.796838885112169%5D%2C%20%5B47.394459999999995%2C%208.523719999999999%2C%204.78%5D%2C%20%5B47.37989%2C%208.48981%2C%204.55%5D%2C%20%5B47.372370000000004%2C%208.54397%2C%204.99%5D%2C%20%5B47.35177%2C%208.530439999999999%2C%204.9%5D%2C%20%5B47.40365%2C%208.55087%2C%205.0%5D%2C%20%5B47.3759%2C%208.52021%2C%204.94%5D%2C%20%5B47.39812%2C%208.50584%2C%204.77%5D%2C%20%5B47.41782%2C%208.53634%2C%204.796838885112169%5D%2C%20%5B47.39394%2C%208.531789999999999%2C%204.88%5D%2C%20%5B47.40637%2C%208.549710000000001%2C%204.67%5D%2C%20%5B47.371990000000004%2C%208.52825%2C%204.796838885112169%5D%2C%20%5B47.38456%2C%208.55001%2C%204.85%5D%2C%20%5B47.42548%2C%208.535260000000001%2C%204.62%5D%2C%20%5B47.37455%2C%208.52999%2C%204.94%5D%2C%20%5B47.4102%2C%208.542069999999999%2C%204.0%5D%2C%20%5B47.40919%2C%208.542019999999999%2C%205.0%5D%2C%20%5B47.41602%2C%208.546669999999999%2C%204.74%5D%2C%20%5B47.39295%2C%208.51782%2C%204.73%5D%2C%20%5B47.330020000000005%2C%208.5161%2C%204.0%5D%2C%20%5B47.422740000000005%2C%208.50355%2C%205.0%5D%2C%20%5B47.37966%2C%208.55916%2C%204.8%5D%2C%20%5B47.409009999999995%2C%208.54204%2C%204.14%5D%2C%20%5B47.35924%2C%208.52786%2C%204.7%5D%2C%20%5B47.36723%2C%208.52632%2C%204.78%5D%2C%20%5B47.38882%2C%208.48126%2C%204.796838885112169%5D%2C%20%5B47.343379999999996%2C%208.53135%2C%204.67%5D%2C%20%5B47.35688%2C%208.57357%2C%204.796838885112169%5D%2C%20%5B47.379490000000004%2C%208.54429%2C%204.97%5D%2C%20%5B47.36226%2C%208.5222%2C%204.42%5D%2C%20%5B47.36183%2C%208.51632%2C%205.0%5D%2C%20%5B47.37545%2C%208.51622%2C%204.88%5D%2C%20%5B47.37505%2C%208.54372%2C%204.87%5D%2C%20%5B47.401070000000004%2C%208.49915%2C%205.0%5D%2C%20%5B47.39846%2C%208.53153%2C%204.5%5D%2C%20%5B47.417359999999995%2C%208.5335%2C%204.796838885112169%5D%2C%20%5B47.37198%2C%208.542060000000001%2C%204.98%5D%2C%20%5B47.3718%2C%208.54541%2C%204.93%5D%2C%20%5B47.38646%2C%208.54015%2C%204.94%5D%2C%20%5B47.41037%2C%208.537460000000001%2C%204.81%5D%2C%20%5B47.374140000000004%2C%208.5441%2C%204.97%5D%2C%20%5B47.38388%2C%208.49333%2C%203.33%5D%2C%20%5B47.35796%2C%208.55493%2C%205.0%5D%2C%20%5B47.36071%2C%208.532789999999999%2C%204.88%5D%2C%20%5B47.36356%2C%208.54963%2C%205.0%5D%2C%20%5B47.37947%2C%208.5173%2C%204.71%5D%2C%20%5B47.36509%2C%208.569230000000001%2C%205.0%5D%2C%20%5B47.40889%2C%208.54848%2C%204.796838885112169%5D%2C%20%5B47.36993%2C%208.52004%2C%204.89%5D%2C%20%5B47.364979999999996%2C%208.52248%2C%204.11%5D%2C%20%5B47.34802%2C%208.5278%2C%204.53%5D%2C%20%5B47.34802%2C%208.5278%2C%205.0%5D%2C%20%5B47.33515%2C%208.51566%2C%204.5%5D%2C%20%5B47.35975%2C%208.52788%2C%205.0%5D%2C%20%5B47.362829999999995%2C%208.5563%2C%204.88%5D%2C%20%5B47.375040000000006%2C%208.51436%2C%204.796838885112169%5D%2C%20%5B47.38381%2C%208.54263%2C%204.796838885112169%5D%2C%20%5B47.409420000000004%2C%208.54102%2C%204.71%5D%2C%20%5B47.37618%2C%208.50995%2C%205.0%5D%2C%20%5B47.38349%2C%208.50863%2C%204.74%5D%2C%20%5B47.394490000000005%2C%208.52004%2C%205.0%5D%2C%20%5B47.38739%2C%208.55218%2C%205.0%5D%2C%20%5B47.363170000000004%2C%208.54612%2C%205.0%5D%2C%20%5B47.388020000000004%2C%208.49209%2C%204.5%5D%2C%20%5B47.35835%2C%208.517560000000001%2C%204.71%5D%2C%20%5B47.36027%2C%208.57639%2C%205.0%5D%2C%20%5B47.37162%2C%208.53965%2C%204.99%5D%2C%20%5B47.33132%2C%208.52768%2C%204.33%5D%2C%20%5B47.37213%2C%208.54679%2C%205.0%5D%2C%20%5B47.37682%2C%208.52082%2C%204.796838885112169%5D%2C%20%5B47.40162%2C%208.58512%2C%204.74%5D%2C%20%5B47.35882%2C%208.552430000000001%2C%204.796838885112169%5D%2C%20%5B47.35518%2C%208.57618%2C%204.76%5D%2C%20%5B47.37458%2C%208.519810000000001%2C%205.0%5D%2C%20%5B47.39658%2C%208.4941%2C%204.796838885112169%5D%2C%20%5B47.35814%2C%208.55635%2C%204.796838885112169%5D%2C%20%5B47.359759999999994%2C%208.518510000000001%2C%204.58%5D%2C%20%5B47.38342%2C%208.5495%2C%204.93%5D%2C%20%5B47.35862%2C%208.51657%2C%204.63%5D%2C%20%5B47.36502%2C%208.49349%2C%204.79%5D%2C%20%5B47.39669%2C%208.496260000000001%2C%204.796838885112169%5D%2C%20%5B47.354659999999996%2C%208.55679%2C%204.93%5D%2C%20%5B47.3753%2C%208.51415%2C%204.81%5D%2C%20%5B47.388020000000004%2C%208.49209%2C%204.6%5D%2C%20%5B47.388090000000005%2C%208.54917%2C%204.89%5D%2C%20%5B47.335879999999996%2C%208.52867%2C%204.58%5D%2C%20%5B47.37338%2C%208.54301%2C%205.0%5D%2C%20%5B47.36186%2C%208.52617%2C%204.5%5D%2C%20%5B47.388290000000005%2C%208.48143%2C%204.796838885112169%5D%2C%20%5B47.38185%2C%208.53704%2C%204.93%5D%2C%20%5B47.378440000000005%2C%208.52697%2C%205.0%5D%2C%20%5B47.39433%2C%208.525260000000001%2C%204.59%5D%2C%20%5B47.36111%2C%208.55034%2C%205.0%5D%2C%20%5B47.35975%2C%208.54969%2C%205.0%5D%2C%20%5B47.39797%2C%208.48422%2C%204.796838885112169%5D%2C%20%5B47.37336%2C%208.5543%2C%204.65%5D%2C%20%5B47.413540000000005%2C%208.54605%2C%204.82%5D%2C%20%5B47.38136%2C%208.53346%2C%204.95%5D%2C%20%5B47.37795%2C%208.521930000000001%2C%205.0%5D%2C%20%5B47.3899%2C%208.47912%2C%204.6%5D%2C%20%5B47.36533%2C%208.52205%2C%204.75%5D%2C%20%5B47.357620000000004%2C%208.55756%2C%205.0%5D%2C%20%5B47.4156%2C%208.5451%2C%205.0%5D%2C%20%5B47.3713%2C%208.525139999999999%2C%204.89%5D%2C%20%5B47.336890000000004%2C%208.53426%2C%204.86%5D%2C%20%5B47.35556%2C%208.554780000000001%2C%204.96%5D%2C%20%5B47.39647%2C%208.525689999999999%2C%205.0%5D%2C%20%5B47.36376%2C%208.53257%2C%204.82%5D%2C%20%5B47.37911%2C%208.55166%2C%204.7%5D%2C%20%5B47.36094%2C%208.56591%2C%204.52%5D%2C%20%5B47.38561%2C%208.488610000000001%2C%204.85%5D%2C%20%5B47.37412%2C%208.51763%2C%204.9%5D%2C%20%5B47.37212%2C%208.5265%2C%204.91%5D%2C%20%5B47.3803%2C%208.50703%2C%204.69%5D%2C%20%5B47.38035%2C%208.528260000000001%2C%204.66%5D%2C%20%5B47.36011%2C%208.52098%2C%204.92%5D%2C%20%5B47.382059999999996%2C%208.534089999999999%2C%205.0%5D%2C%20%5B47.37327%2C%208.493689999999999%2C%204.77%5D%2C%20%5B47.41555%2C%208.54505%2C%205.0%5D%2C%20%5B47.38876%2C%208.53929%2C%204.796838885112169%5D%2C%20%5B47.4132%2C%208.54199%2C%204.57%5D%2C%20%5B47.4101%2C%208.57708%2C%204.25%5D%2C%20%5B47.38479%2C%208.49884%2C%205.0%5D%2C%20%5B47.39304%2C%208.528210000000001%2C%204.67%5D%2C%20%5B47.37063%2C%208.516680000000001%2C%205.0%5D%2C%20%5B47.40421%2C%208.48591%2C%204.86%5D%2C%20%5B47.41409%2C%208.545%2C%205.0%5D%2C%20%5B47.355109999999996%2C%208.6048%2C%204.78%5D%2C%20%5B47.37993%2C%208.52502%2C%204.86%5D%2C%20%5B47.40992%2C%208.5769%2C%204.796838885112169%5D%2C%20%5B47.37522%2C%208.5253%2C%204.68%5D%2C%20%5B47.39099%2C%208.47205%2C%204.796838885112169%5D%2C%20%5B47.40726%2C%208.55132%2C%204.65%5D%2C%20%5B47.3727%2C%208.54082%2C%204.95%5D%2C%20%5B47.42425%2C%208.51083%2C%204.796838885112169%5D%2C%20%5B47.36313%2C%208.55054%2C%204.73%5D%2C%20%5B47.3841%2C%208.50817%2C%204.49%5D%2C%20%5B47.38429%2C%208.50774%2C%204.5%5D%2C%20%5B47.36217%2C%208.52206%2C%204.4%5D%2C%20%5B47.37843%2C%208.5141%2C%204.79%5D%2C%20%5B47.336859999999994%2C%208.53713%2C%204.69%5D%2C%20%5B47.36851%2C%208.56367%2C%204.76%5D%2C%20%5B47.367979999999996%2C%208.55447%2C%204.81%5D%2C%20%5B47.3947%2C%208.54022%2C%204.796838885112169%5D%2C%20%5B47.3319%2C%208.537230000000001%2C%205.0%5D%2C%20%5B47.33136%2C%208.53636%2C%204.796838885112169%5D%2C%20%5B47.37455%2C%208.52999%2C%204.92%5D%2C%20%5B47.37764%2C%208.54849%2C%204.84%5D%2C%20%5B47.3741%2C%208.54504%2C%204.93%5D%2C%20%5B47.41308%2C%208.54723%2C%204.796838885112169%5D%2C%20%5B47.3699%2C%208.527519999999999%2C%204.96%5D%2C%20%5B47.3711%2C%208.5258%2C%204.93%5D%2C%20%5B47.40538%2C%208.59158%2C%204.69%5D%2C%20%5B47.3622%2C%208.52097%2C%204.68%5D%2C%20%5B47.37205%2C%208.52524%2C%204.92%5D%2C%20%5B47.37303%2C%208.51942%2C%204.9%5D%2C%20%5B47.37455%2C%208.52999%2C%204.95%5D%2C%20%5B47.41021%2C%208.56322%2C%205.0%5D%2C%20%5B47.33633%2C%208.53903%2C%204.796838885112169%5D%2C%20%5B47.37835%2C%208.55913%2C%205.0%5D%2C%20%5B47.369040000000005%2C%208.5578%2C%205.0%5D%2C%20%5B47.33748%2C%208.53851%2C%204.796838885112169%5D%2C%20%5B47.37835%2C%208.55913%2C%204.9%5D%2C%20%5B47.34904%2C%208.563130000000001%2C%204.75%5D%2C%20%5B47.389720000000004%2C%208.4797%2C%202.8%5D%2C%20%5B47.38223%2C%208.56312%2C%204.84%5D%2C%20%5B47.37835%2C%208.55911%2C%204.86%5D%2C%20%5B47.41584%2C%208.54538%2C%204.0%5D%2C%20%5B47.372279999999996%2C%208.5243%2C%204.86%5D%2C%20%5B47.37384%2C%208.54256%2C%204.98%5D%2C%20%5B47.38028%2C%208.50769%2C%204.56%5D%2C%20%5B47.36783%2C%208.5073%2C%204.83%5D%2C%20%5B47.37109%2C%208.52559%2C%204.796838885112169%5D%2C%20%5B47.39454%2C%208.52148%2C%204.75%5D%2C%20%5B47.37682%2C%208.53883%2C%204.97%5D%2C%20%5B47.37798%2C%208.5379%2C%204.8%5D%2C%20%5B47.37773%2C%208.53801%2C%204.94%5D%2C%20%5B47.37774%2C%208.53983%2C%205.0%5D%2C%20%5B47.36202%2C%208.56553%2C%204.85%5D%2C%20%5B47.36522%2C%208.52109%2C%204.71%5D%2C%20%5B47.367309999999996%2C%208.52094%2C%204.88%5D%2C%20%5B47.37223%2C%208.5224%2C%204.86%5D%2C%20%5B47.36226%2C%208.52215%2C%204.2%5D%2C%20%5B47.37843%2C%208.5141%2C%204.8%5D%2C%20%5B47.38577%2C%208.528319999999999%2C%205.0%5D%2C%20%5B47.39099%2C%208.54607%2C%205.0%5D%2C%20%5B47.36528%2C%208.537230000000001%2C%204.95%5D%2C%20%5B47.36469%2C%208.51873%2C%204.76%5D%2C%20%5B47.387370000000004%2C%208.49405%2C%204.6%5D%2C%20%5B47.36548%2C%208.54847%2C%204.8%5D%2C%20%5B47.3695%2C%208.52834%2C%205.0%5D%2C%20%5B47.36585%2C%208.542539999999999%2C%204.796838885112169%5D%2C%20%5B47.367940000000004%2C%208.55915%2C%204.87%5D%2C%20%5B47.39671%2C%208.51977%2C%204.83%5D%2C%20%5B47.40097%2C%208.54583%2C%204.91%5D%2C%20%5B47.37175%2C%208.52651%2C%204.52%5D%2C%20%5B47.38049%2C%208.50784%2C%204.68%5D%2C%20%5B47.39501%2C%208.52081%2C%204.76%5D%2C%20%5B47.39355%2C%208.520760000000001%2C%204.75%5D%2C%20%5B47.40995%2C%208.545689999999999%2C%204.64%5D%2C%20%5B47.35487%2C%208.556610000000001%2C%204.96%5D%2C%20%5B47.36696%2C%208.52266%2C%204.45%5D%2C%20%5B47.36696%2C%208.52266%2C%204.42%5D%2C%20%5B47.36696%2C%208.52266%2C%204.57%5D%2C%20%5B47.36696%2C%208.52266%2C%204.29%5D%2C%20%5B47.37068%2C%208.51172%2C%205.0%5D%2C%20%5B47.388020000000004%2C%208.49209%2C%204.43%5D%2C%20%5B47.388020000000004%2C%208.49209%2C%204.4%5D%2C%20%5B47.37319%2C%208.53169%2C%205.0%5D%2C%20%5B47.373509999999996%2C%208.523539999999999%2C%204.81%5D%2C%20%5B47.38378%2C%208.52972%2C%204.8%5D%2C%20%5B47.37226%2C%208.523639999999999%2C%204.81%5D%2C%20%5B47.373509999999996%2C%208.52363%2C%204.88%5D%2C%20%5B47.37324%2C%208.52399%2C%204.83%5D%2C%20%5B47.3718%2C%208.522789999999999%2C%204.88%5D%2C%20%5B47.37172%2C%208.522689999999999%2C%204.79%5D%2C%20%5B47.3717%2C%208.52369%2C%204.82%5D%2C%20%5B47.3733%2C%208.52265%2C%204.8%5D%2C%20%5B47.40449%2C%208.48669%2C%204.85%5D%2C%20%5B47.3838%2C%208.52873%2C%204.89%5D%2C%20%5B47.357409999999994%2C%208.55075%2C%205.0%5D%2C%20%5B47.38216%2C%208.53026%2C%204.67%5D%2C%20%5B47.38746%2C%208.55092%2C%205.0%5D%2C%20%5B47.37784%2C%208.55845%2C%204.89%5D%2C%20%5B47.36611%2C%208.55402%2C%204.83%5D%2C%20%5B47.36939%2C%208.49282%2C%204.7%5D%2C%20%5B47.34133%2C%208.52947%2C%205.0%5D%2C%20%5B47.36378%2C%208.556560000000001%2C%205.0%5D%2C%20%5B47.38583%2C%208.50034%2C%204.63%5D%2C%20%5B47.413109999999996%2C%208.544139999999999%2C%204.75%5D%2C%20%5B47.3797%2C%208.51062%2C%204.73%5D%2C%20%5B47.38795%2C%208.48011%2C%205.0%5D%2C%20%5B47.388020000000004%2C%208.49209%2C%204.8%5D%2C%20%5B47.389990000000004%2C%208.477889999999999%2C%204.33%5D%2C%20%5B47.4232%2C%208.50114%2C%204.69%5D%2C%20%5B47.36325%2C%208.559569999999999%2C%204.91%5D%2C%20%5B47.379940000000005%2C%208.48114%2C%204.67%5D%2C%20%5B47.3825%2C%208.52844%2C%205.0%5D%2C%20%5B47.37375%2C%208.5215%2C%204.0%5D%2C%20%5B47.36103%2C%208.56638%2C%204.74%5D%2C%20%5B47.38777%2C%208.482389999999999%2C%204.75%5D%2C%20%5B47.39362%2C%208.52169%2C%204.78%5D%2C%20%5B47.38256%2C%208.52993%2C%204.81%5D%2C%20%5B47.36569%2C%208.52271%2C%204.92%5D%2C%20%5B47.36487%2C%208.53235%2C%204.9%5D%2C%20%5B47.35861%2C%208.51649%2C%204.82%5D%2C%20%5B47.378479999999996%2C%208.5184%2C%205.0%5D%2C%20%5B47.390209999999996%2C%208.523%2C%205.0%5D%2C%20%5B47.391000000000005%2C%208.5478%2C%204.9%5D%2C%20%5B47.391000000000005%2C%208.5478%2C%204.93%5D%2C%20%5B47.358109999999996%2C%208.55407%2C%204.97%5D%2C%20%5B47.373670000000004%2C%208.539069999999999%2C%204.96%5D%2C%20%5B47.36939%2C%208.545630000000001%2C%205.0%5D%2C%20%5B47.3708%2C%208.51475%2C%204.63%5D%2C%20%5B47.37287%2C%208.53854%2C%204.97%5D%2C%20%5B47.36591%2C%208.55055%2C%205.0%5D%2C%20%5B47.365840000000006%2C%208.55204%2C%205.0%5D%2C%20%5B47.37826%2C%208.52715%2C%205.0%5D%2C%20%5B47.38363%2C%208.55071%2C%205.0%5D%2C%20%5B47.36808%2C%208.52197%2C%204.0%5D%2C%20%5B47.39452%2C%208.53117%2C%204.796838885112169%5D%2C%20%5B47.3842%2C%208.52824%2C%204.89%5D%2C%20%5B47.37767%2C%208.56681%2C%204.92%5D%2C%20%5B47.36668%2C%208.51158%2C%205.0%5D%2C%20%5B47.36083%2C%208.5253%2C%204.89%5D%2C%20%5B47.405190000000005%2C%208.53742%2C%204.86%5D%2C%20%5B47.38708%2C%208.49633%2C%204.67%5D%2C%20%5B47.37977%2C%208.50612%2C%204.88%5D%2C%20%5B47.376940000000005%2C%208.564010000000001%2C%204.796838885112169%5D%2C%20%5B47.37907%2C%208.513119999999999%2C%204.82%5D%2C%20%5B47.39318%2C%208.53129%2C%205.0%5D%2C%20%5B47.390440000000005%2C%208.54417%2C%205.0%5D%2C%20%5B47.35767%2C%208.554219999999999%2C%204.91%5D%2C%20%5B47.37059%2C%208.51384%2C%204.0%5D%2C%20%5B47.35647%2C%208.5575%2C%205.0%5D%2C%20%5B47.37543%2C%208.51569%2C%204.5%5D%2C%20%5B47.37372%2C%208.52188%2C%204.87%5D%2C%20%5B47.36992%2C%208.52398%2C%205.0%5D%2C%20%5B47.35853%2C%208.52861%2C%205.0%5D%2C%20%5B47.3724%2C%208.52293%2C%204.82%5D%2C%20%5B47.42629%2C%208.54406%2C%204.67%5D%2C%20%5B47.37583%2C%208.54434%2C%204.94%5D%2C%20%5B47.38691%2C%208.49168%2C%205.0%5D%2C%20%5B47.38612%2C%208.49211%2C%205.0%5D%2C%20%5B47.38552%2C%208.49362%2C%205.0%5D%2C%20%5B47.38535%2C%208.49344%2C%204.8%5D%2C%20%5B47.38472%2C%208.493160000000001%2C%204.5%5D%2C%20%5B47.38657%2C%208.4934%2C%204.796838885112169%5D%2C%20%5B47.38495%2C%208.4917%2C%204.0%5D%2C%20%5B47.38482%2C%208.493139999999999%2C%204.71%5D%2C%20%5B47.38472%2C%208.49359%2C%204.75%5D%2C%20%5B47.3863%2C%208.49225%2C%205.0%5D%2C%20%5B47.386790000000005%2C%208.49366%2C%204.796838885112169%5D%2C%20%5B47.385329999999996%2C%208.49174%2C%204.796838885112169%5D%2C%20%5B47.399159999999995%2C%208.50557%2C%204.72%5D%2C%20%5B47.40202%2C%208.5827%2C%204.796838885112169%5D%2C%20%5B47.40757%2C%208.53859%2C%204.796838885112169%5D%2C%20%5B47.37125%2C%208.539060000000001%2C%205.0%5D%2C%20%5B47.36043%2C%208.56818%2C%204.76%5D%2C%20%5B47.38913%2C%208.49289%2C%205.0%5D%2C%20%5B47.41299%2C%208.55808%2C%204.92%5D%2C%20%5B47.37621%2C%208.56569%2C%204.91%5D%2C%20%5B47.37465%2C%208.514710000000001%2C%204.796838885112169%5D%2C%20%5B47.3614%2C%208.5274%2C%204.93%5D%2C%20%5B47.40103%2C%208.55026%2C%204.73%5D%2C%20%5B47.365109999999994%2C%208.56921%2C%204.89%5D%2C%20%5B47.39901%2C%208.54151%2C%204.88%5D%2C%20%5B47.39392%2C%208.48552%2C%204.81%5D%2C%20%5B47.40081%2C%208.54467%2C%204.33%5D%2C%20%5B47.37899%2C%208.521410000000001%2C%204.88%5D%2C%20%5B47.357659999999996%2C%208.554730000000001%2C%204.97%5D%2C%20%5B47.385020000000004%2C%208.50769%2C%204.58%5D%2C%20%5B47.385259999999995%2C%208.507639999999999%2C%204.53%5D%2C%20%5B47.42875%2C%208.54119%2C%204.67%5D%2C%20%5B47.376020000000004%2C%208.5658%2C%204.89%5D%2C%20%5B47.37672%2C%208.56733%2C%204.94%5D%2C%20%5B47.37443%2C%208.52931%2C%205.0%5D%2C%20%5B47.40307%2C%208.58301%2C%204.796838885112169%5D%2C%20%5B47.381820000000005%2C%208.48131%2C%204.83%5D%2C%20%5B47.40145%2C%208.545539999999999%2C%204.85%5D%2C%20%5B47.35817%2C%208.55294%2C%204.88%5D%2C%20%5B47.38692%2C%208.53577%2C%205.0%5D%2C%20%5B47.37334%2C%208.54476%2C%204.99%5D%2C%20%5B47.36878%2C%208.55702%2C%205.0%5D%2C%20%5B47.35773%2C%208.55275%2C%204.89%5D%2C%20%5B47.359120000000004%2C%208.553180000000001%2C%204.99%5D%2C%20%5B47.38727%2C%208.49311%2C%204.83%5D%2C%20%5B47.36515%2C%208.52098%2C%204.88%5D%2C%20%5B47.35787%2C%208.55297%2C%204.89%5D%2C%20%5B47.35779%2C%208.55328%2C%204.98%5D%2C%20%5B47.36225%2C%208.522219999999999%2C%204.796838885112169%5D%2C%20%5B47.3593%2C%208.55429%2C%204.89%5D%2C%20%5B47.35887%2C%208.553989999999999%2C%204.94%5D%2C%20%5B47.37726%2C%208.565660000000001%2C%204.9%5D%2C%20%5B47.3512%2C%208.56652%2C%204.796838885112169%5D%2C%20%5B47.35924%2C%208.55265%2C%204.87%5D%2C%20%5B47.379670000000004%2C%208.506039999999999%2C%204.79%5D%2C%20%5B47.35902%2C%208.497710000000001%2C%204.73%5D%2C%20%5B47.370670000000004%2C%208.528830000000001%2C%204.96%5D%2C%20%5B47.36651%2C%208.493360000000001%2C%204.86%5D%2C%20%5B47.358791%2C%208.49792%2C%204.61%5D%2C%20%5B47.35962%2C%208.49891%2C%204.82%5D%2C%20%5B47.35185%2C%208.56661%2C%204.89%5D%2C%20%5B47.36887%2C%208.51732%2C%204.84%5D%2C%20%5B47.35726%2C%208.55432%2C%204.97%5D%2C%20%5B47.3841%2C%208.50817%2C%204.57%5D%2C%20%5B47.36025%2C%208.5605%2C%204.95%5D%2C%20%5B47.429256%2C%208.539684%2C%204.796838885112169%5D%2C%20%5B47.367979999999996%2C%208.55647%2C%204.89%5D%2C%20%5B47.39425%2C%208.52225%2C%204.73%5D%2C%20%5B47.38201%2C%208.501510000000001%2C%204.82%5D%2C%20%5B47.42243%2C%208.506680000000001%2C%205.0%5D%2C%20%5B47.36042%2C%208.5214%2C%205.0%5D%2C%20%5B47.360079999999996%2C%208.527239999999999%2C%205.0%5D%2C%20%5B47.338333%2C%208.520233000000001%2C%204.79%5D%2C%20%5B47.35791%2C%208.52813%2C%204.75%5D%2C%20%5B47.42125%2C%208.54615%2C%204.796838885112169%5D%2C%20%5B47.37489%2C%208.51657%2C%204.78%5D%2C%20%5B47.36995%2C%208.52568%2C%204.85%5D%2C%20%5B47.36963%2C%208.52467%2C%204.66%5D%2C%20%5B47.37062%2C%208.52675%2C%204.75%5D%2C%20%5B47.369170000000004%2C%208.526539999999999%2C%204.75%5D%2C%20%5B47.36912%2C%208.52486%2C%204.83%5D%2C%20%5B47.35718%2C%208.55274%2C%204.94%5D%2C%20%5B47.38754%2C%208.53985%2C%204.796838885112169%5D%2C%20%5B47.38446%2C%208.50905%2C%204.49%5D%2C%20%5B47.38494%2C%208.50731%2C%204.51%5D%2C%20%5B47.385059999999996%2C%208.507660000000001%2C%204.63%5D%2C%20%5B47.37712%2C%208.52162%2C%205.0%5D%2C%20%5B47.393390000000004%2C%208.52581%2C%204.92%5D%2C%20%5B47.36107%2C%208.5173%2C%204.71%5D%2C%20%5B47.36107%2C%208.5173%2C%204.78%5D%2C%20%5B47.36107%2C%208.5173%2C%204.78%5D%2C%20%5B47.37018%2C%208.51908%2C%204.68%5D%2C%20%5B47.36107%2C%208.5173%2C%204.75%5D%2C%20%5B47.3609%2C%208.5177%2C%204.59%5D%2C%20%5B47.36085%2C%208.517669999999999%2C%204.79%5D%2C%20%5B47.36095%2C%208.517669999999999%2C%204.83%5D%2C%20%5B47.36088%2C%208.51752%2C%204.76%5D%2C%20%5B47.36642%2C%208.563039999999999%2C%205.0%5D%2C%20%5B47.38126%2C%208.506110000000001%2C%204.796838885112169%5D%2C%20%5B47.357040000000005%2C%208.5692%2C%204.72%5D%2C%20%5B47.40563%2C%208.55947%2C%204.5%5D%2C%20%5B47.39418%2C%208.52254%2C%204.88%5D%2C%20%5B47.37595%2C%208.53031%2C%204.796838885112169%5D%2C%20%5B47.37908%2C%208.51065%2C%205.0%5D%2C%20%5B47.37556%2C%208.52462%2C%204.96%5D%2C%20%5B47.33248%2C%208.53535%2C%204.0%5D%2C%20%5B47.35803%2C%208.49703%2C%204.38%5D%2C%20%5B47.36912%2C%208.55666%2C%205.0%5D%2C%20%5B47.39219%2C%208.539060000000001%2C%205.0%5D%2C%20%5B47.390570000000004%2C%208.47366%2C%204.9%5D%2C%20%5B47.376459999999994%2C%208.51452%2C%204.87%5D%2C%20%5B47.395309999999995%2C%208.52095%2C%204.86%5D%2C%20%5B47.359609999999996%2C%208.51251%2C%204.796838885112169%5D%2C%20%5B47.37937%2C%208.5285%2C%204.33%5D%2C%20%5B47.36768%2C%208.51483%2C%205.0%5D%2C%20%5B47.37514%2C%208.51872%2C%204.95%5D%2C%20%5B47.35621%2C%208.55365%2C%204.84%5D%2C%20%5B47.35588%2C%208.55613%2C%205.0%5D%2C%20%5B47.38583%2C%208.527569999999999%2C%204.796838885112169%5D%2C%20%5B47.388040000000004%2C%208.49213%2C%204.64%5D%2C%20%5B47.35649%2C%208.582130000000001%2C%205.0%5D%2C%20%5B47.37182%2C%208.51702%2C%205.0%5D%2C%20%5B47.36289%2C%208.551630000000001%2C%205.0%5D%2C%20%5B47.36351%2C%208.49217%2C%205.0%5D%2C%20%5B47.36244%2C%208.55003%2C%204.98%5D%2C%20%5B47.38856%2C%208.53689%2C%204.81%5D%2C%20%5B47.38043%2C%208.53226%2C%204.88%5D%2C%20%5B47.36714%2C%208.52127%2C%204.69%5D%2C%20%5B47.404379999999996%2C%208.549430000000001%2C%205.0%5D%2C%20%5B47.386309999999995%2C%208.486930000000001%2C%204.71%5D%2C%20%5B47.38872%2C%208.53613%2C%205.0%5D%2C%20%5B47.35425%2C%208.558010000000001%2C%205.0%5D%2C%20%5B47.403209999999994%2C%208.56724%2C%205.0%5D%2C%20%5B47.38542%2C%208.53863%2C%204.8%5D%2C%20%5B47.414159999999995%2C%208.5577%2C%204.85%5D%2C%20%5B47.36592%2C%208.52842%2C%204.78%5D%2C%20%5B47.36053%2C%208.52656%2C%204.91%5D%2C%20%5B47.37587%2C%208.54518%2C%205.0%5D%2C%20%5B47.38487%2C%208.54462%2C%204.796838885112169%5D%2C%20%5B47.39054%2C%208.521419999999999%2C%204.85%5D%2C%20%5B47.36124%2C%208.55203%2C%205.0%5D%2C%20%5B47.377159999999996%2C%208.545%2C%204.9%5D%2C%20%5B47.36902%2C%208.55053%2C%204.78%5D%2C%20%5B47.40229%2C%208.54445%2C%204.5%5D%2C%20%5B47.37617%2C%208.51201%2C%204.796838885112169%5D%2C%20%5B47.366929999999996%2C%208.55756%2C%205.0%5D%2C%20%5B47.38702%2C%208.54031%2C%204.92%5D%2C%20%5B47.37075%2C%208.52675%2C%204.0%5D%2C%20%5B47.3647%2C%208.508989999999999%2C%204.77%5D%2C%20%5B47.37725%2C%208.56622%2C%205.0%5D%2C%20%5B47.372840000000004%2C%208.54013%2C%204.98%5D%2C%20%5B47.385040000000004%2C%208.544839999999999%2C%204.796838885112169%5D%2C%20%5B47.41568%2C%208.5328%2C%204.92%5D%2C%20%5B47.41881%2C%208.54539%2C%204.86%5D%2C%20%5B47.38664%2C%208.4977%2C%204.67%5D%2C%20%5B47.40868%2C%208.55755%2C%205.0%5D%2C%20%5B47.40467%2C%208.54908%2C%205.0%5D%2C%20%5B47.419129999999996%2C%208.54363%2C%205.0%5D%2C%20%5B47.38214%2C%208.52955%2C%204.88%5D%2C%20%5B47.37755%2C%208.5229%2C%205.0%5D%2C%20%5B47.37112%2C%208.49875%2C%204.81%5D%2C%20%5B47.379490000000004%2C%208.5189%2C%204.796838885112169%5D%2C%20%5B47.35542%2C%208.558119999999999%2C%205.0%5D%2C%20%5B47.39972%2C%208.5047%2C%204.95%5D%2C%20%5B47.382059999999996%2C%208.52815%2C%204.93%5D%2C%20%5B47.4034%2C%208.54675%2C%204.69%5D%2C%20%5B47.37482%2C%208.54345%2C%204.97%5D%2C%20%5B47.42385%2C%208.50211%2C%204.94%5D%2C%20%5B47.38247%2C%208.53373%2C%204.73%5D%2C%20%5B47.40148%2C%208.53308%2C%204.95%5D%2C%20%5B47.39457%2C%208.48447%2C%204.85%5D%2C%20%5B47.397%2C%208.51879%2C%204.98%5D%2C%20%5B47.36609%2C%208.560210000000001%2C%204.95%5D%2C%20%5B47.35067%2C%208.56311%2C%204.78%5D%2C%20%5B47.38326%2C%208.53162%2C%204.71%5D%2C%20%5B47.36339%2C%208.551160000000001%2C%205.0%5D%2C%20%5B47.355509999999995%2C%208.55752%2C%204.95%5D%2C%20%5B47.36372%2C%208.55814%2C%204.796838885112169%5D%2C%20%5B47.379020000000004%2C%208.55632%2C%205.0%5D%2C%20%5B47.36892%2C%208.55293%2C%204.92%5D%2C%20%5B47.33815%2C%208.53647%2C%204.67%5D%2C%20%5B47.36589%2C%208.55674%2C%204.92%5D%2C%20%5B47.36026%2C%208.582989999999999%2C%204.91%5D%2C%20%5B47.40587%2C%208.55215%2C%204.57%5D%2C%20%5B47.36418%2C%208.54729%2C%205.0%5D%2C%20%5B47.38465%2C%208.50735%2C%204.75%5D%2C%20%5B47.406040000000004%2C%208.55195%2C%205.0%5D%2C%20%5B47.36515%2C%208.55512%2C%204.4%5D%2C%20%5B47.37345%2C%208.52357%2C%204.84%5D%2C%20%5B47.379870000000004%2C%208.516589999999999%2C%204.5%5D%2C%20%5B47.37815%2C%208.52811%2C%204.73%5D%2C%20%5B47.37058%2C%208.5617%2C%204.67%5D%2C%20%5B47.37212%2C%208.562610000000001%2C%204.83%5D%2C%20%5B47.37247%2C%208.52614%2C%204.96%5D%2C%20%5B47.37073%2C%208.493780000000001%2C%205.0%5D%2C%20%5B47.3814%2C%208.47901%2C%204.64%5D%2C%20%5B47.36776%2C%208.54372%2C%204.67%5D%2C%20%5B47.37735%2C%208.53448%2C%205.0%5D%2C%20%5B47.36261%2C%208.53167%2C%205.0%5D%2C%20%5B47.36874%2C%208.53988%2C%205.0%5D%2C%20%5B47.36874%2C%208.53988%2C%205.0%5D%2C%20%5B47.36874%2C%208.53988%2C%205.0%5D%2C%20%5B47.40763%2C%208.557780000000001%2C%204.57%5D%2C%20%5B47.35886%2C%208.5294%2C%205.0%5D%2C%20%5B47.3612%2C%208.53389%2C%205.0%5D%2C%20%5B47.3774%2C%208.52904%2C%204.79%5D%2C%20%5B47.37082%2C%208.52267%2C%205.0%5D%2C%20%5B47.36858%2C%208.54619%2C%204.796838885112169%5D%2C%20%5B47.376870000000004%2C%208.53052%2C%204.93%5D%2C%20%5B47.358979999999995%2C%208.55223%2C%204.796838885112169%5D%2C%20%5B47.37042%2C%208.5064%2C%204.92%5D%2C%20%5B47.40214%2C%208.545760000000001%2C%204.88%5D%2C%20%5B47.408120000000004%2C%208.525319999999999%2C%204.88%5D%2C%20%5B47.3979%2C%208.54575%2C%204.5%5D%2C%20%5B47.389140000000005%2C%208.53905%2C%205.0%5D%2C%20%5B47.40659%2C%208.58761%2C%204.796838885112169%5D%2C%20%5B47.36508%2C%208.51045%2C%204.91%5D%2C%20%5B47.38538%2C%208.49912%2C%204.75%5D%2C%20%5B47.376090000000005%2C%208.52944%2C%205.0%5D%2C%20%5B47.3693%2C%208.51901%2C%204.82%5D%2C%20%5B47.385220000000004%2C%208.54765%2C%205.0%5D%2C%20%5B47.357890999999995%2C%208.598951%2C%205.0%5D%2C%20%5B47.37883%2C%208.52919%2C%204.92%5D%2C%20%5B47.37754%2C%208.515830000000001%2C%205.0%5D%2C%20%5B47.40175%2C%208.54836%2C%204.796838885112169%5D%2C%20%5B47.40426%2C%208.55198%2C%205.0%5D%2C%20%5B47.366009999999996%2C%208.52238%2C%204.796838885112169%5D%2C%20%5B47.38067%2C%208.50817%2C%204.76%5D%2C%20%5B47.39051%2C%208.52615%2C%204.89%5D%2C%20%5B47.374759999999995%2C%208.51902%2C%204.8%5D%2C%20%5B47.35988%2C%208.49686%2C%204.83%5D%2C%20%5B47.416129999999995%2C%208.53247%2C%204.796838885112169%5D%2C%20%5B47.38368%2C%208.49682%2C%205.0%5D%2C%20%5B47.37249%2C%208.4937%2C%204.77%5D%2C%20%5B47.38084%2C%208.548689999999999%2C%204.67%5D%2C%20%5B47.394870000000004%2C%208.520489999999999%2C%204.75%5D%2C%20%5B47.37365%2C%208.51396%2C%205.0%5D%2C%20%5B47.38617%2C%208.526019999999999%2C%205.0%5D%2C%20%5B47.40568%2C%208.48065%2C%205.0%5D%2C%20%5B47.37532%2C%208.52863%2C%205.0%5D%2C%20%5B47.431290000000004%2C%208.546560000000001%2C%204.0%5D%2C%20%5B47.370259999999995%2C%208.51404%2C%204.72%5D%2C%20%5B47.39792%2C%208.547939999999999%2C%204.83%5D%2C%20%5B47.37693%2C%208.53261%2C%204.67%5D%2C%20%5B47.37693%2C%208.53261%2C%204.796838885112169%5D%2C%20%5B47.34902%2C%208.52871%2C%205.0%5D%2C%20%5B47.37686%2C%208.534189999999999%2C%205.0%5D%2C%20%5B47.37693%2C%208.53261%2C%204.75%5D%2C%20%5B47.37693%2C%208.53261%2C%204.796838885112169%5D%2C%20%5B47.37693%2C%208.53261%2C%204.0%5D%2C%20%5B47.37303%2C%208.526110000000001%2C%205.0%5D%2C%20%5B47.395%2C%208.51924%2C%204.86%5D%2C%20%5B47.37303%2C%208.526110000000001%2C%204.85%5D%2C%20%5B47.37303%2C%208.526110000000001%2C%205.0%5D%2C%20%5B47.376059999999995%2C%208.559389999999999%2C%204.796838885112169%5D%2C%20%5B47.37239%2C%208.56137%2C%205.0%5D%2C%20%5B47.37301%2C%208.52605%2C%205.0%5D%2C%20%5B47.37301%2C%208.52605%2C%204.796838885112169%5D%2C%20%5B47.37301%2C%208.52605%2C%205.0%5D%2C%20%5B47.37327%2C%208.5262%2C%204.91%5D%2C%20%5B47.37327%2C%208.5262%2C%205.0%5D%2C%20%5B47.37327%2C%208.5262%2C%205.0%5D%2C%20%5B47.33592%2C%208.53375%2C%204.87%5D%2C%20%5B47.41917%2C%208.502510000000001%2C%204.796838885112169%5D%2C%20%5B47.35799%2C%208.59258%2C%204.67%5D%2C%20%5B47.36983%2C%208.5318%2C%205.0%5D%2C%20%5B47.36983%2C%208.5318%2C%204.86%5D%2C%20%5B47.36983%2C%208.5318%2C%205.0%5D%2C%20%5B47.36983%2C%208.5318%2C%204.796838885112169%5D%2C%20%5B47.36983%2C%208.5318%2C%205.0%5D%2C%20%5B47.41405%2C%208.545069999999999%2C%202.5%5D%2C%20%5B47.41406%2C%208.544789999999999%2C%205.0%5D%2C%20%5B47.41405%2C%208.545069999999999%2C%205.0%5D%2C%20%5B47.41406%2C%208.544789999999999%2C%205.0%5D%2C%20%5B47.41408%2C%208.5452%2C%204.33%5D%2C%20%5B47.41406%2C%208.544789999999999%2C%205.0%5D%2C%20%5B47.41406%2C%208.544789999999999%2C%204.796838885112169%5D%2C%20%5B47.41408%2C%208.5452%2C%204.796838885112169%5D%2C%20%5B47.41405%2C%208.545069999999999%2C%205.0%5D%2C%20%5B47.41405%2C%208.545069999999999%2C%205.0%5D%2C%20%5B47.41406%2C%208.544789999999999%2C%204.796838885112169%5D%2C%20%5B47.41406%2C%208.544789999999999%2C%204.796838885112169%5D%2C%20%5B47.379290000000005%2C%208.54274%2C%205.0%5D%2C%20%5B47.37301%2C%208.52281%2C%204.0%5D%2C%20%5B47.371590000000005%2C%208.541210000000001%2C%205.0%5D%2C%20%5B47.371590000000005%2C%208.541210000000001%2C%205.0%5D%2C%20%5B47.34855%2C%208.57322%2C%204.796838885112169%5D%2C%20%5B47.372679999999995%2C%208.54017%2C%205.0%5D%2C%20%5B47.3569%2C%208.52679%2C%205.0%5D%2C%20%5B47.375479999999996%2C%208.52598%2C%204.78%5D%2C%20%5B47.369690000000006%2C%208.51435%2C%205.0%5D%2C%20%5B47.412%2C%208.5293%2C%204.796838885112169%5D%2C%20%5B47.41538%2C%208.54845%2C%203.67%5D%2C%20%5B47.39045%2C%208.538310000000001%2C%204.67%5D%2C%20%5B47.3569%2C%208.52679%2C%204.796838885112169%5D%2C%20%5B47.3569%2C%208.52679%2C%204.0%5D%2C%20%5B47.3569%2C%208.52679%2C%204.14%5D%2C%20%5B47.37194%2C%208.52459%2C%205.0%5D%2C%20%5B47.37194%2C%208.52459%2C%204.796838885112169%5D%2C%20%5B47.37194%2C%208.52459%2C%204.796838885112169%5D%2C%20%5B47.40603%2C%208.481589999999999%2C%204.65%5D%2C%20%5B47.377520000000004%2C%208.52935%2C%205.0%5D%2C%20%5B47.40165%2C%208.50117%2C%205.0%5D%2C%20%5B47.38743%2C%208.48272%2C%204.67%5D%2C%20%5B47.40586%2C%208.586780000000001%2C%204.73%5D%2C%20%5B47.35581%2C%208.529639999999999%2C%205.0%5D%2C%20%5B47.37061%2C%208.54095%2C%205.0%5D%2C%20%5B47.357209999999995%2C%208.5547%2C%204.97%5D%2C%20%5B47.41472%2C%208.54396%2C%204.73%5D%2C%20%5B47.372440000000005%2C%208.53544%2C%204.796838885112169%5D%2C%20%5B47.36019%2C%208.522680000000001%2C%205.0%5D%2C%20%5B47.372679999999995%2C%208.52651%2C%204.796838885112169%5D%2C%20%5B47.40639%2C%208.54706%2C%205.0%5D%2C%20%5B47.40826%2C%208.54878%2C%204.8%5D%2C%20%5B47.40647%2C%208.54768%2C%204.7%5D%2C%20%5B47.373020000000004%2C%208.51875%2C%204.89%5D%2C%20%5B47.404720000000005%2C%208.57047%2C%204.82%5D%2C%20%5B47.37133%2C%208.54047%2C%205.0%5D%2C%20%5B47.364540000000005%2C%208.56648%2C%205.0%5D%2C%20%5B47.37585%2C%208.4835%2C%205.0%5D%2C%20%5B47.370909999999995%2C%208.52796%2C%205.0%5D%2C%20%5B47.41059%2C%208.536439999999999%2C%204.91%5D%2C%20%5B47.40678%2C%208.54767%2C%204.67%5D%2C%20%5B47.37728%2C%208.48299%2C%204.67%5D%2C%20%5B47.357605%2C%208.599305000000001%2C%204.82%5D%2C%20%5B47.37942%2C%208.506210000000001%2C%204.58%5D%2C%20%5B47.42046%2C%208.53931%2C%204.95%5D%2C%20%5B47.37249%2C%208.51675%2C%204.5%5D%2C%20%5B47.33484%2C%208.5286%2C%205.0%5D%2C%20%5B47.40109%2C%208.50269%2C%204.91%5D%2C%20%5B47.38321%2C%208.533760000000001%2C%204.92%5D%2C%20%5B47.35902%2C%208.51672%2C%205.0%5D%2C%20%5B47.405879999999996%2C%208.48537%2C%204.59%5D%2C%20%5B47.36903%2C%208.5349%2C%204.796838885112169%5D%2C%20%5B47.41619%2C%208.54744%2C%204.796838885112169%5D%2C%20%5B47.3749%2C%208.55268%2C%204.86%5D%2C%20%5B47.39346%2C%208.55028%2C%205.0%5D%2C%20%5B47.393370000000004%2C%208.4846%2C%204.0%5D%2C%20%5B47.393370000000004%2C%208.4846%2C%204.796838885112169%5D%2C%20%5B47.371359999999996%2C%208.54775%2C%205.0%5D%2C%20%5B47.3687%2C%208.53527%2C%205.0%5D%2C%20%5B47.35794%2C%208.58881%2C%205.0%5D%2C%20%5B47.40351%2C%208.55275%2C%204.42%5D%2C%20%5B47.35508%2C%208.57203%2C%204.94%5D%2C%20%5B47.34511%2C%208.531239999999999%2C%205.0%5D%2C%20%5B47.388999999999996%2C%208.53534%2C%204.796838885112169%5D%2C%20%5B47.41281%2C%208.54718%2C%204.796838885112169%5D%2C%20%5B47.365559999999995%2C%208.53695%2C%205.0%5D%2C%20%5B47.37448%2C%208.5389%2C%205.0%5D%2C%20%5B47.35265%2C%208.53007%2C%204.796838885112169%5D%2C%20%5B47.35265%2C%208.53007%2C%204.796838885112169%5D%2C%20%5B47.35265%2C%208.53007%2C%204.796838885112169%5D%2C%20%5B47.35265%2C%208.53007%2C%205.0%5D%2C%20%5B47.35265%2C%208.53007%2C%204.796838885112169%5D%2C%20%5B47.358059999999995%2C%208.49732%2C%204.72%5D%2C%20%5B47.3945%2C%208.51886%2C%204.8%5D%2C%20%5B47.37072%2C%208.51468%2C%204.6%5D%2C%20%5B47.37668%2C%208.51501%2C%204.796838885112169%5D%2C%20%5B47.37072%2C%208.51468%2C%205.0%5D%2C%20%5B47.354079999999996%2C%208.52575%2C%204.86%5D%2C%20%5B47.39829%2C%208.588339999999999%2C%204.17%5D%2C%20%5B47.37927%2C%208.53025%2C%204.4%5D%2C%20%5B47.3771%2C%208.53121%2C%205.0%5D%2C%20%5B47.414970000000004%2C%208.51393%2C%205.0%5D%2C%20%5B47.388040000000004%2C%208.49213%2C%205.0%5D%2C%20%5B47.41933%2C%208.55701%2C%204.796838885112169%5D%2C%20%5B47.37072%2C%208.51468%2C%205.0%5D%2C%20%5B47.36646%2C%208.532810000000001%2C%204.91%5D%2C%20%5B47.37069%2C%208.54355%2C%205.0%5D%2C%20%5B47.36667%2C%208.53173%2C%205.0%5D%2C%20%5B47.36635%2C%208.53318%2C%205.0%5D%2C%20%5B47.36828%2C%208.53312%2C%204.82%5D%2C%20%5B47.36687%2C%208.53187%2C%205.0%5D%2C%20%5B47.36825%2C%208.53284%2C%204.95%5D%2C%20%5B47.39072%2C%208.510472%2C%204.4%5D%2C%20%5B47.38889%2C%208.52105%2C%205.0%5D%2C%20%5B47.369479999999996%2C%208.55685%2C%204.85%5D%2C%20%5B47.37997%2C%208.52528%2C%205.0%5D%2C%20%5B47.373020000000004%2C%208.51717%2C%204.796838885112169%5D%2C%20%5B47.386359999999996%2C%208.5381%2C%205.0%5D%2C%20%5B47.37948%2C%208.52613%2C%205.0%5D%2C%20%5B47.3763%2C%208.52042%2C%204.796838885112169%5D%2C%20%5B47.38697%2C%208.53846%2C%204.0%5D%2C%20%5B47.38153%2C%208.5378%2C%204.88%5D%2C%20%5B47.37384%2C%208.54313%2C%205.0%5D%2C%20%5B47.37666%2C%208.52345%2C%205.0%5D%2C%20%5B47.37591%2C%208.523539999999999%2C%205.0%5D%2C%20%5B47.37806%2C%208.52338%2C%205.0%5D%2C%20%5B47.377340000000004%2C%208.50773%2C%204.796838885112169%5D%2C%20%5B47.3693%2C%208.54475%2C%204.93%5D%2C%20%5B47.369820000000004%2C%208.51417%2C%205.0%5D%2C%20%5B47.35686%2C%208.59309%2C%204.6%5D%2C%20%5B47.371159999999996%2C%208.569469999999999%2C%204.91%5D%2C%20%5B47.38199%2C%208.534930000000001%2C%205.0%5D%2C%20%5B47.3564%2C%208.52464%2C%204.83%5D%2C%20%5B47.3341%2C%208.53502%2C%205.0%5D%2C%20%5B47.37089%2C%208.51895%2C%205.0%5D%2C%20%5B47.36592%2C%208.50806%2C%205.0%5D%2C%20%5B47.36363%2C%208.527239999999999%2C%204.796838885112169%5D%2C%20%5B47.3949%2C%208.50862%2C%204.796838885112169%5D%2C%20%5B47.40723%2C%208.53694%2C%204.88%5D%2C%20%5B47.36938%2C%208.49113%2C%204.17%5D%2C%20%5B47.39403%2C%208.48344%2C%205.0%5D%2C%20%5B47.39413%2C%208.485489999999999%2C%204.796838885112169%5D%2C%20%5B47.362770000000005%2C%208.52283%2C%204.796838885112169%5D%2C%20%5B47.35841%2C%208.51487%2C%204.91%5D%2C%20%5B47.360690000000005%2C%208.52317%2C%205.0%5D%2C%20%5B47.36692%2C%208.52334%2C%205.0%5D%2C%20%5B47.38435%2C%208.58876%2C%204.796838885112169%5D%2C%20%5B47.37384%2C%208.54313%2C%205.0%5D%2C%20%5B47.37384%2C%208.54313%2C%204.96%5D%2C%20%5B47.37384%2C%208.54313%2C%204.78%5D%2C%20%5B47.41118%2C%208.547189999999999%2C%205.0%5D%2C%20%5B47.417359999999995%2C%208.540569999999999%2C%204.78%5D%2C%20%5B47.36319%2C%208.53301%2C%204.796838885112169%5D%2C%20%5B47.34093%2C%208.52852%2C%205.0%5D%2C%20%5B47.355920000000005%2C%208.55449%2C%205.0%5D%2C%20%5B47.355920000000005%2C%208.55449%2C%204.88%5D%2C%20%5B47.355920000000005%2C%208.55449%2C%204.82%5D%2C%20%5B47.355920000000005%2C%208.55449%2C%205.0%5D%2C%20%5B47.38842%2C%208.494580000000001%2C%204.38%5D%2C%20%5B47.388220000000004%2C%208.49342%2C%205.0%5D%2C%20%5B47.38649%2C%208.49515%2C%204.31%5D%2C%20%5B47.3599%2C%208.583789999999999%2C%205.0%5D%2C%20%5B47.37392%2C%208.52108%2C%205.0%5D%2C%20%5B47.36681%2C%208.53629%2C%204.796838885112169%5D%2C%20%5B47.355920000000005%2C%208.55449%2C%205.0%5D%2C%20%5B47.362320000000004%2C%208.56148%2C%204.796838885112169%5D%2C%20%5B47.393229999999996%2C%208.52133%2C%204.796838885112169%5D%2C%20%5B47.38389%2C%208.58814%2C%204.5%5D%2C%20%5B47.37417%2C%208.552589999999999%2C%204.86%5D%2C%20%5B47.360209999999995%2C%208.56809%2C%204.67%5D%2C%20%5B47.36202%2C%208.5273%2C%204.91%5D%2C%20%5B47.35134%2C%208.52848%2C%204.67%5D%2C%20%5B47.35305%2C%208.52843%2C%204.71%5D%2C%20%5B47.3516%2C%208.526539999999999%2C%204.65%5D%2C%20%5B47.37207%2C%208.54043%2C%205.0%5D%2C%20%5B47.38385%2C%208.48119%2C%205.0%5D%2C%20%5B47.36376%2C%208.53257%2C%204.89%5D%2C%20%5B47.36603%2C%208.53656%2C%205.0%5D%2C%20%5B47.36056%2C%208.56168%2C%205.0%5D%2C%20%5B47.37892%2C%208.52128%2C%205.0%5D%2C%20%5B47.36267%2C%208.5495%2C%205.0%5D%2C%20%5B47.375440000000005%2C%208.544189999999999%2C%204.796838885112169%5D%2C%20%5B47.375679999999996%2C%208.54451%2C%205.0%5D%2C%20%5B47.37219%2C%208.52848%2C%205.0%5D%2C%20%5B47.374140000000004%2C%208.543439999999999%2C%204.796838885112169%5D%2C%20%5B47.3758%2C%208.54284%2C%204.796838885112169%5D%2C%20%5B47.36072%2C%208.52224%2C%205.0%5D%2C%20%5B47.373979999999996%2C%208.545960000000001%2C%204.75%5D%2C%20%5B47.37406%2C%208.5451%2C%205.0%5D%2C%20%5B47.33856%2C%208.52951%2C%205.0%5D%2C%20%5B47.36953%2C%208.53536%2C%205.0%5D%2C%20%5B47.37555%2C%208.54358%2C%205.0%5D%2C%20%5B47.369409999999995%2C%208.53832%2C%204.796838885112169%5D%2C%20%5B47.39074%2C%208.51708%2C%204.88%5D%2C%20%5B47.38538%2C%208.50897%2C%204.796838885112169%5D%2C%20%5B47.3548%2C%208.55481%2C%205.0%5D%2C%20%5B47.372890000000005%2C%208.541319999999999%2C%205.0%5D%2C%20%5B47.40455%2C%208.551860000000001%2C%205.0%5D%2C%20%5B47.365120000000005%2C%208.517710000000001%2C%204.88%5D%2C%20%5B47.37187%2C%208.52914%2C%205.0%5D%2C%20%5B47.37205%2C%208.52908%2C%205.0%5D%2C%20%5B47.3708%2C%208.52769%2C%205.0%5D%2C%20%5B47.37069%2C%208.527619999999999%2C%205.0%5D%2C%20%5B47.36018%2C%208.52554%2C%204.796838885112169%5D%2C%20%5B47.38122%2C%208.50639%2C%204.9%5D%2C%20%5B47.37039%2C%208.5292%2C%204.796838885112169%5D%2C%20%5B47.37076%2C%208.51838%2C%204.79%5D%2C%20%5B47.37235%2C%208.52989%2C%204.92%5D%2C%20%5B47.37012%2C%208.52765%2C%205.0%5D%2C%20%5B47.37643%2C%208.48715%2C%204.796838885112169%5D%2C%20%5B47.39027%2C%208.48787%2C%204.83%5D%2C%20%5B47.374520000000004%2C%208.52373%2C%205.0%5D%2C%20%5B47.37121%2C%208.54376%2C%204.75%5D%2C%20%5B47.36957%2C%208.53611%2C%204.796838885112169%5D%2C%20%5B47.36269%2C%208.52421%2C%204.5%5D%2C%20%5B47.36292%2C%208.52422%2C%204.0%5D%2C%20%5B47.391090000000005%2C%208.48703%2C%204.796838885112169%5D%2C%20%5B47.381370000000004%2C%208.49939%2C%205.0%5D%2C%20%5B47.424170000000004%2C%208.55283%2C%204.796838885112169%5D%2C%20%5B47.35465%2C%208.55866%2C%204.796838885112169%5D%2C%20%5B47.41863%2C%208.55671%2C%204.84%5D%2C%20%5B47.397%2C%208.51883%2C%204.84%5D%2C%20%5B47.38945%2C%208.537410000000001%2C%204.95%5D%2C%20%5B47.36803%2C%208.5419%2C%204.796838885112169%5D%2C%20%5B47.42345%2C%208.543339999999999%2C%204.796838885112169%5D%2C%20%5B47.37802%2C%208.52801%2C%205.0%5D%2C%20%5B47.39266%2C%208.520669999999999%2C%205.0%5D%2C%20%5B47.36504%2C%208.52052%2C%204.796838885112169%5D%2C%20%5B47.394009999999994%2C%208.528369999999999%2C%204.87%5D%2C%20%5B47.34725%2C%208.53239%2C%204.82%5D%2C%20%5B47.37218%2C%208.52594%2C%205.0%5D%2C%20%5B47.35479%2C%208.55533%2C%204.56%5D%2C%20%5B47.34916%2C%208.526769999999999%2C%204.86%5D%2C%20%5B47.36739%2C%208.55337%2C%204.75%5D%2C%20%5B47.37468%2C%208.523539999999999%2C%204.796838885112169%5D%2C%20%5B47.39777%2C%208.503630000000001%2C%205.0%5D%2C%20%5B47.417970000000004%2C%208.50442%2C%204.83%5D%2C%20%5B47.38302%2C%208.54072%2C%204.75%5D%2C%20%5B47.355709999999995%2C%208.55505%2C%205.0%5D%2C%20%5B47.377309999999994%2C%208.5291%2C%205.0%5D%2C%20%5B47.36252%2C%208.56284%2C%205.0%5D%2C%20%5B47.38053%2C%208.53549%2C%204.796838885112169%5D%2C%20%5B47.37464%2C%208.52488%2C%204.0%5D%2C%20%5B47.3662%2C%208.49178%2C%204.0%5D%2C%20%5B47.36593%2C%208.49318%2C%204.796838885112169%5D%2C%20%5B47.39038%2C%208.53908%2C%204.86%5D%2C%20%5B47.36728%2C%208.49287%2C%204.5%5D%2C%20%5B47.36765%2C%208.4933%2C%205.0%5D%2C%20%5B47.36654%2C%208.49196%2C%204.796838885112169%5D%2C%20%5B47.36741%2C%208.49279%2C%205.0%5D%2C%20%5B47.36717%2C%208.492569999999999%2C%203.0%5D%2C%20%5B47.36606%2C%208.492519999999999%2C%204.796838885112169%5D%2C%20%5B47.3674%2C%208.49173%2C%204.0%5D%2C%20%5B47.36593%2C%208.493039999999999%2C%204.796838885112169%5D%2C%20%5B47.36719%2C%208.4932%2C%204.796838885112169%5D%2C%20%5B47.35491%2C%208.55552%2C%205.0%5D%2C%20%5B47.4032%2C%208.58859%2C%205.0%5D%2C%20%5B47.37758%2C%208.511289999999999%2C%204.796838885112169%5D%2C%20%5B47.36222%2C%208.5281%2C%205.0%5D%2C%20%5B47.373540000000006%2C%208.51628%2C%204.71%5D%2C%20%5B47.36141%2C%208.52483%2C%205.0%5D%2C%20%5B47.36932%2C%208.516%2C%205.0%5D%2C%20%5B47.35908%2C%208.5287%2C%204.8%5D%2C%20%5B47.33591%2C%208.53252%2C%204.78%5D%2C%20%5B47.375%2C%208.52736%2C%205.0%5D%2C%20%5B47.38498%2C%208.49403%2C%204.796838885112169%5D%2C%20%5B47.3783%2C%208.51596%2C%204.5%5D%2C%20%5B47.38151%2C%208.53074%2C%204.796838885112169%5D%2C%20%5B47.42321%2C%208.5025%2C%204.83%5D%2C%20%5B47.40081%2C%208.54833%2C%204.796838885112169%5D%2C%20%5B47.35814%2C%208.59302%2C%204.0%5D%2C%20%5B47.36851%2C%208.55345%2C%205.0%5D%2C%20%5B47.36801%2C%208.54331%2C%205.0%5D%2C%20%5B47.38735%2C%208.52827%2C%204.8%5D%2C%20%5B47.384159999999994%2C%208.528839999999999%2C%204.89%5D%2C%20%5B47.37576%2C%208.497589999999999%2C%205.0%5D%2C%20%5B47.37158%2C%208.51907%2C%205.0%5D%2C%20%5B47.33515%2C%208.531089999999999%2C%204.83%5D%2C%20%5B47.41758%2C%208.54509%2C%205.0%5D%2C%20%5B47.37344%2C%208.51418%2C%205.0%5D%2C%20%5B47.40311%2C%208.54764%2C%204.71%5D%2C%20%5B47.37435%2C%208.5174%2C%204.796838885112169%5D%2C%20%5B47.37377%2C%208.54165%2C%203.0%5D%2C%20%5B47.39472%2C%208.5315%2C%204.5%5D%2C%20%5B47.36124%2C%208.55087%2C%204.796838885112169%5D%2C%20%5B47.36124%2C%208.55087%2C%204.5%5D%2C%20%5B47.384170000000005%2C%208.54215%2C%205.0%5D%2C%20%5B47.36084%2C%208.517719999999999%2C%205.0%5D%2C%20%5B47.396209999999996%2C%208.51925%2C%205.0%5D%2C%20%5B47.3844%2C%208.53129%2C%204.75%5D%2C%20%5B47.37003%2C%208.50509%2C%205.0%5D%2C%20%5B47.366409999999995%2C%208.55313%2C%205.0%5D%2C%20%5B47.362429999999996%2C%208.5594%2C%205.0%5D%2C%20%5B47.360620000000004%2C%208.50629%2C%205.0%5D%2C%20%5B47.40705%2C%208.49134%2C%204.796838885112169%5D%2C%20%5B47.407140000000005%2C%208.490730000000001%2C%205.0%5D%2C%20%5B47.419059999999995%2C%208.54301%2C%205.0%5D%2C%20%5B47.361990000000006%2C%208.55001%2C%205.0%5D%2C%20%5B47.40674%2C%208.48472%2C%204.796838885112169%5D%2C%20%5B47.36186%2C%208.512960000000001%2C%204.796838885112169%5D%2C%20%5B47.39398%2C%208.52661%2C%204.796838885112169%5D%2C%20%5B47.38432%2C%208.50799%2C%204.82%5D%2C%20%5B47.38333%2C%208.528030000000001%2C%204.796838885112169%5D%2C%20%5B47.37778%2C%208.55599%2C%205.0%5D%2C%20%5B47.37912%2C%208.55684%2C%205.0%5D%2C%20%5B47.378859999999996%2C%208.529710000000001%2C%204.796838885112169%5D%2C%20%5B47.365809999999996%2C%208.55423%2C%205.0%5D%2C%20%5B47.355709999999995%2C%208.554310000000001%2C%204.796838885112169%5D%2C%20%5B47.37592%2C%208.484630000000001%2C%204.33%5D%2C%20%5B47.41638%2C%208.54572%2C%204.5%5D%2C%20%5B47.36663%2C%208.52033%2C%204.41%5D%2C%20%5B47.39249%2C%208.4851%2C%204.83%5D%2C%20%5B47.365559999999995%2C%208.53695%2C%205.0%5D%2C%20%5B47.37403%2C%208.51147%2C%204.82%5D%2C%20%5B47.36124%2C%208.55087%2C%205.0%5D%2C%20%5B47.36124%2C%208.55087%2C%205.0%5D%2C%20%5B47.384170000000005%2C%208.54215%2C%204.75%5D%2C%20%5B47.384170000000005%2C%208.54215%2C%204.796838885112169%5D%2C%20%5B47.384170000000005%2C%208.54215%2C%204.67%5D%2C%20%5B47.361090000000004%2C%208.55035%2C%205.0%5D%2C%20%5B47.361090000000004%2C%208.55035%2C%204.796838885112169%5D%2C%20%5B47.383390000000006%2C%208.54063%2C%204.83%5D%2C%20%5B47.36267%2C%208.56095%2C%204.9%5D%2C%20%5B47.37281%2C%208.54084%2C%205.0%5D%2C%20%5B47.358309999999996%2C%208.55649%2C%204.88%5D%2C%20%5B47.38302%2C%208.54072%2C%204.33%5D%2C%20%5B47.383390000000006%2C%208.54063%2C%204.86%5D%2C%20%5B47.38302%2C%208.54072%2C%204.5%5D%2C%20%5B47.36085%2C%208.56397%2C%205.0%5D%2C%20%5B47.37356%2C%208.51567%2C%204.0%5D%2C%20%5B47.36079%2C%208.55142%2C%205.0%5D%2C%20%5B47.40976%2C%208.543389999999999%2C%204.89%5D%2C%20%5B47.3626%2C%208.55989%2C%204.86%5D%2C%20%5B47.36891%2C%208.54845%2C%204.796838885112169%5D%2C%20%5B47.41053%2C%208.55296%2C%205.0%5D%2C%20%5B47.35559%2C%208.55373%2C%204.75%5D%2C%20%5B47.42685%2C%208.55386%2C%204.57%5D%2C%20%5B47.37441%2C%208.54372%2C%204.72%5D%2C%20%5B47.398720000000004%2C%208.587110000000001%2C%204.796838885112169%5D%2C%20%5B47.35497%2C%208.56128%2C%204.83%5D%2C%20%5B47.37372%2C%208.52188%2C%205.0%5D%2C%20%5B47.41894%2C%208.54425%2C%205.0%5D%2C%20%5B47.36247%2C%208.56022%2C%204.84%5D%2C%20%5B47.419129999999996%2C%208.547239999999999%2C%204.796838885112169%5D%2C%20%5B47.37863%2C%208.5594%2C%205.0%5D%2C%20%5B47.37441%2C%208.54372%2C%204.88%5D%2C%20%5B47.37404%2C%208.5216%2C%204.83%5D%2C%20%5B47.372690000000006%2C%208.553939999999999%2C%205.0%5D%2C%20%5B47.37304%2C%208.55247%2C%204.63%5D%2C%20%5B47.375609999999995%2C%208.516580000000001%2C%205.0%5D%2C%20%5B47.38617%2C%208.526019999999999%2C%204.8%5D%2C%20%5B47.37251%2C%208.52626%2C%204.68%5D%2C%20%5B47.41662%2C%208.555069999999999%2C%204.82%5D%2C%20%5B47.360279999999996%2C%208.56605%2C%204.89%5D%2C%20%5B47.42284%2C%208.51295%2C%204.796838885112169%5D%2C%20%5B47.41871%2C%208.55307%2C%204.796838885112169%5D%2C%20%5B47.35675%2C%208.55385%2C%204.8%5D%2C%20%5B47.37891%2C%208.558%2C%204.796838885112169%5D%2C%20%5B47.3742%2C%208.5408%2C%205.0%5D%2C%20%5B47.37635%2C%208.543660000000001%2C%205.0%5D%2C%20%5B47.3698%2C%208.52135%2C%205.0%5D%2C%20%5B47.3722%2C%208.516689999999999%2C%204.796838885112169%5D%2C%20%5B47.37254%2C%208.52165%2C%205.0%5D%2C%20%5B47.36765%2C%208.56379%2C%205.0%5D%2C%20%5B47.36971%2C%208.563410000000001%2C%205.0%5D%2C%20%5B47.3775%2C%208.51608%2C%205.0%5D%2C%20%5B47.37695%2C%208.5258%2C%205.0%5D%2C%20%5B47.384029999999996%2C%208.53139%2C%205.0%5D%2C%20%5B47.36224%2C%208.52088%2C%204.796838885112169%5D%2C%20%5B47.384890000000006%2C%208.49435%2C%204.796838885112169%5D%2C%20%5B47.3803%2C%208.52665%2C%204.75%5D%2C%20%5B47.42033%2C%208.5387%2C%204.0%5D%2C%20%5B47.39125%2C%208.53908%2C%204.5%5D%2C%20%5B47.38038%2C%208.50639%2C%205.0%5D%2C%20%5B47.37695%2C%208.5079%2C%204.796838885112169%5D%2C%20%5B47.36396%2C%208.560189999999999%2C%204.71%5D%2C%20%5B47.37973%2C%208.50741%2C%205.0%5D%2C%20%5B47.3744%2C%208.5385%2C%205.0%5D%2C%20%5B47.41084%2C%208.55412%2C%204.796838885112169%5D%2C%20%5B47.41013%2C%208.5522%2C%204.0%5D%2C%20%5B47.4113%2C%208.55375%2C%205.0%5D%2C%20%5B47.41155%2C%208.5526%2C%204.0%5D%2C%20%5B47.3717763633497%2C%208.534251503434858%2C%204.75%5D%2C%20%5B47.38382%2C%208.529739999999999%2C%204.67%5D%2C%20%5B47.369659999999996%2C%208.55567%2C%205.0%5D%2C%20%5B47.403659999999995%2C%208.555769999999999%2C%204.796838885112169%5D%2C%20%5B47.35945%2C%208.55066%2C%204.796838885112169%5D%2C%20%5B47.35935%2C%208.55067%2C%205.0%5D%2C%20%5B47.35968%2C%208.5509%2C%204.796838885112169%5D%2C%20%5B47.3597%2C%208.550469999999999%2C%204.796838885112169%5D%2C%20%5B47.35925%2C%208.54884%2C%204.796838885112169%5D%2C%20%5B47.39075%2C%208.54009%2C%204.796838885112169%5D%2C%20%5B47.36007%2C%208.54889%2C%204.796838885112169%5D%2C%20%5B47.36096%2C%208.550980000000001%2C%204.796838885112169%5D%2C%20%5B47.36065%2C%208.54951%2C%204.796838885112169%5D%2C%20%5B47.361000000000004%2C%208.55079%2C%204.796838885112169%5D%2C%20%5B47.36119%2C%208.550139999999999%2C%204.796838885112169%5D%2C%20%5B47.39221%2C%208.479389999999999%2C%204.67%5D%2C%20%5B47.406000000000006%2C%208.51949%2C%204.4%5D%2C%20%5B47.41033%2C%208.538730000000001%2C%204.796838885112169%5D%2C%20%5B47.36398%2C%208.548789999999999%2C%204.86%5D%2C%20%5B47.3421%2C%208.53646%2C%204.8%5D%2C%20%5B47.381820000000005%2C%208.52923%2C%205.0%5D%2C%20%5B47.40481%2C%208.54273%2C%204.0%5D%2C%20%5B47.382540000000006%2C%208.535630000000001%2C%205.0%5D%2C%20%5B47.38552%2C%208.517710000000001%2C%204.796838885112169%5D%2C%20%5B47.40972%2C%208.534130000000001%2C%204.79%5D%2C%20%5B47.37748%2C%208.51525%2C%205.0%5D%2C%20%5B47.37635%2C%208.52249%2C%204.796838885112169%5D%2C%20%5B47.368990000000004%2C%208.561860000000001%2C%205.0%5D%2C%20%5B47.37075%2C%208.54119%2C%204.96%5D%2C%20%5B47.42272%2C%208.503630000000001%2C%204.796838885112169%5D%2C%20%5B47.35991%2C%208.56373%2C%204.796838885112169%5D%2C%20%5B47.37632%2C%208.53083%2C%204.796838885112169%5D%2C%20%5B47.38647%2C%208.53841%2C%205.0%5D%2C%20%5B47.37254%2C%208.52642%2C%205.0%5D%2C%20%5B47.4068%2C%208.5656%2C%205.0%5D%2C%20%5B47.39105%2C%208.50942%2C%204.5%5D%2C%20%5B47.38663%2C%208.52823%2C%203.67%5D%2C%20%5B47.380759999999995%2C%208.48828%2C%204.796838885112169%5D%2C%20%5B47.368559999999995%2C%208.545589999999999%2C%205.0%5D%2C%20%5B47.36755%2C%208.54535%2C%204.796838885112169%5D%2C%20%5B47.368559999999995%2C%208.545589999999999%2C%204.796838885112169%5D%2C%20%5B47.368840000000006%2C%208.54486%2C%205.0%5D%2C%20%5B47.38474%2C%208.49347%2C%205.0%5D%2C%20%5B47.368559999999995%2C%208.545589999999999%2C%204.796838885112169%5D%2C%20%5B47.370459999999994%2C%208.54522%2C%204.92%5D%2C%20%5B47.3861%2C%208.54529%2C%204.796838885112169%5D%2C%20%5B47.35982%2C%208.55135%2C%204.93%5D%2C%20%5B47.40231%2C%208.53246%2C%204.796838885112169%5D%2C%20%5B47.40597%2C%208.48654%2C%204.67%5D%2C%20%5B47.35617%2C%208.555810000000001%2C%205.0%5D%2C%20%5B47.37493%2C%208.52893%2C%205.0%5D%2C%20%5B47.406009999999995%2C%208.55301%2C%204.5%5D%2C%20%5B47.3724%2C%208.52839%2C%205.0%5D%2C%20%5B47.37441%2C%208.54372%2C%204.95%5D%2C%20%5B47.36037%2C%208.6012%2C%204.67%5D%2C%20%5B47.36026%2C%208.582989999999999%2C%205.0%5D%2C%20%5B47.395070000000004%2C%208.531830000000001%2C%201.0%5D%2C%20%5B47.37937%2C%208.50954%2C%204.796838885112169%5D%2C%20%5B47.361670000000004%2C%208.515460000000001%2C%204.88%5D%2C%20%5B47.36919%2C%208.564919999999999%2C%204.796838885112169%5D%2C%20%5B47.37086%2C%208.49388%2C%204.796838885112169%5D%2C%20%5B47.34946%2C%208.56138%2C%205.0%5D%2C%20%5B47.40419%2C%208.49572%2C%204.796838885112169%5D%2C%20%5B47.37832%2C%208.533339999999999%2C%204.796838885112169%5D%2C%20%5B47.36862%2C%208.52383%2C%205.0%5D%2C%20%5B47.370490000000004%2C%208.51233%2C%204.92%5D%2C%20%5B47.41302%2C%208.5567%2C%205.0%5D%2C%20%5B47.41053%2C%208.54473%2C%204.65%5D%2C%20%5B47.3786%2C%208.55764%2C%205.0%5D%2C%20%5B47.41022%2C%208.54348%2C%205.0%5D%2C%20%5B47.41048%2C%208.54263%2C%205.0%5D%2C%20%5B47.38171%2C%208.494639999999999%2C%205.0%5D%2C%20%5B47.41103%2C%208.544080000000001%2C%204.25%5D%2C%20%5B47.41022%2C%208.54398%2C%204.796838885112169%5D%2C%20%5B47.35753%2C%208.51698%2C%204.67%5D%2C%20%5B47.367470000000004%2C%208.55396%2C%204.85%5D%2C%20%5B47.35608%2C%208.56034%2C%204.796838885112169%5D%2C%20%5B47.41144%2C%208.54257%2C%204.76%5D%2C%20%5B47.375370000000004%2C%208.48559%2C%205.0%5D%2C%20%5B47.37447%2C%208.54341%2C%204.796838885112169%5D%2C%20%5B47.37813%2C%208.54307%2C%204.796838885112169%5D%2C%20%5B47.37905%2C%208.52865%2C%205.0%5D%2C%20%5B47.397659999999995%2C%208.51412%2C%204.796838885112169%5D%2C%20%5B47.37489%2C%208.52445%2C%205.0%5D%2C%20%5B47.377559999999995%2C%208.54378%2C%204.796838885112169%5D%2C%20%5B47.37559%2C%208.527289999999999%2C%204.796838885112169%5D%2C%20%5B47.38107%2C%208.56686%2C%205.0%5D%2C%20%5B47.390440000000005%2C%208.485380000000001%2C%204.87%5D%2C%20%5B47.39632%2C%208.4886%2C%204.58%5D%2C%20%5B47.3689%2C%208.52552%2C%204.796838885112169%5D%2C%20%5B47.38519%2C%208.48361%2C%205.0%5D%2C%20%5B47.37011%2C%208.55288%2C%205.0%5D%2C%20%5B47.390879999999996%2C%208.538310000000001%2C%205.0%5D%2C%20%5B47.352920000000005%2C%208.57899%2C%204.67%5D%2C%20%5B47.36258%2C%208.56834%2C%204.796838885112169%5D%2C%20%5B47.40398%2C%208.55365%2C%205.0%5D%2C%20%5B47.37668%2C%208.515460000000001%2C%205.0%5D%2C%20%5B47.39329%2C%208.4856%2C%205.0%5D%2C%20%5B47.39208%2C%208.53915%2C%205.0%5D%2C%20%5B47.35774%2C%208.49676%2C%205.0%5D%2C%20%5B47.395920000000004%2C%208.533389999999999%2C%204.83%5D%2C%20%5B47.377590000000005%2C%208.528319999999999%2C%204.796838885112169%5D%2C%20%5B47.41687%2C%208.54433%2C%205.0%5D%2C%20%5B47.41588%2C%208.54405%2C%204.796838885112169%5D%2C%20%5B47.36103%2C%208.526580000000001%2C%204.67%5D%2C%20%5B47.39455%2C%208.52854%2C%205.0%5D%2C%20%5B47.40696%2C%208.54942%2C%205.0%5D%2C%20%5B47.40845%2C%208.54808%2C%204.796838885112169%5D%2C%20%5B47.40674%2C%208.54825%2C%204.796838885112169%5D%2C%20%5B47.37392%2C%208.52433%2C%204.796838885112169%5D%2C%20%5B47.36592%2C%208.535%2C%204.796838885112169%5D%2C%20%5B47.373129999999996%2C%208.51724%2C%204.796838885112169%5D%2C%20%5B47.367740000000005%2C%208.54435%2C%205.0%5D%2C%20%5B47.377629999999996%2C%208.55663%2C%204.796838885112169%5D%2C%20%5B47.367290000000004%2C%208.523430000000001%2C%204.77%5D%2C%20%5B47.405809999999995%2C%208.551730000000001%2C%204.14%5D%2C%20%5B47.406620000000004%2C%208.55138%2C%204.75%5D%2C%20%5B47.3718%2C%208.51796%2C%205.0%5D%2C%20%5B47.36403%2C%208.561119999999999%2C%205.0%5D%2C%20%5B47.37093%2C%208.51825%2C%204.87%5D%2C%20%5B47.36435%2C%208.51886%2C%204.8%5D%2C%20%5B47.3806%2C%208.53611%2C%204.67%5D%2C%20%5B47.398379999999996%2C%208.539769999999999%2C%204.88%5D%2C%20%5B47.40493%2C%208.593210000000001%2C%204.796838885112169%5D%2C%20%5B47.36763%2C%208.53621%2C%205.0%5D%2C%20%5B47.346070000000005%2C%208.53331%2C%205.0%5D%2C%20%5B47.38145%2C%208.53467%2C%205.0%5D%2C%20%5B47.37989%2C%208.53622%2C%205.0%5D%2C%20%5B47.410767%2C%208.543563%2C%204.85%5D%2C%20%5B47.38545%2C%208.541730000000001%2C%204.796838885112169%5D%2C%20%5B47.37406%2C%208.52283%2C%204.796838885112169%5D%2C%20%5B47.35702%2C%208.5987%2C%204.796838885112169%5D%2C%20%5B47.37177%2C%208.51119%2C%205.0%5D%2C%20%5B47.366440000000004%2C%208.55842%2C%204.796838885112169%5D%2C%20%5B47.398379999999996%2C%208.58992%2C%204.16%5D%2C%20%5B47.39969%2C%208.59065%2C%203.0%5D%2C%20%5B47.425309999999996%2C%208.52024%2C%205.0%5D%2C%20%5B47.42467%2C%208.519060000000001%2C%204.796838885112169%5D%2C%20%5B47.398540000000004%2C%208.504589999999999%2C%205.0%5D%2C%20%5B47.37575%2C%208.53043%2C%205.0%5D%2C%20%5B47.399609999999996%2C%208.5061%2C%204.796838885112169%5D%2C%20%5B47.348890000000004%2C%208.56199%2C%204.83%5D%2C%20%5B47.3515%2C%208.5813%2C%204.88%5D%2C%20%5B47.37508%2C%208.543389999999999%2C%205.0%5D%2C%20%5B47.33226%2C%208.53477%2C%204.796838885112169%5D%2C%20%5B47.39105%2C%208.50891%2C%204.89%5D%2C%20%5B47.39989%2C%208.494530000000001%2C%205.0%5D%2C%20%5B47.41382%2C%208.54231%2C%205.0%5D%2C%20%5B47.36217%2C%208.51817%2C%205.0%5D%2C%20%5B47.41453%2C%208.55672%2C%204.9%5D%2C%20%5B47.36415%2C%208.55715%2C%204.796838885112169%5D%2C%20%5B47.368320000000004%2C%208.563369999999999%2C%204.796838885112169%5D%2C%20%5B47.38885%2C%208.5399%2C%205.0%5D%2C%20%5B47.391690000000004%2C%208.52711%2C%204.796838885112169%5D%2C%20%5B47.357597%2C%208.599312%2C%204.796838885112169%5D%2C%20%5B47.38131%2C%208.53631%2C%205.0%5D%2C%20%5B47.38004%2C%208.5345%2C%205.0%5D%2C%20%5B47.38224%2C%208.49868%2C%205.0%5D%2C%20%5B47.37117%2C%208.529119999999999%2C%204.5%5D%2C%20%5B47.39017%2C%208.485%2C%204.796838885112169%5D%2C%20%5B47.38397%2C%208.500110000000001%2C%205.0%5D%2C%20%5B47.3801%2C%208.48881%2C%205.0%5D%2C%20%5B47.412209999999995%2C%208.51787%2C%204.33%5D%2C%20%5B47.40063%2C%208.49925%2C%205.0%5D%2C%20%5B47.39312%2C%208.47373%2C%204.796838885112169%5D%2C%20%5B47.36912%2C%208.545960000000001%2C%205.0%5D%2C%20%5B47.37382%2C%208.52391%2C%204.83%5D%2C%20%5B47.39005%2C%208.53707%2C%205.0%5D%2C%20%5B47.385290000000005%2C%208.544410000000001%2C%205.0%5D%2C%20%5B47.36976%2C%208.53373%2C%205.0%5D%2C%20%5B47.37443%2C%208.51559%2C%204.796838885112169%5D%2C%20%5B47.4104%2C%208.54609%2C%205.0%5D%2C%20%5B47.36042%2C%208.564869999999999%2C%204.83%5D%2C%20%5B47.3491%2C%208.5634%2C%204.67%5D%2C%20%5B47.36594%2C%208.51628%2C%204.67%5D%2C%20%5B47.36175%2C%208.602260000000001%2C%205.0%5D%2C%20%5B47.39932%2C%208.53815%2C%204.67%5D%2C%20%5B47.40222%2C%208.53629%2C%204.796838885112169%5D%2C%20%5B47.39099%2C%208.48508%2C%204.796838885112169%5D%2C%20%5B47.38865%2C%208.497060000000001%2C%204.796838885112169%5D%2C%20%5B47.39629%2C%208.51503%2C%204.796838885112169%5D%2C%20%5B47.40818%2C%208.54149%2C%205.0%5D%2C%20%5B47.37809%2C%208.53173%2C%205.0%5D%2C%20%5B47.3776%2C%208.52133%2C%204.8%5D%2C%20%5B47.38272%2C%208.48055%2C%204.0%5D%2C%20%5B47.40084%2C%208.53225%2C%205.0%5D%2C%20%5B47.37363%2C%208.54405%2C%204.796838885112169%5D%2C%20%5B47.36085%2C%208.55291%2C%205.0%5D%2C%20%5B47.357597%2C%208.599312%2C%204.796838885112169%5D%2C%20%5B47.3864%2C%208.47701%2C%204.796838885112169%5D%2C%20%5B47.34047%2C%208.528839999999999%2C%205.0%5D%2C%20%5B47.39969%2C%208.53754%2C%204.796838885112169%5D%2C%20%5B47.3792%2C%208.55804%2C%205.0%5D%2C%20%5B47.35774%2C%208.52893%2C%204.5%5D%2C%20%5B47.37428%2C%208.54958%2C%205.0%5D%2C%20%5B47.369679999999995%2C%208.50262%2C%204.71%5D%2C%20%5B47.40341%2C%208.55141%2C%205.0%5D%2C%20%5B47.348259999999996%2C%208.52998%2C%204.796838885112169%5D%2C%20%5B47.36501%2C%208.53763%2C%205.0%5D%2C%20%5B47.37549%2C%208.51448%2C%205.0%5D%2C%20%5B47.37637%2C%208.52877%2C%205.0%5D%2C%20%5B47.40681%2C%208.55373%2C%204.0%5D%2C%20%5B47.40228%2C%208.495389999999999%2C%204.796838885112169%5D%2C%20%5B47.382195%2C%208.544195%2C%204.25%5D%2C%20%5B47.384009999999996%2C%208.54681%2C%201.0%5D%2C%20%5B47.35713%2C%208.515360000000001%2C%204.67%5D%2C%20%5B47.39074%2C%208.48526%2C%204.65%5D%2C%20%5B47.37519%2C%208.513739999999999%2C%205.0%5D%2C%20%5B47.35733%2C%208.59269%2C%205.0%5D%2C%20%5B47.3803%2C%208.50323%2C%205.0%5D%2C%20%5B47.359770000000005%2C%208.49863%2C%204.14%5D%2C%20%5B47.3628%2C%208.55965%2C%204.83%5D%2C%20%5B47.369609999999994%2C%208.56198%2C%205.0%5D%2C%20%5B47.42004%2C%208.551810000000001%2C%204.796838885112169%5D%2C%20%5B47.38349%2C%208.54354%2C%205.0%5D%2C%20%5B47.39845%2C%208.54295%2C%204.796838885112169%5D%2C%20%5B47.393390000000004%2C%208.522680000000001%2C%204.796838885112169%5D%2C%20%5B47.37625%2C%208.52033%2C%205.0%5D%2C%20%5B47.35843%2C%208.5571%2C%205.0%5D%2C%20%5B47.385690000000004%2C%208.52806%2C%205.0%5D%2C%20%5B47.39076%2C%208.48442%2C%204.89%5D%2C%20%5B47.38939%2C%208.48381%2C%204.78%5D%2C%20%5B47.3872%2C%208.49158%2C%204.67%5D%2C%20%5B47.38558%2C%208.538839999999999%2C%204.8%5D%2C%20%5B47.37735%2C%208.56777%2C%204.796838885112169%5D%2C%20%5B47.3789%2C%208.483460000000001%2C%204.796838885112169%5D%2C%20%5B47.35822%2C%208.497489999999999%2C%204.59%5D%2C%20%5B47.35723%2C%208.525%2C%205.0%5D%2C%20%5B47.3682%2C%208.56376%2C%205.0%5D%2C%20%5B47.34713%2C%208.53346%2C%205.0%5D%2C%20%5B47.372009999999996%2C%208.54397%2C%205.0%5D%2C%20%5B47.405109%2C%208.548741999999999%2C%204.67%5D%2C%20%5B47.3597%2C%208.52679%2C%204.5%5D%2C%20%5B47.357807%2C%208.599515%2C%205.0%5D%2C%20%5B47.39223%2C%208.52565%2C%204.796838885112169%5D%2C%20%5B47.3947%2C%208.51551%2C%205.0%5D%2C%20%5B47.35848%2C%208.497689999999999%2C%204.24%5D%2C%20%5B47.40347%2C%208.535789999999999%2C%204.796838885112169%5D%2C%20%5B47.37749%2C%208.51252%2C%204.89%5D%2C%20%5B47.37272%2C%208.54358%2C%204.796838885112169%5D%2C%20%5B47.35816%2C%208.49898%2C%204.5%5D%2C%20%5B47.357597%2C%208.599312%2C%204.0%5D%2C%20%5B47.3931%2C%208.52554%2C%205.0%5D%2C%20%5B47.38324%2C%208.53164%2C%204.796838885112169%5D%2C%20%5B47.359359999999995%2C%208.49762%2C%204.4%5D%2C%20%5B47.39526%2C%208.54318%2C%204.796838885112169%5D%2C%20%5B47.37491%2C%208.54427%2C%205.0%5D%2C%20%5B47.41918%2C%208.53762%2C%204.796838885112169%5D%2C%20%5B47.33657%2C%208.531789999999999%2C%205.0%5D%2C%20%5B47.36564%2C%208.52086%2C%204.796838885112169%5D%2C%20%5B47.34944%2C%208.57441%2C%204.796838885112169%5D%2C%20%5B47.34663%2C%208.56425%2C%205.0%5D%2C%20%5B47.38774%2C%208.48396%2C%204.52%5D%2C%20%5B47.37295%2C%208.519739999999999%2C%204.796838885112169%5D%2C%20%5B47.3579%2C%208.49874%2C%204.15%5D%2C%20%5B47.35815%2C%208.49704%2C%203.88%5D%2C%20%5B47.35794%2C%208.497689999999999%2C%204.23%5D%2C%20%5B47.3583%2C%208.497060000000001%2C%204.05%5D%2C%20%5B47.3591%2C%208.49817%2C%204.51%5D%2C%20%5B47.36845%2C%208.545261%2C%205.0%5D%2C%20%5B47.3812%2C%208.53428%2C%205.0%5D%2C%20%5B47.357807%2C%208.599515%2C%204.5%5D%2C%20%5B47.3861%2C%208.50922%2C%204.83%5D%2C%20%5B47.35803%2C%208.4973%2C%204.29%5D%2C%20%5B47.36%2C%208.497689999999999%2C%204.38%5D%2C%20%5B47.35818%2C%208.4971%2C%204.05%5D%2C%20%5B47.3593%2C%208.49822%2C%204.4%5D%2C%20%5B47.35839%2C%208.4969%2C%204.62%5D%2C%20%5B47.35957%2C%208.49877%2C%203.75%5D%2C%20%5B47.35784%2C%208.49732%2C%204.0%5D%2C%20%5B47.35413%2C%208.55945%2C%204.796838885112169%5D%2C%20%5B47.37316%2C%208.524280000000001%2C%205.0%5D%2C%20%5B47.334270000000004%2C%208.53031%2C%204.796838885112169%5D%2C%20%5B47.42131%2C%208.53768%2C%204.9%5D%2C%20%5B47.360640000000004%2C%208.55034%2C%205.0%5D%2C%20%5B47.3725%2C%208.54348%2C%205.0%5D%2C%20%5B47.37863%2C%208.525789999999999%2C%204.796838885112169%5D%2C%20%5B47.3574%2C%208.52722%2C%204.796838885112169%5D%2C%20%5B47.36902%2C%208.54707%2C%204.71%5D%2C%20%5B47.35188%2C%208.530330000000001%2C%204.796838885112169%5D%2C%20%5B47.381%2C%208.53358%2C%204.67%5D%2C%20%5B47.35579%2C%208.514%2C%204.83%5D%2C%20%5B47.37097%2C%208.53599%2C%205.0%5D%2C%20%5B47.36396%2C%208.55589%2C%205.0%5D%2C%20%5B47.36654%2C%208.52404%2C%204.796838885112169%5D%2C%20%5B47.3396%2C%208.52984%2C%205.0%5D%2C%20%5B47.3825%2C%208.544880000000001%2C%204.5%5D%2C%20%5B47.35541%2C%208.554689999999999%2C%205.0%5D%2C%20%5B47.350629999999995%2C%208.53125%2C%204.796838885112169%5D%2C%20%5B47.35983%2C%208.567039999999999%2C%204.796838885112169%5D%2C%20%5B47.35611%2C%208.55679%2C%204.796838885112169%5D%2C%20%5B47.35879%2C%208.5274%2C%205.0%5D%2C%20%5B47.3853%2C%208.478%2C%204.796838885112169%5D%2C%20%5B47.39322%2C%208.476230000000001%2C%204.796838885112169%5D%2C%20%5B47.377159999999996%2C%208.54135%2C%205.0%5D%2C%20%5B47.39264%2C%208.49104%2C%204.796838885112169%5D%2C%20%5B47.34146%2C%208.52881%2C%205.0%5D%2C%20%5B47.363409999999995%2C%208.5558%2C%205.0%5D%2C%20%5B47.391059999999996%2C%208.54612%2C%204.796838885112169%5D%2C%20%5B47.40968%2C%208.54261%2C%204.796838885112169%5D%2C%20%5B47.42602%2C%208.55305%2C%205.0%5D%2C%20%5B47.40733%2C%208.57906%2C%204.57%5D%2C%20%5B47.38858%2C%208.46653%2C%204.796838885112169%5D%2C%20%5B47.384370000000004%2C%208.53085%2C%204.96%5D%2C%20%5B47.38819%2C%208.53345%2C%204.67%5D%2C%20%5B47.38293%2C%208.53491%2C%204.796838885112169%5D%2C%20%5B47.35965%2C%208.5706%2C%204.796838885112169%5D%2C%20%5B47.38097%2C%208.533389999999999%2C%205.0%5D%2C%20%5B47.382329999999996%2C%208.53483%2C%205.0%5D%2C%20%5B47.3807%2C%208.53477%2C%204.67%5D%2C%20%5B47.3815%2C%208.5334%2C%205.0%5D%2C%20%5B47.383%2C%208.53328%2C%204.796838885112169%5D%2C%20%5B47.38234%2C%208.534939999999999%2C%204.796838885112169%5D%2C%20%5B47.382690000000004%2C%208.534469999999999%2C%205.0%5D%2C%20%5B47.38219%2C%208.534360000000001%2C%204.796838885112169%5D%2C%20%5B47.39571%2C%208.52203%2C%204.0%5D%2C%20%5B47.408559999999994%2C%208.57685%2C%204.0%5D%2C%20%5B47.375820000000004%2C%208.51581%2C%204.0%5D%2C%20%5B47.387370000000004%2C%208.49287%2C%204.796838885112169%5D%2C%20%5B47.38092%2C%208.51773%2C%205.0%5D%2C%20%5B47.408609999999996%2C%208.57767%2C%204.0%5D%2C%20%5B47.38777%2C%208.51596%2C%205.0%5D%2C%20%5B47.358826%2C%208.497919%2C%205.0%5D%2C%20%5B47.37377%2C%208.542910000000001%2C%204.64%5D%2C%20%5B47.37489%2C%208.54447%2C%204.57%5D%2C%20%5B47.379490000000004%2C%208.54567%2C%204.75%5D%2C%20%5B47.37478%2C%208.53045%2C%204.796838885112169%5D%2C%20%5B47.36677%2C%208.5036%2C%204.6%5D%2C%20%5B47.37771%2C%208.52865%2C%204.796838885112169%5D%2C%20%5B47.401109999999996%2C%208.53254%2C%204.796838885112169%5D%2C%20%5B47.40101%2C%208.58975%2C%204.8%5D%2C%20%5B47.40335%2C%208.53481%2C%204.796838885112169%5D%2C%20%5B47.419140000000006%2C%208.55134%2C%205.0%5D%2C%20%5B47.36564%2C%208.51951%2C%205.0%5D%2C%20%5B47.39302%2C%208.5141%2C%204.796838885112169%5D%2C%20%5B47.37771%2C%208.52857%2C%205.0%5D%2C%20%5B47.36476%2C%208.55818%2C%205.0%5D%2C%20%5B47.37627%2C%208.52717%2C%204.29%5D%2C%20%5B47.416779999999996%2C%208.54641%2C%204.8%5D%2C%20%5B47.37696%2C%208.52247%2C%205.0%5D%2C%20%5B47.380359999999996%2C%208.48908%2C%205.0%5D%2C%20%5B47.366609999999994%2C%208.56529%2C%204.796838885112169%5D%2C%20%5B47.38212%2C%208.50645%2C%204.796838885112169%5D%2C%20%5B47.373090000000005%2C%208.5433%2C%204.796838885112169%5D%2C%20%5B47.42048%2C%208.55119%2C%204.796838885112169%5D%2C%20%5B47.38159%2C%208.531130000000001%2C%204.5%5D%2C%20%5B47.37236%2C%208.519851%2C%204.5%5D%2C%20%5B47.38004%2C%208.50453%2C%204.5%5D%2C%20%5B47.39235%2C%208.54675%2C%204.8%5D%2C%20%5B47.35666%2C%208.60018%2C%204.796838885112169%5D%2C%20%5B47.3701%2C%208.548169999999999%2C%204.796838885112169%5D%2C%20%5B47.370740000000005%2C%208.52139%2C%205.0%5D%2C%20%5B47.36911%2C%208.54416%2C%205.0%5D%2C%20%5B47.398740000000004%2C%208.50638%2C%204.6%5D%2C%20%5B47.36202%2C%208.5566%2C%204.796838885112169%5D%2C%20%5B47.367748%2C%208.519903%2C%204.7%5D%2C%20%5B47.333459999999995%2C%208.52859%2C%204.796838885112169%5D%2C%20%5B47.35635%2C%208.55649%2C%204.796838885112169%5D%2C%20%5B47.36594%2C%208.55574%2C%204.796838885112169%5D%2C%20%5B47.40126%2C%208.53341%2C%204.796838885112169%5D%2C%20%5B47.354820000000004%2C%208.55308%2C%204.796838885112169%5D%2C%20%5B47.40149%2C%208.592989999999999%2C%205.0%5D%2C%20%5B47.360264%2C%208.562801%2C%204.796838885112169%5D%2C%20%5B47.3607%2C%208.601289999999999%2C%204.67%5D%2C%20%5B47.380390000000006%2C%208.49514%2C%205.0%5D%2C%20%5B47.388740000000006%2C%208.49727%2C%204.67%5D%2C%20%5B47.389359999999996%2C%208.52256%2C%204.796838885112169%5D%2C%20%5B47.38655%2C%208.54367%2C%204.796838885112169%5D%2C%20%5B47.36466%2C%208.55299%2C%204.796838885112169%5D%2C%20%5B47.36441%2C%208.51361%2C%204.796838885112169%5D%2C%20%5B47.37789%2C%208.52818%2C%205.0%5D%2C%20%5B47.37275%2C%208.546380000000001%2C%205.0%5D%2C%20%5B47.41408%2C%208.5421%2C%204.9%5D%2C%20%5B47.382909999999995%2C%208.53866%2C%204.796838885112169%5D%2C%20%5B47.37314%2C%208.5425%2C%204.796838885112169%5D%2C%20%5B47.38095%2C%208.53619%2C%205.0%5D%2C%20%5B47.38217%2C%208.54665%2C%205.0%5D%2C%20%5B47.36242%2C%208.550980000000001%2C%204.796838885112169%5D%2C%20%5B47.37932%2C%208.529%2C%205.0%5D%2C%20%5B47.34973%2C%208.56377%2C%204.796838885112169%5D%2C%20%5B47.4094%2C%208.54199%2C%205.0%5D%2C%20%5B47.377159999999996%2C%208.5144%2C%205.0%5D%2C%20%5B47.362301%2C%208.558274%2C%205.0%5D%2C%20%5B47.37825%2C%208.532869999999999%2C%204.796838885112169%5D%2C%20%5B47.35288%2C%208.5669%2C%204.796838885112169%5D%2C%20%5B47.371320000000004%2C%208.51281%2C%205.0%5D%2C%20%5B47.358109999999996%2C%208.4968%2C%204.796838885112169%5D%2C%20%5B47.40939%2C%208.54068%2C%204.0%5D%2C%20%5B47.36515%2C%208.52684%2C%204.83%5D%2C%20%5B47.39447%2C%208.54594%2C%204.71%5D%2C%20%5B47.39942%2C%208.50025%2C%203.83%5D%2C%20%5B47.408809999999995%2C%208.54124%2C%204.796838885112169%5D%2C%20%5B47.37425%2C%208.52541%2C%205.0%5D%2C%20%5B47.39184%2C%208.53885%2C%205.0%5D%2C%20%5B47.3938%2C%208.54637%2C%204.86%5D%2C%20%5B47.3713%2C%208.51511%2C%205.0%5D%2C%20%5B47.356869%2C%208.555617%2C%205.0%5D%2C%20%5B47.381879999999995%2C%208.50859%2C%204.796838885112169%5D%2C%20%5B47.368320000000004%2C%208.55392%2C%205.0%5D%2C%20%5B47.3783%2C%208.50286%2C%204.796838885112169%5D%2C%20%5B47.360170000000004%2C%208.512030000000001%2C%204.796838885112169%5D%2C%20%5B47.37063%2C%208.54734%2C%205.0%5D%2C%20%5B47.37319%2C%208.54275%2C%205.0%5D%2C%20%5B47.33718%2C%208.51815%2C%204.796838885112169%5D%2C%20%5B47.37893%2C%208.53777%2C%205.0%5D%2C%20%5B47.380590000000005%2C%208.536389999999999%2C%205.0%5D%2C%20%5B47.37055%2C%208.55561%2C%205.0%5D%2C%20%5B47.36095%2C%208.52511%2C%204.796838885112169%5D%2C%20%5B47.35856%2C%208.52633%2C%205.0%5D%2C%20%5B47.35111%2C%208.56679%2C%204.796838885112169%5D%2C%20%5B47.36694%2C%208.5536%2C%204.796838885112169%5D%2C%20%5B47.397059999999996%2C%208.50866%2C%205.0%5D%2C%20%5B47.36857%2C%208.553289999999999%2C%204.796838885112169%5D%2C%20%5B47.38578%2C%208.53845%2C%205.0%5D%2C%20%5B47.384679999999996%2C%208.52983%2C%204.796838885112169%5D%2C%20%5B47.37482%2C%208.54411%2C%204.67%5D%2C%20%5B47.35944%2C%208.557310000000001%2C%204.796838885112169%5D%2C%20%5B47.40611%2C%208.57886%2C%205.0%5D%2C%20%5B47.37547%2C%208.52255%2C%204.796838885112169%5D%2C%20%5B47.37678%2C%208.51596%2C%204.796838885112169%5D%2C%20%5B47.37004%2C%208.51779%2C%204.796838885112169%5D%2C%20%5B47.3765%2C%208.51447%2C%204.796838885112169%5D%2C%20%5B47.351729999999996%2C%208.52925%2C%204.796838885112169%5D%2C%20%5B47.37236%2C%208.519851%2C%204.796838885112169%5D%2C%20%5B47.361317%2C%208.564605%2C%204.796838885112169%5D%2C%20%5B47.36869%2C%208.521180000000001%2C%204.796838885112169%5D%2C%20%5B47.38247%2C%208.513069999999999%2C%205.0%5D%2C%20%5B47.39083%2C%208.51036%2C%205.0%5D%2C%20%5B47.35879%2C%208.55446%2C%205.0%5D%2C%20%5B47.34786%2C%208.53144%2C%204.796838885112169%5D%2C%20%5B47.36732%2C%208.52191%2C%204.796838885112169%5D%2C%20%5B47.35907%2C%208.55167%2C%205.0%5D%2C%20%5B47.374159999999996%2C%208.54315%2C%204.796838885112169%5D%2C%20%5B47.38342%2C%208.52899%2C%204.796838885112169%5D%2C%20%5B47.39013%2C%208.485710000000001%2C%204.796838885112169%5D%2C%20%5B47.37257%2C%208.542810000000001%2C%204.796838885112169%5D%2C%20%5B47.37219%2C%208.52363%2C%205.0%5D%2C%20%5B47.3604%2C%208.56365%2C%204.796838885112169%5D%2C%20%5B47.36252%2C%208.56402%2C%204.0%5D%2C%20%5B47.3798%2C%208.496310000000001%2C%204.796838885112169%5D%2C%20%5B47.4227%2C%208.49671%2C%205.0%5D%2C%20%5B47.3495%2C%208.599039999999999%2C%204.796838885112169%5D%2C%20%5B47.387370000000004%2C%208.486289999999999%2C%205.0%5D%2C%20%5B47.37684%2C%208.52926%2C%204.796838885112169%5D%2C%20%5B47.36273%2C%208.53133%2C%204.796838885112169%5D%2C%20%5B47.386109999999995%2C%208.49638%2C%204.796838885112169%5D%2C%20%5B47.371109999999994%2C%208.5003%2C%204.0%5D%2C%20%5B47.359790000000004%2C%208.55345%2C%204.796838885112169%5D%2C%20%5B47.36432%2C%208.56958%2C%204.796838885112169%5D%2C%20%5B47.36936%2C%208.51987%2C%204.796838885112169%5D%2C%20%5B47.379539%2C%208.525209%2C%204.796838885112169%5D%2C%20%5B47.37072%2C%208.49201%2C%204.796838885112169%5D%2C%20%5B47.38455%2C%208.485669999999999%2C%205.0%5D%2C%20%5B47.39464%2C%208.5472%2C%204.796838885112169%5D%2C%20%5B47.40705%2C%208.57762%2C%204.796838885112169%5D%2C%20%5B47.39575%2C%208.50495%2C%204.796838885112169%5D%2C%20%5B47.357240000000004%2C%208.52721%2C%204.796838885112169%5D%2C%20%5B47.34536%2C%208.53337%2C%204.796838885112169%5D%2C%20%5B47.3726%2C%208.51896%2C%204.796838885112169%5D%2C%20%5B47.37422%2C%208.52249%2C%204.796838885112169%5D%2C%20%5B47.37773%2C%208.56512%2C%204.796838885112169%5D%2C%20%5B47.36976%2C%208.52965%2C%204.796838885112169%5D%2C%20%5B47.35885%2C%208.55%2C%204.796838885112169%5D%2C%20%5B47.32767%2C%208.514380000000001%2C%204.796838885112169%5D%2C%20%5B47.388040000000004%2C%208.51398%2C%204.796838885112169%5D%2C%20%5B47.370779999999996%2C%208.49508%2C%204.796838885112169%5D%2C%20%5B47.3686%2C%208.50832%2C%204.796838885112169%5D%2C%20%5B47.407379999999996%2C%208.551639999999999%2C%204.796838885112169%5D%2C%20%5B47.35461%2C%208.55743%2C%204.796838885112169%5D%2C%20%5B47.35972%2C%208.583110000000001%2C%204.796838885112169%5D%2C%20%5B47.33692%2C%208.53134%2C%204.796838885112169%5D%2C%20%5B47.42517%2C%208.50019%2C%204.796838885112169%5D%2C%20%5B47.393368%2C%208.484549000000001%2C%204.796838885112169%5D%2C%20%5B47.36145%2C%208.52185%2C%204.796838885112169%5D%2C%20%5B47.41592%2C%208.56291%2C%204.796838885112169%5D%2C%20%5B47.36103%2C%208.52095%2C%204.796838885112169%5D%2C%20%5B47.410052434077386%2C%208.546709599979646%2C%204.796838885112169%5D%2C%20%5B47.364559%2C%208.552762%2C%204.796838885112169%5D%2C%20%5B47.4118976935248%2C%208.548331616792982%2C%204.796838885112169%5D%2C%20%5B47.41082%2C%208.54782%2C%204.796838885112169%5D%2C%20%5B47.36038%2C%208.55344%2C%204.796838885112169%5D%2C%20%5B47.38727%2C%208.49623%2C%204.796838885112169%5D%2C%20%5B47.41167343889326%2C%208.548488550838776%2C%204.796838885112169%5D%2C%20%5B47.410824%2C%208.547817%2C%204.796838885112169%5D%2C%20%5B47.410352303140364%2C%208.546639393679722%2C%204.796838885112169%5D%5D%2C%0A%20%20%20%20%20%20%20%20%20%20%20%20%20%20%20%20%7B%22blur%22%3A%2010.0%2C%20%22maxZoom%22%3A%2018%2C%20%22minOpacity%22%3A%200.5%2C%20%22radius%22%3A%2010.0%7D%0A%20%20%20%20%20%20%20%20%20%20%20%20%29.addTo%28map_cc5786a43c4944b1b6af2aae9c12fb12%29%3B%0A%20%20%20%20%20%20%20%20%0A%3C/script%3E onload=\"this.contentDocument.open();this.contentDocument.write(    decodeURIComponent(this.getAttribute('data-html')));this.contentDocument.close();\" allowfullscreen webkitallowfullscreen mozallowfullscreen></iframe></div></div>"
      ],
      "text/plain": [
       "<folium.folium.Map at 0x7f8a61740070>"
      ]
     },
     "execution_count": 50,
     "metadata": {},
     "output_type": "execute_result"
    }
   ],
   "source": [
    "m = folium.Map(location = [df_loc_filled.latitude.mean(), df_loc_filled.longitude.mean()], tiles='Stamen toner', zoom_start = 12.)\n",
    "folium.plugins.HeatMap( \n",
    "    df_loc_filled, name=\"Review Score Location\", radius=10.,blur=10. ).add_to( m )\n",
    "m"
   ]
  },
  {
   "cell_type": "markdown",
   "metadata": {},
   "source": [
    "### Playground"
   ]
  },
  {
   "cell_type": "code",
   "execution_count": 14,
   "metadata": {},
   "outputs": [
    {
     "data": {
      "text/plain": [
       "{'Happy': 0.26, 'Angry': 0.11, 'Surprise': 0.21, 'Sad': 0.11, 'Fear': 0.32}"
      ]
     },
     "execution_count": 14,
     "metadata": {},
     "output_type": "execute_result"
    }
   ],
   "source": [
    "te.get_emotion( reviews.comments.iat[0] )"
   ]
  },
  {
   "cell_type": "code",
   "execution_count": 15,
   "metadata": {},
   "outputs": [
    {
     "name": "stdout",
     "output_type": "stream",
     "text": [
      "{'Happy': 0.26, 'Angry': 0.11, 'Surprise': 0.21, 'Sad': 0.11, 'Fear': 0.32}\n",
      "{'Happy': 0.62, 'Angry': 0.0, 'Surprise': 0.12, 'Sad': 0.12, 'Fear': 0.12}\n",
      "{'Happy': 0.33, 'Angry': 0.17, 'Surprise': 0.0, 'Sad': 0.33, 'Fear': 0.17}\n",
      "{'Happy': 0.29, 'Angry': 0.14, 'Surprise': 0.14, 'Sad': 0.43, 'Fear': 0.0}\n",
      "{'Happy': 0.36, 'Angry': 0.14, 'Surprise': 0.07, 'Sad': 0.14, 'Fear': 0.29}\n",
      "{'Happy': 0.33, 'Angry': 0.0, 'Surprise': 0.33, 'Sad': 0.17, 'Fear': 0.17}\n",
      "{'Happy': 0.4, 'Angry': 0.0, 'Surprise': 0.0, 'Sad': 0.2, 'Fear': 0.4}\n",
      "{'Happy': 0.0, 'Angry': 0.0, 'Surprise': 0.0, 'Sad': 0.0, 'Fear': 1.0}\n",
      "{'Happy': 0.5, 'Angry': 0.0, 'Surprise': 0.17, 'Sad': 0.0, 'Fear': 0.33}\n",
      "{'Happy': 0.25, 'Angry': 0.12, 'Surprise': 0.0, 'Sad': 0.12, 'Fear': 0.5}\n"
     ]
    }
   ],
   "source": [
    "for i in range(10) :\n",
    "        print( te.get_emotion( reviews.comments.iat[i] ))"
   ]
  },
  {
   "cell_type": "code",
   "execution_count": 14,
   "metadata": {},
   "outputs": [],
   "source": [
    "reviews.Happy = np.nan\n",
    "reviews.Angry = np.nan\n",
    "reviews.Surprise = np.nan\n",
    "reviews.Sad = np.nan\n",
    "reviews.Fear = np.nan"
   ]
  },
  {
   "cell_type": "code",
   "execution_count": 54,
   "metadata": {},
   "outputs": [
    {
     "name": "stderr",
     "output_type": "stream",
     "text": [
      "100%|██████████| 20/20 [00:03<00:00,  5.84it/s]\n"
     ]
    },
    {
     "data": {
      "text/html": [
       "<div>\n",
       "<style scoped>\n",
       "    .dataframe tbody tr th:only-of-type {\n",
       "        vertical-align: middle;\n",
       "    }\n",
       "\n",
       "    .dataframe tbody tr th {\n",
       "        vertical-align: top;\n",
       "    }\n",
       "\n",
       "    .dataframe thead th {\n",
       "        text-align: right;\n",
       "    }\n",
       "</style>\n",
       "<table border=\"1\" class=\"dataframe\">\n",
       "  <thead>\n",
       "    <tr style=\"text-align: right;\">\n",
       "      <th></th>\n",
       "      <th>Happy</th>\n",
       "      <th>Angry</th>\n",
       "      <th>Surprise</th>\n",
       "      <th>Sad</th>\n",
       "      <th>Fear</th>\n",
       "    </tr>\n",
       "  </thead>\n",
       "  <tbody>\n",
       "    <tr>\n",
       "      <th>0</th>\n",
       "      <td>0.26</td>\n",
       "      <td>0.11</td>\n",
       "      <td>0.21</td>\n",
       "      <td>0.11</td>\n",
       "      <td>0.32</td>\n",
       "    </tr>\n",
       "    <tr>\n",
       "      <th>1</th>\n",
       "      <td>0.62</td>\n",
       "      <td>0.00</td>\n",
       "      <td>0.12</td>\n",
       "      <td>0.12</td>\n",
       "      <td>0.12</td>\n",
       "    </tr>\n",
       "    <tr>\n",
       "      <th>2</th>\n",
       "      <td>0.33</td>\n",
       "      <td>0.17</td>\n",
       "      <td>0.00</td>\n",
       "      <td>0.33</td>\n",
       "      <td>0.17</td>\n",
       "    </tr>\n",
       "    <tr>\n",
       "      <th>3</th>\n",
       "      <td>0.29</td>\n",
       "      <td>0.14</td>\n",
       "      <td>0.14</td>\n",
       "      <td>0.43</td>\n",
       "      <td>0.00</td>\n",
       "    </tr>\n",
       "    <tr>\n",
       "      <th>4</th>\n",
       "      <td>0.36</td>\n",
       "      <td>0.14</td>\n",
       "      <td>0.07</td>\n",
       "      <td>0.14</td>\n",
       "      <td>0.29</td>\n",
       "    </tr>\n",
       "    <tr>\n",
       "      <th>5</th>\n",
       "      <td>0.33</td>\n",
       "      <td>0.00</td>\n",
       "      <td>0.33</td>\n",
       "      <td>0.17</td>\n",
       "      <td>0.17</td>\n",
       "    </tr>\n",
       "    <tr>\n",
       "      <th>6</th>\n",
       "      <td>0.40</td>\n",
       "      <td>0.00</td>\n",
       "      <td>0.00</td>\n",
       "      <td>0.20</td>\n",
       "      <td>0.40</td>\n",
       "    </tr>\n",
       "    <tr>\n",
       "      <th>7</th>\n",
       "      <td>0.00</td>\n",
       "      <td>0.00</td>\n",
       "      <td>0.00</td>\n",
       "      <td>0.00</td>\n",
       "      <td>1.00</td>\n",
       "    </tr>\n",
       "    <tr>\n",
       "      <th>8</th>\n",
       "      <td>0.50</td>\n",
       "      <td>0.00</td>\n",
       "      <td>0.17</td>\n",
       "      <td>0.00</td>\n",
       "      <td>0.33</td>\n",
       "    </tr>\n",
       "    <tr>\n",
       "      <th>9</th>\n",
       "      <td>0.25</td>\n",
       "      <td>0.12</td>\n",
       "      <td>0.00</td>\n",
       "      <td>0.12</td>\n",
       "      <td>0.50</td>\n",
       "    </tr>\n",
       "    <tr>\n",
       "      <th>10</th>\n",
       "      <td>0.62</td>\n",
       "      <td>0.00</td>\n",
       "      <td>0.00</td>\n",
       "      <td>0.38</td>\n",
       "      <td>0.00</td>\n",
       "    </tr>\n",
       "    <tr>\n",
       "      <th>11</th>\n",
       "      <td>0.22</td>\n",
       "      <td>0.33</td>\n",
       "      <td>0.11</td>\n",
       "      <td>0.22</td>\n",
       "      <td>0.11</td>\n",
       "    </tr>\n",
       "    <tr>\n",
       "      <th>12</th>\n",
       "      <td>0.50</td>\n",
       "      <td>0.00</td>\n",
       "      <td>0.00</td>\n",
       "      <td>0.50</td>\n",
       "      <td>0.00</td>\n",
       "    </tr>\n",
       "    <tr>\n",
       "      <th>13</th>\n",
       "      <td>0.33</td>\n",
       "      <td>0.06</td>\n",
       "      <td>0.11</td>\n",
       "      <td>0.11</td>\n",
       "      <td>0.39</td>\n",
       "    </tr>\n",
       "    <tr>\n",
       "      <th>14</th>\n",
       "      <td>0.75</td>\n",
       "      <td>0.12</td>\n",
       "      <td>0.00</td>\n",
       "      <td>0.12</td>\n",
       "      <td>0.00</td>\n",
       "    </tr>\n",
       "    <tr>\n",
       "      <th>15</th>\n",
       "      <td>0.50</td>\n",
       "      <td>0.00</td>\n",
       "      <td>0.00</td>\n",
       "      <td>0.00</td>\n",
       "      <td>0.50</td>\n",
       "    </tr>\n",
       "    <tr>\n",
       "      <th>16</th>\n",
       "      <td>0.30</td>\n",
       "      <td>0.15</td>\n",
       "      <td>0.05</td>\n",
       "      <td>0.20</td>\n",
       "      <td>0.30</td>\n",
       "    </tr>\n",
       "    <tr>\n",
       "      <th>17</th>\n",
       "      <td>0.33</td>\n",
       "      <td>0.17</td>\n",
       "      <td>0.00</td>\n",
       "      <td>0.33</td>\n",
       "      <td>0.17</td>\n",
       "    </tr>\n",
       "    <tr>\n",
       "      <th>18</th>\n",
       "      <td>0.33</td>\n",
       "      <td>0.25</td>\n",
       "      <td>0.00</td>\n",
       "      <td>0.33</td>\n",
       "      <td>0.08</td>\n",
       "    </tr>\n",
       "    <tr>\n",
       "      <th>19</th>\n",
       "      <td>0.33</td>\n",
       "      <td>0.00</td>\n",
       "      <td>0.00</td>\n",
       "      <td>0.00</td>\n",
       "      <td>0.67</td>\n",
       "    </tr>\n",
       "  </tbody>\n",
       "</table>\n",
       "</div>"
      ],
      "text/plain": [
       "    Happy  Angry  Surprise   Sad  Fear\n",
       "0    0.26   0.11      0.21  0.11  0.32\n",
       "1    0.62   0.00      0.12  0.12  0.12\n",
       "2    0.33   0.17      0.00  0.33  0.17\n",
       "3    0.29   0.14      0.14  0.43  0.00\n",
       "4    0.36   0.14      0.07  0.14  0.29\n",
       "5    0.33   0.00      0.33  0.17  0.17\n",
       "6    0.40   0.00      0.00  0.20  0.40\n",
       "7    0.00   0.00      0.00  0.00  1.00\n",
       "8    0.50   0.00      0.17  0.00  0.33\n",
       "9    0.25   0.12      0.00  0.12  0.50\n",
       "10   0.62   0.00      0.00  0.38  0.00\n",
       "11   0.22   0.33      0.11  0.22  0.11\n",
       "12   0.50   0.00      0.00  0.50  0.00\n",
       "13   0.33   0.06      0.11  0.11  0.39\n",
       "14   0.75   0.12      0.00  0.12  0.00\n",
       "15   0.50   0.00      0.00  0.00  0.50\n",
       "16   0.30   0.15      0.05  0.20  0.30\n",
       "17   0.33   0.17      0.00  0.33  0.17\n",
       "18   0.33   0.25      0.00  0.33  0.08\n",
       "19   0.33   0.00      0.00  0.00  0.67"
      ]
     },
     "execution_count": 54,
     "metadata": {},
     "output_type": "execute_result"
    }
   ],
   "source": [
    "reviews.comments.head(20).progress_apply( compute_emotions )"
   ]
  }
 ],
 "metadata": {
  "kernelspec": {
   "display_name": "Python 3",
   "language": "python",
   "name": "python3"
  },
  "language_info": {
   "codemirror_mode": {
    "name": "ipython",
    "version": 3
   },
   "file_extension": ".py",
   "mimetype": "text/x-python",
   "name": "python",
   "nbconvert_exporter": "python",
   "pygments_lexer": "ipython3",
   "version": "3.8.3"
  }
 },
 "nbformat": 4,
 "nbformat_minor": 4
}
