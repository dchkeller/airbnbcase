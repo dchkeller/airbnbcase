{
 "cells": [
  {
   "cell_type": "markdown",
   "metadata": {},
   "source": [
    "# AirBnB Case\n",
    "by David Keller\n",
    "\n"
   ]
  },
  {
   "cell_type": "markdown",
   "metadata": {},
   "source": [
    "### Load required libraries"
   ]
  },
  {
   "cell_type": "code",
   "execution_count": 1,
   "metadata": {},
   "outputs": [],
   "source": [
    "import os\n",
    "import requests\n",
    "import shutil\n",
    "import gzip\n",
    "\n",
    "import numpy as np\n",
    "import pandas as pd\n",
    "from operator import attrgetter\n",
    "\n",
    "import matplotlib.pyplot as plt\n",
    "from sklearn.linear_model import LinearRegression\n",
    "from sklearn.model_selection import train_test_split\n",
    "from sklearn.metrics import r2_score, mean_squared_error\n",
    "import seaborn as sns\n",
    "\n",
    "from difflib import SequenceMatcher\n",
    "import re\n",
    "\n",
    "import json\n",
    "\n",
    "import folium\n",
    "import folium.plugins\n",
    "\n",
    "\n",
    "from tqdm import tqdm, trange\n",
    "from dateutil.relativedelta import relativedelta\n",
    "from datetime import datetime\n",
    "%matplotlib inline\n",
    "\n",
    "tqdm.pandas()"
   ]
  },
  {
   "cell_type": "code",
   "execution_count": 2,
   "metadata": {},
   "outputs": [
    {
     "name": "stdout",
     "output_type": "stream",
     "text": [
      "\u001b[32mConnected successfully to https://datapane.com as david17\u001b[0m\n",
      "Datapane configured\n"
     ]
    }
   ],
   "source": [
    "class DPReportHandler( object ) :\n",
    "    \"\"\" a class to handle datapane \n",
    "        base class is empty in case you have no datapane available\n",
    "    \"\"\"\n",
    "    \n",
    "    def upload( self, name ) :\n",
    "        pass\n",
    "    \n",
    "    def add_plot( self, content, tag ) :\n",
    "        pass\n",
    "    \n",
    "    def add_table( self, content, tag ) :\n",
    "        pass\n",
    "    \n",
    "    def add_text( self, content, tag ) :\n",
    "        pass\n",
    "\n",
    "dp_report = DPReportHandler()\n",
    "    \n",
    "try :\n",
    "    import datapane\n",
    "    \n",
    "    class RealDPReportHandler( DPReportHandler ) :\n",
    "        \"\"\" a class to handle datapane reports\n",
    "            collects datapane blocks internally before uploading\n",
    "            hides the datapane.Report api internally, no need to rewrite\n",
    "            the notebook in case you have no datapane available\n",
    "            \n",
    "            embedding specific blocks is a beta feature and does not\n",
    "            work as expected in medium. Hence, all blocks are uploaded as\n",
    "            separate reports here\n",
    "        \"\"\"\n",
    "        \n",
    "        def __init__( self ) :\n",
    "            from config import datapane_token\n",
    "            datapane.login( token=datapane_token )\n",
    "            \n",
    "            self._blocks = dict()\n",
    "            \n",
    "        def add_plot( self, content, tag ) :\n",
    "            self._blocks[tag] = datapane.Plot( content, tag )\n",
    "        \n",
    "        def add_table( self, content, tag ) :\n",
    "            self._blocks[tag] = datapane.Table( content, tag )\n",
    "            \n",
    "        def add_text( self, content, tag ) :\n",
    "            self._blocks[tag] = datapane.Text( content, tag )\n",
    "        \n",
    "        def upload( self, name ) :\n",
    "            for tag, block in self._blocks.items() :\n",
    "                report = datapane.Report( block, tag )\n",
    "                report.upload( name + \"_\" + tag, \n",
    "                              formatting=datapane.ReportFormatting( width = datapane.ReportWidth.MEDIUM ) )\n",
    "    \n",
    "    \n",
    "    dp_report = RealDPReportHandler()\n",
    "        \n",
    "    print( \"Datapane configured\" )\n",
    "        \n",
    "except :\n",
    "    # if we do not have an api key available\n",
    "    pass"
   ]
  },
  {
   "cell_type": "markdown",
   "metadata": {},
   "source": [
    "### Load airbnb Data"
   ]
  },
  {
   "cell_type": "markdown",
   "metadata": {},
   "source": [
    "#### Download data if they do not exist"
   ]
  },
  {
   "cell_type": "code",
   "execution_count": 3,
   "metadata": {},
   "outputs": [],
   "source": [
    "inside_airbnb_urls = {\n",
    "        \"vaud\" : {\n",
    "            \"listings\" : \"http://data.insideairbnb.com/switzerland/vd/vaud/2021-12-04/data/listings.csv.gz\",\n",
    "            \"calendar\" : \"http://data.insideairbnb.com/switzerland/vd/vaud/2021-12-04/data/calendar.csv.gz\",\n",
    "            \"reviews\" : \"http://data.insideairbnb.com/switzerland/vd/vaud/2021-12-04/visualisations/reviews.csv\" },\n",
    "        \"geneva\" : {\n",
    "            \"listings\" : \"http://data.insideairbnb.com/switzerland/geneva/geneva/2021-12-26/data/listings.csv.gz\",\n",
    "            \"calendar\" : \"http://data.insideairbnb.com/switzerland/geneva/geneva/2021-12-26/data/calendar.csv.gz\",\n",
    "            \"reviews\" : \"http://data.insideairbnb.com/switzerland/geneva/geneva/2021-12-26/data/reviews.csv.gz\" },\n",
    "        \"zurich\" : {\n",
    "            \"listings\" : r'http://data.insideairbnb.com/switzerland/zürich/zurich/2021-12-28/data/listings.csv.gz',\n",
    "            \"calendar\" : r'http://data.insideairbnb.com/switzerland/zürich/zurich/2021-12-28/data/calendar.csv.gz',\n",
    "            \"reviews\" : r'http://data.insideairbnb.com/switzerland/zürich/zurich/2021-12-28/data/reviews.csv.gz' }\n",
    "        }"
   ]
  },
  {
   "cell_type": "code",
   "execution_count": 4,
   "metadata": {},
   "outputs": [
    {
     "name": "stderr",
     "output_type": "stream",
     "text": [
      "100%|██████████| 3/3 [00:00<00:00, 4279.90it/s]\n"
     ]
    }
   ],
   "source": [
    "for city, urls in tqdm( inside_airbnb_urls.items() ) :\n",
    "    for suffix, url in urls.items() :\n",
    "        filename = os.path.join(\"./data/airbnb_%s\" % city, suffix + \".csv.gz\")\n",
    "        # download file, if it does not exist\n",
    "        if not os.path.isfile(filename):\n",
    "            response = requests.get(url, stream=True)\n",
    "            if response.ok:\n",
    "                with open(filename, 'wb') as csvfile:\n",
    "                    for chunk in response.raw.stream(1024, decode_content=False) :\n",
    "                        if chunk :\n",
    "                            csvfile.write( chunk )"
   ]
  },
  {
   "cell_type": "markdown",
   "metadata": {},
   "source": [
    "#### Load data into pandas"
   ]
  },
  {
   "cell_type": "code",
   "execution_count": 5,
   "metadata": {},
   "outputs": [],
   "source": [
    "def load_data( city ) :\n",
    "    calendar = pd.read_csv('./data/airbnb_%s/calendar.csv.gz' % city )\n",
    "    listings = pd.read_csv('./data/airbnb_%s/listings.csv.gz' % city )\n",
    "    reviews = pd.read_csv('./data/airbnb_%s/reviews.csv.gz' % city )\n",
    "    calendar[\"city\"] = city\n",
    "    listings[\"city\"] = city\n",
    "    reviews[\"city\"] = city\n",
    "    return calendar, listings, reviews"
   ]
  },
  {
   "cell_type": "code",
   "execution_count": 6,
   "metadata": {},
   "outputs": [
    {
     "name": "stderr",
     "output_type": "stream",
     "text": [
      "100%|██████████| 3/3 [00:02<00:00,  1.18it/s]\n"
     ]
    }
   ],
   "source": [
    "calendar = listings = reviews = pd.DataFrame()\n",
    "\n",
    "for city in tqdm( [\"zurich\", \"geneva\", \"vaud\"] ):\n",
    "    cal, li, rev = load_data( city )\n",
    "    calendar = pd.concat( [calendar, cal], axis=0 )\n",
    "    listings = pd.concat( [listings, li], axis=0 )\n",
    "    reviews = pd.concat( [reviews, rev], axis=0 )"
   ]
  },
  {
   "cell_type": "markdown",
   "metadata": {},
   "source": [
    "#### Initial cleaning"
   ]
  },
  {
   "cell_type": "code",
   "execution_count": 7,
   "metadata": {},
   "outputs": [
    {
     "data": {
      "text/plain": [
       "(8651, 75)"
      ]
     },
     "execution_count": 7,
     "metadata": {},
     "output_type": "execute_result"
    }
   ],
   "source": [
    "listings.shape"
   ]
  },
  {
   "cell_type": "markdown",
   "metadata": {},
   "source": [
    "Drop columns with urls and columns with neighbourhood information. We do not use them here."
   ]
  },
  {
   "cell_type": "code",
   "execution_count": 8,
   "metadata": {},
   "outputs": [],
   "source": [
    "for col in listings.columns :\n",
    "    if col.endswith( \"url\" ) or (\"neighbourhood\" in col) :\n",
    "        listings.drop( col, axis=1, inplace=True )"
   ]
  },
  {
   "cell_type": "code",
   "execution_count": 9,
   "metadata": {},
   "outputs": [
    {
     "data": {
      "text/plain": [
       "Index(['id', 'scrape_id', 'last_scraped', 'name', 'description',\n",
       "       'neighborhood_overview', 'host_id', 'host_name', 'host_since',\n",
       "       'host_location', 'host_about', 'host_response_time',\n",
       "       'host_response_rate', 'host_acceptance_rate', 'host_is_superhost',\n",
       "       'host_listings_count', 'host_total_listings_count',\n",
       "       'host_verifications', 'host_has_profile_pic', 'host_identity_verified',\n",
       "       'latitude', 'longitude', 'property_type', 'room_type', 'accommodates',\n",
       "       'bathrooms', 'bathrooms_text', 'bedrooms', 'beds', 'amenities', 'price',\n",
       "       'minimum_nights', 'maximum_nights', 'minimum_minimum_nights',\n",
       "       'maximum_minimum_nights', 'minimum_maximum_nights',\n",
       "       'maximum_maximum_nights', 'minimum_nights_avg_ntm',\n",
       "       'maximum_nights_avg_ntm', 'calendar_updated', 'has_availability',\n",
       "       'availability_30', 'availability_60', 'availability_90',\n",
       "       'availability_365', 'calendar_last_scraped', 'number_of_reviews',\n",
       "       'number_of_reviews_ltm', 'number_of_reviews_l30d', 'first_review',\n",
       "       'last_review', 'review_scores_rating', 'review_scores_accuracy',\n",
       "       'review_scores_cleanliness', 'review_scores_checkin',\n",
       "       'review_scores_communication', 'review_scores_location',\n",
       "       'review_scores_value', 'license', 'instant_bookable',\n",
       "       'calculated_host_listings_count',\n",
       "       'calculated_host_listings_count_entire_homes',\n",
       "       'calculated_host_listings_count_private_rooms',\n",
       "       'calculated_host_listings_count_shared_rooms', 'reviews_per_month',\n",
       "       'city'],\n",
       "      dtype='object')"
      ]
     },
     "execution_count": 9,
     "metadata": {},
     "output_type": "execute_result"
    }
   ],
   "source": [
    "listings.columns"
   ]
  },
  {
   "cell_type": "markdown",
   "metadata": {},
   "source": [
    "## Understand the Business of AirBnB\n",
    "\n",
    "* What is the market offer?\n",
    "   * Where are the best rooms?\n",
    "   * What kind of appartment is typically for rent?\n",
    "   * What are the prices?\n",
    "* What can you tell about the reviewers?\n",
    "    * How does the number of reviews develop over time?\n",
    "    * Are there effects over seasons, years or day of weeks for the reviews?\n",
    "    * Are reviewers revisiting or changing their favorite rooms?\n",
    "* How can you optimize your revenue on AirBnB as a host?\n",
    "    * How can we model revenue?\n",
    "    * How can we determine, what has an influence on the revenue?"
   ]
  },
  {
   "cell_type": "markdown",
   "metadata": {},
   "source": [
    "## Market"
   ]
  },
  {
   "cell_type": "markdown",
   "metadata": {},
   "source": [
    "### Question: What are the best scoring locations?"
   ]
  },
  {
   "cell_type": "code",
   "execution_count": 10,
   "metadata": {},
   "outputs": [],
   "source": [
    "df_loc = listings[[\"latitude\", \"longitude\", \"review_scores_location\"]]"
   ]
  },
  {
   "cell_type": "markdown",
   "metadata": {},
   "source": [
    "Check if we have longitude and latitude for every listing."
   ]
  },
  {
   "cell_type": "code",
   "execution_count": 11,
   "metadata": {},
   "outputs": [
    {
     "data": {
      "text/plain": [
       "True"
      ]
     },
     "execution_count": 11,
     "metadata": {},
     "output_type": "execute_result"
    }
   ],
   "source": [
    "df_loc.longitude.isnull().sum() == 0 and df_loc.latitude.isnull().sum() == 0"
   ]
  },
  {
   "cell_type": "markdown",
   "metadata": {},
   "source": [
    "What percentage of location scores is NaN?"
   ]
  },
  {
   "cell_type": "code",
   "execution_count": 12,
   "metadata": {},
   "outputs": [
    {
     "data": {
      "text/plain": [
       "0.24020344468847532"
      ]
     },
     "execution_count": 12,
     "metadata": {},
     "output_type": "execute_result"
    }
   ],
   "source": [
    "df_loc.review_scores_location.isnull().sum()/df_loc.shape[0]"
   ]
  },
  {
   "cell_type": "markdown",
   "metadata": {},
   "source": [
    "Roughly one two fifth of rows are without a score for the location. We could either drop these before processing or inject a mean value. We follow the second approach here. If a guest does not review the location, we assume he has a neutral opinion here without ups or downs."
   ]
  },
  {
   "cell_type": "code",
   "execution_count": 13,
   "metadata": {},
   "outputs": [],
   "source": [
    "df_loc_filled = df_loc.fillna( value=df_loc.review_scores_location.mean(), axis=0 )"
   ]
  },
  {
   "cell_type": "markdown",
   "metadata": {},
   "source": [
    "Make a plot to get an understanding of the best rated locations."
   ]
  },
  {
   "cell_type": "code",
   "execution_count": 14,
   "metadata": {
    "scrolled": false
   },
   "outputs": [
    {
     "name": "stderr",
     "output_type": "stream",
     "text": [
      "Bokeh version 2.1.1 is not supported, these plots may not display correctly, please install version ~=2.2.0\n"
     ]
    },
    {
     "data": {
      "text/html": [
       "<div style=\"width:100%;\"><div style=\"position:relative;width:100%;height:0;padding-bottom:60%;\"><span style=\"color:#565656\">Make this Notebook Trusted to load map: File -> Trust Notebook</span><iframe src=\"about:blank\" style=\"position:absolute;width:100%;height:100%;left:0;top:0;border:none !important;\" data-html=%3C%21DOCTYPE%20html%3E%0A%3Chead%3E%20%20%20%20%0A%20%20%20%20%3Cmeta%20http-equiv%3D%22content-type%22%20content%3D%22text/html%3B%20charset%3DUTF-8%22%20/%3E%0A%20%20%20%20%0A%20%20%20%20%20%20%20%20%3Cscript%3E%0A%20%20%20%20%20%20%20%20%20%20%20%20L_NO_TOUCH%20%3D%20false%3B%0A%20%20%20%20%20%20%20%20%20%20%20%20L_DISABLE_3D%20%3D%20false%3B%0A%20%20%20%20%20%20%20%20%3C/script%3E%0A%20%20%20%20%0A%20%20%20%20%3Cstyle%3Ehtml%2C%20body%20%7Bwidth%3A%20100%25%3Bheight%3A%20100%25%3Bmargin%3A%200%3Bpadding%3A%200%3B%7D%3C/style%3E%0A%20%20%20%20%3Cstyle%3E%23map%20%7Bposition%3Aabsolute%3Btop%3A0%3Bbottom%3A0%3Bright%3A0%3Bleft%3A0%3B%7D%3C/style%3E%0A%20%20%20%20%3Cscript%20src%3D%22https%3A//cdn.jsdelivr.net/npm/leaflet%401.6.0/dist/leaflet.js%22%3E%3C/script%3E%0A%20%20%20%20%3Cscript%20src%3D%22https%3A//code.jquery.com/jquery-1.12.4.min.js%22%3E%3C/script%3E%0A%20%20%20%20%3Cscript%20src%3D%22https%3A//maxcdn.bootstrapcdn.com/bootstrap/3.2.0/js/bootstrap.min.js%22%3E%3C/script%3E%0A%20%20%20%20%3Cscript%20src%3D%22https%3A//cdnjs.cloudflare.com/ajax/libs/Leaflet.awesome-markers/2.0.2/leaflet.awesome-markers.js%22%3E%3C/script%3E%0A%20%20%20%20%3Clink%20rel%3D%22stylesheet%22%20href%3D%22https%3A//cdn.jsdelivr.net/npm/leaflet%401.6.0/dist/leaflet.css%22/%3E%0A%20%20%20%20%3Clink%20rel%3D%22stylesheet%22%20href%3D%22https%3A//maxcdn.bootstrapcdn.com/bootstrap/3.2.0/css/bootstrap.min.css%22/%3E%0A%20%20%20%20%3Clink%20rel%3D%22stylesheet%22%20href%3D%22https%3A//maxcdn.bootstrapcdn.com/bootstrap/3.2.0/css/bootstrap-theme.min.css%22/%3E%0A%20%20%20%20%3Clink%20rel%3D%22stylesheet%22%20href%3D%22https%3A//maxcdn.bootstrapcdn.com/font-awesome/4.6.3/css/font-awesome.min.css%22/%3E%0A%20%20%20%20%3Clink%20rel%3D%22stylesheet%22%20href%3D%22https%3A//cdnjs.cloudflare.com/ajax/libs/Leaflet.awesome-markers/2.0.2/leaflet.awesome-markers.css%22/%3E%0A%20%20%20%20%3Clink%20rel%3D%22stylesheet%22%20href%3D%22https%3A//cdn.jsdelivr.net/gh/python-visualization/folium/folium/templates/leaflet.awesome.rotate.min.css%22/%3E%0A%20%20%20%20%0A%20%20%20%20%20%20%20%20%20%20%20%20%3Cmeta%20name%3D%22viewport%22%20content%3D%22width%3Ddevice-width%2C%0A%20%20%20%20%20%20%20%20%20%20%20%20%20%20%20%20initial-scale%3D1.0%2C%20maximum-scale%3D1.0%2C%20user-scalable%3Dno%22%20/%3E%0A%20%20%20%20%20%20%20%20%20%20%20%20%3Cstyle%3E%0A%20%20%20%20%20%20%20%20%20%20%20%20%20%20%20%20%23map_56d3a97f7a0140b4b0918fc0cb1b8b67%20%7B%0A%20%20%20%20%20%20%20%20%20%20%20%20%20%20%20%20%20%20%20%20position%3A%20relative%3B%0A%20%20%20%20%20%20%20%20%20%20%20%20%20%20%20%20%20%20%20%20width%3A%20100.0%25%3B%0A%20%20%20%20%20%20%20%20%20%20%20%20%20%20%20%20%20%20%20%20height%3A%20100.0%25%3B%0A%20%20%20%20%20%20%20%20%20%20%20%20%20%20%20%20%20%20%20%20left%3A%200.0%25%3B%0A%20%20%20%20%20%20%20%20%20%20%20%20%20%20%20%20%20%20%20%20top%3A%200.0%25%3B%0A%20%20%20%20%20%20%20%20%20%20%20%20%20%20%20%20%7D%0A%20%20%20%20%20%20%20%20%20%20%20%20%3C/style%3E%0A%20%20%20%20%20%20%20%20%0A%20%20%20%20%3Cscript%20src%3D%22https%3A//cdn.jsdelivr.net/gh/python-visualization/folium%40master/folium/templates/leaflet_heat.min.js%22%3E%3C/script%3E%0A%3C/head%3E%0A%3Cbody%3E%20%20%20%20%0A%20%20%20%20%0A%20%20%20%20%20%20%20%20%20%20%20%20%3Cdiv%20class%3D%22folium-map%22%20id%3D%22map_56d3a97f7a0140b4b0918fc0cb1b8b67%22%20%3E%3C/div%3E%0A%20%20%20%20%20%20%20%20%0A%3C/body%3E%0A%3Cscript%3E%20%20%20%20%0A%20%20%20%20%0A%20%20%20%20%20%20%20%20%20%20%20%20var%20map_56d3a97f7a0140b4b0918fc0cb1b8b67%20%3D%20L.map%28%0A%20%20%20%20%20%20%20%20%20%20%20%20%20%20%20%20%22map_56d3a97f7a0140b4b0918fc0cb1b8b67%22%2C%0A%20%20%20%20%20%20%20%20%20%20%20%20%20%20%20%20%7B%0A%20%20%20%20%20%20%20%20%20%20%20%20%20%20%20%20%20%20%20%20center%3A%20%5B46.78673%2C%207.299709999999999%5D%2C%0A%20%20%20%20%20%20%20%20%20%20%20%20%20%20%20%20%20%20%20%20crs%3A%20L.CRS.EPSG3857%2C%0A%20%20%20%20%20%20%20%20%20%20%20%20%20%20%20%20%20%20%20%20zoom%3A%208.0%2C%0A%20%20%20%20%20%20%20%20%20%20%20%20%20%20%20%20%20%20%20%20zoomControl%3A%20true%2C%0A%20%20%20%20%20%20%20%20%20%20%20%20%20%20%20%20%20%20%20%20preferCanvas%3A%20false%2C%0A%20%20%20%20%20%20%20%20%20%20%20%20%20%20%20%20%7D%0A%20%20%20%20%20%20%20%20%20%20%20%20%29%3B%0A%0A%20%20%20%20%20%20%20%20%20%20%20%20%0A%0A%20%20%20%20%20%20%20%20%0A%20%20%20%20%0A%20%20%20%20%20%20%20%20%20%20%20%20var%20tile_layer_161fccce12784f39af9291be1e8d2334%20%3D%20L.tileLayer%28%0A%20%20%20%20%20%20%20%20%20%20%20%20%20%20%20%20%22https%3A//stamen-tiles-%7Bs%7D.a.ssl.fastly.net/toner/%7Bz%7D/%7Bx%7D/%7By%7D.png%22%2C%0A%20%20%20%20%20%20%20%20%20%20%20%20%20%20%20%20%7B%22attribution%22%3A%20%22Map%20tiles%20by%20%5Cu003ca%20href%3D%5C%22http%3A//stamen.com%5C%22%5Cu003eStamen%20Design%5Cu003c/a%5Cu003e%2C%20under%20%5Cu003ca%20href%3D%5C%22http%3A//creativecommons.org/licenses/by/3.0%5C%22%5Cu003eCC%20BY%203.0%5Cu003c/a%5Cu003e.%20Data%20by%20%5Cu0026copy%3B%20%5Cu003ca%20href%3D%5C%22http%3A//openstreetmap.org%5C%22%5Cu003eOpenStreetMap%5Cu003c/a%5Cu003e%2C%20under%20%5Cu003ca%20href%3D%5C%22http%3A//www.openstreetmap.org/copyright%5C%22%5Cu003eODbL%5Cu003c/a%5Cu003e.%22%2C%20%22detectRetina%22%3A%20false%2C%20%22maxNativeZoom%22%3A%2018%2C%20%22maxZoom%22%3A%2018%2C%20%22minZoom%22%3A%200%2C%20%22noWrap%22%3A%20false%2C%20%22opacity%22%3A%201%2C%20%22subdomains%22%3A%20%22abc%22%2C%20%22tms%22%3A%20false%7D%0A%20%20%20%20%20%20%20%20%20%20%20%20%29.addTo%28map_56d3a97f7a0140b4b0918fc0cb1b8b67%29%3B%0A%20%20%20%20%20%20%20%20%0A%20%20%20%20%0A%20%20%20%20%20%20%20%20%20%20%20%20var%20heat_map_b5a88196dc6b41a9ad303ed7f27a29f6%20%3D%20L.heatLayer%28%0A%20%20%20%20%20%20%20%20%20%20%20%20%20%20%20%20%5B%5B47.37374%2C%208.51957%2C%204.71%5D%2C%20%5B47.38038%2C%208.50461%2C%204.6%5D%2C%20%5B47.35724%2C%208.52304%2C%204.776940514224839%5D%2C%20%5B47.36565%2C%208.52753%2C%205.0%5D%2C%20%5B47.40656%2C%208.48465%2C%204.776940514224839%5D%2C%20%5B47.3788%2C%208.50766%2C%204.776940514224839%5D%2C%20%5B47.33463%2C%208.54117%2C%204.76%5D%2C%20%5B47.38942%2C%208.51881%2C%204.93%5D%2C%20%5B47.38326%2C%208.52718%2C%204.67%5D%2C%20%5B47.37284%2C%208.54324%2C%204.94%5D%2C%20%5B47.37896%2C%208.50787%2C%204.89%5D%2C%20%5B47.36802%2C%208.54813%2C%204.85%5D%2C%20%5B47.37572%2C%208.51291%2C%204.63%5D%2C%20%5B47.39185%2C%208.48432%2C%204.88%5D%2C%20%5B47.38938%2C%208.51844%2C%204.9%5D%2C%20%5B47.37008%2C%208.51368%2C%204.84%5D%2C%20%5B47.40419%2C%208.49593%2C%205.0%5D%2C%20%5B47.36867%2C%208.49841%2C%204.75%5D%2C%20%5B47.40703%2C%208.55232%2C%204.7%5D%2C%20%5B47.39232%2C%208.52876%2C%204.96%5D%2C%20%5B47.38003%2C%208.50829%2C%204.64%5D%2C%20%5B47.37408%2C%208.53071%2C%204.98%5D%2C%20%5B47.3748%2C%208.52668%2C%204.81%5D%2C%20%5B47.39354%2C%208.53019%2C%204.88%5D%2C%20%5B47.3937%2C%208.52998%2C%204.27%5D%2C%20%5B47.36592%2C%208.51377%2C%205.0%5D%2C%20%5B47.35468%2C%208.48535%2C%204.53%5D%2C%20%5B47.33715%2C%208.53265%2C%204.75%5D%2C%20%5B47.42659%2C%208.546569%2C%204.73%5D%2C%20%5B47.35223%2C%208.56271%2C%204.776940514224839%5D%2C%20%5B47.4013%2C%208.56972%2C%204.69%5D%2C%20%5B47.37449%2C%208.52116%2C%204.93%5D%2C%20%5B47.37802%2C%208.53171%2C%204.92%5D%2C%20%5B47.37744%2C%208.50882%2C%204.91%5D%2C%20%5B47.389%2C%208.52345%2C%204.25%5D%2C%20%5B47.36202%2C%208.52058%2C%205.0%5D%2C%20%5B47.37929%2C%208.5352%2C%204.89%5D%2C%20%5B47.39396%2C%208.50829%2C%204.0%5D%2C%20%5B47.35725%2C%208.55699%2C%205.0%5D%2C%20%5B47.36406%2C%208.55057%2C%204.776940514224839%5D%2C%20%5B47.34836%2C%208.56548%2C%204.88%5D%2C%20%5B47.36393%2C%208.54887%2C%204.99%5D%2C%20%5B47.36508%2C%208.57226%2C%204.67%5D%2C%20%5B47.3661%2C%208.50282%2C%204.15%5D%2C%20%5B47.36063%2C%208.53471%2C%204.92%5D%2C%20%5B47.33142%2C%208.5374%2C%204.69%5D%2C%20%5B47.395%2C%208.53442%2C%204.87%5D%2C%20%5B47.40245%2C%208.58832%2C%203.93%5D%2C%20%5B47.35242%2C%208.57012%2C%204.776940514224839%5D%2C%20%5B47.40782%2C%208.55461%2C%204.83%5D%2C%20%5B47.38302%2C%208.54983%2C%204.87%5D%2C%20%5B47.38435%2C%208.53154%2C%204.87%5D%2C%20%5B47.36538%2C%208.52406%2C%204.88%5D%2C%20%5B47.36562%2C%208.55729%2C%204.84%5D%2C%20%5B47.36463%2C%208.54884%2C%205.0%5D%2C%20%5B47.37969%2C%208.55919%2C%204.776940514224839%5D%2C%20%5B47.36724%2C%208.55179%2C%204.67%5D%2C%20%5B47.3681%2C%208.55116%2C%204.63%5D%2C%20%5B47.36401%2C%208.55047%2C%205.0%5D%2C%20%5B47.38015%2C%208.49808%2C%204.78%5D%2C%20%5B47.39408%2C%208.53195%2C%204.9%5D%2C%20%5B47.37015%2C%208.52678%2C%204.85%5D%2C%20%5B47.36288%2C%208.52304%2C%204.55%5D%2C%20%5B47.36644%2C%208.56301%2C%204.89%5D%2C%20%5B47.42541%2C%208.49986%2C%204.51%5D%2C%20%5B47.36644%2C%208.56301%2C%204.83%5D%2C%20%5B47.38015%2C%208.52768%2C%204.62%5D%2C%20%5B47.36589%2C%208.56362%2C%204.86%5D%2C%20%5B47.36407%2C%208.52113%2C%204.73%5D%2C%20%5B47.3673%2C%208.55255%2C%204.92%5D%2C%20%5B47.32768%2C%208.5151%2C%204.62%5D%2C%20%5B47.37315%2C%208.5458%2C%204.83%5D%2C%20%5B47.36347%2C%208.51749%2C%204.4%5D%2C%20%5B47.37346%2C%208.51491%2C%204.9%5D%2C%20%5B47.40424%2C%208.54829%2C%204.79%5D%2C%20%5B47.37475%2C%208.54413%2C%204.95%5D%2C%20%5B47.33763%2C%208.53492%2C%204.67%5D%2C%20%5B47.3409%2C%208.53246%2C%204.64%5D%2C%20%5B47.37396%2C%208.54291%2C%204.93%5D%2C%20%5B47.39019%2C%208.52018%2C%204.82%5D%2C%20%5B47.37638%2C%208.54463%2C%204.96%5D%2C%20%5B47.37289%2C%208.54145%2C%204.97%5D%2C%20%5B47.37738%2C%208.54754%2C%204.93%5D%2C%20%5B47.38644%2C%208.50317%2C%204.67%5D%2C%20%5B47.38644%2C%208.50317%2C%204.33%5D%2C%20%5B47.38644%2C%208.50317%2C%204.44%5D%2C%20%5B47.38644%2C%208.50317%2C%204.67%5D%2C%20%5B47.37505%2C%208.54372%2C%204.89%5D%2C%20%5B47.37505%2C%208.54372%2C%204.3%5D%2C%20%5B47.36243%2C%208.54878%2C%204.86%5D%2C%20%5B47.37468%2C%208.54342%2C%204.9%5D%2C%20%5B47.37468%2C%208.54342%2C%204.81%5D%2C%20%5B47.37468%2C%208.54342%2C%204.9%5D%2C%20%5B47.37468%2C%208.54342%2C%205.0%5D%2C%20%5B47.37641%2C%208.51478%2C%204.93%5D%2C%20%5B47.37468%2C%208.54342%2C%204.91%5D%2C%20%5B47.35072%2C%208.56191%2C%204.74%5D%2C%20%5B47.40503%2C%208.551%2C%204.89%5D%2C%20%5B47.37958%2C%208.4825%2C%204.5%5D%2C%20%5B47.36102%2C%208.55145%2C%204.9%5D%2C%20%5B47.35164%2C%208.56069%2C%204.88%5D%2C%20%5B47.36226%2C%208.52215%2C%204.4%5D%2C%20%5B47.37685%2C%208.54549%2C%204.96%5D%2C%20%5B47.385%2C%208.5458%2C%205.0%5D%2C%20%5B47.35697%2C%208.55664%2C%205.0%5D%2C%20%5B47.35703%2C%208.5567%2C%204.86%5D%2C%20%5B47.35578%2C%208.5566%2C%204.94%5D%2C%20%5B47.35578%2C%208.55666%2C%204.78%5D%2C%20%5B47.36467%2C%208.549%2C%204.9%5D%2C%20%5B47.37385%2C%208.52988%2C%204.86%5D%2C%20%5B47.36946%2C%208.55693%2C%204.87%5D%2C%20%5B47.36298%2C%208.55946%2C%204.84%5D%2C%20%5B47.36231%2C%208.55827%2C%204.9%5D%2C%20%5B47.39342%2C%208.52349%2C%204.53%5D%2C%20%5B47.38729%2C%208.52267%2C%204.33%5D%2C%20%5B47.36092%2C%208.56657%2C%204.776940514224839%5D%2C%20%5B47.38157%2C%208.48096%2C%204.73%5D%2C%20%5B47.36342%2C%208.55865%2C%204.71%5D%2C%20%5B47.36546%2C%208.50422%2C%204.86%5D%2C%20%5B47.38863%2C%208.49107%2C%204.75%5D%2C%20%5B47.37997%2C%208.50702%2C%204.53%5D%2C%20%5B47.364%2C%208.54975%2C%204.87%5D%2C%20%5B47.38287%2C%208.50033%2C%204.74%5D%2C%20%5B47.36051%2C%208.5649%2C%204.68%5D%2C%20%5B47.36051%2C%208.5649%2C%204.71%5D%2C%20%5B47.36051%2C%208.5649%2C%204.68%5D%2C%20%5B47.35784%2C%208.553%2C%204.88%5D%2C%20%5B47.3622%2C%208.56618%2C%204.92%5D%2C%20%5B47.35784%2C%208.553%2C%204.8%5D%2C%20%5B47.35784%2C%208.553%2C%204.81%5D%2C%20%5B47.38368%2C%208.53995%2C%204.77%5D%2C%20%5B47.4069%2C%208.54821%2C%204.96%5D%2C%20%5B47.37136%2C%208.54351%2C%204.87%5D%2C%20%5B47.35784%2C%208.553%2C%205.0%5D%2C%20%5B47.38368%2C%208.53995%2C%204.83%5D%2C%20%5B47.35811%2C%208.59906%2C%204.83%5D%2C%20%5B47.38018%2C%208.50485%2C%204.0%5D%2C%20%5B47.37833%2C%208.5263%2C%204.62%5D%2C%20%5B47.35865%2C%208.5494%2C%205.0%5D%2C%20%5B47.39258%2C%208.4786%2C%204.3%5D%2C%20%5B47.38873%2C%208.53798%2C%204.93%5D%2C%20%5B47.41409%2C%208.545%2C%204.07%5D%2C%20%5B47.38917%2C%208.48504%2C%204.89%5D%2C%20%5B47.39218%2C%208.52935%2C%205.0%5D%2C%20%5B47.36006%2C%208.53437%2C%204.85%5D%2C%20%5B47.41792%2C%208.54644%2C%204.776940514224839%5D%2C%20%5B47.3836%2C%208.52844%2C%204.776940514224839%5D%2C%20%5B47.35924%2C%208.52103%2C%204.91%5D%2C%20%5B47.38115%2C%208.51781%2C%204.5%5D%2C%20%5B47.38568%2C%208.53316%2C%205.0%5D%2C%20%5B47.38417%2C%208.54212%2C%205.0%5D%2C%20%5B47.3714%2C%208.54349%2C%204.89%5D%2C%20%5B47.3714%2C%208.54349%2C%204.91%5D%2C%20%5B47.37611%2C%208.53542%2C%204.96%5D%2C%20%5B47.42583%2C%208.54883%2C%205.0%5D%2C%20%5B47.37797%2C%208.51969%2C%205.0%5D%2C%20%5B47.38651%2C%208.54511%2C%204.94%5D%2C%20%5B47.37642%2C%208.52352%2C%204.85%5D%2C%20%5B47.39109%2C%208.53796%2C%204.776940514224839%5D%2C%20%5B47.41939%2C%208.51165%2C%204.73%5D%2C%20%5B47.37256%2C%208.54436%2C%204.91%5D%2C%20%5B47.38068%2C%208.53699%2C%204.776940514224839%5D%2C%20%5B47.35793%2C%208.59777%2C%204.84%5D%2C%20%5B47.3563%2C%208.59896%2C%204.75%5D%2C%20%5B47.38368%2C%208.53995%2C%204.67%5D%2C%20%5B47.35784%2C%208.553%2C%204.67%5D%2C%20%5B47.36879%2C%208.52689%2C%205.0%5D%2C%20%5B47.36232%2C%208.52775%2C%204.75%5D%2C%20%5B47.35578%2C%208.55666%2C%205.0%5D%2C%20%5B47.35578%2C%208.55666%2C%204.776940514224839%5D%2C%20%5B47.3605%2C%208.56529%2C%204.36%5D%2C%20%5B47.3605%2C%208.56529%2C%204.53%5D%2C%20%5B47.40653%2C%208.48022%2C%204.776940514224839%5D%2C%20%5B47.41103%2C%208.54619%2C%204.776940514224839%5D%2C%20%5B47.37205%2C%208.5427%2C%204.97%5D%2C%20%5B47.37271%2C%208.53225%2C%204.776940514224839%5D%2C%20%5B47.36226%2C%208.52215%2C%204.51%5D%2C%20%5B47.41409%2C%208.545%2C%204.44%5D%2C%20%5B47.37286%2C%208.54384%2C%204.97%5D%2C%20%5B47.37323%2C%208.52616%2C%204.62%5D%2C%20%5B47.41881%2C%208.55751%2C%204.61%5D%2C%20%5B47.35965%2C%208.52389%2C%204.95%5D%2C%20%5B47.36134%2C%208.56629%2C%204.79%5D%2C%20%5B47.35448%2C%208.56304%2C%204.776940514224839%5D%2C%20%5B47.40424%2C%208.55429%2C%204.72%5D%2C%20%5B47.37377%2C%208.53849%2C%204.96%5D%2C%20%5B47.39705%2C%208.58657%2C%204.5%5D%2C%20%5B47.36371%2C%208.54953%2C%204.89%5D%2C%20%5B47.40075%2C%208.53827%2C%204.88%5D%2C%20%5B47.36544%2C%208.52028%2C%204.58%5D%2C%20%5B47.35671%2C%208.55663%2C%204.776940514224839%5D%2C%20%5B47.41831%2C%208.55781%2C%204.82%5D%2C%20%5B47.36231%2C%208.55827%2C%204.9%5D%2C%20%5B47.413%2C%208.52719%2C%204.79%5D%2C%20%5B47.36966%2C%208.55303%2C%205.0%5D%2C%20%5B47.37332%2C%208.51905%2C%204.68%5D%2C%20%5B47.38032%2C%208.55722%2C%204.89%5D%2C%20%5B47.3718%2C%208.54541%2C%204.96%5D%2C%20%5B47.3698%2C%208.5432%2C%204.91%5D%2C%20%5B47.37792%2C%208.51425%2C%204.79%5D%2C%20%5B47.3652%2C%208.54825%2C%205.0%5D%2C%20%5B47.37563%2C%208.53061%2C%205.0%5D%2C%20%5B47.3922%2C%208.55069%2C%204.776940514224839%5D%2C%20%5B47.36536%2C%208.55408%2C%205.0%5D%2C%20%5B47.41105%2C%208.48109%2C%204.91%5D%2C%20%5B47.39349%2C%208.53499%2C%205.0%5D%2C%20%5B47.36773%2C%208.55611%2C%204.92%5D%2C%20%5B47.35286%2C%208.55978%2C%204.92%5D%2C%20%5B47.35473%2C%208.55668%2C%205.0%5D%2C%20%5B47.36987%2C%208.53189%2C%204.92%5D%2C%20%5B47.41035%2C%208.54643%2C%204.73%5D%2C%20%5B47.37585%2C%208.51511%2C%204.9%5D%2C%20%5B47.40918%2C%208.54569%2C%204.79%5D%2C%20%5B47.38488%2C%208.49463%2C%204.5%5D%2C%20%5B47.38031%2C%208.48205%2C%204.76%5D%2C%20%5B47.3815%2C%208.48216%2C%204.6%5D%2C%20%5B47.36217%2C%208.52206%2C%204.65%5D%2C%20%5B47.36226%2C%208.52215%2C%204.14%5D%2C%20%5B47.37825%2C%208.56035%2C%204.81%5D%2C%20%5B47.36268%2C%208.56684%2C%205.0%5D%2C%20%5B47.37881%2C%208.55894%2C%204.75%5D%2C%20%5B47.37704%2C%208.50973%2C%205.0%5D%2C%20%5B47.37374%2C%208.51556%2C%204.97%5D%2C%20%5B47.37771%2C%208.56013%2C%204.71%5D%2C%20%5B47.37137%2C%208.54428%2C%204.94%5D%2C%20%5B47.36309%2C%208.56658%2C%204.73%5D%2C%20%5B47.39822%2C%208.55302%2C%205.0%5D%2C%20%5B47.37753%2C%208.55925%2C%204.81%5D%2C%20%5B47.37941%2C%208.56013%2C%204.67%5D%2C%20%5B47.37658%2C%208.5253%2C%204.776940514224839%5D%2C%20%5B47.357601%2C%208.59931%2C%204.43%5D%2C%20%5B47.41159%2C%208.48127%2C%204.68%5D%2C%20%5B47.357601%2C%208.59931%2C%204.6%5D%2C%20%5B47.35477%2C%208.56168%2C%204.75%5D%2C%20%5B47.40391%2C%208.55308%2C%204.85%5D%2C%20%5B47.38887%2C%208.52986%2C%204.92%5D%2C%20%5B47.38645%2C%208.50316%2C%204.0%5D%2C%20%5B47.38645%2C%208.50316%2C%204.776940514224839%5D%2C%20%5B47.37682%2C%208.53883%2C%204.98%5D%2C%20%5B47.38817%2C%208.49861%2C%204.6%5D%2C%20%5B47.3645%2C%208.55502%2C%204.776940514224839%5D%2C%20%5B47.374268%2C%208.521883%2C%205.0%5D%2C%20%5B47.36136%2C%208.55271%2C%204.87%5D%2C%20%5B47.37691%2C%208.53258%2C%204.83%5D%2C%20%5B47.37691%2C%208.53258%2C%204.71%5D%2C%20%5B47.36107%2C%208.54984%2C%204.9%5D%2C%20%5B47.37316%2C%208.51976%2C%204.81%5D%2C%20%5B47.37259%2C%208.54535%2C%204.96%5D%2C%20%5B47.36369%2C%208.51203%2C%204.74%5D%2C%20%5B47.35578%2C%208.55666%2C%205.0%5D%2C%20%5B47.42689%2C%208.55265%2C%204.776940514224839%5D%2C%20%5B47.41407%2C%208.54519%2C%204.4%5D%2C%20%5B47.36987%2C%208.53189%2C%204.83%5D%2C%20%5B47.3783%2C%208.55881%2C%204.9%5D%2C%20%5B47.3771%2C%208.51509%2C%205.0%5D%2C%20%5B47.36114%2C%208.5518%2C%204.89%5D%2C%20%5B47.37708%2C%208.52348%2C%204.5%5D%2C%20%5B47.37708%2C%208.52348%2C%204.83%5D%2C%20%5B47.37708%2C%208.52348%2C%204.62%5D%2C%20%5B47.37708%2C%208.52348%2C%204.6%5D%2C%20%5B47.37708%2C%208.52348%2C%204.63%5D%2C%20%5B47.3715%2C%208.54473%2C%204.9%5D%2C%20%5B47.38309%2C%208.54791%2C%204.89%5D%2C%20%5B47.40036%2C%208.57644%2C%204.96%5D%2C%20%5B47.40136%2C%208.57614%2C%204.91%5D%2C%20%5B47.35465%2C%208.53251%2C%204.5%5D%2C%20%5B47.37698%2C%208.52879%2C%204.73%5D%2C%20%5B47.3827%2C%208.55204%2C%204.83%5D%2C%20%5B47.37824%2C%208.55907%2C%204.92%5D%2C%20%5B47.38865%2C%208.54094%2C%204.86%5D%2C%20%5B47.40955%2C%208.4871%2C%204.5%5D%2C%20%5B47.3623%2C%208.52228%2C%204.58%5D%2C%20%5B47.37292%2C%208.54433%2C%204.96%5D%2C%20%5B47.35721%2C%208.5547%2C%204.89%5D%2C%20%5B47.3706%2C%208.53353%2C%204.88%5D%2C%20%5B47.35743%2C%208.55356%2C%204.776940514224839%5D%2C%20%5B47.36231%2C%208.52214%2C%204.9%5D%2C%20%5B47.3797%2C%208.50081%2C%204.83%5D%2C%20%5B47.37358%2C%208.544%2C%204.97%5D%2C%20%5B47.40805%2C%208.54772%2C%204.5%5D%2C%20%5B47.36467%2C%208.55029%2C%205.0%5D%2C%20%5B47.40807%2C%208.54763%2C%205.0%5D%2C%20%5B47.40805%2C%208.5476%2C%204.4%5D%2C%20%5B47.40806%2C%208.54758%2C%204.5%5D%2C%20%5B47.37312%2C%208.51953%2C%204.8%5D%2C%20%5B47.39636%2C%208.52292%2C%204.75%5D%2C%20%5B47.37075%2C%208.54147%2C%204.86%5D%2C%20%5B47.39049%2C%208.54989%2C%204.8%5D%2C%20%5B47.38485%2C%208.52455%2C%204.96%5D%2C%20%5B47.39402%2C%208.53246%2C%204.83%5D%2C%20%5B47.36902%2C%208.54354%2C%204.93%5D%2C%20%5B47.35861%2C%208.52653%2C%204.78%5D%2C%20%5B47.36098%2C%208.54948%2C%205.0%5D%2C%20%5B47.36666%2C%208.54292%2C%204.75%5D%2C%20%5B47.34323%2C%208.52305%2C%204.54%5D%2C%20%5B47.38105%2C%208.54301%2C%204.86%5D%2C%20%5B47.37765%2C%208.55885%2C%205.0%5D%2C%20%5B47.37485%2C%208.5441%2C%205.0%5D%2C%20%5B47.37301%2C%208.52605%2C%204.7%5D%2C%20%5B47.37301%2C%208.52605%2C%204.6%5D%2C%20%5B47.373%2C%208.52618%2C%204.25%5D%2C%20%5B47.38967%2C%208.53276%2C%205.0%5D%2C%20%5B47.40802%2C%208.54762%2C%204.7%5D%2C%20%5B47.38119%2C%208.53346%2C%204.9%5D%2C%20%5B47.38614%2C%208.52568%2C%205.0%5D%2C%20%5B47.38898%2C%208.49287%2C%204.75%5D%2C%20%5B47.35721%2C%208.5547%2C%204.82%5D%2C%20%5B47.37827%2C%208.52135%2C%204.88%5D%2C%20%5B47.36035%2C%208.54961%2C%204.776940514224839%5D%2C%20%5B47.39789%2C%208.49951%2C%204.776940514224839%5D%2C%20%5B47.36953%2C%208.54568%2C%204.98%5D%2C%20%5B47.41553%2C%208.5451%2C%204.6%5D%2C%20%5B47.41554%2C%208.54484%2C%204.5%5D%2C%20%5B47.4002%2C%208.59064%2C%204.776940514224839%5D%2C%20%5B47.4156%2C%208.54518%2C%204.78%5D%2C%20%5B47.40802%2C%208.54762%2C%205.0%5D%2C%20%5B47.37543%2C%208.5301%2C%205.0%5D%2C%20%5B47.36473%2C%208.54891%2C%204.89%5D%2C%20%5B47.37367%2C%208.52206%2C%204.87%5D%2C%20%5B47.39375%2C%208.5285%2C%205.0%5D%2C%20%5B47.36304%2C%208.55033%2C%204.63%5D%2C%20%5B47.40707%2C%208.55428%2C%204.68%5D%2C%20%5B47.40903%2C%208.48827%2C%204.86%5D%2C%20%5B47.34708%2C%208.5282%2C%204.776940514224839%5D%2C%20%5B47.38294%2C%208.54053%2C%204.94%5D%2C%20%5B47.35263%2C%208.53058%2C%204.9%5D%2C%20%5B47.3733%2C%208.54177%2C%204.97%5D%2C%20%5B47.41935%2C%208.5565%2C%204.78%5D%2C%20%5B47.3773%2C%208.54053%2C%204.33%5D%2C%20%5B47.41547%2C%208.54494%2C%204.78%5D%2C%20%5B47.39214%2C%208.51455%2C%204.88%5D%2C%20%5B47.37888%2C%208.50335%2C%204.83%5D%2C%20%5B47.35137%2C%208.57959%2C%205.0%5D%2C%20%5B47.37276%2C%208.53954%2C%204.9%5D%2C%20%5B47.39982%2C%208.54127%2C%204.71%5D%2C%20%5B47.37305%2C%208.54167%2C%204.99%5D%2C%20%5B47.36387%2C%208.54882%2C%205.0%5D%2C%20%5B47.35666%2C%208.52867%2C%204.9%5D%2C%20%5B47.37067%2C%208.54021%2C%204.96%5D%2C%20%5B47.37537%2C%208.53501%2C%204.88%5D%2C%20%5B47.39953%2C%208.54091%2C%205.0%5D%2C%20%5B47.36385%2C%208.54942%2C%204.95%5D%2C%20%5B47.36385%2C%208.54942%2C%204.95%5D%2C%20%5B47.35733%2C%208.55358%2C%204.82%5D%2C%20%5B47.36376%2C%208.53257%2C%204.91%5D%2C%20%5B47.396%2C%208.52921%2C%204.5%5D%2C%20%5B47.35406%2C%208.5573%2C%204.86%5D%2C%20%5B47.37323%2C%208.52616%2C%204.57%5D%2C%20%5B47.36134%2C%208.5359%2C%204.77%5D%2C%20%5B47.38077%2C%208.53434%2C%204.9%5D%2C%20%5B47.37438%2C%208.5308%2C%205.0%5D%2C%20%5B47.37137%2C%208.54428%2C%204.75%5D%2C%20%5B47.37313%2C%208.54242%2C%204.94%5D%2C%20%5B47.39114%2C%208.53096%2C%205.0%5D%2C%20%5B47.35784%2C%208.52677%2C%204.83%5D%2C%20%5B47.39835%2C%208.58831%2C%204.67%5D%2C%20%5B47.36582%2C%208.51524%2C%204.83%5D%2C%20%5B47.37896%2C%208.50636%2C%204.56%5D%2C%20%5B47.39628%2C%208.52365%2C%204.79%5D%2C%20%5B47.36841%2C%208.48882%2C%204.65%5D%2C%20%5B47.41555%2C%208.5451%2C%205.0%5D%2C%20%5B47.3832%2C%208.52917%2C%205.0%5D%2C%20%5B47.36057%2C%208.51748%2C%204.83%5D%2C%20%5B47.36023%2C%208.53029%2C%204.92%5D%2C%20%5B47.36213%2C%208.56641%2C%204.85%5D%2C%20%5B47.37608%2C%208.5225%2C%204.93%5D%2C%20%5B47.359%2C%208.55077%2C%204.97%5D%2C%20%5B47.3821%2C%208.50132%2C%204.65%5D%2C%20%5B47.40592%2C%208.5917%2C%204.78%5D%2C%20%5B47.3923%2C%208.51627%2C%204.92%5D%2C%20%5B47.38368%2C%208.54912%2C%204.89%5D%2C%20%5B47.38943%2C%208.55307%2C%204.776940514224839%5D%2C%20%5B47.3568%2C%208.55211%2C%205.0%5D%2C%20%5B47.41269%2C%208.48064%2C%205.0%5D%2C%20%5B47.40801%2C%208.54801%2C%204.81%5D%2C%20%5B47.37912%2C%208.52599%2C%204.38%5D%2C%20%5B47.36997%2C%208.54671%2C%204.96%5D%2C%20%5B47.3596%2C%208.55853%2C%204.73%5D%2C%20%5B47.36327%2C%208.5487%2C%204.83%5D%2C%20%5B47.36849%2C%208.55659%2C%205.0%5D%2C%20%5B47.37491%2C%208.51749%2C%204.776940514224839%5D%2C%20%5B47.38368%2C%208.55327%2C%204.776940514224839%5D%2C%20%5B47.35672%2C%208.55542%2C%204.776940514224839%5D%2C%20%5B47.36477%2C%208.51936%2C%204.58%5D%2C%20%5B47.42232%2C%208.50421%2C%204.776940514224839%5D%2C%20%5B47.39682%2C%208.53907%2C%204.33%5D%2C%20%5B47.39255%2C%208.53185%2C%204.8%5D%2C%20%5B47.38179%2C%208.56216%2C%204.87%5D%2C%20%5B47.36084%2C%208.51707%2C%204.91%5D%2C%20%5B47.37177%2C%208.5046%2C%204.0%5D%2C%20%5B47.36798%2C%208.56327%2C%204.87%5D%2C%20%5B47.36214%2C%208.56631%2C%204.776940514224839%5D%2C%20%5B47.35913%2C%208.51717%2C%204.5%5D%2C%20%5B47.37687%2C%208.52452%2C%204.8%5D%2C%20%5B47.391%2C%208.5478%2C%204.96%5D%2C%20%5B47.37326%2C%208.52085%2C%205.0%5D%2C%20%5B47.39543%2C%208.52429%2C%204.78%5D%2C%20%5B47.35982%2C%208.51704%2C%204.53%5D%2C%20%5B47.39119%2C%208.51117%2C%204.94%5D%2C%20%5B47.391609%2C%208.510444%2C%204.91%5D%2C%20%5B47.41728%2C%208.54833%2C%204.77%5D%2C%20%5B47.37708%2C%208.52348%2C%204.6%5D%2C%20%5B47.37708%2C%208.52348%2C%204.77%5D%2C%20%5B47.37708%2C%208.52348%2C%204.57%5D%2C%20%5B47.37708%2C%208.52348%2C%204.67%5D%2C%20%5B47.37372%2C%208.52848%2C%204.776940514224839%5D%2C%20%5B47.40802%2C%208.54762%2C%204.83%5D%2C%20%5B47.40802%2C%208.54762%2C%205.0%5D%2C%20%5B47.40802%2C%208.54762%2C%205.0%5D%2C%20%5B47.40802%2C%208.54762%2C%205.0%5D%2C%20%5B47.40802%2C%208.54762%2C%205.0%5D%2C%20%5B47.40802%2C%208.54762%2C%205.0%5D%2C%20%5B47.40802%2C%208.54762%2C%204.776940514224839%5D%2C%20%5B47.40802%2C%208.54762%2C%204.5%5D%2C%20%5B47.40802%2C%208.54762%2C%204.67%5D%2C%20%5B47.40802%2C%208.54762%2C%205.0%5D%2C%20%5B47.38645%2C%208.50316%2C%203.33%5D%2C%20%5B47.36378%2C%208.54889%2C%205.0%5D%2C%20%5B47.38645%2C%208.50316%2C%204.0%5D%2C%20%5B47.38645%2C%208.50316%2C%204.776940514224839%5D%2C%20%5B47.38645%2C%208.50316%2C%204.5%5D%2C%20%5B47.38645%2C%208.50316%2C%204.8%5D%2C%20%5B47.38645%2C%208.50316%2C%204.776940514224839%5D%2C%20%5B47.38645%2C%208.50316%2C%204.33%5D%2C%20%5B47.38645%2C%208.50316%2C%204.5%5D%2C%20%5B47.38645%2C%208.50316%2C%204.776940514224839%5D%2C%20%5B47.35944%2C%208.52649%2C%204.78%5D%2C%20%5B47.38645%2C%208.50316%2C%204.776940514224839%5D%2C%20%5B47.38645%2C%208.50316%2C%204.0%5D%2C%20%5B47.38645%2C%208.50316%2C%204.776940514224839%5D%2C%20%5B47.38645%2C%208.50316%2C%204.57%5D%2C%20%5B47.37985%2C%208.51411%2C%204.73%5D%2C%20%5B47.40886%2C%208.53224%2C%204.77%5D%2C%20%5B47.38735%2C%208.51522%2C%204.86%5D%2C%20%5B47.38645%2C%208.50316%2C%204.5%5D%2C%20%5B47.38645%2C%208.50316%2C%205.0%5D%2C%20%5B47.38645%2C%208.50316%2C%204.776940514224839%5D%2C%20%5B47.38645%2C%208.50316%2C%205.0%5D%2C%20%5B47.37467%2C%208.52908%2C%204.93%5D%2C%20%5B47.4144%2C%208.55859%2C%204.91%5D%2C%20%5B47.40063%2C%208.53103%2C%205.0%5D%2C%20%5B47.40756%2C%208.55934%2C%204.776940514224839%5D%2C%20%5B47.35994%2C%208.52206%2C%205.0%5D%2C%20%5B47.34994%2C%208.56335%2C%204.93%5D%2C%20%5B47.38724%2C%208.5516%2C%204.8%5D%2C%20%5B47.37686%2C%208.51255%2C%204.83%5D%2C%20%5B47.36052%2C%208.52521%2C%205.0%5D%2C%20%5B47.39076%2C%208.52594%2C%205.0%5D%2C%20%5B47.37038%2C%208.54719%2C%204.86%5D%2C%20%5B47.35263%2C%208.53012%2C%204.776940514224839%5D%2C%20%5B47.39446%2C%208.52372%2C%204.78%5D%2C%20%5B47.37989%2C%208.48981%2C%204.55%5D%2C%20%5B47.37237%2C%208.54397%2C%204.99%5D%2C%20%5B47.35177%2C%208.53044%2C%204.9%5D%2C%20%5B47.40365%2C%208.55087%2C%205.0%5D%2C%20%5B47.3759%2C%208.52021%2C%204.94%5D%2C%20%5B47.39812%2C%208.50584%2C%204.77%5D%2C%20%5B47.41782%2C%208.53634%2C%204.776940514224839%5D%2C%20%5B47.39394%2C%208.53179%2C%204.88%5D%2C%20%5B47.40637%2C%208.54971%2C%204.67%5D%2C%20%5B47.37199%2C%208.52825%2C%204.776940514224839%5D%2C%20%5B47.38456%2C%208.55001%2C%204.85%5D%2C%20%5B47.42548%2C%208.53526%2C%204.62%5D%2C%20%5B47.37455%2C%208.52999%2C%204.94%5D%2C%20%5B47.4102%2C%208.54207%2C%204.0%5D%2C%20%5B47.40919%2C%208.54202%2C%205.0%5D%2C%20%5B47.41602%2C%208.54667%2C%204.74%5D%2C%20%5B47.39295%2C%208.51782%2C%204.73%5D%2C%20%5B47.33002%2C%208.5161%2C%204.0%5D%2C%20%5B47.42274%2C%208.50355%2C%205.0%5D%2C%20%5B47.37966%2C%208.55916%2C%204.8%5D%2C%20%5B47.40901%2C%208.54204%2C%204.14%5D%2C%20%5B47.35924%2C%208.52786%2C%204.7%5D%2C%20%5B47.36723%2C%208.52632%2C%204.78%5D%2C%20%5B47.38882%2C%208.48126%2C%204.776940514224839%5D%2C%20%5B47.34338%2C%208.53135%2C%204.67%5D%2C%20%5B47.35688%2C%208.57357%2C%204.776940514224839%5D%2C%20%5B47.37949%2C%208.54429%2C%204.97%5D%2C%20%5B47.36226%2C%208.5222%2C%204.42%5D%2C%20%5B47.36183%2C%208.51632%2C%205.0%5D%2C%20%5B47.37545%2C%208.51622%2C%204.88%5D%2C%20%5B47.37505%2C%208.54372%2C%204.87%5D%2C%20%5B47.40107%2C%208.49915%2C%205.0%5D%2C%20%5B47.39846%2C%208.53153%2C%204.5%5D%2C%20%5B47.41736%2C%208.5335%2C%204.776940514224839%5D%2C%20%5B47.37198%2C%208.54206%2C%204.98%5D%2C%20%5B47.3718%2C%208.54541%2C%204.93%5D%2C%20%5B47.38646%2C%208.54015%2C%204.94%5D%2C%20%5B47.41037%2C%208.53746%2C%204.81%5D%2C%20%5B47.37414%2C%208.5441%2C%204.97%5D%2C%20%5B47.38388%2C%208.49333%2C%203.33%5D%2C%20%5B47.35796%2C%208.55493%2C%205.0%5D%2C%20%5B47.36071%2C%208.53279%2C%204.88%5D%2C%20%5B47.36356%2C%208.54963%2C%205.0%5D%2C%20%5B47.37947%2C%208.5173%2C%204.71%5D%2C%20%5B47.36509%2C%208.56923%2C%205.0%5D%2C%20%5B47.40889%2C%208.54848%2C%204.776940514224839%5D%2C%20%5B47.36993%2C%208.52004%2C%204.89%5D%2C%20%5B47.36498%2C%208.52248%2C%204.11%5D%2C%20%5B47.34802%2C%208.5278%2C%204.53%5D%2C%20%5B47.34802%2C%208.5278%2C%205.0%5D%2C%20%5B47.33515%2C%208.51566%2C%204.5%5D%2C%20%5B47.35975%2C%208.52788%2C%205.0%5D%2C%20%5B47.36283%2C%208.5563%2C%204.88%5D%2C%20%5B47.37504%2C%208.51436%2C%204.776940514224839%5D%2C%20%5B47.38381%2C%208.54263%2C%204.776940514224839%5D%2C%20%5B47.40942%2C%208.54102%2C%204.71%5D%2C%20%5B47.37618%2C%208.50995%2C%205.0%5D%2C%20%5B47.38349%2C%208.50863%2C%204.74%5D%2C%20%5B47.39449%2C%208.52004%2C%205.0%5D%2C%20%5B47.38739%2C%208.55218%2C%205.0%5D%2C%20%5B47.36317%2C%208.54612%2C%205.0%5D%2C%20%5B47.38802%2C%208.49209%2C%204.5%5D%2C%20%5B47.35835%2C%208.51756%2C%204.71%5D%2C%20%5B47.36027%2C%208.57639%2C%205.0%5D%2C%20%5B47.37162%2C%208.53965%2C%204.99%5D%2C%20%5B47.33132%2C%208.52768%2C%204.33%5D%2C%20%5B47.37213%2C%208.54679%2C%205.0%5D%2C%20%5B47.37682%2C%208.52082%2C%204.776940514224839%5D%2C%20%5B47.40162%2C%208.58512%2C%204.74%5D%2C%20%5B47.35882%2C%208.55243%2C%204.776940514224839%5D%2C%20%5B47.35518%2C%208.57618%2C%204.76%5D%2C%20%5B47.37458%2C%208.51981%2C%205.0%5D%2C%20%5B47.39658%2C%208.4941%2C%204.776940514224839%5D%2C%20%5B47.35814%2C%208.55635%2C%204.776940514224839%5D%2C%20%5B47.35976%2C%208.51851%2C%204.58%5D%2C%20%5B47.38342%2C%208.5495%2C%204.93%5D%2C%20%5B47.35862%2C%208.51657%2C%204.63%5D%2C%20%5B47.36502%2C%208.49349%2C%204.79%5D%2C%20%5B47.39669%2C%208.49626%2C%204.776940514224839%5D%2C%20%5B47.35466%2C%208.55679%2C%204.93%5D%2C%20%5B47.3753%2C%208.51415%2C%204.81%5D%2C%20%5B47.38802%2C%208.49209%2C%204.6%5D%2C%20%5B47.38809%2C%208.54917%2C%204.89%5D%2C%20%5B47.33588%2C%208.52867%2C%204.58%5D%2C%20%5B47.37338%2C%208.54301%2C%205.0%5D%2C%20%5B47.36186%2C%208.52617%2C%204.5%5D%2C%20%5B47.38829%2C%208.48143%2C%204.776940514224839%5D%2C%20%5B47.38185%2C%208.53704%2C%204.93%5D%2C%20%5B47.37844%2C%208.52697%2C%205.0%5D%2C%20%5B47.39433%2C%208.52526%2C%204.59%5D%2C%20%5B47.36111%2C%208.55034%2C%205.0%5D%2C%20%5B47.35975%2C%208.54969%2C%205.0%5D%2C%20%5B47.39797%2C%208.48422%2C%204.776940514224839%5D%2C%20%5B47.37336%2C%208.5543%2C%204.65%5D%2C%20%5B47.41354%2C%208.54605%2C%204.82%5D%2C%20%5B47.38136%2C%208.53346%2C%204.95%5D%2C%20%5B47.37795%2C%208.52193%2C%205.0%5D%2C%20%5B47.3899%2C%208.47912%2C%204.6%5D%2C%20%5B47.36533%2C%208.52205%2C%204.75%5D%2C%20%5B47.35762%2C%208.55756%2C%205.0%5D%2C%20%5B47.4156%2C%208.5451%2C%205.0%5D%2C%20%5B47.3713%2C%208.52514%2C%204.89%5D%2C%20%5B47.33689%2C%208.53426%2C%204.86%5D%2C%20%5B47.35556%2C%208.55478%2C%204.96%5D%2C%20%5B47.39647%2C%208.52569%2C%205.0%5D%2C%20%5B47.36376%2C%208.53257%2C%204.82%5D%2C%20%5B47.37911%2C%208.55166%2C%204.7%5D%2C%20%5B47.36094%2C%208.56591%2C%204.52%5D%2C%20%5B47.38561%2C%208.48861%2C%204.85%5D%2C%20%5B47.37412%2C%208.51763%2C%204.9%5D%2C%20%5B47.37212%2C%208.5265%2C%204.91%5D%2C%20%5B47.3803%2C%208.50703%2C%204.69%5D%2C%20%5B47.38035%2C%208.52826%2C%204.66%5D%2C%20%5B47.36011%2C%208.52098%2C%204.92%5D%2C%20%5B47.38206%2C%208.53409%2C%205.0%5D%2C%20%5B47.37327%2C%208.49369%2C%204.77%5D%2C%20%5B47.41555%2C%208.54505%2C%205.0%5D%2C%20%5B47.38876%2C%208.53929%2C%204.776940514224839%5D%2C%20%5B47.4132%2C%208.54199%2C%204.57%5D%2C%20%5B47.4101%2C%208.57708%2C%204.25%5D%2C%20%5B47.38479%2C%208.49884%2C%205.0%5D%2C%20%5B47.39304%2C%208.52821%2C%204.67%5D%2C%20%5B47.37063%2C%208.51668%2C%205.0%5D%2C%20%5B47.40421%2C%208.48591%2C%204.86%5D%2C%20%5B47.41409%2C%208.545%2C%205.0%5D%2C%20%5B47.35511%2C%208.6048%2C%204.78%5D%2C%20%5B47.37993%2C%208.52502%2C%204.86%5D%2C%20%5B47.40992%2C%208.5769%2C%204.776940514224839%5D%2C%20%5B47.37522%2C%208.5253%2C%204.68%5D%2C%20%5B47.39099%2C%208.47205%2C%204.776940514224839%5D%2C%20%5B47.40726%2C%208.55132%2C%204.65%5D%2C%20%5B47.3727%2C%208.54082%2C%204.95%5D%2C%20%5B47.42425%2C%208.51083%2C%204.776940514224839%5D%2C%20%5B47.36313%2C%208.55054%2C%204.73%5D%2C%20%5B47.3841%2C%208.50817%2C%204.49%5D%2C%20%5B47.38429%2C%208.50774%2C%204.5%5D%2C%20%5B47.36217%2C%208.52206%2C%204.4%5D%2C%20%5B47.37843%2C%208.5141%2C%204.79%5D%2C%20%5B47.33686%2C%208.53713%2C%204.69%5D%2C%20%5B47.36851%2C%208.56367%2C%204.76%5D%2C%20%5B47.36798%2C%208.55447%2C%204.81%5D%2C%20%5B47.3947%2C%208.54022%2C%204.776940514224839%5D%2C%20%5B47.3319%2C%208.53723%2C%205.0%5D%2C%20%5B47.33136%2C%208.53636%2C%204.776940514224839%5D%2C%20%5B47.37455%2C%208.52999%2C%204.92%5D%2C%20%5B47.37764%2C%208.54849%2C%204.84%5D%2C%20%5B47.3741%2C%208.54504%2C%204.93%5D%2C%20%5B47.41308%2C%208.54723%2C%204.776940514224839%5D%2C%20%5B47.3699%2C%208.52752%2C%204.96%5D%2C%20%5B47.3711%2C%208.5258%2C%204.93%5D%2C%20%5B47.40538%2C%208.59158%2C%204.69%5D%2C%20%5B47.3622%2C%208.52097%2C%204.68%5D%2C%20%5B47.37205%2C%208.52524%2C%204.92%5D%2C%20%5B47.37303%2C%208.51942%2C%204.9%5D%2C%20%5B47.37455%2C%208.52999%2C%204.95%5D%2C%20%5B47.41021%2C%208.56322%2C%205.0%5D%2C%20%5B47.33633%2C%208.53903%2C%204.776940514224839%5D%2C%20%5B47.37835%2C%208.55913%2C%205.0%5D%2C%20%5B47.36904%2C%208.5578%2C%205.0%5D%2C%20%5B47.33748%2C%208.53851%2C%204.776940514224839%5D%2C%20%5B47.37835%2C%208.55913%2C%204.9%5D%2C%20%5B47.34904%2C%208.56313%2C%204.75%5D%2C%20%5B47.38972%2C%208.4797%2C%202.8%5D%2C%20%5B47.38223%2C%208.56312%2C%204.84%5D%2C%20%5B47.37835%2C%208.55911%2C%204.86%5D%2C%20%5B47.41584%2C%208.54538%2C%204.0%5D%2C%20%5B47.37228%2C%208.5243%2C%204.86%5D%2C%20%5B47.37384%2C%208.54256%2C%204.98%5D%2C%20%5B47.38028%2C%208.50769%2C%204.56%5D%2C%20%5B47.36783%2C%208.5073%2C%204.83%5D%2C%20%5B47.37109%2C%208.52559%2C%204.776940514224839%5D%2C%20%5B47.39454%2C%208.52148%2C%204.75%5D%2C%20%5B47.37682%2C%208.53883%2C%204.97%5D%2C%20%5B47.37798%2C%208.5379%2C%204.8%5D%2C%20%5B47.37773%2C%208.53801%2C%204.94%5D%2C%20%5B47.37774%2C%208.53983%2C%205.0%5D%2C%20%5B47.36202%2C%208.56553%2C%204.85%5D%2C%20%5B47.36522%2C%208.52109%2C%204.71%5D%2C%20%5B47.36731%2C%208.52094%2C%204.88%5D%2C%20%5B47.37223%2C%208.5224%2C%204.86%5D%2C%20%5B47.36226%2C%208.52215%2C%204.2%5D%2C%20%5B47.37843%2C%208.5141%2C%204.8%5D%2C%20%5B47.38577%2C%208.52832%2C%205.0%5D%2C%20%5B47.39099%2C%208.54607%2C%205.0%5D%2C%20%5B47.36528%2C%208.53723%2C%204.95%5D%2C%20%5B47.36469%2C%208.51873%2C%204.76%5D%2C%20%5B47.38737%2C%208.49405%2C%204.6%5D%2C%20%5B47.36548%2C%208.54847%2C%204.8%5D%2C%20%5B47.3695%2C%208.52834%2C%205.0%5D%2C%20%5B47.36585%2C%208.54254%2C%204.776940514224839%5D%2C%20%5B47.36794%2C%208.55915%2C%204.87%5D%2C%20%5B47.39671%2C%208.51977%2C%204.83%5D%2C%20%5B47.40097%2C%208.54583%2C%204.91%5D%2C%20%5B47.37175%2C%208.52651%2C%204.52%5D%2C%20%5B47.38049%2C%208.50784%2C%204.68%5D%2C%20%5B47.39501%2C%208.52081%2C%204.76%5D%2C%20%5B47.39355%2C%208.52076%2C%204.75%5D%2C%20%5B47.40995%2C%208.54569%2C%204.64%5D%2C%20%5B47.35487%2C%208.55661%2C%204.96%5D%2C%20%5B47.36696%2C%208.52266%2C%204.45%5D%2C%20%5B47.36696%2C%208.52266%2C%204.42%5D%2C%20%5B47.36696%2C%208.52266%2C%204.57%5D%2C%20%5B47.36696%2C%208.52266%2C%204.29%5D%2C%20%5B47.37068%2C%208.51172%2C%205.0%5D%2C%20%5B47.38802%2C%208.49209%2C%204.43%5D%2C%20%5B47.38802%2C%208.49209%2C%204.4%5D%2C%20%5B47.37319%2C%208.53169%2C%205.0%5D%2C%20%5B47.37351%2C%208.52354%2C%204.81%5D%2C%20%5B47.38378%2C%208.52972%2C%204.8%5D%2C%20%5B47.37226%2C%208.52364%2C%204.81%5D%2C%20%5B47.37351%2C%208.52363%2C%204.88%5D%2C%20%5B47.37324%2C%208.52399%2C%204.83%5D%2C%20%5B47.3718%2C%208.52279%2C%204.88%5D%2C%20%5B47.37172%2C%208.52269%2C%204.79%5D%2C%20%5B47.3717%2C%208.52369%2C%204.82%5D%2C%20%5B47.3733%2C%208.52265%2C%204.8%5D%2C%20%5B47.40449%2C%208.48669%2C%204.85%5D%2C%20%5B47.3838%2C%208.52873%2C%204.89%5D%2C%20%5B47.35741%2C%208.55075%2C%205.0%5D%2C%20%5B47.38216%2C%208.53026%2C%204.67%5D%2C%20%5B47.38746%2C%208.55092%2C%205.0%5D%2C%20%5B47.37784%2C%208.55845%2C%204.89%5D%2C%20%5B47.36611%2C%208.55402%2C%204.83%5D%2C%20%5B47.36939%2C%208.49282%2C%204.7%5D%2C%20%5B47.34133%2C%208.52947%2C%205.0%5D%2C%20%5B47.36378%2C%208.55656%2C%205.0%5D%2C%20%5B47.38583%2C%208.50034%2C%204.63%5D%2C%20%5B47.41311%2C%208.54414%2C%204.75%5D%2C%20%5B47.3797%2C%208.51062%2C%204.73%5D%2C%20%5B47.38795%2C%208.48011%2C%205.0%5D%2C%20%5B47.38802%2C%208.49209%2C%204.8%5D%2C%20%5B47.38999%2C%208.47789%2C%204.33%5D%2C%20%5B47.4232%2C%208.50114%2C%204.69%5D%2C%20%5B47.36325%2C%208.55957%2C%204.91%5D%2C%20%5B47.37994%2C%208.48114%2C%204.67%5D%2C%20%5B47.3825%2C%208.52844%2C%205.0%5D%2C%20%5B47.37375%2C%208.5215%2C%204.0%5D%2C%20%5B47.36103%2C%208.56638%2C%204.74%5D%2C%20%5B47.38777%2C%208.48239%2C%204.75%5D%2C%20%5B47.39362%2C%208.52169%2C%204.78%5D%2C%20%5B47.38256%2C%208.52993%2C%204.81%5D%2C%20%5B47.36569%2C%208.52271%2C%204.92%5D%2C%20%5B47.36487%2C%208.53235%2C%204.9%5D%2C%20%5B47.35861%2C%208.51649%2C%204.82%5D%2C%20%5B47.37848%2C%208.5184%2C%205.0%5D%2C%20%5B47.39021%2C%208.523%2C%205.0%5D%2C%20%5B47.391%2C%208.5478%2C%204.9%5D%2C%20%5B47.391%2C%208.5478%2C%204.93%5D%2C%20%5B47.35811%2C%208.55407%2C%204.97%5D%2C%20%5B47.37367%2C%208.53907%2C%204.96%5D%2C%20%5B47.36939%2C%208.54563%2C%205.0%5D%2C%20%5B47.3708%2C%208.51475%2C%204.63%5D%2C%20%5B47.37287%2C%208.53854%2C%204.97%5D%2C%20%5B47.36591%2C%208.55055%2C%205.0%5D%2C%20%5B47.36584%2C%208.55204%2C%205.0%5D%2C%20%5B47.37826%2C%208.52715%2C%205.0%5D%2C%20%5B47.38363%2C%208.55071%2C%205.0%5D%2C%20%5B47.36808%2C%208.52197%2C%204.0%5D%2C%20%5B47.39452%2C%208.53117%2C%204.776940514224839%5D%2C%20%5B47.3842%2C%208.52824%2C%204.89%5D%2C%20%5B47.37767%2C%208.56681%2C%204.92%5D%2C%20%5B47.36668%2C%208.51158%2C%205.0%5D%2C%20%5B47.36083%2C%208.5253%2C%204.89%5D%2C%20%5B47.40519%2C%208.53742%2C%204.86%5D%2C%20%5B47.38708%2C%208.49633%2C%204.67%5D%2C%20%5B47.37977%2C%208.50612%2C%204.88%5D%2C%20%5B47.37694%2C%208.56401%2C%204.776940514224839%5D%2C%20%5B47.37907%2C%208.51312%2C%204.82%5D%2C%20%5B47.39318%2C%208.53129%2C%205.0%5D%2C%20%5B47.39044%2C%208.54417%2C%205.0%5D%2C%20%5B47.35767%2C%208.55422%2C%204.91%5D%2C%20%5B47.37059%2C%208.51384%2C%204.0%5D%2C%20%5B47.35647%2C%208.5575%2C%205.0%5D%2C%20%5B47.37543%2C%208.51569%2C%204.5%5D%2C%20%5B47.37372%2C%208.52188%2C%204.87%5D%2C%20%5B47.36992%2C%208.52398%2C%205.0%5D%2C%20%5B47.35853%2C%208.52861%2C%205.0%5D%2C%20%5B47.3724%2C%208.52293%2C%204.82%5D%2C%20%5B47.42629%2C%208.54406%2C%204.67%5D%2C%20%5B47.37583%2C%208.54434%2C%204.94%5D%2C%20%5B47.38691%2C%208.49168%2C%205.0%5D%2C%20%5B47.38612%2C%208.49211%2C%205.0%5D%2C%20%5B47.38552%2C%208.49362%2C%205.0%5D%2C%20%5B47.38535%2C%208.49344%2C%204.8%5D%2C%20%5B47.38472%2C%208.49316%2C%204.5%5D%2C%20%5B47.38657%2C%208.4934%2C%204.776940514224839%5D%2C%20%5B47.38495%2C%208.4917%2C%204.0%5D%2C%20%5B47.38482%2C%208.49314%2C%204.71%5D%2C%20%5B47.38472%2C%208.49359%2C%204.75%5D%2C%20%5B47.3863%2C%208.49225%2C%205.0%5D%2C%20%5B47.38679%2C%208.49366%2C%204.776940514224839%5D%2C%20%5B47.38533%2C%208.49174%2C%204.776940514224839%5D%2C%20%5B47.39916%2C%208.50557%2C%204.72%5D%2C%20%5B47.40202%2C%208.5827%2C%204.776940514224839%5D%2C%20%5B47.40757%2C%208.53859%2C%204.776940514224839%5D%2C%20%5B47.37125%2C%208.53906%2C%205.0%5D%2C%20%5B47.36043%2C%208.56818%2C%204.76%5D%2C%20%5B47.38913%2C%208.49289%2C%205.0%5D%2C%20%5B47.41299%2C%208.55808%2C%204.92%5D%2C%20%5B47.37621%2C%208.56569%2C%204.91%5D%2C%20%5B47.37465%2C%208.51471%2C%204.776940514224839%5D%2C%20%5B47.3614%2C%208.5274%2C%204.93%5D%2C%20%5B47.40103%2C%208.55026%2C%204.73%5D%2C%20%5B47.36511%2C%208.56921%2C%204.89%5D%2C%20%5B47.39901%2C%208.54151%2C%204.88%5D%2C%20%5B47.39392%2C%208.48552%2C%204.81%5D%2C%20%5B47.40081%2C%208.54467%2C%204.33%5D%2C%20%5B47.37899%2C%208.52141%2C%204.88%5D%2C%20%5B47.35766%2C%208.55473%2C%204.97%5D%2C%20%5B47.38502%2C%208.50769%2C%204.58%5D%2C%20%5B47.38526%2C%208.50764%2C%204.53%5D%2C%20%5B47.42875%2C%208.54119%2C%204.67%5D%2C%20%5B47.37602%2C%208.5658%2C%204.89%5D%2C%20%5B47.37672%2C%208.56733%2C%204.94%5D%2C%20%5B47.37443%2C%208.52931%2C%205.0%5D%2C%20%5B47.40307%2C%208.58301%2C%204.776940514224839%5D%2C%20%5B47.38182%2C%208.48131%2C%204.83%5D%2C%20%5B47.40145%2C%208.54554%2C%204.85%5D%2C%20%5B47.35817%2C%208.55294%2C%204.88%5D%2C%20%5B47.38692%2C%208.53577%2C%205.0%5D%2C%20%5B47.37334%2C%208.54476%2C%204.99%5D%2C%20%5B47.36878%2C%208.55702%2C%205.0%5D%2C%20%5B47.35773%2C%208.55275%2C%204.89%5D%2C%20%5B47.35912%2C%208.55318%2C%204.99%5D%2C%20%5B47.38727%2C%208.49311%2C%204.83%5D%2C%20%5B47.36515%2C%208.52098%2C%204.88%5D%2C%20%5B47.35787%2C%208.55297%2C%204.89%5D%2C%20%5B47.35779%2C%208.55328%2C%204.98%5D%2C%20%5B47.36225%2C%208.52222%2C%204.776940514224839%5D%2C%20%5B47.3593%2C%208.55429%2C%204.89%5D%2C%20%5B47.35887%2C%208.55399%2C%204.94%5D%2C%20%5B47.37726%2C%208.56566%2C%204.9%5D%2C%20%5B47.3512%2C%208.56652%2C%204.776940514224839%5D%2C%20%5B47.35924%2C%208.55265%2C%204.87%5D%2C%20%5B47.37967%2C%208.50604%2C%204.79%5D%2C%20%5B47.35902%2C%208.49771%2C%204.73%5D%2C%20%5B47.37067%2C%208.52883%2C%204.96%5D%2C%20%5B47.36651%2C%208.49336%2C%204.86%5D%2C%20%5B47.358791%2C%208.49792%2C%204.61%5D%2C%20%5B47.35962%2C%208.49891%2C%204.82%5D%2C%20%5B47.35185%2C%208.56661%2C%204.89%5D%2C%20%5B47.36887%2C%208.51732%2C%204.84%5D%2C%20%5B47.35726%2C%208.55432%2C%204.97%5D%2C%20%5B47.3841%2C%208.50817%2C%204.57%5D%2C%20%5B47.36025%2C%208.5605%2C%204.95%5D%2C%20%5B47.429256%2C%208.539684%2C%204.776940514224839%5D%2C%20%5B47.36798%2C%208.55647%2C%204.89%5D%2C%20%5B47.39425%2C%208.52225%2C%204.73%5D%2C%20%5B47.38201%2C%208.50151%2C%204.82%5D%2C%20%5B47.42243%2C%208.50668%2C%205.0%5D%2C%20%5B47.36042%2C%208.5214%2C%205.0%5D%2C%20%5B47.36008%2C%208.52724%2C%205.0%5D%2C%20%5B47.338333%2C%208.520233%2C%204.79%5D%2C%20%5B47.35791%2C%208.52813%2C%204.75%5D%2C%20%5B47.42125%2C%208.54615%2C%204.776940514224839%5D%2C%20%5B47.37489%2C%208.51657%2C%204.78%5D%2C%20%5B47.36995%2C%208.52568%2C%204.85%5D%2C%20%5B47.36963%2C%208.52467%2C%204.66%5D%2C%20%5B47.37062%2C%208.52675%2C%204.75%5D%2C%20%5B47.36917%2C%208.52654%2C%204.75%5D%2C%20%5B47.36912%2C%208.52486%2C%204.83%5D%2C%20%5B47.35718%2C%208.55274%2C%204.94%5D%2C%20%5B47.38754%2C%208.53985%2C%204.776940514224839%5D%2C%20%5B47.38446%2C%208.50905%2C%204.49%5D%2C%20%5B47.38494%2C%208.50731%2C%204.51%5D%2C%20%5B47.38506%2C%208.50766%2C%204.63%5D%2C%20%5B47.37712%2C%208.52162%2C%205.0%5D%2C%20%5B47.39339%2C%208.52581%2C%204.92%5D%2C%20%5B47.36107%2C%208.5173%2C%204.71%5D%2C%20%5B47.36107%2C%208.5173%2C%204.78%5D%2C%20%5B47.36107%2C%208.5173%2C%204.78%5D%2C%20%5B47.37018%2C%208.51908%2C%204.68%5D%2C%20%5B47.36107%2C%208.5173%2C%204.75%5D%2C%20%5B47.3609%2C%208.5177%2C%204.59%5D%2C%20%5B47.36085%2C%208.51767%2C%204.79%5D%2C%20%5B47.36095%2C%208.51767%2C%204.83%5D%2C%20%5B47.36088%2C%208.51752%2C%204.76%5D%2C%20%5B47.36642%2C%208.56304%2C%205.0%5D%2C%20%5B47.38126%2C%208.50611%2C%204.776940514224839%5D%2C%20%5B47.35704%2C%208.5692%2C%204.72%5D%2C%20%5B47.40563%2C%208.55947%2C%204.5%5D%2C%20%5B47.39418%2C%208.52254%2C%204.88%5D%2C%20%5B47.37595%2C%208.53031%2C%204.776940514224839%5D%2C%20%5B47.37908%2C%208.51065%2C%205.0%5D%2C%20%5B47.37556%2C%208.52462%2C%204.96%5D%2C%20%5B47.33248%2C%208.53535%2C%204.0%5D%2C%20%5B47.35803%2C%208.49703%2C%204.38%5D%2C%20%5B47.36912%2C%208.55666%2C%205.0%5D%2C%20%5B47.39219%2C%208.53906%2C%205.0%5D%2C%20%5B47.39057%2C%208.47366%2C%204.9%5D%2C%20%5B47.37646%2C%208.51452%2C%204.87%5D%2C%20%5B47.39531%2C%208.52095%2C%204.86%5D%2C%20%5B47.35961%2C%208.51251%2C%204.776940514224839%5D%2C%20%5B47.37937%2C%208.5285%2C%204.33%5D%2C%20%5B47.36768%2C%208.51483%2C%205.0%5D%2C%20%5B47.37514%2C%208.51872%2C%204.95%5D%2C%20%5B47.35621%2C%208.55365%2C%204.84%5D%2C%20%5B47.35588%2C%208.55613%2C%205.0%5D%2C%20%5B47.38583%2C%208.52757%2C%204.776940514224839%5D%2C%20%5B47.38804%2C%208.49213%2C%204.64%5D%2C%20%5B47.35649%2C%208.58213%2C%205.0%5D%2C%20%5B47.37182%2C%208.51702%2C%205.0%5D%2C%20%5B47.36289%2C%208.55163%2C%205.0%5D%2C%20%5B47.36351%2C%208.49217%2C%205.0%5D%2C%20%5B47.36244%2C%208.55003%2C%204.98%5D%2C%20%5B47.38856%2C%208.53689%2C%204.81%5D%2C%20%5B47.38043%2C%208.53226%2C%204.88%5D%2C%20%5B47.36714%2C%208.52127%2C%204.69%5D%2C%20%5B47.40438%2C%208.54943%2C%205.0%5D%2C%20%5B47.38631%2C%208.48693%2C%204.71%5D%2C%20%5B47.38872%2C%208.53613%2C%205.0%5D%2C%20%5B47.35425%2C%208.55801%2C%205.0%5D%2C%20%5B47.40321%2C%208.56724%2C%205.0%5D%2C%20%5B47.38542%2C%208.53863%2C%204.8%5D%2C%20%5B47.41416%2C%208.5577%2C%204.85%5D%2C%20%5B47.36592%2C%208.52842%2C%204.78%5D%2C%20%5B47.36053%2C%208.52656%2C%204.91%5D%2C%20%5B47.37587%2C%208.54518%2C%205.0%5D%2C%20%5B47.38487%2C%208.54462%2C%204.776940514224839%5D%2C%20%5B47.39054%2C%208.52142%2C%204.85%5D%2C%20%5B47.36124%2C%208.55203%2C%205.0%5D%2C%20%5B47.37716%2C%208.545%2C%204.9%5D%2C%20%5B47.36902%2C%208.55053%2C%204.78%5D%2C%20%5B47.40229%2C%208.54445%2C%204.5%5D%2C%20%5B47.37617%2C%208.51201%2C%204.776940514224839%5D%2C%20%5B47.36693%2C%208.55756%2C%205.0%5D%2C%20%5B47.38702%2C%208.54031%2C%204.92%5D%2C%20%5B47.37075%2C%208.52675%2C%204.0%5D%2C%20%5B47.3647%2C%208.50899%2C%204.77%5D%2C%20%5B47.37725%2C%208.56622%2C%205.0%5D%2C%20%5B47.37284%2C%208.54013%2C%204.98%5D%2C%20%5B47.38504%2C%208.54484%2C%204.776940514224839%5D%2C%20%5B47.41568%2C%208.5328%2C%204.92%5D%2C%20%5B47.41881%2C%208.54539%2C%204.86%5D%2C%20%5B47.38664%2C%208.4977%2C%204.67%5D%2C%20%5B47.40868%2C%208.55755%2C%205.0%5D%2C%20%5B47.40467%2C%208.54908%2C%205.0%5D%2C%20%5B47.41913%2C%208.54363%2C%205.0%5D%2C%20%5B47.38214%2C%208.52955%2C%204.88%5D%2C%20%5B47.37755%2C%208.5229%2C%205.0%5D%2C%20%5B47.37112%2C%208.49875%2C%204.81%5D%2C%20%5B47.37949%2C%208.5189%2C%204.776940514224839%5D%2C%20%5B47.35542%2C%208.55812%2C%205.0%5D%2C%20%5B47.39972%2C%208.5047%2C%204.95%5D%2C%20%5B47.38206%2C%208.52815%2C%204.93%5D%2C%20%5B47.4034%2C%208.54675%2C%204.69%5D%2C%20%5B47.37482%2C%208.54345%2C%204.97%5D%2C%20%5B47.42385%2C%208.50211%2C%204.94%5D%2C%20%5B47.38247%2C%208.53373%2C%204.73%5D%2C%20%5B47.40148%2C%208.53308%2C%204.95%5D%2C%20%5B47.39457%2C%208.48447%2C%204.85%5D%2C%20%5B47.397%2C%208.51879%2C%204.98%5D%2C%20%5B47.36609%2C%208.56021%2C%204.95%5D%2C%20%5B47.35067%2C%208.56311%2C%204.78%5D%2C%20%5B47.38326%2C%208.53162%2C%204.71%5D%2C%20%5B47.36339%2C%208.55116%2C%205.0%5D%2C%20%5B47.35551%2C%208.55752%2C%204.95%5D%2C%20%5B47.36372%2C%208.55814%2C%204.776940514224839%5D%2C%20%5B47.37902%2C%208.55632%2C%205.0%5D%2C%20%5B47.36892%2C%208.55293%2C%204.92%5D%2C%20%5B47.33815%2C%208.53647%2C%204.67%5D%2C%20%5B47.36589%2C%208.55674%2C%204.92%5D%2C%20%5B47.36026%2C%208.58299%2C%204.91%5D%2C%20%5B47.40587%2C%208.55215%2C%204.57%5D%2C%20%5B47.36418%2C%208.54729%2C%205.0%5D%2C%20%5B47.38465%2C%208.50735%2C%204.75%5D%2C%20%5B47.40604%2C%208.55195%2C%205.0%5D%2C%20%5B47.36515%2C%208.55512%2C%204.4%5D%2C%20%5B47.37345%2C%208.52357%2C%204.84%5D%2C%20%5B47.37987%2C%208.51659%2C%204.5%5D%2C%20%5B47.37815%2C%208.52811%2C%204.73%5D%2C%20%5B47.37058%2C%208.5617%2C%204.67%5D%2C%20%5B47.37212%2C%208.56261%2C%204.83%5D%2C%20%5B47.37247%2C%208.52614%2C%204.96%5D%2C%20%5B47.37073%2C%208.49378%2C%205.0%5D%2C%20%5B47.3814%2C%208.47901%2C%204.64%5D%2C%20%5B47.36776%2C%208.54372%2C%204.67%5D%2C%20%5B47.37735%2C%208.53448%2C%205.0%5D%2C%20%5B47.36261%2C%208.53167%2C%205.0%5D%2C%20%5B47.36874%2C%208.53988%2C%205.0%5D%2C%20%5B47.36874%2C%208.53988%2C%205.0%5D%2C%20%5B47.36874%2C%208.53988%2C%205.0%5D%2C%20%5B47.40763%2C%208.55778%2C%204.57%5D%2C%20%5B47.35886%2C%208.5294%2C%205.0%5D%2C%20%5B47.3612%2C%208.53389%2C%205.0%5D%2C%20%5B47.3774%2C%208.52904%2C%204.79%5D%2C%20%5B47.37082%2C%208.52267%2C%205.0%5D%2C%20%5B47.36858%2C%208.54619%2C%204.776940514224839%5D%2C%20%5B47.37687%2C%208.53052%2C%204.93%5D%2C%20%5B47.35898%2C%208.55223%2C%204.776940514224839%5D%2C%20%5B47.37042%2C%208.5064%2C%204.92%5D%2C%20%5B47.40214%2C%208.54576%2C%204.88%5D%2C%20%5B47.40812%2C%208.52532%2C%204.88%5D%2C%20%5B47.3979%2C%208.54575%2C%204.5%5D%2C%20%5B47.38914%2C%208.53905%2C%205.0%5D%2C%20%5B47.40659%2C%208.58761%2C%204.776940514224839%5D%2C%20%5B47.36508%2C%208.51045%2C%204.91%5D%2C%20%5B47.38538%2C%208.49912%2C%204.75%5D%2C%20%5B47.37609%2C%208.52944%2C%205.0%5D%2C%20%5B47.3693%2C%208.51901%2C%204.82%5D%2C%20%5B47.38522%2C%208.54765%2C%205.0%5D%2C%20%5B47.357891%2C%208.598951%2C%205.0%5D%2C%20%5B47.37883%2C%208.52919%2C%204.92%5D%2C%20%5B47.37754%2C%208.51583%2C%205.0%5D%2C%20%5B47.40175%2C%208.54836%2C%204.776940514224839%5D%2C%20%5B47.40426%2C%208.55198%2C%205.0%5D%2C%20%5B47.36601%2C%208.52238%2C%204.776940514224839%5D%2C%20%5B47.38067%2C%208.50817%2C%204.76%5D%2C%20%5B47.39051%2C%208.52615%2C%204.89%5D%2C%20%5B47.37476%2C%208.51902%2C%204.8%5D%2C%20%5B47.35988%2C%208.49686%2C%204.83%5D%2C%20%5B47.41613%2C%208.53247%2C%204.776940514224839%5D%2C%20%5B47.38368%2C%208.49682%2C%205.0%5D%2C%20%5B47.37249%2C%208.4937%2C%204.77%5D%2C%20%5B47.38084%2C%208.54869%2C%204.67%5D%2C%20%5B47.39487%2C%208.52049%2C%204.75%5D%2C%20%5B47.37365%2C%208.51396%2C%205.0%5D%2C%20%5B47.38617%2C%208.52602%2C%205.0%5D%2C%20%5B47.40568%2C%208.48065%2C%205.0%5D%2C%20%5B47.37532%2C%208.52863%2C%205.0%5D%2C%20%5B47.43129%2C%208.54656%2C%204.0%5D%2C%20%5B47.37026%2C%208.51404%2C%204.72%5D%2C%20%5B47.39792%2C%208.54794%2C%204.83%5D%2C%20%5B47.37693%2C%208.53261%2C%204.67%5D%2C%20%5B47.37693%2C%208.53261%2C%204.776940514224839%5D%2C%20%5B47.34902%2C%208.52871%2C%205.0%5D%2C%20%5B47.37686%2C%208.53419%2C%205.0%5D%2C%20%5B47.37693%2C%208.53261%2C%204.75%5D%2C%20%5B47.37693%2C%208.53261%2C%204.776940514224839%5D%2C%20%5B47.37693%2C%208.53261%2C%204.0%5D%2C%20%5B47.37303%2C%208.52611%2C%205.0%5D%2C%20%5B47.395%2C%208.51924%2C%204.86%5D%2C%20%5B47.37303%2C%208.52611%2C%204.85%5D%2C%20%5B47.37303%2C%208.52611%2C%205.0%5D%2C%20%5B47.37606%2C%208.55939%2C%204.776940514224839%5D%2C%20%5B47.37239%2C%208.56137%2C%205.0%5D%2C%20%5B47.37301%2C%208.52605%2C%205.0%5D%2C%20%5B47.37301%2C%208.52605%2C%204.776940514224839%5D%2C%20%5B47.37301%2C%208.52605%2C%205.0%5D%2C%20%5B47.37327%2C%208.5262%2C%204.91%5D%2C%20%5B47.37327%2C%208.5262%2C%205.0%5D%2C%20%5B47.37327%2C%208.5262%2C%205.0%5D%2C%20%5B47.33592%2C%208.53375%2C%204.87%5D%2C%20%5B47.41917%2C%208.50251%2C%204.776940514224839%5D%2C%20%5B47.35799%2C%208.59258%2C%204.67%5D%2C%20%5B47.36983%2C%208.5318%2C%205.0%5D%2C%20%5B47.36983%2C%208.5318%2C%204.86%5D%2C%20%5B47.36983%2C%208.5318%2C%205.0%5D%2C%20%5B47.36983%2C%208.5318%2C%204.776940514224839%5D%2C%20%5B47.36983%2C%208.5318%2C%205.0%5D%2C%20%5B47.41405%2C%208.54507%2C%202.5%5D%2C%20%5B47.41406%2C%208.54479%2C%205.0%5D%2C%20%5B47.41405%2C%208.54507%2C%205.0%5D%2C%20%5B47.41406%2C%208.54479%2C%205.0%5D%2C%20%5B47.41408%2C%208.5452%2C%204.33%5D%2C%20%5B47.41406%2C%208.54479%2C%205.0%5D%2C%20%5B47.41406%2C%208.54479%2C%204.776940514224839%5D%2C%20%5B47.41408%2C%208.5452%2C%204.776940514224839%5D%2C%20%5B47.41405%2C%208.54507%2C%205.0%5D%2C%20%5B47.41405%2C%208.54507%2C%205.0%5D%2C%20%5B47.41406%2C%208.54479%2C%204.776940514224839%5D%2C%20%5B47.41406%2C%208.54479%2C%204.776940514224839%5D%2C%20%5B47.37929%2C%208.54274%2C%205.0%5D%2C%20%5B47.37301%2C%208.52281%2C%204.0%5D%2C%20%5B47.37159%2C%208.54121%2C%205.0%5D%2C%20%5B47.37159%2C%208.54121%2C%205.0%5D%2C%20%5B47.34855%2C%208.57322%2C%204.776940514224839%5D%2C%20%5B47.37268%2C%208.54017%2C%205.0%5D%2C%20%5B47.3569%2C%208.52679%2C%205.0%5D%2C%20%5B47.37548%2C%208.52598%2C%204.78%5D%2C%20%5B47.36969%2C%208.51435%2C%205.0%5D%2C%20%5B47.412%2C%208.5293%2C%204.776940514224839%5D%2C%20%5B47.41538%2C%208.54845%2C%203.67%5D%2C%20%5B47.39045%2C%208.53831%2C%204.67%5D%2C%20%5B47.3569%2C%208.52679%2C%204.776940514224839%5D%2C%20%5B47.3569%2C%208.52679%2C%204.0%5D%2C%20%5B47.3569%2C%208.52679%2C%204.14%5D%2C%20%5B47.37194%2C%208.52459%2C%205.0%5D%2C%20%5B47.37194%2C%208.52459%2C%204.776940514224839%5D%2C%20%5B47.37194%2C%208.52459%2C%204.776940514224839%5D%2C%20%5B47.40603%2C%208.48159%2C%204.65%5D%2C%20%5B47.37752%2C%208.52935%2C%205.0%5D%2C%20%5B47.40165%2C%208.50117%2C%205.0%5D%2C%20%5B47.38743%2C%208.48272%2C%204.67%5D%2C%20%5B47.40586%2C%208.58678%2C%204.73%5D%2C%20%5B47.35581%2C%208.52964%2C%205.0%5D%2C%20%5B47.37061%2C%208.54095%2C%205.0%5D%2C%20%5B47.35721%2C%208.5547%2C%204.97%5D%2C%20%5B47.41472%2C%208.54396%2C%204.73%5D%2C%20%5B47.37244%2C%208.53544%2C%204.776940514224839%5D%2C%20%5B47.36019%2C%208.52268%2C%205.0%5D%2C%20%5B47.37268%2C%208.52651%2C%204.776940514224839%5D%2C%20%5B47.40639%2C%208.54706%2C%205.0%5D%2C%20%5B47.40826%2C%208.54878%2C%204.8%5D%2C%20%5B47.40647%2C%208.54768%2C%204.7%5D%2C%20%5B47.37302%2C%208.51875%2C%204.89%5D%2C%20%5B47.40472%2C%208.57047%2C%204.82%5D%2C%20%5B47.37133%2C%208.54047%2C%205.0%5D%2C%20%5B47.36454%2C%208.56648%2C%205.0%5D%2C%20%5B47.37585%2C%208.4835%2C%205.0%5D%2C%20%5B47.37091%2C%208.52796%2C%205.0%5D%2C%20%5B47.41059%2C%208.53644%2C%204.91%5D%2C%20%5B47.40678%2C%208.54767%2C%204.67%5D%2C%20%5B47.37728%2C%208.48299%2C%204.67%5D%2C%20%5B47.357605%2C%208.599305%2C%204.82%5D%2C%20%5B47.37942%2C%208.50621%2C%204.58%5D%2C%20%5B47.42046%2C%208.53931%2C%204.95%5D%2C%20%5B47.37249%2C%208.51675%2C%204.5%5D%2C%20%5B47.33484%2C%208.5286%2C%205.0%5D%2C%20%5B47.40109%2C%208.50269%2C%204.91%5D%2C%20%5B47.38321%2C%208.53376%2C%204.92%5D%2C%20%5B47.35902%2C%208.51672%2C%205.0%5D%2C%20%5B47.40588%2C%208.48537%2C%204.59%5D%2C%20%5B47.36903%2C%208.5349%2C%204.776940514224839%5D%2C%20%5B47.41619%2C%208.54744%2C%204.776940514224839%5D%2C%20%5B47.3749%2C%208.55268%2C%204.86%5D%2C%20%5B47.39346%2C%208.55028%2C%205.0%5D%2C%20%5B47.39337%2C%208.4846%2C%204.0%5D%2C%20%5B47.39337%2C%208.4846%2C%204.776940514224839%5D%2C%20%5B47.37136%2C%208.54775%2C%205.0%5D%2C%20%5B47.3687%2C%208.53527%2C%205.0%5D%2C%20%5B47.35794%2C%208.58881%2C%205.0%5D%2C%20%5B47.40351%2C%208.55275%2C%204.42%5D%2C%20%5B47.35508%2C%208.57203%2C%204.94%5D%2C%20%5B47.34511%2C%208.53124%2C%205.0%5D%2C%20%5B47.389%2C%208.53534%2C%204.776940514224839%5D%2C%20%5B47.41281%2C%208.54718%2C%204.776940514224839%5D%2C%20%5B47.36556%2C%208.53695%2C%205.0%5D%2C%20%5B47.37448%2C%208.5389%2C%205.0%5D%2C%20%5B47.35265%2C%208.53007%2C%204.776940514224839%5D%2C%20%5B47.35265%2C%208.53007%2C%204.776940514224839%5D%2C%20%5B47.35265%2C%208.53007%2C%204.776940514224839%5D%2C%20%5B47.35265%2C%208.53007%2C%205.0%5D%2C%20%5B47.35265%2C%208.53007%2C%204.776940514224839%5D%2C%20%5B47.35806%2C%208.49732%2C%204.72%5D%2C%20%5B47.3945%2C%208.51886%2C%204.8%5D%2C%20%5B47.37072%2C%208.51468%2C%204.6%5D%2C%20%5B47.37668%2C%208.51501%2C%204.776940514224839%5D%2C%20%5B47.37072%2C%208.51468%2C%205.0%5D%2C%20%5B47.35408%2C%208.52575%2C%204.86%5D%2C%20%5B47.39829%2C%208.58834%2C%204.17%5D%2C%20%5B47.37927%2C%208.53025%2C%204.4%5D%2C%20%5B47.3771%2C%208.53121%2C%205.0%5D%2C%20%5B47.41497%2C%208.51393%2C%205.0%5D%2C%20%5B47.38804%2C%208.49213%2C%205.0%5D%2C%20%5B47.41933%2C%208.55701%2C%204.776940514224839%5D%2C%20%5B47.37072%2C%208.51468%2C%205.0%5D%2C%20%5B47.36646%2C%208.53281%2C%204.91%5D%2C%20%5B47.37069%2C%208.54355%2C%205.0%5D%2C%20%5B47.36667%2C%208.53173%2C%205.0%5D%2C%20%5B47.36635%2C%208.53318%2C%205.0%5D%2C%20%5B47.36828%2C%208.53312%2C%204.82%5D%2C%20%5B47.36687%2C%208.53187%2C%205.0%5D%2C%20%5B47.36825%2C%208.53284%2C%204.95%5D%2C%20%5B47.39072%2C%208.510472%2C%204.4%5D%2C%20%5B47.38889%2C%208.52105%2C%205.0%5D%2C%20%5B47.36948%2C%208.55685%2C%204.85%5D%2C%20%5B47.37997%2C%208.52528%2C%205.0%5D%2C%20%5B47.37302%2C%208.51717%2C%204.776940514224839%5D%2C%20%5B47.38636%2C%208.5381%2C%205.0%5D%2C%20%5B47.37948%2C%208.52613%2C%205.0%5D%2C%20%5B47.3763%2C%208.52042%2C%204.776940514224839%5D%2C%20%5B47.38697%2C%208.53846%2C%204.0%5D%2C%20%5B47.38153%2C%208.5378%2C%204.88%5D%2C%20%5B47.37384%2C%208.54313%2C%205.0%5D%2C%20%5B47.37666%2C%208.52345%2C%205.0%5D%2C%20%5B47.37591%2C%208.52354%2C%205.0%5D%2C%20%5B47.37806%2C%208.52338%2C%205.0%5D%2C%20%5B47.37734%2C%208.50773%2C%204.776940514224839%5D%2C%20%5B47.3693%2C%208.54475%2C%204.93%5D%2C%20%5B47.36982%2C%208.51417%2C%205.0%5D%2C%20%5B47.35686%2C%208.59309%2C%204.6%5D%2C%20%5B47.37116%2C%208.56947%2C%204.91%5D%2C%20%5B47.38199%2C%208.53493%2C%205.0%5D%2C%20%5B47.3564%2C%208.52464%2C%204.83%5D%2C%20%5B47.3341%2C%208.53502%2C%205.0%5D%2C%20%5B47.37089%2C%208.51895%2C%205.0%5D%2C%20%5B47.36592%2C%208.50806%2C%205.0%5D%2C%20%5B47.36363%2C%208.52724%2C%204.776940514224839%5D%2C%20%5B47.3949%2C%208.50862%2C%204.776940514224839%5D%2C%20%5B47.40723%2C%208.53694%2C%204.88%5D%2C%20%5B47.36938%2C%208.49113%2C%204.17%5D%2C%20%5B47.39403%2C%208.48344%2C%205.0%5D%2C%20%5B47.39413%2C%208.48549%2C%204.776940514224839%5D%2C%20%5B47.36277%2C%208.52283%2C%204.776940514224839%5D%2C%20%5B47.35841%2C%208.51487%2C%204.91%5D%2C%20%5B47.36069%2C%208.52317%2C%205.0%5D%2C%20%5B47.36692%2C%208.52334%2C%205.0%5D%2C%20%5B47.38435%2C%208.58876%2C%204.776940514224839%5D%2C%20%5B47.37384%2C%208.54313%2C%205.0%5D%2C%20%5B47.37384%2C%208.54313%2C%204.96%5D%2C%20%5B47.37384%2C%208.54313%2C%204.78%5D%2C%20%5B47.41118%2C%208.54719%2C%205.0%5D%2C%20%5B47.41736%2C%208.54057%2C%204.78%5D%2C%20%5B47.36319%2C%208.53301%2C%204.776940514224839%5D%2C%20%5B47.34093%2C%208.52852%2C%205.0%5D%2C%20%5B47.35592%2C%208.55449%2C%205.0%5D%2C%20%5B47.35592%2C%208.55449%2C%204.88%5D%2C%20%5B47.35592%2C%208.55449%2C%204.82%5D%2C%20%5B47.35592%2C%208.55449%2C%205.0%5D%2C%20%5B47.38842%2C%208.49458%2C%204.38%5D%2C%20%5B47.38822%2C%208.49342%2C%205.0%5D%2C%20%5B47.38649%2C%208.49515%2C%204.31%5D%2C%20%5B47.3599%2C%208.58379%2C%205.0%5D%2C%20%5B47.37392%2C%208.52108%2C%205.0%5D%2C%20%5B47.36681%2C%208.53629%2C%204.776940514224839%5D%2C%20%5B47.35592%2C%208.55449%2C%205.0%5D%2C%20%5B47.36232%2C%208.56148%2C%204.776940514224839%5D%2C%20%5B47.39323%2C%208.52133%2C%204.776940514224839%5D%2C%20%5B47.38389%2C%208.58814%2C%204.5%5D%2C%20%5B47.37417%2C%208.55259%2C%204.86%5D%2C%20%5B47.36021%2C%208.56809%2C%204.67%5D%2C%20%5B47.36202%2C%208.5273%2C%204.91%5D%2C%20%5B47.35134%2C%208.52848%2C%204.67%5D%2C%20%5B47.35305%2C%208.52843%2C%204.71%5D%2C%20%5B47.3516%2C%208.52654%2C%204.65%5D%2C%20%5B47.37207%2C%208.54043%2C%205.0%5D%2C%20%5B47.38385%2C%208.48119%2C%205.0%5D%2C%20%5B47.36376%2C%208.53257%2C%204.89%5D%2C%20%5B47.36603%2C%208.53656%2C%205.0%5D%2C%20%5B47.36056%2C%208.56168%2C%205.0%5D%2C%20%5B47.37892%2C%208.52128%2C%205.0%5D%2C%20%5B47.36267%2C%208.5495%2C%205.0%5D%2C%20%5B47.37544%2C%208.54419%2C%204.776940514224839%5D%2C%20%5B47.37568%2C%208.54451%2C%205.0%5D%2C%20%5B47.37219%2C%208.52848%2C%205.0%5D%2C%20%5B47.37414%2C%208.54344%2C%204.776940514224839%5D%2C%20%5B47.3758%2C%208.54284%2C%204.776940514224839%5D%2C%20%5B47.36072%2C%208.52224%2C%205.0%5D%2C%20%5B47.37398%2C%208.54596%2C%204.75%5D%2C%20%5B47.37406%2C%208.5451%2C%205.0%5D%2C%20%5B47.33856%2C%208.52951%2C%205.0%5D%2C%20%5B47.36953%2C%208.53536%2C%205.0%5D%2C%20%5B47.37555%2C%208.54358%2C%205.0%5D%2C%20%5B47.36941%2C%208.53832%2C%204.776940514224839%5D%2C%20%5B47.39074%2C%208.51708%2C%204.88%5D%2C%20%5B47.38538%2C%208.50897%2C%204.776940514224839%5D%2C%20%5B47.3548%2C%208.55481%2C%205.0%5D%2C%20%5B47.37289%2C%208.54132%2C%205.0%5D%2C%20%5B47.40455%2C%208.55186%2C%205.0%5D%2C%20%5B47.36512%2C%208.51771%2C%204.88%5D%2C%20%5B47.37187%2C%208.52914%2C%205.0%5D%2C%20%5B47.37205%2C%208.52908%2C%205.0%5D%2C%20%5B47.3708%2C%208.52769%2C%205.0%5D%2C%20%5B47.37069%2C%208.52762%2C%205.0%5D%2C%20%5B47.36018%2C%208.52554%2C%204.776940514224839%5D%2C%20%5B47.38122%2C%208.50639%2C%204.9%5D%2C%20%5B47.37039%2C%208.5292%2C%204.776940514224839%5D%2C%20%5B47.37076%2C%208.51838%2C%204.79%5D%2C%20%5B47.37235%2C%208.52989%2C%204.92%5D%2C%20%5B47.37012%2C%208.52765%2C%205.0%5D%2C%20%5B47.37643%2C%208.48715%2C%204.776940514224839%5D%2C%20%5B47.39027%2C%208.48787%2C%204.83%5D%2C%20%5B47.37452%2C%208.52373%2C%205.0%5D%2C%20%5B47.37121%2C%208.54376%2C%204.75%5D%2C%20%5B47.36957%2C%208.53611%2C%204.776940514224839%5D%2C%20%5B47.36269%2C%208.52421%2C%204.5%5D%2C%20%5B47.36292%2C%208.52422%2C%204.0%5D%2C%20%5B47.39109%2C%208.48703%2C%204.776940514224839%5D%2C%20%5B47.38137%2C%208.49939%2C%205.0%5D%2C%20%5B47.42417%2C%208.55283%2C%204.776940514224839%5D%2C%20%5B47.35465%2C%208.55866%2C%204.776940514224839%5D%2C%20%5B47.41863%2C%208.55671%2C%204.84%5D%2C%20%5B47.397%2C%208.51883%2C%204.84%5D%2C%20%5B47.38945%2C%208.53741%2C%204.95%5D%2C%20%5B47.36803%2C%208.5419%2C%204.776940514224839%5D%2C%20%5B47.42345%2C%208.54334%2C%204.776940514224839%5D%2C%20%5B47.37802%2C%208.52801%2C%205.0%5D%2C%20%5B47.39266%2C%208.52067%2C%205.0%5D%2C%20%5B47.36504%2C%208.52052%2C%204.776940514224839%5D%2C%20%5B47.39401%2C%208.52837%2C%204.87%5D%2C%20%5B47.34725%2C%208.53239%2C%204.82%5D%2C%20%5B47.37218%2C%208.52594%2C%205.0%5D%2C%20%5B47.35479%2C%208.55533%2C%204.56%5D%2C%20%5B47.34916%2C%208.52677%2C%204.86%5D%2C%20%5B47.36739%2C%208.55337%2C%204.75%5D%2C%20%5B47.37468%2C%208.52354%2C%204.776940514224839%5D%2C%20%5B47.39777%2C%208.50363%2C%205.0%5D%2C%20%5B47.41797%2C%208.50442%2C%204.83%5D%2C%20%5B47.38302%2C%208.54072%2C%204.75%5D%2C%20%5B47.35571%2C%208.55505%2C%205.0%5D%2C%20%5B47.37731%2C%208.5291%2C%205.0%5D%2C%20%5B47.36252%2C%208.56284%2C%205.0%5D%2C%20%5B47.38053%2C%208.53549%2C%204.776940514224839%5D%2C%20%5B47.37464%2C%208.52488%2C%204.0%5D%2C%20%5B47.3662%2C%208.49178%2C%204.0%5D%2C%20%5B47.36593%2C%208.49318%2C%204.776940514224839%5D%2C%20%5B47.39038%2C%208.53908%2C%204.86%5D%2C%20%5B47.36728%2C%208.49287%2C%204.5%5D%2C%20%5B47.36765%2C%208.4933%2C%205.0%5D%2C%20%5B47.36654%2C%208.49196%2C%204.776940514224839%5D%2C%20%5B47.36741%2C%208.49279%2C%205.0%5D%2C%20%5B47.36717%2C%208.49257%2C%203.0%5D%2C%20%5B47.36606%2C%208.49252%2C%204.776940514224839%5D%2C%20%5B47.3674%2C%208.49173%2C%204.0%5D%2C%20%5B47.36593%2C%208.49304%2C%204.776940514224839%5D%2C%20%5B47.36719%2C%208.4932%2C%204.776940514224839%5D%2C%20%5B47.35491%2C%208.55552%2C%205.0%5D%2C%20%5B47.4032%2C%208.58859%2C%205.0%5D%2C%20%5B47.37758%2C%208.51129%2C%204.776940514224839%5D%2C%20%5B47.36222%2C%208.5281%2C%205.0%5D%2C%20%5B47.37354%2C%208.51628%2C%204.71%5D%2C%20%5B47.36141%2C%208.52483%2C%205.0%5D%2C%20%5B47.36932%2C%208.516%2C%205.0%5D%2C%20%5B47.35908%2C%208.5287%2C%204.8%5D%2C%20%5B47.33591%2C%208.53252%2C%204.78%5D%2C%20%5B47.375%2C%208.52736%2C%205.0%5D%2C%20%5B47.38498%2C%208.49403%2C%204.776940514224839%5D%2C%20%5B47.3783%2C%208.51596%2C%204.5%5D%2C%20%5B47.38151%2C%208.53074%2C%204.776940514224839%5D%2C%20%5B47.42321%2C%208.5025%2C%204.83%5D%2C%20%5B47.40081%2C%208.54833%2C%204.776940514224839%5D%2C%20%5B47.35814%2C%208.59302%2C%204.0%5D%2C%20%5B47.36851%2C%208.55345%2C%205.0%5D%2C%20%5B47.36801%2C%208.54331%2C%205.0%5D%2C%20%5B47.38735%2C%208.52827%2C%204.8%5D%2C%20%5B47.38416%2C%208.52884%2C%204.89%5D%2C%20%5B47.37576%2C%208.49759%2C%205.0%5D%2C%20%5B47.37158%2C%208.51907%2C%205.0%5D%2C%20%5B47.33515%2C%208.53109%2C%204.83%5D%2C%20%5B47.41758%2C%208.54509%2C%205.0%5D%2C%20%5B47.37344%2C%208.51418%2C%205.0%5D%2C%20%5B47.40311%2C%208.54764%2C%204.71%5D%2C%20%5B47.37435%2C%208.5174%2C%204.776940514224839%5D%2C%20%5B47.37377%2C%208.54165%2C%203.0%5D%2C%20%5B47.39472%2C%208.5315%2C%204.5%5D%2C%20%5B47.36124%2C%208.55087%2C%204.776940514224839%5D%2C%20%5B47.36124%2C%208.55087%2C%204.5%5D%2C%20%5B47.38417%2C%208.54215%2C%205.0%5D%2C%20%5B47.36084%2C%208.51772%2C%205.0%5D%2C%20%5B47.39621%2C%208.51925%2C%205.0%5D%2C%20%5B47.3844%2C%208.53129%2C%204.75%5D%2C%20%5B47.37003%2C%208.50509%2C%205.0%5D%2C%20%5B47.36641%2C%208.55313%2C%205.0%5D%2C%20%5B47.36243%2C%208.5594%2C%205.0%5D%2C%20%5B47.36062%2C%208.50629%2C%205.0%5D%2C%20%5B47.40705%2C%208.49134%2C%204.776940514224839%5D%2C%20%5B47.40714%2C%208.49073%2C%205.0%5D%2C%20%5B47.41906%2C%208.54301%2C%205.0%5D%2C%20%5B47.36199%2C%208.55001%2C%205.0%5D%2C%20%5B47.40674%2C%208.48472%2C%204.776940514224839%5D%2C%20%5B47.36186%2C%208.51296%2C%204.776940514224839%5D%2C%20%5B47.39398%2C%208.52661%2C%204.776940514224839%5D%2C%20%5B47.38432%2C%208.50799%2C%204.82%5D%2C%20%5B47.38333%2C%208.52803%2C%204.776940514224839%5D%2C%20%5B47.37778%2C%208.55599%2C%205.0%5D%2C%20%5B47.37912%2C%208.55684%2C%205.0%5D%2C%20%5B47.37886%2C%208.52971%2C%204.776940514224839%5D%2C%20%5B47.36581%2C%208.55423%2C%205.0%5D%2C%20%5B47.35571%2C%208.55431%2C%204.776940514224839%5D%2C%20%5B47.37592%2C%208.48463%2C%204.33%5D%2C%20%5B47.41638%2C%208.54572%2C%204.5%5D%2C%20%5B47.36663%2C%208.52033%2C%204.41%5D%2C%20%5B47.39249%2C%208.4851%2C%204.83%5D%2C%20%5B47.36556%2C%208.53695%2C%205.0%5D%2C%20%5B47.37403%2C%208.51147%2C%204.82%5D%2C%20%5B47.36124%2C%208.55087%2C%205.0%5D%2C%20%5B47.36124%2C%208.55087%2C%205.0%5D%2C%20%5B47.38417%2C%208.54215%2C%204.75%5D%2C%20%5B47.38417%2C%208.54215%2C%204.776940514224839%5D%2C%20%5B47.38417%2C%208.54215%2C%204.67%5D%2C%20%5B47.36109%2C%208.55035%2C%205.0%5D%2C%20%5B47.36109%2C%208.55035%2C%204.776940514224839%5D%2C%20%5B47.38339%2C%208.54063%2C%204.83%5D%2C%20%5B47.36267%2C%208.56095%2C%204.9%5D%2C%20%5B47.37281%2C%208.54084%2C%205.0%5D%2C%20%5B47.35831%2C%208.55649%2C%204.88%5D%2C%20%5B47.38302%2C%208.54072%2C%204.33%5D%2C%20%5B47.38339%2C%208.54063%2C%204.86%5D%2C%20%5B47.38302%2C%208.54072%2C%204.5%5D%2C%20%5B47.36085%2C%208.56397%2C%205.0%5D%2C%20%5B47.37356%2C%208.51567%2C%204.0%5D%2C%20%5B47.36079%2C%208.55142%2C%205.0%5D%2C%20%5B47.40976%2C%208.54339%2C%204.89%5D%2C%20%5B47.3626%2C%208.55989%2C%204.86%5D%2C%20%5B47.36891%2C%208.54845%2C%204.776940514224839%5D%2C%20%5B47.41053%2C%208.55296%2C%205.0%5D%2C%20%5B47.35559%2C%208.55373%2C%204.75%5D%2C%20%5B47.42685%2C%208.55386%2C%204.57%5D%2C%20%5B47.37441%2C%208.54372%2C%204.72%5D%2C%20%5B47.39872%2C%208.58711%2C%204.776940514224839%5D%2C%20%5B47.35497%2C%208.56128%2C%204.83%5D%2C%20%5B47.37372%2C%208.52188%2C%205.0%5D%2C%20%5B47.41894%2C%208.54425%2C%205.0%5D%2C%20%5B47.36247%2C%208.56022%2C%204.84%5D%2C%20%5B47.41913%2C%208.54724%2C%204.776940514224839%5D%2C%20%5B47.37863%2C%208.5594%2C%205.0%5D%2C%20%5B47.37441%2C%208.54372%2C%204.88%5D%2C%20%5B47.37404%2C%208.5216%2C%204.83%5D%2C%20%5B47.37269%2C%208.55394%2C%205.0%5D%2C%20%5B47.37304%2C%208.55247%2C%204.63%5D%2C%20%5B47.37561%2C%208.51658%2C%205.0%5D%2C%20%5B47.38617%2C%208.52602%2C%204.8%5D%2C%20%5B47.37251%2C%208.52626%2C%204.68%5D%2C%20%5B47.41662%2C%208.55507%2C%204.82%5D%2C%20%5B47.36028%2C%208.56605%2C%204.89%5D%2C%20%5B47.42284%2C%208.51295%2C%204.776940514224839%5D%2C%20%5B47.41871%2C%208.55307%2C%204.776940514224839%5D%2C%20%5B47.35675%2C%208.55385%2C%204.8%5D%2C%20%5B47.37891%2C%208.558%2C%204.776940514224839%5D%2C%20%5B47.3742%2C%208.5408%2C%205.0%5D%2C%20%5B47.37635%2C%208.54366%2C%205.0%5D%2C%20%5B47.3698%2C%208.52135%2C%205.0%5D%2C%20%5B47.3722%2C%208.51669%2C%204.776940514224839%5D%2C%20%5B47.37254%2C%208.52165%2C%205.0%5D%2C%20%5B47.36765%2C%208.56379%2C%205.0%5D%2C%20%5B47.36971%2C%208.56341%2C%205.0%5D%2C%20%5B47.3775%2C%208.51608%2C%205.0%5D%2C%20%5B47.37695%2C%208.5258%2C%205.0%5D%2C%20%5B47.38403%2C%208.53139%2C%205.0%5D%2C%20%5B47.36224%2C%208.52088%2C%204.776940514224839%5D%2C%20%5B47.38489%2C%208.49435%2C%204.776940514224839%5D%2C%20%5B47.3803%2C%208.52665%2C%204.75%5D%2C%20%5B47.42033%2C%208.5387%2C%204.0%5D%2C%20%5B47.39125%2C%208.53908%2C%204.5%5D%2C%20%5B47.38038%2C%208.50639%2C%205.0%5D%2C%20%5B47.37695%2C%208.5079%2C%204.776940514224839%5D%2C%20%5B47.36396%2C%208.56019%2C%204.71%5D%2C%20%5B47.37973%2C%208.50741%2C%205.0%5D%2C%20%5B47.3744%2C%208.5385%2C%205.0%5D%2C%20%5B47.41084%2C%208.55412%2C%204.776940514224839%5D%2C%20%5B47.41013%2C%208.5522%2C%204.0%5D%2C%20%5B47.4113%2C%208.55375%2C%205.0%5D%2C%20%5B47.41155%2C%208.5526%2C%204.0%5D%2C%20%5B47.371776363349696%2C%208.534251503434858%2C%204.75%5D%2C%20%5B47.38382%2C%208.52974%2C%204.67%5D%2C%20%5B47.36966%2C%208.55567%2C%205.0%5D%2C%20%5B47.40366%2C%208.55577%2C%204.776940514224839%5D%2C%20%5B47.35945%2C%208.55066%2C%204.776940514224839%5D%2C%20%5B47.35935%2C%208.55067%2C%205.0%5D%2C%20%5B47.35968%2C%208.5509%2C%204.776940514224839%5D%2C%20%5B47.3597%2C%208.55047%2C%204.776940514224839%5D%2C%20%5B47.35925%2C%208.54884%2C%204.776940514224839%5D%2C%20%5B47.39075%2C%208.54009%2C%204.776940514224839%5D%2C%20%5B47.36007%2C%208.54889%2C%204.776940514224839%5D%2C%20%5B47.36096%2C%208.55098%2C%204.776940514224839%5D%2C%20%5B47.36065%2C%208.54951%2C%204.776940514224839%5D%2C%20%5B47.361%2C%208.55079%2C%204.776940514224839%5D%2C%20%5B47.36119%2C%208.55014%2C%204.776940514224839%5D%2C%20%5B47.39221%2C%208.47939%2C%204.67%5D%2C%20%5B47.406%2C%208.51949%2C%204.4%5D%2C%20%5B47.41033%2C%208.53873%2C%204.776940514224839%5D%2C%20%5B47.36398%2C%208.54879%2C%204.86%5D%2C%20%5B47.3421%2C%208.53646%2C%204.8%5D%2C%20%5B47.38182%2C%208.52923%2C%205.0%5D%2C%20%5B47.40481%2C%208.54273%2C%204.0%5D%2C%20%5B47.38254%2C%208.53563%2C%205.0%5D%2C%20%5B47.38552%2C%208.51771%2C%204.776940514224839%5D%2C%20%5B47.40972%2C%208.53413%2C%204.79%5D%2C%20%5B47.37748%2C%208.51525%2C%205.0%5D%2C%20%5B47.37635%2C%208.52249%2C%204.776940514224839%5D%2C%20%5B47.36899%2C%208.56186%2C%205.0%5D%2C%20%5B47.37075%2C%208.54119%2C%204.96%5D%2C%20%5B47.42272%2C%208.50363%2C%204.776940514224839%5D%2C%20%5B47.35991%2C%208.56373%2C%204.776940514224839%5D%2C%20%5B47.37632%2C%208.53083%2C%204.776940514224839%5D%2C%20%5B47.38647%2C%208.53841%2C%205.0%5D%2C%20%5B47.37254%2C%208.52642%2C%205.0%5D%2C%20%5B47.4068%2C%208.5656%2C%205.0%5D%2C%20%5B47.39105%2C%208.50942%2C%204.5%5D%2C%20%5B47.38663%2C%208.52823%2C%203.67%5D%2C%20%5B47.38076%2C%208.48828%2C%204.776940514224839%5D%2C%20%5B47.36856%2C%208.54559%2C%205.0%5D%2C%20%5B47.36755%2C%208.54535%2C%204.776940514224839%5D%2C%20%5B47.36856%2C%208.54559%2C%204.776940514224839%5D%2C%20%5B47.36884%2C%208.54486%2C%205.0%5D%2C%20%5B47.38474%2C%208.49347%2C%205.0%5D%2C%20%5B47.36856%2C%208.54559%2C%204.776940514224839%5D%2C%20%5B47.37046%2C%208.54522%2C%204.92%5D%2C%20%5B47.3861%2C%208.54529%2C%204.776940514224839%5D%2C%20%5B47.35982%2C%208.55135%2C%204.93%5D%2C%20%5B47.40231%2C%208.53246%2C%204.776940514224839%5D%2C%20%5B47.40597%2C%208.48654%2C%204.67%5D%2C%20%5B47.35617%2C%208.55581%2C%205.0%5D%2C%20%5B47.37493%2C%208.52893%2C%205.0%5D%2C%20%5B47.40601%2C%208.55301%2C%204.5%5D%2C%20%5B47.3724%2C%208.52839%2C%205.0%5D%2C%20%5B47.37441%2C%208.54372%2C%204.95%5D%2C%20%5B47.36037%2C%208.6012%2C%204.67%5D%2C%20%5B47.36026%2C%208.58299%2C%205.0%5D%2C%20%5B47.39507%2C%208.53183%2C%201.0%5D%2C%20%5B47.37937%2C%208.50954%2C%204.776940514224839%5D%2C%20%5B47.36167%2C%208.51546%2C%204.88%5D%2C%20%5B47.36919%2C%208.56492%2C%204.776940514224839%5D%2C%20%5B47.37086%2C%208.49388%2C%204.776940514224839%5D%2C%20%5B47.34946%2C%208.56138%2C%205.0%5D%2C%20%5B47.40419%2C%208.49572%2C%204.776940514224839%5D%2C%20%5B47.37832%2C%208.53334%2C%204.776940514224839%5D%2C%20%5B47.36862%2C%208.52383%2C%205.0%5D%2C%20%5B47.37049%2C%208.51233%2C%204.92%5D%2C%20%5B47.41302%2C%208.5567%2C%205.0%5D%2C%20%5B47.41053%2C%208.54473%2C%204.65%5D%2C%20%5B47.3786%2C%208.55764%2C%205.0%5D%2C%20%5B47.41022%2C%208.54348%2C%205.0%5D%2C%20%5B47.41048%2C%208.54263%2C%205.0%5D%2C%20%5B47.38171%2C%208.49464%2C%205.0%5D%2C%20%5B47.41103%2C%208.54408%2C%204.25%5D%2C%20%5B47.41022%2C%208.54398%2C%204.776940514224839%5D%2C%20%5B47.35753%2C%208.51698%2C%204.67%5D%2C%20%5B47.36747%2C%208.55396%2C%204.85%5D%2C%20%5B47.35608%2C%208.56034%2C%204.776940514224839%5D%2C%20%5B47.41144%2C%208.54257%2C%204.76%5D%2C%20%5B47.37537%2C%208.48559%2C%205.0%5D%2C%20%5B47.37447%2C%208.54341%2C%204.776940514224839%5D%2C%20%5B47.37813%2C%208.54307%2C%204.776940514224839%5D%2C%20%5B47.37905%2C%208.52865%2C%205.0%5D%2C%20%5B47.39766%2C%208.51412%2C%204.776940514224839%5D%2C%20%5B47.37489%2C%208.52445%2C%205.0%5D%2C%20%5B47.37756%2C%208.54378%2C%204.776940514224839%5D%2C%20%5B47.37559%2C%208.52729%2C%204.776940514224839%5D%2C%20%5B47.38107%2C%208.56686%2C%205.0%5D%2C%20%5B47.39044%2C%208.48538%2C%204.87%5D%2C%20%5B47.39632%2C%208.4886%2C%204.58%5D%2C%20%5B47.3689%2C%208.52552%2C%204.776940514224839%5D%2C%20%5B47.38519%2C%208.48361%2C%205.0%5D%2C%20%5B47.37011%2C%208.55288%2C%205.0%5D%2C%20%5B47.39088%2C%208.53831%2C%205.0%5D%2C%20%5B47.35292%2C%208.57899%2C%204.67%5D%2C%20%5B47.36258%2C%208.56834%2C%204.776940514224839%5D%2C%20%5B47.40398%2C%208.55365%2C%205.0%5D%2C%20%5B47.37668%2C%208.51546%2C%205.0%5D%2C%20%5B47.39329%2C%208.4856%2C%205.0%5D%2C%20%5B47.39208%2C%208.53915%2C%205.0%5D%2C%20%5B47.35774%2C%208.49676%2C%205.0%5D%2C%20%5B47.39592%2C%208.53339%2C%204.83%5D%2C%20%5B47.37759%2C%208.52832%2C%204.776940514224839%5D%2C%20%5B47.41687%2C%208.54433%2C%205.0%5D%2C%20%5B47.41588%2C%208.54405%2C%204.776940514224839%5D%2C%20%5B47.36103%2C%208.52658%2C%204.67%5D%2C%20%5B47.39455%2C%208.52854%2C%205.0%5D%2C%20%5B47.40696%2C%208.54942%2C%205.0%5D%2C%20%5B47.40845%2C%208.54808%2C%204.776940514224839%5D%2C%20%5B47.40674%2C%208.54825%2C%204.776940514224839%5D%2C%20%5B47.37392%2C%208.52433%2C%204.776940514224839%5D%2C%20%5B47.36592%2C%208.535%2C%204.776940514224839%5D%2C%20%5B47.37313%2C%208.51724%2C%204.776940514224839%5D%2C%20%5B47.36774%2C%208.54435%2C%205.0%5D%2C%20%5B47.37763%2C%208.55663%2C%204.776940514224839%5D%2C%20%5B47.36729%2C%208.52343%2C%204.77%5D%2C%20%5B47.40581%2C%208.55173%2C%204.14%5D%2C%20%5B47.40662%2C%208.55138%2C%204.75%5D%2C%20%5B47.3718%2C%208.51796%2C%205.0%5D%2C%20%5B47.36403%2C%208.56112%2C%205.0%5D%2C%20%5B47.37093%2C%208.51825%2C%204.87%5D%2C%20%5B47.36435%2C%208.51886%2C%204.8%5D%2C%20%5B47.3806%2C%208.53611%2C%204.67%5D%2C%20%5B47.39838%2C%208.53977%2C%204.88%5D%2C%20%5B47.40493%2C%208.59321%2C%204.776940514224839%5D%2C%20%5B47.36763%2C%208.53621%2C%205.0%5D%2C%20%5B47.34607%2C%208.53331%2C%205.0%5D%2C%20%5B47.38145%2C%208.53467%2C%205.0%5D%2C%20%5B47.37989%2C%208.53622%2C%205.0%5D%2C%20%5B47.410767%2C%208.543563%2C%204.85%5D%2C%20%5B47.38545%2C%208.54173%2C%204.776940514224839%5D%2C%20%5B47.37406%2C%208.52283%2C%204.776940514224839%5D%2C%20%5B47.35702%2C%208.5987%2C%204.776940514224839%5D%2C%20%5B47.37177%2C%208.51119%2C%205.0%5D%2C%20%5B47.36644%2C%208.55842%2C%204.776940514224839%5D%2C%20%5B47.39838%2C%208.58992%2C%204.16%5D%2C%20%5B47.39969%2C%208.59065%2C%203.0%5D%2C%20%5B47.42531%2C%208.52024%2C%205.0%5D%2C%20%5B47.42467%2C%208.51906%2C%204.776940514224839%5D%2C%20%5B47.39854%2C%208.50459%2C%205.0%5D%2C%20%5B47.37575%2C%208.53043%2C%205.0%5D%2C%20%5B47.39961%2C%208.5061%2C%204.776940514224839%5D%2C%20%5B47.34889%2C%208.56199%2C%204.83%5D%2C%20%5B47.3515%2C%208.5813%2C%204.88%5D%2C%20%5B47.37508%2C%208.54339%2C%205.0%5D%2C%20%5B47.33226%2C%208.53477%2C%204.776940514224839%5D%2C%20%5B47.39105%2C%208.50891%2C%204.89%5D%2C%20%5B47.39989%2C%208.49453%2C%205.0%5D%2C%20%5B47.41382%2C%208.54231%2C%205.0%5D%2C%20%5B47.36217%2C%208.51817%2C%205.0%5D%2C%20%5B47.41453%2C%208.55672%2C%204.9%5D%2C%20%5B47.36415%2C%208.55715%2C%204.776940514224839%5D%2C%20%5B47.36832%2C%208.56337%2C%204.776940514224839%5D%2C%20%5B47.38885%2C%208.5399%2C%205.0%5D%2C%20%5B47.39169%2C%208.52711%2C%204.776940514224839%5D%2C%20%5B47.357597%2C%208.599312%2C%204.776940514224839%5D%2C%20%5B47.38131%2C%208.53631%2C%205.0%5D%2C%20%5B47.38004%2C%208.5345%2C%205.0%5D%2C%20%5B47.38224%2C%208.49868%2C%205.0%5D%2C%20%5B47.37117%2C%208.52912%2C%204.5%5D%2C%20%5B47.39017%2C%208.485%2C%204.776940514224839%5D%2C%20%5B47.38397%2C%208.50011%2C%205.0%5D%2C%20%5B47.3801%2C%208.48881%2C%205.0%5D%2C%20%5B47.41221%2C%208.51787%2C%204.33%5D%2C%20%5B47.40063%2C%208.49925%2C%205.0%5D%2C%20%5B47.39312%2C%208.47373%2C%204.776940514224839%5D%2C%20%5B47.36912%2C%208.54596%2C%205.0%5D%2C%20%5B47.37382%2C%208.52391%2C%204.83%5D%2C%20%5B47.39005%2C%208.53707%2C%205.0%5D%2C%20%5B47.38529%2C%208.54441%2C%205.0%5D%2C%20%5B47.36976%2C%208.53373%2C%205.0%5D%2C%20%5B47.37443%2C%208.51559%2C%204.776940514224839%5D%2C%20%5B47.4104%2C%208.54609%2C%205.0%5D%2C%20%5B47.36042%2C%208.56487%2C%204.83%5D%2C%20%5B47.3491%2C%208.5634%2C%204.67%5D%2C%20%5B47.36594%2C%208.51628%2C%204.67%5D%2C%20%5B47.36175%2C%208.60226%2C%205.0%5D%2C%20%5B47.39932%2C%208.53815%2C%204.67%5D%2C%20%5B47.40222%2C%208.53629%2C%204.776940514224839%5D%2C%20%5B47.39099%2C%208.48508%2C%204.776940514224839%5D%2C%20%5B47.38865%2C%208.49706%2C%204.776940514224839%5D%2C%20%5B47.39629%2C%208.51503%2C%204.776940514224839%5D%2C%20%5B47.40818%2C%208.54149%2C%205.0%5D%2C%20%5B47.37809%2C%208.53173%2C%205.0%5D%2C%20%5B47.3776%2C%208.52133%2C%204.8%5D%2C%20%5B47.38272%2C%208.48055%2C%204.0%5D%2C%20%5B47.40084%2C%208.53225%2C%205.0%5D%2C%20%5B47.37363%2C%208.54405%2C%204.776940514224839%5D%2C%20%5B47.36085%2C%208.55291%2C%205.0%5D%2C%20%5B47.357597%2C%208.599312%2C%204.776940514224839%5D%2C%20%5B47.3864%2C%208.47701%2C%204.776940514224839%5D%2C%20%5B47.34047%2C%208.52884%2C%205.0%5D%2C%20%5B47.39969%2C%208.53754%2C%204.776940514224839%5D%2C%20%5B47.3792%2C%208.55804%2C%205.0%5D%2C%20%5B47.35774%2C%208.52893%2C%204.5%5D%2C%20%5B47.37428%2C%208.54958%2C%205.0%5D%2C%20%5B47.36968%2C%208.50262%2C%204.71%5D%2C%20%5B47.40341%2C%208.55141%2C%205.0%5D%2C%20%5B47.34826%2C%208.52998%2C%204.776940514224839%5D%2C%20%5B47.36501%2C%208.53763%2C%205.0%5D%2C%20%5B47.37549%2C%208.51448%2C%205.0%5D%2C%20%5B47.37637%2C%208.52877%2C%205.0%5D%2C%20%5B47.40681%2C%208.55373%2C%204.0%5D%2C%20%5B47.40228%2C%208.49539%2C%204.776940514224839%5D%2C%20%5B47.382195%2C%208.544195%2C%204.25%5D%2C%20%5B47.38401%2C%208.54681%2C%201.0%5D%2C%20%5B47.35713%2C%208.51536%2C%204.67%5D%2C%20%5B47.39074%2C%208.48526%2C%204.65%5D%2C%20%5B47.37519%2C%208.51374%2C%205.0%5D%2C%20%5B47.35733%2C%208.59269%2C%205.0%5D%2C%20%5B47.3803%2C%208.50323%2C%205.0%5D%2C%20%5B47.35977%2C%208.49863%2C%204.14%5D%2C%20%5B47.3628%2C%208.55965%2C%204.83%5D%2C%20%5B47.36961%2C%208.56198%2C%205.0%5D%2C%20%5B47.42004%2C%208.55181%2C%204.776940514224839%5D%2C%20%5B47.38349%2C%208.54354%2C%205.0%5D%2C%20%5B47.39845%2C%208.54295%2C%204.776940514224839%5D%2C%20%5B47.39339%2C%208.52268%2C%204.776940514224839%5D%2C%20%5B47.37625%2C%208.52033%2C%205.0%5D%2C%20%5B47.35843%2C%208.5571%2C%205.0%5D%2C%20%5B47.38569%2C%208.52806%2C%205.0%5D%2C%20%5B47.39076%2C%208.48442%2C%204.89%5D%2C%20%5B47.38939%2C%208.48381%2C%204.78%5D%2C%20%5B47.3872%2C%208.49158%2C%204.67%5D%2C%20%5B47.38558%2C%208.53884%2C%204.8%5D%2C%20%5B47.37735%2C%208.56777%2C%204.776940514224839%5D%2C%20%5B47.3789%2C%208.48346%2C%204.776940514224839%5D%2C%20%5B47.35822%2C%208.49749%2C%204.59%5D%2C%20%5B47.35723%2C%208.525%2C%205.0%5D%2C%20%5B47.3682%2C%208.56376%2C%205.0%5D%2C%20%5B47.34713%2C%208.53346%2C%205.0%5D%2C%20%5B47.37201%2C%208.54397%2C%205.0%5D%2C%20%5B47.405109%2C%208.548742%2C%204.67%5D%2C%20%5B47.3597%2C%208.52679%2C%204.5%5D%2C%20%5B47.357807%2C%208.599515%2C%205.0%5D%2C%20%5B47.39223%2C%208.52565%2C%204.776940514224839%5D%2C%20%5B47.3947%2C%208.51551%2C%205.0%5D%2C%20%5B47.35848%2C%208.49769%2C%204.24%5D%2C%20%5B47.40347%2C%208.53579%2C%204.776940514224839%5D%2C%20%5B47.37749%2C%208.51252%2C%204.89%5D%2C%20%5B47.37272%2C%208.54358%2C%204.776940514224839%5D%2C%20%5B47.35816%2C%208.49898%2C%204.5%5D%2C%20%5B47.357597%2C%208.599312%2C%204.0%5D%2C%20%5B47.3931%2C%208.52554%2C%205.0%5D%2C%20%5B47.38324%2C%208.53164%2C%204.776940514224839%5D%2C%20%5B47.35936%2C%208.49762%2C%204.4%5D%2C%20%5B47.39526%2C%208.54318%2C%204.776940514224839%5D%2C%20%5B47.37491%2C%208.54427%2C%205.0%5D%2C%20%5B47.41918%2C%208.53762%2C%204.776940514224839%5D%2C%20%5B47.33657%2C%208.53179%2C%205.0%5D%2C%20%5B47.36564%2C%208.52086%2C%204.776940514224839%5D%2C%20%5B47.34944%2C%208.57441%2C%204.776940514224839%5D%2C%20%5B47.34663%2C%208.56425%2C%205.0%5D%2C%20%5B47.38774%2C%208.48396%2C%204.52%5D%2C%20%5B47.37295%2C%208.51974%2C%204.776940514224839%5D%2C%20%5B47.3579%2C%208.49874%2C%204.15%5D%2C%20%5B47.35815%2C%208.49704%2C%203.88%5D%2C%20%5B47.35794%2C%208.49769%2C%204.23%5D%2C%20%5B47.3583%2C%208.49706%2C%204.05%5D%2C%20%5B47.3591%2C%208.49817%2C%204.51%5D%2C%20%5B47.36845%2C%208.545261%2C%205.0%5D%2C%20%5B47.3812%2C%208.53428%2C%205.0%5D%2C%20%5B47.357807%2C%208.599515%2C%204.5%5D%2C%20%5B47.3861%2C%208.50922%2C%204.83%5D%2C%20%5B47.35803%2C%208.4973%2C%204.29%5D%2C%20%5B47.36%2C%208.49769%2C%204.38%5D%2C%20%5B47.35818%2C%208.4971%2C%204.05%5D%2C%20%5B47.3593%2C%208.49822%2C%204.4%5D%2C%20%5B47.35839%2C%208.4969%2C%204.62%5D%2C%20%5B47.35957%2C%208.49877%2C%203.75%5D%2C%20%5B47.35784%2C%208.49732%2C%204.0%5D%2C%20%5B47.35413%2C%208.55945%2C%204.776940514224839%5D%2C%20%5B47.37316%2C%208.52428%2C%205.0%5D%2C%20%5B47.33427%2C%208.53031%2C%204.776940514224839%5D%2C%20%5B47.42131%2C%208.53768%2C%204.9%5D%2C%20%5B47.36064%2C%208.55034%2C%205.0%5D%2C%20%5B47.3725%2C%208.54348%2C%205.0%5D%2C%20%5B47.37863%2C%208.52579%2C%204.776940514224839%5D%2C%20%5B47.3574%2C%208.52722%2C%204.776940514224839%5D%2C%20%5B47.36902%2C%208.54707%2C%204.71%5D%2C%20%5B47.35188%2C%208.53033%2C%204.776940514224839%5D%2C%20%5B47.381%2C%208.53358%2C%204.67%5D%2C%20%5B47.35579%2C%208.514%2C%204.83%5D%2C%20%5B47.37097%2C%208.53599%2C%205.0%5D%2C%20%5B47.36396%2C%208.55589%2C%205.0%5D%2C%20%5B47.36654%2C%208.52404%2C%204.776940514224839%5D%2C%20%5B47.3396%2C%208.52984%2C%205.0%5D%2C%20%5B47.3825%2C%208.54488%2C%204.5%5D%2C%20%5B47.35541%2C%208.55469%2C%205.0%5D%2C%20%5B47.35063%2C%208.53125%2C%204.776940514224839%5D%2C%20%5B47.35983%2C%208.56704%2C%204.776940514224839%5D%2C%20%5B47.35611%2C%208.55679%2C%204.776940514224839%5D%2C%20%5B47.35879%2C%208.5274%2C%205.0%5D%2C%20%5B47.3853%2C%208.478%2C%204.776940514224839%5D%2C%20%5B47.39322%2C%208.47623%2C%204.776940514224839%5D%2C%20%5B47.37716%2C%208.54135%2C%205.0%5D%2C%20%5B47.39264%2C%208.49104%2C%204.776940514224839%5D%2C%20%5B47.34146%2C%208.52881%2C%205.0%5D%2C%20%5B47.36341%2C%208.5558%2C%205.0%5D%2C%20%5B47.39106%2C%208.54612%2C%204.776940514224839%5D%2C%20%5B47.40968%2C%208.54261%2C%204.776940514224839%5D%2C%20%5B47.42602%2C%208.55305%2C%205.0%5D%2C%20%5B47.40733%2C%208.57906%2C%204.57%5D%2C%20%5B47.38858%2C%208.46653%2C%204.776940514224839%5D%2C%20%5B47.38437%2C%208.53085%2C%204.96%5D%2C%20%5B47.38819%2C%208.53345%2C%204.67%5D%2C%20%5B47.38293%2C%208.53491%2C%204.776940514224839%5D%2C%20%5B47.35965%2C%208.5706%2C%204.776940514224839%5D%2C%20%5B47.38097%2C%208.53339%2C%205.0%5D%2C%20%5B47.38233%2C%208.53483%2C%205.0%5D%2C%20%5B47.3807%2C%208.53477%2C%204.67%5D%2C%20%5B47.3815%2C%208.5334%2C%205.0%5D%2C%20%5B47.383%2C%208.53328%2C%204.776940514224839%5D%2C%20%5B47.38234%2C%208.53494%2C%204.776940514224839%5D%2C%20%5B47.38269%2C%208.53447%2C%205.0%5D%2C%20%5B47.38219%2C%208.53436%2C%204.776940514224839%5D%2C%20%5B47.39571%2C%208.52203%2C%204.0%5D%2C%20%5B47.40856%2C%208.57685%2C%204.0%5D%2C%20%5B47.37582%2C%208.51581%2C%204.0%5D%2C%20%5B47.38737%2C%208.49287%2C%204.776940514224839%5D%2C%20%5B47.38092%2C%208.51773%2C%205.0%5D%2C%20%5B47.40861%2C%208.57767%2C%204.0%5D%2C%20%5B47.38777%2C%208.51596%2C%205.0%5D%2C%20%5B47.358826%2C%208.497919%2C%205.0%5D%2C%20%5B47.37377%2C%208.54291%2C%204.64%5D%2C%20%5B47.37489%2C%208.54447%2C%204.57%5D%2C%20%5B47.37949%2C%208.54567%2C%204.75%5D%2C%20%5B47.37478%2C%208.53045%2C%204.776940514224839%5D%2C%20%5B47.36677%2C%208.5036%2C%204.6%5D%2C%20%5B47.37771%2C%208.52865%2C%204.776940514224839%5D%2C%20%5B47.40111%2C%208.53254%2C%204.776940514224839%5D%2C%20%5B47.40101%2C%208.58975%2C%204.8%5D%2C%20%5B47.40335%2C%208.53481%2C%204.776940514224839%5D%2C%20%5B47.41914%2C%208.55134%2C%205.0%5D%2C%20%5B47.36564%2C%208.51951%2C%205.0%5D%2C%20%5B47.39302%2C%208.5141%2C%204.776940514224839%5D%2C%20%5B47.37771%2C%208.52857%2C%205.0%5D%2C%20%5B47.36476%2C%208.55818%2C%205.0%5D%2C%20%5B47.37627%2C%208.52717%2C%204.29%5D%2C%20%5B47.41678%2C%208.54641%2C%204.8%5D%2C%20%5B47.37696%2C%208.52247%2C%205.0%5D%2C%20%5B47.38036%2C%208.48908%2C%205.0%5D%2C%20%5B47.36661%2C%208.56529%2C%204.776940514224839%5D%2C%20%5B47.38212%2C%208.50645%2C%204.776940514224839%5D%2C%20%5B47.37309%2C%208.5433%2C%204.776940514224839%5D%2C%20%5B47.42048%2C%208.55119%2C%204.776940514224839%5D%2C%20%5B47.38159%2C%208.53113%2C%204.5%5D%2C%20%5B47.37236%2C%208.519851%2C%204.5%5D%2C%20%5B47.38004%2C%208.50453%2C%204.5%5D%2C%20%5B47.39235%2C%208.54675%2C%204.8%5D%2C%20%5B47.35666%2C%208.60018%2C%204.776940514224839%5D%2C%20%5B47.3701%2C%208.54817%2C%204.776940514224839%5D%2C%20%5B47.37074%2C%208.52139%2C%205.0%5D%2C%20%5B47.36911%2C%208.54416%2C%205.0%5D%2C%20%5B47.39874%2C%208.50638%2C%204.6%5D%2C%20%5B47.36202%2C%208.5566%2C%204.776940514224839%5D%2C%20%5B47.367748%2C%208.519903%2C%204.7%5D%2C%20%5B47.33346%2C%208.52859%2C%204.776940514224839%5D%2C%20%5B47.35635%2C%208.55649%2C%204.776940514224839%5D%2C%20%5B47.36594%2C%208.55574%2C%204.776940514224839%5D%2C%20%5B47.40126%2C%208.53341%2C%204.776940514224839%5D%2C%20%5B47.35482%2C%208.55308%2C%204.776940514224839%5D%2C%20%5B47.40149%2C%208.59299%2C%205.0%5D%2C%20%5B47.360264%2C%208.562801%2C%204.776940514224839%5D%2C%20%5B47.3607%2C%208.60129%2C%204.67%5D%2C%20%5B47.38039%2C%208.49514%2C%205.0%5D%2C%20%5B47.38874%2C%208.49727%2C%204.67%5D%2C%20%5B47.38936%2C%208.52256%2C%204.776940514224839%5D%2C%20%5B47.38655%2C%208.54367%2C%204.776940514224839%5D%2C%20%5B47.36466%2C%208.55299%2C%204.776940514224839%5D%2C%20%5B47.36441%2C%208.51361%2C%204.776940514224839%5D%2C%20%5B47.37789%2C%208.52818%2C%205.0%5D%2C%20%5B47.37275%2C%208.54638%2C%205.0%5D%2C%20%5B47.41408%2C%208.5421%2C%204.9%5D%2C%20%5B47.38291%2C%208.53866%2C%204.776940514224839%5D%2C%20%5B47.37314%2C%208.5425%2C%204.776940514224839%5D%2C%20%5B47.38095%2C%208.53619%2C%205.0%5D%2C%20%5B47.38217%2C%208.54665%2C%205.0%5D%2C%20%5B47.36242%2C%208.55098%2C%204.776940514224839%5D%2C%20%5B47.37932%2C%208.529%2C%205.0%5D%2C%20%5B47.34973%2C%208.56377%2C%204.776940514224839%5D%2C%20%5B47.4094%2C%208.54199%2C%205.0%5D%2C%20%5B47.37716%2C%208.5144%2C%205.0%5D%2C%20%5B47.362301%2C%208.558274%2C%205.0%5D%2C%20%5B47.37825%2C%208.53287%2C%204.776940514224839%5D%2C%20%5B47.35288%2C%208.5669%2C%204.776940514224839%5D%2C%20%5B47.37132%2C%208.51281%2C%205.0%5D%2C%20%5B47.35811%2C%208.4968%2C%204.776940514224839%5D%2C%20%5B47.40939%2C%208.54068%2C%204.0%5D%2C%20%5B47.36515%2C%208.52684%2C%204.83%5D%2C%20%5B47.39447%2C%208.54594%2C%204.71%5D%2C%20%5B47.39942%2C%208.50025%2C%203.83%5D%2C%20%5B47.40881%2C%208.54124%2C%204.776940514224839%5D%2C%20%5B47.37425%2C%208.52541%2C%205.0%5D%2C%20%5B47.39184%2C%208.53885%2C%205.0%5D%2C%20%5B47.3938%2C%208.54637%2C%204.86%5D%2C%20%5B47.3713%2C%208.51511%2C%205.0%5D%2C%20%5B47.356869%2C%208.555617%2C%205.0%5D%2C%20%5B47.38188%2C%208.50859%2C%204.776940514224839%5D%2C%20%5B47.36832%2C%208.55392%2C%205.0%5D%2C%20%5B47.3783%2C%208.50286%2C%204.776940514224839%5D%2C%20%5B47.36017%2C%208.51203%2C%204.776940514224839%5D%2C%20%5B47.37063%2C%208.54734%2C%205.0%5D%2C%20%5B47.37319%2C%208.54275%2C%205.0%5D%2C%20%5B47.33718%2C%208.51815%2C%204.776940514224839%5D%2C%20%5B47.37893%2C%208.53777%2C%205.0%5D%2C%20%5B47.38059%2C%208.53639%2C%205.0%5D%2C%20%5B47.37055%2C%208.55561%2C%205.0%5D%2C%20%5B47.36095%2C%208.52511%2C%204.776940514224839%5D%2C%20%5B47.35856%2C%208.52633%2C%205.0%5D%2C%20%5B47.35111%2C%208.56679%2C%204.776940514224839%5D%2C%20%5B47.36694%2C%208.5536%2C%204.776940514224839%5D%2C%20%5B47.39706%2C%208.50866%2C%205.0%5D%2C%20%5B47.36857%2C%208.55329%2C%204.776940514224839%5D%2C%20%5B47.38578%2C%208.53845%2C%205.0%5D%2C%20%5B47.38468%2C%208.52983%2C%204.776940514224839%5D%2C%20%5B47.37482%2C%208.54411%2C%204.67%5D%2C%20%5B47.35944%2C%208.55731%2C%204.776940514224839%5D%2C%20%5B47.40611%2C%208.57886%2C%205.0%5D%2C%20%5B47.37547%2C%208.52255%2C%204.776940514224839%5D%2C%20%5B47.37678%2C%208.51596%2C%204.776940514224839%5D%2C%20%5B47.37004%2C%208.51779%2C%204.776940514224839%5D%2C%20%5B47.3765%2C%208.51447%2C%204.776940514224839%5D%2C%20%5B47.35173%2C%208.52925%2C%204.776940514224839%5D%2C%20%5B47.37236%2C%208.519851%2C%204.776940514224839%5D%2C%20%5B47.361317%2C%208.564605%2C%204.776940514224839%5D%2C%20%5B47.36869%2C%208.52118%2C%204.776940514224839%5D%2C%20%5B47.38247%2C%208.51307%2C%205.0%5D%2C%20%5B47.39083%2C%208.51036%2C%205.0%5D%2C%20%5B47.35879%2C%208.55446%2C%205.0%5D%2C%20%5B47.34786%2C%208.53144%2C%204.776940514224839%5D%2C%20%5B47.36732%2C%208.52191%2C%204.776940514224839%5D%2C%20%5B47.35907%2C%208.55167%2C%205.0%5D%2C%20%5B47.37416%2C%208.54315%2C%204.776940514224839%5D%2C%20%5B47.38342%2C%208.52899%2C%204.776940514224839%5D%2C%20%5B47.39013%2C%208.48571%2C%204.776940514224839%5D%2C%20%5B47.37257%2C%208.54281%2C%204.776940514224839%5D%2C%20%5B47.37219%2C%208.52363%2C%205.0%5D%2C%20%5B47.3604%2C%208.56365%2C%204.776940514224839%5D%2C%20%5B47.36252%2C%208.56402%2C%204.0%5D%2C%20%5B47.3798%2C%208.49631%2C%204.776940514224839%5D%2C%20%5B47.4227%2C%208.49671%2C%205.0%5D%2C%20%5B47.3495%2C%208.59904%2C%204.776940514224839%5D%2C%20%5B47.38737%2C%208.48629%2C%205.0%5D%2C%20%5B47.37684%2C%208.52926%2C%204.776940514224839%5D%2C%20%5B47.36273%2C%208.53133%2C%204.776940514224839%5D%2C%20%5B47.38611%2C%208.49638%2C%204.776940514224839%5D%2C%20%5B47.37111%2C%208.5003%2C%204.0%5D%2C%20%5B47.35979%2C%208.55345%2C%204.776940514224839%5D%2C%20%5B47.36432%2C%208.56958%2C%204.776940514224839%5D%2C%20%5B47.36936%2C%208.51987%2C%204.776940514224839%5D%2C%20%5B47.379539%2C%208.525209%2C%204.776940514224839%5D%2C%20%5B47.37072%2C%208.49201%2C%204.776940514224839%5D%2C%20%5B47.38455%2C%208.48567%2C%205.0%5D%2C%20%5B47.39464%2C%208.5472%2C%204.776940514224839%5D%2C%20%5B47.40705%2C%208.57762%2C%204.776940514224839%5D%2C%20%5B47.39575%2C%208.50495%2C%204.776940514224839%5D%2C%20%5B47.35724%2C%208.52721%2C%204.776940514224839%5D%2C%20%5B47.34536%2C%208.53337%2C%204.776940514224839%5D%2C%20%5B47.3726%2C%208.51896%2C%204.776940514224839%5D%2C%20%5B47.37422%2C%208.52249%2C%204.776940514224839%5D%2C%20%5B47.37773%2C%208.56512%2C%204.776940514224839%5D%2C%20%5B47.36976%2C%208.52965%2C%204.776940514224839%5D%2C%20%5B47.35885%2C%208.55%2C%204.776940514224839%5D%2C%20%5B47.32767%2C%208.51438%2C%204.776940514224839%5D%2C%20%5B47.38804%2C%208.51398%2C%204.776940514224839%5D%2C%20%5B47.37078%2C%208.49508%2C%204.776940514224839%5D%2C%20%5B47.3686%2C%208.50832%2C%204.776940514224839%5D%2C%20%5B47.40738%2C%208.55164%2C%204.776940514224839%5D%2C%20%5B47.35461%2C%208.55743%2C%204.776940514224839%5D%2C%20%5B47.35972%2C%208.58311%2C%204.776940514224839%5D%2C%20%5B47.33692%2C%208.53134%2C%204.776940514224839%5D%2C%20%5B47.42517%2C%208.50019%2C%204.776940514224839%5D%2C%20%5B47.393368%2C%208.484549%2C%204.776940514224839%5D%2C%20%5B47.36145%2C%208.52185%2C%204.776940514224839%5D%2C%20%5B47.41592%2C%208.56291%2C%204.776940514224839%5D%2C%20%5B47.36103%2C%208.52095%2C%204.776940514224839%5D%2C%20%5B47.410052434077386%2C%208.546709599979646%2C%204.776940514224839%5D%2C%20%5B47.364559%2C%208.552762%2C%204.776940514224839%5D%2C%20%5B47.4118976935248%2C%208.548331616792982%2C%204.776940514224839%5D%2C%20%5B47.41082%2C%208.54782%2C%204.776940514224839%5D%2C%20%5B47.36038%2C%208.55344%2C%204.776940514224839%5D%2C%20%5B47.38727%2C%208.49623%2C%204.776940514224839%5D%2C%20%5B47.41167343889326%2C%208.548488550838776%2C%204.776940514224839%5D%2C%20%5B47.410824%2C%208.547817%2C%204.776940514224839%5D%2C%20%5B47.41035230314037%2C%208.546639393679722%2C%204.776940514224839%5D%2C%20%5B46.2014%2C%206.15507%2C%204.8%5D%2C%20%5B46.19704%2C%206.16076%2C%204.72%5D%2C%20%5B46.27944%2C%206.16724%2C%204.74%5D%2C%20%5B46.21428%2C%206.1461%2C%204.76%5D%2C%20%5B46.20682%2C%206.15526%2C%204.84%5D%2C%20%5B46.20233%2C%206.17377%2C%204.8%5D%2C%20%5B46.18791%2C%206.13996%2C%204.67%5D%2C%20%5B46.21092%2C%206.14588%2C%204.86%5D%2C%20%5B46.20508%2C%206.15822%2C%204.78%5D%2C%20%5B46.19327%2C%206.15306%2C%204.72%5D%2C%20%5B46.20518%2C%206.12397%2C%204.44%5D%2C%20%5B46.22388%2C%206.13371%2C%204.88%5D%2C%20%5B46.23507%2C%206.12345%2C%204.81%5D%2C%20%5B46.20117%2C%206.13139%2C%204.46%5D%2C%20%5B46.2124%2C%206.15048%2C%204.86%5D%2C%20%5B46.19891%2C%206.15033%2C%204.67%5D%2C%20%5B46.20048%2C%206.15046%2C%204.776940514224839%5D%2C%20%5B46.19321%2C%206.14291%2C%204.8%5D%2C%20%5B46.20174%2C%206.14594%2C%204.95%5D%2C%20%5B46.23491%2C%206.12378%2C%204.63%5D%2C%20%5B46.20175%2C%206.14852%2C%205.0%5D%2C%20%5B46.20496%2C%206.12801%2C%204.75%5D%2C%20%5B46.21671%2C%206.13847%2C%204.78%5D%2C%20%5B46.21302%2C%206.1512%2C%204.83%5D%2C%20%5B46.19897%2C%206.16332%2C%204.77%5D%2C%20%5B46.20625%2C%206.16064%2C%204.76%5D%2C%20%5B46.20089%2C%206.13124%2C%204.76%5D%2C%20%5B46.20573%2C%206.12682%2C%204.58%5D%2C%20%5B46.17446%2C%206.1254%2C%204.776940514224839%5D%2C%20%5B46.20583%2C%206.11483%2C%204.776940514224839%5D%2C%20%5B46.20902%2C%206.1363%2C%205.0%5D%2C%20%5B46.23565%2C%206.12589%2C%204.0%5D%2C%20%5B46.23456%2C%206.12542%2C%204.67%5D%2C%20%5B46.25854%2C%206.15074%2C%204.776940514224839%5D%2C%20%5B46.19241%2C%206.103%2C%204.6%5D%2C%20%5B46.1914%2C%206.15798%2C%204.91%5D%2C%20%5B46.22874%2C%206.11634%2C%204.56%5D%2C%20%5B46.19068%2C%206.15359%2C%205.0%5D%2C%20%5B46.19656%2C%206.14724%2C%204.67%5D%2C%20%5B46.22845%2C%206.11588%2C%204.89%5D%2C%20%5B46.23755%2C%206.21807%2C%204.75%5D%2C%20%5B46.18797%2C%206.13994%2C%204.62%5D%2C%20%5B46.19979%2C%206.10311%2C%204.82%5D%2C%20%5B46.20553%2C%206.16371%2C%204.74%5D%2C%20%5B46.195%2C%206.14033%2C%205.0%5D%2C%20%5B46.24406%2C%206.13674%2C%204.86%5D%2C%20%5B46.19782%2C%206.14763%2C%204.98%5D%2C%20%5B46.21341%2C%206.13114%2C%204.81%5D%2C%20%5B46.20439%2C%206.13146%2C%204.72%5D%2C%20%5B46.19405%2C%206.19447%2C%204.87%5D%2C%20%5B46.21057%2C%206.14615%2C%204.89%5D%2C%20%5B46.20862%2C%206.14615%2C%204.89%5D%2C%20%5B46.21985%2C%206.13856%2C%204.82%5D%2C%20%5B46.19978%2C%206.13656%2C%204.82%5D%2C%20%5B46.20053%2C%206.13811%2C%204.67%5D%2C%20%5B46.20562%2C%206.16165%2C%205.0%5D%2C%20%5B46.19715%2C%206.13528%2C%204.67%5D%2C%20%5B46.22493%2C%206.13191%2C%204.73%5D%2C%20%5B46.27786%2C%206.16748%2C%204.67%5D%2C%20%5B46.19005%2C%206.14249%2C%204.8%5D%2C%20%5B46.17101%2C%206.16429%2C%204.5%5D%2C%20%5B46.20538%2C%206.19196%2C%205.0%5D%2C%20%5B46.2051%2C%206.16381%2C%204.776940514224839%5D%2C%20%5B46.19962%2C%206.1807%2C%204.62%5D%2C%20%5B46.21302%2C%206.14516%2C%204.88%5D%2C%20%5B46.19993%2C%206.15715%2C%204.96%5D%2C%20%5B46.17136%2C%206.17251%2C%204.5%5D%2C%20%5B46.19368%2C%206.12196%2C%204.78%5D%2C%20%5B46.20215%2C%206.14635%2C%204.98%5D%2C%20%5B46.20413%2C%206.14633%2C%204.91%5D%2C%20%5B46.20288%2C%206.14506%2C%204.96%5D%2C%20%5B46.20439%2C%206.1447%2C%204.96%5D%2C%20%5B46.20173%2C%206.13399%2C%204.77%5D%2C%20%5B46.19011%2C%206.14306%2C%204.5%5D%2C%20%5B46.21788%2C%206.14778%2C%204.97%5D%2C%20%5B46.2097%2C%206.14578%2C%204.83%5D%2C%20%5B46.18986%2C%206.14296%2C%204.69%5D%2C%20%5B46.21604%2C%206.14929%2C%204.88%5D%2C%20%5B46.20508%2C%206.16281%2C%204.75%5D%2C%20%5B46.20696%2C%206.15548%2C%204.8%5D%2C%20%5B46.20147%2C%206.15701%2C%204.94%5D%2C%20%5B46.21416%2C%206.14891%2C%204.81%5D%2C%20%5B46.20104%2C%206.1383%2C%205.0%5D%2C%20%5B46.21338%2C%206.13531%2C%204.77%5D%2C%20%5B46.19099%2C%206.13418%2C%204.56%5D%2C%20%5B46.18586%2C%206.19527%2C%204.25%5D%2C%20%5B46.21226%2C%206.14064%2C%204.9%5D%2C%20%5B46.17273%2C%206.13431%2C%204.75%5D%2C%20%5B46.18465%2C%206.15761%2C%205.0%5D%2C%20%5B46.19869%2C%206.09437%2C%204.64%5D%2C%20%5B46.20548%2C%206.16182%2C%204.8%5D%2C%20%5B46.17677%2C%206.17199%2C%204.81%5D%2C%20%5B46.20183%2C%206.15048%2C%205.0%5D%2C%20%5B46.2036%2C%206.15926%2C%204.98%5D%2C%20%5B46.1972%2C%206.16055%2C%204.91%5D%2C%20%5B46.20699%2C%206.19498%2C%204.76%5D%2C%20%5B46.21583%2C%206.14753%2C%204.83%5D%2C%20%5B46.19308%2C%206.13925%2C%204.92%5D%2C%20%5B46.16422%2C%206.11381%2C%204.6%5D%2C%20%5B46.19159%2C%206.14271%2C%204.75%5D%2C%20%5B46.23496%2C%206.12469%2C%204.77%5D%2C%20%5B46.16715%2C%205.99505%2C%204.45%5D%2C%20%5B46.2049%2C%206.14089%2C%204.73%5D%2C%20%5B46.21464%2C%206.14991%2C%204.67%5D%2C%20%5B46.21184%2C%206.07893%2C%204.72%5D%2C%20%5B46.19945%2C%206.14694%2C%204.99%5D%2C%20%5B46.19758%2C%206.17304%2C%204.86%5D%2C%20%5B46.16419%2C%206.11254%2C%204.5%5D%2C%20%5B46.19335%2C%206.1391%2C%204.79%5D%2C%20%5B46.21474%2C%206.14862%2C%204.91%5D%2C%20%5B46.198%2C%206.13858%2C%205.0%5D%2C%20%5B46.20336%2C%206.168%2C%204.56%5D%2C%20%5B46.16389%2C%206.11209%2C%204.68%5D%2C%20%5B46.23553%2C%206.12469%2C%204.64%5D%2C%20%5B46.19382%2C%206.1829%2C%204.58%5D%2C%20%5B46.20938%2C%206.1373%2C%204.87%5D%2C%20%5B46.18115%2C%206.13724%2C%204.88%5D%2C%20%5B46.18207%2C%206.14039%2C%204.776940514224839%5D%2C%20%5B46.23029%2C%206.11974%2C%204.67%5D%2C%20%5B46.21041%2C%206.11045%2C%204.5%5D%2C%20%5B46.21205%2C%206.12928%2C%204.776940514224839%5D%2C%20%5B46.19056%2C%206.14146%2C%205.0%5D%2C%20%5B46.21062%2C%206.14522%2C%204.88%5D%2C%20%5B46.19069%2C%206.13503%2C%204.64%5D%2C%20%5B46.21047%2C%206.15117%2C%204.9%5D%2C%20%5B46.20954%2C%206.13927%2C%204.78%5D%2C%20%5B46.21473%2C%206.21261%2C%204.64%5D%2C%20%5B46.21573%2C%206.12058%2C%204.57%5D%2C%20%5B46.21204%2C%206.13113%2C%204.95%5D%2C%20%5B46.20976%2C%206.13875%2C%204.94%5D%2C%20%5B46.20966%2C%206.14647%2C%205.0%5D%2C%20%5B46.2088%2C%206.14405%2C%204.71%5D%2C%20%5B46.19397%2C%206.16119%2C%204.73%5D%2C%20%5B46.25865%2C%206.15325%2C%205.0%5D%2C%20%5B46.18144%2C%206.09675%2C%204.7%5D%2C%20%5B46.17215%2C%206.1115%2C%204.63%5D%2C%20%5B46.20833%2C%206.10977%2C%204.44%5D%2C%20%5B46.18202%2C%206.14093%2C%205.0%5D%2C%20%5B46.2%2C%206.13921%2C%204.89%5D%2C%20%5B46.19029%2C%206.14491%2C%204.5%5D%2C%20%5B46.20979%2C%206.14919%2C%205.0%5D%2C%20%5B46.17955%2C%206.09514%2C%204.66%5D%2C%20%5B46.19471%2C%206.1474%2C%204.77%5D%2C%20%5B46.19751%2C%206.15876%2C%204.87%5D%2C%20%5B46.21263%2C%206.14632%2C%204.87%5D%2C%20%5B46.21153%2C%206.14833%2C%204.94%5D%2C%20%5B46.21093%2C%206.1269%2C%204.78%5D%2C%20%5B46.19364%2C%206.14462%2C%205.0%5D%2C%20%5B46.1814%2C%206.13814%2C%204.776940514224839%5D%2C%20%5B46.19778%2C%206.162%2C%204.776940514224839%5D%2C%20%5B46.20668%2C%206.12819%2C%204.73%5D%2C%20%5B46.21095%2C%206.14267%2C%204.9%5D%2C%20%5B46.20534%2C%206.17635%2C%204.68%5D%2C%20%5B46.21431%2C%206.14708%2C%204.96%5D%2C%20%5B46.17364%2C%206.14371%2C%204.26%5D%2C%20%5B46.22009%2C%206.14187%2C%204.89%5D%2C%20%5B46.19038%2C%206.15888%2C%204.81%5D%2C%20%5B46.21968%2C%206.0877%2C%204.58%5D%2C%20%5B46.22562%2C%206.10843%2C%204.76%5D%2C%20%5B46.2038%2C%206.14518%2C%204.9%5D%2C%20%5B46.20677%2C%206.13482%2C%204.84%5D%2C%20%5B46.22018%2C%206.1414%2C%204.83%5D%2C%20%5B46.17579%2C%206.11718%2C%204.83%5D%2C%20%5B46.20147%2C%206.16684%2C%204.73%5D%2C%20%5B46.21533%2C%206.14899%2C%204.8%5D%2C%20%5B46.21015%2C%206.11099%2C%204.5%5D%2C%20%5B46.214%2C%206.13356%2C%204.92%5D%2C%20%5B46.20617%2C%206.03003%2C%205.0%5D%2C%20%5B46.19471%2C%206.1474%2C%204.76%5D%2C%20%5B46.19313%2C%206.14361%2C%204.776940514224839%5D%2C%20%5B46.1971%2C%206.13604%2C%204.61%5D%2C%20%5B46.20162%2C%206.15815%2C%204.76%5D%2C%20%5B46.27676%2C%206.16753%2C%204.8%5D%2C%20%5B46.19966%2C%206.19874%2C%204.73%5D%2C%20%5B46.2044%2C%206.13418%2C%204.73%5D%2C%20%5B46.18916%2C%206.13963%2C%204.62%5D%2C%20%5B46.1881%2C%206.13914%2C%204.91%5D%2C%20%5B46.21357%2C%206.12506%2C%204.84%5D%2C%20%5B46.21122%2C%206.14816%2C%204.33%5D%2C%20%5B46.211%2C%206.14855%2C%204.8%5D%2C%20%5B46.19816%2C%206.17895%2C%204.0%5D%2C%20%5B46.19555%2C%206.14724%2C%204.89%5D%2C%20%5B46.2085%2C%206.13271%2C%204.76%5D%2C%20%5B46.20848%2C%206.14796%2C%205.0%5D%2C%20%5B46.20079%2C%206.16511%2C%204.76%5D%2C%20%5B46.20907%2C%206.14594%2C%204.77%5D%2C%20%5B46.216038%2C%206.131416%2C%205.0%5D%2C%20%5B46.24646%2C%206.13597%2C%204.7%5D%2C%20%5B46.18968%2C%206.15711%2C%204.84%5D%2C%20%5B46.21693%2C%206.14955%2C%204.776940514224839%5D%2C%20%5B46.21507%2C%206.1488%2C%204.776940514224839%5D%2C%20%5B46.20267%2C%206.18263%2C%204.776940514224839%5D%2C%20%5B46.20932%2C%206.14867%2C%205.0%5D%2C%20%5B46.20809%2C%206.13415%2C%204.72%5D%2C%20%5B46.20017%2C%206.15074%2C%204.93%5D%2C%20%5B46.21057%2C%206.14921%2C%205.0%5D%2C%20%5B46.21899%2C%206.14132%2C%204.776940514224839%5D%2C%20%5B46.19935%2C%206.14897%2C%204.96%5D%2C%20%5B46.17601%2C%206.08685%2C%204.74%5D%2C%20%5B46.24646%2C%206.13734%2C%204.68%5D%2C%20%5B46.20678%2C%206.1268%2C%204.776940514224839%5D%2C%20%5B46.21251%2C%206.12144%2C%204.776940514224839%5D%2C%20%5B46.21478%2C%206.13286%2C%204.78%5D%2C%20%5B46.2124%2C%206.1353%2C%205.0%5D%2C%20%5B46.20685%2C%206.14087%2C%205.0%5D%2C%20%5B46.19304%2C%206.15387%2C%204.0%5D%2C%20%5B46.23469%2C%206.12367%2C%204.0%5D%2C%20%5B46.18224%2C%206.14181%2C%204.98%5D%2C%20%5B46.2282%2C%206.11367%2C%204.7%5D%2C%20%5B46.20797%2C%206.13667%2C%204.95%5D%2C%20%5B46.17268%2C%206.08158%2C%204.776940514224839%5D%2C%20%5B46.20192%2C%206.13791%2C%204.76%5D%2C%20%5B46.20719%2C%206.12964%2C%205.0%5D%2C%20%5B46.19087%2C%206.14062%2C%204.69%5D%2C%20%5B46.20517%2C%206.16395%2C%204.45%5D%2C%20%5B46.21523%2C%206.14753%2C%204.78%5D%2C%20%5B46.21442%2C%206.14954%2C%205.0%5D%2C%20%5B46.2037%2C%206.16431%2C%205.0%5D%2C%20%5B46.20552%2C%206.16236%2C%204.67%5D%2C%20%5B46.20259%2C%206.14457%2C%204.92%5D%2C%20%5B46.20626%2C%206.13821%2C%204.95%5D%2C%20%5B46.23774%2C%206.08196%2C%204.94%5D%2C%20%5B46.21153%2C%206.14066%2C%204.9%5D%2C%20%5B46.20259%2C%206.14457%2C%204.92%5D%2C%20%5B46.20939%2C%206.11226%2C%204.59%5D%2C%20%5B46.1866%2C%206.15395%2C%204.46%5D%2C%20%5B46.20899%2C%206.10784%2C%204.67%5D%2C%20%5B46.21203%2C%206.14758%2C%204.74%5D%2C%20%5B46.19701%2C%206.15408%2C%204.94%5D%2C%20%5B46.20533%2C%206.18389%2C%204.79%5D%2C%20%5B46.20564%2C%206.16237%2C%205.0%5D%2C%20%5B46.25467%2C%206.21783%2C%204.84%5D%2C%20%5B46.19078%2C%206.14358%2C%205.0%5D%2C%20%5B46.19067%2C%206.14294%2C%204.0%5D%2C%20%5B46.21117%2C%206.12957%2C%204.64%5D%2C%20%5B46.21137%2C%206.13409%2C%204.55%5D%2C%20%5B46.2052%2C%206.18399%2C%203.0%5D%2C%20%5B46.18733%2C%206.13948%2C%204.74%5D%2C%20%5B46.20156%2C%206.15034%2C%205.0%5D%2C%20%5B46.21256%2C%206.14288%2C%204.88%5D%2C%20%5B46.25022%2C%206.14565%2C%204.4%5D%2C%20%5B46.19547%2C%206.14485%2C%204.95%5D%2C%20%5B46.18902%2C%206.15439%2C%204.69%5D%2C%20%5B46.20126%2C%206.15575%2C%205.0%5D%2C%20%5B46.20739%2C%206.14559%2C%204.93%5D%2C%20%5B46.20823%2C%206.14932%2C%205.0%5D%2C%20%5B46.23016%2C%206.07735%2C%204.81%5D%2C%20%5B46.17971%2C%206.13947%2C%204.64%5D%2C%20%5B46.20272%2C%206.13159%2C%205.0%5D%2C%20%5B46.20931%2C%206.14649%2C%204.91%5D%2C%20%5B46.21573%2C%206.13005%2C%204.91%5D%2C%20%5B46.20546%2C%206.16119%2C%204.92%5D%2C%20%5B46.20259%2C%206.14457%2C%204.85%5D%2C%20%5B46.19435%2C%206.14448%2C%204.83%5D%2C%20%5B46.20765%2C%206.19953%2C%204.8%5D%2C%20%5B46.19453%2C%206.14523%2C%204.86%5D%2C%20%5B46.2275%2C%206.1178%2C%204.9%5D%2C%20%5B46.20259%2C%206.14457%2C%204.92%5D%2C%20%5B46.17935%2C%206.09566%2C%204.55%5D%2C%20%5B46.18701%2C%206.15445%2C%204.79%5D%2C%20%5B46.20064%2C%206.15016%2C%204.87%5D%2C%20%5B46.21149%2C%206.13421%2C%204.25%5D%2C%20%5B46.21234%2C%206.14069%2C%204.88%5D%2C%20%5B46.20872%2C%206.10358%2C%204.2%5D%2C%20%5B46.21226%2C%206.15037%2C%204.89%5D%2C%20%5B46.19845%2C%206.14356%2C%204.74%5D%2C%20%5B46.21026%2C%206.12439%2C%205.0%5D%2C%20%5B46.20479%2C%206.16178%2C%204.94%5D%2C%20%5B46.20914%2C%206.13261%2C%204.85%5D%2C%20%5B46.21261%2C%206.11773%2C%204.78%5D%2C%20%5B46.20822%2C%206.14937%2C%205.0%5D%2C%20%5B46.2667%2C%206.15635%2C%205.0%5D%2C%20%5B46.19961%2C%206.14838%2C%205.0%5D%2C%20%5B46.14224%2C%206.13522%2C%204.776940514224839%5D%2C%20%5B46.21072%2C%206.12748%2C%204.66%5D%2C%20%5B46.2072%2C%206.1263%2C%204.63%5D%2C%20%5B46.19303%2C%206.2083%2C%204.51%5D%2C%20%5B46.17325%2C%206.18132%2C%204.776940514224839%5D%2C%20%5B46.20055%2C%206.14929%2C%204.91%5D%2C%20%5B46.20232%2C%206.14755%2C%204.83%5D%2C%20%5B46.20257%2C%206.14714%2C%204.92%5D%2C%20%5B46.21563%2C%206.1441%2C%204.92%5D%2C%20%5B46.18891%2C%206.15383%2C%205.0%5D%2C%20%5B46.20319%2C%206.16075%2C%204.63%5D%2C%20%5B46.20003%2C%206.09414%2C%204.57%5D%2C%20%5B46.20978%2C%206.1293%2C%204.67%5D%2C%20%5B46.20311%2C%206.15759%2C%205.0%5D%2C%20%5B46.20232%2C%206.14768%2C%204.95%5D%2C%20%5B46.24522%2C%206.14194%2C%204.776940514224839%5D%2C%20%5B46.2177%2C%206.12762%2C%204.89%5D%2C%20%5B46.21289%2C%206.149%2C%204.89%5D%2C%20%5B46.20959%2C%206.12321%2C%204.58%5D%2C%20%5B46.20723%2C%206.12012%2C%205.0%5D%2C%20%5B46.17918%2C%206.1098%2C%204.75%5D%2C%20%5B46.21359%2C%206.13339%2C%204.92%5D%2C%20%5B46.20018%2C%206.14026%2C%204.92%5D%2C%20%5B46.21855%2C%206.14038%2C%205.0%5D%2C%20%5B46.21786%2C%206.14776%2C%204.86%5D%2C%20%5B46.20398%2C%206.15939%2C%205.0%5D%2C%20%5B46.19241%2C%206.10628%2C%204.47%5D%2C%20%5B46.25491%2C%206.14164%2C%204.28%5D%2C%20%5B46.21073%2C%206.14743%2C%204.8%5D%2C%20%5B46.20295%2C%206.15866%2C%204.776940514224839%5D%2C%20%5B46.21065%2C%206.14419%2C%204.94%5D%2C%20%5B46.21367%2C%206.12981%2C%204.71%5D%2C%20%5B46.20478%2C%206.12369%2C%204.66%5D%2C%20%5B46.2129%2C%206.12956%2C%204.7%5D%2C%20%5B46.19661%2C%206.15417%2C%204.776940514224839%5D%2C%20%5B46.20629%2C%206.1254%2C%204.77%5D%2C%20%5B46.19857%2C%206.16539%2C%204.69%5D%2C%20%5B46.20065%2C%206.15695%2C%204.92%5D%2C%20%5B46.27105%2C%206.12794%2C%204.67%5D%2C%20%5B46.20855%2C%206.14427%2C%204.93%5D%2C%20%5B46.16998%2C%206.13609%2C%204.75%5D%2C%20%5B46.26089%2C%206.20313%2C%204.0%5D%2C%20%5B46.18647%2C%206.1423%2C%205.0%5D%2C%20%5B46.21227%2C%206.12988%2C%204.84%5D%2C%20%5B46.20763%2C%206.07481%2C%204.74%5D%2C%20%5B46.19994%2C%206.1519%2C%204.89%5D%2C%20%5B46.20397%2C%206.15767%2C%204.79%5D%2C%20%5B46.19042%2C%206.15209%2C%205.0%5D%2C%20%5B46.20924%2C%206.134%2C%204.84%5D%2C%20%5B46.22584%2C%206.13141%2C%204.87%5D%2C%20%5B46.19521%2C%206.19267%2C%205.0%5D%2C%20%5B46.2081%2C%206.1372%2C%204.76%5D%2C%20%5B46.19632%2C%206.1375%2C%204.9%5D%2C%20%5B46.20587%2C%206.16404%2C%204.83%5D%2C%20%5B46.19634%2C%206.1618%2C%205.0%5D%2C%20%5B46.19281%2C%206.13645%2C%204.81%5D%2C%20%5B46.2149%2C%206.13505%2C%204.94%5D%2C%20%5B46.20253%2C%206.15977%2C%205.0%5D%2C%20%5B46.28141%2C%206.15756%2C%204.81%5D%2C%20%5B46.17108%2C%206.16363%2C%204.776940514224839%5D%2C%20%5B46.21128%2C%206.12547%2C%204.74%5D%2C%20%5B46.22301%2C%206.14825%2C%204.94%5D%2C%20%5B46.20578%2C%206.17624%2C%204.58%5D%2C%20%5B46.19259%2C%206.1388%2C%204.58%5D%2C%20%5B46.16443%2C%206.18456%2C%205.0%5D%2C%20%5B46.19538%2C%206.13987%2C%204.84%5D%2C%20%5B46.21571%2C%206.18206%2C%204.72%5D%2C%20%5B46.20283%2C%206.16041%2C%205.0%5D%2C%20%5B46.21018%2C%206.12355%2C%204.71%5D%2C%20%5B46.24303%2C%206.14575%2C%204.5%5D%2C%20%5B46.21494%2C%206.14656%2C%205.0%5D%2C%20%5B46.18933%2C%206.14338%2C%204.88%5D%2C%20%5B46.20221%2C%206.12806%2C%204.86%5D%2C%20%5B46.20203%2C%206.1385%2C%204.78%5D%2C%20%5B46.19382%2C%206.15183%2C%204.68%5D%2C%20%5B46.19294%2C%206.14223%2C%204.7%5D%2C%20%5B46.20191%2C%206.18332%2C%204.67%5D%2C%20%5B46.19822%2C%206.162%2C%205.0%5D%2C%20%5B46.20009%2C%206.15002%2C%205.0%5D%2C%20%5B46.19916%2C%206.14995%2C%204.5%5D%2C%20%5B46.20021%2C%206.14859%2C%204.776940514224839%5D%2C%20%5B46.19896%2C%206.14835%2C%205.0%5D%2C%20%5B46.19947%2C%206.14928%2C%205.0%5D%2C%20%5B46.20161%2C%206.13125%2C%204.91%5D%2C%20%5B46.21292%2C%206.14849%2C%204.72%5D%2C%20%5B46.21386%2C%206.13406%2C%204.85%5D%2C%20%5B46.20499%2C%206.13328%2C%204.9%5D%2C%20%5B46.22604%2C%206.1265%2C%205.0%5D%2C%20%5B46.21425%2C%206.0341%2C%204.25%5D%2C%20%5B46.19795%2C%206.13802%2C%204.97%5D%2C%20%5B46.18978%2C%206.14383%2C%205.0%5D%2C%20%5B46.1905%2C%206.14421%2C%204.67%5D%2C%20%5B46.26106%2C%206.15026%2C%205.0%5D%2C%20%5B46.18909%2C%206.15399%2C%204.71%5D%2C%20%5B46.19868%2C%206.13601%2C%204.75%5D%2C%20%5B46.21345%2C%206.14948%2C%204.94%5D%2C%20%5B46.21055%2C%206.14977%2C%204.9%5D%2C%20%5B46.28608%2C%206.16409%2C%204.83%5D%2C%20%5B46.28469%2C%206.1629%2C%204.71%5D%2C%20%5B46.21987%2C%206.11366%2C%205.0%5D%2C%20%5B46.19716%2C%206.13842%2C%205.0%5D%2C%20%5B46.19965%2C%206.10251%2C%204.82%5D%2C%20%5B46.20103%2C%206.13179%2C%204.66%5D%2C%20%5B46.22104%2C%206.15031%2C%204.95%5D%2C%20%5B46.24367%2C%206.20789%2C%204.776940514224839%5D%2C%20%5B46.18776%2C%206.13717%2C%204.85%5D%2C%20%5B46.19925%2C%206.16219%2C%204.88%5D%2C%20%5B46.19644%2C%206.14426%2C%204.74%5D%2C%20%5B46.20845%2C%206.12718%2C%205.0%5D%2C%20%5B46.2028%2C%206.1658%2C%204.67%5D%2C%20%5B46.23606%2C%206.14047%2C%204.84%5D%2C%20%5B46.20754%2C%206.11971%2C%204.2%5D%2C%20%5B46.20561%2C%206.13057%2C%204.776940514224839%5D%2C%20%5B46.19514%2C%206.15168%2C%204.97%5D%2C%20%5B46.19588%2C%206.15023%2C%204.75%5D%2C%20%5B46.20641%2C%206.07623%2C%204.71%5D%2C%20%5B46.19819%2C%206.16405%2C%204.776940514224839%5D%2C%20%5B46.21067%2C%206.13895%2C%204.93%5D%2C%20%5B46.23845%2C%206.19989%2C%205.0%5D%2C%20%5B46.21043%2C%206.14472%2C%205.0%5D%2C%20%5B46.22563%2C%206.13231%2C%204.94%5D%2C%20%5B46.20503%2C%206.11745%2C%204.82%5D%2C%20%5B46.21916%2C%206.13887%2C%205.0%5D%2C%20%5B46.2011%2C%206.1632%2C%204.78%5D%2C%20%5B46.20357%2C%206.15735%2C%204.95%5D%2C%20%5B46.20119%2C%206.14965%2C%204.99%5D%2C%20%5B46.21104%2C%206.14196%2C%204.88%5D%2C%20%5B46.20266%2C%206.1509%2C%205.0%5D%2C%20%5B46.20904%2C%206.13369%2C%204.0%5D%2C%20%5B46.18748%2C%206.19472%2C%203.5%5D%2C%20%5B46.18408%2C%206.14212%2C%204.84%5D%2C%20%5B46.19342%2C%206.13923%2C%204.0%5D%2C%20%5B46.20819%2C%206.13704%2C%204.99%5D%2C%20%5B46.22507%2C%206.10936%2C%204.89%5D%2C%20%5B46.20113%2C%206.14674%2C%204.95%5D%2C%20%5B46.21954%2C%206.12511%2C%205.0%5D%2C%20%5B46.21742%2C%206.1398%2C%204.99%5D%2C%20%5B46.19842%2C%206.13845%2C%204.93%5D%2C%20%5B46.19375%2C%206.16817%2C%204.82%5D%2C%20%5B46.20979%2C%206.1376%2C%204.94%5D%2C%20%5B46.20197%2C%206.18492%2C%205.0%5D%2C%20%5B46.23884%2C%206.0822%2C%204.57%5D%2C%20%5B46.21035%2C%206.13012%2C%204.83%5D%2C%20%5B46.19369%2C%206.1471%2C%204.83%5D%2C%20%5B46.20314%2C%206.14471%2C%204.94%5D%2C%20%5B46.20947%2C%206.20361%2C%205.0%5D%2C%20%5B46.21018%2C%206.12355%2C%204.78%5D%2C%20%5B46.21266%2C%206.07889%2C%204.7%5D%2C%20%5B46.21257%2C%206.13434%2C%205.0%5D%2C%20%5B46.21373%2C%206.14772%2C%204.59%5D%2C%20%5B46.23024%2C%206.11944%2C%204.86%5D%2C%20%5B46.19959%2C%206.19799%2C%204.0%5D%2C%20%5B46.20425%2C%206.15943%2C%205.0%5D%2C%20%5B46.16605%2C%206.18302%2C%204.8%5D%2C%20%5B46.18618%2C%206.1035%2C%204.66%5D%2C%20%5B46.18479%2C%206.19367%2C%204.79%5D%2C%20%5B46.26585%2C%206.15306%2C%205.0%5D%2C%20%5B46.21372%2C%206.12828%2C%204.67%5D%2C%20%5B46.203%2C%206.14662%2C%204.92%5D%2C%20%5B46.21021%2C%206.1354%2C%204.8%5D%2C%20%5B46.21156%2C%206.14169%2C%204.87%5D%2C%20%5B46.20593%2C%206.14293%2C%204.98%5D%2C%20%5B46.20802%2C%206.14365%2C%205.0%5D%2C%20%5B46.20403%2C%206.14894%2C%204.95%5D%2C%20%5B46.23578%2C%206.07687%2C%204.776940514224839%5D%2C%20%5B46.20695%2C%206.19174%2C%204.86%5D%2C%20%5B46.1895%2C%206.07735%2C%204.776940514224839%5D%2C%20%5B46.21255%2C%206.12758%2C%204.81%5D%2C%20%5B46.20044%2C%206.1616%2C%204.69%5D%2C%20%5B46.20044%2C%206.1616%2C%204.63%5D%2C%20%5B46.20044%2C%206.1616%2C%204.53%5D%2C%20%5B46.20044%2C%206.1616%2C%204.2%5D%2C%20%5B46.19153%2C%206.13558%2C%204.79%5D%2C%20%5B46.2316%2C%206.07234%2C%204.776940514224839%5D%2C%20%5B46.20523%2C%206.12535%2C%205.0%5D%2C%20%5B46.21468%2C%206.13508%2C%204.97%5D%2C%20%5B46.21765%2C%206.13212%2C%204.8%5D%2C%20%5B46.21263%2C%206.14989%2C%204.93%5D%2C%20%5B46.21197%2C%206.14639%2C%204.92%5D%2C%20%5B46.19153%2C%206.15509%2C%204.79%5D%2C%20%5B46.19173%2C%206.14087%2C%204.8%5D%2C%20%5B46.20794%2C%206.13999%2C%204.33%5D%2C%20%5B46.21221%2C%206.14148%2C%204.67%5D%2C%20%5B46.21124%2C%206.13692%2C%204.93%5D%2C%20%5B46.22758%2C%206.11675%2C%205.0%5D%2C%20%5B46.20314%2C%206.12888%2C%205.0%5D%2C%20%5B46.18667%2C%206.11993%2C%204.93%5D%2C%20%5B46.21353%2C%206.12924%2C%204.83%5D%2C%20%5B46.1443%2C%206.04688%2C%204.7%5D%2C%20%5B46.20152%2C%206.16072%2C%204.67%5D%2C%20%5B46.18795%2C%206.15984%2C%204.776940514224839%5D%2C%20%5B46.25056%2C%206.14733%2C%204.776940514224839%5D%2C%20%5B46.19167%2C%206.16849%2C%204.83%5D%2C%20%5B46.2041%2C%206.1367%2C%204.76%5D%2C%20%5B46.20218%2C%206.09574%2C%204.75%5D%2C%20%5B46.19334%2C%206.14468%2C%204.81%5D%2C%20%5B46.19974%2C%206.16129%2C%204.43%5D%2C%20%5B46.19563%2C%206.16765%2C%205.0%5D%2C%20%5B46.2101%2C%206.13647%2C%204.67%5D%2C%20%5B46.20472%2C%206.16049%2C%205.0%5D%2C%20%5B46.22519%2C%206.13261%2C%204.86%5D%2C%20%5B46.19961%2C%206.15589%2C%204.94%5D%2C%20%5B46.28254%2C%206.15845%2C%204.63%5D%2C%20%5B46.19792%2C%206.16412%2C%204.776940514224839%5D%2C%20%5B46.1643%2C%206.0199%2C%204.44%5D%2C%20%5B46.21357%2C%206.15047%2C%204.776940514224839%5D%2C%20%5B46.19726%2C%206.14154%2C%204.88%5D%2C%20%5B46.19558%2C%206.14834%2C%205.0%5D%2C%20%5B46.18864%2C%206.13834%2C%205.0%5D%2C%20%5B46.20059%2C%206.15707%2C%204.5%5D%2C%20%5B46.17323%2C%206.12328%2C%204.55%5D%2C%20%5B46.20625%2C%206.16228%2C%204.776940514224839%5D%2C%20%5B46.23544%2C%206.12614%2C%204.91%5D%2C%20%5B46.21444%2C%206.14745%2C%204.83%5D%2C%20%5B46.20352%2C%206.11384%2C%204.6%5D%2C%20%5B46.19239%2C%206.15492%2C%204.49%5D%2C%20%5B46.21462%2C%206.13315%2C%204.78%5D%2C%20%5B46.2226%2C%206.13195%2C%204.78%5D%2C%20%5B46.23343%2C%206.11445%2C%204.9%5D%2C%20%5B46.21293%2C%206.12035%2C%204.62%5D%2C%20%5B46.18307%2C%206.11167%2C%204.36%5D%2C%20%5B46.22557%2C%206.11742%2C%204.67%5D%2C%20%5B46.21003%2C%206.13729%2C%204.89%5D%2C%20%5B46.21385%2C%206.15136%2C%204.95%5D%2C%20%5B46.20206%2C%206.1366%2C%204.88%5D%2C%20%5B46.19859%2C%206.14819%2C%205.0%5D%2C%20%5B46.19877%2C%206.14043%2C%204.776940514224839%5D%2C%20%5B46.23017%2C%206.07229%2C%204.88%5D%2C%20%5B46.18876%2C%206.11853%2C%204.9%5D%2C%20%5B46.21258%2C%206.13236%2C%204.72%5D%2C%20%5B46.19192%2C%206.14607%2C%204.776940514224839%5D%2C%20%5B46.21128%2C%206.1463%2C%204.96%5D%2C%20%5B46.24305%2C%206.14388%2C%204.776940514224839%5D%2C%20%5B46.23662%2C%206.19695%2C%204.84%5D%2C%20%5B46.2021%2C%206.17312%2C%204.65%5D%2C%20%5B46.21472%2C%206.14766%2C%204.776940514224839%5D%2C%20%5B46.21233%2C%206.15088%2C%205.0%5D%2C%20%5B46.26158%2C%206.20874%2C%204.776940514224839%5D%2C%20%5B46.22137%2C%206.13594%2C%204.81%5D%2C%20%5B46.20179%2C%206.14635%2C%204.98%5D%2C%20%5B46.21137%2C%206.14896%2C%204.75%5D%2C%20%5B46.20465%2C%206.12326%2C%204.83%5D%2C%20%5B46.19947%2C%206.22208%2C%204.37%5D%2C%20%5B46.20383%2C%206.12349%2C%204.75%5D%2C%20%5B46.2925%2C%206.1635%2C%204.776940514224839%5D%2C%20%5B46.18791%2C%206.14261%2C%205.0%5D%2C%20%5B46.20292%2C%206.16019%2C%204.776940514224839%5D%2C%20%5B46.19092%2C%206.15354%2C%204.73%5D%2C%20%5B46.20969%2C%206.123%2C%204.88%5D%2C%20%5B46.22357%2C%206.12613%2C%204.95%5D%2C%20%5B46.20041%2C%206.16334%2C%205.0%5D%2C%20%5B46.21808%2C%206.09233%2C%204.62%5D%2C%20%5B46.21052%2C%206.13752%2C%205.0%5D%2C%20%5B46.19891%2C%206.19998%2C%204.72%5D%2C%20%5B46.16385%2C%206.02289%2C%205.0%5D%2C%20%5B46.20072%2C%206.15466%2C%204.91%5D%2C%20%5B46.21295%2C%206.13546%2C%204.95%5D%2C%20%5B46.19873%2C%206.13707%2C%205.0%5D%2C%20%5B46.20084%2C%206.16204%2C%204.76%5D%2C%20%5B46.17358%2C%206.12328%2C%204.46%5D%2C%20%5B46.20871%2C%206.13978%2C%204.71%5D%2C%20%5B46.2323%2C%206.19739%2C%205.0%5D%2C%20%5B46.21086%2C%206.13425%2C%204.776940514224839%5D%2C%20%5B46.19171%2C%206.10237%2C%204.67%5D%2C%20%5B46.20924%2C%206.13304%2C%205.0%5D%2C%20%5B46.18037%2C%206.08823%2C%204.776940514224839%5D%2C%20%5B46.20494%2C%206.13605%2C%204.78%5D%2C%20%5B46.20991%2C%206.14625%2C%204.92%5D%2C%20%5B46.28569%2C%206.16251%2C%204.776940514224839%5D%2C%20%5B46.21901%2C%206.1091%2C%204.46%5D%2C%20%5B46.20328%2C%206.16026%2C%204.93%5D%2C%20%5B46.20955%2C%206.13877%2C%204.91%5D%2C%20%5B46.20937%2C%206.13477%2C%205.0%5D%2C%20%5B46.20617%2C%206.1285%2C%204.78%5D%2C%20%5B46.18863%2C%206.15989%2C%204.8%5D%2C%20%5B46.21393%2C%206.14712%2C%204.59%5D%2C%20%5B46.21416%2C%206.14698%2C%204.776940514224839%5D%2C%20%5B46.20735%2C%206.14109%2C%204.97%5D%2C%20%5B46.22027%2C%206.10987%2C%204.41%5D%2C%20%5B46.20308%2C%206.1583%2C%204.87%5D%2C%20%5B46.21242%2C%206.15006%2C%204.7%5D%2C%20%5B46.21105%2C%206.14282%2C%205.0%5D%2C%20%5B46.20893%2C%206.12743%2C%204.5%5D%2C%20%5B46.23193%2C%206.12338%2C%205.0%5D%2C%20%5B46.16572%2C%206.14018%2C%204.78%5D%2C%20%5B46.20177%2C%206.146%2C%204.98%5D%2C%20%5B46.20996%2C%206.137%2C%204.87%5D%2C%20%5B46.22722%2C%206.06988%2C%204.78%5D%2C%20%5B46.18934%2C%206.14432%2C%204.25%5D%2C%20%5B46.21035%2C%206.13557%2C%204.81%5D%2C%20%5B46.19843%2C%206.14217%2C%204.96%5D%2C%20%5B46.20259%2C%206.14457%2C%204.92%5D%2C%20%5B46.20164%2C%206.17264%2C%204.37%5D%2C%20%5B46.19093%2C%206.11119%2C%204.776940514224839%5D%2C%20%5B46.21297%2C%206.14931%2C%204.86%5D%2C%20%5B46.20529%2C%206.12725%2C%204.5%5D%2C%20%5B46.19552%2C%206.16073%2C%204.5%5D%2C%20%5B46.20756%2C%206.13527%2C%204.81%5D%2C%20%5B46.29434%2C%206.16387%2C%204.58%5D%2C%20%5B46.20026%2C%206.12844%2C%204.68%5D%2C%20%5B46.21059%2C%206.14763%2C%204.55%5D%2C%20%5B46.17512%2C%206.12135%2C%204.68%5D%2C%20%5B46.2133%2C%206.15061%2C%204.89%5D%2C%20%5B46.14982%2C%206.12522%2C%204.79%5D%2C%20%5B46.19323%2C%206.15946%2C%204.89%5D%2C%20%5B46.2002%2C%206.16352%2C%204.67%5D%2C%20%5B46.19939%2C%206.14928%2C%205.0%5D%2C%20%5B46.20604%2C%206.11307%2C%204.776940514224839%5D%2C%20%5B46.17897%2C%206.14301%2C%204.67%5D%2C%20%5B46.20414%2C%206.14319%2C%204.94%5D%2C%20%5B46.17937%2C%206.14687%2C%204.776940514224839%5D%2C%20%5B46.18865%2C%206.13314%2C%204.76%5D%2C%20%5B46.21397%2C%206.14886%2C%205.0%5D%2C%20%5B46.19981%2C%206.14845%2C%205.0%5D%2C%20%5B46.19482%2C%206.14967%2C%204.89%5D%2C%20%5B46.18709%2C%206.1344%2C%204.35%5D%2C%20%5B46.20044%2C%206.1616%2C%204.86%5D%2C%20%5B46.20044%2C%206.1616%2C%204.27%5D%2C%20%5B46.20823%2C%206.14502%2C%205.0%5D%2C%20%5B46.2013%2C%206.14754%2C%205.0%5D%2C%20%5B46.21438%2C%206.14801%2C%204.88%5D%2C%20%5B46.20124%2C%206.15863%2C%205.0%5D%2C%20%5B46.20352%2C%206.16029%2C%204.94%5D%2C%20%5B46.21006%2C%206.13928%2C%204.96%5D%2C%20%5B46.20813%2C%206.1295%2C%204.75%5D%2C%20%5B46.19056%2C%206.13459%2C%204.29%5D%2C%20%5B46.22114%2C%206.11093%2C%204.85%5D%2C%20%5B46.25229%2C%206.14632%2C%204.8%5D%2C%20%5B46.20871%2C%206.12678%2C%205.0%5D%2C%20%5B46.21149%2C%206.14751%2C%204.9%5D%2C%20%5B46.21433%2C%206.14742%2C%204.67%5D%2C%20%5B46.20192%2C%206.1464%2C%204.95%5D%2C%20%5B46.21042%2C%206.12744%2C%204.776940514224839%5D%2C%20%5B46.21155%2C%206.14892%2C%204.96%5D%2C%20%5B46.21142%2C%206.14438%2C%204.776940514224839%5D%2C%20%5B46.21628%2C%206.1275%2C%201.0%5D%2C%20%5B46.20648%2C%206.16401%2C%204.98%5D%2C%20%5B46.20968%2C%206.14751%2C%204.91%5D%2C%20%5B46.20229%2C%206.16156%2C%204.92%5D%2C%20%5B46.20039%2C%206.17554%2C%204.76%5D%2C%20%5B46.21626%2C%206.12615%2C%205.0%5D%2C%20%5B46.21566%2C%206.1247%2C%204.776940514224839%5D%2C%20%5B46.21202%2C%206.12819%2C%204.79%5D%2C%20%5B46.19689%2C%206.14526%2C%204.776940514224839%5D%2C%20%5B46.23519%2C%206.12771%2C%204.88%5D%2C%20%5B46.20303%2C%206.1372%2C%204.93%5D%2C%20%5B46.23021%2C%206.08333%2C%204.84%5D%2C%20%5B46.20923%2C%206.12312%2C%204.7%5D%2C%20%5B46.20375%2C%206.12933%2C%204.71%5D%2C%20%5B46.21074%2C%206.14934%2C%204.75%5D%2C%20%5B46.19656%2C%206.16219%2C%204.77%5D%2C%20%5B46.20021%2C%206.12736%2C%204.73%5D%2C%20%5B46.18505%2C%206.1092%2C%205.0%5D%2C%20%5B46.21153%2C%206.15101%2C%204.92%5D%2C%20%5B46.22441%2C%206.1291%2C%204.71%5D%2C%20%5B46.20218%2C%206.19821%2C%204.776940514224839%5D%2C%20%5B46.20784%2C%206.14218%2C%204.83%5D%2C%20%5B46.22445%2C%206.12429%2C%204.92%5D%2C%20%5B46.23528%2C%206.12517%2C%204.83%5D%2C%20%5B46.18099%2C%206.14105%2C%204.85%5D%2C%20%5B46.20224%2C%206.14551%2C%205.0%5D%2C%20%5B46.20084%2C%206.14747%2C%204.9%5D%2C%20%5B46.29627%2C%206.24268%2C%205.0%5D%2C%20%5B46.18664%2C%206.10468%2C%204.776940514224839%5D%2C%20%5B46.21693%2C%206.18698%2C%205.0%5D%2C%20%5B46.20768%2C%206.14224%2C%204.89%5D%2C%20%5B46.24333%2C%206.14638%2C%204.96%5D%2C%20%5B46.21607%2C%206.03834%2C%204.66%5D%2C%20%5B46.23313%2C%206.12515%2C%204.67%5D%2C%20%5B46.20128%2C%206.16826%2C%205.0%5D%2C%20%5B46.19021%2C%206.17448%2C%204.67%5D%2C%20%5B46.20121%2C%206.15404%2C%205.0%5D%2C%20%5B46.24708%2C%206.23524%2C%204.0%5D%2C%20%5B46.19568%2C%206.14309%2C%205.0%5D%2C%20%5B46.21157%2C%206.13576%2C%204.85%5D%2C%20%5B46.18561%2C%206.10013%2C%204.776940514224839%5D%2C%20%5B46.20963%2C%206.13826%2C%205.0%5D%2C%20%5B46.21146%2C%206.14975%2C%205.0%5D%2C%20%5B46.21887%2C%206.1387%2C%204.89%5D%2C%20%5B46.18178%2C%206.12124%2C%205.0%5D%2C%20%5B46.23291%2C%206.12485%2C%205.0%5D%2C%20%5B46.23375%2C%206.12115%2C%204.87%5D%2C%20%5B46.19849%2C%206.18927%2C%204.72%5D%2C%20%5B46.19086%2C%206.14506%2C%204.93%5D%2C%20%5B46.19734%2C%206.11949%2C%201.0%5D%2C%20%5B46.21275%2C%206.15445%2C%204.93%5D%2C%20%5B46.21189%2C%206.14807%2C%204.97%5D%2C%20%5B46.20763%2C%206.07441%2C%204.5%5D%2C%20%5B46.21137%2C%206.13409%2C%204.68%5D%2C%20%5B46.21062%2C%206.12413%2C%204.85%5D%2C%20%5B46.19537%2C%206.1446%2C%205.0%5D%2C%20%5B46.22131%2C%206.1054%2C%204.84%5D%2C%20%5B46.20161%2C%206.14662%2C%204.97%5D%2C%20%5B46.20085%2C%206.14434%2C%204.96%5D%2C%20%5B46.20667%2C%206.12995%2C%205.0%5D%2C%20%5B46.14343%2C%206.13658%2C%204.42%5D%2C%20%5B46.18884%2C%206.13909%2C%204.95%5D%2C%20%5B46.1942%2C%206.14594%2C%204.95%5D%2C%20%5B46.20703%2C%206.12672%2C%205.0%5D%2C%20%5B46.21119%2C%206.14801%2C%204.88%5D%2C%20%5B46.28413%2C%206.16171%2C%204.776940514224839%5D%2C%20%5B46.20407%2C%206.15915%2C%204.77%5D%2C%20%5B46.21397%2C%206.14655%2C%204.44%5D%2C%20%5B46.21528%2C%206.14824%2C%204.57%5D%2C%20%5B46.23728%2C%206.12605%2C%204.93%5D%2C%20%5B46.20349%2C%206.13694%2C%204.54%5D%2C%20%5B46.20107%2C%206.16303%2C%204.75%5D%2C%20%5B46.214%2C%206.13012%2C%204.6%5D%2C%20%5B46.17592%2C%206.10937%2C%205.0%5D%2C%20%5B46.20285%2C%206.14408%2C%204.89%5D%2C%20%5B46.16825%2C%206.12615%2C%205.0%5D%2C%20%5B46.19609%2C%206.14445%2C%205.0%5D%2C%20%5B46.19607%2C%206.14266%2C%204.63%5D%2C%20%5B46.19323%2C%206.14477%2C%205.0%5D%2C%20%5B46.19952%2C%206.15761%2C%204.8%5D%2C%20%5B46.22387%2C%206.10699%2C%205.0%5D%2C%20%5B46.1838%2C%206.14143%2C%205.0%5D%2C%20%5B46.19508%2C%206.15393%2C%205.0%5D%2C%20%5B46.21743%2C%206.11746%2C%204.69%5D%2C%20%5B46.20249%2C%206.15995%2C%204.9%5D%2C%20%5B46.21517%2C%206.13515%2C%204.9%5D%2C%20%5B46.20198%2C%206.17029%2C%204.85%5D%2C%20%5B46.19977%2C%206.15022%2C%205.0%5D%2C%20%5B46.17471%2C%206.11017%2C%205.0%5D%2C%20%5B46.20955%2C%206.14505%2C%204.97%5D%2C%20%5B46.19154%2C%206.13741%2C%204.81%5D%2C%20%5B46.20441%2C%206.1841%2C%204.776940514224839%5D%2C%20%5B46.19286%2C%206.20646%2C%204.78%5D%2C%20%5B46.20595%2C%206.12955%2C%204.75%5D%2C%20%5B46.1883%2C%206.12025%2C%204.78%5D%2C%20%5B46.22539%2C%206.06661%2C%204.38%5D%2C%20%5B46.20242%2C%206.16001%2C%205.0%5D%2C%20%5B46.20951%2C%206.1336%2C%204.93%5D%2C%20%5B46.15187%2C%206.0888%2C%204.83%5D%2C%20%5B46.20892%2C%206.12499%2C%204.73%5D%2C%20%5B46.21758%2C%206.14729%2C%205.0%5D%2C%20%5B46.20039%2C%206.17554%2C%205.0%5D%2C%20%5B46.21638%2C%206.13491%2C%205.0%5D%2C%20%5B46.19781%2C%206.17749%2C%204.6%5D%2C%20%5B46.21044%2C%206.14992%2C%205.0%5D%2C%20%5B46.20887%2C%206.14117%2C%204.776940514224839%5D%2C%20%5B46.19501%2C%206.16903%2C%204.63%5D%2C%20%5B46.17776%2C%206.12365%2C%204.85%5D%2C%20%5B46.22014%2C%206.26924%2C%204.776940514224839%5D%2C%20%5B46.21837%2C%206.13592%2C%204.94%5D%2C%20%5B46.25017%2C%206.14597%2C%204.6%5D%2C%20%5B46.18948%2C%206.1648%2C%205.0%5D%2C%20%5B46.21257%2C%206.14532%2C%204.84%5D%2C%20%5B46.20537%2C%206.15907%2C%205.0%5D%2C%20%5B46.18509%2C%206.14146%2C%205.0%5D%2C%20%5B46.21547%2C%206.18082%2C%201.0%5D%2C%20%5B46.20344%2C%206.16109%2C%204.776940514224839%5D%2C%20%5B46.2167%2C%206.14715%2C%204.71%5D%2C%20%5B46.18816%2C%206.15348%2C%204.89%5D%2C%20%5B46.21134%2C%206.1487%2C%204.82%5D%2C%20%5B46.19962%2C%206.14918%2C%205.0%5D%2C%20%5B46.20587%2C%206.12751%2C%204.67%5D%2C%20%5B46.20556%2C%206.13211%2C%204.92%5D%2C%20%5B46.20211%2C%206.14528%2C%204.776940514224839%5D%2C%20%5B46.19977%2C%206.13937%2C%204.95%5D%2C%20%5B46.22428%2C%206.1249%2C%205.0%5D%2C%20%5B46.20236%2C%206.15018%2C%205.0%5D%2C%20%5B46.21409%2C%206.12918%2C%204.75%5D%2C%20%5B46.29089%2C%206.16343%2C%205.0%5D%2C%20%5B46.21505%2C%206.1481%2C%204.83%5D%2C%20%5B46.20712%2C%206.14319%2C%204.9%5D%2C%20%5B46.21418%2C%206.15084%2C%204.86%5D%2C%20%5B46.1976%2C%206.16994%2C%204.93%5D%2C%20%5B46.19839%2C%206.14859%2C%204.93%5D%2C%20%5B46.20248%2C%206.15848%2C%204.83%5D%2C%20%5B46.18855%2C%206.15366%2C%204.82%5D%2C%20%5B46.18739%2C%206.13626%2C%204.8%5D%2C%20%5B46.20187%2C%206.12827%2C%204.776940514224839%5D%2C%20%5B46.20966%2C%206.14963%2C%204.75%5D%2C%20%5B46.20931%2C%206.14874%2C%204.82%5D%2C%20%5B46.28673%2C%206.16054%2C%205.0%5D%2C%20%5B46.20768%2C%206.13889%2C%204.82%5D%2C%20%5B46.22182%2C%206.12978%2C%205.0%5D%2C%20%5B46.1628%2C%206.12931%2C%205.0%5D%2C%20%5B46.19397%2C%206.14402%2C%205.0%5D%2C%20%5B46.20703%2C%206.13059%2C%204.75%5D%2C%20%5B46.21194%2C%206.13312%2C%204.83%5D%2C%20%5B46.2007%2C%206.13132%2C%205.0%5D%2C%20%5B46.18903%2C%206.14356%2C%204.89%5D%2C%20%5B46.20117%2C%206.15821%2C%204.64%5D%2C%20%5B46.20355%2C%206.1643%2C%204.776940514224839%5D%2C%20%5B46.19752%2C%206.15523%2C%205.0%5D%2C%20%5B46.24596%2C%206.14438%2C%204.79%5D%2C%20%5B46.20225%2C%206.16238%2C%205.0%5D%2C%20%5B46.2153%2C%206.12785%2C%204.776940514224839%5D%2C%20%5B46.16278%2C%206.1814%2C%204.776940514224839%5D%2C%20%5B46.2004%2C%206.1307%2C%204.84%5D%2C%20%5B46.20507%2C%206.14259%2C%204.96%5D%2C%20%5B46.21336%2C%206.13463%2C%204.91%5D%2C%20%5B46.19114%2C%206.10863%2C%204.5%5D%2C%20%5B46.25663%2C%206.15174%2C%205.0%5D%2C%20%5B46.22938%2C%206.0803%2C%205.0%5D%2C%20%5B46.24678%2C%206.13767%2C%204.776940514224839%5D%2C%20%5B46.19441%2C%206.14579%2C%204.84%5D%2C%20%5B46.16675%2C%206.00641%2C%204.57%5D%2C%20%5B46.19769%2C%206.15464%2C%204.79%5D%2C%20%5B46.24256%2C%206.14593%2C%205.0%5D%2C%20%5B46.2035%2C%206.1589%2C%205.0%5D%2C%20%5B46.19921%2C%206.13008%2C%204.78%5D%2C%20%5B46.228%2C%206.10826%2C%204.96%5D%2C%20%5B46.20726%2C%206.14627%2C%205.0%5D%2C%20%5B46.20847%2C%206.14035%2C%204.99%5D%2C%20%5B46.2306%2C%206.078%2C%204.67%5D%2C%20%5B46.18707%2C%206.15588%2C%204.56%5D%2C%20%5B46.20163%2C%206.17188%2C%204.8%5D%2C%20%5B46.22528%2C%206.1288%2C%205.0%5D%2C%20%5B46.23122%2C%206.11851%2C%204.78%5D%2C%20%5B46.19383%2C%206.14446%2C%204.75%5D%2C%20%5B46.21373%2C%206.12415%2C%204.79%5D%2C%20%5B46.21327%2C%206.15018%2C%205.0%5D%2C%20%5B46.21578%2C%206.11944%2C%205.0%5D%2C%20%5B46.19898%2C%206.14759%2C%205.0%5D%2C%20%5B46.20871%2C%206.12257%2C%205.0%5D%2C%20%5B46.20416%2C%206.17458%2C%204.776940514224839%5D%2C%20%5B46.21276%2C%206.13526%2C%205.0%5D%2C%20%5B46.21023%2C%206.1283%2C%204.87%5D%2C%20%5B46.21668%2C%206.14562%2C%205.0%5D%2C%20%5B46.26363%2C%206.2234%2C%203.67%5D%2C%20%5B46.2073%2C%206.12989%2C%204.82%5D%2C%20%5B46.20618%2C%206.17868%2C%204.776940514224839%5D%2C%20%5B46.21051%2C%206.13144%2C%204.92%5D%2C%20%5B46.18839%2C%206.15593%2C%205.0%5D%2C%20%5B46.20921%2C%206.1343%2C%205.0%5D%2C%20%5B46.19943%2C%206.13723%2C%205.0%5D%2C%20%5B46.20488%2C%206.15996%2C%205.0%5D%2C%20%5B46.20984%2C%206.11282%2C%204.61%5D%2C%20%5B46.20502%2C%206.16256%2C%204.92%5D%2C%20%5B46.28752%2C%206.16274%2C%204.67%5D%2C%20%5B46.22498%2C%206.11394%2C%205.0%5D%2C%20%5B46.21117%2C%206.13528%2C%205.0%5D%2C%20%5B46.20585%2C%206.16167%2C%205.0%5D%2C%20%5B46.19881%2C%206.13945%2C%204.92%5D%2C%20%5B46.20106%2C%206.16799%2C%204.72%5D%2C%20%5B46.20254%2C%206.15953%2C%205.0%5D%2C%20%5B46.21102%2C%206.11531%2C%204.79%5D%2C%20%5B46.19604%2C%206.14401%2C%204.92%5D%2C%20%5B46.2006%2C%206.17549%2C%204.33%5D%2C%20%5B46.20927%2C%206.1244%2C%204.8%5D%2C%20%5B46.20506%2C%206.11057%2C%202.0%5D%2C%20%5B46.21866%2C%206.12299%2C%205.0%5D%2C%20%5B46.20335%2C%206.13591%2C%204.52%5D%2C%20%5B46.20326%2C%206.13587%2C%204.776940514224839%5D%2C%20%5B46.20713%2C%206.14275%2C%204.96%5D%2C%20%5B46.20955%2C%206.12275%2C%204.8%5D%2C%20%5B46.21043%2C%206.12382%2C%205.0%5D%2C%20%5B46.21104%2C%206.12391%2C%204.776940514224839%5D%2C%20%5B46.2024%2C%206.15949%2C%204.95%5D%2C%20%5B46.19925%2C%206.16219%2C%204.8%5D%2C%20%5B46.20967%2C%206.11944%2C%204.79%5D%2C%20%5B46.22138%2C%206.14709%2C%205.0%5D%2C%20%5B46.20213%2C%206.12996%2C%204.8%5D%2C%20%5B46.22062%2C%206.14817%2C%204.776940514224839%5D%2C%20%5B46.21042%2C%206.1354%2C%204.82%5D%2C%20%5B46.1899%2C%206.14702%2C%204.9%5D%2C%20%5B46.20433%2C%206.1609%2C%205.0%5D%2C%20%5B46.20454%2C%206.18315%2C%204.77%5D%2C%20%5B46.21347%2C%206.14929%2C%204.8%5D%2C%20%5B46.24297%2C%206.14567%2C%205.0%5D%2C%20%5B46.20968%2C%206.12447%2C%204.56%5D%2C%20%5B46.20948%2C%206.13952%2C%204.97%5D%2C%20%5B46.21193%2C%206.13495%2C%204.91%5D%2C%20%5B46.16841%2C%206.12214%2C%204.82%5D%2C%20%5B46.21056%2C%206.14996%2C%204.92%5D%2C%20%5B46.19558%2C%206.16082%2C%204.8%5D%2C%20%5B46.20077%2C%206.12759%2C%204.86%5D%2C%20%5B46.20926%2C%206.12409%2C%204.71%5D%2C%20%5B46.20127%2C%206.13029%2C%204.67%5D%2C%20%5B46.18992%2C%206.14504%2C%205.0%5D%2C%20%5B46.19779%2C%206.13555%2C%205.0%5D%2C%20%5B46.19915%2C%206.16629%2C%205.0%5D%2C%20%5B46.21521%2C%206.14779%2C%204.81%5D%2C%20%5B46.20285%2C%206.17234%2C%204.51%5D%2C%20%5B46.20173%2C%206.12173%2C%204.83%5D%2C%20%5B46.21781%2C%206.12369%2C%205.0%5D%2C%20%5B46.21278%2C%206.1458%2C%205.0%5D%2C%20%5B46.21056%2C%206.14802%2C%205.0%5D%2C%20%5B46.21414%2C%206.14663%2C%204.79%5D%2C%20%5B46.19818%2C%206.17598%2C%204.89%5D%2C%20%5B46.21264%2C%206.13259%2C%204.776940514224839%5D%2C%20%5B46.21082%2C%206.14288%2C%204.74%5D%2C%20%5B46.28823%2C%206.23256%2C%204.94%5D%2C%20%5B46.21059%2C%206.13367%2C%205.0%5D%2C%20%5B46.21162%2C%206.14612%2C%204.88%5D%2C%20%5B46.21202%2C%206.13294%2C%204.82%5D%2C%20%5B46.20826%2C%206.13245%2C%205.0%5D%2C%20%5B46.23515%2C%206.20412%2C%205.0%5D%2C%20%5B46.21357%2C%206.13137%2C%204.67%5D%2C%20%5B46.18279%2C%206.13654%2C%204.2%5D%2C%20%5B46.20593%2C%206.16276%2C%204.87%5D%2C%20%5B46.21478%2C%206.14834%2C%204.86%5D%2C%20%5B46.19109%2C%206.14498%2C%204.5%5D%2C%20%5B46.18174%2C%206.14373%2C%205.0%5D%2C%20%5B46.18479%2C%206.1458%2C%204.92%5D%2C%20%5B46.22137%2C%206.14995%2C%204.91%5D%2C%20%5B46.20082%2C%206.16131%2C%204.776940514224839%5D%2C%20%5B46.20175%2C%206.153%2C%204.86%5D%2C%20%5B46.19285%2C%206.11645%2C%204.68%5D%2C%20%5B46.20415%2C%206.13491%2C%204.79%5D%2C%20%5B46.1808%2C%206.11021%2C%204.71%5D%2C%20%5B46.22299%2C%206.12884%2C%204.79%5D%2C%20%5B46.18086%2C%206.14155%2C%204.7%5D%2C%20%5B46.20796%2C%206.14271%2C%204.776940514224839%5D%2C%20%5B46.18911%2C%206.1431%2C%204.7%5D%2C%20%5B46.19164%2C%206.15466%2C%204.776940514224839%5D%2C%20%5B46.18945%2C%206.15542%2C%205.0%5D%2C%20%5B46.20578%2C%206.12996%2C%204.83%5D%2C%20%5B46.16602%2C%206.18031%2C%204.89%5D%2C%20%5B46.18593%2C%206.13779%2C%203.67%5D%2C%20%5B46.19095%2C%206.15561%2C%204.86%5D%2C%20%5B46.20467%2C%206.1578%2C%204.89%5D%2C%20%5B46.28682%2C%206.15953%2C%205.0%5D%2C%20%5B46.23494%2C%206.12436%2C%204.79%5D%2C%20%5B46.24107%2C%206.09024%2C%204.776940514224839%5D%2C%20%5B46.20414%2C%206.13759%2C%205.0%5D%2C%20%5B46.20634%2C%206.1608%2C%204.8%5D%2C%20%5B46.20376%2C%206.13893%2C%204.776940514224839%5D%2C%20%5B46.20553%2C%206.12322%2C%204.85%5D%2C%20%5B46.18911%2C%206.13631%2C%205.0%5D%2C%20%5B46.19568%2C%206.14334%2C%205.0%5D%2C%20%5B46.19794%2C%206.13655%2C%204.94%5D%2C%20%5B46.17334%2C%206.12533%2C%204.33%5D%2C%20%5B46.22501%2C%206.12461%2C%204.67%5D%2C%20%5B46.2024%2C%206.13642%2C%204.82%5D%2C%20%5B46.22281%2C%206.12513%2C%204.78%5D%2C%20%5B46.23089%2C%206.07253%2C%204.64%5D%2C%20%5B46.1908%2C%206.1377%2C%204.776940514224839%5D%2C%20%5B46.20917%2C%206.12591%2C%204.776940514224839%5D%2C%20%5B46.19594%2C%206.1606%2C%204.93%5D%2C%20%5B46.20719%2C%206.13611%2C%204.83%5D%2C%20%5B46.2054%2C%206.16196%2C%204.92%5D%2C%20%5B46.23674%2C%206.0791%2C%204.86%5D%2C%20%5B46.20399%2C%206.1561%2C%205.0%5D%2C%20%5B46.20903%2C%206.14055%2C%204.87%5D%2C%20%5B46.20979%2C%206.11203%2C%204.6%5D%2C%20%5B46.19483%2C%206.15577%2C%204.89%5D%2C%20%5B46.23838%2C%206.12643%2C%204.89%5D%2C%20%5B46.18216%2C%206.15772%2C%204.81%5D%2C%20%5B46.14483%2C%206.14027%2C%205.0%5D%2C%20%5B46.22504%2C%206.10769%2C%204.89%5D%2C%20%5B46.20711%2C%206.14504%2C%204.86%5D%2C%20%5B46.19453%2C%206.12776%2C%204.33%5D%2C%20%5B46.19536%2C%206.12816%2C%204.25%5D%2C%20%5B46.19066%2C%206.14342%2C%204.93%5D%2C%20%5B46.21282%2C%206.14936%2C%205.0%5D%2C%20%5B46.30227%2C%206.24414%2C%205.0%5D%2C%20%5B46.17498%2C%206.12748%2C%204.55%5D%2C%20%5B46.20986%2C%206.13709%2C%204.83%5D%2C%20%5B46.19495%2C%206.1406%2C%204.98%5D%2C%20%5B46.28256%2C%206.2301%2C%204.8%5D%2C%20%5B46.24476%2C%206.19372%2C%204.776940514224839%5D%2C%20%5B46.21635%2C%206.13853%2C%205.0%5D%2C%20%5B46.2292%2C%206.12396%2C%205.0%5D%2C%20%5B46.18332%2C%206.14647%2C%204.93%5D%2C%20%5B46.18329%2C%206.14772%2C%204.74%5D%2C%20%5B46.1989%2C%206.14859%2C%205.0%5D%2C%20%5B46.18773%2C%206.14265%2C%204.67%5D%2C%20%5B46.19897%2C%206.17318%2C%204.776940514224839%5D%2C%20%5B46.2143%2C%206.12526%2C%204.75%5D%2C%20%5B46.1958%2C%206.1276%2C%204.75%5D%2C%20%5B46.28485%2C%206.15991%2C%204.0%5D%2C%20%5B46.19798%2C%206.19781%2C%204.81%5D%2C%20%5B46.19595%2C%205.99462%2C%204.776940514224839%5D%2C%20%5B46.1902%2C%206.1434%2C%204.88%5D%2C%20%5B46.19951%2C%206.16053%2C%204.9%5D%2C%20%5B46.20259%2C%206.17835%2C%204.88%5D%2C%20%5B46.19404%2C%206.16122%2C%204.73%5D%2C%20%5B46.2113%2C%206.22957%2C%204.4%5D%2C%20%5B46.18056%2C%206.13702%2C%204.84%5D%2C%20%5B46.20866%2C%206.12737%2C%204.0%5D%2C%20%5B46.2069%2C%206.18183%2C%204.5%5D%2C%20%5B46.18283%2C%206.14555%2C%205.0%5D%2C%20%5B46.21037%2C%206.14314%2C%204.95%5D%2C%20%5B46.21035%2C%206.1432%2C%205.0%5D%2C%20%5B46.20595%2C%206.13153%2C%205.0%5D%2C%20%5B46.21554%2C%206.13151%2C%204.776940514224839%5D%2C%20%5B46.20486%2C%206.16824%2C%205.0%5D%2C%20%5B46.23508%2C%206.26606%2C%204.83%5D%2C%20%5B46.20977%2C%206.12714%2C%204.88%5D%2C%20%5B46.20336%2C%206.15982%2C%205.0%5D%2C%20%5B46.21265%2C%206.2304%2C%204.776940514224839%5D%2C%20%5B46.20761%2C%206.13911%2C%204.92%5D%2C%20%5B46.20663%2C%206.12499%2C%204.67%5D%2C%20%5B46.20305%2C%206.15563%2C%204.97%5D%2C%20%5B46.19058%2C%206.14303%2C%204.89%5D%2C%20%5B46.20025%2C%206.13824%2C%204.95%5D%2C%20%5B46.19763%2C%206.0932%2C%204.776940514224839%5D%2C%20%5B46.20986%2C%206.14562%2C%204.776940514224839%5D%2C%20%5B46.18653%2C%206.13403%2C%205.0%5D%2C%20%5B46.21864%2C%206.14007%2C%205.0%5D%2C%20%5B46.20878%2C%206.14044%2C%205.0%5D%2C%20%5B46.20825%2C%206.14744%2C%205.0%5D%2C%20%5B46.20892%2C%206.14367%2C%204.85%5D%2C%20%5B46.20691%2C%206.1339%2C%204.82%5D%2C%20%5B46.20234%2C%206.2268%2C%204.0%5D%2C%20%5B46.17633%2C%206.11516%2C%205.0%5D%2C%20%5B46.17602%2C%206.15262%2C%204.45%5D%2C%20%5B46.28047%2C%206.15778%2C%204.94%5D%2C%20%5B46.20017%2C%206.1386%2C%205.0%5D%2C%20%5B46.20778%2C%206.07635%2C%204.57%5D%2C%20%5B46.18078%2C%206.09646%2C%205.0%5D%2C%20%5B46.21275%2C%206.15445%2C%204.8%5D%2C%20%5B46.1895%2C%206.14265%2C%204.9%5D%2C%20%5B46.22155%2C%206.1333%2C%205.0%5D%2C%20%5B46.17568%2C%206.12487%2C%205.0%5D%2C%20%5B46.20761%2C%206.10833%2C%204.776940514224839%5D%2C%20%5B46.20516%2C%206.18554%2C%204.776940514224839%5D%2C%20%5B46.20585%2C%206.10825%2C%201.0%5D%2C%20%5B46.20582%2C%206.10811%2C%204.776940514224839%5D%2C%20%5B46.20792%2C%206.13861%2C%204.7%5D%2C%20%5B46.21409%2C%206.14639%2C%204.9%5D%2C%20%5B46.19934%2C%206.14885%2C%204.97%5D%2C%20%5B46.21282%2C%206.14607%2C%204.776940514224839%5D%2C%20%5B46.19283%2C%206.13742%2C%205.0%5D%2C%20%5B46.19684%2C%206.14345%2C%204.92%5D%2C%20%5B46.20392%2C%206.18491%2C%204.46%5D%2C%20%5B46.19209%2C%206.16603%2C%204.68%5D%2C%20%5B46.21201%2C%206.12796%2C%204.5%5D%2C%20%5B46.20743%2C%206.12551%2C%204.82%5D%2C%20%5B46.21597%2C%206.14651%2C%205.0%5D%2C%20%5B46.20039%2C%206.17554%2C%204.82%5D%2C%20%5B46.20068%2C%206.10383%2C%205.0%5D%2C%20%5B46.21354%2C%206.12925%2C%204.56%5D%2C%20%5B46.22081%2C%206.1389%2C%204.86%5D%2C%20%5B46.19901%2C%206.14844%2C%205.0%5D%2C%20%5B46.2087%2C%206.14418%2C%205.0%5D%2C%20%5B46.20678%2C%206.16304%2C%205.0%5D%2C%20%5B46.20339%2C%206.1252%2C%205.0%5D%2C%20%5B46.21362%2C%206.18381%2C%204.86%5D%2C%20%5B46.20144%2C%206.21307%2C%204.64%5D%2C%20%5B46.20045%2C%206.12803%2C%205.0%5D%2C%20%5B46.215%2C%206.18367%2C%205.0%5D%2C%20%5B46.2138%2C%206.18358%2C%204.83%5D%2C%20%5B46.23594%2C%206.12432%2C%205.0%5D%2C%20%5B46.20145%2C%206.09901%2C%201.0%5D%2C%20%5B46.22131%2C%206.13862%2C%205.0%5D%2C%20%5B46.21548%2C%206.08172%2C%204.89%5D%2C%20%5B46.22485%2C%206.11854%2C%204.776940514224839%5D%2C%20%5B46.1873%2C%206.13293%2C%204.5%5D%2C%20%5B46.22644%2C%206.1287%2C%204.67%5D%2C%20%5B46.1994%2C%206.16254%2C%204.86%5D%2C%20%5B46.26075%2C%206.20304%2C%205.0%5D%2C%20%5B46.20039%2C%206.17554%2C%204.776940514224839%5D%2C%20%5B46.21187%2C%206.14888%2C%205.0%5D%2C%20%5B46.20039%2C%206.17554%2C%205.0%5D%2C%20%5B46.21712%2C%206.1181%2C%204.91%5D%2C%20%5B46.16992%2C%206.11956%2C%205.0%5D%2C%20%5B46.21238%2C%206.12689%2C%204.67%5D%2C%20%5B46.20572%2C%206.12715%2C%204.776940514224839%5D%2C%20%5B46.19872%2C%206.14756%2C%204.776940514224839%5D%2C%20%5B46.22529%2C%206.10608%2C%205.0%5D%2C%20%5B46.19249%2C%206.20681%2C%204.776940514224839%5D%2C%20%5B46.20947%2C%206.12659%2C%204.776940514224839%5D%2C%20%5B46.18969%2C%206.1521%2C%204.776940514224839%5D%2C%20%5B46.27225%2C%206.2187%2C%205.0%5D%2C%20%5B46.19526%2C%206.19207%2C%204.776940514224839%5D%2C%20%5B46.20238%2C%206.14496%2C%204.98%5D%2C%20%5B46.27648%2C%206.22281%2C%204.91%5D%2C%20%5B46.22794%2C%206.06842%2C%204.75%5D%2C%20%5B46.21541%2C%206.13554%2C%204.87%5D%2C%20%5B46.18356%2C%206.09722%2C%204.79%5D%2C%20%5B46.19973%2C%206.15909%2C%204.78%5D%2C%20%5B46.21315%2C%206.15115%2C%204.84%5D%2C%20%5B46.20762%2C%206.13508%2C%204.776940514224839%5D%2C%20%5B46.18884%2C%206.10551%2C%205.0%5D%2C%20%5B46.19454%2C%206.20389%2C%205.0%5D%2C%20%5B46.19592%2C%206.20912%2C%205.0%5D%2C%20%5B46.22944%2C%206.07699%2C%204.73%5D%2C%20%5B46.20577%2C%206.1625%2C%204.776940514224839%5D%2C%20%5B46.20923%2C%206.13645%2C%204.91%5D%2C%20%5B46.20742%2C%206.14468%2C%205.0%5D%2C%20%5B46.213%2C%206.15069%2C%205.0%5D%2C%20%5B46.20297%2C%206.16583%2C%204.36%5D%2C%20%5B46.2127%2C%206.12962%2C%204.78%5D%2C%20%5B46.20372%2C%206.18274%2C%205.0%5D%2C%20%5B46.19393%2C%206.15348%2C%204.776940514224839%5D%2C%20%5B46.19377%2C%206.15423%2C%204.776940514224839%5D%2C%20%5B46.1912%2C%206.13831%2C%204.0%5D%2C%20%5B46.19952%2C%206.15667%2C%204.94%5D%2C%20%5B46.21081%2C%206.1266%2C%204.78%5D%2C%20%5B46.18317%2C%206.13705%2C%204.776940514224839%5D%2C%20%5B46.19205%2C%206.1449%2C%204.77%5D%2C%20%5B46.21592%2C%206.14941%2C%204.776940514224839%5D%2C%20%5B46.19959%2C%206.17669%2C%204.776940514224839%5D%2C%20%5B46.21602%2C%206.14853%2C%205.0%5D%2C%20%5B46.20283%2C%206.14804%2C%204.776940514224839%5D%2C%20%5B46.2048%2C%206.15766%2C%204.776940514224839%5D%2C%20%5B46.18904%2C%206.15818%2C%205.0%5D%2C%20%5B46.2091%2C%206.12483%2C%201.0%5D%2C%20%5B46.18357%2C%206.13809%2C%204.776940514224839%5D%2C%20%5B46.20094%2C%206.102%2C%204.79%5D%2C%20%5B46.20175%2C%206.13641%2C%205.0%5D%2C%20%5B46.17299%2C%206.15776%2C%204.776940514224839%5D%2C%20%5B46.20684%2C%206.19833%2C%205.0%5D%2C%20%5B46.19352%2C%206.15367%2C%204.776940514224839%5D%2C%20%5B46.20629%2C%206.16141%2C%205.0%5D%2C%20%5B46.21107%2C%206.14552%2C%205.0%5D%2C%20%5B46.21514%2C%206.14834%2C%204.88%5D%2C%20%5B46.20522%2C%206.13399%2C%205.0%5D%2C%20%5B46.19062%2C%206.15489%2C%204.776940514224839%5D%2C%20%5B46.19388%2C%206.14268%2C%204.776940514224839%5D%2C%20%5B46.20625%2C%206.15979%2C%204.0%5D%2C%20%5B46.19219%2C%206.1455%2C%205.0%5D%2C%20%5B46.20489%2C%206.12545%2C%204.85%5D%2C%20%5B46.18317%2C%206.13822%2C%204.776940514224839%5D%2C%20%5B46.193165%2C%206.202672%2C%204.5%5D%2C%20%5B46.21101%2C%206.13529%2C%205.0%5D%2C%20%5B46.20938%2C%206.13868%2C%204.93%5D%2C%20%5B46.19215%2C%206.14676%2C%205.0%5D%2C%20%5B46.21045%2C%206.14612%2C%204.43%5D%2C%20%5B46.1879%2C%206.13703%2C%204.67%5D%2C%20%5B46.26076%2C%206.11993%2C%204.8%5D%2C%20%5B46.21069%2C%206.14481%2C%204.94%5D%2C%20%5B46.20318%2C%206.16615%2C%204.73%5D%2C%20%5B46.21372%2C%206.14824%2C%204.8%5D%2C%20%5B46.21629%2C%206.07861%2C%204.77%5D%2C%20%5B46.19153%2C%206.15605%2C%205.0%5D%2C%20%5B46.20864%2C%206.14559%2C%204.776940514224839%5D%2C%20%5B46.212%2C%206.12915%2C%204.93%5D%2C%20%5B46.19118%2C%206.14529%2C%204.81%5D%2C%20%5B46.20193%2C%206.16171%2C%204.58%5D%2C%20%5B46.22553%2C%206.11621%2C%204.91%5D%2C%20%5B46.20929%2C%206.12427%2C%205.0%5D%2C%20%5B46.17298%2C%206.12683%2C%204.776940514224839%5D%2C%20%5B46.21218%2C%206.14911%2C%204.79%5D%2C%20%5B46.18233%2C%206.13732%2C%204.67%5D%2C%20%5B46.20516%2C%206.12696%2C%205.0%5D%2C%20%5B46.20801%2C%206.14572%2C%205.0%5D%2C%20%5B46.30084%2C%206.24391%2C%205.0%5D%2C%20%5B46.20351%2C%206.15987%2C%205.0%5D%2C%20%5B46.19834%2C%206.13395%2C%204.0%5D%2C%20%5B46.14662%2C%206.13606%2C%204.57%5D%2C%20%5B46.20022%2C%206.13714%2C%205.0%5D%2C%20%5B46.2018%2C%206.19399%2C%204.79%5D%2C%20%5B46.20464%2C%206.15596%2C%205.0%5D%2C%20%5B46.20089%2C%206.14782%2C%204.99%5D%2C%20%5B46.18146%2C%206.12982%2C%203.57%5D%2C%20%5B46.19242%2C%206.14566%2C%204.67%5D%2C%20%5B46.18146%2C%206.12982%2C%203.57%5D%2C%20%5B46.2103%2C%206.14333%2C%204.88%5D%2C%20%5B46.2764%2C%206.16064%2C%204.9%5D%2C%20%5B46.21511%2C%206.13522%2C%204.86%5D%2C%20%5B46.22834%2C%206.11924%2C%204.86%5D%2C%20%5B46.20342%2C%206.16666%2C%205.0%5D%2C%20%5B46.23437%2C%206.12555%2C%205.0%5D%2C%20%5B46.19701%2C%206.16866%2C%204.89%5D%2C%20%5B46.19273%2C%206.14505%2C%205.0%5D%2C%20%5B46.18908%2C%206.15908%2C%204.92%5D%2C%20%5B46.1833%2C%206.0839%2C%201.0%5D%2C%20%5B46.19413%2C%206.14685%2C%205.0%5D%2C%20%5B46.25228%2C%206.2591%2C%204.776940514224839%5D%2C%20%5B46.18946%2C%206.15353%2C%204.5%5D%2C%20%5B46.20601%2C%206.13261%2C%204.776940514224839%5D%2C%20%5B46.21078%2C%206.14969%2C%204.85%5D%2C%20%5B46.21126%2C%206.1403%2C%204.87%5D%2C%20%5B46.2016%2C%206.15532%2C%205.0%5D%2C%20%5B46.28336%2C%206.16638%2C%204.84%5D%2C%20%5B46.20477%2C%206.15872%2C%204.92%5D%2C%20%5B46.20919%2C%206.1585%2C%204.776940514224839%5D%2C%20%5B46.20206%2C%206.17927%2C%204.67%5D%2C%20%5B46.21367%2C%206.13259%2C%204.776940514224839%5D%2C%20%5B46.24332%2C%206.20131%2C%205.0%5D%2C%20%5B46.18857%2C%206.10048%2C%203.0%5D%2C%20%5B46.19864%2C%206.14174%2C%204.776940514224839%5D%2C%20%5B46.20301%2C%206.18398%2C%204.776940514224839%5D%2C%20%5B46.29053%2C%206.16027%2C%204.61%5D%2C%20%5B46.20613%2C%206.12569%2C%204.87%5D%2C%20%5B46.21347%2C%206.14846%2C%204.776940514224839%5D%2C%20%5B46.20439%2C%206.15926%2C%205.0%5D%2C%20%5B46.23749%2C%206.10388%2C%204.776940514224839%5D%2C%20%5B46.23688%2C%206.12526%2C%204.2%5D%2C%20%5B46.23787%2C%206.12454%2C%204.93%5D%2C%20%5B46.20669%2C%206.13893%2C%204.85%5D%2C%20%5B46.20442%2C%206.15958%2C%205.0%5D%2C%20%5B46.20601%2C%206.14046%2C%204.88%5D%2C%20%5B46.23182%2C%206.19392%2C%205.0%5D%2C%20%5B46.21479%2C%206.13263%2C%205.0%5D%2C%20%5B46.22704%2C%206.06807%2C%205.0%5D%2C%20%5B46.18745%2C%206.10482%2C%204.776940514224839%5D%2C%20%5B46.1981%2C%206.16397%2C%204.71%5D%2C%20%5B46.19042%2C%206.11842%2C%204.776940514224839%5D%2C%20%5B46.20138%2C%206.128%2C%204.89%5D%2C%20%5B46.22014%2C%206.11213%2C%205.0%5D%2C%20%5B46.21542%2C%206.14853%2C%204.776940514224839%5D%2C%20%5B46.21355%2C%206.14825%2C%204.5%5D%2C%20%5B46.18335%2C%206.13879%2C%204.75%5D%2C%20%5B46.18348%2C%206.13708%2C%205.0%5D%2C%20%5B46.18267%2C%206.13675%2C%204.776940514224839%5D%2C%20%5B46.18213%2C%206.13755%2C%205.0%5D%2C%20%5B46.18186%2C%206.13839%2C%205.0%5D%2C%20%5B46.2021%2C%206.1629%2C%204.776940514224839%5D%2C%20%5B46.29301%2C%206.16348%2C%204.776940514224839%5D%2C%20%5B46.21477%2C%206.14686%2C%204.78%5D%2C%20%5B46.18383%2C%206.13677%2C%204.776940514224839%5D%2C%20%5B46.1838%2C%206.13762%2C%204.0%5D%2C%20%5B46.18254%2C%206.139%2C%205.0%5D%2C%20%5B46.18229%2C%206.13865%2C%205.0%5D%2C%20%5B46.21514%2C%206.14665%2C%204.776940514224839%5D%2C%20%5B46.21365%2C%206.14718%2C%204.5%5D%2C%20%5B46.2231%2C%206.14849%2C%204.89%5D%2C%20%5B46.21535%2C%206.14811%2C%205.0%5D%2C%20%5B46.21364%2C%206.14663%2C%204.0%5D%2C%20%5B46.18405%2C%206.1369%2C%204.0%5D%2C%20%5B46.18212%2C%206.13898%2C%204.776940514224839%5D%2C%20%5B46.18322%2C%206.13696%2C%205.0%5D%2C%20%5B46.18239%2C%206.13894%2C%204.776940514224839%5D%2C%20%5B46.18353%2C%206.13855%2C%205.0%5D%2C%20%5B46.18968%2C%206.13303%2C%205.0%5D%2C%20%5B46.18652%2C%206.13473%2C%205.0%5D%2C%20%5B46.18349%2C%206.13689%2C%204.776940514224839%5D%2C%20%5B46.18449%2C%206.13663%2C%204.776940514224839%5D%2C%20%5B46.18275%2C%206.13827%2C%204.776940514224839%5D%2C%20%5B46.18665%2C%206.13414%2C%204.776940514224839%5D%2C%20%5B46.19648%2C%206.13748%2C%204.776940514224839%5D%2C%20%5B46.20509%2C%206.13971%2C%204.67%5D%2C%20%5B46.20674%2C%206.14115%2C%204.38%5D%2C%20%5B46.19886%2C%206.16602%2C%204.776940514224839%5D%2C%20%5B46.21743%2C%206.11939%2C%204.9%5D%2C%20%5B46.20257%2C%206.1648%2C%204.776940514224839%5D%2C%20%5B46.22748%2C%206.12013%2C%205.0%5D%2C%20%5B46.20275%2C%206.22431%2C%204.776940514224839%5D%2C%20%5B46.17245%2C%206.05524%2C%204.776940514224839%5D%2C%20%5B46.16696%2C%206.12666%2C%205.0%5D%2C%20%5B46.18291%2C%206.09974%2C%204.776940514224839%5D%2C%20%5B46.21289%2C%206.19005%2C%205.0%5D%2C%20%5B46.20151%2C%206.14927%2C%204.776940514224839%5D%2C%20%5B46.14342%2C%206.13678%2C%204.776940514224839%5D%2C%20%5B46.23092%2C%206.07675%2C%201.0%5D%2C%20%5B46.23601%2C%206.1257%2C%204.77%5D%2C%20%5B46.1916%2C%206.16392%2C%205.0%5D%2C%20%5B46.20367%2C%206.13851%2C%204.85%5D%2C%20%5B46.18933%2C%206.12038%2C%204.776940514224839%5D%2C%20%5B46.20393%2C%206.13223%2C%204.64%5D%2C%20%5B46.22964%2C%206.07699%2C%204.6%5D%2C%20%5B46.21612%2C%206.13418%2C%204.776940514224839%5D%2C%20%5B46.21811%2C%206.1469%2C%205.0%5D%2C%20%5B46.19408%2C%206.15441%2C%204.776940514224839%5D%2C%20%5B46.18777%2C%206.12215%2C%204.776940514224839%5D%2C%20%5B46.18877%2C%206.14512%2C%205.0%5D%2C%20%5B46.19566%2C%206.15507%2C%205.0%5D%2C%20%5B46.21236%2C%206.14961%2C%205.0%5D%2C%20%5B46.20595%2C%206.14323%2C%205.0%5D%2C%20%5B46.19935%2C%206.09299%2C%204.25%5D%2C%20%5B46.17513%2C%206.12011%2C%204.4%5D%2C%20%5B46.24353%2C%206.19919%2C%205.0%5D%2C%20%5B46.20544%2C%206.14385%2C%204.42%5D%2C%20%5B46.21717%2C%206.13643%2C%204.776940514224839%5D%2C%20%5B46.16669%2C%206.13542%2C%204.5%5D%2C%20%5B46.18019%2C%206.13898%2C%204.75%5D%2C%20%5B46.14996%2C%206.16172%2C%204.776940514224839%5D%2C%20%5B46.2024%2C%206.16445%2C%204.76%5D%2C%20%5B46.1935%2C%206.15558%2C%205.0%5D%2C%20%5B46.21522%2C%206.14714%2C%205.0%5D%2C%20%5B46.19376%2C%206.15383%2C%204.776940514224839%5D%2C%20%5B46.19422%2C%206.15395%2C%204.776940514224839%5D%2C%20%5B46.19692%2C%206.15947%2C%205.0%5D%2C%20%5B46.20693%2C%206.12803%2C%204.8%5D%2C%20%5B46.20633%2C%206.13806%2C%205.0%5D%2C%20%5B46.202%2C%206.13871%2C%205.0%5D%2C%20%5B46.19369%2C%206.15502%2C%205.0%5D%2C%20%5B46.19572%2C%206.12231%2C%204.27%5D%2C%20%5B46.18477%2C%206.19308%2C%204.91%5D%2C%20%5B46.19528%2C%206.15367%2C%204.776940514224839%5D%2C%20%5B46.20163%2C%206.15309%2C%204.776940514224839%5D%2C%20%5B46.19572%2C%206.16715%2C%204.64%5D%2C%20%5B46.19972%2C%206.16508%2C%205.0%5D%2C%20%5B46.19379%2C%206.20381%2C%204.776940514224839%5D%2C%20%5B46.22039%2C%206.14773%2C%204.8%5D%2C%20%5B46.23478%2C%206.126%2C%204.776940514224839%5D%2C%20%5B46.2349%2C%206.12558%2C%205.0%5D%2C%20%5B46.23465%2C%206.1245%2C%204.776940514224839%5D%2C%20%5B46.21614%2C%206.1286%2C%204.63%5D%2C%20%5B46.19755%2C%206.17773%2C%204.73%5D%2C%20%5B46.21445%2C%206.14937%2C%205.0%5D%2C%20%5B46.21059%2C%206.14568%2C%205.0%5D%2C%20%5B46.2276%2C%206.12494%2C%205.0%5D%2C%20%5B46.30233%2C%206.2463%2C%204.776940514224839%5D%2C%20%5B46.18942%2C%206.15653%2C%205.0%5D%2C%20%5B46.19946%2C%206.13883%2C%204.776940514224839%5D%2C%20%5B46.21882%2C%206.13412%2C%204.776940514224839%5D%2C%20%5B46.20157%2C%206.14992%2C%205.0%5D%2C%20%5B46.19508%2C%206.09627%2C%204.776940514224839%5D%2C%20%5B46.1987%2C%206.20497%2C%204.776940514224839%5D%2C%20%5B46.19508%2C%206.12193%2C%204.65%5D%2C%20%5B46.19422%2C%206.12106%2C%204.76%5D%2C%20%5B46.19793%2C%206.20488%2C%204.776940514224839%5D%2C%20%5B46.22515%2C%206.13193%2C%205.0%5D%2C%20%5B46.19832%2C%206.14851%2C%204.776940514224839%5D%2C%20%5B46.19829%2C%206.15034%2C%204.776940514224839%5D%2C%20%5B46.20043%2C%206.14903%2C%204.776940514224839%5D%2C%20%5B46.19975%2C%206.15045%2C%204.776940514224839%5D%2C%20%5B46.19882%2C%206.15038%2C%204.776940514224839%5D%2C%20%5B46.19843%2C%206.14844%2C%204.776940514224839%5D%2C%20%5B46.21216%2C%206.12536%2C%205.0%5D%2C%20%5B46.2071%2C%206.14375%2C%205.0%5D%2C%20%5B46.19572%2C%206.15353%2C%204.776940514224839%5D%2C%20%5B46.1944%2C%206.15336%2C%204.776940514224839%5D%2C%20%5B46.19432%2C%206.15327%2C%204.776940514224839%5D%2C%20%5B46.19382%2C%206.15493%2C%204.776940514224839%5D%2C%20%5B46.21933%2C%206.14079%2C%205.0%5D%2C%20%5B46.19366%2C%206.15346%2C%204.776940514224839%5D%2C%20%5B46.19587%2C%206.15308%2C%204.776940514224839%5D%2C%20%5B46.19585%2C%206.15513%2C%204.5%5D%2C%20%5B46.19455%2C%206.15366%2C%204.776940514224839%5D%2C%20%5B46.19522%2C%206.15524%2C%205.0%5D%2C%20%5B46.19609%2C%206.15525%2C%205.0%5D%2C%20%5B46.19609%2C%206.15348%2C%204.776940514224839%5D%2C%20%5B46.19396%2C%206.15282%2C%205.0%5D%2C%20%5B46.1941%2C%206.15347%2C%204.0%5D%2C%20%5B46.19358%2C%206.15304%2C%205.0%5D%2C%20%5B46.19213%2C%206.20026%2C%205.0%5D%2C%20%5B46.17495%2C%206.11961%2C%205.0%5D%2C%20%5B46.19511%2C%206.15329%2C%204.776940514224839%5D%2C%20%5B46.19548%2C%206.15348%2C%204.776940514224839%5D%2C%20%5B46.19428%2C%206.15504%2C%205.0%5D%2C%20%5B46.19543%2C%206.15341%2C%204.0%5D%2C%20%5B46.20715%2C%206.14186%2C%204.67%5D%2C%20%5B46.20866%2C%206.14311%2C%204.92%5D%2C%20%5B46.2246%2C%206.1256%2C%205.0%5D%2C%20%5B46.21303%2C%206.15085%2C%205.0%5D%2C%20%5B46.21515%2C%206.14771%2C%204.0%5D%2C%20%5B46.21485%2C%206.14782%2C%205.0%5D%2C%20%5B46.21367%2C%206.14705%2C%204.776940514224839%5D%2C%20%5B46.1957%2C%206.15334%2C%205.0%5D%2C%20%5B46.197%2C%206.19063%2C%204.92%5D%2C%20%5B46.19614%2C%206.1895%2C%204.776940514224839%5D%2C%20%5B46.21183%2C%206.12969%2C%204.79%5D%2C%20%5B46.20349%2C%206.13525%2C%204.776940514224839%5D%2C%20%5B46.20528%2C%206.12508%2C%204.776940514224839%5D%2C%20%5B46.28548%2C%206.16473%2C%205.0%5D%2C%20%5B46.17232%2C%206.16186%2C%205.0%5D%2C%20%5B46.20628%2C%206.1296%2C%205.0%5D%2C%20%5B46.19495%2C%206.15416%2C%204.75%5D%2C%20%5B46.2094%2C%206.1262%2C%205.0%5D%2C%20%5B46.21644%2C%206.15034%2C%204.776940514224839%5D%2C%20%5B46.20411%2C%206.1746%2C%205.0%5D%2C%20%5B46.22383%2C%206.14895%2C%204.776940514224839%5D%2C%20%5B46.18847%2C%206.01226%2C%205.0%5D%2C%20%5B46.21211%2C%206.1327%2C%204.24%5D%2C%20%5B46.2045%2C%206.17587%2C%204.82%5D%2C%20%5B46.21007%2C%206.20729%2C%204.776940514224839%5D%2C%20%5B46.21146%2C%206.13324%2C%204.776940514224839%5D%2C%20%5B46.19583%2C%206.14106%2C%204.8%5D%2C%20%5B46.21194%2C%206.13614%2C%205.0%5D%2C%20%5B46.22056%2C%206.14832%2C%205.0%5D%2C%20%5B46.20103%2C%206.14521%2C%204.96%5D%2C%20%5B46.22521%2C%206.12012%2C%204.776940514224839%5D%2C%20%5B46.20523%2C%206.09852%2C%204.776940514224839%5D%2C%20%5B46.22829%2C%206.10689%2C%205.0%5D%2C%20%5B46.19114%2C%206.13757%2C%204.57%5D%2C%20%5B46.19811%2C%206.20081%2C%204.5%5D%2C%20%5B46.25386%2C%206.15046%2C%205.0%5D%2C%20%5B46.17986%2C%206.14313%2C%204.776940514224839%5D%2C%20%5B46.19948%2C%206.17693%2C%204.9%5D%2C%20%5B46.20877%2C%206.14146%2C%204.9%5D%2C%20%5B46.20797%2C%206.1423%2C%205.0%5D%2C%20%5B46.21167%2C%206.13416%2C%204.59%5D%2C%20%5B46.21208%2C%206.13539%2C%204.776940514224839%5D%2C%20%5B46.19412%2C%206.15523%2C%205.0%5D%2C%20%5B46.19322%2C%206.19595%2C%205.0%5D%2C%20%5B46.20127%2C%206.13171%2C%204.776940514224839%5D%2C%20%5B46.20546%2C%206.12422%2C%205.0%5D%2C%20%5B46.19536%2C%206.15456%2C%205.0%5D%2C%20%5B46.19635%2C%206.14317%2C%204.4%5D%2C%20%5B46.18515%2C%206.10742%2C%205.0%5D%2C%20%5B46.19568%2C%206.20201%2C%204.67%5D%2C%20%5B46.20885%2C%206.13107%2C%204.776940514224839%5D%2C%20%5B46.20924%2C%206.12925%2C%201.0%5D%2C%20%5B46.21885%2C%206.13647%2C%205.0%5D%2C%20%5B46.207%2C%206.1331%2C%205.0%5D%2C%20%5B46.21909%2C%206.10854%2C%204.83%5D%2C%20%5B46.165%2C%206.18603%2C%205.0%5D%2C%20%5B46.18528%2C%206.13704%2C%205.0%5D%2C%20%5B46.19555%2C%206.15534%2C%205.0%5D%2C%20%5B46.19564%2C%206.15467%2C%205.0%5D%2C%20%5B46.23634%2C%206.09247%2C%204.91%5D%2C%20%5B46.22089%2C%206.10777%2C%204.776940514224839%5D%2C%20%5B46.19546%2C%206.20118%2C%204.0%5D%2C%20%5B46.2073%2C%206.1411%2C%204.86%5D%2C%20%5B46.19389%2C%206.20081%2C%203.67%5D%2C%20%5B46.22418%2C%206.13302%2C%204.776940514224839%5D%2C%20%5B46.20767%2C%206.14123%2C%205.0%5D%2C%20%5B46.20777%2C%206.14302%2C%204.89%5D%2C%20%5B46.20797%2C%206.1423%2C%204.776940514224839%5D%2C%20%5B46.20852%2C%206.1413%2C%205.0%5D%2C%20%5B46.20789%2C%206.14218%2C%204.5%5D%2C%20%5B46.19868%2C%206.13534%2C%204.776940514224839%5D%2C%20%5B46.20077%2C%206.14775%2C%205.0%5D%2C%20%5B46.19388%2C%206.15521%2C%204.776940514224839%5D%2C%20%5B46.27905%2C%206.15936%2C%204.67%5D%2C%20%5B46.21182%2C%206.1451%2C%204.68%5D%2C%20%5B46.20852%2C%206.138%2C%205.0%5D%2C%20%5B46.20677%2C%206.14325%2C%204.8%5D%2C%20%5B46.20173%2C%206.14942%2C%205.0%5D%2C%20%5B46.19348%2C%206.15339%2C%205.0%5D%2C%20%5B46.20406%2C%206.15699%2C%205.0%5D%2C%20%5B46.19417%2C%206.15362%2C%204.776940514224839%5D%2C%20%5B46.21226%2C%206.15055%2C%204.776940514224839%5D%2C%20%5B46.19518%2C%206.1536%2C%204.776940514224839%5D%2C%20%5B46.19461%2C%206.14409%2C%205.0%5D%2C%20%5B46.19876%2C%206.14702%2C%204.94%5D%2C%20%5B46.18794%2C%206.14165%2C%205.0%5D%2C%20%5B46.20366%2C%206.15821%2C%204.95%5D%2C%20%5B46.22554%2C%206.06848%2C%204.25%5D%2C%20%5B46.28636%2C%206.1653%2C%204.776940514224839%5D%2C%20%5B46.21159%2C%206.13183%2C%204.8%5D%2C%20%5B46.20553%2C%206.17424%2C%204.776940514224839%5D%2C%20%5B46.19093%2C%206.19764%2C%204.776940514224839%5D%2C%20%5B46.21628%2C%206.13573%2C%205.0%5D%2C%20%5B46.19389%2C%206.15382%2C%205.0%5D%2C%20%5B46.23702%2C%206.0793%2C%204.776940514224839%5D%2C%20%5B46.19376%2C%206.15489%2C%204.776940514224839%5D%2C%20%5B46.25572%2C%206.21092%2C%205.0%5D%2C%20%5B46.19609%2C%206.16338%2C%204.776940514224839%5D%2C%20%5B46.2202%2C%206.14109%2C%205.0%5D%2C%20%5B46.14247%2C%206.04331%2C%204.776940514224839%5D%2C%20%5B46.22419%2C%206.12681%2C%205.0%5D%2C%20%5B46.18984%2C%206.15392%2C%205.0%5D%2C%20%5B46.20471%2C%206.16521%2C%205.0%5D%2C%20%5B46.20386%2C%206.15806%2C%204.776940514224839%5D%2C%20%5B46.20225%2C%206.16437%2C%204.87%5D%2C%20%5B46.19156%2C%206.15621%2C%205.0%5D%2C%20%5B46.21298%2C%206.15051%2C%204.86%5D%2C%20%5B46.22362%2C%206.12833%2C%204.8%5D%2C%20%5B46.19395%2C%206.15781%2C%205.0%5D%2C%20%5B46.23565%2C%206.12487%2C%204.776940514224839%5D%2C%20%5B46.23441%2C%206.12479%2C%204.776940514224839%5D%2C%20%5B46.26331%2C%206.22476%2C%204.776940514224839%5D%2C%20%5B46.18933%2C%206.15734%2C%204.89%5D%2C%20%5B46.23615%2C%206.12451%2C%204.776940514224839%5D%2C%20%5B46.2105%2C%206.14751%2C%204.67%5D%2C%20%5B46.20904%2C%206.14227%2C%204.87%5D%2C%20%5B46.19389%2C%206.1537%2C%204.776940514224839%5D%2C%20%5B46.196%2C%206.1544%2C%204.776940514224839%5D%2C%20%5B46.23615%2C%206.12549%2C%205.0%5D%2C%20%5B46.19462%2C%206.15322%2C%204.776940514224839%5D%2C%20%5B46.20862%2C%206.1435%2C%204.96%5D%2C%20%5B46.19921%2C%206.16344%2C%205.0%5D%2C%20%5B46.23476%2C%206.12376%2C%205.0%5D%2C%20%5B46.20084%2C%206.15764%2C%205.0%5D%2C%20%5B46.23566%2C%206.12359%2C%204.62%5D%2C%20%5B46.21525%2C%206.14816%2C%204.776940514224839%5D%2C%20%5B46.20139%2C%206.15682%2C%204.8%5D%2C%20%5B46.2343%2C%206.12878%2C%204.75%5D%2C%20%5B46.18119%2C%206.14173%2C%204.776940514224839%5D%2C%20%5B46.17959%2C%206.14126%2C%204.776940514224839%5D%2C%20%5B46.18076%2C%206.14134%2C%205.0%5D%2C%20%5B46.20512%2C%206.15984%2C%205.0%5D%2C%20%5B46.20118%2C%206.14994%2C%204.83%5D%2C%20%5B46.19345%2C%206.16582%2C%205.0%5D%2C%20%5B46.17629%2C%206.07079%2C%204.776940514224839%5D%2C%20%5B46.21299%2C%206.14979%2C%205.0%5D%2C%20%5B46.18764%2C%206.17499%2C%204.88%5D%2C%20%5B46.19%2C%206.1397%2C%204.56%5D%2C%20%5B46.20191%2C%206.13588%2C%204.8%5D%2C%20%5B46.17925%2C%206.14285%2C%204.776940514224839%5D%2C%20%5B46.20031%2C%206.13906%2C%204.67%5D%2C%20%5B46.21039%2C%206.12384%2C%204.4%5D%2C%20%5B46.20472%2C%206.16093%2C%205.0%5D%2C%20%5B46.19006%2C%206.12142%2C%204.776940514224839%5D%2C%20%5B46.16499%2C%206.1065%2C%204.5%5D%2C%20%5B46.18235%2C%206.14669%2C%205.0%5D%2C%20%5B46.21181%2C%206.14298%2C%205.0%5D%2C%20%5B46.21027%2C%206.14165%2C%204.82%5D%2C%20%5B46.2109%2C%206.14279%2C%204.92%5D%2C%20%5B46.21218%2C%206.14104%2C%204.776940514224839%5D%2C%20%5B46.21003%2C%206.14098%2C%204.776940514224839%5D%2C%20%5B46.21192%2C%206.14086%2C%205.0%5D%2C%20%5B46.21147%2C%206.14293%2C%205.0%5D%2C%20%5B46.21076%2C%206.14271%2C%205.0%5D%2C%20%5B46.21177%2C%206.143%2C%205.0%5D%2C%20%5B46.21018%2C%206.14286%2C%204.86%5D%2C%20%5B46.21562%2C%206.14702%2C%204.33%5D%2C%20%5B46.19178%2C%206.14436%2C%205.0%5D%2C%20%5B46.19838%2C%206.13661%2C%204.8%5D%2C%20%5B46.2108%2C%206.13527%2C%205.0%5D%2C%20%5B46.20724%2C%206.14417%2C%204.776940514224839%5D%2C%20%5B46.18663%2C%206.09017%2C%205.0%5D%2C%20%5B46.20091%2C%206.16253%2C%204.73%5D%2C%20%5B46.18941%2C%206.15407%2C%204.83%5D%2C%20%5B46.20014%2C%206.1617%2C%204.36%5D%2C%20%5B46.20942%2C%206.14895%2C%205.0%5D%2C%20%5B46.22137%2C%206.15%2C%205.0%5D%2C%20%5B46.21428%2C%206.14842%2C%204.776940514224839%5D%2C%20%5B46.17991%2C%206.11451%2C%205.0%5D%2C%20%5B46.19561%2C%206.19353%2C%204.776940514224839%5D%2C%20%5B46.20203%2C%206.15885%2C%205.0%5D%2C%20%5B46.20175%2C%206.15844%2C%204.776940514224839%5D%2C%20%5B46.20029%2C%206.15726%2C%205.0%5D%2C%20%5B46.20077%2C%206.1587%2C%204.56%5D%2C%20%5B46.19457%2C%206.15489%2C%205.0%5D%2C%20%5B46.22016%2C%206.12751%2C%204.776940514224839%5D%2C%20%5B46.19491%2C%206.19175%2C%204.5%5D%2C%20%5B46.18431%2C%206.19356%2C%204.776940514224839%5D%2C%20%5B46.21398%2C%206.15059%2C%204.776940514224839%5D%2C%20%5B46.19352%2C%206.14066%2C%205.0%5D%2C%20%5B46.19557%2C%206.15355%2C%204.776940514224839%5D%2C%20%5B46.18566%2C%206.14261%2C%205.0%5D%2C%20%5B46.20513%2C%206.15938%2C%204.776940514224839%5D%2C%20%5B46.20635%2C%206.15687%2C%204.96%5D%2C%20%5B46.20137%2C%206.13227%2C%204.82%5D%2C%20%5B46.19472%2C%206.19125%2C%204.58%5D%2C%20%5B46.19504%2C%206.14225%2C%204.95%5D%2C%20%5B46.22184%2C%206.11772%2C%205.0%5D%2C%20%5B46.18547%2C%206.13997%2C%205.0%5D%2C%20%5B46.20847%2C%206.1465%2C%205.0%5D%2C%20%5B46.20989%2C%206.13948%2C%205.0%5D%2C%20%5B46.20144%2C%206.13015%2C%204.83%5D%2C%20%5B46.20768%2C%206.14251%2C%204.81%5D%2C%20%5B46.21016%2C%206.1462%2C%205.0%5D%2C%20%5B46.20688%2C%206.16375%2C%205.0%5D%2C%20%5B46.19098%2C%206.16804%2C%204.67%5D%2C%20%5B46.28207%2C%206.1664%2C%204.776940514224839%5D%2C%20%5B46.21011%2C%206.14089%2C%205.0%5D%2C%20%5B46.21215%2C%206.14175%2C%205.0%5D%2C%20%5B46.21654%2C%206.14526%2C%205.0%5D%2C%20%5B46.21135%2C%206.14862%2C%204.776940514224839%5D%2C%20%5B46.28216%2C%206.16612%2C%205.0%5D%2C%20%5B46.211346%2C%206.148624%2C%205.0%5D%2C%20%5B46.1996%2C%206.14913%2C%205.0%5D%2C%20%5B46.21136%2C%206.14619%2C%204.75%5D%2C%20%5B46.21139%2C%206.13245%2C%204.776940514224839%5D%2C%20%5B46.21045%2C%206.1117%2C%204.0%5D%2C%20%5B46.19528%2C%206.15348%2C%204.776940514224839%5D%2C%20%5B46.19504%2C%206.15442%2C%204.0%5D%2C%20%5B46.21291%2C%206.14466%2C%204.776940514224839%5D%2C%20%5B46.21454%2C%206.14425%2C%204.776940514224839%5D%2C%20%5B46.21461%2C%206.14662%2C%204.776940514224839%5D%2C%20%5B46.14451%2C%206.03823%2C%204.776940514224839%5D%2C%20%5B46.18439%2C%206.19273%2C%204.67%5D%2C%20%5B46.20406%2C%206.15868%2C%204.776940514224839%5D%2C%20%5B46.19326%2C%206.13735%2C%204.776940514224839%5D%2C%20%5B46.19344%2C%206.19864%2C%204.75%5D%2C%20%5B46.20196%2C%206.15029%2C%204.776940514224839%5D%2C%20%5B46.20196%2C%206.15213%2C%204.776940514224839%5D%2C%20%5B46.20171%2C%206.15178%2C%204.776940514224839%5D%2C%20%5B46.2028%2C%206.15131%2C%204.776940514224839%5D%2C%20%5B46.20964%2C%206.13522%2C%204.776940514224839%5D%2C%20%5B46.20977%2C%206.13406%2C%204.776940514224839%5D%2C%20%5B46.22169%2C%206.12293%2C%204.45%5D%2C%20%5B46.20921%2C%206.12424%2C%204.776940514224839%5D%2C%20%5B46.17829%2C%205.99511%2C%204.776940514224839%5D%2C%20%5B46.2005%2C%206.1545%2C%204.776940514224839%5D%2C%20%5B46.2025%2C%206.15319%2C%204.776940514224839%5D%2C%20%5B46.19641%2C%206.15853%2C%205.0%5D%2C%20%5B46.19497%2C%206.15648%2C%204.776940514224839%5D%2C%20%5B46.19669%2C%206.15641%2C%204.776940514224839%5D%2C%20%5B46.20322%2C%206.13903%2C%204.86%5D%2C%20%5B46.19526%2C%206.15706%2C%204.776940514224839%5D%2C%20%5B46.19966%2C%206.13913%2C%204.8%5D%2C%20%5B46.21283%2C%206.15027%2C%204.776940514224839%5D%2C%20%5B46.20258%2C%206.15502%2C%204.776940514224839%5D%2C%20%5B46.2086%2C%206.1335%2C%205.0%5D%2C%20%5B46.18433%2C%206.14589%2C%204.776940514224839%5D%2C%20%5B46.18415%2C%206.14515%2C%205.0%5D%2C%20%5B46.19349%2C%206.13742%2C%205.0%5D%2C%20%5B46.19405%2C%206.13841%2C%204.83%5D%2C%20%5B46.18465%2C%206.08917%2C%204.0%5D%2C%20%5B46.20203%2C%206.1659%2C%204.776940514224839%5D%2C%20%5B46.20242%2C%206.16088%2C%205.0%5D%2C%20%5B46.19856%2C%206.13724%2C%205.0%5D%2C%20%5B46.18024%2C%206.14468%2C%204.776940514224839%5D%2C%20%5B46.20387%2C%206.16148%2C%205.0%5D%2C%20%5B46.20764%2C%206.1587%2C%204.776940514224839%5D%2C%20%5B46.21561%2C%206.13337%2C%204.67%5D%2C%20%5B46.22365%2C%206.12605%2C%205.0%5D%2C%20%5B46.20389%2C%206.17261%2C%204.7%5D%2C%20%5B46.1912%2C%206.20238%2C%205.0%5D%2C%20%5B46.19058%2C%206.14604%2C%204.67%5D%2C%20%5B46.18798%2C%206.14561%2C%204.75%5D%2C%20%5B46.21078%2C%206.12707%2C%205.0%5D%2C%20%5B46.21214%2C%206.14453%2C%204.25%5D%2C%20%5B46.21226%2C%206.14399%2C%204.25%5D%2C%20%5B46.20397%2C%206.15782%2C%204.75%5D%2C%20%5B46.2082%2C%206.0774%2C%204.776940514224839%5D%2C%20%5B46.19497%2C%206.14672%2C%205.0%5D%2C%20%5B46.21058%2C%206.14777%2C%205.0%5D%2C%20%5B46.20288%2C%206.15811%2C%205.0%5D%2C%20%5B46.21853%2C%206.14859%2C%204.67%5D%2C%20%5B46.21263%2C%206.14641%2C%204.96%5D%2C%20%5B46.20082%2C%206.13858%2C%205.0%5D%2C%20%5B46.24323%2C%206.13199%2C%204.6%5D%2C%20%5B46.21222%2C%206.12776%2C%205.0%5D%2C%20%5B46.21177%2C%206.14281%2C%205.0%5D%2C%20%5B46.21053%2C%206.14099%2C%204.62%5D%2C%20%5B46.21034%2C%206.1414%2C%204.776940514224839%5D%2C%20%5B46.21174%2C%206.14178%2C%205.0%5D%2C%20%5B46.21011%2C%206.12773%2C%204.776940514224839%5D%2C%20%5B46.26674%2C%206.22016%2C%205.0%5D%2C%20%5B46.21316%2C%206.12937%2C%205.0%5D%2C%20%5B46.19602%2C%206.15472%2C%204.0%5D%2C%20%5B46.21053%2C%206.14159%2C%204.776940514224839%5D%2C%20%5B46.21142%2C%206.14265%2C%204.776940514224839%5D%2C%20%5B46.20633%2C%206.143%2C%205.0%5D%2C%20%5B46.20364%2C%206.16353%2C%204.776940514224839%5D%2C%20%5B46.20732%2C%206.14102%2C%205.0%5D%2C%20%5B46.21026%2C%206.13429%2C%204.776940514224839%5D%2C%20%5B46.19611%2C%206.15618%2C%204.86%5D%2C%20%5B46.26024%2C%206.11864%2C%204.776940514224839%5D%2C%20%5B46.19692%2C%206.1674%2C%204.776940514224839%5D%2C%20%5B46.1801%2C%206.14258%2C%204.5%5D%2C%20%5B46.19893%2C%206.16196%2C%204.776940514224839%5D%2C%20%5B46.2222%2C%206.136%2C%205.0%5D%2C%20%5B46.21083%2C%206.14698%2C%205.0%5D%2C%20%5B46.25405%2C%206.14281%2C%204.85%5D%2C%20%5B46.20478%2C%206.13958%2C%205.0%5D%2C%20%5B46.20468%2C%206.13937%2C%205.0%5D%2C%20%5B46.1912%2C%206.15576%2C%204.74%5D%2C%20%5B46.19408%2C%206.14488%2C%204.776940514224839%5D%2C%20%5B46.20281%2C%206.13068%2C%204.776940514224839%5D%2C%20%5B46.1955%2C%206.15295%2C%205.0%5D%2C%20%5B46.21509%2C%206.14872%2C%205.0%5D%2C%20%5B46.20665%2C%206.13635%2C%204.9%5D%2C%20%5B46.22055%2C%206.14202%2C%205.0%5D%2C%20%5B46.19237%2C%206.19833%2C%204.0%5D%2C%20%5B46.20919%2C%206.12385%2C%204.82%5D%2C%20%5B46.20446%2C%206.13784%2C%204.776940514224839%5D%2C%20%5B46.21928%2C%206.13401%2C%204.776940514224839%5D%2C%20%5B46.20879%2C%206.13246%2C%204.776940514224839%5D%2C%20%5B46.20725%2C%206.12843%2C%204.71%5D%2C%20%5B46.26542%2C%206.21407%2C%204.776940514224839%5D%2C%20%5B46.20838%2C%206.14768%2C%205.0%5D%2C%20%5B46.19635%2C%206.16092%2C%205.0%5D%2C%20%5B46.19387%2C%206.15505%2C%205.0%5D%2C%20%5B46.19385%2C%206.15514%2C%204.776940514224839%5D%2C%20%5B46.19487%2C%206.15377%2C%204.776940514224839%5D%2C%20%5B46.22273%2C%206.09526%2C%205.0%5D%2C%20%5B46.19409%2C%206.15418%2C%204.776940514224839%5D%2C%20%5B46.19482%2C%206.14299%2C%204.776940514224839%5D%2C%20%5B46.20998%2C%206.14695%2C%204.776940514224839%5D%2C%20%5B46.19096%2C%206.14142%2C%205.0%5D%2C%20%5B46.19083%2C%206.14034%2C%204.63%5D%2C%20%5B46.19119%2C%206.13783%2C%204.776940514224839%5D%2C%20%5B46.19177%2C%206.13788%2C%204.0%5D%2C%20%5B46.20154%2C%206.14617%2C%205.0%5D%2C%20%5B46.20991%2C%206.14781%2C%205.0%5D%2C%20%5B46.15944%2C%206.15724%2C%204.87%5D%2C%20%5B46.19999%2C%206.14639%2C%205.0%5D%2C%20%5B46.1935%2C%206.15532%2C%204.776940514224839%5D%2C%20%5B46.18925%2C%206.1596%2C%204.63%5D%2C%20%5B46.20301096995858%2C%206.1463630705524%2C%204.93%5D%2C%20%5B46.21268%2C%206.14961%2C%204.776940514224839%5D%2C%20%5B46.21073%2C%206.13481%2C%204.776940514224839%5D%2C%20%5B46.19533%2C%206.15433%2C%204.776940514224839%5D%2C%20%5B46.19358%2C%206.15349%2C%204.776940514224839%5D%2C%20%5B46.20072%2C%206.15412%2C%205.0%5D%2C%20%5B46.20667%2C%206.16414%2C%204.776940514224839%5D%2C%20%5B46.20774%2C%206.14202%2C%205.0%5D%2C%20%5B46.20704%2C%206.16841%2C%204.776940514224839%5D%2C%20%5B46.20016%2C%206.13048%2C%204.88%5D%2C%20%5B46.2105%2C%206.1458%2C%205.0%5D%2C%20%5B46.16746%2C%206.17171%2C%205.0%5D%2C%20%5B46.2104%2C%206.1363%2C%204.776940514224839%5D%2C%20%5B46.2323%2C%206.19739%2C%204.776940514224839%5D%2C%20%5B46.23163%2C%206.19807%2C%204.776940514224839%5D%2C%20%5B46.2323%2C%206.19739%2C%204.776940514224839%5D%2C%20%5B46.23146%2C%206.19811%2C%204.776940514224839%5D%2C%20%5B46.23156%2C%206.19815%2C%204.776940514224839%5D%2C%20%5B46.21138%2C%206.14677%2C%204.53%5D%2C%20%5B46.21275%2C%206.1293%2C%204.88%5D%2C%20%5B46.17396%2C%206.12661%2C%204.776940514224839%5D%2C%20%5B46.1974%2C%206.15746%2C%204.45%5D%2C%20%5B46.20798%2C%206.14272%2C%204.776940514224839%5D%2C%20%5B46.1957%2C%206.16003%2C%205.0%5D%2C%20%5B46.19061%2C%206.15545%2C%204.776940514224839%5D%2C%20%5B46.22233%2C%206.13546%2C%204.776940514224839%5D%2C%20%5B46.19289%2C%206.16031%2C%204.776940514224839%5D%2C%20%5B46.2181%2C%206.12632%2C%205.0%5D%2C%20%5B46.22392%2C%206.128%2C%205.0%5D%2C%20%5B46.203373%2C%206.155819%2C%205.0%5D%2C%20%5B46.19915%2C%206.13598%2C%204.776940514224839%5D%2C%20%5B46.19355%2C%206.1994%2C%205.0%5D%2C%20%5B46.19396%2C%206.16763%2C%205.0%5D%2C%20%5B46.19436%2C%206.14704%2C%204.776940514224839%5D%2C%20%5B46.19731%2C%206.14113%2C%204.776940514224839%5D%2C%20%5B46.20919%2C%206.13899%2C%204.86%5D%2C%20%5B46.20866%2C%206.13926%2C%205.0%5D%2C%20%5B46.18825%2C%206.14591%2C%204.69%5D%2C%20%5B46.20154%2C%206.15542%2C%204.776940514224839%5D%2C%20%5B46.2461%2C%206.23526%2C%204.25%5D%2C%20%5B46.2043%2C%206.13718%2C%205.0%5D%2C%20%5B46.27738%2C%206.17013%2C%204.776940514224839%5D%2C%20%5B46.18814%2C%206.13749%2C%204.776940514224839%5D%2C%20%5B46.19551%2C%206.15479%2C%204.776940514224839%5D%2C%20%5B46.21397%2C%206.14893%2C%204.776940514224839%5D%2C%20%5B46.20148%2C%206.12865%2C%204.73%5D%2C%20%5B46.18933%2C%206.20351%2C%204.82%5D%2C%20%5B46.20104%2C%206.13048%2C%204.72%5D%2C%20%5B46.18919%2C%206.12318%2C%205.0%5D%2C%20%5B46.19061%2C%206.12489%2C%205.0%5D%2C%20%5B46.20221%2C%206.1286%2C%204.86%5D%2C%20%5B46.21293%2C%206.14506%2C%205.0%5D%2C%20%5B46.21231%2C%206.12702%2C%205.0%5D%2C%20%5B46.2183%2C%206.12545%2C%204.75%5D%2C%20%5B46.1818%2C%206.1382%2C%204.5%5D%2C%20%5B46.19102%2C%206.13586%2C%204.776940514224839%5D%2C%20%5B46.21859%2C%206.12591%2C%204.776940514224839%5D%2C%20%5B46.19967%2C%206.13756%2C%205.0%5D%2C%20%5B46.18853%2C%206.15336%2C%204.776940514224839%5D%2C%20%5B46.2214%2C%206.13642%2C%205.0%5D%2C%20%5B46.19833%2C%206.1383%2C%205.0%5D%2C%20%5B46.29217%2C%206.16382%2C%204.0%5D%2C%20%5B46.21507%2C%206.08295%2C%204.16%5D%2C%20%5B46.18874%2C%206.15651%2C%204.7%5D%2C%20%5B46.20932%2C%206.13506%2C%204.5%5D%2C%20%5B46.20456%2C%206.16186%2C%204.53%5D%2C%20%5B46.20425%2C%206.14429%2C%205.0%5D%2C%20%5B46.21554%2C%206.14678%2C%205.0%5D%2C%20%5B46.1928%2C%206.14379%2C%205.0%5D%2C%20%5B46.21153%2C%206.13871%2C%204.88%5D%2C%20%5B46.20979%2C%206.14404%2C%205.0%5D%2C%20%5B46.21734%2C%206.14724%2C%204.776940514224839%5D%2C%20%5B46.18706%2C%206.19152%2C%205.0%5D%2C%20%5B46.21613%2C%206.13348%2C%204.92%5D%2C%20%5B46.20437%2C%206.14573%2C%204.776940514224839%5D%2C%20%5B46.19152%2C%206.14028%2C%205.0%5D%2C%20%5B46.18933%2C%206.14483%2C%205.0%5D%2C%20%5B46.20967%2C%206.13521%2C%204.776940514224839%5D%2C%20%5B46.19618%2C%206.16203%2C%204.776940514224839%5D%2C%20%5B46.21041%2C%206.13422%2C%204.91%5D%2C%20%5B46.17906%2C%206.14642%2C%204.5%5D%2C%20%5B46.20201%2C%206.168%2C%205.0%5D%2C%20%5B46.22204%2C%206.13656%2C%204.776940514224839%5D%2C%20%5B46.27125%2C%206.13031%2C%204.776940514224839%5D%2C%20%5B46.20041%2C%206.16048%2C%204.776940514224839%5D%2C%20%5B46.17585%2C%206.12341%2C%204.776940514224839%5D%2C%20%5B46.19206%2C%206.14445%2C%204.776940514224839%5D%2C%20%5B46.20285%2C%206.185%2C%204.776940514224839%5D%2C%20%5B46.19755%2C%206.13639%2C%205.0%5D%2C%20%5B46.24173%2C%206.13434%2C%204.67%5D%2C%20%5B46.20628%2C%206.12331%2C%204.6%5D%2C%20%5B46.19823%2C%206.16143%2C%204.776940514224839%5D%2C%20%5B46.20691%2C%206.18411%2C%204.67%5D%2C%20%5B46.21237%2C%206.15155%2C%205.0%5D%2C%20%5B46.20705%2C%206.13132%2C%205.0%5D%2C%20%5B46.18908%2C%206.20806%2C%205.0%5D%2C%20%5B46.18257%2C%206.10004%2C%204.776940514224839%5D%2C%20%5B46.20193%2C%206.09251%2C%204.6%5D%2C%20%5B46.27693%2C%206.16252%2C%204.776940514224839%5D%2C%20%5B46.20668%2C%206.13209%2C%204.75%5D%2C%20%5B46.20234%2C%206.13828%2C%205.0%5D%2C%20%5B46.20042%2C%206.128%2C%204.776940514224839%5D%2C%20%5B46.21434%2C%206.14694%2C%205.0%5D%2C%20%5B46.15922%2C%206.15713%2C%204.83%5D%2C%20%5B46.21368%2C%206.12604%2C%204.776940514224839%5D%2C%20%5B46.22404%2C%206.13044%2C%204.92%5D%2C%20%5B46.19485%2C%206.14546%2C%205.0%5D%2C%20%5B46.19883%2C%206.14051%2C%204.83%5D%2C%20%5B46.19354%2C%206.15345%2C%205.0%5D%2C%20%5B46.20769%2C%206.14623%2C%205.0%5D%2C%20%5B46.197853%2C%206.138725%2C%204.0%5D%2C%20%5B46.21027%2C%206.12826%2C%204.776940514224839%5D%2C%20%5B46.2885%2C%206.1604%2C%204.43%5D%2C%20%5B46.19619%2C%206.14349%2C%204.776940514224839%5D%2C%20%5B46.20392%2C%206.16278%2C%204.75%5D%2C%20%5B46.20432%2C%206.17417%2C%205.0%5D%2C%20%5B46.21143%2C%206.133%2C%204.59%5D%2C%20%5B46.20775%2C%206.14325%2C%204.776940514224839%5D%2C%20%5B46.20759%2C%206.14195%2C%205.0%5D%2C%20%5B46.20608%2C%206.15895%2C%204.64%5D%2C%20%5B46.19207%2C%206.13679%2C%204.6%5D%2C%20%5B46.19605%2C%206.1565%2C%205.0%5D%2C%20%5B46.19809%2C%206.17713%2C%204.4%5D%2C%20%5B46.20588%2C%206.12555%2C%204.78%5D%2C%20%5B46.21161%2C%206.14577%2C%204.86%5D%2C%20%5B46.2108%2C%206.14498%2C%204.776940514224839%5D%2C%20%5B46.26209%2C%206.22364%2C%205.0%5D%2C%20%5B46.21164%2C%206.14614%2C%204.776940514224839%5D%2C%20%5B46.24713%2C%206.23659%2C%204.0%5D%2C%20%5B46.20681%2C%206.12736%2C%204.776940514224839%5D%2C%20%5B46.20341%2C%206.09868%2C%204.776940514224839%5D%2C%20%5B46.17445%2C%206.13249%2C%205.0%5D%2C%20%5B46.22467%2C%206.224%2C%204.776940514224839%5D%2C%20%5B46.21606%2C%206.12556%2C%205.0%5D%2C%20%5B46.21689%2C%206.12809%2C%205.0%5D%2C%20%5B46.2439%2C%206.13812%2C%204.776940514224839%5D%2C%20%5B46.20384%2C%206.16126%2C%204.5%5D%2C%20%5B46.20625%2C%206.16014%2C%205.0%5D%2C%20%5B46.20157%2C%206.1383%2C%204.7%5D%2C%20%5B46.21225%2C%206.12657%2C%204.78%5D%2C%20%5B46.23142%2C%206.06942%2C%205.0%5D%2C%20%5B46.27074%2C%206.13026%2C%204.776940514224839%5D%2C%20%5B46.19747%2C%206.16563%2C%205.0%5D%2C%20%5B46.18285%2C%206.19381%2C%205.0%5D%2C%20%5B46.20045%2C%206.16762%2C%204.75%5D%2C%20%5B46.2453%2C%206.129136%2C%204.776940514224839%5D%2C%20%5B46.21406%2C%206.14784%2C%204.84%5D%2C%20%5B46.19791%2C%206.13575%2C%205.0%5D%2C%20%5B46.20902%2C%206.13755%2C%204.776940514224839%5D%2C%20%5B46.21057%2C%206.13893%2C%204.776940514224839%5D%2C%20%5B46.21202%2C%206.11372%2C%204.776940514224839%5D%2C%20%5B46.199673%2C%206.149515%2C%205.0%5D%2C%20%5B46.20342%2C%206.16131%2C%204.776940514224839%5D%2C%20%5B46.21033%2C%206.14686%2C%204.776940514224839%5D%2C%20%5B46.21252%2C%206.15092%2C%205.0%5D%2C%20%5B46.18566%2C%206.15593%2C%204.33%5D%2C%20%5B46.20842%2C%206.10891%2C%203.67%5D%2C%20%5B46.20222%2C%206.13212%2C%204.6%5D%2C%20%5B46.18986%2C%206.13581%2C%204.776940514224839%5D%2C%20%5B46.21228%2C%206.15029%2C%205.0%5D%2C%20%5B46.21064%2C%206.14875%2C%205.0%5D%2C%20%5B46.21247%2C%206.14363%2C%204.68%5D%2C%20%5B46.18161%2C%206.14159%2C%205.0%5D%2C%20%5B46.20324%2C%206.16628%2C%205.0%5D%2C%20%5B46.21409%2C%206.14977%2C%205.0%5D%2C%20%5B46.19821%2C%206.15693%2C%204.33%5D%2C%20%5B46.20253%2C%206.1623%2C%204.88%5D%2C%20%5B46.21179%2C%206.14063%2C%205.0%5D%2C%20%5B46.20284%2C%206.15914%2C%204.776940514224839%5D%2C%20%5B46.21056%2C%206.15015%2C%205.0%5D%2C%20%5B46.19527%2C%206.15564%2C%204.776940514224839%5D%2C%20%5B46.20067%2C%206.12801%2C%204.88%5D%2C%20%5B46.20982%2C%206.11263%2C%203.5%5D%2C%20%5B46.19317%2C%206.16033%2C%204.776940514224839%5D%2C%20%5B46.2115%2C%206.14422%2C%204.92%5D%2C%20%5B46.20319%2C%206.09895%2C%204.83%5D%2C%20%5B46.16775%2C%206.16701%2C%205.0%5D%2C%20%5B46.2169%2C%206.132637%2C%204.776940514224839%5D%2C%20%5B46.20824%2C%206.14699%2C%204.776940514224839%5D%2C%20%5B46.21826%2C%206.12163%2C%204.776940514224839%5D%2C%20%5B46.20282%2C%206.14387%2C%204.5%5D%2C%20%5B46.20418%2C%206.15811%2C%204.5%5D%2C%20%5B46.18074%2C%206.12169%2C%204.38%5D%2C%20%5B46.21871%2C%206.13212%2C%204.5%5D%2C%20%5B46.19718%2C%206.16104%2C%205.0%5D%2C%20%5B46.22476%2C%206.13037%2C%204.776940514224839%5D%2C%20%5B46.20261%2C%206.19908%2C%204.14%5D%2C%20%5B46.20207%2C%206.16036%2C%204.67%5D%2C%20%5B46.20764%2C%206.12277%2C%204.67%5D%2C%20%5B46.19246%2C%206.14717%2C%204.776940514224839%5D%2C%20%5B46.21408%2C%206.083%2C%204.776940514224839%5D%2C%20%5B46.20199%2C%206.19704%2C%204.776940514224839%5D%2C%20%5B46.19826%2C%206.14207%2C%205.0%5D%2C%20%5B46.19366%2C%206.14604%2C%204.68%5D%2C%20%5B46.20291%2C%206.13287%2C%204.78%5D%2C%20%5B46.19293%2C%206.14517%2C%204.776940514224839%5D%2C%20%5B46.20935%2C%206.14844%2C%203.33%5D%2C%20%5B46.21048%2C%206.14624%2C%204.67%5D%2C%20%5B46.22084%2C%206.13917%2C%205.0%5D%2C%20%5B46.21132%2C%206.14779%2C%204.14%5D%2C%20%5B46.2092%2C%206.14775%2C%204.71%5D%2C%20%5B46.21171%2C%206.14896%2C%205.0%5D%2C%20%5B46.21058%2C%206.14635%2C%204.8%5D%2C%20%5B46.19661%2C%206.14382%2C%204.5%5D%2C%20%5B46.20031%2C%206.13858%2C%204.0%5D%2C%20%5B46.18169%2C%206.09475%2C%205.0%5D%2C%20%5B46.21755%2C%206.14784%2C%205.0%5D%2C%20%5B46.21127%2C%206.14675%2C%204.71%5D%2C%20%5B46.21032%2C%206.14776%2C%204.5%5D%2C%20%5B46.21089%2C%206.14698%2C%204.67%5D%2C%20%5B46.21128%2C%206.14858%2C%203.0%5D%2C%20%5B46.19491%2C%206.14811%2C%205.0%5D%2C%20%5B46.20987%2C%206.14694%2C%204.22%5D%2C%20%5B46.21052%2C%206.14777%2C%203.8%5D%2C%20%5B46.21431%2C%206.14993%2C%204.4%5D%2C%20%5B46.20391%2C%206.13458%2C%203.0%5D%2C%20%5B46.17239%2C%206.13437%2C%204.776940514224839%5D%2C%20%5B46.21131%2C%206.13062%2C%205.0%5D%2C%20%5B46.21579%2C%206.14706%2C%204.776940514224839%5D%2C%20%5B46.23374%2C%206.12724%2C%204.776940514224839%5D%2C%20%5B46.2043%2C%206.13665%2C%204.5%5D%2C%20%5B46.21601%2C%206.14998%2C%204.36%5D%2C%20%5B46.18979%2C%206.14391%2C%204.0%5D%2C%20%5B46.20483%2C%206.12311%2C%204.0%5D%2C%20%5B46.20853%2C%206.1464%2C%204.776940514224839%5D%2C%20%5B46.2072%2C%206.14781%2C%204.776940514224839%5D%2C%20%5B46.20665%2C%206.14741%2C%204.776940514224839%5D%2C%20%5B46.20432%2C%206.16304%2C%204.776940514224839%5D%2C%20%5B46.19723%2C%206.12174%2C%204.67%5D%2C%20%5B46.19666%2C%206.15199%2C%205.0%5D%2C%20%5B46.23794%2C%206.1258%2C%205.0%5D%2C%20%5B46.20897%2C%206.12544%2C%204.43%5D%2C%20%5B46.19073%2C%206.14636%2C%204.776940514224839%5D%2C%20%5B46.19863%2C%206.15006%2C%205.0%5D%2C%20%5B46.17749%2C%206.07967%2C%204.776940514224839%5D%2C%20%5B46.19532%2C%206.11496%2C%205.0%5D%2C%20%5B46.2158%2C%206.14884%2C%204.73%5D%2C%20%5B46.2165%2C%206.14857%2C%205.0%5D%2C%20%5B46.19895%2C%206.1357%2C%204.83%5D%2C%20%5B46.1922%2C%206.13853%2C%204.776940514224839%5D%2C%20%5B46.20526%2C%206.16257%2C%205.0%5D%2C%20%5B46.221581%2C%206.149194%2C%205.0%5D%2C%20%5B46.19161%2C%206.1549%2C%205.0%5D%2C%20%5B46.20624%2C%206.16212%2C%204.776940514224839%5D%2C%20%5B46.20461%2C%206.126%2C%204.776940514224839%5D%2C%20%5B46.21765%2C%206.19814%2C%204.776940514224839%5D%2C%20%5B46.20106%2C%206.1374%2C%205.0%5D%2C%20%5B46.18896%2C%206.1429%2C%205.0%5D%2C%20%5B46.21247%2C%206.14499%2C%205.0%5D%2C%20%5B46.18939%2C%206.13207%2C%204.0%5D%2C%20%5B46.21106%2C%206.13225%2C%204.776940514224839%5D%2C%20%5B46.19166%2C%206.14557%2C%204.776940514224839%5D%2C%20%5B46.21067%2C%206.151451%2C%204.92%5D%2C%20%5B46.21096%2C%206.151971%2C%204.62%5D%2C%20%5B46.21348%2C%206.12138%2C%204.33%5D%2C%20%5B46.21515%2C%206.14751%2C%204.93%5D%2C%20%5B46.20888%2C%206.13392%2C%204.3%5D%2C%20%5B46.18928%2C%206.14417%2C%204.8%5D%2C%20%5B46.20287%2C%206.15665%2C%205.0%5D%2C%20%5B46.20253%2C%206.15576%2C%205.0%5D%2C%20%5B46.21188%2C%206.13476%2C%204.776940514224839%5D%2C%20%5B46.21174%2C%206.12952%2C%205.0%5D%2C%20%5B46.21465%2C%206.14991%2C%205.0%5D%2C%20%5B46.19052%2C%206.10663%2C%205.0%5D%2C%20%5B46.23394%2C%206.12168%2C%205.0%5D%2C%20%5B46.20194%2C%206.16107%2C%205.0%5D%2C%20%5B46.20397%2C%206.16057%2C%205.0%5D%2C%20%5B46.20441%2C%206.17422%2C%205.0%5D%2C%20%5B46.1931%2C%206.14498%2C%204.776940514224839%5D%2C%20%5B46.2829%2C%206.15935%2C%204.776940514224839%5D%2C%20%5B46.21465%2C%206.15073%2C%205.0%5D%2C%20%5B46.20691%2C%206.12202%2C%205.0%5D%2C%20%5B46.20879%2C%206.13534%2C%204.776940514224839%5D%2C%20%5B46.20699%2C%206.16248%2C%204.88%5D%2C%20%5B46.19951%2C%206.13777%2C%205.0%5D%2C%20%5B46.20488%2C%206.16767%2C%205.0%5D%2C%20%5B46.20884%2C%206.12339%2C%205.0%5D%2C%20%5B46.22225%2C%206.128%2C%204.5%5D%2C%20%5B46.19167%2C%206.15284%2C%205.0%5D%2C%20%5B46.21314%2C%206.13231%2C%204.776940514224839%5D%2C%20%5B46.20444%2C%206.16017%2C%204.776940514224839%5D%2C%20%5B46.20004%2C%206.14847%2C%205.0%5D%2C%20%5B46.21207%2C%206.15007%2C%204.776940514224839%5D%2C%20%5B46.21284%2C%206.13306%2C%204.58%5D%2C%20%5B46.21267%2C%206.14715%2C%204.87%5D%2C%20%5B46.203171%2C%206.160101%2C%204.9%5D%2C%20%5B46.21298%2C%206.1441%2C%205.0%5D%2C%20%5B46.1898%2C%206.15509%2C%204.776940514224839%5D%2C%20%5B46.20112%2C%206.13073%2C%204.0%5D%2C%20%5B46.18975%2C%206.1576%2C%204.776940514224839%5D%2C%20%5B46.18828%2C%206.14482%2C%204.776940514224839%5D%2C%20%5B46.20084%2C%206.13111%2C%204.5%5D%2C%20%5B46.1985%2C%206.15011%2C%205.0%5D%2C%20%5B46.21058%2C%206.14823%2C%201.0%5D%2C%20%5B46.21856%2C%206.14746%2C%205.0%5D%2C%20%5B46.19211%2C%206.15101%2C%205.0%5D%2C%20%5B46.19309%2C%206.21538%2C%205.0%5D%2C%20%5B46.17407%2C%206.11898%2C%205.0%5D%2C%20%5B46.20334%2C%206.16028%2C%204.86%5D%2C%20%5B46.20454%2C%206.16098%2C%205.0%5D%2C%20%5B46.19005%2C%206.15429%2C%204.776940514224839%5D%2C%20%5B46.26372%2C%206.15834%2C%204.0%5D%2C%20%5B46.19761%2C%206.13649%2C%204.78%5D%2C%20%5B46.16321%2C%206.05754%2C%204.5%5D%2C%20%5B46.21555%2C%206.27437%2C%204.92%5D%2C%20%5B46.19276%2C%206.20079%2C%204.776940514224839%5D%2C%20%5B46.22796%2C%206.12548%2C%205.0%5D%2C%20%5B46.22401%2C%206.12435%2C%204.63%5D%2C%20%5B46.19149%2C%206.13575%2C%204.776940514224839%5D%2C%20%5B46.20954%2C%206.1433%2C%202.5%5D%2C%20%5B46.17529%2C%206.07066%2C%204.776940514224839%5D%2C%20%5B46.20365%2C%206.1451%2C%204.33%5D%2C%20%5B46.20978%2C%206.13456%2C%204.0%5D%2C%20%5B46.20562%2C%206.15917%2C%205.0%5D%2C%20%5B46.1927%2C%206.14447%2C%205.0%5D%2C%20%5B46.16933%2C%206.16671%2C%205.0%5D%2C%20%5B46.21404%2C%206.15012%2C%204.36%5D%2C%20%5B46.22516%2C%206.10496%2C%204.776940514224839%5D%2C%20%5B46.16903%2C%206.15556%2C%205.0%5D%2C%20%5B46.19104%2C%206.14539%2C%204.88%5D%2C%20%5B46.20941%2C%206.13909%2C%205.0%5D%2C%20%5B46.20292%2C%206.14513%2C%204.71%5D%2C%20%5B46.18951%2C%206.11365%2C%204.776940514224839%5D%2C%20%5B46.19256%2C%206.20679%2C%201.0%5D%2C%20%5B46.21546%2C%206.13499%2C%205.0%5D%2C%20%5B46.14285%2C%206.04207%2C%204.776940514224839%5D%2C%20%5B46.17443%2C%206.11354%2C%203.5%5D%2C%20%5B46.20069%2C%206.12904%2C%205.0%5D%2C%20%5B46.19043%2C%206.10249%2C%204.4%5D%2C%20%5B46.19361%2C%206.13989%2C%205.0%5D%2C%20%5B46.2047%2C%206.20156%2C%204.0%5D%2C%20%5B46.20377%2C%206.15669%2C%205.0%5D%2C%20%5B46.2201%2C%206.13922%2C%205.0%5D%2C%20%5B46.20954%2C%206.14495%2C%204.0%5D%2C%20%5B46.19797%2C%206.14486%2C%205.0%5D%2C%20%5B46.19227%2C%206.14686%2C%204.83%5D%2C%20%5B46.21295%2C%206.13688%2C%205.0%5D%2C%20%5B46.21277%2C%206.1298%2C%204.776940514224839%5D%2C%20%5B46.19175%2C%206.20215%2C%204.776940514224839%5D%2C%20%5B46.17827%2C%206.12042%2C%205.0%5D%2C%20%5B46.19978%2C%206.1502%2C%204.97%5D%2C%20%5B46.19482%2C%206.1479%2C%204.0%5D%2C%20%5B46.19079%2C%206.14946%2C%205.0%5D%2C%20%5B46.18221%2C%206.193%2C%204.776940514224839%5D%2C%20%5B46.20456%2C%206.12109%2C%205.0%5D%2C%20%5B46.22261%2C%206.13501%2C%205.0%5D%2C%20%5B46.28256%2C%206.15981%2C%204.776940514224839%5D%2C%20%5B46.22154%2C%206.12782%2C%204.776940514224839%5D%2C%20%5B46.22896%2C%206.12572%2C%205.0%5D%2C%20%5B46.20856%2C%206.1415%2C%205.0%5D%2C%20%5B46.2062%2C%206.1382%2C%204.776940514224839%5D%2C%20%5B46.15092%2C%206.08458%2C%204.8%5D%2C%20%5B46.194%2C%206.14304%2C%204.75%5D%2C%20%5B46.28705%2C%206.15863%2C%205.0%5D%2C%20%5B46.1977%2C%206.14718%2C%205.0%5D%2C%20%5B46.20829%2C%206.13494%2C%205.0%5D%2C%20%5B46.16945%2C%206.1552%2C%205.0%5D%2C%20%5B46.22662%2C%206.1233%2C%204.776940514224839%5D%2C%20%5B46.2051%2C%206.13155%2C%205.0%5D%2C%20%5B46.21662%2C%206.13651%2C%205.0%5D%2C%20%5B46.21483%2C%206.14806%2C%205.0%5D%2C%20%5B46.18504%2C%206.14348%2C%205.0%5D%2C%20%5B46.20296%2C%206.16337%2C%205.0%5D%2C%20%5B46.21105%2C%206.14951%2C%205.0%5D%2C%20%5B46.18117%2C%206.14158%2C%204.776940514224839%5D%2C%20%5B46.20203%2C%206.12828%2C%204.776940514224839%5D%2C%20%5B46.20893%2C%206.13692%2C%204.776940514224839%5D%2C%20%5B46.19259%2C%206.14402%2C%204.776940514224839%5D%2C%20%5B46.1941%2C%206.15383%2C%204.8%5D%2C%20%5B46.18087%2C%206.14297%2C%204.776940514224839%5D%2C%20%5B46.21505%2C%206.13412%2C%205.0%5D%2C%20%5B46.25758%2C%206.15738%2C%204.776940514224839%5D%2C%20%5B46.21065%2C%206.14898%2C%204.776940514224839%5D%2C%20%5B46.21004%2C%206.13795%2C%205.0%5D%2C%20%5B46.2044%2C%206.16253%2C%204.9%5D%2C%20%5B46.19511%2C%206.16203%2C%204.776940514224839%5D%2C%20%5B46.21178%2C%206.14672%2C%205.0%5D%2C%20%5B46.21186%2C%206.14759%2C%205.0%5D%2C%20%5B46.2124%2C%206.14752%2C%204.776940514224839%5D%2C%20%5B46.20576%2C%206.1607%2C%205.0%5D%2C%20%5B46.19502%2C%206.15454%2C%205.0%5D%2C%20%5B46.23065%2C%206.1236%2C%205.0%5D%2C%20%5B46.20983%2C%206.12743%2C%204.2%5D%2C%20%5B46.21127%2C%206.12408%2C%205.0%5D%2C%20%5B46.20835%2C%206.14378%2C%205.0%5D%2C%20%5B46.225082%2C%206.10903%2C%204.776940514224839%5D%2C%20%5B46.19147%2C%206.1465%2C%204.776940514224839%5D%2C%20%5B46.20711%2C%206.13881%2C%204.776940514224839%5D%2C%20%5B46.19016%2C%206.13455%2C%204.0%5D%2C%20%5B46.21032%2C%206.13612%2C%204.0%5D%2C%20%5B46.19481%2C%206.15151%2C%204.776940514224839%5D%2C%20%5B46.21149%2C%206.14765%2C%205.0%5D%2C%20%5B46.20888%2C%206.13802%2C%204.776940514224839%5D%2C%20%5B46.18278%2C%206.14568%2C%204.776940514224839%5D%2C%20%5B46.21424%2C%206.13149%2C%205.0%5D%2C%20%5B46.21239%2C%206.14921%2C%204.776940514224839%5D%2C%20%5B46.20056%2C%206.13763%2C%204.776940514224839%5D%2C%20%5B46.19851%2C%206.15547%2C%205.0%5D%2C%20%5B46.19499%2C%206.16581%2C%204.776940514224839%5D%2C%20%5B46.20151%2C%206.16371%2C%205.0%5D%2C%20%5B46.35233%2C%206.20166%2C%205.0%5D%2C%20%5B46.2002%2C%206.14812%2C%204.776940514224839%5D%2C%20%5B46.1977%2C%206.16213%2C%204.776940514224839%5D%2C%20%5B46.21142%2C%206.14839%2C%204.83%5D%2C%20%5B46.19051%2C%206.13479%2C%204.776940514224839%5D%2C%20%5B46.20004%2C%206.12803%2C%204.776940514224839%5D%2C%20%5B46.18824%2C%206.15169%2C%204.776940514224839%5D%2C%20%5B46.20902%2C%206.13743%2C%204.776940514224839%5D%2C%20%5B46.1972%2C%206.14257%2C%205.0%5D%2C%20%5B46.20992%2C%206.13673%2C%205.0%5D%2C%20%5B46.21275%2C%206.13629%2C%205.0%5D%2C%20%5B46.14466%2C%206.14041%2C%204.776940514224839%5D%2C%20%5B46.20566%2C%206.15967%2C%204.776940514224839%5D%2C%20%5B46.19688%2C%206.19361%2C%205.0%5D%2C%20%5B46.19362%2C%206.14491%2C%204.776940514224839%5D%2C%20%5B46.21328%2C%206.21012%2C%205.0%5D%2C%20%5B46.214558%2C%206.134764%2C%205.0%5D%2C%20%5B46.20154%2C%206.15896%2C%204.776940514224839%5D%2C%20%5B46.20417%2C%206.13628%2C%205.0%5D%2C%20%5B46.205%2C%206.12547%2C%204.776940514224839%5D%2C%20%5B46.18044%2C%206.13055%2C%204.0%5D%2C%20%5B46.20966%2C%206.14674%2C%205.0%5D%2C%20%5B46.20439%2C%206.16018%2C%204.776940514224839%5D%2C%20%5B46.17979%2C%206.11874%2C%204.0%5D%2C%20%5B46.21005%2C%206.12785%2C%205.0%5D%2C%20%5B46.20966%2C%206.14944%2C%205.0%5D%2C%20%5B46.19949%2C%206.1334%2C%204.776940514224839%5D%2C%20%5B46.20575%2C%206.23802%2C%204.776940514224839%5D%2C%20%5B46.20212%2C%206.13212%2C%204.8%5D%2C%20%5B46.19724%2C%206.15569%2C%204.776940514224839%5D%2C%20%5B46.21076%2C%206.13331%2C%204.85%5D%2C%20%5B46.1953%2C%206.143%2C%205.0%5D%2C%20%5B46.21121%2C%206.12971%2C%204.776940514224839%5D%2C%20%5B46.18391%2C%206.14802%2C%205.0%5D%2C%20%5B46.19734%2C%206.15845%2C%205.0%5D%2C%20%5B46.21664%2C%206.1311%2C%205.0%5D%2C%20%5B46.19114%2C%206.14201%2C%204.776940514224839%5D%2C%20%5B46.19951%2C%206.13371%2C%205.0%5D%2C%20%5B46.18705%2C%206.13858%2C%204.776940514224839%5D%2C%20%5B46.20175%2C%206.16211%2C%205.0%5D%2C%20%5B46.20625%2C%206.16172%2C%204.776940514224839%5D%2C%20%5B46.20372%2C%206.15755%2C%205.0%5D%2C%20%5B46.20301%2C%206.18756%2C%205.0%5D%2C%20%5B46.193%2C%206.14422%2C%204.776940514224839%5D%2C%20%5B46.2003%2C%206.13626%2C%204.776940514224839%5D%2C%20%5B46.29943%2C%206.24519%2C%205.0%5D%2C%20%5B46.28487%2C%206.16574%2C%204.776940514224839%5D%2C%20%5B46.21458%2C%206.15151%2C%204.776940514224839%5D%2C%20%5B46.20672%2C%206.13492%2C%204.776940514224839%5D%2C%20%5B46.218201%2C%206.14267%2C%204.5%5D%2C%20%5B46.19528%2C%206.14169%2C%204.776940514224839%5D%2C%20%5B46.18548%2C%206.09672%2C%204.776940514224839%5D%2C%20%5B46.21339%2C%206.14905%2C%204.776940514224839%5D%2C%20%5B46.19423%2C%206.14419%2C%205.0%5D%2C%20%5B46.22269%2C%206.14812%2C%204.776940514224839%5D%2C%20%5B46.1952%2C%206.20071%2C%204.776940514224839%5D%2C%20%5B46.20599%2C%206.13377%2C%204.776940514224839%5D%2C%20%5B46.21281%2C%206.13511%2C%205.0%5D%2C%20%5B46.19607%2C%206.19046%2C%204.776940514224839%5D%2C%20%5B46.21127%2C%206.14573%2C%204.776940514224839%5D%2C%20%5B46.19725%2C%206.15225%2C%204.776940514224839%5D%2C%20%5B46.21702%2C%206.13287%2C%203.75%5D%2C%20%5B46.21705%2C%206.13188%2C%204.776940514224839%5D%2C%20%5B46.21755%2C%206.13319%2C%204.5%5D%2C%20%5B46.26133%2C%206.11604%2C%204.776940514224839%5D%2C%20%5B46.20218%2C%206.15873%2C%205.0%5D%2C%20%5B46.19719%2C%206.15059%2C%204.776940514224839%5D%2C%20%5B46.19575%2C%206.15049%2C%204.776940514224839%5D%2C%20%5B46.19693%2C%206.15126%2C%204.776940514224839%5D%2C%20%5B46.1955%2C%206.15244%2C%204.776940514224839%5D%2C%20%5B46.19556%2C%206.15074%2C%204.776940514224839%5D%2C%20%5B46.19586%2C%206.15254%2C%204.776940514224839%5D%2C%20%5B46.19698%2C%206.15207%2C%204.776940514224839%5D%2C%20%5B46.19522%2C%206.15066%2C%204.776940514224839%5D%2C%20%5B46.19582%2C%206.15054%2C%204.776940514224839%5D%2C%20%5B46.19522%2C%206.1506%2C%204.776940514224839%5D%2C%20%5B46.19571%2C%206.15205%2C%204.776940514224839%5D%2C%20%5B46.19647%2C%206.15192%2C%204.776940514224839%5D%2C%20%5B46.19741%2C%206.15138%2C%204.776940514224839%5D%2C%20%5B46.19791%2C%206.1442%2C%204.776940514224839%5D%2C%20%5B46.1952%2C%206.15079%2C%204.776940514224839%5D%2C%20%5B46.1966%2C%206.15275%2C%204.776940514224839%5D%2C%20%5B46.19598%2C%206.15122%2C%204.776940514224839%5D%2C%20%5B46.19571%2C%206.15253%2C%204.776940514224839%5D%2C%20%5B46.1952%2C%206.15223%2C%204.776940514224839%5D%2C%20%5B46.1959%2C%206.15229%2C%204.776940514224839%5D%2C%20%5B46.2027%2C%206.1455%2C%204.776940514224839%5D%2C%20%5B46.188515%2C%206.145627%2C%204.776940514224839%5D%2C%20%5B46.21284%2C%206.13435%2C%204.776940514224839%5D%2C%20%5B46.2008%2C%206.16426%2C%204.776940514224839%5D%2C%20%5B46.17961%2C%206.14253%2C%204.776940514224839%5D%2C%20%5B46.21313%2C%206.14766%2C%204.776940514224839%5D%2C%20%5B46.20821%2C%206.1417%2C%205.0%5D%2C%20%5B46.19474%2C%206.14495%2C%203.0%5D%2C%20%5B46.22061%2C%206.10791%2C%204.776940514224839%5D%2C%20%5B46.25777%2C%206.11789%2C%205.0%5D%2C%20%5B46.22662%2C%206.109054%2C%204.776940514224839%5D%2C%20%5B46.21839%2C%206.14926%2C%204.776940514224839%5D%2C%20%5B46.21125%2C%206.14859%2C%205.0%5D%2C%20%5B46.2636%2C%206.11339%2C%204.776940514224839%5D%2C%20%5B46.16697%2C%206.18637%2C%204.776940514224839%5D%2C%20%5B46.22662%2C%206.109054%2C%204.776940514224839%5D%2C%20%5B46.2009%2C%206.14799%2C%204.776940514224839%5D%2C%20%5B46.22662%2C%206.109054%2C%205.0%5D%2C%20%5B46.23162%2C%206.11277%2C%204.75%5D%2C%20%5B46.20533%2C%206.16182%2C%205.0%5D%2C%20%5B46.18247%2C%206.19524%2C%204.776940514224839%5D%2C%20%5B46.18306%2C%206.19457%2C%204.0%5D%2C%20%5B46.18024%2C%206.19817%2C%204.776940514224839%5D%2C%20%5B46.2102%2C%206.14288%2C%204.776940514224839%5D%2C%20%5B46.19145%2C%206.15463%2C%204.776940514224839%5D%2C%20%5B46.18941%2C%206.14346%2C%204.776940514224839%5D%2C%20%5B46.21073%2C%206.14717%2C%204.776940514224839%5D%2C%20%5B46.20642%2C%206.16356%2C%205.0%5D%2C%20%5B46.21262%2C%206.14491%2C%204.776940514224839%5D%2C%20%5B46.20361%2C%206.1379%2C%204.776940514224839%5D%2C%20%5B46.14217%2C%206.04278%2C%204.776940514224839%5D%2C%20%5B46.21226%2C%206.14851%2C%204.776940514224839%5D%2C%20%5B46.18605%2C%206.14394%2C%204.776940514224839%5D%2C%20%5B46.203%2C%206.18735%2C%205.0%5D%2C%20%5B46.20285%2C%206.167%2C%204.776940514224839%5D%2C%20%5B46.20353%2C%206.15584%2C%204.776940514224839%5D%2C%20%5B46.19562%2C%206.14096%2C%204.776940514224839%5D%2C%20%5B46.211582%2C%206.149145%2C%204.776940514224839%5D%2C%20%5B46.19092%2C%206.1596%2C%204.776940514224839%5D%2C%20%5B46.19744%2C%206.14012%2C%204.776940514224839%5D%2C%20%5B46.18256%2C%206.19868%2C%204.776940514224839%5D%2C%20%5B46.2099%2C%206.13102%2C%204.776940514224839%5D%2C%20%5B46.20885%2C%206.12707%2C%204.776940514224839%5D%2C%20%5B46.2087%2C%206.1443%2C%204.776940514224839%5D%2C%20%5B46.18265%2C%206.19702%2C%204.776940514224839%5D%2C%20%5B46.21581%2C%206.14823%2C%205.0%5D%2C%20%5B46.213772%2C%206.079366%2C%204.776940514224839%5D%2C%20%5B46.19647%2C%206.14389%2C%204.776940514224839%5D%2C%20%5B46.199%2C%206.13608%2C%204.776940514224839%5D%2C%20%5B46.19916%2C%206.1581%2C%204.776940514224839%5D%2C%20%5B46.20285%2C%206.17311%2C%204.776940514224839%5D%2C%20%5B46.18624%2C%206.14245%2C%204.776940514224839%5D%2C%20%5B46.20127%2C%206.13735%2C%204.776940514224839%5D%2C%20%5B46.20965%2C%206.0795%2C%204.776940514224839%5D%2C%20%5B46.35476%2C%207.13333%2C%204.7%5D%2C%20%5B46.52228%2C%206.66425%2C%204.72%5D%2C%20%5B46.4754%2C%206.32883%2C%204.776940514224839%5D%2C%20%5B46.53873%2C%206.62034%2C%204.776940514224839%5D%2C%20%5B46.44715%2C%206.89659%2C%204.91%5D%2C%20%5B46.54308%2C%206.59409%2C%204.67%5D%2C%20%5B46.3496%2C%207.16248%2C%204.93%5D%2C%20%5B46.45231%2C%206.86073%2C%204.83%5D%2C%20%5B46.29621%2C%207.05534%2C%204.92%5D%2C%20%5B46.39469%2C%206.25042%2C%205.0%5D%2C%20%5B46.52142%2C%206.63811%2C%204.73%5D%2C%20%5B46.47443%2C%206.80248%2C%204.83%5D%2C%20%5B46.47473%2C%206.8007%2C%204.9%5D%2C%20%5B46.5307%2C%206.63133%2C%204.3%5D%2C%20%5B46.37578%2C%206.91791%2C%204.55%5D%2C%20%5B46.46643%2C%206.84233%2C%204.776940514224839%5D%2C%20%5B46.52513%2C%206.61594%2C%204.62%5D%2C%20%5B46.49185%2C%206.74834%2C%204.776940514224839%5D%2C%20%5B46.4671%2C%207.06954%2C%204.88%5D%2C%20%5B46.5307%2C%206.63133%2C%204.55%5D%2C%20%5B46.4876%2C%206.72908%2C%204.88%5D%2C%20%5B46.48823%2C%206.73054%2C%204.91%5D%2C%20%5B46.52429%2C%206.63151%2C%204.92%5D%2C%20%5B46.4279%2C%206.92836%2C%204.79%5D%2C%20%5B46.45887%2C%206.33999%2C%205.0%5D%2C%20%5B46.46002%2C%206.84557%2C%205.0%5D%2C%20%5B46.51737%2C%206.65202%2C%204.9%5D%2C%20%5B46.5307%2C%206.63133%2C%204.2%5D%2C%20%5B46.45302%2C%206.1611%2C%204.88%5D%2C%20%5B46.79815%2C%206.62508%2C%204.6%5D%2C%20%5B46.48916%2C%207.2132%2C%205.0%5D%2C%20%5B46.51988%2C%206.49386%2C%204.5%5D%2C%20%5B46.47658%2C%206.82425%2C%204.89%5D%2C%20%5B46.25456%2C%207.09709%2C%204.88%5D%2C%20%5B46.65164%2C%206.5855%2C%204.65%5D%2C%20%5B46.51674%2C%206.51366%2C%204.87%5D%2C%20%5B46.47347%2C%206.80809%2C%204.9%5D%2C%20%5B46.52404%2C%206.6497%2C%205.0%5D%2C%20%5B46.46692%2C%206.86318%2C%204.77%5D%2C%20%5B46.38266%2C%206.24287%2C%205.0%5D%2C%20%5B46.34661%2C%207.01404%2C%204.85%5D%2C%20%5B46.62473%2C%206.43879%2C%204.0%5D%2C%20%5B46.46482%2C%207.05176%2C%204.63%5D%2C%20%5B46.51739%2C%206.49642%2C%204.88%5D%2C%20%5B46.51191%2C%206.6339%2C%205.0%5D%2C%20%5B46.45383%2C%206.94451%2C%204.8%5D%2C%20%5B46.38666%2C%206.23403%2C%205.0%5D%2C%20%5B46.5154%2C%206.62748%2C%204.94%5D%2C%20%5B46.48368%2C%206.83862%2C%204.776940514224839%5D%2C%20%5B46.47062%2C%206.42285%2C%204.85%5D%2C%20%5B46.44367%2C%206.88783%2C%204.776940514224839%5D%2C%20%5B46.42915%2C%206.9141%2C%204.776940514224839%5D%2C%20%5B46.94277%2C%206.99782%2C%204.75%5D%2C%20%5B46.35903%2C%206.92909%2C%204.776940514224839%5D%2C%20%5B46.63105%2C%206.26291%2C%204.97%5D%2C%20%5B46.49967%2C%206.73638%2C%204.75%5D%2C%20%5B46.52176%2C%206.63741%2C%204.79%5D%2C%20%5B46.37563%2C%206.22986%2C%204.94%5D%2C%20%5B46.53664%2C%206.60644%2C%204.76%5D%2C%20%5B46.52398%2C%206.6244%2C%204.88%5D%2C%20%5B46.51613%2C%206.61257%2C%204.71%5D%2C%20%5B46.51124%2C%206.62629%2C%204.82%5D%2C%20%5B46.52538%2C%206.63293%2C%204.776940514224839%5D%2C%20%5B46.44215%2C%206.88722%2C%204.776940514224839%5D%2C%20%5B46.4435%2C%206.88721%2C%204.776940514224839%5D%2C%20%5B46.44349%2C%206.88908%2C%204.776940514224839%5D%2C%20%5B46.52639%2C%206.62004%2C%204.56%5D%2C%20%5B46.47693%2C%207.14354%2C%204.82%5D%2C%20%5B46.30138%2C%207.04208%2C%204.88%5D%2C%20%5B46.51369%2C%206.55734%2C%204.9%5D%2C%20%5B46.53066%2C%206.63127%2C%204.27%5D%2C%20%5B46.53066%2C%206.63127%2C%203.83%5D%2C%20%5B46.5307%2C%206.63099%2C%204.46%5D%2C%20%5B46.53066%2C%206.63127%2C%204.64%5D%2C%20%5B46.52978%2C%206.63195%2C%204.67%5D%2C%20%5B46.53066%2C%206.63127%2C%203.95%5D%2C%20%5B46.53066%2C%206.63127%2C%204.54%5D%2C%20%5B46.53066%2C%206.63127%2C%204.3%5D%2C%20%5B46.53066%2C%206.63127%2C%204.31%5D%2C%20%5B46.53066%2C%206.63127%2C%204.07%5D%2C%20%5B46.53066%2C%206.63127%2C%203.62%5D%2C%20%5B46.50759%2C%206.62698%2C%204.93%5D%2C%20%5B46.47669%2C%206.78015%2C%205.0%5D%2C%20%5B46.53066%2C%206.63127%2C%204.38%5D%2C%20%5B46.50603%2C%206.68636%2C%205.0%5D%2C%20%5B46.53416%2C%206.61967%2C%204.59%5D%2C%20%5B46.53066%2C%206.63127%2C%204.08%5D%2C%20%5B46.43101%2C%206.91152%2C%205.0%5D%2C%20%5B46.53078%2C%206.61351%2C%204.5%5D%2C%20%5B46.51686%2C%206.64348%2C%204.71%5D%2C%20%5B46.2932%2C%207.05536%2C%204.93%5D%2C%20%5B46.44425%2C%206.8891%2C%204.776940514224839%5D%2C%20%5B46.44233%2C%206.88984%2C%204.776940514224839%5D%2C%20%5B46.4681%2C%206.86172%2C%205.0%5D%2C%20%5B46.30461%2C%207.05162%2C%204.91%5D%2C%20%5B46.92245%2C%207.02193%2C%204.79%5D%2C%20%5B46.51875%2C%206.63881%2C%204.94%5D%2C%20%5B46.35192%2C%207.17053%2C%204.7%5D%2C%20%5B46.28201%2C%207.07142%2C%204.81%5D%2C%20%5B46.47336%2C%207.14372%2C%204.82%5D%2C%20%5B46.42052%2C%207.10332%2C%205.0%5D%2C%20%5B46.34947%2C%207.02139%2C%204.94%5D%2C%20%5B46.43635%2C%206.93867%2C%204.776940514224839%5D%2C%20%5B46.27355%2C%207.06455%2C%204.5%5D%2C%20%5B46.29106%2C%207.06318%2C%205.0%5D%2C%20%5B46.38964%2C%206.23902%2C%204.56%5D%2C%20%5B46.52909%2C%206.63092%2C%204.57%5D%2C%20%5B46.47668%2C%207.17417%2C%204.95%5D%2C%20%5B46.46817%2C%206.8949%2C%204.776940514224839%5D%2C%20%5B46.52719%2C%206.6391%2C%205.0%5D%2C%20%5B46.47539%2C%207.13952%2C%204.776940514224839%5D%2C%20%5B46.4528%2C%206.91147%2C%204.88%5D%2C%20%5B46.51254%2C%206.69039%2C%204.29%5D%2C%20%5B46.53066%2C%206.63127%2C%204.17%5D%2C%20%5B46.512%2C%206.63316%2C%204.776940514224839%5D%2C%20%5B46.79058%2C%206.62907%2C%204.76%5D%2C%20%5B46.51809%2C%206.41755%2C%204.54%5D%2C%20%5B46.81892%2C%206.56574%2C%204.83%5D%2C%20%5B46.51249%2C%206.69217%2C%204.58%5D%2C%20%5B46.28975%2C%207.09638%2C%204.8%5D%2C%20%5B46.51895%2C%206.64988%2C%204.4%5D%2C%20%5B46.51749%2C%206.61518%2C%204.776940514224839%5D%2C%20%5B46.27528%2C%207.05832%2C%204.83%5D%2C%20%5B46.51894%2C%206.47581%2C%204.67%5D%2C%20%5B46.45812%2C%206.91662%2C%204.88%5D%2C%20%5B46.51371%2C%206.68559%2C%204.63%5D%2C%20%5B46.34888%2C%207.01752%2C%204.83%5D%2C%20%5B46.29844%2C%207.05755%2C%204.93%5D%2C%20%5B46.45572%2C%206.32891%2C%204.67%5D%2C%20%5B46.29766%2C%207.04974%2C%204.67%5D%2C%20%5B46.53%2C%206.60632%2C%204.5%5D%2C%20%5B46.54126%2C%206.59568%2C%204.7%5D%2C%20%5B46.772152%2C%206.915275%2C%204.82%5D%2C%20%5B46.80713%2C%206.54709%2C%204.57%5D%2C%20%5B46.50877%2C%206.70666%2C%205.0%5D%2C%20%5B46.48786%2C%207.20019%2C%205.0%5D%2C%20%5B46.5284%2C%206.62857%2C%204.74%5D%2C%20%5B46.48359%2C%206.8277%2C%204.69%5D%2C%20%5B46.52206%2C%206.64998%2C%204.41%5D%2C%20%5B46.46343%2C%206.07513%2C%204.45%5D%2C%20%5B46.54948%2C%206.63165%2C%204.776940514224839%5D%2C%20%5B46.9094%2C%207.07994%2C%204.79%5D%2C%20%5B46.35872%2C%207.10497%2C%204.84%5D%2C%20%5B46.4524%2C%206.28727%2C%205.0%5D%2C%20%5B46.44915%2C%206.86832%2C%204.53%5D%2C%20%5B46.51016%2C%206.66488%2C%204.41%5D%2C%20%5B46.51628%2C%206.55321%2C%204.71%5D%2C%20%5B46.30116%2C%207.04062%2C%204.83%5D%2C%20%5B46.51736%2C%206.64099%2C%205.0%5D%2C%20%5B46.28601%2C%207.07016%2C%204.83%5D%2C%20%5B46.84385%2C%206.62861%2C%204.83%5D%2C%20%5B46.8445%2C%206.62691%2C%204.81%5D%2C%20%5B46.33132%2C%206.19972%2C%204.66%5D%2C%20%5B46.54372%2C%206.60584%2C%204.5%5D%2C%20%5B46.5146%2C%206.63255%2C%204.89%5D%2C%20%5B46.38091%2C%206.14948%2C%203.5%5D%2C%20%5B46.48483%2C%206.82619%2C%204.86%5D%2C%20%5B46.52417%2C%206.6311%2C%204.84%5D%2C%20%5B46.52338%2C%206.66102%2C%205.0%5D%2C%20%5B46.45972%2C%206.84456%2C%205.0%5D%2C%20%5B46.5081%2C%206.63763%2C%204.83%5D%2C%20%5B46.53368%2C%206.65629%2C%204.0%5D%2C%20%5B46.52158%2C%206.63867%2C%204.64%5D%2C%20%5B46.42425%2C%206.26535%2C%203.0%5D%2C%20%5B46.34134%2C%207.00534%2C%204.75%5D%2C%20%5B46.466873%2C%206.899583%2C%204.75%5D%2C%20%5B46.38725%2C%206.186%2C%205.0%5D%2C%20%5B46.57994%2C%206.53637%2C%204.8%5D%2C%20%5B46.49812%2C%207.22972%2C%205.0%5D%2C%20%5B46.35026%2C%207.17476%2C%204.5%5D%2C%20%5B46.51067%2C%206.66513%2C%204.48%5D%2C%20%5B46.51551%2C%206.49703%2C%205.0%5D%2C%20%5B46.5624%2C%206.66466%2C%204.5%5D%2C%20%5B46.51513%2C%206.67786%2C%204.6%5D%2C%20%5B46.81891%2C%206.56558%2C%203.75%5D%2C%20%5B46.81575%2C%206.94111%2C%204.776940514224839%5D%2C%20%5B46.274555%2C%207.065786%2C%204.9%5D%2C%20%5B46.45811%2C%206.84717%2C%204.98%5D%2C%20%5B46.45675%2C%206.29251%2C%204.5%5D%2C%20%5B46.51716%2C%206.62309%2C%204.73%5D%2C%20%5B46.50881%2C%206.62448%2C%205.0%5D%2C%20%5B46.61478%2C%206.62583%2C%204.776940514224839%5D%2C%20%5B46.52471%2C%206.62591%2C%204.68%5D%2C%20%5B46.38037%2C%206.21283%2C%204.67%5D%2C%20%5B46.81842%2C%206.56473%2C%204.57%5D%2C%20%5B46.54949%2C%206.55345%2C%204.66%5D%2C%20%5B46.53003%2C%206.65466%2C%204.13%5D%2C%20%5B46.77303%2C%206.66198%2C%204.0%5D%2C%20%5B46.54847%2C%206.55442%2C%204.74%5D%2C%20%5B46.54889%2C%206.55435%2C%204.77%5D%2C%20%5B46.54991%2C%206.553%2C%204.75%5D%2C%20%5B46.27549%2C%207.06318%2C%204.67%5D%2C%20%5B46.53779%2C%206.61422%2C%204.59%5D%2C%20%5B46.54981%2C%206.55286%2C%204.54%5D%2C%20%5B46.5149%2C%206.64759%2C%204.77%5D%2C%20%5B46.28736%2C%207.10127%2C%204.5%5D%2C%20%5B46.55747%2C%206.69357%2C%204.71%5D%2C%20%5B46.44618%2C%206.90686%2C%204.94%5D%2C%20%5B46.60636%2C%206.73873%2C%204.75%5D%2C%20%5B46.51501%2C%206.61656%2C%204.75%5D%2C%20%5B46.30595%2C%207.05692%2C%205.0%5D%2C%20%5B46.38802%2C%206.22168%2C%204.776940514224839%5D%2C%20%5B46.65808%2C%206.32324%2C%204.98%5D%2C%20%5B46.46482%2C%207.05176%2C%204.4%5D%2C%20%5B46.50468%2C%206.47371%2C%205.0%5D%2C%20%5B46.34419%2C%207.01888%2C%204.9%5D%2C%20%5B46.52324%2C%206.65936%2C%205.0%5D%2C%20%5B46.45731%2C%206.20264%2C%204.38%5D%2C%20%5B46.47706%2C%206.82609%2C%204.84%5D%2C%20%5B46.46777%2C%206.84219%2C%204.67%5D%2C%20%5B46.34867%2C%207.17567%2C%204.776940514224839%5D%2C%20%5B46.51848%2C%206.62131%2C%204.8%5D%2C%20%5B46.52297%2C%206.64451%2C%204.41%5D%2C%20%5B46.28639%2C%207.08228%2C%204.85%5D%2C%20%5B46.53583%2C%206.33256%2C%204.88%5D%2C%20%5B46.47895%2C%207.1301%2C%204.67%5D%2C%20%5B46.52475%2C%206.62718%2C%204.89%5D%2C%20%5B46.51701%2C%206.60577%2C%204.75%5D%2C%20%5B46.39697%2C%206.92375%2C%204.93%5D%2C%20%5B46.77448%2C%206.65958%2C%205.0%5D%2C%20%5B46.48983%2C%207.21328%2C%204.776940514224839%5D%2C%20%5B46.38206%2C%206.241%2C%204.94%5D%2C%20%5B46.45496%2C%206.85469%2C%204.75%5D%2C%20%5B46.49725%2C%206.7233%2C%204.5%5D%2C%20%5B46.63855%2C%206.66491%2C%204.57%5D%2C%20%5B46.35102%2C%207.02105%2C%204.776940514224839%5D%2C%20%5B46.51972%2C%206.65131%2C%204.71%5D%2C%20%5B46.50885%2C%206.66064%2C%204.776940514224839%5D%2C%20%5B46.5166%2C%206.61818%2C%204.5%5D%2C%20%5B46.51144%2C%206.30817%2C%204.7%5D%2C%20%5B46.47094%2C%206.8276%2C%204.8%5D%2C%20%5B46.51477%2C%206.63722%2C%204.67%5D%2C%20%5B46.47146%2C%207.13557%2C%204.776940514224839%5D%2C%20%5B46.52057%2C%206.64517%2C%205.0%5D%2C%20%5B46.27175%2C%207.0538%2C%204.56%5D%2C%20%5B46.47216%2C%207.1188%2C%204.86%5D%2C%20%5B46.49173%2C%207.20531%2C%204.93%5D%2C%20%5B46.4685%2C%206.31509%2C%204.776940514224839%5D%2C%20%5B46.5285%2C%206.50179%2C%204.97%5D%2C%20%5B46.42655%2C%206.92774%2C%204.61%5D%2C%20%5B46.56381%2C%206.69799%2C%205.0%5D%2C%20%5B46.34924%2C%207.15669%2C%204.94%5D%2C%20%5B46.49517%2C%207.22826%2C%205.0%5D%2C%20%5B46.8373%2C%206.50784%2C%204.66%5D%2C%20%5B46.52601%2C%206.57404%2C%204.0%5D%2C%20%5B46.75205%2C%206.49905%2C%204.776940514224839%5D%2C%20%5B46.3019%2C%207.04751%2C%204.86%5D%2C%20%5B46.488%2C%206.73119%2C%204.88%5D%2C%20%5B46.35241%2C%207.15699%2C%204.776940514224839%5D%2C%20%5B46.47106%2C%207.11935%2C%204.96%5D%2C%20%5B46.53771%2C%206.5922%2C%204.776940514224839%5D%2C%20%5B46.34991%2C%207.1718%2C%204.776940514224839%5D%2C%20%5B46.33209%2C%206.19213%2C%204.776940514224839%5D%2C%20%5B46.27907%2C%207.07018%2C%204.82%5D%2C%20%5B46.51326%2C%206.69041%2C%204.78%5D%2C%20%5B46.51153%2C%206.69147%2C%204.776940514224839%5D%2C%20%5B46.51164%2C%206.69234%2C%204.5%5D%2C%20%5B46.51114%2C%206.67992%2C%204.776940514224839%5D%2C%20%5B46.51484%2C%206.63671%2C%204.71%5D%2C%20%5B46.53541%2C%206.63294%2C%204.67%5D%2C%20%5B46.29958%2C%207.05295%2C%204.94%5D%2C%20%5B46.85649%2C%206.61436%2C%204.776940514224839%5D%2C%20%5B46.52506%2C%206.62283%2C%204.776940514224839%5D%2C%20%5B46.51458%2C%206.65967%2C%204.84%5D%2C%20%5B46.52151%2C%206.64016%2C%204.776940514224839%5D%2C%20%5B46.44687%2C%206.90621%2C%204.776940514224839%5D%2C%20%5B46.55445%2C%206.686%2C%204.75%5D%2C%20%5B46.44294%2C%206.88056%2C%204.79%5D%2C%20%5B46.33541%2C%206.20228%2C%204.0%5D%2C%20%5B46.52731%2C%206.60227%2C%204.71%5D%2C%20%5B46.52959%2C%206.44487%2C%204.7%5D%2C%20%5B46.51802%2C%206.64943%2C%205.0%5D%2C%20%5B46.69333%2C%206.46016%2C%204.9%5D%2C%20%5B46.52365%2C%206.60041%2C%204.6%5D%2C%20%5B46.75415%2C%206.52776%2C%204.776940514224839%5D%2C%20%5B46.49041%2C%207.20528%2C%204.94%5D%2C%20%5B46.45067%2C%206.86837%2C%204.77%5D%2C%20%5B46.52692%2C%206.6338%2C%205.0%5D%2C%20%5B46.56282%2C%206.70102%2C%205.0%5D%2C%20%5B46.51397%2C%206.64954%2C%204.7%5D%2C%20%5B46.43686%2C%206.93203%2C%204.75%5D%2C%20%5B46.52576%2C%206.56447%2C%203.0%5D%2C%20%5B46.70309%2C%206.57155%2C%204.5%5D%2C%20%5B46.81583%2C%206.61378%2C%204.776940514224839%5D%2C%20%5B46.4663%2C%207.0885%2C%204.72%5D%2C%20%5B46.34604%2C%206.97643%2C%205.0%5D%2C%20%5B46.51594%2C%206.6456%2C%204.82%5D%2C%20%5B46.43672%2C%206.91394%2C%204.9%5D%2C%20%5B46.44189%2C%206.88783%2C%204.776940514224839%5D%2C%20%5B46.502%2C%206.69869%2C%205.0%5D%2C%20%5B46.52255%2C%206.64026%2C%204.94%5D%2C%20%5B46.52824%2C%206.60445%2C%204.59%5D%2C%20%5B46.52702%2C%206.63202%2C%204.776940514224839%5D%2C%20%5B46.49969%2C%206.77076%2C%204.76%5D%2C%20%5B46.52524%2C%206.62635%2C%204.52%5D%2C%20%5B46.49828%2C%206.86742%2C%204.776940514224839%5D%2C%20%5B46.31444%2C%206.97536%2C%204.84%5D%2C%20%5B46.91043%2C%207.08324%2C%204.93%5D%2C%20%5B46.3501%2C%207.15968%2C%205.0%5D%2C%20%5B46.51666%2C%206.52245%2C%204.776940514224839%5D%2C%20%5B46.34365%2C%207.00531%2C%204.91%5D%2C%20%5B46.53935%2C%206.64007%2C%204.5%5D%2C%20%5B46.51538%2C%206.64853%2C%204.77%5D%2C%20%5B46.47508%2C%206.32799%2C%204.98%5D%2C%20%5B46.51934%2C%206.64028%2C%204.89%5D%2C%20%5B46.51994%2C%206.63786%2C%205.0%5D%2C%20%5B46.51864%2C%206.49457%2C%204.54%5D%2C%20%5B46.42512%2C%206.26251%2C%204.0%5D%2C%20%5B46.51304%2C%206.50128%2C%204.85%5D%2C%20%5B46.47132%2C%207.12143%2C%204.85%5D%2C%20%5B46.46004%2C%206.92538%2C%204.79%5D%2C%20%5B46.55205%2C%206.582%2C%204.776940514224839%5D%2C%20%5B46.51018%2C%206.63789%2C%204.71%5D%2C%20%5B46.35081%2C%207.15944%2C%205.0%5D%2C%20%5B46.46482%2C%207.05176%2C%204.62%5D%2C%20%5B46.28008%2C%207.07531%2C%205.0%5D%2C%20%5B46.51219%2C%206.62472%2C%205.0%5D%2C%20%5B46.43111%2C%206.91416%2C%204.75%5D%2C%20%5B46.29922%2C%207.05711%2C%204.83%5D%2C%20%5B46.47435%2C%207.12668%2C%204.776940514224839%5D%2C%20%5B46.47913%2C%206.45947%2C%204.93%5D%2C%20%5B46.53624%2C%206.65671%2C%204.776940514224839%5D%2C%20%5B46.43937%2C%206.89213%2C%204.86%5D%2C%20%5B46.66052%2C%206.60836%2C%205.0%5D%2C%20%5B46.50642%2C%206.48888%2C%205.0%5D%2C%20%5B46.51549%2C%206.6498%2C%204.77%5D%2C%20%5B46.46529%2C%206.84495%2C%204.82%5D%2C%20%5B46.484%2C%206.84908%2C%204.75%5D%2C%20%5B46.47893%2C%206.83054%2C%204.776940514224839%5D%2C%20%5B46.47904%2C%206.45391%2C%205.0%5D%2C%20%5B46.52288%2C%206.5133%2C%204.1%5D%2C%20%5B46.52928%2C%206.63508%2C%203.5%5D%2C%20%5B46.53112%2C%206.61567%2C%205.0%5D%2C%20%5B46.4795%2C%206.45939%2C%204.776940514224839%5D%2C%20%5B46.43332%2C%206.91174%2C%204.83%5D%2C%20%5B46.53299%2C%206.60104%2C%205.0%5D%2C%20%5B46.51049%2C%206.63764%2C%204.776940514224839%5D%2C%20%5B46.47352%2C%206.31864%2C%204.776940514224839%5D%2C%20%5B46.32848%2C%206.9598%2C%204.776940514224839%5D%2C%20%5B46.51137%2C%206.55221%2C%204.96%5D%2C%20%5B46.32222%2C%207.0737%2C%204.5%5D%2C%20%5B46.53322%2C%206.59943%2C%204.776940514224839%5D%2C%20%5B46.38498%2C%206.24502%2C%204.87%5D%2C%20%5B46.44408%2C%206.91016%2C%204.81%5D%2C%20%5B46.51596%2C%206.64254%2C%204.86%5D%2C%20%5B46.54289%2C%206.65535%2C%204.67%5D%2C%20%5B46.44189%2C%206.92564%2C%204.74%5D%2C%20%5B46.38437%2C%206.20821%2C%205.0%5D%2C%20%5B46.84985%2C%206.63171%2C%204.776940514224839%5D%2C%20%5B46.4406%2C%206.89269%2C%205.0%5D%2C%20%5B46.43754%2C%206.90997%2C%204.776940514224839%5D%2C%20%5B46.52136%2C%206.63575%2C%205.0%5D%2C%20%5B46.39905%2C%207.10874%2C%204.88%5D%2C%20%5B46.52344%2C%206.654%2C%204.65%5D%2C%20%5B46.46773%2C%206.8422%2C%204.67%5D%2C%20%5B46.52571%2C%206.61432%2C%204.2%5D%2C%20%5B46.51547%2C%206.70619%2C%205.0%5D%2C%20%5B46.34381%2C%207.01642%2C%204.72%5D%2C%20%5B46.52503%2C%206.62258%2C%204.776940514224839%5D%2C%20%5B46.51358%2C%206.64645%2C%204.776940514224839%5D%2C%20%5B46.35315%2C%207.0196%2C%204.6%5D%2C%20%5B46.51591%2C%206.64944%2C%204.776940514224839%5D%2C%20%5B46.46482%2C%207.05176%2C%204.75%5D%2C%20%5B46.46099%2C%206.84699%2C%204.67%5D%2C%20%5B46.52653%2C%206.62547%2C%204.83%5D%2C%20%5B46.52053%2C%206.63657%2C%204.0%5D%2C%20%5B46.50833%2C%206.4987%2C%204.776940514224839%5D%2C%20%5B46.53566%2C%206.63352%2C%204.776940514224839%5D%2C%20%5B46.3013%2C%207.04092%2C%204.776940514224839%5D%2C%20%5B46.53332%2C%206.58045%2C%204.6%5D%2C%20%5B46.51247%2C%206.63113%2C%205.0%5D%2C%20%5B46.92233%2C%207.02133%2C%204.82%5D%2C%20%5B46.52955%2C%206.61687%2C%204.83%5D%2C%20%5B46.56266%2C%206.89072%2C%205.0%5D%2C%20%5B46.283%2C%207.08234%2C%204.776940514224839%5D%2C%20%5B46.5358%2C%206.59736%2C%204.86%5D%2C%20%5B46.47787%2C%207.13057%2C%204.86%5D%2C%20%5B46.46939%2C%206.94301%2C%205.0%5D%2C%20%5B46.46608%2C%206.84549%2C%204.88%5D%2C%20%5B46.38906%2C%206.22256%2C%204.776940514224839%5D%2C%20%5B46.46794%2C%206.90066%2C%205.0%5D%2C%20%5B46.49316%2C%206.77148%2C%204.67%5D%2C%20%5B46.52423%2C%206.62534%2C%204.88%5D%2C%20%5B46.51588%2C%206.62759%2C%204.776940514224839%5D%2C%20%5B46.52586%2C%206.61613%2C%205.0%5D%2C%20%5B46.51974%2C%206.6382%2C%204.29%5D%2C%20%5B46.49188%2C%206.38733%2C%204.776940514224839%5D%2C%20%5B46.50074%2C%206.69071%2C%204.98%5D%2C%20%5B46.5152%2C%206.6249%2C%204.75%5D%2C%20%5B46.51581%2C%206.68549%2C%204.5%5D%2C%20%5B46.33564%2C%206.16341%2C%204.79%5D%2C%20%5B46.54549%2C%206.66865%2C%204.8%5D%2C%20%5B46.29989%2C%207.04396%2C%204.8%5D%2C%20%5B46.30037%2C%207.04183%2C%204.82%5D%2C%20%5B46.30061%2C%207.04181%2C%204.25%5D%2C%20%5B46.30161%2C%207.04184%2C%205.0%5D%2C%20%5B46.52649%2C%206.62093%2C%205.0%5D%2C%20%5B46.33759%2C%206.16223%2C%204.83%5D%2C%20%5B46.513%2C%206.64091%2C%204.776940514224839%5D%2C%20%5B46.51743%2C%206.62706%2C%205.0%5D%2C%20%5B46.50989%2C%206.30743%2C%204.776940514224839%5D%2C%20%5B46.47249%2C%206.3199%2C%204.88%5D%2C%20%5B46.51583%2C%206.62674%2C%204.776940514224839%5D%2C%20%5B46.28359%2C%207.0818%2C%204.71%5D%2C%20%5B46.47393%2C%207.14089%2C%205.0%5D%2C%20%5B46.52582%2C%206.62288%2C%204.776940514224839%5D%2C%20%5B46.35646%2C%207.15345%2C%204.97%5D%2C%20%5B46.44317%2C%206.91332%2C%204.776940514224839%5D%2C%20%5B46.34697%2C%207.01029%2C%204.75%5D%2C%20%5B46.46682%2C%206.31651%2C%204.79%5D%2C%20%5B46.51392%2C%206.52939%2C%204.95%5D%2C%20%5B46.27424%2C%207.06657%2C%204.5%5D%2C%20%5B46.34926%2C%207.15373%2C%204.92%5D%2C%20%5B46.34356%2C%207.01702%2C%204.81%5D%2C%20%5B46.30633%2C%207.05769%2C%204.83%5D%2C%20%5B46.52445%2C%206.62211%2C%204.776940514224839%5D%2C%20%5B46.38451%2C%206.20564%2C%205.0%5D%2C%20%5B46.60867%2C%206.22137%2C%204.67%5D%2C%20%5B46.45933%2C%206.21548%2C%204.9%5D%2C%20%5B46.4618%2C%206.84415%2C%204.5%5D%2C%20%5B46.52146%2C%206.63861%2C%204.71%5D%2C%20%5B46.50704%2C%206.4885%2C%204.33%5D%2C%20%5B46.485%2C%206.44667%2C%204.78%5D%2C%20%5B46.35545%2C%207.02577%2C%204.776940514224839%5D%2C%20%5B46.50584%2C%206.68724%2C%204.96%5D%2C%20%5B46.54765%2C%206.64322%2C%204.84%5D%2C%20%5B46.46853%2C%206.83603%2C%204.776940514224839%5D%2C%20%5B46.35234%2C%207.15985%2C%204.76%5D%2C%20%5B46.46062%2C%206.88138%2C%204.47%5D%2C%20%5B46.35231%2C%207.17075%2C%205.0%5D%2C%20%5B46.29559%2C%207.05671%2C%205.0%5D%2C%20%5B46.53187%2C%206.56438%2C%204.33%5D%2C%20%5B46.51302%2C%206.64616%2C%204.83%5D%2C%20%5B46.52403%2C%206.62711%2C%204.63%5D%2C%20%5B46.48037%2C%207.14478%2C%204.776940514224839%5D%2C%20%5B46.53065%2C%206.61241%2C%204.776940514224839%5D%2C%20%5B46.66854%2C%206.79254%2C%204.5%5D%2C%20%5B46.48957%2C%207.21858%2C%204.82%5D%2C%20%5B46.51148%2C%206.64279%2C%204.73%5D%2C%20%5B46.36182%2C%207.05158%2C%204.83%5D%2C%20%5B46.429%2C%206.92111%2C%204.71%5D%2C%20%5B46.34824%2C%207.1618%2C%204.87%5D%2C%20%5B46.34979%2C%207.17018%2C%204.68%5D%2C%20%5B46.5199%2C%206.62896%2C%204.0%5D%2C%20%5B46.4518%2C%206.17149%2C%204.5%5D%2C%20%5B46.4518%2C%206.17149%2C%204.64%5D%2C%20%5B46.52776%2C%206.6352%2C%204.67%5D%2C%20%5B46.35015%2C%207.02164%2C%205.0%5D%2C%20%5B46.4678%2C%206.90001%2C%204.75%5D%2C%20%5B46.45879%2C%206.87002%2C%204.74%5D%2C%20%5B46.2988%2C%207.05419%2C%204.67%5D%2C%20%5B46.51277%2C%206.61762%2C%205.0%5D%2C%20%5B46.27878%2C%207.0697%2C%204.5%5D%2C%20%5B46.52506%2C%206.59281%2C%204.776940514224839%5D%2C%20%5B46.29514%2C%207.06084%2C%204.8%5D%2C%20%5B46.8485%2C%206.63073%2C%204.776940514224839%5D%2C%20%5B46.55687%2C%206.58016%2C%204.57%5D%2C%20%5B46.52293%2C%206.62822%2C%204.83%5D%2C%20%5B46.53969%2C%206.62238%2C%204.776940514224839%5D%2C%20%5B46.52516%2C%206.63294%2C%204.776940514224839%5D%2C%20%5B46.34712%2C%207.01695%2C%204.94%5D%2C%20%5B46.39882%2C%207.10214%2C%204.776940514224839%5D%2C%20%5B46.42631%2C%206.25176%2C%204.76%5D%2C%20%5B46.53316%2C%206.65327%2C%204.75%5D%2C%20%5B46.47855%2C%206.3724%2C%205.0%5D%2C%20%5B46.31146%2C%207.06061%2C%204.38%5D%2C%20%5B46.46774%2C%206.36501%2C%204.91%5D%2C%20%5B46.52183%2C%206.63721%2C%205.0%5D%2C%20%5B46.34381%2C%207.00575%2C%204.776940514224839%5D%2C%20%5B46.3417%2C%207.00594%2C%204.87%5D%2C%20%5B46.45335%2C%206.89358%2C%204.55%5D%2C%20%5B46.32776%2C%206.19823%2C%204.75%5D%2C%20%5B46.52322%2C%206.62103%2C%204.776940514224839%5D%2C%20%5B46.51772%2C%206.61859%2C%205.0%5D%2C%20%5B46.50959%2C%206.62279%2C%204.99%5D%2C%20%5B46.43274%2C%206.91577%2C%205.0%5D%2C%20%5B46.51584%2C%206.62733%2C%204.776940514224839%5D%2C%20%5B46.52954%2C%206.56058%2C%204.776940514224839%5D%2C%20%5B46.43993%2C%206.91103%2C%205.0%5D%2C%20%5B46.47649%2C%207.13012%2C%205.0%5D%2C%20%5B46.31495%2C%206.94946%2C%204.776940514224839%5D%2C%20%5B46.52472%2C%206.63227%2C%205.0%5D%2C%20%5B46.52494%2C%206.62588%2C%204.776940514224839%5D%2C%20%5B46.77871%2C%206.72322%2C%204.776940514224839%5D%2C%20%5B46.29968%2C%207.05508%2C%205.0%5D%2C%20%5B46.52687%2C%206.66009%2C%204.57%5D%2C%20%5B46.45984%2C%206.84216%2C%204.776940514224839%5D%2C%20%5B46.51397%2C%206.55818%2C%204.83%5D%2C%20%5B46.51642%2C%206.61926%2C%205.0%5D%2C%20%5B46.52744%2C%206.64219%2C%204.776940514224839%5D%2C%20%5B46.3645%2C%207.05834%2C%205.0%5D%2C%20%5B46.50984%2C%206.66994%2C%204.4%5D%2C%20%5B46.32292%2C%206.95625%2C%204.776940514224839%5D%2C%20%5B46.52669%2C%206.68377%2C%204.33%5D%2C%20%5B46.52331%2C%206.61532%2C%204.78%5D%2C%20%5B46.55492%2C%206.66564%2C%204.776940514224839%5D%2C%20%5B46.52685%2C%206.57133%2C%204.776940514224839%5D%2C%20%5B46.30105%2C%207.03356%2C%204.5%5D%2C%20%5B46.82607%2C%206.52756%2C%204.92%5D%2C%20%5B46.56605%2C%206.59793%2C%204.776940514224839%5D%2C%20%5B46.48088%2C%206.79597%2C%204.74%5D%2C%20%5B46.34876%2C%207.15762%2C%205.0%5D%2C%20%5B46.44055%2C%206.91002%2C%204.83%5D%2C%20%5B46.51462%2C%206.61799%2C%204.776940514224839%5D%2C%20%5B46.50909%2C%206.68682%2C%204.4%5D%2C%20%5B46.52083%2C%206.63098%2C%204.88%5D%2C%20%5B46.3142%2C%206.17007%2C%204.58%5D%2C%20%5B46.30889%2C%207.05795%2C%204.88%5D%2C%20%5B46.44222%2C%206.89105%2C%204.776940514224839%5D%2C%20%5B46.58559%2C%206.51127%2C%204.5%5D%2C%20%5B46.47457%2C%207.13349%2C%204.78%5D%2C%20%5B46.74073%2C%206.45715%2C%204.76%5D%2C%20%5B46.74108%2C%206.45729%2C%205.0%5D%2C%20%5B46.74158%2C%206.45707%2C%204.83%5D%2C%20%5B46.45257%2C%206.11653%2C%204.91%5D%2C%20%5B46.52399%2C%206.62746%2C%204.91%5D%2C%20%5B46.52444%2C%206.62317%2C%204.83%5D%2C%20%5B46.51815%2C%206.62942%2C%204.88%5D%2C%20%5B46.48391%2C%206.44462%2C%204.86%5D%2C%20%5B46.53069%2C%206.63117%2C%204.776940514224839%5D%2C%20%5B46.51605%2C%206.63731%2C%204.0%5D%2C%20%5B46.53174%2C%206.61626%2C%204.79%5D%2C%20%5B46.53556%2C%206.61839%2C%204.81%5D%2C%20%5B46.51563%2C%206.53542%2C%204.71%5D%2C%20%5B46.78046%2C%206.6439%2C%204.776940514224839%5D%2C%20%5B46.52798%2C%206.62969%2C%205.0%5D%2C%20%5B46.51551%2C%206.62617%2C%204.776940514224839%5D%2C%20%5B46.53677%2C%206.56708%2C%204.776940514224839%5D%2C%20%5B46.51667%2C%206.63175%2C%205.0%5D%2C%20%5B46.29916%2C%207.0397%2C%205.0%5D%2C%20%5B46.38538%2C%206.22598%2C%204.62%5D%2C%20%5B46.44829%2C%206.16065%2C%204.776940514224839%5D%2C%20%5B46.4636%2C%206.83644%2C%205.0%5D%2C%20%5B46.4713%2C%206.84754%2C%204.776940514224839%5D%2C%20%5B46.51896%2C%206.63216%2C%204.776940514224839%5D%2C%20%5B46.48925%2C%206.73076%2C%204.94%5D%2C%20%5B46.34623%2C%207.01515%2C%204.38%5D%2C%20%5B46.5178%2C%206.65011%2C%205.0%5D%2C%20%5B46.45332%2C%206.86234%2C%204.87%5D%2C%20%5B46.53585%2C%206.65504%2C%204.776940514224839%5D%2C%20%5B46.52619%2C%206.6199%2C%204.6%5D%2C%20%5B46.52988%2C%206.60827%2C%200.0%5D%2C%20%5B46.34708%2C%207.01556%2C%204.93%5D%2C%20%5B46.46482%2C%207.05176%2C%204.75%5D%2C%20%5B46.827965%2C%206.538467%2C%204.88%5D%2C%20%5B46.36166%2C%207.11932%2C%204.8%5D%2C%20%5B46.82319%2C%206.52844%2C%204.776940514224839%5D%2C%20%5B46.54422%2C%206.65898%2C%204.71%5D%2C%20%5B46.47129%2C%207.11939%2C%204.776940514224839%5D%2C%20%5B46.51774%2C%206.63721%2C%204.776940514224839%5D%2C%20%5B46.35243%2C%207.16983%2C%204.75%5D%2C%20%5B46.51501%2C%206.66502%2C%204.776940514224839%5D%2C%20%5B46.6428%2C%206.64189%2C%205.0%5D%2C%20%5B46.5137%2C%206.63642%2C%204.776940514224839%5D%2C%20%5B46.37989%2C%206.16142%2C%205.0%5D%2C%20%5B46.57021%2C%206.80558%2C%204.776940514224839%5D%2C%20%5B46.90489%2C%206.99201%2C%204.66%5D%2C%20%5B46.30033%2C%207.0391%2C%204.776940514224839%5D%2C%20%5B46.38315%2C%206.23717%2C%204.99%5D%2C%20%5B46.45191%2C%206.88934%2C%204.5%5D%2C%20%5B46.50878%2C%206.49638%2C%204.776940514224839%5D%2C%20%5B46.31139%2C%206.18238%2C%204.91%5D%2C%20%5B46.52377%2C%206.63807%2C%204.776940514224839%5D%2C%20%5B46.53426%2C%206.59713%2C%204.65%5D%2C%20%5B46.79825%2C%206.62674%2C%205.0%5D%2C%20%5B46.30429%2C%206.17965%2C%205.0%5D%2C%20%5B46.55428%2C%206.55394%2C%204.75%5D%2C%20%5B46.43061%2C%206.91493%2C%204.8%5D%2C%20%5B46.35402%2C%207.0246%2C%204.96%5D%2C%20%5B46.54377%2C%206.65851%2C%204.776940514224839%5D%2C%20%5B46.51283%2C%206.52865%2C%205.0%5D%2C%20%5B46.32705%2C%206.17482%2C%204.776940514224839%5D%2C%20%5B46.51138%2C%206.62437%2C%204.73%5D%2C%20%5B46.84606%2C%206.62998%2C%204.776940514224839%5D%2C%20%5B46.47305%2C%207.12522%2C%204.88%5D%2C%20%5B46.52821%2C%206.66006%2C%204.68%5D%2C%20%5B46.467%2C%206.84767%2C%204.75%5D%2C%20%5B46.27253%2C%207.02976%2C%204.69%5D%2C%20%5B46.51296%2C%206.64251%2C%204.0%5D%2C%20%5B46.37456%2C%206.19519%2C%204.79%5D%2C%20%5B46.51249%2C%206.55475%2C%204.776940514224839%5D%2C%20%5B46.53416%2C%206.60406%2C%204.75%5D%2C%20%5B46.29887%2C%207.05774%2C%204.97%5D%2C%20%5B46.5403%2C%206.63101%2C%204.47%5D%2C%20%5B46.51843%2C%206.45443%2C%204.776940514224839%5D%2C%20%5B46.45375%2C%206.30055%2C%204.97%5D%2C%20%5B46.51424%2C%206.62914%2C%205.0%5D%2C%20%5B46.5648%2C%206.51414%2C%204.67%5D%2C%20%5B46.47816%2C%207.13235%2C%205.0%5D%2C%20%5B46.51221%2C%206.63254%2C%204.9%5D%2C%20%5B46.53022%2C%206.65371%2C%204.776940514224839%5D%2C%20%5B46.43162%2C%206.90957%2C%204.5%5D%2C%20%5B46.64822%2C%206.58801%2C%204.83%5D%2C%20%5B46.51989%2C%206.47573%2C%204.83%5D%2C%20%5B46.45399%2C%206.21138%2C%205.0%5D%2C%20%5B46.46795%2C%206.3451%2C%204.84%5D%2C%20%5B46.46764%2C%206.34345%2C%204.85%5D%2C%20%5B46.52829%2C%206.64136%2C%204.776940514224839%5D%2C%20%5B46.4686%2C%206.83889%2C%204.6%5D%2C%20%5B46.46869%2C%206.34027%2C%204.89%5D%2C%20%5B46.29062%2C%206.98865%2C%205.0%5D%2C%20%5B46.36383%2C%207.05799%2C%204.94%5D%2C%20%5B46.47663%2C%207.13062%2C%205.0%5D%2C%20%5B46.74201%2C%206.60814%2C%204.61%5D%2C%20%5B46.69561%2C%206.45878%2C%204.89%5D%2C%20%5B46.35087%2C%207.16712%2C%205.0%5D%2C%20%5B46.48455%2C%206.83941%2C%204.69%5D%2C%20%5B46.46361%2C%206.84068%2C%205.0%5D%2C%20%5B46.46895%2C%206.84043%2C%204.776940514224839%5D%2C%20%5B46.52167%2C%206.62864%2C%204.75%5D%2C%20%5B46.5261%2C%206.63068%2C%205.0%5D%2C%20%5B46.47154%2C%207.11961%2C%204.94%5D%2C%20%5B46.53523%2C%206.59779%2C%204.79%5D%2C%20%5B46.44734%2C%206.15006%2C%205.0%5D%2C%20%5B46.61449%2C%206.6635%2C%204.71%5D%2C%20%5B46.45526%2C%206.33596%2C%205.0%5D%2C%20%5B46.34068%2C%207.01595%2C%204.0%5D%2C%20%5B46.52781%2C%206.63123%2C%204.68%5D%2C%20%5B46.5158%2C%206.63122%2C%204.89%5D%2C%20%5B46.51522%2C%206.70273%2C%204.86%5D%2C%20%5B46.3419%2C%207.00406%2C%204.76%5D%2C%20%5B46.34947%2C%207.15391%2C%204.776940514224839%5D%2C%20%5B46.46921%2C%207.08609%2C%205.0%5D%2C%20%5B46.51273%2C%206.62758%2C%205.0%5D%2C%20%5B46.50953%2C%206.61854%2C%204.776940514224839%5D%2C%20%5B46.27413%2C%207.06112%2C%204.92%5D%2C%20%5B46.51867%2C%206.61191%2C%204.75%5D%2C%20%5B46.52133%2C%206.61423%2C%204.776940514224839%5D%2C%20%5B46.51975%2C%206.67936%2C%204.67%5D%2C%20%5B46.52354%2C%206.63187%2C%204.776940514224839%5D%2C%20%5B46.46235%2C%206.30874%2C%204.97%5D%2C%20%5B46.51462%2C%206.53231%2C%205.0%5D%2C%20%5B46.5279%2C%206.61549%2C%205.0%5D%2C%20%5B46.3804%2C%206.2198%2C%204.59%5D%2C%20%5B46.52486%2C%206.62801%2C%204.83%5D%2C%20%5B46.45822%2C%206.8582%2C%204.73%5D%2C%20%5B46.69997%2C%206.45639%2C%204.92%5D%2C%20%5B46.29766%2C%207.05454%2C%204.776940514224839%5D%2C%20%5B46.38183%2C%206.22445%2C%204.75%5D%2C%20%5B46.51479%2C%206.61822%2C%204.67%5D%2C%20%5B46.46509%2C%206.83789%2C%204.776940514224839%5D%2C%20%5B46.47276%2C%207.15482%2C%204.86%5D%2C%20%5B46.53092%2C%206.7167%2C%205.0%5D%2C%20%5B46.52553%2C%206.61905%2C%204.52%5D%2C%20%5B46.50927%2C%206.6461%2C%204.81%5D%2C%20%5B46.52394%2C%206.60591%2C%204.776940514224839%5D%2C%20%5B46.47876%2C%206.85431%2C%205.0%5D%2C%20%5B46.44823%2C%206.89493%2C%204.67%5D%2C%20%5B46.52302%2C%206.62834%2C%204.8%5D%2C%20%5B46.51794%2C%206.52583%2C%205.0%5D%2C%20%5B46.50951%2C%206.64473%2C%205.0%5D%2C%20%5B46.4426%2C%206.88999%2C%204.72%5D%2C%20%5B46.51528%2C%206.49499%2C%205.0%5D%2C%20%5B46.29761%2C%207.0397%2C%204.75%5D%2C%20%5B46.4446%2C%206.90957%2C%204.776940514224839%5D%2C%20%5B46.45916%2C%206.85127%2C%205.0%5D%2C%20%5B46.35243%2C%207.16897%2C%204.776940514224839%5D%2C%20%5B46.54376%2C%206.65614%2C%204.776940514224839%5D%2C%20%5B46.71183%2C%206.56814%2C%204.776940514224839%5D%2C%20%5B46.42491%2C%206.92713%2C%204.76%5D%2C%20%5B46.50729%2C%207.16977%2C%205.0%5D%2C%20%5B46.50775%2C%207.16985%2C%204.85%5D%2C%20%5B46.50629%2C%207.17059%2C%204.94%5D%2C%20%5B46.52223%2C%206.62106%2C%204.73%5D%2C%20%5B46.46761%2C%206.84723%2C%204.776940514224839%5D%2C%20%5B46.47927%2C%206.4603%2C%204.88%5D%2C%20%5B46.46174%2C%206.88324%2C%204.75%5D%2C%20%5B46.53222%2C%206.62383%2C%205.0%5D%2C%20%5B46.52769%2C%206.65874%2C%204.776940514224839%5D%2C%20%5B46.53112%2C%206.61839%2C%204.93%5D%2C%20%5B46.52722%2C%206.62296%2C%204.776940514224839%5D%2C%20%5B46.53291%2C%206.59724%2C%205.0%5D%2C%20%5B46.47886%2C%206.45827%2C%204.94%5D%2C%20%5B46.47921%2C%206.82337%2C%204.84%5D%2C%20%5B46.39054%2C%206.238%2C%204.776940514224839%5D%2C%20%5B46.35129%2C%207.15759%2C%204.84%5D%2C%20%5B46.42154%2C%206.92987%2C%204.75%5D%2C%20%5B46.5642%2C%206.70025%2C%204.83%5D%2C%20%5B46.52896%2C%206.63995%2C%204.0%5D%2C%20%5B46.28971%2C%207.08351%2C%204.78%5D%2C%20%5B46.53065%2C%206.64956%2C%204.83%5D%2C%20%5B46.4619%2C%206.84879%2C%204.85%5D%2C%20%5B46.46295%2C%206.84694%2C%204.95%5D%2C%20%5B46.2894%2C%207.02343%2C%204.776940514224839%5D%2C%20%5B46.54623%2C%206.65823%2C%204.73%5D%2C%20%5B46.46889%2C%206.83033%2C%204.75%5D%2C%20%5B46.52072%2C%206.62111%2C%204.84%5D%2C%20%5B46.35596%2C%207.11802%2C%205.0%5D%2C%20%5B46.68295%2C%206.85094%2C%204.78%5D%2C%20%5B46.50648%2C%206.6275%2C%205.0%5D%2C%20%5B46.4341%2C%206.91386%2C%204.776940514224839%5D%2C%20%5B46.51625%2C%206.62593%2C%204.0%5D%2C%20%5B46.35612%2C%207.11835%2C%205.0%5D%2C%20%5B46.29845%2C%207.05618%2C%204.67%5D%2C%20%5B46.35016%2C%206.16609%2C%204.6%5D%2C%20%5B46.41571%2C%206.28147%2C%204.0%5D%2C%20%5B46.50226%2C%206.68646%2C%204.776940514224839%5D%2C%20%5B46.91607%2C%207.01312%2C%204.776940514224839%5D%2C%20%5B46.83335%2C%206.96159%2C%204.0%5D%2C%20%5B46.50376%2C%206.88431%2C%204.79%5D%2C%20%5B46.45509%2C%206.22016%2C%204.776940514224839%5D%2C%20%5B46.29804%2C%207.0563%2C%204.776940514224839%5D%2C%20%5B46.51082%2C%206.89085%2C%204.75%5D%2C%20%5B46.51366%2C%206.69868%2C%204.86%5D%2C%20%5B46.51288%2C%206.70043%2C%204.88%5D%2C%20%5B46.56383%2C%206.69799%2C%204.29%5D%2C%20%5B46.61137%2C%206.50957%2C%204.78%5D%2C%20%5B46.51173%2C%206.66437%2C%204.5%5D%2C%20%5B46.9575%2C%207.01684%2C%204.87%5D%2C%20%5B46.35649%2C%207.1164%2C%205.0%5D%2C%20%5B46.51194%2C%206.54576%2C%204.776940514224839%5D%2C%20%5B46.52731%2C%206.57051%2C%204.75%5D%2C%20%5B46.57562%2C%206.74915%2C%204.8%5D%2C%20%5B46.4516%2C%206.90565%2C%204.776940514224839%5D%2C%20%5B46.54169%2C%206.57366%2C%204.776940514224839%5D%2C%20%5B46.78054%2C%206.6397%2C%204.4%5D%2C%20%5B46.52722%2C%206.61585%2C%204.776940514224839%5D%2C%20%5B46.49075%2C%206.7484%2C%205.0%5D%2C%20%5B46.52045%2C%206.62124%2C%204.48%5D%2C%20%5B46.53187%2C%206.63502%2C%204.72%5D%2C%20%5B46.52727%2C%206.61471%2C%204.5%5D%2C%20%5B46.45831%2C%206.89617%2C%203.75%5D%2C%20%5B46.527%2C%206.63107%2C%204.9%5D%2C%20%5B46.45801%2C%206.86231%2C%204.93%5D%2C%20%5B46.70865%2C%206.3732%2C%204.8%5D%2C%20%5B46.59195%2C%206.56314%2C%204.74%5D%2C%20%5B46.52608%2C%206.64022%2C%204.776940514224839%5D%2C%20%5B46.43554%2C%206.91073%2C%205.0%5D%2C%20%5B46.49214%2C%206.74815%2C%204.67%5D%2C%20%5B46.52402%2C%206.62701%2C%204.75%5D%2C%20%5B46.34437%2C%207.00567%2C%204.49%5D%2C%20%5B46.51717%2C%206.64315%2C%204.776940514224839%5D%2C%20%5B46.51409%2C%206.62555%2C%204.8%5D%2C%20%5B46.46351%2C%206.34187%2C%205.0%5D%2C%20%5B46.48953%2C%207.21033%2C%205.0%5D%2C%20%5B46.45774%2C%206.92999%2C%205.0%5D%2C%20%5B46.45607%2C%206.93091%2C%205.0%5D%2C%20%5B46.57835%2C%206.54001%2C%204.56%5D%2C%20%5B46.51606%2C%206.62591%2C%205.0%5D%2C%20%5B46.53849%2C%206.65652%2C%205.0%5D%2C%20%5B46.53082%2C%206.65267%2C%204.9%5D%2C%20%5B46.47439%2C%206.88982%2C%204.776940514224839%5D%2C%20%5B46.55475%2C%206.68846%2C%204.0%5D%2C%20%5B46.52715%2C%206.61469%2C%204.75%5D%2C%20%5B46.48191%2C%206.77824%2C%204.95%5D%2C%20%5B46.45358%2C%206.88214%2C%204.95%5D%2C%20%5B46.70152%2C%206.75689%2C%204.88%5D%2C%20%5B46.52599%2C%206.64679%2C%204.776940514224839%5D%2C%20%5B46.45858%2C%206.8619%2C%204.84%5D%2C%20%5B46.46936%2C%206.36237%2C%205.0%5D%2C%20%5B46.53229%2C%206.61963%2C%204.776940514224839%5D%2C%20%5B46.79881%2C%206.74072%2C%204.76%5D%2C%20%5B46.43578%2C%206.91405%2C%204.82%5D%2C%20%5B46.43782%2C%206.91429%2C%204.84%5D%2C%20%5B46.32304%2C%206.18091%2C%204.776940514224839%5D%2C%20%5B46.51087%2C%206.64864%2C%205.0%5D%2C%20%5B46.4379%2C%206.90762%2C%205.0%5D%2C%20%5B46.44912%2C%206.91194%2C%204.83%5D%2C%20%5B46.43423%2C%206.91755%2C%204.66%5D%2C%20%5B46.50822%2C%206.70864%2C%205.0%5D%2C%20%5B46.49069%2C%206.78433%2C%204.71%5D%2C%20%5B46.46176%2C%206.84228%2C%205.0%5D%2C%20%5B46.47318%2C%207.13413%2C%204.77%5D%2C%20%5B46.53211%2C%206.63923%2C%204.0%5D%2C%20%5B46.52472%2C%206.59625%2C%205.0%5D%2C%20%5B46.38419%2C%206.23305%2C%204.776940514224839%5D%2C%20%5B46.59392%2C%206.56823%2C%204.73%5D%2C%20%5B46.49821%2C%206.71945%2C%204.65%5D%2C%20%5B46.56427%2C%206.69891%2C%204.52%5D%2C%20%5B46.42125%2C%206.92527%2C%205.0%5D%2C%20%5B46.52301%2C%206.62074%2C%204.71%5D%2C%20%5B46.46698%2C%206.94743%2C%204.776940514224839%5D%2C%20%5B46.60152%2C%206.78252%2C%204.776940514224839%5D%2C%20%5B46.49895%2C%206.71965%2C%204.71%5D%2C%20%5B46.48348%2C%206.41188%2C%204.74%5D%2C%20%5B46.29621%2C%207.05534%2C%205.0%5D%2C%20%5B46.28817%2C%207.08202%2C%204.83%5D%2C%20%5B46.39717%2C%206.92375%2C%204.91%5D%2C%20%5B46.95574%2C%207.01615%2C%204.75%5D%2C%20%5B46.46244%2C%206.83863%2C%204.776940514224839%5D%2C%20%5B46.52055%2C%206.60846%2C%204.776940514224839%5D%2C%20%5B46.48446%2C%206.41004%2C%204.77%5D%2C%20%5B46.51447%2C%206.63071%2C%204.776940514224839%5D%2C%20%5B46.47189%2C%207.13428%2C%204.86%5D%2C%20%5B46.35024%2C%207.1722%2C%204.83%5D%2C%20%5B46.60354%2C%206.7832%2C%204.776940514224839%5D%2C%20%5B46.51487%2C%206.6315%2C%204.776940514224839%5D%2C%20%5B46.55174%2C%206.5589%2C%205.0%5D%2C%20%5B46.51077%2C%206.55167%2C%205.0%5D%2C%20%5B46.52296%2C%206.61888%2C%205.0%5D%2C%20%5B46.52487%2C%206.6367%2C%204.776940514224839%5D%2C%20%5B46.42536%2C%206.2722%2C%204.776940514224839%5D%2C%20%5B46.525%2C%206.63111%2C%204.92%5D%2C%20%5B46.41495%2C%206.20509%2C%204.89%5D%2C%20%5B46.33665%2C%206.19419%2C%204.776940514224839%5D%2C%20%5B46.38446%2C%206.22438%2C%204.65%5D%2C%20%5B46.46237%2C%206.83973%2C%205.0%5D%2C%20%5B46.49883%2C%206.71792%2C%204.74%5D%2C%20%5B46.52117%2C%206.63868%2C%204.93%5D%2C%20%5B46.3887%2C%206.22248%2C%204.776940514224839%5D%2C%20%5B46.24362%2C%206.99231%2C%204.776940514224839%5D%2C%20%5B46.52265%2C%206.63969%2C%205.0%5D%2C%20%5B46.46881%2C%207.08553%2C%205.0%5D%2C%20%5B46.52509%2C%206.61937%2C%204.56%5D%2C%20%5B46.42893%2C%206.92001%2C%204.75%5D%2C%20%5B46.47535%2C%206.44364%2C%204.8%5D%2C%20%5B46.7805%2C%206.6288%2C%204.76%5D%2C%20%5B46.5207%2C%206.63818%2C%204.93%5D%2C%20%5B46.53636%2C%206.64933%2C%203.5%5D%2C%20%5B46.53576%2C%206.5892%2C%204.0%5D%2C%20%5B46.53851%2C%206.5874%2C%203.0%5D%2C%20%5B46.44582%2C%206.90928%2C%204.43%5D%2C%20%5B46.46343%2C%206.84407%2C%204.88%5D%2C%20%5B46.50515%2C%206.47878%2C%204.75%5D%2C%20%5B46.34224%2C%207.00655%2C%204.86%5D%2C%20%5B46.35123%2C%207.15958%2C%204.68%5D%2C%20%5B46.51442%2C%206.62717%2C%204.9%5D%2C%20%5B46.51448%2C%206.68749%2C%204.5%5D%2C%20%5B46.51583%2C%206.68931%2C%204.75%5D%2C%20%5B46.51483%2C%206.68791%2C%205.0%5D%2C%20%5B46.2755%2C%207.05511%2C%204.86%5D%2C%20%5B46.51209%2C%206.62549%2C%204.89%5D%2C%20%5B46.51572%2C%206.64813%2C%204.81%5D%2C%20%5B46.27757%2C%207.0679%2C%204.77%5D%2C%20%5B46.52959%2C%206.61805%2C%204.47%5D%2C%20%5B46.33702%2C%206.19484%2C%204.776940514224839%5D%2C%20%5B46.79328%2C%206.61625%2C%204.8%5D%2C%20%5B46.43192%2C%206.91063%2C%205.0%5D%2C%20%5B46.44112%2C%206.89978%2C%204.99%5D%2C%20%5B46.43384%2C%206.91078%2C%204.776940514224839%5D%2C%20%5B46.45929%2C%206.84447%2C%205.0%5D%2C%20%5B46.4798%2C%206.46003%2C%205.0%5D%2C%20%5B46.34292%2C%207.0053%2C%204.83%5D%2C%20%5B46.52393%2C%206.62619%2C%204.84%5D%2C%20%5B46.52787%2C%206.63187%2C%204.71%5D%2C%20%5B46.51581%2C%206.63106%2C%204.97%5D%2C%20%5B46.52045%2C%206.61363%2C%204.88%5D%2C%20%5B46.67153%2C%206.80015%2C%204.89%5D%2C%20%5B46.52037%2C%206.63238%2C%204.97%5D%2C%20%5B46.35301%2C%207.15938%2C%204.66%5D%2C%20%5B46.46685%2C%206.89513%2C%204.5%5D%2C%20%5B46.54221%2C%206.57906%2C%204.66%5D%2C%20%5B46.56117%2C%206.67879%2C%205.0%5D%2C%20%5B46.29956%2C%207.04773%2C%204.75%5D%2C%20%5B46.5194%2C%206.63776%2C%204.776940514224839%5D%2C%20%5B46.46847%2C%207.0697%2C%204.83%5D%2C%20%5B46.27883%2C%207.07171%2C%204.86%5D%2C%20%5B46.51598%2C%206.68512%2C%204.776940514224839%5D%2C%20%5B46.53217%2C%206.65372%2C%204.79%5D%2C%20%5B46.34806%2C%207.01288%2C%205.0%5D%2C%20%5B46.30983%2C%207.06279%2C%205.0%5D%2C%20%5B46.30043%2C%207.05504%2C%205.0%5D%2C%20%5B46.476063%2C%206.893807%2C%204.88%5D%2C%20%5B46.47287%2C%206.79706%2C%204.776940514224839%5D%2C%20%5B46.28897%2C%207.06233%2C%204.9%5D%2C%20%5B46.44032%2C%206.89336%2C%205.0%5D%2C%20%5B46.51861%2C%206.65487%2C%204.8%5D%2C%20%5B46.38154%2C%206.23812%2C%204.94%5D%2C%20%5B46.90845%2C%207.07786%2C%205.0%5D%2C%20%5B46.46866%2C%206.86202%2C%204.776940514224839%5D%2C%20%5B46.50652%2C%206.72331%2C%204.776940514224839%5D%2C%20%5B46.43727%2C%206.91053%2C%205.0%5D%2C%20%5B46.30026%2C%207.0485%2C%205.0%5D%2C%20%5B46.2884%2C%207.08134%2C%205.0%5D%2C%20%5B46.44731%2C%206.13512%2C%204.93%5D%2C%20%5B46.52342%2C%206.66869%2C%205.0%5D%2C%20%5B46.52833%2C%206.50179%2C%205.0%5D%2C%20%5B46.25508%2C%207.01895%2C%204.776940514224839%5D%2C%20%5B46.48504%2C%206.8449%2C%204.84%5D%2C%20%5B46.54035%2C%206.59285%2C%204.81%5D%2C%20%5B46.5461%2C%206.67023%2C%204.88%5D%2C%20%5B46.47764%2C%206.77959%2C%205.0%5D%2C%20%5B46.4777%2C%206.77831%2C%204.91%5D%2C%20%5B46.52565%2C%206.62871%2C%205.0%5D%2C%20%5B46.46787%2C%206.26052%2C%204.776940514224839%5D%2C%20%5B46.45163%2C%206.89313%2C%205.0%5D%2C%20%5B46.51641%2C%206.6288%2C%204.776940514224839%5D%2C%20%5B46.45103%2C%206.89337%2C%204.776940514224839%5D%2C%20%5B46.4426%2C%206.88999%2C%204.91%5D%2C%20%5B46.29249%2C%207.05552%2C%204.95%5D%2C%20%5B46.30666%2C%207.06197%2C%205.0%5D%2C%20%5B46.51495%2C%206.57452%2C%204.95%5D%2C%20%5B46.46625%2C%206.87624%2C%205.0%5D%2C%20%5B46.51735%2C%206.56549%2C%204.68%5D%2C%20%5B46.53071%2C%206.60666%2C%204.46%5D%2C%20%5B46.29933%2C%207.05007%2C%204.91%5D%2C%20%5B46.48032%2C%206.45871%2C%204.776940514224839%5D%2C%20%5B46.38571%2C%206.19035%2C%204.74%5D%2C%20%5B46.5112%2C%206.64015%2C%204.776940514224839%5D%2C%20%5B46.52293%2C%206.63642%2C%204.89%5D%2C%20%5B46.45773%2C%206.90277%2C%204.7%5D%2C%20%5B46.51766%2C%206.51357%2C%204.43%5D%2C%20%5B46.43463%2C%206.31092%2C%204.98%5D%2C%20%5B46.52672%2C%206.49733%2C%204.86%5D%2C%20%5B46.48799%2C%206.89295%2C%205.0%5D%2C%20%5B46.4885%2C%206.89386%2C%205.0%5D%2C%20%5B46.48656%2C%206.76957%2C%205.0%5D%2C%20%5B46.43943%2C%206.90679%2C%204.92%5D%2C%20%5B46.51569%2C%206.62385%2C%204.83%5D%2C%20%5B46.344421%2C%207.013621%2C%204.776940514224839%5D%2C%20%5B46.52052%2C%206.62053%2C%204.83%5D%2C%20%5B46.48169%2C%207.14161%2C%204.9%5D%2C%20%5B46.51023%2C%206.42695%2C%204.74%5D%2C%20%5B46.43213%2C%206.91539%2C%204.68%5D%2C%20%5B46.4809%2C%206.79424%2C%204.57%5D%2C%20%5B46.48133%2C%207.14197%2C%204.86%5D%2C%20%5B46.52734%2C%206.6307%2C%204.9%5D%2C%20%5B46.28194%2C%207.10239%2C%204.75%5D%2C%20%5B46.27684%2C%207.07347%2C%204.81%5D%2C%20%5B46.46256%2C%206.88858%2C%204.71%5D%2C%20%5B46.52883%2C%206.64599%2C%204.54%5D%2C%20%5B46.29857%2C%207.05511%2C%204.776940514224839%5D%2C%20%5B46.29797%2C%207.05588%2C%205.0%5D%2C%20%5B46.30203%2C%207.0429%2C%205.0%5D%2C%20%5B46.3001%2C%207.06022%2C%204.0%5D%2C%20%5B46.29497%2C%207.0613%2C%204.776940514224839%5D%2C%20%5B46.2986%2C%207.05586%2C%205.0%5D%2C%20%5B46.29252%2C%207.05544%2C%204.0%5D%2C%20%5B46.29252%2C%207.05544%2C%205.0%5D%2C%20%5B46.52551%2C%206.6311%2C%204.76%5D%2C%20%5B46.29404%2C%207.05434%2C%205.0%5D%2C%20%5B46.52666%2C%206.63805%2C%205.0%5D%2C%20%5B46.51838%2C%206.65073%2C%205.0%5D%2C%20%5B46.45651%2C%206.29603%2C%204.91%5D%2C%20%5B46.40884%2C%206.23766%2C%204.82%5D%2C%20%5B46.29062%2C%207.0963%2C%204.67%5D%2C%20%5B46.30981%2C%207.06125%2C%204.5%5D%2C%20%5B46.29532%2C%207.05568%2C%204.88%5D%2C%20%5B46.4414%2C%206.91021%2C%204.776940514224839%5D%2C%20%5B46.51983%2C%206.64986%2C%204.776940514224839%5D%2C%20%5B46.4897%2C%207.20016%2C%204.74%5D%2C%20%5B46.52671%2C%206.62531%2C%204.88%5D%2C%20%5B46.47552%2C%207.13005%2C%204.89%5D%2C%20%5B46.45077%2C%206.8919%2C%204.0%5D%2C%20%5B46.49064%2C%207.21292%2C%204.71%5D%2C%20%5B46.52116%2C%206.61267%2C%204.64%5D%2C%20%5B46.28805%2C%207.09843%2C%204.78%5D%2C%20%5B46.53206%2C%206.60776%2C%204.776940514224839%5D%2C%20%5B46.47783%2C%207.1294%2C%204.776940514224839%5D%2C%20%5B46.52888%2C%206.6177%2C%204.776940514224839%5D%2C%20%5B46.42225%2C%206.26324%2C%205.0%5D%2C%20%5B46.527%2C%206.57144%2C%204.8%5D%2C%20%5B46.73039%2C%206.40846%2C%205.0%5D%2C%20%5B46.516%2C%206.62732%2C%205.0%5D%2C%20%5B46.4664%2C%206.8422%2C%204.7%5D%2C%20%5B46.51968%2C%206.65374%2C%204.776940514224839%5D%2C%20%5B46.31433%2C%206.16991%2C%204.61%5D%2C%20%5B46.30131%2C%207.04871%2C%205.0%5D%2C%20%5B46.29928%2C%207.05466%2C%204.776940514224839%5D%2C%20%5B46.29981%2C%207.05029%2C%204.776940514224839%5D%2C%20%5B46.3011%2C%207.06202%2C%205.0%5D%2C%20%5B46.29305%2C%207.05533%2C%205.0%5D%2C%20%5B46.3002%2C%207.0514%2C%204.5%5D%2C%20%5B46.29252%2C%207.05544%2C%205.0%5D%2C%20%5B46.29252%2C%207.05544%2C%205.0%5D%2C%20%5B46.29757%2C%207.05846%2C%205.0%5D%2C%20%5B46.29399%2C%207.05618%2C%205.0%5D%2C%20%5B46.30312%2C%207.053%2C%205.0%5D%2C%20%5B46.29252%2C%207.05544%2C%204.776940514224839%5D%2C%20%5B46.29428%2C%207.06313%2C%204.776940514224839%5D%2C%20%5B46.30063%2C%207.05402%2C%205.0%5D%2C%20%5B46.29252%2C%207.05544%2C%204.776940514224839%5D%2C%20%5B46.29362%2C%207.0543%2C%204.0%5D%2C%20%5B46.29734%2C%207.05936%2C%204.0%5D%2C%20%5B46.29252%2C%207.05544%2C%205.0%5D%2C%20%5B46.53157%2C%206.63071%2C%204.25%5D%2C%20%5B46.47163%2C%206.89387%2C%204.67%5D%2C%20%5B46.53445%2C%206.65118%2C%204.86%5D%2C%20%5B46.29882%2C%207.05674%2C%205.0%5D%2C%20%5B46.30697%2C%207.05675%2C%205.0%5D%2C%20%5B46.29821%2C%206.9896%2C%204.76%5D%2C%20%5B46.52541%2C%206.63051%2C%204.69%5D%2C%20%5B46.52201%2C%206.6354%2C%205.0%5D%2C%20%5B46.45853%2C%206.33049%2C%205.0%5D%2C%20%5B46.27951%2C%207.07079%2C%204.9%5D%2C%20%5B46.52502%2C%206.51771%2C%204.7%5D%2C%20%5B46.51473%2C%206.53001%2C%204.67%5D%2C%20%5B46.52781%2C%206.63123%2C%204.85%5D%2C%20%5B46.57923%2C%206.20568%2C%204.5%5D%2C%20%5B46.54951%2C%206.55441%2C%204.75%5D%2C%20%5B46.52473%2C%206.62642%2C%204.86%5D%2C%20%5B46.52085%2C%206.61072%2C%204.776940514224839%5D%2C%20%5B46.53064%2C%206.63382%2C%204.776940514224839%5D%2C%20%5B46.83562%2C%206.61902%2C%204.82%5D%2C%20%5B46.51659%2C%206.61007%2C%205.0%5D%2C%20%5B46.51008%2C%206.63847%2C%204.776940514224839%5D%2C%20%5B46.48383%2C%206.4111%2C%204.88%5D%2C%20%5B46.39287%2C%206.23257%2C%204.46%5D%2C%20%5B46.77825%2C%206.64467%2C%204.776940514224839%5D%2C%20%5B46.51553%2C%206.6289%2C%204.98%5D%2C%20%5B46.53217%2C%206.65372%2C%204.81%5D%2C%20%5B46.34328%2C%207.01562%2C%204.63%5D%2C%20%5B46.52524%2C%206.62648%2C%204.68%5D%2C%20%5B46.48785%2C%207.20687%2C%204.75%5D%2C%20%5B46.52364%2C%206.63047%2C%204.94%5D%2C%20%5B46.47558%2C%207.13626%2C%204.86%5D%2C%20%5B46.34889%2C%207.15909%2C%205.0%5D%2C%20%5B46.38356%2C%206.23866%2C%205.0%5D%2C%20%5B46.34764%2C%207.01854%2C%204.776940514224839%5D%2C%20%5B46.29871%2C%207.05386%2C%204.776940514224839%5D%2C%20%5B46.46846%2C%207.06912%2C%204.82%5D%2C%20%5B46.35144%2C%207.12756%2C%205.0%5D%2C%20%5B46.4924%2C%206.78362%2C%204.71%5D%2C%20%5B46.29165%2C%207.09743%2C%204.88%5D%2C%20%5B46.54582%2C%206.66417%2C%204.68%5D%2C%20%5B46.3125%2C%207.07639%2C%205.0%5D%2C%20%5B46.3535%2C%207.16882%2C%204.75%5D%2C%20%5B46.52626%2C%206.6315%2C%204.776940514224839%5D%2C%20%5B46.52565%2C%206.61779%2C%205.0%5D%2C%20%5B46.49187%2C%206.74945%2C%204.96%5D%2C%20%5B46.50457%2C%206.68329%2C%204.5%5D%2C%20%5B46.79756%2C%206.62621%2C%204.89%5D%2C%20%5B46.51581%2C%206.63106%2C%204.93%5D%2C%20%5B46.38235%2C%206.21862%2C%204.42%5D%2C%20%5B46.52766%2C%206.63204%2C%204.75%5D%2C%20%5B46.87801%2C%207.03877%2C%204.93%5D%2C%20%5B46.57454%2C%206.78636%2C%204.5%5D%2C%20%5B46.43276%2C%206.92796%2C%204.53%5D%2C%20%5B46.44456%2C%206.90388%2C%204.5%5D%2C%20%5B46.43266%2C%206.91233%2C%205.0%5D%2C%20%5B46.46838%2C%207.08623%2C%204.87%5D%2C%20%5B46.56233%2C%206.78984%2C%204.72%5D%2C%20%5B46.46078%2C%206.84543%2C%204.9%5D%2C%20%5B46.50815%2C%206.66633%2C%204.776940514224839%5D%2C%20%5B46.38999%2C%207.09405%2C%204.86%5D%2C%20%5B46.55235%2C%206.55751%2C%204.8%5D%2C%20%5B46.3114%2C%207.06153%2C%205.0%5D%2C%20%5B46.51353%2C%206.50052%2C%204.98%5D%2C%20%5B46.52657%2C%206.5738%2C%204.74%5D%2C%20%5B46.59974%2C%206.68002%2C%204.33%5D%2C%20%5B46.49545%2C%206.71683%2C%204.8%5D%2C%20%5B46.49268%2C%207.2043%2C%205.0%5D%2C%20%5B46.52408%2C%206.65203%2C%204.776940514224839%5D%2C%20%5B46.44437%2C%206.89673%2C%204.776940514224839%5D%2C%20%5B46.5268%2C%206.61706%2C%204.67%5D%2C%20%5B46.77468%2C%206.64297%2C%205.0%5D%2C%20%5B46.53157%2C%206.65544%2C%204.39%5D%2C%20%5B46.6694%2C%206.73695%2C%204.54%5D%2C%20%5B46.47177%2C%206.81526%2C%204.83%5D%2C%20%5B46.53264%2C%206.59582%2C%204.79%5D%2C%20%5B46.53836%2C%206.65169%2C%204.72%5D%2C%20%5B46.24728%2C%207.02368%2C%204.776940514224839%5D%2C%20%5B46.52781%2C%206.63123%2C%204.78%5D%2C%20%5B46.52787%2C%206.63187%2C%204.77%5D%2C%20%5B46.46402%2C%206.07414%2C%204.71%5D%2C%20%5B46.51465%2C%206.62846%2C%204.0%5D%2C%20%5B46.8897%2C%206.90017%2C%204.65%5D%2C%20%5B46.51584%2C%206.62876%2C%205.0%5D%2C%20%5B46.62299%2C%206.55261%2C%204.88%5D%2C%20%5B46.52781%2C%206.63123%2C%204.81%5D%2C%20%5B46.53817%2C%206.6508%2C%204.5%5D%2C%20%5B46.54044%2C%206.611%2C%204.73%5D%2C%20%5B46.63138%2C%206.25978%2C%204.91%5D%2C%20%5B46.47525%2C%206.32554%2C%205.0%5D%2C%20%5B46.63115%2C%206.2594%2C%204.87%5D%2C%20%5B46.63142%2C%206.25987%2C%204.85%5D%2C%20%5B46.41176%2C%206.2323%2C%204.76%5D%2C%20%5B46.43104%2C%206.91854%2C%204.61%5D%2C%20%5B46.38903%2C%206.23346%2C%205.0%5D%2C%20%5B46.51376%2C%206.67908%2C%204.776940514224839%5D%2C%20%5B46.32529%2C%206.19745%2C%204.776940514224839%5D%2C%20%5B46.51716%2C%206.62309%2C%204.2%5D%2C%20%5B46.4494%2C%206.28314%2C%204.61%5D%2C%20%5B46.5119%2C%206.5591%2C%204.83%5D%2C%20%5B46.38017%2C%206.2313%2C%204.79%5D%2C%20%5B46.46718%2C%206.84228%2C%204.94%5D%2C%20%5B46.91515%2C%207.01238%2C%204.86%5D%2C%20%5B46.5156%2C%206.5709%2C%204.86%5D%2C%20%5B46.28658%2C%207.07441%2C%204.776940514224839%5D%2C%20%5B46.34504%2C%207.014%2C%204.8%5D%2C%20%5B46.4968%2C%206.30875%2C%204.5%5D%2C%20%5B46.8226%2C%206.9352%2C%204.86%5D%2C%20%5B46.43056%2C%206.9155%2C%204.89%5D%2C%20%5B46.34277%2C%207.01267%2C%204.89%5D%2C%20%5B46.53151%2C%206.61413%2C%204.68%5D%2C%20%5B46.31332%2C%206.16947%2C%204.39%5D%2C%20%5B46.52818%2C%206.61718%2C%205.0%5D%2C%20%5B46.77174%2C%206.64466%2C%204.76%5D%2C%20%5B46.46499%2C%206.88298%2C%204.86%5D%2C%20%5B46.51784%2C%206.56789%2C%204.82%5D%2C%20%5B46.49633%2C%206.86852%2C%204.776940514224839%5D%2C%20%5B46.71224%2C%206.7229%2C%204.33%5D%2C%20%5B46.29021%2C%207.09901%2C%205.0%5D%2C%20%5B46.29057%2C%207.09813%2C%205.0%5D%2C%20%5B46.28223%2C%207.0717%2C%204.67%5D%2C%20%5B46.27988%2C%207.08287%2C%205.0%5D%2C%20%5B46.29752%2C%207.04002%2C%204.67%5D%2C%20%5B46.28933%2C%207.06389%2C%204.33%5D%2C%20%5B46.30745%2C%207.05528%2C%205.0%5D%2C%20%5B46.29522%2C%207.06192%2C%204.25%5D%2C%20%5B46.28968%2C%207.0622%2C%205.0%5D%2C%20%5B46.296%2C%207.06175%2C%204.0%5D%2C%20%5B46.29437%2C%207.05923%2C%204.776940514224839%5D%2C%20%5B46.29948%2C%207.03677%2C%204.2%5D%2C%20%5B46.29467%2C%207.06061%2C%204.67%5D%2C%20%5B46.29436%2C%207.05842%2C%205.0%5D%2C%20%5B46.29428%2C%207.06313%2C%205.0%5D%2C%20%5B46.294%2C%207.0629%2C%205.0%5D%2C%20%5B46.29636%2C%207.05348%2C%204.67%5D%2C%20%5B46.29252%2C%207.05544%2C%204.5%5D%2C%20%5B46.29252%2C%207.05544%2C%205.0%5D%2C%20%5B46.29252%2C%207.05544%2C%205.0%5D%2C%20%5B46.29252%2C%207.05544%2C%204.67%5D%2C%20%5B46.3077%2C%207.06137%2C%204.776940514224839%5D%2C%20%5B46.3077%2C%207.06137%2C%205.0%5D%2C%20%5B46.30885%2C%207.06036%2C%204.776940514224839%5D%2C%20%5B46.30882%2C%207.06095%2C%203.0%5D%2C%20%5B46.30131%2C%207.04871%2C%204.776940514224839%5D%2C%20%5B46.31011%2C%207.06391%2C%204.0%5D%2C%20%5B46.30865%2C%207.06357%2C%205.0%5D%2C%20%5B46.30951%2C%207.06485%2C%205.0%5D%2C%20%5B46.30951%2C%207.06485%2C%205.0%5D%2C%20%5B46.30732%2C%207.05911%2C%204.5%5D%2C%20%5B46.31151%2C%207.06253%2C%204.776940514224839%5D%2C%20%5B46.30761%2C%207.05987%2C%204.0%5D%2C%20%5B46.30761%2C%207.05987%2C%204.776940514224839%5D%2C%20%5B46.29128%2C%207.0583%2C%205.0%5D%2C%20%5B46.30835%2C%207.05643%2C%205.0%5D%2C%20%5B46.30372%2C%207.05125%2C%204.71%5D%2C%20%5B46.30372%2C%207.05125%2C%204.67%5D%2C%20%5B46.302456%2C%207.050792%2C%205.0%5D%2C%20%5B46.4951%2C%206.71881%2C%204.92%5D%2C%20%5B46.288162%2C%207.09508%2C%204.6%5D%2C%20%5B46.28598%2C%207.07862%2C%205.0%5D%2C%20%5B46.287735%2C%207.095127%2C%204.0%5D%2C%20%5B46.28862%2C%207.09043%2C%205.0%5D%2C%20%5B46.294224%2C%207.061168%2C%204.776940514224839%5D%2C%20%5B46.29394%2C%207.05964%2C%204.5%5D%2C%20%5B46.29436%2C%207.05842%2C%205.0%5D%2C%20%5B46.29394%2C%207.05964%2C%204.776940514224839%5D%2C%20%5B46.30903%2C%207.06093%2C%205.0%5D%2C%20%5B46.56853%2C%206.56502%2C%204.69%5D%2C%20%5B46.3835%2C%206.2431%2C%204.776940514224839%5D%2C%20%5B46.5326%2C%206.57839%2C%204.67%5D%2C%20%5B46.53254%2C%206.57879%2C%205.0%5D%2C%20%5B46.51696%2C%206.64434%2C%204.57%5D%2C%20%5B46.51696%2C%206.64434%2C%204.59%5D%2C%20%5B46.51319%2C%206.545%2C%205.0%5D%2C%20%5B46.51567%2C%206.6188%2C%204.67%5D%2C%20%5B46.53337%2C%206.64901%2C%204.5%5D%2C%20%5B46.52006%2C%206.62063%2C%204.776940514224839%5D%2C%20%5B46.47583%2C%207.13517%2C%205.0%5D%2C%20%5B46.52685%2C%206.64061%2C%204.11%5D%2C%20%5B46.45983%2C%206.84515%2C%204.776940514224839%5D%2C%20%5B46.50669%2C%206.88426%2C%204.776940514224839%5D%2C%20%5B46.52698%2C%206.64868%2C%204.67%5D%2C%20%5B46.5269%2C%206.63343%2C%204.776940514224839%5D%2C%20%5B46.8308%2C%206.65506%2C%204.89%5D%2C%20%5B46.51319%2C%206.627%2C%204.91%5D%2C%20%5B46.59839%2C%206.68049%2C%204.5%5D%2C%20%5B46.43799%2C%206.9102%2C%204.776940514224839%5D%2C%20%5B46.28217%2C%207.08221%2C%204.69%5D%2C%20%5B46.4727%2C%206.8787%2C%204.776940514224839%5D%2C%20%5B46.54036%2C%206.57979%2C%204.0%5D%2C%20%5B46.34058%2C%207.00674%2C%204.73%5D%2C%20%5B46.51696%2C%206.64434%2C%204.45%5D%2C%20%5B46.51696%2C%206.64434%2C%204.77%5D%2C%20%5B46.47742%2C%206.82873%2C%204.81%5D%2C%20%5B46.45062%2C%206.86121%2C%205.0%5D%2C%20%5B46.48885%2C%207.20697%2C%204.57%5D%2C%20%5B46.51696%2C%206.64434%2C%204.72%5D%2C%20%5B46.51785%2C%206.64265%2C%204.75%5D%2C%20%5B46.51973%2C%206.59698%2C%204.0%5D%2C%20%5B46.55962%2C%206.73721%2C%204.95%5D%2C%20%5B46.49171%2C%206.81334%2C%204.84%5D%2C%20%5B46.51303%2C%206.49956%2C%204.91%5D%2C%20%5B46.59828%2C%206.37323%2C%205.0%5D%2C%20%5B46.41201%2C%206.23458%2C%204.8%5D%2C%20%5B46.51696%2C%206.64434%2C%204.75%5D%2C%20%5B46.80952%2C%206.64443%2C%204.54%5D%2C%20%5B46.4306%2C%206.91339%2C%205.0%5D%2C%20%5B46.43083%2C%206.91354%2C%205.0%5D%2C%20%5B46.44316%2C%206.89031%2C%204.5%5D%2C%20%5B46.44301%2C%206.88869%2C%204.62%5D%2C%20%5B46.29302%2C%207.05433%2C%204.86%5D%2C%20%5B46.4162%2C%206.18331%2C%204.9%5D%2C%20%5B46.44029%2C%206.9177%2C%204.88%5D%2C%20%5B46.29489%2C%207.06325%2C%205.0%5D%2C%20%5B46.60373%2C%206.22461%2C%204.91%5D%2C%20%5B46.35734%2C%207.13057%2C%204.776940514224839%5D%2C%20%5B46.64029%2C%206.63349%2C%204.2%5D%2C%20%5B46.50229%2C%206.45072%2C%204.73%5D%2C%20%5B46.48003%2C%206.82527%2C%205.0%5D%2C%20%5B46.436199%2C%206.909296%2C%205.0%5D%2C%20%5B46.43147%2C%206.91068%2C%204.0%5D%2C%20%5B46.43579%2C%206.91366%2C%204.67%5D%2C%20%5B46.431953%2C%206.923897%2C%204.75%5D%2C%20%5B46.51449%2C%206.63796%2C%204.33%5D%2C%20%5B46.50789%2C%207.17019%2C%204.88%5D%2C%20%5B46.29721%2C%207.05211%2C%205.0%5D%2C%20%5B46.57286%2C%206.65164%2C%204.86%5D%2C%20%5B46.46402%2C%206.07414%2C%204.83%5D%2C%20%5B46.50901%2C%206.66781%2C%204.65%5D%2C%20%5B46.51866%2C%206.6462%2C%204.84%5D%2C%20%5B46.53177%2C%206.61716%2C%205.0%5D%2C%20%5B46.51152%2C%206.62444%2C%204.776940514224839%5D%2C%20%5B46.51632%2C%206.6372%2C%204.5%5D%2C%20%5B46.43982%2C%206.91114%2C%204.7%5D%2C%20%5B46.525%2C%206.62396%2C%204.776940514224839%5D%2C%20%5B46.52017%2C%206.59632%2C%204.5%5D%2C%20%5B46.46392%2C%206.07422%2C%204.79%5D%2C%20%5B46.51476%2C%206.62546%2C%204.67%5D%2C%20%5B46.51484%2C%206.65387%2C%204.67%5D%2C%20%5B46.51122%2C%206.62736%2C%205.0%5D%2C%20%5B46.57677%2C%206.4863%2C%204.64%5D%2C%20%5B46.57622%2C%206.48493%2C%204.57%5D%2C%20%5B46.29621%2C%207.05534%2C%205.0%5D%2C%20%5B46.48959%2C%207.20428%2C%204.776940514224839%5D%2C%20%5B46.34746%2C%207.02013%2C%205.0%5D%2C%20%5B46.52307%2C%206.63761%2C%205.0%5D%2C%20%5B46.50442%2C%206.67683%2C%204.87%5D%2C%20%5B46.34302%2C%207.0085%2C%204.93%5D%2C%20%5B46.54019%2C%206.5954%2C%204.6%5D%2C%20%5B46.53012%2C%206.63163%2C%204.44%5D%2C%20%5B46.38299%2C%206.20312%2C%204.8%5D%2C%20%5B46.78272%2C%206.66992%2C%204.94%5D%2C%20%5B46.527%2C%206.61249%2C%204.75%5D%2C%20%5B46.27948%2C%207.01891%2C%204.92%5D%2C%20%5B46.52065%2C%206.59414%2C%204.5%5D%2C%20%5B46.44312%2C%206.88949%2C%204.25%5D%2C%20%5B46.52439%2C%206.61334%2C%204.73%5D%2C%20%5B46.655899%2C%206.640578%2C%204.9%5D%2C%20%5B46.5155%2C%206.63623%2C%205.0%5D%2C%20%5B46.4421%2C%206.90291%2C%204.93%5D%2C%20%5B46.55529%2C%206.58213%2C%205.0%5D%2C%20%5B46.50939%2C%206.62833%2C%205.0%5D%2C%20%5B46.43784%2C%206.90868%2C%205.0%5D%2C%20%5B46.35521%2C%207.16925%2C%205.0%5D%2C%20%5B46.54751%2C%206.55996%2C%204.47%5D%2C%20%5B46.45847%2C%206.84847%2C%205.0%5D%2C%20%5B46.51129%2C%206.63681%2C%204.0%5D%2C%20%5B46.52214%2C%206.56578%2C%205.0%5D%2C%20%5B46.53933%2C%206.62209%2C%204.776940514224839%5D%2C%20%5B46.44294%2C%206.88056%2C%204.68%5D%2C%20%5B46.52066%2C%206.6169%2C%204.56%5D%2C%20%5B46.44363%2C%207.11543%2C%204.91%5D%2C%20%5B46.50966%2C%206.88945%2C%204.84%5D%2C%20%5B46.52831%2C%206.62847%2C%204.67%5D%2C%20%5B46.52442%2C%206.62221%2C%205.0%5D%2C%20%5B46.51971%2C%206.61561%2C%204.776940514224839%5D%2C%20%5B46.50617%2C%206.68179%2C%204.776940514224839%5D%2C%20%5B46.7838%2C%206.66772%2C%205.0%5D%2C%20%5B46.46533%2C%206.84511%2C%205.0%5D%2C%20%5B46.554%2C%206.55363%2C%205.0%5D%2C%20%5B46.51251%2C%206.49929%2C%204.7%5D%2C%20%5B46.29108%2C%207.06198%2C%204.83%5D%2C%20%5B46.53324%2C%206.61184%2C%204.5%5D%2C%20%5B46.49545%2C%206.89657%2C%204.82%5D%2C%20%5B46.33476%2C%206.20161%2C%204.776940514224839%5D%2C%20%5B46.35286%2C%207.16589%2C%204.8%5D%2C%20%5B46.53171%2C%206.61597%2C%204.7%5D%2C%20%5B46.47722%2C%206.83207%2C%204.93%5D%2C%20%5B46.48181%2C%206.83276%2C%205.0%5D%2C%20%5B46.51606%2C%206.63405%2C%204.89%5D%2C%20%5B46.46444%2C%206.83825%2C%204.92%5D%2C%20%5B46.89216%2C%206.90294%2C%204.85%5D%2C%20%5B46.53393%2C%206.63623%2C%203.75%5D%2C%20%5B46.47236%2C%206.82452%2C%204.45%5D%2C%20%5B46.59584%2C%206.74006%2C%204.87%5D%2C%20%5B46.44281%2C%206.88034%2C%204.776940514224839%5D%2C%20%5B46.52581%2C%206.62416%2C%204.776940514224839%5D%2C%20%5B46.38074%2C%206.23963%2C%205.0%5D%2C%20%5B46.43562%2C%206.9093%2C%204.92%5D%2C%20%5B46.52578%2C%206.63371%2C%205.0%5D%2C%20%5B46.32199%2C%206.95973%2C%204.86%5D%2C%20%5B46.46849%2C%206.83421%2C%204.86%5D%2C%20%5B46.52465%2C%206.62201%2C%204.58%5D%2C%20%5B46.52488%2C%206.62021%2C%205.0%5D%2C%20%5B46.52028%2C%206.60977%2C%204.776940514224839%5D%2C%20%5B46.51572%2C%206.61597%2C%204.776940514224839%5D%2C%20%5B46.46938%2C%206.34023%2C%204.94%5D%2C%20%5B46.52667%2C%206.61865%2C%204.0%5D%2C%20%5B46.43064%2C%206.92504%2C%204.88%5D%2C%20%5B46.52641%2C%206.65229%2C%204.57%5D%2C%20%5B46.29921%2C%207.05238%2C%205.0%5D%2C%20%5B46.56487%2C%206.81349%2C%204.71%5D%2C%20%5B46.53167%2C%206.5848%2C%204.67%5D%2C%20%5B46.48566%2C%207.18958%2C%204.75%5D%2C%20%5B46.51547%2C%206.70221%2C%204.776940514224839%5D%2C%20%5B46.4241%2C%206.26496%2C%204.88%5D%2C%20%5B46.49569%2C%206.24864%2C%204.92%5D%2C%20%5B46.51102%2C%206.49967%2C%204.93%5D%2C%20%5B46.43456%2C%206.91555%2C%204.5%5D%2C%20%5B46.44173%2C%206.90869%2C%204.94%5D%2C%20%5B46.42513%2C%207.10703%2C%204.93%5D%2C%20%5B46.52963%2C%206.56956%2C%204.6%5D%2C%20%5B46.52787%2C%206.56888%2C%205.0%5D%2C%20%5B46.51333%2C%206.63459%2C%204.93%5D%2C%20%5B46.51124%2C%206.63841%2C%205.0%5D%2C%20%5B46.52748%2C%206.61867%2C%204.86%5D%2C%20%5B46.34122%2C%206.99467%2C%205.0%5D%2C%20%5B46.51484%2C%206.63862%2C%205.0%5D%2C%20%5B46.46944%2C%206.84926%2C%204.776940514224839%5D%2C%20%5B46.53932%2C%206.57993%2C%204.776940514224839%5D%2C%20%5B46.52782%2C%206.61613%2C%204.75%5D%2C%20%5B46.506%2C%206.47834%2C%204.76%5D%2C%20%5B46.4445%2C%206.88523%2C%204.79%5D%2C%20%5B46.52044%2C%206.63841%2C%205.0%5D%2C%20%5B46.27298%2C%207.05036%2C%204.89%5D%2C%20%5B46.79826%2C%206.7486%2C%204.81%5D%2C%20%5B46.44072%2C%206.90037%2C%205.0%5D%2C%20%5B46.5212%2C%206.62064%2C%204.81%5D%2C%20%5B46.52448%2C%206.66976%2C%204.75%5D%2C%20%5B46.52424%2C%206.56545%2C%204.91%5D%2C%20%5B46.51647%2C%206.62818%2C%204.776940514224839%5D%2C%20%5B46.51116%2C%206.62141%2C%204.776940514224839%5D%2C%20%5B46.52749%2C%206.64859%2C%204.71%5D%2C%20%5B46.46449%2C%206.84361%2C%205.0%5D%2C%20%5B46.38091%2C%206.23831%2C%204.776940514224839%5D%2C%20%5B46.53452%2C%206.57786%2C%204.7%5D%2C%20%5B46.53071%2C%206.61698%2C%204.8%5D%2C%20%5B46.55683%2C%206.5782%2C%204.92%5D%2C%20%5B46.51376%2C%206.63352%2C%205.0%5D%2C%20%5B46.33254%2C%206.19525%2C%204.776940514224839%5D%2C%20%5B46.53609%2C%206.59237%2C%204.67%5D%2C%20%5B46.5237%2C%206.61431%2C%204.5%5D%2C%20%5B46.52525%2C%206.6321%2C%204.776940514224839%5D%2C%20%5B46.54425%2C%206.57498%2C%204.776940514224839%5D%2C%20%5B46.44369%2C%206.88923%2C%204.0%5D%2C%20%5B46.51239%2C%206.63676%2C%204.89%5D%2C%20%5B46.48099%2C%206.77759%2C%204.776940514224839%5D%2C%20%5B46.52545%2C%206.61447%2C%204.776940514224839%5D%2C%20%5B46.5154%2C%206.62629%2C%205.0%5D%2C%20%5B46.27665%2C%207.06737%2C%204.91%5D%2C%20%5B46.5304%2C%206.64885%2C%205.0%5D%2C%20%5B46.54808%2C%206.56306%2C%204.5%5D%2C%20%5B46.41928%2C%206.27417%2C%205.0%5D%2C%20%5B46.55367%2C%206.62972%2C%205.0%5D%2C%20%5B46.55563%2C%206.63051%2C%204.86%5D%2C%20%5B46.51689%2C%206.64473%2C%204.776940514224839%5D%2C%20%5B46.5237%2C%206.62828%2C%204.98%5D%2C%20%5B46.62254%2C%206.55462%2C%204.776940514224839%5D%2C%20%5B46.51656%2C%206.63798%2C%204.67%5D%2C%20%5B46.3876%2C%206.22233%2C%204.57%5D%2C%20%5B46.53836%2C%206.66805%2C%204.776940514224839%5D%2C%20%5B46.29799%2C%207.05284%2C%204.81%5D%2C%20%5B46.38167%2C%206.24211%2C%205.0%5D%2C%20%5B46.52141%2C%206.60872%2C%204.776940514224839%5D%2C%20%5B46.42994%2C%206.91243%2C%205.0%5D%2C%20%5B46.52331%2C%206.68406%2C%205.0%5D%2C%20%5B46.5153%2C%206.64541%2C%204.67%5D%2C%20%5B46.51556%2C%206.62949%2C%204.86%5D%2C%20%5B46.51631%2C%206.632%2C%204.9%5D%2C%20%5B46.52027%2C%206.63789%2C%204.776940514224839%5D%2C%20%5B46.50583%2C%206.48898%2C%204.33%5D%2C%20%5B46.53274%2C%206.61063%2C%204.0%5D%2C%20%5B46.51302%2C%206.69307%2C%204.57%5D%2C%20%5B46.50578%2C%206.68527%2C%204.95%5D%2C%20%5B46.37745%2C%206.16601%2C%204.73%5D%2C%20%5B46.49043%2C%207.21759%2C%204.89%5D%2C%20%5B46.46745%2C%206.84187%2C%204.58%5D%2C%20%5B46.63617%2C%206.72922%2C%204.95%5D%2C%20%5B46.51581%2C%206.63106%2C%204.97%5D%2C%20%5B46.52226%2C%206.63669%2C%204.83%5D%2C%20%5B46.52791%2C%206.56806%2C%205.0%5D%2C%20%5B46.54421%2C%206.55325%2C%204.0%5D%2C%20%5B46.3882%2C%206.23197%2C%204.82%5D%2C%20%5B46.51276%2C%206.6843%2C%205.0%5D%2C%20%5B46.52221%2C%206.59336%2C%204.6%5D%2C%20%5B46.52519%2C%206.62459%2C%204.8%5D%2C%20%5B46.34033%2C%207.00802%2C%204.93%5D%2C%20%5B46.43906%2C%206.91169%2C%204.84%5D%2C%20%5B46.5344%2C%206.66111%2C%205.0%5D%2C%20%5B46.53119%2C%206.6293%2C%204.71%5D%2C%20%5B46.5266%2C%206.61596%2C%204.0%5D%2C%20%5B46.554729%2C%206.629945%2C%205.0%5D%2C%20%5B46.46068%2C%206.84103%2C%204.776940514224839%5D%2C%20%5B46.5261%2C%206.64788%2C%204.776940514224839%5D%2C%20%5B46.49147%2C%206.31907%2C%204.71%5D%2C%20%5B46.53285%2C%206.6113%2C%204.6%5D%2C%20%5B46.52565%2C%206.61903%2C%204.81%5D%2C%20%5B46.53575%2C%206.5781%2C%205.0%5D%2C%20%5B46.51504%2C%206.63625%2C%205.0%5D%2C%20%5B46.51649%2C%206.61813%2C%205.0%5D%2C%20%5B46.28995%2C%207.0585%2C%204.85%5D%2C%20%5B46.52239%2C%206.62077%2C%204.67%5D%2C%20%5B46.51425%2C%206.64241%2C%205.0%5D%2C%20%5B46.46184%2C%206.83846%2C%205.0%5D%2C%20%5B46.46174%2C%206.83853%2C%205.0%5D%2C%20%5B46.47282%2C%207.1549%2C%204.95%5D%2C%20%5B46.52307%2C%206.62057%2C%204.82%5D%2C%20%5B46.53562%2C%206.65277%2C%204.776940514224839%5D%2C%20%5B46.53558%2C%206.63598%2C%205.0%5D%2C%20%5B46.29793%2C%207.04304%2C%204.81%5D%2C%20%5B46.42501%2C%206.92734%2C%204.776940514224839%5D%2C%20%5B46.524%2C%206.56573%2C%205.0%5D%2C%20%5B46.5282%2C%206.65274%2C%204.67%5D%2C%20%5B46.52868%2C%206.6511%2C%204.67%5D%2C%20%5B46.53951%2C%206.59284%2C%204.64%5D%2C%20%5B46.5204%2C%206.626%2C%204.776940514224839%5D%2C%20%5B46.53046%2C%206.6288%2C%205.0%5D%2C%20%5B46.46261%2C%206.34205%2C%204.82%5D%2C%20%5B46.52722%2C%206.61412%2C%204.8%5D%2C%20%5B46.40136%2C%206.93458%2C%204.88%5D%2C%20%5B46.45862%2C%206.86224%2C%204.5%5D%2C%20%5B46.61954%2C%206.245%2C%204.96%5D%2C%20%5B46.53521%2C%206.65154%2C%204.776940514224839%5D%2C%20%5B46.33754%2C%207.00853%2C%204.93%5D%2C%20%5B46.70768%2C%206.37413%2C%204.776940514224839%5D%2C%20%5B46.34824%2C%207.02089%2C%205.0%5D%2C%20%5B46.35018%2C%207.0212%2C%205.0%5D%2C%20%5B46.34373%2C%207.01679%2C%205.0%5D%2C%20%5B46.34672%2C%207.01437%2C%205.0%5D%2C%20%5B46.34152%2C%207.01066%2C%204.776940514224839%5D%2C%20%5B46.35303%2C%207.02029%2C%205.0%5D%2C%20%5B46.35207%2C%207.02139%2C%205.0%5D%2C%20%5B46.34132%2C%207.00933%2C%205.0%5D%2C%20%5B46.34606%2C%207.01444%2C%204.776940514224839%5D%2C%20%5B46.34378%2C%207.01146%2C%204.67%5D%2C%20%5B46.34528%2C%207.01246%2C%204.776940514224839%5D%2C%20%5B46.35067%2C%207.02009%2C%205.0%5D%2C%20%5B46.35038%2C%207.01975%2C%205.0%5D%2C%20%5B46.34601%2C%207.01419%2C%204.8%5D%2C%20%5B46.34325%2C%207.00855%2C%204.84%5D%2C%20%5B46.34471%2C%207.01439%2C%204.9%5D%2C%20%5B46.52023%2C%206.64047%2C%204.776940514224839%5D%2C%20%5B46.51652%2C%206.6435%2C%204.85%5D%2C%20%5B46.35068%2C%207.15388%2C%205.0%5D%2C%20%5B46.52357%2C%206.66454%2C%204.8%5D%2C%20%5B46.52034%2C%206.61611%2C%204.4%5D%2C%20%5B46.34897%2C%207.15558%2C%204.776940514224839%5D%2C%20%5B46.50438%2C%206.48722%2C%205.0%5D%2C%20%5B46.52943%2C%206.61754%2C%204.89%5D%2C%20%5B46.51156%2C%206.64216%2C%204.776940514224839%5D%2C%20%5B46.34306%2C%207.00656%2C%204.71%5D%2C%20%5B46.29137%2C%207.0557%2C%205.0%5D%2C%20%5B46.27623%2C%207.05896%2C%204.94%5D%2C%20%5B46.52061%2C%206.62045%2C%204.71%5D%2C%20%5B46.91262%2C%207.08455%2C%204.9%5D%2C%20%5B46.32503%2C%206.1972%2C%203.67%5D%2C%20%5B46.35585%2C%207.10775%2C%204.58%5D%2C%20%5B46.28518%2C%207.02919%2C%204.73%5D%2C%20%5B46.5249%2C%206.63869%2C%204.91%5D%2C%20%5B46.92397%2C%207.02388%2C%205.0%5D%2C%20%5B46.3517%2C%207.02087%2C%204.86%5D%2C%20%5B46.51692%2C%206.54264%2C%205.0%5D%2C%20%5B46.83439%2C%206.61938%2C%204.86%5D%2C%20%5B46.58819%2C%206.5675%2C%204.94%5D%2C%20%5B46.4683%2C%206.8479%2C%204.74%5D%2C%20%5B46.52454%2C%206.63043%2C%204.78%5D%2C%20%5B46.53519%2C%206.61078%2C%205.0%5D%2C%20%5B46.462%2C%206.86129%2C%205.0%5D%2C%20%5B46.51373%2C%206.62633%2C%205.0%5D%2C%20%5B46.45826%2C%206.84706%2C%204.98%5D%2C%20%5B46.53837%2C%206.57041%2C%204.776940514224839%5D%2C%20%5B46.43997%2C%206.90533%2C%204.5%5D%2C%20%5B46.52688%2C%206.62352%2C%205.0%5D%2C%20%5B46.51364%2C%206.63378%2C%204.88%5D%2C%20%5B46.29764%2C%207.05643%2C%204.8%5D%2C%20%5B46.34545%2C%207.01316%2C%204.92%5D%2C%20%5B46.51978%2C%206.62216%2C%204.776940514224839%5D%2C%20%5B46.63365%2C%206.26015%2C%205.0%5D%2C%20%5B46.52521%2C%206.62476%2C%205.0%5D%2C%20%5B46.46144%2C%206.84533%2C%204.776940514224839%5D%2C%20%5B46.38601%2C%206.23304%2C%205.0%5D%2C%20%5B46.52842%2C%206.61181%2C%204.75%5D%2C%20%5B46.34729%2C%207.01788%2C%204.8%5D%2C%20%5B46.55589%2C%206.68225%2C%204.776940514224839%5D%2C%20%5B46.51822%2C%206.59837%2C%204.78%5D%2C%20%5B46.44063%2C%206.89647%2C%204.89%5D%2C%20%5B46.43055%2C%206.91275%2C%204.96%5D%2C%20%5B46.38118%2C%206.22494%2C%204.75%5D%2C%20%5B46.55237%2C%206.55714%2C%204.5%5D%2C%20%5B46.50507%2C%206.47834%2C%204.86%5D%2C%20%5B46.52301%2C%206.62625%2C%204.95%5D%2C%20%5B46.29143%2C%207.05535%2C%205.0%5D%2C%20%5B46.43708%2C%206.92964%2C%204.89%5D%2C%20%5B46.30919%2C%207.06185%2C%204.776940514224839%5D%2C%20%5B46.51515%2C%206.62788%2C%204.91%5D%2C%20%5B46.52883%2C%206.61333%2C%204.85%5D%2C%20%5B46.49422%2C%206.70954%2C%204.96%5D%2C%20%5B46.51588%2C%206.63817%2C%205.0%5D%2C%20%5B46.44112%2C%206.90917%2C%204.69%5D%2C%20%5B46.28498%2C%207.07264%2C%205.0%5D%2C%20%5B46.61449%2C%206.50779%2C%204.92%5D%2C%20%5B46.52059%2C%206.6076%2C%205.0%5D%2C%20%5B46.51659%2C%206.63816%2C%204.776940514224839%5D%2C%20%5B46.43289%2C%206.91152%2C%204.776940514224839%5D%2C%20%5B46.52558%2C%206.65468%2C%204.776940514224839%5D%2C%20%5B46.83702%2C%206.6863%2C%204.55%5D%2C%20%5B46.29281%2C%207.05506%2C%205.0%5D%2C%20%5B46.51486%2C%206.6314%2C%204.776940514224839%5D%2C%20%5B46.52545%2C%206.63956%2C%205.0%5D%2C%20%5B46.46685%2C%206.84233%2C%204.5%5D%2C%20%5B46.52596%2C%206.61559%2C%204.35%5D%2C%20%5B46.55179%2C%206.76156%2C%205.0%5D%2C%20%5B46.47382%2C%206.78312%2C%204.89%5D%2C%20%5B46.43687%2C%206.91428%2C%205.0%5D%2C%20%5B46.46511%2C%206.07436%2C%204.84%5D%2C%20%5B46.554%2C%206.55777%2C%204.776940514224839%5D%2C%20%5B46.56898%2C%206.63573%2C%205.0%5D%2C%20%5B46.5212%2C%206.64327%2C%204.776940514224839%5D%2C%20%5B46.28658%2C%207.02709%2C%204.94%5D%2C%20%5B46.36192%2C%206.20848%2C%204.8%5D%2C%20%5B46.32974%2C%206.18985%2C%204.7%5D%2C%20%5B46.44819%2C%206.16143%2C%204.91%5D%2C%20%5B46.27533%2C%207.06466%2C%204.33%5D%2C%20%5B46.44294%2C%206.88056%2C%205.0%5D%2C%20%5B46.51677%2C%206.49147%2C%204.92%5D%2C%20%5B46.34319%2C%207.0051%2C%204.0%5D%2C%20%5B46.474%2C%206.78338%2C%204.9%5D%2C%20%5B46.46665%2C%206.83563%2C%204.92%5D%2C%20%5B46.55129%2C%206.63388%2C%204.776940514224839%5D%2C%20%5B46.51009%2C%206.62489%2C%205.0%5D%2C%20%5B46.51528%2C%206.64811%2C%205.0%5D%2C%20%5B46.29241%2C%207.05583%2C%204.82%5D%2C%20%5B46.55476%2C%206.59469%2C%205.0%5D%2C%20%5B46.27393%2C%207.0627%2C%204.8%5D%2C%20%5B46.5136%2C%206.63643%2C%204.776940514224839%5D%2C%20%5B46.53421%2C%206.58029%2C%204.5%5D%2C%20%5B46.43299%2C%206.91026%2C%204.81%5D%2C%20%5B46.5337%2C%206.65075%2C%204.57%5D%2C%20%5B46.51417%2C%206.48955%2C%203.33%5D%2C%20%5B46.48072%2C%206.78078%2C%204.91%5D%2C%20%5B46.83015%2C%206.54999%2C%204.97%5D%2C%20%5B46.83091%2C%206.61946%2C%204.776940514224839%5D%2C%20%5B46.35887%2C%207.02809%2C%204.71%5D%2C%20%5B46.34113%2C%207.00708%2C%204.83%5D%2C%20%5B46.36436%2C%207.089%2C%204.86%5D%2C%20%5B46.53709%2C%206.5847%2C%205.0%5D%2C%20%5B46.49575%2C%206.38963%2C%205.0%5D%2C%20%5B46.30194%2C%207.05389%2C%204.93%5D%2C%20%5B46.49503%2C%206.38999%2C%204.73%5D%2C%20%5B46.53941%2C%206.58154%2C%204.33%5D%2C%20%5B46.35133%2C%207.1629%2C%204.75%5D%2C%20%5B46.46339%2C%206.33423%2C%204.82%5D%2C%20%5B46.51427%2C%206.63145%2C%205.0%5D%2C%20%5B46.51236%2C%206.49938%2C%204.71%5D%2C%20%5B46.43821%2C%206.90709%2C%204.69%5D%2C%20%5B46.51376%2C%206.62945%2C%205.0%5D%2C%20%5B46.4816%2C%206.82893%2C%204.776940514224839%5D%2C%20%5B46.54551%2C%206.63058%2C%204.88%5D%2C%20%5B46.44498%2C%206.89583%2C%204.91%5D%2C%20%5B46.43945%2C%206.20697%2C%205.0%5D%2C%20%5B46.41781%2C%206.9277%2C%204.78%5D%2C%20%5B46.43997%2C%206.90533%2C%205.0%5D%2C%20%5B46.52684%2C%206.59366%2C%204.776940514224839%5D%2C%20%5B46.51238%2C%206.62834%2C%204.92%5D%2C%20%5B46.52581%2C%206.61154%2C%204.776940514224839%5D%2C%20%5B46.53341%2C%206.61207%2C%204.776940514224839%5D%2C%20%5B46.31289%2C%206.9584%2C%204.776940514224839%5D%2C%20%5B46.52727%2C%206.65601%2C%204.86%5D%2C%20%5B46.4443%2C%206.89517%2C%204.776940514224839%5D%2C%20%5B46.35527%2C%207.13582%2C%204.83%5D%2C%20%5B46.48158%2C%206.78049%2C%204.89%5D%2C%20%5B46.51011%2C%206.6372%2C%204.776940514224839%5D%2C%20%5B46.51076%2C%206.66052%2C%205.0%5D%2C%20%5B46.71253%2C%206.3757%2C%205.0%5D%2C%20%5B46.33959%2C%207.00792%2C%204.25%5D%2C%20%5B46.52465%2C%206.62854%2C%204.88%5D%2C%20%5B46.50934%2C%206.62954%2C%203.5%5D%2C%20%5B46.52021%2C%206.61677%2C%204.48%5D%2C%20%5B46.443%2C%206.90674%2C%204.33%5D%2C%20%5B46.60003%2C%206.51091%2C%204.64%5D%2C%20%5B46.57691%2C%206.5406%2C%204.776940514224839%5D%2C%20%5B46.52598%2C%206.63488%2C%204.96%5D%2C%20%5B46.52509%2C%206.61941%2C%204.8%5D%2C%20%5B46.81571%2C%206.49682%2C%205.0%5D%2C%20%5B46.5151%2C%206.63876%2C%205.0%5D%2C%20%5B46.52225%2C%206.61854%2C%205.0%5D%2C%20%5B46.2102%2C%207.03726%2C%204.74%5D%2C%20%5B46.5522%2C%206.55059%2C%204.776940514224839%5D%2C%20%5B46.34046%2C%207.01333%2C%204.7%5D%2C%20%5B46.50666%2C%206.65902%2C%204.776940514224839%5D%2C%20%5B46.28123%2C%207.06617%2C%204.776940514224839%5D%2C%20%5B46.830734%2C%206.54103%2C%204.5%5D%2C%20%5B46.80153%2C%206.73835%2C%205.0%5D%2C%20%5B46.81225%2C%206.46307%2C%204.776940514224839%5D%2C%20%5B46.52534%2C%206.61297%2C%204.75%5D%2C%20%5B46.3464%2C%207.01887%2C%204.75%5D%2C%20%5B46.52493%2C%206.68426%2C%205.0%5D%2C%20%5B46.52265%2C%206.62905%2C%205.0%5D%2C%20%5B46.52709%2C%206.61351%2C%204.776940514224839%5D%2C%20%5B46.52556%2C%206.63098%2C%204.63%5D%2C%20%5B46.53969%2C%206.59915%2C%204.6%5D%2C%20%5B46.20873%2C%207.03572%2C%204.13%5D%2C%20%5B46.7653%2C%206.67223%2C%204.88%5D%2C%20%5B46.29324%2C%207.05423%2C%204.74%5D%2C%20%5B46.3048%2C%207.0575%2C%204.776940514224839%5D%2C%20%5B46.302425%2C%207.050832%2C%205.0%5D%2C%20%5B46.82433%2C%206.52698%2C%205.0%5D%2C%20%5B46.82549%2C%206.52838%2C%204.0%5D%2C%20%5B46.50816%2C%206.67162%2C%204.67%5D%2C%20%5B46.35335%2C%207.15316%2C%204.85%5D%2C%20%5B46.57054%2C%206.82477%2C%204.81%5D%2C%20%5B46.52039%2C%206.65069%2C%204.89%5D%2C%20%5B46.66163%2C%206.60634%2C%204.71%5D%2C%20%5B46.54023%2C%206.59746%2C%204.58%5D%2C%20%5B46.53194%2C%206.70437%2C%204.776940514224839%5D%2C%20%5B46.62562%2C%206.43917%2C%204.76%5D%2C%20%5B46.52899%2C%206.62873%2C%204.67%5D%2C%20%5B46.50363%2C%206.71242%2C%204.776940514224839%5D%2C%20%5B46.5267%2C%206.58984%2C%204.71%5D%2C%20%5B46.64328%2C%206.76243%2C%204.78%5D%2C%20%5B46.51734%2C%206.64696%2C%204.25%5D%2C%20%5B46.31487%2C%206.18387%2C%205.0%5D%2C%20%5B46.54956%2C%206.65908%2C%204.67%5D%2C%20%5B46.31029%2C%207.05936%2C%204.776940514224839%5D%2C%20%5B46.82505%2C%206.52623%2C%204.5%5D%2C%20%5B46.51443%2C%206.63114%2C%205.0%5D%2C%20%5B46.54931%2C%206.66081%2C%205.0%5D%2C%20%5B46.54998%2C%206.6608%2C%205.0%5D%2C%20%5B46.49272%2C%206.31699%2C%204.69%5D%2C%20%5B46.53622%2C%206.59543%2C%204.75%5D%2C%20%5B46.51308%2C%206.64107%2C%204.5%5D%2C%20%5B46.52267%2C%206.60213%2C%204.79%5D%2C%20%5B46.3462%2C%207.01652%2C%205.0%5D%2C%20%5B46.45277%2C%206.33192%2C%204.73%5D%2C%20%5B46.28823%2C%207.09913%2C%204.7%5D%2C%20%5B46.50486%2C%206.45893%2C%204.86%5D%2C%20%5B46.5313%2C%206.61337%2C%204.57%5D%2C%20%5B46.5644%2C%206.89507%2C%204.776940514224839%5D%2C%20%5B46.52707%2C%206.59181%2C%203.8%5D%2C%20%5B46.57603%2C%206.48822%2C%204.93%5D%2C%20%5B46.42877%2C%206.92163%2C%204.776940514224839%5D%2C%20%5B46.53407%2C%206.60531%2C%204.48%5D%2C%20%5B46.29428%2C%207.0599%2C%204.776940514224839%5D%2C%20%5B46.28371%2C%207.09588%2C%204.89%5D%2C%20%5B46.45015%2C%206.89577%2C%204.68%5D%2C%20%5B46.28417%2C%207.08567%2C%204.88%5D%2C%20%5B46.3556%2C%207.16999%2C%204.0%5D%2C%20%5B46.52309%2C%206.63088%2C%205.0%5D%2C%20%5B46.34183%2C%207.01045%2C%204.69%5D%2C%20%5B46.40276%2C%206.93326%2C%204.72%5D%2C%20%5B46.34874%2C%207.15827%2C%205.0%5D%2C%20%5B46.29865%2C%207.05213%2C%204.93%5D%2C%20%5B46.48204%2C%206.45679%2C%204.95%5D%2C%20%5B46.53431%2C%206.61185%2C%204.4%5D%2C%20%5B46.35619%2C%206.16628%2C%204.776940514224839%5D%2C%20%5B46.35597%2C%206.16483%2C%204.776940514224839%5D%2C%20%5B46.53546%2C%206.64938%2C%204.8%5D%2C%20%5B46.42237%2C%207.10821%2C%204.74%5D%2C%20%5B46.87917%2C%207.0351%2C%204.83%5D%2C%20%5B46.43971%2C%206.2493%2C%204.85%5D%2C%20%5B46.29985%2C%207.05624%2C%204.97%5D%2C%20%5B46.88526%2C%206.90534%2C%204.88%5D%2C%20%5B46.54156%2C%206.58279%2C%204.0%5D%2C%20%5B46.52746%2C%206.63482%2C%204.33%5D%2C%20%5B46.35361%2C%207.16583%2C%204.5%5D%2C%20%5B46.35474%2C%207.02788%2C%204.67%5D%2C%20%5B46.51478%2C%206.63777%2C%205.0%5D%2C%20%5B46.59606%2C%206.76925%2C%204.776940514224839%5D%2C%20%5B46.54708%2C%206.63129%2C%204.776940514224839%5D%2C%20%5B46.38364%2C%206.17788%2C%204.88%5D%2C%20%5B46.51416%2C%206.63746%2C%204.776940514224839%5D%2C%20%5B46.50715%2C%206.3059%2C%204.4%5D%2C%20%5B46.53575%2C%206.59286%2C%205.0%5D%2C%20%5B46.95549%2C%207.0167%2C%204.94%5D%2C%20%5B46.45824%2C%206.33185%2C%204.55%5D%2C%20%5B46.29843%2C%207.03819%2C%205.0%5D%2C%20%5B46.37638%2C%206.16336%2C%204.94%5D%2C%20%5B46.54025%2C%206.58841%2C%204.776940514224839%5D%2C%20%5B46.52717%2C%206.6168%2C%204.33%5D%2C%20%5B46.51502%2C%206.63862%2C%204.87%5D%2C%20%5B46.49287%2C%206.73719%2C%204.67%5D%2C%20%5B46.4377%2C%206.9098%2C%204.95%5D%2C%20%5B46.46501%2C%206.85153%2C%204.83%5D%2C%20%5B46.50204%2C%206.68951%2C%205.0%5D%2C%20%5B46.52354%2C%206.62399%2C%205.0%5D%2C%20%5B46.52161%2C%206.61187%2C%204.776940514224839%5D%2C%20%5B46.2756%2C%207.01538%2C%204.85%5D%2C%20%5B46.29016%2C%207.09929%2C%204.87%5D%2C%20%5B46.51596%2C%206.56971%2C%205.0%5D%2C%20%5B46.5307%2C%206.56984%2C%205.0%5D%2C%20%5B46.31427%2C%206.9674%2C%204.9%5D%2C%20%5B46.52597%2C%206.61891%2C%204.776940514224839%5D%2C%20%5B46.77878%2C%206.64018%2C%205.0%5D%2C%20%5B46.5247%2C%206.63729%2C%205.0%5D%2C%20%5B46.53687%2C%206.59194%2C%204.83%5D%2C%20%5B46.38349%2C%206.23433%2C%204.4%5D%2C%20%5B46.52375%2C%206.6507%2C%204.44%5D%2C%20%5B46.52319%2C%206.63451%2C%205.0%5D%2C%20%5B46.53362%2C%206.66309%2C%204.45%5D%2C%20%5B46.452%2C%206.33161%2C%204.85%5D%2C%20%5B46.54053%2C%206.54872%2C%204.63%5D%2C%20%5B46.51784%2C%206.62516%2C%205.0%5D%2C%20%5B46.30364%2C%207.04595%2C%204.89%5D%2C%20%5B46.52423%2C%206.62182%2C%205.0%5D%2C%20%5B46.45564%2C%206.85661%2C%204.9%5D%2C%20%5B46.399%2C%207.10258%2C%204.9%5D%2C%20%5B46.47291%2C%207.16237%2C%204.81%5D%2C%20%5B46.50975%2C%206.62379%2C%205.0%5D%2C%20%5B46.53268%2C%206.60514%2C%204.5%5D%2C%20%5B46.46573%2C%207.08051%2C%204.776940514224839%5D%2C%20%5B46.52983%2C%206.56265%2C%205.0%5D%2C%20%5B46.64429%2C%206.63509%2C%204.92%5D%2C%20%5B46.49315%2C%206.71748%2C%204.97%5D%2C%20%5B46.4649%2C%206.8375%2C%204.86%5D%2C%20%5B46.52753%2C%206.63208%2C%204.8%5D%2C%20%5B46.5327%2C%206.65269%2C%204.8%5D%2C%20%5B46.5161%2C%206.63842%2C%204.776940514224839%5D%2C%20%5B46.5231%2C%206.56708%2C%204.0%5D%2C%20%5B46.51849%2C%206.6455%2C%205.0%5D%2C%20%5B46.95603%2C%207.01334%2C%204.96%5D%2C%20%5B46.51078%2C%206.70724%2C%204.776940514224839%5D%2C%20%5B46.51349%2C%206.6456%2C%204.776940514224839%5D%2C%20%5B46.53662%2C%206.58692%2C%205.0%5D%2C%20%5B46.54051%2C%206.61396%2C%204.86%5D%2C%20%5B46.43316%2C%207.06788%2C%204.88%5D%2C%20%5B46.38045%2C%206.21502%2C%204.776940514224839%5D%2C%20%5B46.48871%2C%207.20755%2C%204.776940514224839%5D%2C%20%5B46.46541%2C%206.84682%2C%204.89%5D%2C%20%5B46.53207%2C%206.60472%2C%205.0%5D%2C%20%5B46.29508%2C%206.99177%2C%204.776940514224839%5D%2C%20%5B46.4478%2C%206.89833%2C%204.85%5D%2C%20%5B46.44777%2C%206.89942%2C%204.79%5D%2C%20%5B46.44069%2C%206.90325%2C%205.0%5D%2C%20%5B46.49779%2C%206.47741%2C%204.73%5D%2C%20%5B46.54056%2C%206.64515%2C%204.65%5D%2C%20%5B46.34358%2C%207.01226%2C%204.776940514224839%5D%2C%20%5B46.40057%2C%206.9322%2C%204.89%5D%2C%20%5B46.5256%2C%206.63733%2C%204.73%5D%2C%20%5B46.45671%2C%206.91915%2C%204.96%5D%2C%20%5B46.52364%2C%206.62121%2C%204.89%5D%2C%20%5B46.48691%2C%207.20819%2C%204.4%5D%2C%20%5B46.78076%2C%206.54333%2C%204.92%5D%2C%20%5B46.52228%2C%206.6205%2C%205.0%5D%2C%20%5B46.51474%2C%206.63332%2C%204.64%5D%2C%20%5B46.53227%2C%206.58126%2C%205.0%5D%2C%20%5B46.48072%2C%206.78078%2C%204.93%5D%2C%20%5B46.53087%2C%206.66095%2C%204.85%5D%2C%20%5B46.53164%2C%206.63033%2C%204.55%5D%2C%20%5B46.5087%2C%206.62757%2C%204.9%5D%2C%20%5B46.42987%2C%206.91487%2C%205.0%5D%2C%20%5B46.54595%2C%206.62929%2C%204.72%5D%2C%20%5B46.43011%2C%206.91456%2C%204.776940514224839%5D%2C%20%5B46.42983%2C%206.914%2C%205.0%5D%2C%20%5B46.43017%2C%206.91418%2C%205.0%5D%2C%20%5B46.43106%2C%206.916%2C%205.0%5D%2C%20%5B46.43065%2C%206.9148%2C%204.776940514224839%5D%2C%20%5B46.52843%2C%206.6097%2C%204.776940514224839%5D%2C%20%5B46.50092%2C%206.69126%2C%205.0%5D%2C%20%5B46.52313%2C%206.56577%2C%204.8%5D%2C%20%5B46.77963%2C%206.66354%2C%205.0%5D%2C%20%5B46.51639%2C%206.56448%2C%204.5%5D%2C%20%5B46.52399%2C%206.56524%2C%205.0%5D%2C%20%5B46.52849%2C%206.63059%2C%204.776940514224839%5D%2C%20%5B46.38372%2C%206.2335%2C%205.0%5D%2C%20%5B46.34453%2C%207.01424%2C%205.0%5D%2C%20%5B46.52156%2C%206.6267%2C%205.0%5D%2C%20%5B46.38369%2C%206.23419%2C%204.67%5D%2C%20%5B46.53267%2C%206.65147%2C%204.65%5D%2C%20%5B46.51298%2C%206.62791%2C%204.776940514224839%5D%2C%20%5B46.44681%2C%206.89987%2C%204.84%5D%2C%20%5B46.44021%2C%206.90452%2C%205.0%5D%2C%20%5B46.50705%2C%206.65803%2C%205.0%5D%2C%20%5B46.51629%2C%206.61365%2C%204.89%5D%2C%20%5B46.51959%2C%206.52151%2C%204.78%5D%2C%20%5B46.28892%2C%207.09787%2C%203.5%5D%2C%20%5B46.30817%2C%207.05945%2C%204.776940514224839%5D%2C%20%5B46.34237%2C%207.01606%2C%204.78%5D%2C%20%5B46.29425%2C%207.061204%2C%204.0%5D%2C%20%5B46.54095%2C%206.58168%2C%204.776940514224839%5D%2C%20%5B46.52594%2C%206.62416%2C%204.776940514224839%5D%2C%20%5B46.52841%2C%206.61684%2C%204.776940514224839%5D%2C%20%5B46.42531%2C%206.92577%2C%205.0%5D%2C%20%5B46.29346%2C%207.05679%2C%205.0%5D%2C%20%5B46.35306%2C%207.0228%2C%204.94%5D%2C%20%5B46.35465%2C%207.15793%2C%204.88%5D%2C%20%5B46.53866%2C%206.58305%2C%204.59%5D%2C%20%5B46.52446%2C%206.6133%2C%204.776940514224839%5D%2C%20%5B46.51483%2C%206.62923%2C%204.67%5D%2C%20%5B46.56546%2C%206.69584%2C%201.0%5D%2C%20%5B46.54943%2C%206.62935%2C%205.0%5D%2C%20%5B46.55024%2C%206.63482%2C%204.6%5D%2C%20%5B46.30159%2C%207.02627%2C%204.94%5D%2C%20%5B46.53673%2C%206.65799%2C%204.38%5D%2C%20%5B46.48214%2C%206.45978%2C%205.0%5D%2C%20%5B46.48111%2C%206.46093%2C%205.0%5D%2C%20%5B46.52394%2C%206.63201%2C%204.93%5D%2C%20%5B46.51241%2C%206.63752%2C%204.67%5D%2C%20%5B46.52436%2C%206.63318%2C%204.8%5D%2C%20%5B46.45025%2C%206.87089%2C%204.83%5D%2C%20%5B46.49911%2C%206.69588%2C%205.0%5D%2C%20%5B46.46932%2C%206.83819%2C%205.0%5D%2C%20%5B46.51111%2C%206.66697%2C%204.776940514224839%5D%2C%20%5B46.5079%2C%206.62796%2C%204.8%5D%2C%20%5B46.68971%2C%206.73217%2C%204.776940514224839%5D%2C%20%5B46.51983%2C%206.68509%2C%204.47%5D%2C%20%5B46.51514%2C%206.63088%2C%204.85%5D%2C%20%5B46.73243%2C%206.50983%2C%204.92%5D%2C%20%5B46.42041%2C%207.10522%2C%204.0%5D%2C%20%5B46.95611%2C%207.01436%2C%205.0%5D%2C%20%5B46.38527%2C%206.24038%2C%205.0%5D%2C%20%5B46.52612%2C%206.64184%2C%204.92%5D%2C%20%5B46.44958%2C%206.86822%2C%205.0%5D%2C%20%5B46.35534%2C%207.14327%2C%205.0%5D%2C%20%5B46.43688%2C%206.91178%2C%204.94%5D%2C%20%5B46.51027%2C%206.30794%2C%204.33%5D%2C%20%5B46.43367%2C%206.91076%2C%204.95%5D%2C%20%5B46.52402%2C%206.6238%2C%205.0%5D%2C%20%5B46.524%2C%206.62214%2C%204.776940514224839%5D%2C%20%5B46.46155%2C%206.84333%2C%204.91%5D%2C%20%5B46.50886%2C%206.66759%2C%204.88%5D%2C%20%5B46.39707%2C%207.10512%2C%205.0%5D%2C%20%5B46.50521%2C%206.67093%2C%204.89%5D%2C%20%5B46.45154%2C%206.33279%2C%205.0%5D%2C%20%5B46.84694%2C%206.62227%2C%204.75%5D%2C%20%5B46.53945%2C%206.54878%2C%204.776940514224839%5D%2C%20%5B46.5297%2C%206.61213%2C%204.776940514224839%5D%2C%20%5B46.78093%2C%206.66482%2C%204.51%5D%2C%20%5B46.5229%2C%206.63191%2C%205.0%5D%2C%20%5B46.43747%2C%206.91502%2C%204.87%5D%2C%20%5B46.480721%2C%206.780782%2C%205.0%5D%2C%20%5B46.77935%2C%206.66377%2C%204.85%5D%2C%20%5B46.40026%2C%206.93918%2C%205.0%5D%2C%20%5B46.40175%2C%206.94009%2C%204.776940514224839%5D%2C%20%5B46.51185%2C%206.64088%2C%205.0%5D%2C%20%5B46.28384%2C%207.07168%2C%204.89%5D%2C%20%5B46.50784%2C%206.55836%2C%204.93%5D%2C%20%5B46.60422%2C%206.45236%2C%204.93%5D%2C%20%5B46.52031%2C%206.60818%2C%204.5%5D%2C%20%5B46.51414%2C%206.69094%2C%204.95%5D%2C%20%5B46.43037%2C%206.91303%2C%204.776940514224839%5D%2C%20%5B46.49347%2C%206.79582%2C%204.91%5D%2C%20%5B46.52461%2C%206.61736%2C%204.56%5D%2C%20%5B46.34775%2C%207.01615%2C%205.0%5D%2C%20%5B46.46776%2C%206.85167%2C%204.75%5D%2C%20%5B46.5304%2C%206.63055%2C%204.776940514224839%5D%2C%20%5B46.46977%2C%206.33294%2C%205.0%5D%2C%20%5B46.91665%2C%207.03016%2C%205.0%5D%2C%20%5B46.46795%2C%207.08186%2C%204.776940514224839%5D%2C%20%5B46.60238%2C%206.6696%2C%204.78%5D%2C%20%5B46.51902%2C%206.63266%2C%204.88%5D%2C%20%5B46.3813%2C%206.24152%2C%205.0%5D%2C%20%5B46.38157%2C%206.24103%2C%204.94%5D%2C%20%5B46.49853%2C%206.47032%2C%204.776940514224839%5D%2C%20%5B46.52565%2C%206.62363%2C%205.0%5D%2C%20%5B46.46457%2C%206.83785%2C%204.93%5D%2C%20%5B46.51162%2C%206.63771%2C%204.5%5D%2C%20%5B46.50485%2C%206.88259%2C%204.9%5D%2C%20%5B46.48072%2C%206.78078%2C%205.0%5D%2C%20%5B46.39906%2C%207.10426%2C%204.96%5D%2C%20%5B46.47749%2C%206.37295%2C%205.0%5D%2C%20%5B46.88007%2C%207.04071%2C%204.88%5D%2C%20%5B46.77402%2C%206.65164%2C%204.84%5D%2C%20%5B46.4731%2C%206.42778%2C%204.82%5D%2C%20%5B46.45641%2C%206.33285%2C%205.0%5D%2C%20%5B46.45247%2C%206.86406%2C%204.776940514224839%5D%2C%20%5B46.52761%2C%206.60559%2C%204.33%5D%2C%20%5B46.44123%2C%206.91129%2C%204.8%5D%2C%20%5B46.49198%2C%207.19203%2C%204.776940514224839%5D%2C%20%5B46.29682%2C%207.05461%2C%205.0%5D%2C%20%5B46.51635%2C%206.54962%2C%204.776940514224839%5D%2C%20%5B46.53022%2C%206.61616%2C%205.0%5D%2C%20%5B46.51958%2C%206.61194%2C%204.776940514224839%5D%2C%20%5B46.3377%2C%207.00539%2C%204.67%5D%2C%20%5B46.51032%2C%206.6663%2C%204.776940514224839%5D%2C%20%5B46.79767%2C%206.74426%2C%204.75%5D%2C%20%5B46.54969%2C%206.62975%2C%205.0%5D%2C%20%5B46.53375%2C%206.63352%2C%204.776940514224839%5D%2C%20%5B46.43739%2C%206.15246%2C%204.93%5D%2C%20%5B46.5387%2C%206.57849%2C%204.776940514224839%5D%2C%20%5B46.54591%2C%206.63233%2C%203.0%5D%2C%20%5B46.514%2C%206.55812%2C%205.0%5D%2C%20%5B46.44534%2C%206.89678%2C%204.96%5D%2C%20%5B46.51178%2C%206.55264%2C%204.776940514224839%5D%2C%20%5B46.43997%2C%206.90533%2C%205.0%5D%2C%20%5B46.51328%2C%206.62613%2C%204.87%5D%2C%20%5B46.51511%2C%206.63195%2C%204.93%5D%2C%20%5B46.43389%2C%206.91035%2C%204.776940514224839%5D%2C%20%5B46.51656%2C%206.64245%2C%203.0%5D%2C%20%5B46.5307%2C%206.65151%2C%204.91%5D%2C%20%5B46.4407%2C%206.25103%2C%204.776940514224839%5D%2C%20%5B46.38324%2C%206.24304%2C%205.0%5D%2C%20%5B46.51088%2C%206.62501%2C%205.0%5D%2C%20%5B46.51131%2C%206.6264%2C%204.96%5D%2C%20%5B46.55648%2C%206.68132%2C%204.776940514224839%5D%2C%20%5B46.51448%2C%206.63667%2C%205.0%5D%2C%20%5B46.52117%2C%206.50641%2C%204.83%5D%2C%20%5B46.46985%2C%206.42274%2C%204.5%5D%2C%20%5B46.43591%2C%206.94621%2C%204.8%5D%2C%20%5B46.51303%2C%206.64962%2C%204.6%5D%2C%20%5B46.46223%2C%206.33345%2C%204.5%5D%2C%20%5B46.52095%2C%206.63633%2C%205.0%5D%2C%20%5B46.54512%2C%206.74573%2C%204.8%5D%2C%20%5B46.30363%2C%206.17994%2C%205.0%5D%2C%20%5B46.52554%2C%206.63077%2C%204.83%5D%2C%20%5B46.50993%2C%206.55871%2C%204.97%5D%2C%20%5B46.51345%2C%206.55841%2C%204.776940514224839%5D%2C%20%5B46.41698%2C%206.92919%2C%204.73%5D%2C%20%5B46.38236%2C%206.23477%2C%204.67%5D%2C%20%5B46.82958%2C%206.54316%2C%204.5%5D%2C%20%5B46.38384%2C%206.23454%2C%205.0%5D%2C%20%5B46.51348%2C%206.55977%2C%204.776940514224839%5D%2C%20%5B46.43609%2C%206.91229%2C%205.0%5D%2C%20%5B46.46489%2C%206.93803%2C%204.64%5D%2C%20%5B46.39566%2C%206.92356%2C%204.67%5D%2C%20%5B46.52717%2C%206.65447%2C%204.5%5D%2C%20%5B46.437%2C%206.90891%2C%205.0%5D%2C%20%5B46.44111%2C%206.90593%2C%205.0%5D%2C%20%5B46.60295%2C%206.56357%2C%204.87%5D%2C%20%5B46.52357%2C%206.62868%2C%205.0%5D%2C%20%5B46.5163%2C%206.63794%2C%204.776940514224839%5D%2C%20%5B46.77847%2C%206.63955%2C%205.0%5D%2C%20%5B46.55552%2C%206.47256%2C%204.776940514224839%5D%2C%20%5B46.81944%2C%206.92883%2C%204.776940514224839%5D%2C%20%5B46.46676%2C%206.35596%2C%204.86%5D%2C%20%5B46.38443%2C%206.2257%2C%204.776940514224839%5D%2C%20%5B46.3108%2C%207.01146%2C%205.0%5D%2C%20%5B46.29811%2C%207.05305%2C%205.0%5D%2C%20%5B46.35413%2C%207.1533%2C%204.93%5D%2C%20%5B46.54422%2C%206.6433%2C%204.5%5D%2C%20%5B46.46099%2C%206.86607%2C%204.87%5D%2C%20%5B46.8796%2C%207.0382%2C%204.776940514224839%5D%2C%20%5B46.87999%2C%207.03907%2C%204.9%5D%2C%20%5B46.5306%2C%206.61511%2C%204.68%5D%2C%20%5B46.51698%2C%206.45735%2C%205.0%5D%2C%20%5B46.51081%2C%206.63956%2C%205.0%5D%2C%20%5B46.52449%2C%206.62913%2C%205.0%5D%2C%20%5B46.51714%2C%206.62869%2C%204.75%5D%2C%20%5B46.43491%2C%206.94634%2C%204.94%5D%2C%20%5B46.71604%2C%206.38163%2C%204.4%5D%2C%20%5B46.71437%2C%206.3813%2C%204.67%5D%2C%20%5B46.71453%2C%206.3826%2C%204.5%5D%2C%20%5B46.53882%2C%206.64547%2C%204.776940514224839%5D%2C%20%5B46.53079%2C%206.66169%2C%204.71%5D%2C%20%5B46.51479%2C%206.63684%2C%204.776940514224839%5D%2C%20%5B46.30655%2C%207.0586%2C%205.0%5D%2C%20%5B46.52165%2C%206.64569%2C%204.5%5D%2C%20%5B46.51646%2C%206.56038%2C%204.73%5D%2C%20%5B46.53025%2C%206.66238%2C%204.42%5D%2C%20%5B46.46381%2C%206.83613%2C%204.93%5D%2C%20%5B46.51092%2C%206.6364%2C%205.0%5D%2C%20%5B46.52791%2C%206.65291%2C%204.87%5D%2C%20%5B46.72391%2C%206.60106%2C%204.9%5D%2C%20%5B46.54764%2C%206.64359%2C%204.4%5D%2C%20%5B46.46248%2C%206.84052%2C%205.0%5D%2C%20%5B46.51379%2C%206.69284%2C%204.64%5D%2C%20%5B46.51563%2C%206.53879%2C%204.776940514224839%5D%2C%20%5B46.29003%2C%207.06165%2C%205.0%5D%2C%20%5B46.46877%2C%207.0821%2C%205.0%5D%2C%20%5B46.47898%2C%206.23001%2C%205.0%5D%2C%20%5B46.44024%2C%206.9054%2C%204.88%5D%2C%20%5B46.46764%2C%207.08145%2C%205.0%5D%2C%20%5B46.52727%2C%206.61973%2C%204.776940514224839%5D%2C%20%5B46.48782%2C%207.20618%2C%204.77%5D%2C%20%5B46.55035%2C%206.87014%2C%204.85%5D%2C%20%5B46.54006%2C%206.58127%2C%205.0%5D%2C%20%5B46.56243%2C%206.69936%2C%205.0%5D%2C%20%5B46.47382%2C%206.78312%2C%205.0%5D%2C%20%5B46.5418%2C%206.5802%2C%204.82%5D%2C%20%5B46.46004%2C%206.84391%2C%205.0%5D%2C%20%5B46.52928%2C%206.66246%2C%205.0%5D%2C%20%5B46.52874%2C%206.65423%2C%204.4%5D%2C%20%5B46.27648%2C%207.06799%2C%204.6%5D%2C%20%5B46.52795%2C%206.55791%2C%204.66%5D%2C%20%5B46.53406%2C%206.60948%2C%204.75%5D%2C%20%5B46.21671%2C%207.04562%2C%204.95%5D%2C%20%5B46.50965%2C%206.55704%2C%204.776940514224839%5D%2C%20%5B46.51231%2C%206.61537%2C%205.0%5D%2C%20%5B46.47654%2C%206.77955%2C%204.8%5D%2C%20%5B46.43017%2C%206.91467%2C%204.776940514224839%5D%2C%20%5B46.28722%2C%207.09432%2C%205.0%5D%2C%20%5B46.28478%2C%207.08483%2C%205.0%5D%2C%20%5B46.29779%2C%207.02689%2C%204.75%5D%2C%20%5B46.27568%2C%207.06446%2C%205.0%5D%2C%20%5B46.52954%2C%206.61511%2C%204.776940514224839%5D%2C%20%5B46.5319%2C%206.60935%2C%204.75%5D%2C%20%5B46.52547%2C%206.63064%2C%204.8%5D%2C%20%5B46.32839%2C%206.17529%2C%204.0%5D%2C%20%5B46.25072%2C%207.00373%2C%204.85%5D%2C%20%5B46.51301%2C%206.26005%2C%204.65%5D%2C%20%5B46.52421%2C%206.62615%2C%204.92%5D%2C%20%5B46.5576%2C%206.62956%2C%205.0%5D%2C%20%5B46.4362%2C%206.94527%2C%204.93%5D%2C%20%5B46.47657%2C%207.13723%2C%204.88%5D%2C%20%5B46.513%2C%206.64959%2C%204.5%5D%2C%20%5B46.52338%2C%206.64599%2C%204.25%5D%2C%20%5B46.52505%2C%206.63372%2C%204.8%5D%2C%20%5B46.45285%2C%206.85674%2C%205.0%5D%2C%20%5B46.38409%2C%206.23335%2C%204.776940514224839%5D%2C%20%5B46.46764%2C%207.08145%2C%204.5%5D%2C%20%5B46.55466%2C%206.5134%2C%204.93%5D%2C%20%5B46.43955%2C%206.90813%2C%204.8%5D%2C%20%5B46.53387%2C%206.60528%2C%205.0%5D%2C%20%5B46.38619%2C%206.23115%2C%204.67%5D%2C%20%5B46.46719%2C%206.93162%2C%204.776940514224839%5D%2C%20%5B46.49651%2C%206.3915%2C%204.776940514224839%5D%2C%20%5B46.64245%2C%206.63295%2C%204.776940514224839%5D%2C%20%5B46.54998%2C%206.67682%2C%204.83%5D%2C%20%5B46.53877%2C%206.73261%2C%204.776940514224839%5D%2C%20%5B46.52952%2C%206.61631%2C%204.9%5D%2C%20%5B46.52379%2C%206.63908%2C%204.95%5D%2C%20%5B46.43075%2C%206.9113%2C%204.91%5D%2C%20%5B46.51301%2C%206.63106%2C%204.75%5D%2C%20%5B46.34107%2C%207.00391%2C%204.89%5D%2C%20%5B46.30392%2C%207.02754%2C%205.0%5D%2C%20%5B46.52749%2C%206.65157%2C%204.69%5D%2C%20%5B46.52353%2C%206.63552%2C%204.85%5D%2C%20%5B46.29983%2C%207.05664%2C%204.67%5D%2C%20%5B46.29111%2C%207.05855%2C%204.776940514224839%5D%2C%20%5B46.52385%2C%206.65614%2C%204.87%5D%2C%20%5B46.82433%2C%206.52698%2C%205.0%5D%2C%20%5B46.44414%2C%206.87921%2C%205.0%5D%2C%20%5B46.6074%2C%206.7438%2C%204.74%5D%2C%20%5B46.59931%2C%206.21781%2C%204.9%5D%2C%20%5B46.50697%2C%206.65323%2C%204.48%5D%2C%20%5B46.51165%2C%206.63431%2C%205.0%5D%2C%20%5B46.52723%2C%206.62169%2C%205.0%5D%2C%20%5B46.51224%2C%206.6153%2C%205.0%5D%2C%20%5B46.44468%2C%206.88731%2C%204.776940514224839%5D%2C%20%5B46.53724%2C%206.59899%2C%204.25%5D%2C%20%5B46.47921%2C%207.12974%2C%204.63%5D%2C%20%5B46.295%2C%207.0587%2C%204.87%5D%2C%20%5B46.52305%2C%206.63029%2C%205.0%5D%2C%20%5B46.5167%2C%206.62846%2C%205.0%5D%2C%20%5B46.51733%2C%206.65053%2C%204.776940514224839%5D%2C%20%5B46.44355%2C%206.90881%2C%205.0%5D%2C%20%5B46.52136%2C%206.64063%2C%204.95%5D%2C%20%5B46.52386%2C%206.60605%2C%204.67%5D%2C%20%5B46.52315%2C%206.6265%2C%205.0%5D%2C%20%5B46.51113%2C%206.62564%2C%204.776940514224839%5D%2C%20%5B46.5112%2C%206.49813%2C%204.94%5D%2C%20%5B46.46068%2C%206.84382%2C%205.0%5D%2C%20%5B46.46618%2C%206.31647%2C%204.85%5D%2C%20%5B46.51942%2C%206.61707%2C%204.92%5D%2C%20%5B46.54031%2C%206.64991%2C%204.64%5D%2C%20%5B46.51597%2C%206.63673%2C%205.0%5D%2C%20%5B46.43223%2C%206.91564%2C%204.87%5D%2C%20%5B46.33809%2C%207.0082%2C%204.86%5D%2C%20%5B46.30968%2C%206.18504%2C%204.9%5D%2C%20%5B46.31484%2C%206.97547%2C%204.91%5D%2C%20%5B46.5123%2C%206.49741%2C%204.93%5D%2C%20%5B46.51582%2C%206.62993%2C%204.9%5D%2C%20%5B46.5162%2C%206.60722%2C%204.64%5D%2C%20%5B46.54595%2C%206.66578%2C%204.776940514224839%5D%2C%20%5B46.43064%2C%206.91271%2C%205.0%5D%2C%20%5B46.51598%2C%206.61869%2C%205.0%5D%2C%20%5B46.52715%2C%206.62334%2C%204.82%5D%2C%20%5B46.36063%2C%206.93264%2C%204.76%5D%2C%20%5B46.51041%2C%206.50021%2C%204.9%5D%2C%20%5B46.44801%2C%206.87964%2C%205.0%5D%2C%20%5B46.54333%2C%206.68387%2C%204.61%5D%2C%20%5B46.70347%2C%206.5714%2C%204.9%5D%2C%20%5B46.3014%2C%206.17362%2C%205.0%5D%2C%20%5B46.50427%2C%206.69752%2C%205.0%5D%2C%20%5B46.55313%2C%206.55675%2C%204.776940514224839%5D%2C%20%5B46.2862%2C%207.0945%2C%204.91%5D%2C%20%5B46.44098%2C%206.93783%2C%204.74%5D%2C%20%5B46.46257%2C%206.84376%2C%204.76%5D%2C%20%5B46.46257%2C%206.84376%2C%204.4%5D%2C%20%5B46.5248%2C%206.60102%2C%204.6%5D%2C%20%5B46.46257%2C%206.84376%2C%204.25%5D%2C%20%5B46.46257%2C%206.84376%2C%204.2%5D%2C%20%5B46.46257%2C%206.84376%2C%203.67%5D%2C%20%5B46.46257%2C%206.84376%2C%204.776940514224839%5D%2C%20%5B46.51566%2C%206.63563%2C%204.89%5D%2C%20%5B46.39659%2C%207.10271%2C%205.0%5D%2C%20%5B46.45372%2C%206.32944%2C%204.92%5D%2C%20%5B46.55689%2C%206.68642%2C%204.7%5D%2C%20%5B46.43839%2C%206.9222%2C%204.9%5D%2C%20%5B46.36063%2C%206.93264%2C%204.82%5D%2C%20%5B46.44271%2C%206.88477%2C%205.0%5D%2C%20%5B46.30415%2C%207.04637%2C%205.0%5D%2C%20%5B46.52484%2C%206.61479%2C%204.6%5D%2C%20%5B46.31117%2C%207.05992%2C%204.776940514224839%5D%2C%20%5B46.34391%2C%207.00852%2C%204.5%5D%2C%20%5B46.53784%2C%206.58279%2C%204.5%5D%2C%20%5B46.46197%2C%206.85039%2C%204.8%5D%2C%20%5B46.5269%2C%206.61968%2C%204.88%5D%2C%20%5B46.52137%2C%206.63548%2C%204.89%5D%2C%20%5B46.59438%2C%206.56244%2C%204.7%5D%2C%20%5B46.5306%2C%206.63066%2C%204.5%5D%2C%20%5B46.20862%2C%207.03626%2C%204.78%5D%2C%20%5B46.513%2C%206.26142%2C%204.82%5D%2C%20%5B46.28483%2C%207.07339%2C%204.776940514224839%5D%2C%20%5B46.28135%2C%207.07456%2C%205.0%5D%2C%20%5B46.29102%2C%207.08528%2C%205.0%5D%2C%20%5B46.28066%2C%207.08548%2C%204.776940514224839%5D%2C%20%5B46.959221%2C%207.025345%2C%204.8%5D%2C%20%5B46.49619%2C%206.38941%2C%204.8%5D%2C%20%5B46.46144%2C%207.10685%2C%204.77%5D%2C%20%5B46.5275%2C%206.62851%2C%204.91%5D%2C%20%5B46.52846%2C%206.6175%2C%204.75%5D%2C%20%5B46.44854%2C%206.89868%2C%204.92%5D%2C%20%5B46.30194%2C%207.05823%2C%205.0%5D%2C%20%5B46.46164%2C%206.84399%2C%204.84%5D%2C%20%5B46.49284%2C%206.7354%2C%204.776940514224839%5D%2C%20%5B46.52248%2C%206.63573%2C%204.88%5D%2C%20%5B46.53485%2C%206.57546%2C%205.0%5D%2C%20%5B46.5661%2C%206.62714%2C%204.82%5D%2C%20%5B46.5374%2C%206.65219%2C%204.776940514224839%5D%2C%20%5B46.51089%2C%206.49915%2C%204.89%5D%2C%20%5B46.52313%2C%206.60274%2C%204.83%5D%2C%20%5B46.38686%2C%206.2203%2C%205.0%5D%2C%20%5B46.38016%2C%206.22829%2C%204.776940514224839%5D%2C%20%5B46.72364%2C%206.53203%2C%204.83%5D%2C%20%5B46.48892%2C%206.72121%2C%205.0%5D%2C%20%5B46.52153%2C%206.63561%2C%204.776940514224839%5D%2C%20%5B46.45496%2C%206.85557%2C%204.86%5D%2C%20%5B46.51508%2C%206.64787%2C%204.87%5D%2C%20%5B46.54038%2C%206.62378%2C%204.8%5D%2C%20%5B46.52935%2C%206.62097%2C%204.93%5D%2C%20%5B46.34281%2C%207.01265%2C%204.89%5D%2C%20%5B46.44398%2C%206.88672%2C%204.776940514224839%5D%2C%20%5B46.5246%2C%206.63112%2C%204.89%5D%2C%20%5B46.5073%2C%206.62593%2C%204.78%5D%2C%20%5B46.52598%2C%206.61532%2C%205.0%5D%2C%20%5B46.33754%2C%207.01078%2C%205.0%5D%2C%20%5B46.91715%2C%207.03183%2C%205.0%5D%2C%20%5B46.50787%2C%206.64394%2C%204.79%5D%2C%20%5B46.52197%2C%206.60134%2C%204.91%5D%2C%20%5B46.29091%2C%207.09584%2C%204.94%5D%2C%20%5B46.42869%2C%206.20068%2C%204.776940514224839%5D%2C%20%5B46.52038%2C%206.63591%2C%205.0%5D%2C%20%5B46.48906%2C%207.2035%2C%204.776940514224839%5D%2C%20%5B46.34111%2C%207.01531%2C%204.89%5D%2C%20%5B46.51824%2C%206.61561%2C%204.776940514224839%5D%2C%20%5B46.47864%2C%206.82062%2C%204.776940514224839%5D%2C%20%5B46.27838%2C%207.0689%2C%205.0%5D%2C%20%5B46.43688%2C%206.91178%2C%204.95%5D%2C%20%5B46.37418%2C%207.07391%2C%204.97%5D%2C%20%5B46.49056%2C%207.2063%2C%205.0%5D%2C%20%5B46.50735%2C%206.62623%2C%205.0%5D%2C%20%5B46.47575%2C%206.87593%2C%204.96%5D%2C%20%5B46.4732%2C%206.89062%2C%204.78%5D%2C%20%5B46.44802%2C%206.15413%2C%204.776940514224839%5D%2C%20%5B46.91171%2C%207.08306%2C%204.91%5D%2C%20%5B46.52157%2C%206.61206%2C%204.83%5D%2C%20%5B46.59628%2C%206.56274%2C%204.776940514224839%5D%2C%20%5B46.51935%2C%206.60868%2C%204.72%5D%2C%20%5B46.48082%2C%206.36957%2C%204.95%5D%2C%20%5B46.44756%2C%206.90694%2C%204.5%5D%2C%20%5B46.36187%2C%206.20992%2C%204.46%5D%2C%20%5B46.4779%2C%207.14329%2C%204.85%5D%2C%20%5B46.4601%2C%206.20407%2C%204.776940514224839%5D%2C%20%5B46.52793%2C%206.61096%2C%205.0%5D%2C%20%5B46.47071%2C%206.9353%2C%205.0%5D%2C%20%5B46.29797%2C%207.0561%2C%205.0%5D%2C%20%5B46.52407%2C%206.61234%2C%204.63%5D%2C%20%5B46.29843%2C%207.05501%2C%204.94%5D%2C%20%5B46.53613%2C%206.65592%2C%203.33%5D%2C%20%5B46.44003%2C%206.90916%2C%204.59%5D%2C%20%5B46.52802%2C%206.61723%2C%204.69%5D%2C%20%5B46.51349%2C%206.6376%2C%204.88%5D%2C%20%5B46.47709%2C%207.14475%2C%204.95%5D%2C%20%5B46.43644%2C%206.91763%2C%205.0%5D%2C%20%5B46.34262%2C%206.99997%2C%204.85%5D%2C%20%5B46.39493%2C%207.10177%2C%204.776940514224839%5D%2C%20%5B46.52437%2C%206.68442%2C%205.0%5D%2C%20%5B46.5294%2C%206.62872%2C%204.47%5D%2C%20%5B46.5597%2C%206.69724%2C%205.0%5D%2C%20%5B46.51041%2C%206.67603%2C%205.0%5D%2C%20%5B46.51196%2C%206.49222%2C%204.82%5D%2C%20%5B46.52945%2C%206.61746%2C%204.78%5D%2C%20%5B46.45424%2C%206.85672%2C%205.0%5D%2C%20%5B46.47153%2C%206.82177%2C%204.85%5D%2C%20%5B46.33872%2C%207.00625%2C%204.7%5D%2C%20%5B46.51217%2C%206.64571%2C%204.54%5D%2C%20%5B46.29979%2C%207.04001%2C%205.0%5D%2C%20%5B46.81594%2C%206.49652%2C%204.776940514224839%5D%2C%20%5B46.52947%2C%206.61714%2C%204.776940514224839%5D%2C%20%5B46.5276%2C%206.63888%2C%205.0%5D%2C%20%5B46.42144%2C%206.92686%2C%204.776940514224839%5D%2C%20%5B46.42162%2C%206.26862%2C%204.6%5D%2C%20%5B46.34198%2C%207.00846%2C%205.0%5D%2C%20%5B46.48687%2C%206.41985%2C%204.83%5D%2C%20%5B46.52873%2C%206.6314%2C%204.776940514224839%5D%2C%20%5B46.46216%2C%206.90781%2C%205.0%5D%2C%20%5B46.5159%2C%206.62533%2C%204.97%5D%2C%20%5B46.54201%2C%206.6241%2C%205.0%5D%2C%20%5B46.53197%2C%206.632%2C%205.0%5D%2C%20%5B46.46854%2C%206.84589%2C%204.0%5D%2C%20%5B46.51533%2C%206.62329%2C%204.86%5D%2C%20%5B46.48937%2C%207.20388%2C%205.0%5D%2C%20%5B46.34977%2C%207.16362%2C%205.0%5D%2C%20%5B46.50911%2C%206.62702%2C%205.0%5D%2C%20%5B46.5176%2C%206.64384%2C%204.89%5D%2C%20%5B46.51253%2C%206.53222%2C%204.776940514224839%5D%2C%20%5B46.44739%2C%206.90467%2C%204.776940514224839%5D%2C%20%5B46.31074%2C%207.06062%2C%204.6%5D%2C%20%5B46.54061%2C%206.63126%2C%204.776940514224839%5D%2C%20%5B46.51615%2C%206.55099%2C%204.776940514224839%5D%2C%20%5B46.5106%2C%206.6358%2C%204.9%5D%2C%20%5B46.46921%2C%206.83981%2C%203.25%5D%2C%20%5B46.30835%2C%207.05524%2C%204.55%5D%2C%20%5B46.48345%2C%206.4181%2C%205.0%5D%2C%20%5B46.30227%2C%207.04129%2C%204.82%5D%2C%20%5B46.52461%2C%206.6263%2C%204.74%5D%2C%20%5B46.5324%2C%206.57315%2C%205.0%5D%2C%20%5B46.48988%2C%207.22035%2C%204.76%5D%2C%20%5B46.53394%2C%206.72443%2C%204.72%5D%2C%20%5B46.28051%2C%207.07393%2C%204.8%5D%2C%20%5B46.51215%2C%206.55758%2C%205.0%5D%2C%20%5B46.43262%2C%206.91432%2C%204.5%5D%2C%20%5B46.50944%2C%206.66921%2C%205.0%5D%2C%20%5B46.51559%2C%206.62826%2C%205.0%5D%2C%20%5B46.51816%2C%206.6565%2C%205.0%5D%2C%20%5B46.4853%2C%206.4197%2C%204.71%5D%2C%20%5B46.52994%2C%206.6304%2C%205.0%5D%2C%20%5B46.50676%2C%206.71339%2C%204.0%5D%2C%20%5B46.60528%2C%206.74082%2C%205.0%5D%2C%20%5B46.52256%2C%206.55292%2C%204.8%5D%2C%20%5B46.51216%2C%206.49248%2C%204.8%5D%2C%20%5B46.44141%2C%206.91029%2C%204.69%5D%2C%20%5B46.42903%2C%206.91284%2C%204.94%5D%2C%20%5B46.51534%2C%206.63075%2C%204.93%5D%2C%20%5B46.39625%2C%207.10451%2C%205.0%5D%2C%20%5B46.43579%2C%206.91441%2C%205.0%5D%2C%20%5B46.42922%2C%206.91318%2C%204.98%5D%2C%20%5B46.50867%2C%206.64336%2C%204.33%5D%2C%20%5B46.45361%2C%206.86013%2C%204.95%5D%2C%20%5B46.50921%2C%206.53543%2C%205.0%5D%2C%20%5B46.48877%2C%207.20458%2C%205.0%5D%2C%20%5B46.49115%2C%207.21259%2C%205.0%5D%2C%20%5B46.43936%2C%206.20644%2C%205.0%5D%2C%20%5B46.54292%2C%206.6572%2C%204.776940514224839%5D%2C%20%5B46.51554%2C%206.64343%2C%205.0%5D%2C%20%5B46.5296%2C%206.57278%2C%204.776940514224839%5D%2C%20%5B46.931419%2C%207.038507%2C%204.79%5D%2C%20%5B46.51182%2C%206.6255%2C%204.96%5D%2C%20%5B46.51185%2C%206.62531%2C%204.776940514224839%5D%2C%20%5B46.60965%2C%206.76005%2C%204.76%5D%2C%20%5B46.53239%2C%206.61326%2C%204.72%5D%2C%20%5B46.52568%2C%206.63297%2C%204.776940514224839%5D%2C%20%5B46.52464%2C%206.6347%2C%204.776940514224839%5D%2C%20%5B46.54045%2C%206.65639%2C%204.0%5D%2C%20%5B46.53226%2C%206.59895%2C%204.776940514224839%5D%2C%20%5B46.78463%2C%206.63073%2C%204.74%5D%2C%20%5B46.63659%2C%206.40443%2C%204.82%5D%2C%20%5B46.35083%2C%207.01963%2C%204.776940514224839%5D%2C%20%5B46.4665%2C%206.8402%2C%204.776940514224839%5D%2C%20%5B46.51168%2C%206.54305%2C%204.88%5D%2C%20%5B46.52912%2C%206.64048%2C%204.5%5D%2C%20%5B46.45209%2C%206.9048%2C%204.776940514224839%5D%2C%20%5B46.51595%2C%206.65272%2C%204.5%5D%2C%20%5B46.30942%2C%207.05914%2C%204.75%5D%2C%20%5B46.39222%2C%206.22604%2C%204.57%5D%2C%20%5B46.39859%2C%206.93838%2C%204.8%5D%2C%20%5B46.51234%2C%206.64751%2C%205.0%5D%2C%20%5B46.50479%2C%206.68475%2C%204.97%5D%2C%20%5B46.47297%2C%206.89225%2C%204.94%5D%2C%20%5B46.47283%2C%206.86753%2C%204.776940514224839%5D%2C%20%5B46.5127%2C%206.62838%2C%204.98%5D%2C%20%5B46.42096%2C%206.26894%2C%204.5%5D%2C%20%5B46.51997%2C%206.51857%2C%205.0%5D%2C%20%5B46.50091%2C%206.69661%2C%204.92%5D%2C%20%5B46.53874%2C%206.59605%2C%204.56%5D%2C%20%5B46.87979%2C%207.0382%2C%204.97%5D%2C%20%5B46.55901%2C%206.60621%2C%204.8%5D%2C%20%5B46.47294%2C%206.89347%2C%205.0%5D%2C%20%5B46.52431%2C%206.63054%2C%204.9%5D%2C%20%5B46.30164%2C%207.04142%2C%205.0%5D%2C%20%5B46.52618%2C%206.65467%2C%204.776940514224839%5D%2C%20%5B46.70638%2C%206.49738%2C%204.83%5D%2C%20%5B46.65352%2C%206.79116%2C%204.0%5D%2C%20%5B46.81801%2C%206.46709%2C%204.8%5D%2C%20%5B46.81803%2C%206.46661%2C%205.0%5D%2C%20%5B46.45757%2C%206.85217%2C%205.0%5D%2C%20%5B46.45909%2C%206.85177%2C%204.96%5D%2C%20%5B46.51778%2C%206.60896%2C%204.88%5D%2C%20%5B46.34217%2C%207.00726%2C%204.79%5D%2C%20%5B46.51325%2C%206.64623%2C%204.67%5D%2C%20%5B46.41993%2C%206.26724%2C%205.0%5D%2C%20%5B46.56089%2C%206.66411%2C%205.0%5D%2C%20%5B46.3304%2C%206.95738%2C%205.0%5D%2C%20%5B46.51455%2C%206.65624%2C%204.73%5D%2C%20%5B46.51753%2C%206.62503%2C%204.85%5D%2C%20%5B46.5172%2C%206.61671%2C%204.8%5D%2C%20%5B46.47588%2C%207.12845%2C%204.9%5D%2C%20%5B46.50679%2C%206.68065%2C%205.0%5D%2C%20%5B46.4831%2C%206.41171%2C%204.81%5D%2C%20%5B46.28117%2C%207.07464%2C%204.97%5D%2C%20%5B46.48268%2C%206.41223%2C%204.94%5D%2C%20%5B46.53612%2C%206.63346%2C%204.68%5D%2C%20%5B46.53687%2C%206.60128%2C%205.0%5D%2C%20%5B46.53188%2C%206.64608%2C%204.776940514224839%5D%2C%20%5B46.27811%2C%207.07085%2C%204.94%5D%2C%20%5B46.65321%2C%206.79135%2C%204.776940514224839%5D%2C%20%5B46.43986%2C%206.89517%2C%205.0%5D%2C%20%5B46.47602%2C%206.37973%2C%204.776940514224839%5D%2C%20%5B46.2717%2C%207.02785%2C%204.79%5D%2C%20%5B46.70832%2C%206.88271%2C%204.75%5D%2C%20%5B46.55378%2C%206.63463%2C%205.0%5D%2C%20%5B46.53305%2C%206.64982%2C%204.45%5D%2C%20%5B46.53411%2C%206.59152%2C%204.776940514224839%5D%2C%20%5B46.54304%2C%206.6338%2C%205.0%5D%2C%20%5B46.42722%2C%206.92751%2C%204.38%5D%2C%20%5B46.46503%2C%206.84923%2C%204.776940514224839%5D%2C%20%5B46.53019%2C%206.62665%2C%204.81%5D%2C%20%5B46.45384%2C%206.90547%2C%205.0%5D%2C%20%5B46.49623%2C%206.8107%2C%204.94%5D%2C%20%5B46.5213%2C%206.63773%2C%205.0%5D%2C%20%5B46.34213%2C%207.00987%2C%205.0%5D%2C%20%5B46.4227%2C%206.92796%2C%204.76%5D%2C%20%5B46.66372%2C%206.79546%2C%204.89%5D%2C%20%5B46.51599%2C%206.63641%2C%204.776940514224839%5D%2C%20%5B46.7765%2C%206.65692%2C%204.776940514224839%5D%2C%20%5B46.46044%2C%206.84211%2C%204.776940514224839%5D%2C%20%5B46.29309%2C%207.05432%2C%204.776940514224839%5D%2C%20%5B46.52738%2C%206.62846%2C%205.0%5D%2C%20%5B46.46115%2C%206.8876%2C%205.0%5D%2C%20%5B46.5224%2C%206.56691%2C%204.776940514224839%5D%2C%20%5B46.703%2C%206.57074%2C%204.7%5D%2C%20%5B46.46182%2C%206.8878%2C%204.8%5D%2C%20%5B46.53174%2C%206.61767%2C%204.25%5D%2C%20%5B46.77432%2C%206.65773%2C%204.81%5D%2C%20%5B46.53144%2C%206.65086%2C%205.0%5D%2C%20%5B46.42464%2C%206.26568%2C%205.0%5D%2C%20%5B46.34581%2C%207.01648%2C%204.85%5D%2C%20%5B46.38906%2C%206.88136%2C%204.94%5D%2C%20%5B46.52608%2C%206.61635%2C%204.55%5D%2C%20%5B46.47101%2C%206.85223%2C%204.45%5D%2C%20%5B46.53199%2C%206.60872%2C%204.6%5D%2C%20%5B46.66466%2C%206.7949%2C%204.88%5D%2C%20%5B46.43994%2C%206.91302%2C%205.0%5D%2C%20%5B46.53434%2C%206.63523%2C%204.7%5D%2C%20%5B46.77287%2C%206.6508%2C%204.94%5D%2C%20%5B46.51321%2C%206.54747%2C%205.0%5D%2C%20%5B46.53689%2C%206.57802%2C%204.95%5D%2C%20%5B46.51735%2C%206.51419%2C%205.0%5D%2C%20%5B46.46519%2C%206.93801%2C%205.0%5D%2C%20%5B46.52906%2C%206.5602%2C%204.86%5D%2C%20%5B46.51663%2C%206.63443%2C%205.0%5D%2C%20%5B46.52221%2C%206.63625%2C%205.0%5D%2C%20%5B46.30747%2C%206.18171%2C%205.0%5D%2C%20%5B46.44282%2C%206.88741%2C%204.776940514224839%5D%2C%20%5B46.51518%2C%206.63432%2C%204.88%5D%2C%20%5B46.53305%2C%206.58068%2C%204.67%5D%2C%20%5B46.53465%2C%206.62225%2C%204.6%5D%2C%20%5B46.43168%2C%206.91811%2C%204.76%5D%2C%20%5B46.3171%2C%206.19159%2C%204.77%5D%2C%20%5B46.51713%2C%206.53692%2C%204.75%5D%2C%20%5B46.51951%2C%206.63178%2C%205.0%5D%2C%20%5B46.51176%2C%206.64093%2C%204.776940514224839%5D%2C%20%5B46.52682%2C%206.64694%2C%204.5%5D%2C%20%5B46.34423%2C%207.01287%2C%204.776940514224839%5D%2C%20%5B46.54916%2C%206.42627%2C%204.86%5D%2C%20%5B46.54947%2C%206.55339%2C%204.55%5D%2C%20%5B46.47123%2C%206.88159%2C%204.88%5D%2C%20%5B46.53076%2C%206.62663%2C%204.67%5D%2C%20%5B46.30504%2C%207.04317%2C%205.0%5D%2C%20%5B46.294231%2C%207.061211%2C%204.776940514224839%5D%2C%20%5B46.31106%2C%207.06047%2C%204.776940514224839%5D%2C%20%5B46.29934%2C%207.05777%2C%205.0%5D%2C%20%5B46.30209%2C%207.04292%2C%205.0%5D%2C%20%5B46.29688%2C%207.06055%2C%204.0%5D%2C%20%5B46.29361%2C%207.06329%2C%205.0%5D%2C%20%5B46.85016%2C%206.66738%2C%204.85%5D%2C%20%5B46.31539%2C%206.18353%2C%204.776940514224839%5D%2C%20%5B46.44193%2C%206.8994%2C%205.0%5D%2C%20%5B46.51633%2C%206.62688%2C%204.78%5D%2C%20%5B46.47105%2C%206.85034%2C%204.8%5D%2C%20%5B46.54185%2C%206.62963%2C%204.75%5D%2C%20%5B46.54527%2C%206.63101%2C%204.59%5D%2C%20%5B46.44645%2C%206.15825%2C%204.75%5D%2C%20%5B46.52687%2C%206.62601%2C%205.0%5D%2C%20%5B46.5163%2C%206.62757%2C%205.0%5D%2C%20%5B46.50651%2C%206.47579%2C%204.43%5D%2C%20%5B46.43968%2C%206.24853%2C%205.0%5D%2C%20%5B46.34848%2C%207.15768%2C%204.75%5D%2C%20%5B46.52066%2C%206.60131%2C%204.28%5D%2C%20%5B46.42095%2C%206.25583%2C%204.93%5D%2C%20%5B46.50736%2C%206.49587%2C%204.776940514224839%5D%2C%20%5B46.4304%2C%206.91959%2C%204.776940514224839%5D%2C%20%5B46.52697%2C%206.49923%2C%205.0%5D%2C%20%5B46.51579%2C%206.63126%2C%204.89%5D%2C%20%5B46.46628%2C%206.84347%2C%204.8%5D%2C%20%5B46.34131%2C%207.00527%2C%204.67%5D%2C%20%5B46.51425%2C%206.62542%2C%205.0%5D%2C%20%5B46.46089%2C%206.84479%2C%204.776940514224839%5D%2C%20%5B46.70324%2C%206.57291%2C%204.776940514224839%5D%2C%20%5B46.52026%2C%206.6241%2C%204.95%5D%2C%20%5B46.32098%2C%206.18788%2C%204.92%5D%2C%20%5B46.51747%2C%206.60711%2C%204.84%5D%2C%20%5B46.48968%2C%206.71963%2C%205.0%5D%2C%20%5B46.47374%2C%206.44382%2C%204.33%5D%2C%20%5B46.46015%2C%206.84289%2C%204.75%5D%2C%20%5B46.53407%2C%206.60754%2C%204.85%5D%2C%20%5B46.52164%2C%206.63559%2C%204.75%5D%2C%20%5B46.49056%2C%206.7189%2C%204.99%5D%2C%20%5B46.3519%2C%207.01979%2C%204.776940514224839%5D%2C%20%5B46.45387%2C%206.86069%2C%205.0%5D%2C%20%5B46.50178%2C%206.37474%2C%205.0%5D%2C%20%5B46.45538%2C%206.85867%2C%204.93%5D%2C%20%5B46.51283%2C%206.63338%2C%205.0%5D%2C%20%5B46.39097%2C%206.2308%2C%205.0%5D%2C%20%5B46.44269%2C%206.89507%2C%204.75%5D%2C%20%5B46.52094%2C%206.63872%2C%205.0%5D%2C%20%5B46.51946%2C%206.62874%2C%204.776940514224839%5D%2C%20%5B46.50576%2C%206.65553%2C%205.0%5D%2C%20%5B46.90636%2C%207.07892%2C%205.0%5D%2C%20%5B46.91823%2C%207.02935%2C%204.83%5D%2C%20%5B46.44729%2C%206.91069%2C%204.77%5D%2C%20%5B46.3047%2C%207.05108%2C%204.5%5D%2C%20%5B46.34985%2C%207.01626%2C%204.93%5D%2C%20%5B46.43555%2C%206.94481%2C%204.88%5D%2C%20%5B46.54264%2C%206.65763%2C%204.776940514224839%5D%2C%20%5B46.44664%2C%206.88982%2C%204.95%5D%2C%20%5B46.44922%2C%206.91016%2C%204.5%5D%2C%20%5B46.61052%2C%206.2319%2C%204.73%5D%2C%20%5B46.53456%2C%206.57873%2C%204.7%5D%2C%20%5B46.51529%2C%206.65423%2C%204.8%5D%2C%20%5B46.47889%2C%206.78226%2C%204.95%5D%2C%20%5B46.46229%2C%206.07665%2C%205.0%5D%2C%20%5B46.29316%2C%207.05486%2C%204.71%5D%2C%20%5B46.52094%2C%206.63872%2C%205.0%5D%2C%20%5B46.52094%2C%206.63872%2C%204.3%5D%2C%20%5B46.52094%2C%206.63872%2C%204.75%5D%2C%20%5B46.52094%2C%206.63872%2C%204.776940514224839%5D%2C%20%5B46.52094%2C%206.63872%2C%204.89%5D%2C%20%5B46.31696%2C%206.19399%2C%204.776940514224839%5D%2C%20%5B46.46153%2C%206.8393%2C%204.67%5D%2C%20%5B46.43487%2C%206.94666%2C%204.98%5D%2C%20%5B46.7617%2C%206.888%2C%204.86%5D%2C%20%5B46.44155%2C%206.92045%2C%204.8%5D%2C%20%5B46.42141%2C%206.92845%2C%204.91%5D%2C%20%5B46.29421%2C%207.05833%2C%204.81%5D%2C%20%5B46.61989%2C%206.26456%2C%204.97%5D%2C%20%5B46.47865%2C%206.83698%2C%204.82%5D%2C%20%5B46.45691%2C%206.33028%2C%204.75%5D%2C%20%5B46.46179%2C%206.85679%2C%204.776940514224839%5D%2C%20%5B46.47216%2C%206.81955%2C%204.92%5D%2C%20%5B46.51965%2C%206.63227%2C%204.59%5D%2C%20%5B46.51534%2C%206.5042%2C%204.8%5D%2C%20%5B46.44089%2C%206.90918%2C%204.776940514224839%5D%2C%20%5B46.44285%2C%206.88942%2C%204.776940514224839%5D%2C%20%5B46.53051%2C%206.63096%2C%204.776940514224839%5D%2C%20%5B46.52117%2C%206.61543%2C%204.776940514224839%5D%2C%20%5B46.46527%2C%206.84804%2C%204.82%5D%2C%20%5B46.54068%2C%206.6335%2C%204.776940514224839%5D%2C%20%5B46.58342%2C%206.64754%2C%204.776940514224839%5D%2C%20%5B46.46704%2C%206.84074%2C%205.0%5D%2C%20%5B46.53844%2C%206.60961%2C%204.776940514224839%5D%2C%20%5B46.55283%2C%206.6846%2C%204.92%5D%2C%20%5B46.44721%2C%206.90624%2C%205.0%5D%2C%20%5B46.38273%2C%206.23503%2C%204.5%5D%2C%20%5B46.55443%2C%206.55938%2C%204.71%5D%2C%20%5B46.44392%2C%206.90161%2C%205.0%5D%2C%20%5B46.79838%2C%206.74373%2C%204.88%5D%2C%20%5B46.44184%2C%206.90145%2C%205.0%5D%2C%20%5B46.51046%2C%206.55976%2C%204.86%5D%2C%20%5B46.47622%2C%207.13885%2C%205.0%5D%2C%20%5B46.299%2C%207.05478%2C%205.0%5D%2C%20%5B46.52255%2C%206.60981%2C%204.47%5D%2C%20%5B46.34514%2C%207.01098%2C%204.27%5D%2C%20%5B46.52032%2C%206.63168%2C%204.776940514224839%5D%2C%20%5B46.42509%2C%206.1932%2C%205.0%5D%2C%20%5B46.53007%2C%206.62788%2C%204.776940514224839%5D%2C%20%5B46.50919%2C%206.68767%2C%204.776940514224839%5D%2C%20%5B46.51946%2C%206.60005%2C%204.776940514224839%5D%2C%20%5B46.52686%2C%206.65974%2C%204.33%5D%2C%20%5B46.47933%2C%206.46039%2C%204.97%5D%2C%20%5B46.4454%2C%206.89632%2C%204.9%5D%2C%20%5B46.4354%2C%206.91033%2C%204.86%5D%2C%20%5B46.45185%2C%206.87827%2C%204.776940514224839%5D%2C%20%5B46.39691%2C%206.24933%2C%204.776940514224839%5D%2C%20%5B46.34904%2C%207.15855%2C%205.0%5D%2C%20%5B46.29025%2C%207.05783%2C%204.82%5D%2C%20%5B46.45865%2C%206.84608%2C%205.0%5D%2C%20%5B46.438%2C%206.91447%2C%205.0%5D%2C%20%5B46.4509%2C%206.89138%2C%204.81%5D%2C%20%5B46.35228%2C%207.15506%2C%204.9%5D%2C%20%5B46.34201%2C%207.00818%2C%204.86%5D%2C%20%5B46.62199%2C%206.54771%2C%204.75%5D%2C%20%5B46.43649%2C%206.91196%2C%204.97%5D%2C%20%5B46.43327%2C%206.93626%2C%204.79%5D%2C%20%5B46.46594%2C%206.84062%2C%205.0%5D%2C%20%5B46.35248%2C%207.02424%2C%204.776940514224839%5D%2C%20%5B46.44388%2C%206.89739%2C%204.71%5D%2C%20%5B46.53744%2C%206.58126%2C%205.0%5D%2C%20%5B46.43639%2C%206.94503%2C%204.83%5D%2C%20%5B46.51499%2C%206.56193%2C%205.0%5D%2C%20%5B46.44304%2C%206.89363%2C%204.8%5D%2C%20%5B46.45246%2C%206.33282%2C%204.776940514224839%5D%2C%20%5B46.52543%2C%206.61821%2C%204.8%5D%2C%20%5B46.51034%2C%206.70509%2C%205.0%5D%2C%20%5B46.53888%2C%206.62277%2C%204.47%5D%2C%20%5B46.48026%2C%206.84684%2C%205.0%5D%2C%20%5B46.29597%2C%207.05293%2C%204.86%5D%2C%20%5B46.53971%2C%206.58129%2C%204.776940514224839%5D%2C%20%5B46.43896%2C%206.90766%2C%204.776940514224839%5D%2C%20%5B46.76761%2C%206.56504%2C%204.84%5D%2C%20%5B46.47284%2C%206.8227%2C%204.9%5D%2C%20%5B46.49535%2C%206.71032%2C%204.776940514224839%5D%2C%20%5B46.52348%2C%206.62551%2C%204.776940514224839%5D%2C%20%5B46.51271%2C%206.64731%2C%204.61%5D%2C%20%5B46.51762%2C%206.62286%2C%204.776940514224839%5D%2C%20%5B46.47758%2C%206.4437%2C%204.71%5D%2C%20%5B46.35311%2C%207.15417%2C%204.776940514224839%5D%2C%20%5B46.44734%2C%206.87493%2C%205.0%5D%2C%20%5B46.44%2C%206.90927%2C%204.776940514224839%5D%2C%20%5B46.43539%2C%206.9268%2C%205.0%5D%2C%20%5B46.513%2C%206.63357%2C%205.0%5D%2C%20%5B46.52712%2C%206.63289%2C%204.0%5D%2C%20%5B46.51837%2C%206.61933%2C%204.776940514224839%5D%2C%20%5B46.43102%2C%206.91291%2C%204.88%5D%2C%20%5B46.47243%2C%207.12699%2C%204.85%5D%2C%20%5B46.44787%2C%206.15013%2C%204.67%5D%2C%20%5B46.44107%2C%206.89313%2C%205.0%5D%2C%20%5B46.52013%2C%206.63274%2C%205.0%5D%2C%20%5B46.46644%2C%206.83898%2C%201.0%5D%2C%20%5B46.51888%2C%206.6244%2C%205.0%5D%2C%20%5B46.53196%2C%206.61619%2C%204.776940514224839%5D%2C%20%5B46.47321%2C%206.81885%2C%204.97%5D%2C%20%5B46.52431%2C%206.62598%2C%204.91%5D%2C%20%5B46.5379%2C%206.58174%2C%204.0%5D%2C%20%5B46.53256%2C%206.64463%2C%205.0%5D%2C%20%5B46.51959%2C%206.66275%2C%204.93%5D%2C%20%5B46.55323%2C%206.68975%2C%204.3%5D%2C%20%5B46.53319%2C%206.5816%2C%204.49%5D%2C%20%5B46.53015%2C%206.64754%2C%201.0%5D%2C%20%5B46.51312%2C%206.63195%2C%204.8%5D%2C%20%5B46.45443%2C%206.86004%2C%204.96%5D%2C%20%5B46.51119%2C%206.27735%2C%204.8%5D%2C%20%5B46.52274%2C%206.63273%2C%204.776940514224839%5D%2C%20%5B46.38213%2C%206.23822%2C%205.0%5D%2C%20%5B46.52222%2C%206.60205%2C%204.67%5D%2C%20%5B46.5135%2C%206.49175%2C%204.78%5D%2C%20%5B46.35257%2C%207.15842%2C%204.0%5D%2C%20%5B46.47733%2C%207.14379%2C%204.776940514224839%5D%2C%20%5B46.47192%2C%206.83439%2C%204.93%5D%2C%20%5B46.4736%2C%206.84314%2C%204.6%5D%2C%20%5B46.39318%2C%207.1033%2C%204.88%5D%2C%20%5B46.51354%2C%206.62838%2C%204.776940514224839%5D%2C%20%5B46.43252%2C%206.91863%2C%204.5%5D%2C%20%5B46.46273%2C%207.12716%2C%204.91%5D%2C%20%5B46.64831%2C%206.79377%2C%204.89%5D%2C%20%5B46.80784%2C%206.47958%2C%204.83%5D%2C%20%5B46.91718%2C%207.01182%2C%204.82%5D%2C%20%5B46.55347%2C%206.43102%2C%204.67%5D%2C%20%5B46.39553%2C%206.92182%2C%204.67%5D%2C%20%5B46.45882%2C%206.84481%2C%205.0%5D%2C%20%5B46.45343%2C%206.85632%2C%205.0%5D%2C%20%5B46.38449%2C%206.22546%2C%204.5%5D%2C%20%5B46.42349%2C%206.92571%2C%204.8%5D%2C%20%5B46.46916%2C%206.84089%2C%204.92%5D%2C%20%5B46.5214%2C%206.64519%2C%204.67%5D%2C%20%5B46.43044%2C%206.91544%2C%204.85%5D%2C%20%5B46.52479%2C%206.62852%2C%205.0%5D%2C%20%5B46.44651%2C%206.88642%2C%204.776940514224839%5D%2C%20%5B46.48702%2C%206.42003%2C%204.89%5D%2C%20%5B46.53498%2C%206.57629%2C%205.0%5D%2C%20%5B46.5198%2C%206.67904%2C%205.0%5D%2C%20%5B46.44181%2C%206.88813%2C%204.78%5D%2C%20%5B46.38758%2C%206.2346%2C%205.0%5D%2C%20%5B46.44662%2C%206.88985%2C%204.33%5D%2C%20%5B46.46326%2C%206.8388%2C%204.776940514224839%5D%2C%20%5B46.52402%2C%206.6596%2C%204.5%5D%2C%20%5B46.52404%2C%206.62667%2C%204.8%5D%2C%20%5B46.46325%2C%206.84367%2C%205.0%5D%2C%20%5B46.5416%2C%206.62968%2C%205.0%5D%2C%20%5B46.52479%2C%206.62853%2C%205.0%5D%2C%20%5B46.53672%2C%206.61071%2C%204.0%5D%2C%20%5B46.64835%2C%206.79193%2C%204.94%5D%2C%20%5B46.43576%2C%206.91793%2C%204.9%5D%2C%20%5B46.44649%2C%206.89013%2C%205.0%5D%2C%20%5B46.44731%2C%206.88976%2C%205.0%5D%2C%20%5B46.3168%2C%206.17317%2C%205.0%5D%2C%20%5B46.43629%2C%206.90977%2C%205.0%5D%2C%20%5B46.45941%2C%206.8453%2C%205.0%5D%2C%20%5B46.54064%2C%206.58012%2C%204.55%5D%2C%20%5B46.4688%2C%206.84506%2C%204.88%5D%2C%20%5B46.38879%2C%206.23177%2C%204.77%5D%2C%20%5B46.51924%2C%206.5294%2C%204.93%5D%2C%20%5B46.46364%2C%206.84097%2C%205.0%5D%2C%20%5B46.46327%2C%206.8432%2C%205.0%5D%2C%20%5B46.47031%2C%206.84997%2C%204.776940514224839%5D%2C%20%5B46.94426%2C%206.99727%2C%205.0%5D%2C%20%5B46.84182%2C%206.61204%2C%204.5%5D%2C%20%5B46.53044%2C%206.55739%2C%204.14%5D%2C%20%5B46.2935%2C%207.0628%2C%205.0%5D%2C%20%5B46.63124%2C%206.79081%2C%204.95%5D%2C%20%5B46.54172%2C%206.6557%2C%205.0%5D%2C%20%5B46.54391%2C%206.66184%2C%204.776940514224839%5D%2C%20%5B46.46256%2C%206.85981%2C%204.67%5D%2C%20%5B46.46131%2C%206.84368%2C%205.0%5D%2C%20%5B46.45351%2C%206.90438%2C%204.0%5D%2C%20%5B46.53922%2C%206.57987%2C%205.0%5D%2C%20%5B46.51244%2C%206.65009%2C%204.88%5D%2C%20%5B46.52294%2C%206.63072%2C%205.0%5D%2C%20%5B46.91438%2C%207.03362%2C%204.94%5D%2C%20%5B46.45731%2C%206.86129%2C%204.776940514224839%5D%2C%20%5B46.55762%2C%206.63006%2C%204.8%5D%2C%20%5B46.52316%2C%206.63884%2C%204.84%5D%2C%20%5B46.50989%2C%206.66312%2C%205.0%5D%2C%20%5B46.44829%2C%206.90813%2C%204.776940514224839%5D%2C%20%5B46.42143%2C%206.9262%2C%204.776940514224839%5D%2C%20%5B46.46102%2C%206.83964%2C%205.0%5D%2C%20%5B46.51518%2C%206.63913%2C%205.0%5D%2C%20%5B46.40632%2C%206.27563%2C%204.67%5D%2C%20%5B46.50856%2C%206.49912%2C%205.0%5D%2C%20%5B46.45511%2C%206.86356%2C%204.75%5D%2C%20%5B46.51278%2C%206.62634%2C%204.776940514224839%5D%2C%20%5B46.47277%2C%206.85004%2C%204.67%5D%2C%20%5B46.43576%2C%206.91585%2C%204.8%5D%2C%20%5B46.46143%2C%206.84343%2C%205.0%5D%2C%20%5B46.45379%2C%206.86158%2C%205.0%5D%2C%20%5B46.55692%2C%206.69847%2C%205.0%5D%2C%20%5B46.45662%2C%206.86219%2C%204.5%5D%2C%20%5B46.51315%2C%206.62706%2C%204.776940514224839%5D%2C%20%5B46.51297%2C%206.63811%2C%204.66%5D%2C%20%5B46.51965%2C%206.63227%2C%204.79%5D%2C%20%5B46.45438%2C%206.90798%2C%204.89%5D%2C%20%5B46.54149%2C%206.60643%2C%204.81%5D%2C%20%5B46.45499%2C%206.89466%2C%204.76%5D%2C%20%5B46.27274%2C%207.06436%2C%204.93%5D%2C%20%5B46.34483%2C%207.01098%2C%204.776940514224839%5D%2C%20%5B46.51159%2C%206.64032%2C%204.75%5D%2C%20%5B46.46372%2C%206.83958%2C%204.776940514224839%5D%2C%20%5B46.39591%2C%206.92916%2C%204.776940514224839%5D%2C%20%5B46.85438%2C%207.04013%2C%204.65%5D%2C%20%5B46.47106%2C%206.89271%2C%205.0%5D%2C%20%5B46.47298%2C%206.86783%2C%204.69%5D%2C%20%5B46.5079%2C%206.67374%2C%205.0%5D%2C%20%5B46.52731%2C%206.65829%2C%204.73%5D%2C%20%5B46.5232%2C%206.63201%2C%204.776940514224839%5D%2C%20%5B46.47154%2C%206.8417%2C%205.0%5D%2C%20%5B46.85572%2C%206.61336%2C%205.0%5D%2C%20%5B46.50972%2C%206.63515%2C%205.0%5D%2C%20%5B46.48242%2C%206.77548%2C%203.67%5D%2C%20%5B46.25153%2C%207.02278%2C%204.82%5D%2C%20%5B46.38007%2C%206.23039%2C%204.776940514224839%5D%2C%20%5B46.54501%2C%206.63157%2C%204.38%5D%2C%20%5B46.35078%2C%207.02215%2C%205.0%5D%2C%20%5B46.45703%2C%206.21616%2C%204.776940514224839%5D%2C%20%5B46.38123%2C%206.20656%2C%205.0%5D%2C%20%5B46.52427%2C%206.62821%2C%204.83%5D%2C%20%5B46.52816%2C%206.56662%2C%205.0%5D%2C%20%5B46.46003%2C%206.86057%2C%205.0%5D%2C%20%5B46.46448%2C%206.84663%2C%204.89%5D%2C%20%5B46.46423%2C%206.83785%2C%205.0%5D%2C%20%5B46.51164%2C%206.49886%2C%204.91%5D%2C%20%5B46.46076%2C%206.84489%2C%205.0%5D%2C%20%5B46.48671%2C%207.13354%2C%204.93%5D%2C%20%5B46.45977%2C%206.84372%2C%205.0%5D%2C%20%5B46.53739%2C%206.65413%2C%204.776940514224839%5D%2C%20%5B46.4522%2C%206.90501%2C%205.0%5D%2C%20%5B46.54066%2C%206.57101%2C%204.5%5D%2C%20%5B46.91853%2C%207.01954%2C%204.92%5D%2C%20%5B46.9248%2C%207.0296%2C%204.94%5D%2C%20%5B46.60843%2C%206.74115%2C%205.0%5D%2C%20%5B46.46067%2C%206.84086%2C%204.776940514224839%5D%2C%20%5B46.52601%2C%206.59461%2C%204.67%5D%2C%20%5B46.51472%2C%206.6482%2C%205.0%5D%2C%20%5B46.33335%2C%206.19365%2C%203.0%5D%2C%20%5B46.48784%2C%207.20314%2C%204.776940514224839%5D%2C%20%5B46.45877%2C%206.85182%2C%205.0%5D%2C%20%5B46.54498%2C%206.7711%2C%204.776940514224839%5D%2C%20%5B46.51228%2C%206.49186%2C%204.67%5D%2C%20%5B46.51657%2C%206.63698%2C%204.776940514224839%5D%2C%20%5B46.52474%2C%206.59675%2C%204.776940514224839%5D%2C%20%5B46.28647%2C%207.07252%2C%205.0%5D%2C%20%5B46.50183%2C%206.69596%2C%204.776940514224839%5D%2C%20%5B46.45932%2C%206.84309%2C%205.0%5D%2C%20%5B46.39841%2C%206.25017%2C%204.67%5D%2C%20%5B46.46404%2C%206.84338%2C%204.89%5D%2C%20%5B46.46549%2C%206.84315%2C%205.0%5D%2C%20%5B46.51492%2C%206.6319%2C%205.0%5D%2C%20%5B46.45663%2C%206.85336%2C%204.8%5D%2C%20%5B46.53385%2C%206.6342%2C%204.0%5D%2C%20%5B46.42875%2C%206.92568%2C%204.73%5D%2C%20%5B46.52337%2C%206.62049%2C%204.6%5D%2C%20%5B46.47797%2C%206.83512%2C%205.0%5D%2C%20%5B46.3139%2C%206.17858%2C%205.0%5D%2C%20%5B46.47716%2C%207.13479%2C%205.0%5D%2C%20%5B46.53692%2C%206.59147%2C%204.75%5D%2C%20%5B46.51089%2C%206.63804%2C%205.0%5D%2C%20%5B46.45541%2C%206.85725%2C%204.89%5D%2C%20%5B46.54145%2C%206.5801%2C%204.776940514224839%5D%2C%20%5B46.51257%2C%206.55757%2C%204.91%5D%2C%20%5B46.30966%2C%206.17599%2C%204.55%5D%2C%20%5B46.46222%2C%206.85013%2C%204.91%5D%2C%20%5B46.46075%2C%206.84785%2C%204.89%5D%2C%20%5B46.47475%2C%206.33999%2C%204.75%5D%2C%20%5B46.52658%2C%206.63002%2C%205.0%5D%2C%20%5B46.47056%2C%206.87602%2C%205.0%5D%2C%20%5B46.84751%2C%206.7108%2C%204.87%5D%2C%20%5B46.49687%2C%206.39074%2C%204.67%5D%2C%20%5B46.28353%2C%207.087%2C%205.0%5D%2C%20%5B46.45605%2C%206.87706%2C%204.67%5D%2C%20%5B46.51044%2C%206.66129%2C%204.98%5D%2C%20%5B46.5105%2C%206.55739%2C%203.0%5D%2C%20%5B46.46044%2C%206.83919%2C%204.776940514224839%5D%2C%20%5B46.55331%2C%206.63399%2C%205.0%5D%2C%20%5B46.54818%2C%206.6393%2C%204.5%5D%2C%20%5B46.46041%2C%206.83776%2C%205.0%5D%2C%20%5B46.47789%2C%206.83606%2C%205.0%5D%2C%20%5B46.43191%2C%206.91221%2C%204.776940514224839%5D%2C%20%5B46.4547%2C%206.29933%2C%205.0%5D%2C%20%5B46.82433%2C%206.52698%2C%204.776940514224839%5D%2C%20%5B46.57591%2C%206.73339%2C%204.83%5D%2C%20%5B46.5417%2C%206.64121%2C%204.69%5D%2C%20%5B46.3805%2C%206.23846%2C%205.0%5D%2C%20%5B46.30058%2C%207.06192%2C%205.0%5D%2C%20%5B46.52069%2C%206.64054%2C%205.0%5D%2C%20%5B46.45894%2C%206.84525%2C%205.0%5D%2C%20%5B46.61287%2C%206.62324%2C%204.776940514224839%5D%2C%20%5B46.2045%2C%207.01708%2C%204.8%5D%2C%20%5B46.27982%2C%207.07197%2C%204.776940514224839%5D%2C%20%5B46.52155%2C%206.63866%2C%205.0%5D%2C%20%5B46.52155%2C%206.63866%2C%204.776940514224839%5D%2C%20%5B46.45375%2C%206.90337%2C%204.776940514224839%5D%2C%20%5B46.51717%2C%206.62302%2C%205.0%5D%2C%20%5B46.52052%2C%206.63338%2C%204.776940514224839%5D%2C%20%5B46.51717%2C%206.62302%2C%204.776940514224839%5D%2C%20%5B46.51375%2C%206.54601%2C%204.5%5D%2C%20%5B46.51375%2C%206.54601%2C%205.0%5D%2C%20%5B46.51375%2C%206.54601%2C%205.0%5D%2C%20%5B46.53018%2C%206.6245%2C%204.85%5D%2C%20%5B46.51753%2C%206.61493%2C%204.75%5D%2C%20%5B46.46066%2C%206.93319%2C%205.0%5D%2C%20%5B46.51665%2C%206.64353%2C%204.95%5D%2C%20%5B46.5505%2C%206.67929%2C%205.0%5D%2C%20%5B46.52861%2C%206.62167%2C%205.0%5D%2C%20%5B46.53323%2C%206.64891%2C%204.7%5D%2C%20%5B46.4202%2C%206.9266%2C%204.65%5D%2C%20%5B46.5184%2C%206.49709%2C%204.67%5D%2C%20%5B46.51707%2C%206.61692%2C%204.75%5D%2C%20%5B46.53981%2C%206.66894%2C%204.776940514224839%5D%2C%20%5B46.54808%2C%206.67451%2C%204.776940514224839%5D%2C%20%5B46.33818%2C%207.00615%2C%205.0%5D%2C%20%5B46.5326%2C%206.62943%2C%204.5%5D%2C%20%5B46.35618%2C%207.15564%2C%204.776940514224839%5D%2C%20%5B46.53932%2C%206.6429%2C%204.776940514224839%5D%2C%20%5B46.45292%2C%206.89306%2C%205.0%5D%2C%20%5B46.48%2C%206.22652%2C%204.87%5D%2C%20%5B46.5141%2C%206.70363%2C%205.0%5D%2C%20%5B46.29787%2C%207.05581%2C%205.0%5D%2C%20%5B46.29801%2C%207.05679%2C%204.776940514224839%5D%2C%20%5B46.48908%2C%207.21315%2C%205.0%5D%2C%20%5B46.29911%2C%207.05613%2C%205.0%5D%2C%20%5B46.29734%2C%207.05699%2C%204.92%5D%2C%20%5B46.51202%2C%206.63697%2C%204.5%5D%2C%20%5B46.4394%2C%206.90643%2C%204.86%5D%2C%20%5B46.54051%2C%206.61%2C%204.4%5D%2C%20%5B46.49609%2C%206.39011%2C%204.79%5D%2C%20%5B46.52541%2C%206.46918%2C%204.776940514224839%5D%2C%20%5B46.49696%2C%206.39071%2C%204.7%5D%2C%20%5B46.45859%2C%206.84572%2C%205.0%5D%2C%20%5B46.46114%2C%206.84798%2C%205.0%5D%2C%20%5B46.50122%2C%206.40742%2C%204.776940514224839%5D%2C%20%5B46.52398%2C%206.68542%2C%204.97%5D%2C%20%5B46.35655%2C%207.02517%2C%204.78%5D%2C%20%5B46.44724%2C%206.91236%2C%205.0%5D%2C%20%5B46.46327%2C%206.84156%2C%204.776940514224839%5D%2C%20%5B46.47872%2C%206.82616%2C%205.0%5D%2C%20%5B46.52173%2C%206.63857%2C%205.0%5D%2C%20%5B46.45746%2C%206.33001%2C%204.77%5D%2C%20%5B46.29255%2C%207.05553%2C%205.0%5D%2C%20%5B46.29521%2C%207.06181%2C%204.776940514224839%5D%2C%20%5B46.29342%2C%207.0565%2C%204.0%5D%2C%20%5B46.54038%2C%206.63%2C%204.5%5D%2C%20%5B46.43112%2C%206.91189%2C%204.776940514224839%5D%2C%20%5B46.35405%2C%207.16664%2C%205.0%5D%2C%20%5B46.52691%2C%206.61353%2C%204.0%5D%2C%20%5B46.52693%2C%206.55851%2C%204.84%5D%2C%20%5B46.5303%2C%206.618344%2C%204.776940514224839%5D%2C%20%5B46.45167%2C%206.90186%2C%204.79%5D%2C%20%5B46.82975%2C%206.54922%2C%204.95%5D%2C%20%5B46.44762%2C%206.15113%2C%204.8%5D%2C%20%5B46.452343%2C%206.125123%2C%204.86%5D%2C%20%5B46.5248%2C%206.61467%2C%204.8%5D%2C%20%5B46.29811%2C%207.05305%2C%204.5%5D%2C%20%5B46.49316%2C%206.736%2C%204.86%5D%2C%20%5B46.45197%2C%206.90242%2C%204.89%5D%2C%20%5B46.33257%2C%206.173%2C%205.0%5D%2C%20%5B46.47125%2C%206.82075%2C%204.85%5D%2C%20%5B46.29143%2C%207.05804%2C%204.776940514224839%5D%2C%20%5B46.38219%2C%206.23726%2C%205.0%5D%2C%20%5B46.51661%2C%206.62247%2C%205.0%5D%2C%20%5B46.51762%2C%206.60474%2C%204.91%5D%2C%20%5B46.50781%2C%206.66322%2C%205.0%5D%2C%20%5B46.52781%2C%206.63136%2C%205.0%5D%2C%20%5B46.53721%2C%206.61439%2C%204.776940514224839%5D%2C%20%5B46.5464%2C%206.65564%2C%204.0%5D%2C%20%5B46.53591%2C%206.61544%2C%204.776940514224839%5D%2C%20%5B46.50846%2C%206.6644%2C%204.776940514224839%5D%2C%20%5B46.53826%2C%206.60939%2C%204.77%5D%2C%20%5B46.51618%2C%206.60677%2C%204.9%5D%2C%20%5B46.51455%2C%206.6397%2C%204.776940514224839%5D%2C%20%5B46.47806%2C%207.14915%2C%204.91%5D%2C%20%5B46.52862%2C%206.6222%2C%204.776940514224839%5D%2C%20%5B46.5163%2C%206.26153%2C%204.776940514224839%5D%2C%20%5B46.46028%2C%206.84204%2C%204.93%5D%2C%20%5B46.43666%2C%206.9121%2C%204.776940514224839%5D%2C%20%5B46.34519%2C%206.15997%2C%205.0%5D%2C%20%5B46.5267%2C%206.58884%2C%204.776940514224839%5D%2C%20%5B46.51889%2C%206.52628%2C%204.83%5D%2C%20%5B46.50817%2C%206.68256%2C%204.776940514224839%5D%2C%20%5B46.51158%2C%206.62848%2C%204.93%5D%2C%20%5B46.48998%2C%207.2143%2C%205.0%5D%2C%20%5B46.51235%2C%206.69077%2C%204.776940514224839%5D%2C%20%5B46.43119%2C%206.91941%2C%204.89%5D%2C%20%5B46.2823%2C%207.09022%2C%205.0%5D%2C%20%5B46.5404%2C%206.62788%2C%204.75%5D%2C%20%5B46.3527%2C%207.16725%2C%204.44%5D%2C%20%5B46.65235%2C%206.79244%2C%203.0%5D%2C%20%5B46.44547%2C%206.15747%2C%204.79%5D%2C%20%5B46.50827%2C%206.2774%2C%204.0%5D%2C%20%5B46.29976%2C%207.03026%2C%204.776940514224839%5D%2C%20%5B46.92755%2C%207.04054%2C%204.65%5D%2C%20%5B46.51446%2C%206.63213%2C%205.0%5D%2C%20%5B46.52618%2C%206.618%2C%204.87%5D%2C%20%5B46.54037%2C%206.61135%2C%205.0%5D%2C%20%5B46.51718%2C%206.61542%2C%205.0%5D%2C%20%5B46.44074%2C%206.89167%2C%204.82%5D%2C%20%5B46.53912%2C%206.58684%2C%204.776940514224839%5D%2C%20%5B46.29677%2C%207.05177%2C%205.0%5D%2C%20%5B46.55029%2C%206.67434%2C%204.0%5D%2C%20%5B46.49458%2C%206.70831%2C%204.776940514224839%5D%2C%20%5B46.52455%2C%206.6066%2C%204.776940514224839%5D%2C%20%5B46.78641%2C%206.63724%2C%204.9%5D%2C%20%5B46.51471%2C%206.62693%2C%205.0%5D%2C%20%5B46.43132%2C%206.91558%2C%205.0%5D%2C%20%5B46.51291%2C%206.63197%2C%204.776940514224839%5D%2C%20%5B46.39837%2C%206.92463%2C%205.0%5D%2C%20%5B46.38638%2C%206.22585%2C%205.0%5D%2C%20%5B46.52555%2C%206.63395%2C%204.776940514224839%5D%2C%20%5B46.54334%2C%206.63087%2C%204.52%5D%2C%20%5B46.53274%2C%206.57962%2C%204.79%5D%2C%20%5B46.29863%2C%207.05481%2C%204.88%5D%2C%20%5B46.30199%2C%207.04347%2C%205.0%5D%2C%20%5B46.65349%2C%206.79103%2C%204.0%5D%2C%20%5B46.30018%2C%207.05759%2C%204.93%5D%2C%20%5B46.30793%2C%207.05633%2C%204.67%5D%2C%20%5B46.52557%2C%206.65526%2C%204.776940514224839%5D%2C%20%5B46.53429%2C%206.61947%2C%205.0%5D%2C%20%5B46.51811%2C%206.65407%2C%204.59%5D%2C%20%5B46.44134%2C%206.90825%2C%205.0%5D%2C%20%5B46.74613%2C%206.71602%2C%204.76%5D%2C%20%5B46.54471%2C%206.51624%2C%204.92%5D%2C%20%5B46.51096%2C%206.66046%2C%204.8%5D%2C%20%5B46.27512%2C%207.06383%2C%205.0%5D%2C%20%5B46.52752%2C%206.62217%2C%205.0%5D%2C%20%5B46.53964%2C%206.58406%2C%204.776940514224839%5D%2C%20%5B46.49533%2C%206.39303%2C%204.71%5D%2C%20%5B46.74124%2C%206.45691%2C%204.8%5D%2C%20%5B46.46548%2C%207.12487%2C%204.68%5D%2C%20%5B46.52231%2C%206.61773%2C%204.79%5D%2C%20%5B46.66735%2C%206.33092%2C%204.96%5D%2C%20%5B46.444%2C%206.89055%2C%204.74%5D%2C%20%5B46.51866%2C%206.64069%2C%205.0%5D%2C%20%5B46.30856%2C%207.06411%2C%205.0%5D%2C%20%5B46.5137%2C%206.62774%2C%205.0%5D%2C%20%5B46.30363%2C%207.04912%2C%204.95%5D%2C%20%5B46.43131%2C%206.91837%2C%205.0%5D%2C%20%5B46.21876%2C%207.01575%2C%204.93%5D%2C%20%5B46.49818%2C%206.71995%2C%204.91%5D%2C%20%5B46.45195%2C%206.89048%2C%204.776940514224839%5D%2C%20%5B46.35373%2C%207.16462%2C%205.0%5D%2C%20%5B46.78361%2C%206.62912%2C%204.72%5D%2C%20%5B46.52452%2C%206.62876%2C%204.8%5D%2C%20%5B46.52942%2C%206.6186%2C%204.33%5D%2C%20%5B46.53721%2C%206.61762%2C%204.776940514224839%5D%2C%20%5B46.43589%2C%206.93034%2C%204.97%5D%2C%20%5B46.51136%2C%206.70475%2C%205.0%5D%2C%20%5B46.43582%2C%206.91078%2C%204.776940514224839%5D%2C%20%5B46.34342%2C%207.0167%2C%205.0%5D%2C%20%5B46.5185%2C%206.62442%2C%205.0%5D%2C%20%5B46.59581%2C%206.23388%2C%204.67%5D%2C%20%5B46.51803%2C%206.63787%2C%205.0%5D%2C%20%5B46.29909%2C%207.05512%2C%204.776940514224839%5D%2C%20%5B46.52557%2C%206.62516%2C%204.6%5D%2C%20%5B46.46436%2C%206.34218%2C%204.5%5D%2C%20%5B46.25652%2C%207.09202%2C%204.94%5D%2C%20%5B46.27409%2C%207.06275%2C%205.0%5D%2C%20%5B46.4771%2C%206.77799%2C%204.8%5D%2C%20%5B46.43973%2C%206.88964%2C%204.776940514224839%5D%2C%20%5B46.42473%2C%206.26729%2C%204.93%5D%2C%20%5B46.52439%2C%206.60263%2C%205.0%5D%2C%20%5B46.49133%2C%207.20609%2C%205.0%5D%2C%20%5B46.52126%2C%206.61821%2C%204.75%5D%2C%20%5B46.31827%2C%206.98533%2C%204.76%5D%2C%20%5B46.52736%2C%206.63824%2C%204.83%5D%2C%20%5B46.49036%2C%206.41864%2C%204.53%5D%2C%20%5B46.52549%2C%206.62488%2C%205.0%5D%2C%20%5B46.30843%2C%207.05782%2C%205.0%5D%2C%20%5B46.46729%2C%206.94747%2C%205.0%5D%2C%20%5B46.51225%2C%206.62418%2C%204.9%5D%2C%20%5B46.51957%2C%206.574%2C%205.0%5D%2C%20%5B46.51731%2C%206.57505%2C%205.0%5D%2C%20%5B46.53901%2C%206.65898%2C%204.776940514224839%5D%2C%20%5B46.54015%2C%206.65895%2C%204.776940514224839%5D%2C%20%5B46.52733%2C%206.63133%2C%204.87%5D%2C%20%5B46.44189%2C%206.8881%2C%204.38%5D%2C%20%5B46.53255%2C%206.62439%2C%205.0%5D%2C%20%5B46.65209%2C%206.79165%2C%204.776940514224839%5D%2C%20%5B46.35228%2C%207.09325%2C%204.82%5D%2C%20%5B46.29887%2C%207.03938%2C%204.776940514224839%5D%2C%20%5B46.52701%2C%206.57394%2C%204.78%5D%2C%20%5B46.80374%2C%206.73251%2C%204.92%5D%2C%20%5B46.5263%2C%206.63721%2C%204.64%5D%2C%20%5B46.52176%2C%206.63181%2C%204.6%5D%2C%20%5B46.42209%2C%207.14752%2C%204.776940514224839%5D%2C%20%5B46.46099%2C%206.84427%2C%204.86%5D%2C%20%5B46.51716%2C%206.61961%2C%204.776940514224839%5D%2C%20%5B46.5215%2C%206.6353%2C%204.776940514224839%5D%2C%20%5B46.43239%2C%206.91597%2C%204.776940514224839%5D%2C%20%5B46.37548%2C%207.07267%2C%205.0%5D%2C%20%5B46.51743%2C%206.57557%2C%204.83%5D%2C%20%5B46.51748%2C%206.57526%2C%204.0%5D%2C%20%5B46.51897%2C%206.57362%2C%204.776940514224839%5D%2C%20%5B46.47797%2C%206.77993%2C%204.91%5D%2C%20%5B46.51481%2C%206.53695%2C%204.38%5D%2C%20%5B46.45417%2C%206.1153%2C%204.776940514224839%5D%2C%20%5B46.53212%2C%206.60698%2C%204.776940514224839%5D%2C%20%5B46.51701%2C%206.62736%2C%205.0%5D%2C%20%5B46.34216%2C%207.01217%2C%205.0%5D%2C%20%5B46.52243%2C%206.61754%2C%204.75%5D%2C%20%5B46.52221%2C%206.62773%2C%205.0%5D%2C%20%5B46.45978%2C%206.84492%2C%204.776940514224839%5D%2C%20%5B46.43145%2C%206.91252%2C%204.98%5D%2C%20%5B46.51411%2C%206.50375%2C%204.776940514224839%5D%2C%20%5B46.52462%2C%206.65207%2C%204.776940514224839%5D%2C%20%5B46.52492%2C%206.65217%2C%204.776940514224839%5D%2C%20%5B46.45932%2C%206.84409%2C%205.0%5D%2C%20%5B46.52953%2C%206.62944%2C%204.85%5D%2C%20%5B46.49611%2C%206.71745%2C%205.0%5D%2C%20%5B46.5348%2C%206.57653%2C%205.0%5D%2C%20%5B46.51558%2C%206.6248%2C%204.71%5D%2C%20%5B46.50938%2C%206.66014%2C%204.88%5D%2C%20%5B46.51881%2C%206.6395%2C%205.0%5D%2C%20%5B46.4778%2C%207.13226%2C%204.776940514224839%5D%2C%20%5B46.54152%2C%206.58502%2C%204.776940514224839%5D%2C%20%5B46.511%2C%206.63589%2C%205.0%5D%2C%20%5B46.28925%2C%207.09757%2C%204.92%5D%2C%20%5B46.44741%2C%206.88138%2C%204.776940514224839%5D%2C%20%5B46.51579%2C%206.63126%2C%204.9%5D%2C%20%5B46.51272%2C%206.63457%2C%205.0%5D%2C%20%5B46.52639%2C%206.63371%2C%204.776940514224839%5D%2C%20%5B46.53942%2C%206.5727%2C%204.0%5D%2C%20%5B46.54464%2C%206.63058%2C%204.0%5D%2C%20%5B46.69173%2C%206.47027%2C%204.93%5D%2C%20%5B46.35131%2C%207.15961%2C%204.96%5D%2C%20%5B46.51624%2C%206.62345%2C%204.776940514224839%5D%2C%20%5B46.51683%2C%206.6144%2C%204.0%5D%2C%20%5B46.52412%2C%206.63223%2C%205.0%5D%2C%20%5B46.54349%2C%206.58108%2C%204.776940514224839%5D%2C%20%5B46.45414%2C%206.20617%2C%204.776940514224839%5D%2C%20%5B46.47173%2C%207.12543%2C%205.0%5D%2C%20%5B46.4697%2C%206.822%2C%205.0%5D%2C%20%5B46.45766%2C%206.84817%2C%205.0%5D%2C%20%5B46.72438%2C%206.53553%2C%204.83%5D%2C%20%5B46.55355%2C%206.42953%2C%204.86%5D%2C%20%5B46.51311%2C%206.27474%2C%204.58%5D%2C%20%5B46.54178%2C%206.61036%2C%204.86%5D%2C%20%5B46.28737%2C%207.09808%2C%204.79%5D%2C%20%5B46.48934%2C%206.73774%2C%204.776940514224839%5D%2C%20%5B46.53621%2C%206.59955%2C%204.776940514224839%5D%2C%20%5B46.5836%2C%206.21269%2C%204.76%5D%2C%20%5B46.5448%2C%206.63206%2C%204.36%5D%2C%20%5B46.4472%2C%206.89831%2C%204.93%5D%2C%20%5B46.77671%2C%206.64752%2C%204.67%5D%2C%20%5B46.55276%2C%206.42467%2C%205.0%5D%2C%20%5B46.5667%2C%206.51338%2C%204.72%5D%2C%20%5B46.42469%2C%206.92548%2C%204.776940514224839%5D%2C%20%5B46.46438%2C%207.11814%2C%205.0%5D%2C%20%5B46.51687%2C%206.63128%2C%204.776940514224839%5D%2C%20%5B46.38722%2C%206.23481%2C%205.0%5D%2C%20%5B46.44899%2C%206.90672%2C%204.6%5D%2C%20%5B46.47728%2C%207.14093%2C%204.776940514224839%5D%2C%20%5B46.48088%2C%207.14281%2C%205.0%5D%2C%20%5B46.2989%2C%207.05589%2C%205.0%5D%2C%20%5B46.29899%2C%207.05295%2C%204.776940514224839%5D%2C%20%5B46.47209%2C%207.1198%2C%204.6%5D%2C%20%5B46.4716%2C%207.11988%2C%205.0%5D%2C%20%5B46.52011%2C%206.67172%2C%204.75%5D%2C%20%5B46.52321%2C%206.60471%2C%204.75%5D%2C%20%5B46.34272%2C%207.00715%2C%204.88%5D%2C%20%5B46.52781%2C%206.63136%2C%204.91%5D%2C%20%5B46.51579%2C%206.63126%2C%205.0%5D%2C%20%5B46.51662%2C%206.57508%2C%204.776940514224839%5D%2C%20%5B46.51579%2C%206.63126%2C%205.0%5D%2C%20%5B46.65982%2C%206.69603%2C%205.0%5D%2C%20%5B46.39817%2C%207.10252%2C%204.0%5D%2C%20%5B46.52149%2C%206.64174%2C%205.0%5D%2C%20%5B46.51523%2C%206.56009%2C%204.7%5D%2C%20%5B46.52781%2C%206.63136%2C%205.0%5D%2C%20%5B46.43505%2C%206.9124%2C%205.0%5D%2C%20%5B46.38935%2C%206.2225%2C%204.776940514224839%5D%2C%20%5B46.50854%2C%206.63001%2C%204.776940514224839%5D%2C%20%5B46.30922%2C%207.06117%2C%204.5%5D%2C%20%5B46.51652%2C%206.55934%2C%204.38%5D%2C%20%5B46.50572%2C%206.68051%2C%204.776940514224839%5D%2C%20%5B46.51757%2C%206.6092%2C%204.85%5D%2C%20%5B46.51157%2C%206.64214%2C%204.92%5D%2C%20%5B46.35306%2C%207.15905%2C%204.92%5D%2C%20%5B46.70844%2C%206.83651%2C%204.5%5D%2C%20%5B46.45476%2C%206.86426%2C%205.0%5D%2C%20%5B46.45726%2C%206.20513%2C%205.0%5D%2C%20%5B46.29237%2C%207.05569%2C%205.0%5D%2C%20%5B46.35525%2C%207.14432%2C%204.61%5D%2C%20%5B46.8918%2C%206.90043%2C%204.92%5D%2C%20%5B46.51514%2C%206.61839%2C%204.94%5D%2C%20%5B46.29274%2C%207.05642%2C%204.776940514224839%5D%2C%20%5B46.48276%2C%206.77778%2C%204.776940514224839%5D%2C%20%5B46.46021%2C%206.84435%2C%204.33%5D%2C%20%5B46.34089%2C%207.00515%2C%204.776940514224839%5D%2C%20%5B46.47348%2C%207.14103%2C%204.776940514224839%5D%2C%20%5B46.55389%2C%206.63688%2C%204.76%5D%2C%20%5B46.28295%2C%207.0737%2C%205.0%5D%2C%20%5B46.5172%2C%206.6866%2C%205.0%5D%2C%20%5B46.51724%2C%206.63632%2C%204.776940514224839%5D%2C%20%5B46.42341%2C%206.92839%2C%204.98%5D%2C%20%5B46.53175%2C%206.65058%2C%204.776940514224839%5D%2C%20%5B46.45954%2C%206.84468%2C%205.0%5D%2C%20%5B46.354359%2C%207.153798%2C%205.0%5D%2C%20%5B46.59584%2C%206.56472%2C%204.5%5D%2C%20%5B46.5081%2C%206.62755%2C%205.0%5D%2C%20%5B46.34117%2C%207.00425%2C%205.0%5D%2C%20%5B46.53845%2C%206.57438%2C%204.86%5D%2C%20%5B46.30132%2C%207.0334%2C%204.86%5D%2C%20%5B46.65058%2C%206.45385%2C%204.83%5D%2C%20%5B46.46707%2C%207.08138%2C%204.776940514224839%5D%2C%20%5B46.30061%2C%207.05886%2C%204.4%5D%2C%20%5B46.5256%2C%206.63866%2C%205.0%5D%2C%20%5B46.47327%2C%207.15515%2C%205.0%5D%2C%20%5B46.67938%2C%206.3865%2C%204.92%5D%2C%20%5B46.52451%2C%206.62993%2C%205.0%5D%2C%20%5B46.52596%2C%206.63677%2C%204.77%5D%2C%20%5B46.51069%2C%206.62774%2C%204.88%5D%2C%20%5B46.2047%2C%207.01733%2C%204.776940514224839%5D%2C%20%5B46.74608%2C%206.71615%2C%204.86%5D%2C%20%5B46.90848%2C%207.07473%2C%204.776940514224839%5D%2C%20%5B46.5132%2C%206.62443%2C%204.67%5D%2C%20%5B46.51513%2C%206.62974%2C%204.776940514224839%5D%2C%20%5B46.53449%2C%206.60199%2C%204.5%5D%2C%20%5B46.47973%2C%207.07005%2C%204.9%5D%2C%20%5B46.52263%2C%206.62826%2C%204.91%5D%2C%20%5B46.47471%2C%207.13684%2C%204.67%5D%2C%20%5B46.88964%2C%206.72536%2C%204.65%5D%2C%20%5B46.53733%2C%206.57407%2C%204.5%5D%2C%20%5B46.29028%2C%207.09375%2C%204.776940514224839%5D%2C%20%5B46.55448%2C%206.7085%2C%204.64%5D%2C%20%5B46.29744%2C%207.05313%2C%204.776940514224839%5D%2C%20%5B46.415%2C%206.16802%2C%205.0%5D%2C%20%5B46.50185%2C%206.68534%2C%204.776940514224839%5D%2C%20%5B46.47019%2C%206.84489%2C%204.776940514224839%5D%2C%20%5B46.45057%2C%206.16775%2C%204.8%5D%2C%20%5B46.58112%2C%206.73968%2C%204.94%5D%2C%20%5B46.52726%2C%206.62165%2C%204.82%5D%2C%20%5B46.48218%2C%206.91555%2C%204.87%5D%2C%20%5B46.51623%2C%206.60519%2C%204.58%5D%2C%20%5B46.47391%2C%206.89746%2C%204.5%5D%2C%20%5B46.59328%2C%206.76959%2C%205.0%5D%2C%20%5B46.51524%2C%206.56274%2C%204.776940514224839%5D%2C%20%5B46.5431%2C%206.64213%2C%205.0%5D%2C%20%5B46.52309%2C%206.6735%2C%204.7%5D%2C%20%5B46.89092%2C%206.7272%2C%204.58%5D%2C%20%5B46.89053%2C%206.72541%2C%204.8%5D%2C%20%5B46.88983%2C%206.72686%2C%204.89%5D%2C%20%5B46.35231%2C%207.16154%2C%205.0%5D%2C%20%5B46.52587%2C%206.5737%2C%204.64%5D%2C%20%5B46.53072%2C%206.63068%2C%204.8%5D%2C%20%5B46.5003%2C%206.71974%2C%204.776940514224839%5D%2C%20%5B46.49861%2C%206.77038%2C%204.0%5D%2C%20%5B46.52451%2C%206.68063%2C%204.71%5D%2C%20%5B46.46758%2C%206.84248%2C%204.776940514224839%5D%2C%20%5B46.46006%2C%206.84262%2C%205.0%5D%2C%20%5B46.53246%2C%206.64888%2C%204.776940514224839%5D%2C%20%5B46.4377%2C%207.10079%2C%204.776940514224839%5D%2C%20%5B46.44744%2C%206.27865%2C%204.776940514224839%5D%2C%20%5B46.5404%2C%206.63237%2C%204.5%5D%2C%20%5B46.34058%2C%207.00476%2C%204.93%5D%2C%20%5B46.48964%2C%207.22092%2C%204.776940514224839%5D%2C%20%5B46.29621%2C%207.05534%2C%205.0%5D%2C%20%5B46.52786%2C%206.61699%2C%204.776940514224839%5D%2C%20%5B46.5156%2C%206.60508%2C%204.91%5D%2C%20%5B46.59903%2C%206.67634%2C%204.87%5D%2C%20%5B46.52271%2C%206.62268%2C%204.81%5D%2C%20%5B46.52722%2C%206.63295%2C%204.75%5D%2C%20%5B46.28329%2C%207.07747%2C%204.776940514224839%5D%2C%20%5B46.27406%2C%207.06568%2C%204.776940514224839%5D%2C%20%5B46.2843%2C%207.07236%2C%204.776940514224839%5D%2C%20%5B46.28573%2C%207.07199%2C%204.776940514224839%5D%2C%20%5B46.27821%2C%207.06712%2C%204.776940514224839%5D%2C%20%5B46.28305%2C%207.0704%2C%205.0%5D%2C%20%5B46.30549%2C%207.0422%2C%204.776940514224839%5D%2C%20%5B46.28267%2C%207.07975%2C%204.776940514224839%5D%2C%20%5B46.28201%2C%207.09135%2C%204.776940514224839%5D%2C%20%5B46.28032%2C%207.06838%2C%204.776940514224839%5D%2C%20%5B46.4591%2C%206.21579%2C%205.0%5D%2C%20%5B46.4698%2C%206.85189%2C%204.776940514224839%5D%2C%20%5B46.51369%2C%206.62681%2C%204.94%5D%2C%20%5B46.51579%2C%206.63126%2C%204.81%5D%2C%20%5B46.51713%2C%206.61291%2C%204.776940514224839%5D%2C%20%5B46.57503%2C%206.58703%2C%204.776940514224839%5D%2C%20%5B46.30906%2C%206.17468%2C%204.93%5D%2C%20%5B46.51383%2C%206.66218%2C%204.776940514224839%5D%2C%20%5B46.53478%2C%206.62671%2C%205.0%5D%2C%20%5B46.60273%2C%206.24375%2C%204.776940514224839%5D%2C%20%5B46.46724%2C%206.36503%2C%205.0%5D%2C%20%5B46.53408%2C%206.60369%2C%204.5%5D%2C%20%5B46.53359%2C%206.63197%2C%204.776940514224839%5D%2C%20%5B46.42926%2C%206.91338%2C%204.89%5D%2C%20%5B46.53605%2C%206.60812%2C%204.85%5D%2C%20%5B46.31397%2C%206.9729%2C%204.97%5D%2C%20%5B46.51581%2C%206.61476%2C%204.776940514224839%5D%2C%20%5B46.29518%2C%207.06095%2C%204.776940514224839%5D%2C%20%5B46.51688%2C%206.6347%2C%205.0%5D%2C%20%5B46.50182%2C%206.68541%2C%204.776940514224839%5D%2C%20%5B46.46898%2C%206.3648%2C%204.67%5D%2C%20%5B46.46919%2C%206.36528%2C%204.9%5D%2C%20%5B46.58202%2C%206.21054%2C%205.0%5D%2C%20%5B46.51129%2C%206.30985%2C%205.0%5D%2C%20%5B46.453114%2C%206.892824%2C%203.0%5D%2C%20%5B46.52131%2C%206.61938%2C%204.85%5D%2C%20%5B46.56%2C%206.67215%2C%204.776940514224839%5D%2C%20%5B46.48855%2C%207.20301%2C%204.776940514224839%5D%2C%20%5B46.43044%2C%206.9151%2C%204.776940514224839%5D%2C%20%5B46.50888%2C%206.68276%2C%205.0%5D%2C%20%5B46.50888%2C%206.68276%2C%204.776940514224839%5D%2C%20%5B46.53186%2C%206.6305%2C%203.0%5D%2C%20%5B46.54034%2C%206.60991%2C%204.67%5D%2C%20%5B46.52259%2C%206.61445%2C%204.92%5D%2C%20%5B46.5072%2C%206.49124%2C%204.5%5D%2C%20%5B46.50628%2C%206.491%2C%205.0%5D%2C%20%5B46.52056%2C%206.61752%2C%204.68%5D%2C%20%5B46.43317%2C%206.91848%2C%204.776940514224839%5D%2C%20%5B46.52118%2C%206.6191%2C%204.88%5D%2C%20%5B46.50824%2C%206.66379%2C%204.776940514224839%5D%2C%20%5B46.52787%2C%206.63187%2C%205.0%5D%2C%20%5B46.50888%2C%206.68276%2C%204.776940514224839%5D%2C%20%5B46.52628%2C%206.61585%2C%204.5%5D%2C%20%5B46.51233%2C%206.62596%2C%204.86%5D%2C%20%5B46.39516%2C%206.24516%2C%204.86%5D%2C%20%5B46.51662%2C%206.63418%2C%205.0%5D%2C%20%5B46.2856%2C%207.0709%2C%204.96%5D%2C%20%5B46.48031%2C%206.79234%2C%204.93%5D%2C%20%5B46.43541%2C%206.9477%2C%204.92%5D%2C%20%5B46.51114%2C%206.49674%2C%204.97%5D%2C%20%5B46.63121%2C%206.26227%2C%205.0%5D%2C%20%5B46.58245%2C%206.73991%2C%204.776940514224839%5D%2C%20%5B46.46654%2C%206.35505%2C%205.0%5D%2C%20%5B46.48994%2C%206.71583%2C%204.94%5D%2C%20%5B46.50637%2C%206.66785%2C%204.71%5D%2C%20%5B46.3417%2C%207.00475%2C%204.776940514224839%5D%2C%20%5B46.52301%2C%206.63317%2C%205.0%5D%2C%20%5B46.52372%2C%206.65189%2C%204.776940514224839%5D%2C%20%5B46.53163%2C%206.65102%2C%205.0%5D%2C%20%5B46.51035%2C%206.661%2C%205.0%5D%2C%20%5B46.35139%2C%207.15806%2C%204.94%5D%2C%20%5B46.54236%2C%206.62797%2C%205.0%5D%2C%20%5B46.4156%2C%206.27655%2C%204.88%5D%2C%20%5B46.29172%2C%206.97753%2C%205.0%5D%2C%20%5B46.5278%2C%206.61282%2C%205.0%5D%2C%20%5B46.47554%2C%207.13526%2C%205.0%5D%2C%20%5B46.54677%2C%206.62963%2C%204.4%5D%2C%20%5B46.77832%2C%206.63219%2C%205.0%5D%2C%20%5B46.83004%2C%206.96127%2C%205.0%5D%2C%20%5B46.47005%2C%207.05312%2C%205.0%5D%2C%20%5B46.52467%2C%206.60232%2C%204.03%5D%2C%20%5B46.55056%2C%206.55149%2C%205.0%5D%2C%20%5B46.57429%2C%206.19009%2C%204.86%5D%2C%20%5B46.35008%2C%207.07161%2C%204.88%5D%2C%20%5B46.29751%2C%207.05221%2C%204.776940514224839%5D%2C%20%5B46.47821%2C%206.77845%2C%204.93%5D%2C%20%5B46.44685%2C%206.90818%2C%204.7%5D%2C%20%5B46.51505%2C%206.62531%2C%204.776940514224839%5D%2C%20%5B46.38703%2C%206.21917%2C%204.776940514224839%5D%2C%20%5B46.52125%2C%206.63783%2C%205.0%5D%2C%20%5B46.52122%2C%206.63782%2C%204.91%5D%2C%20%5B46.51494%2C%206.62417%2C%204.776940514224839%5D%2C%20%5B46.557%2C%206.68764%2C%204.776940514224839%5D%2C%20%5B46.51578%2C%206.67798%2C%204.5%5D%2C%20%5B46.51453%2C%206.62852%2C%205.0%5D%2C%20%5B46.46448%2C%206.83811%2C%204.776940514224839%5D%2C%20%5B46.51934%2C%206.63029%2C%205.0%5D%2C%20%5B46.4587%2C%206.84734%2C%205.0%5D%2C%20%5B46.51498%2C%206.62836%2C%205.0%5D%2C%20%5B46.53811%2C%206.58629%2C%204.776940514224839%5D%2C%20%5B46.51952%2C%206.62893%2C%204.776940514224839%5D%2C%20%5B46.59962%2C%206.49002%2C%205.0%5D%2C%20%5B46.51691%2C%206.6302%2C%204.776940514224839%5D%2C%20%5B46.51176%2C%206.63469%2C%205.0%5D%2C%20%5B46.54727%2C%206.62906%2C%203.5%5D%2C%20%5B46.48973%2C%207.20921%2C%204.71%5D%2C%20%5B46.43072%2C%206.91217%2C%201.0%5D%2C%20%5B46.51052%2C%206.62588%2C%204.95%5D%2C%20%5B46.51588%2C%206.61683%2C%205.0%5D%2C%20%5B46.29745%2C%207.05598%2C%205.0%5D%2C%20%5B46.29896%2C%207.05599%2C%205.0%5D%2C%20%5B46.29776%2C%207.05557%2C%204.776940514224839%5D%2C%20%5B46.29903%2C%207.05535%2C%204.776940514224839%5D%2C%20%5B46.29785%2C%207.05548%2C%204.776940514224839%5D%2C%20%5B46.29936%2C%207.05467%2C%204.776940514224839%5D%2C%20%5B46.2982%2C%207.05553%2C%204.776940514224839%5D%2C%20%5B46.29746%2C%207.05555%2C%205.0%5D%2C%20%5B46.52757%2C%206.63638%2C%204.78%5D%2C%20%5B46.26063%2C%207.09922%2C%204.776940514224839%5D%2C%20%5B46.30002%2C%207.05611%2C%205.0%5D%2C%20%5B46.26091%2C%207.101%2C%205.0%5D%2C%20%5B46.25936%2C%207.09964%2C%204.67%5D%2C%20%5B46.904003%2C%206.991077%2C%204.83%5D%2C%20%5B46.86894%2C%206.7511%2C%204.89%5D%2C%20%5B46.5235%2C%206.61832%2C%203.5%5D%2C%20%5B46.52461%2C%206.63486%2C%205.0%5D%2C%20%5B46.46485%2C%206.89504%2C%204.84%5D%2C%20%5B46.57508%2C%206.48606%2C%204.76%5D%2C%20%5B46.41845%2C%206.2695%2C%204.67%5D%2C%20%5B46.47119%2C%207.11941%2C%204.93%5D%2C%20%5B46.54257%2C%206.64952%2C%204.776940514224839%5D%2C%20%5B46.4701%2C%207.11969%2C%204.86%5D%2C%20%5B46.58319%2C%206.60362%2C%203.2%5D%2C%20%5B46.47042%2C%207.11935%2C%204.85%5D%2C%20%5B46.516%2C%206.54879%2C%204.776940514224839%5D%2C%20%5B46.51063%2C%206.31024%2C%204.776940514224839%5D%2C%20%5B46.3836%2C%206.23751%2C%204.776940514224839%5D%2C%20%5B46.44733%2C%206.89136%2C%204.89%5D%2C%20%5B46.77168%2C%206.91591%2C%204.67%5D%2C%20%5B46.47679%2C%207.12609%2C%205.0%5D%2C%20%5B46.54969%2C%206.629%2C%204.0%5D%2C%20%5B46.53006%2C%206.63091%2C%204.6%5D%2C%20%5B46.4627%2C%206.83978%2C%205.0%5D%2C%20%5B46.52049%2C%206.64026%2C%205.0%5D%2C%20%5B46.56612%2C%206.52029%2C%204.776940514224839%5D%2C%20%5B46.61635%2C%206.2404%2C%205.0%5D%2C%20%5B46.34678%2C%207.01553%2C%204.75%5D%2C%20%5B46.53851%2C%206.60018%2C%204.776940514224839%5D%2C%20%5B46.5252%2C%206.6139%2C%204.6%5D%2C%20%5B46.274555%2C%207.065786%2C%204.82%5D%2C%20%5B46.77701%2C%206.64197%2C%204.776940514224839%5D%2C%20%5B46.65615%2C%206.80973%2C%204.92%5D%2C%20%5B46.51401%2C%206.62442%2C%204.93%5D%2C%20%5B46.54554%2C%206.66724%2C%204.0%5D%2C%20%5B46.53529%2C%206.60971%2C%204.7%5D%2C%20%5B46.57418%2C%206.75317%2C%204.93%5D%2C%20%5B46.51271%2C%206.6244%2C%205.0%5D%2C%20%5B46.3555%2C%207.02576%2C%204.84%5D%2C%20%5B46.54891%2C%206.675%2C%204.5%5D%2C%20%5B46.35048%2C%207.02117%2C%204.91%5D%2C%20%5B46.50789%2C%206.38794%2C%204.776940514224839%5D%2C%20%5B46.5074%2C%206.38842%2C%204.776940514224839%5D%2C%20%5B46.50734%2C%206.38812%2C%204.776940514224839%5D%2C%20%5B46.50976%2C%206.70177%2C%205.0%5D%2C%20%5B46.82719%2C%206.4914%2C%204.97%5D%2C%20%5B46.49334%2C%206.71538%2C%204.91%5D%2C%20%5B46.50708%2C%206.38638%2C%204.776940514224839%5D%2C%20%5B46.34945%2C%207.17405%2C%204.5%5D%2C%20%5B46.42356%2C%207.10947%2C%205.0%5D%2C%20%5B46.33359%2C%206.2015%2C%205.0%5D%2C%20%5B46.34973%2C%207.15708%2C%204.95%5D%2C%20%5B46.43093%2C%206.91327%2C%204.776940514224839%5D%2C%20%5B46.52946%2C%206.52303%2C%205.0%5D%2C%20%5B46.44691%2C%206.89851%2C%204.9%5D%2C%20%5B46.45072%2C%206.89892%2C%204.86%5D%2C%20%5B46.45051%2C%206.89868%2C%204.9%5D%2C%20%5B46.50948%2C%206.6455%2C%204.776940514224839%5D%2C%20%5B46.43996%2C%206.20514%2C%204.71%5D%2C%20%5B46.77735%2C%206.61489%2C%204.88%5D%2C%20%5B46.47561%2C%207.12615%2C%205.0%5D%2C%20%5B46.5136%2C%206.65643%2C%204.87%5D%2C%20%5B46.73179%2C%206.41862%2C%204.86%5D%2C%20%5B46.54559%2C%206.64945%2C%204.776940514224839%5D%2C%20%5B46.51491%2C%206.62879%2C%205.0%5D%2C%20%5B46.49738%2C%206.72348%2C%205.0%5D%2C%20%5B46.51517%2C%206.6923%2C%204.33%5D%2C%20%5B46.55689%2C%206.68744%2C%204.776940514224839%5D%2C%20%5B46.4187%2C%206.92955%2C%204.7%5D%2C%20%5B46.33602%2C%206.99899%2C%204.95%5D%2C%20%5B46.2781%2C%207.0673%2C%204.776940514224839%5D%2C%20%5B46.29815%2C%207.05459%2C%204.776940514224839%5D%2C%20%5B46.52835%2C%206.61775%2C%204.78%5D%2C%20%5B46.5139%2C%206.63068%2C%204.83%5D%2C%20%5B46.39641%2C%207.09774%2C%204.5%5D%2C%20%5B46.511%2C%206.63571%2C%204.67%5D%2C%20%5B46.52384%2C%206.63563%2C%204.776940514224839%5D%2C%20%5B46.47914%2C%206.81826%2C%204.93%5D%2C%20%5B46.28191%2C%207.08524%2C%205.0%5D%2C%20%5B46.48696%2C%206.84855%2C%205.0%5D%2C%20%5B46.50896%2C%206.62555%2C%205.0%5D%2C%20%5B46.29476%2C%207.05881%2C%205.0%5D%2C%20%5B46.30423%2C%207.04256%2C%205.0%5D%2C%20%5B46.35304%2C%207.15081%2C%204.776940514224839%5D%2C%20%5B46.5106%2C%206.62596%2C%205.0%5D%2C%20%5B46.53315%2C%206.57567%2C%204.75%5D%2C%20%5B46.48823%2C%207.20021%2C%204.776940514224839%5D%2C%20%5B46.43799%2C%206.91025%2C%205.0%5D%2C%20%5B46.5269%2C%206.62508%2C%205.0%5D%2C%20%5B46.44451%2C%206.88636%2C%205.0%5D%2C%20%5B46.38135%2C%206.14912%2C%204.776940514224839%5D%2C%20%5B46.39227%2C%206.23081%2C%204.5%5D%2C%20%5B46.46862%2C%207.08339%2C%204.95%5D%2C%20%5B46.5377%2C%206.62706%2C%204.94%5D%2C%20%5B46.52505%2C%206.62649%2C%204.84%5D%2C%20%5B46.52379%2C%206.62575%2C%205.0%5D%2C%20%5B46.77031%2C%206.91644%2C%204.87%5D%2C%20%5B46.38331%2C%206.23806%2C%204.776940514224839%5D%2C%20%5B46.58232%2C%206.50864%2C%204.95%5D%2C%20%5B46.51179%2C%206.62778%2C%204.776940514224839%5D%2C%20%5B46.71074%2C%206.38001%2C%204.776940514224839%5D%2C%20%5B46.31222%2C%206.96036%2C%205.0%5D%2C%20%5B46.88642%2C%206.90604%2C%204.7%5D%2C%20%5B46.55386%2C%206.69862%2C%205.0%5D%2C%20%5B46.53195%2C%206.57275%2C%204.92%5D%2C%20%5B46.4224%2C%206.92898%2C%204.33%5D%2C%20%5B46.58013%2C%206.21085%2C%204.67%5D%2C%20%5B46.58163%2C%206.21021%2C%204.81%5D%2C%20%5B46.78807%2C%206.55247%2C%205.0%5D%2C%20%5B46.51647%2C%206.60626%2C%204.776940514224839%5D%2C%20%5B46.39932%2C%206.93631%2C%204.72%5D%2C%20%5B46.51764%2C%206.66258%2C%205.0%5D%2C%20%5B46.51898%2C%206.6319%2C%205.0%5D%2C%20%5B46.36118%2C%207.05938%2C%204.776940514224839%5D%2C%20%5B46.46015%2C%206.8446%2C%205.0%5D%2C%20%5B46.53947%2C%206.62542%2C%204.33%5D%2C%20%5B46.79006%2C%206.5523%2C%204.96%5D%2C%20%5B46.47056%2C%206.81679%2C%204.776940514224839%5D%2C%20%5B46.5202%2C%206.50646%2C%205.0%5D%2C%20%5B46.53961%2C%206.54779%2C%204.776940514224839%5D%2C%20%5B46.77243%2C%206.65419%2C%204.9%5D%2C%20%5B46.8312%2C%206.55476%2C%204.6%5D%2C%20%5B46.52212%2C%206.62059%2C%204.86%5D%2C%20%5B46.51949%2C%206.61681%2C%204.776940514224839%5D%2C%20%5B46.51369%2C%206.62681%2C%205.0%5D%2C%20%5B46.53424%2C%206.62872%2C%203.33%5D%2C%20%5B46.55547%2C%206.73299%2C%204.94%5D%2C%20%5B46.41591%2C%206.2804%2C%205.0%5D%2C%20%5B46.48625%2C%206.8496%2C%204.88%5D%2C%20%5B46.5226%2C%206.63861%2C%205.0%5D%2C%20%5B46.30381%2C%207.04701%2C%205.0%5D%2C%20%5B46.34961%2C%207.0157%2C%204.86%5D%2C%20%5B46.34895%2C%207.0167%2C%205.0%5D%2C%20%5B46.3494%2C%207.01583%2C%204.67%5D%2C%20%5B46.429939%2C%206.912429%2C%205.0%5D%2C%20%5B46.92329%2C%207.02265%2C%205.0%5D%2C%20%5B46.60664%2C%206.44989%2C%204.56%5D%2C%20%5B46.52347%2C%206.63042%2C%205.0%5D%2C%20%5B46.38807%2C%206.22004%2C%205.0%5D%2C%20%5B46.514572%2C%206.56012%2C%205.0%5D%2C%20%5B46.92349%2C%207.02302%2C%205.0%5D%2C%20%5B46.77947%2C%206.63983%2C%204.96%5D%2C%20%5B46.29703%2C%206.9924%2C%205.0%5D%2C%20%5B46.39933%2C%207.10632%2C%204.89%5D%2C%20%5B46.41523%2C%206.28007%2C%204.5%5D%2C%20%5B46.52225%2C%206.60994%2C%205.0%5D%2C%20%5B46.48561%2C%207.19196%2C%204.84%5D%2C%20%5B46.49679%2C%207.18172%2C%204.776940514224839%5D%2C%20%5B46.45518%2C%206.1143%2C%205.0%5D%2C%20%5B46.56441%2C%206.89515%2C%204.86%5D%2C%20%5B46.51472%2C%206.62641%2C%205.0%5D%2C%20%5B46.51726%2C%206.60853%2C%204.88%5D%2C%20%5B46.5201%2C%206.63641%2C%205.0%5D%2C%20%5B46.34688%2C%207.01907%2C%205.0%5D%2C%20%5B46.29816%2C%207.05598%2C%204.67%5D%2C%20%5B46.33755%2C%207.00309%2C%205.0%5D%2C%20%5B46.49139%2C%207.20513%2C%205.0%5D%2C%20%5B46.53123%2C%206.61437%2C%204.91%5D%2C%20%5B46.47938%2C%206.82902%2C%205.0%5D%2C%20%5B46.53453%2C%206.63426%2C%205.0%5D%2C%20%5B46.55844%2C%206.63438%2C%205.0%5D%2C%20%5B46.4702%2C%206.42284%2C%204.88%5D%2C%20%5B46.82747%2C%206.5384%2C%204.78%5D%2C%20%5B46.77483%2C%206.67047%2C%204.98%5D%2C%20%5B46.32903%2C%206.95479%2C%204.86%5D%2C%20%5B46.29465%2C%207.0579%2C%204.86%5D%2C%20%5B46.72423%2C%206.53108%2C%204.81%5D%2C%20%5B46.41905%2C%206.27994%2C%204.0%5D%2C%20%5B46.532986%2C%206.604571%2C%205.0%5D%2C%20%5B46.53403%2C%206.60394%2C%205.0%5D%2C%20%5B46.38492%2C%206.23372%2C%205.0%5D%2C%20%5B46.34202%2C%207.00436%2C%204.71%5D%2C%20%5B46.47451%2C%206.90151%2C%204.98%5D%2C%20%5B46.46645%2C%206.31662%2C%204.67%5D%2C%20%5B46.43601%2C%206.91417%2C%204.83%5D%2C%20%5B46.92734%2C%207.03193%2C%205.0%5D%2C%20%5B46.41294%2C%206.23404%2C%204.776940514224839%5D%2C%20%5B46.54721%2C%206.55322%2C%204.776940514224839%5D%2C%20%5B46.532986%2C%206.604571%2C%204.5%5D%2C%20%5B46.92242%2C%207.02191%2C%204.776940514224839%5D%2C%20%5B46.39933%2C%207.11035%2C%205.0%5D%2C%20%5B46.3171%2C%206.96436%2C%205.0%5D%2C%20%5B46.62232%2C%206.24182%2C%204.95%5D%2C%20%5B46.317%2C%206.96624%2C%205.0%5D%2C%20%5B46.31849%2C%206.96572%2C%205.0%5D%2C%20%5B46.3181%2C%206.9641%2C%204.776940514224839%5D%2C%20%5B46.31659%2C%206.96424%2C%205.0%5D%2C%20%5B46.31701%2C%206.96424%2C%205.0%5D%2C%20%5B46.31789%2C%206.96483%2C%204.8%5D%2C%20%5B46.31825%2C%206.96486%2C%204.8%5D%2C%20%5B46.31806%2C%206.96581%2C%204.0%5D%2C%20%5B46.31826%2C%206.96581%2C%204.67%5D%2C%20%5B46.64874%2C%206.79379%2C%205.0%5D%2C%20%5B46.52529%2C%206.47359%2C%204.776940514224839%5D%2C%20%5B46.92192%2C%207.02132%2C%204.9%5D%2C%20%5B46.53258%2C%206.60377%2C%205.0%5D%2C%20%5B46.5411%2C%206.60944%2C%205.0%5D%2C%20%5B46.45792%2C%206.84817%2C%205.0%5D%2C%20%5B46.51083%2C%206.63611%2C%204.8%5D%2C%20%5B46.53582%2C%206.65876%2C%204.64%5D%2C%20%5B46.53159%2C%206.61789%2C%205.0%5D%2C%20%5B46.52729%2C%206.63152%2C%204.7%5D%2C%20%5B46.48844%2C%207.21836%2C%204.776940514224839%5D%2C%20%5B46.42917%2C%206.91313%2C%205.0%5D%2C%20%5B46.42907%2C%206.91279%2C%204.82%5D%2C%20%5B46.90469%2C%206.99076%2C%204.5%5D%2C%20%5B46.64472%2C%206.64074%2C%204.776940514224839%5D%2C%20%5B46.53636%2C%206.59209%2C%204.33%5D%2C%20%5B46.4599%2C%206.85763%2C%204.5%5D%2C%20%5B46.4239%2C%206.26112%2C%205.0%5D%2C%20%5B46.44015%2C%206.90838%2C%205.0%5D%2C%20%5B46.54152%2C%206.65568%2C%204.2%5D%2C%20%5B46.57432%2C%206.18911%2C%204.88%5D%2C%20%5B46.4797%2C%206.8366%2C%204.91%5D%2C%20%5B46.46173%2C%206.84608%2C%204.88%5D%2C%20%5B46.52476%2C%206.62482%2C%204.73%5D%2C%20%5B46.37655%2C%206.23276%2C%204.88%5D%2C%20%5B46.31858%2C%206.96548%2C%205.0%5D%2C%20%5B46.31821%2C%206.9643%2C%204.5%5D%2C%20%5B46.31679%2C%206.96583%2C%205.0%5D%2C%20%5B46.31825%2C%206.96622%2C%204.776940514224839%5D%2C%20%5B46.31833%2C%206.96613%2C%205.0%5D%2C%20%5B46.3178%2C%206.9646%2C%203.0%5D%2C%20%5B46.31635%2C%206.96599%2C%205.0%5D%2C%20%5B46.31743%2C%206.96524%2C%205.0%5D%2C%20%5B46.31626%2C%206.96603%2C%204.5%5D%2C%20%5B46.31844%2C%206.9649%2C%204.5%5D%2C%20%5B46.31828%2C%206.96564%2C%204.33%5D%2C%20%5B46.31638%2C%206.9657%2C%204.78%5D%2C%20%5B46.31743%2C%206.96524%2C%204.71%5D%2C%20%5B46.31644%2C%206.96568%2C%205.0%5D%2C%20%5B46.31743%2C%206.96524%2C%204.92%5D%2C%20%5B46.31848%2C%206.96407%2C%204.67%5D%2C%20%5B46.31842%2C%206.96573%2C%204.776940514224839%5D%2C%20%5B46.59841%2C%206.75781%2C%205.0%5D%2C%20%5B46.77308%2C%206.6524%2C%204.67%5D%2C%20%5B46.52802%2C%206.61103%2C%204.776940514224839%5D%2C%20%5B46.90617%2C%206.9912%2C%204.6%5D%2C%20%5B46.66896%2C%206.32462%2C%204.776940514224839%5D%2C%20%5B46.3184%2C%206.96438%2C%204.78%5D%2C%20%5B46.31658%2C%206.96582%2C%205.0%5D%2C%20%5B46.52165%2C%206.63391%2C%204.95%5D%2C%20%5B46.3884%2C%206.22042%2C%205.0%5D%2C%20%5B46.31718%2C%206.96567%2C%204.77%5D%2C%20%5B46.47677%2C%206.84564%2C%204.81%5D%2C%20%5B46.38421%2C%206.23434%2C%205.0%5D%2C%20%5B46.48698%2C%206.76181%2C%204.87%5D%2C%20%5B46.51503%2C%206.62801%2C%204.776940514224839%5D%2C%20%5B46.44466%2C%206.89225%2C%204.776940514224839%5D%2C%20%5B46.47828%2C%206.82112%2C%204.776940514224839%5D%2C%20%5B46.50139%2C%206.68954%2C%205.0%5D%2C%20%5B46.51195%2C%206.62925%2C%205.0%5D%2C%20%5B46.46618%2C%206.356%2C%204.9%5D%2C%20%5B46.52742%2C%206.61236%2C%204.63%5D%2C%20%5B46.41457%2C%206.28003%2C%204.0%5D%2C%20%5B46.74309%2C%206.61181%2C%204.67%5D%2C%20%5B46.51507%2C%206.63712%2C%205.0%5D%2C%20%5B46.43516%2C%206.92528%2C%204.96%5D%2C%20%5B46.53064%2C%206.62705%2C%204.5%5D%2C%20%5B46.92207%2C%207.0223%2C%204.5%5D%2C%20%5B46.54297%2C%206.65678%2C%205.0%5D%2C%20%5B46.54253%2C%206.65685%2C%205.0%5D%2C%20%5B46.78237%2C%206.63664%2C%205.0%5D%2C%20%5B46.29963%2C%207.04091%2C%204.9%5D%2C%20%5B46.53318%2C%206.60447%2C%204.57%5D%2C%20%5B46.90618%2C%206.98902%2C%204.9%5D%2C%20%5B46.90629%2C%206.98968%2C%204.71%5D%2C%20%5B46.54897%2C%206.62885%2C%205.0%5D%2C%20%5B46.48033%2C%206.79163%2C%204.776940514224839%5D%2C%20%5B46.47226%2C%206.83541%2C%205.0%5D%2C%20%5B46.54305%2C%206.65705%2C%204.776940514224839%5D%2C%20%5B46.51513%2C%206.61914%2C%204.9%5D%2C%20%5B46.38386%2C%206.23401%2C%205.0%5D%2C%20%5B46.31624%2C%206.96499%2C%204.25%5D%2C%20%5B46.52821%2C%206.65368%2C%203.0%5D%2C%20%5B46.21858%2C%207.01805%2C%204.79%5D%2C%20%5B46.52774%2C%206.70332%2C%204.71%5D%2C%20%5B46.54854%2C%206.67509%2C%204.44%5D%2C%20%5B46.51678%2C%206.70353%2C%205.0%5D%2C%20%5B46.51731%2C%206.61555%2C%204.776940514224839%5D%2C%20%5B46.50893%2C%206.62507%2C%205.0%5D%2C%20%5B46.53117%2C%206.5857%2C%205.0%5D%2C%20%5B46.31798%2C%206.9655%2C%204.86%5D%2C%20%5B46.31719%2C%206.96635%2C%203.0%5D%2C%20%5B46.31711%2C%206.96429%2C%204.776940514224839%5D%2C%20%5B46.31671%2C%206.96498%2C%205.0%5D%2C%20%5B46.31685%2C%206.96595%2C%205.0%5D%2C%20%5B46.31743%2C%206.96524%2C%205.0%5D%2C%20%5B46.31796%2C%206.96422%2C%205.0%5D%2C%20%5B46.69487%2C%206.51939%2C%204.776940514224839%5D%2C%20%5B46.49332%2C%206.73716%2C%204.94%5D%2C%20%5B46.55071%2C%206.70115%2C%204.776940514224839%5D%2C%20%5B46.42737%2C%206.26412%2C%204.5%5D%2C%20%5B46.52341%2C%206.63906%2C%205.0%5D%2C%20%5B46.54315%2C%206.6614%2C%204.776940514224839%5D%2C%20%5B46.5528%2C%206.68134%2C%204.776940514224839%5D%2C%20%5B46.52286%2C%206.64466%2C%205.0%5D%2C%20%5B46.51205%2C%206.64091%2C%204.75%5D%2C%20%5B46.38096%2C%206.24112%2C%205.0%5D%2C%20%5B46.34428%2C%207.00479%2C%204.776940514224839%5D%2C%20%5B46.53034%2C%206.62676%2C%204.75%5D%2C%20%5B46.55515%2C%206.68731%2C%203.0%5D%2C%20%5B46.55546%2C%206.68768%2C%204.776940514224839%5D%2C%20%5B46.55518%2C%206.68872%2C%204.776940514224839%5D%2C%20%5B46.50762%2C%206.671%2C%204.776940514224839%5D%2C%20%5B46.51239%2C%206.63849%2C%204.776940514224839%5D%2C%20%5B46.47215%2C%207.11959%2C%205.0%5D%2C%20%5B46.50993%2C%206.62507%2C%204.91%5D%2C%20%5B46.93036%2C%207.04504%2C%205.0%5D%2C%20%5B46.43016%2C%206.91331%2C%205.0%5D%2C%20%5B46.54363%2C%206.64364%2C%204.67%5D%2C%20%5B46.77893%2C%206.64072%2C%205.0%5D%2C%20%5B46.92825%2C%207.03484%2C%205.0%5D%2C%20%5B46.308208%2C%207.060898%2C%205.0%5D%2C%20%5B46.52216%2C%206.61894%2C%204.5%5D%2C%20%5B46.35556%2C%207.15907%2C%204.94%5D%2C%20%5B46.49926%2C%206.71776%2C%205.0%5D%2C%20%5B46.52642%2C%206.62485%2C%204.776940514224839%5D%2C%20%5B46.36104%2C%206.21214%2C%204.0%5D%2C%20%5B46.55528%2C%206.37301%2C%205.0%5D%2C%20%5B46.5117%2C%206.62774%2C%205.0%5D%2C%20%5B46.51964%2C%206.61472%2C%204.71%5D%2C%20%5B46.51662%2C%206.63157%2C%205.0%5D%2C%20%5B46.50968%2C%206.67042%2C%204.0%5D%2C%20%5B46.50816%2C%206.67195%2C%204.14%5D%2C%20%5B46.50947%2C%206.67201%2C%204.0%5D%2C%20%5B46.5082%2C%206.67069%2C%204.776940514224839%5D%2C%20%5B46.509%2C%206.67025%2C%204.776940514224839%5D%2C%20%5B46.51321%2C%206.48959%2C%204.776940514224839%5D%2C%20%5B46.30948%2C%207.06033%2C%204.776940514224839%5D%2C%20%5B46.51901%2C%206.62827%2C%205.0%5D%2C%20%5B46.31009%2C%207.06076%2C%204.82%5D%2C%20%5B46.54988%2C%206.67286%2C%204.65%5D%2C%20%5B46.56113%2C%206.68149%2C%204.85%5D%2C%20%5B46.45513%2C%206.86242%2C%204.78%5D%2C%20%5B46.54445%2C%206.64366%2C%204.29%5D%2C%20%5B46.30311%2C%207.05155%2C%204.75%5D%2C%20%5B46.5471%2C%206.55401%2C%205.0%5D%2C%20%5B46.52636%2C%206.70128%2C%204.5%5D%2C%20%5B46.90594%2C%207.07572%2C%204.8%5D%2C%20%5B46.53841%2C%206.54408%2C%204.87%5D%2C%20%5B46.39166%2C%206.23071%2C%204.43%5D%2C%20%5B46.39334%2C%206.23247%2C%204.73%5D%2C%20%5B46.51306%2C%206.50029%2C%205.0%5D%2C%20%5B46.49297%2C%206.71336%2C%204.92%5D%2C%20%5B46.44305%2C%206.8895%2C%204.75%5D%2C%20%5B46.51692%2C%206.63153%2C%204.33%5D%2C%20%5B46.34219%2C%207.01166%2C%204.776940514224839%5D%2C%20%5B46.30084%2C%207.05497%2C%205.0%5D%2C%20%5B46.53269%2C%206.61527%2C%204.776940514224839%5D%2C%20%5B46.47143%2C%206.33491%2C%204.8%5D%2C%20%5B46.2962%2C%207.05522%2C%205.0%5D%2C%20%5B46.53066%2C%206.6365%2C%205.0%5D%2C%20%5B46.38887%2C%206.22462%2C%205.0%5D%2C%20%5B46.45917%2C%206.86783%2C%204.76%5D%2C%20%5B46.48131%2C%206.78082%2C%204.88%5D%2C%20%5B46.44169%2C%206.90309%2C%205.0%5D%2C%20%5B46.35604%2C%207.15257%2C%205.0%5D%2C%20%5B46.5162%2C%206.62041%2C%204.776940514224839%5D%2C%20%5B46.51392%2C%206.66065%2C%205.0%5D%2C%20%5B46.54075%2C%206.59854%2C%204.66%5D%2C%20%5B46.29647%2C%207.03958%2C%204.4%5D%2C%20%5B46.29622%2C%207.04025%2C%204.71%5D%2C%20%5B46.29741%2C%207.03818%2C%204.4%5D%2C%20%5B46.55124%2C%206.5731%2C%204.0%5D%2C%20%5B46.55018%2C%206.67315%2C%204.36%5D%2C%20%5B46.43085%2C%206.91268%2C%205.0%5D%2C%20%5B46.54589%2C%206.64651%2C%204.776940514224839%5D%2C%20%5B46.54965%2C%206.67293%2C%204.56%5D%2C%20%5B46.57838%2C%206.55184%2C%205.0%5D%2C%20%5B46.3526%2C%207.15451%2C%205.0%5D%2C%20%5B46.35184%2C%207.15413%2C%205.0%5D%2C%20%5B46.38397%2C%206.23669%2C%204.776940514224839%5D%2C%20%5B46.4757%2C%207.13262%2C%205.0%5D%2C%20%5B46.52459%2C%206.62246%2C%204.87%5D%2C%20%5B46.47409%2C%207.11854%2C%205.0%5D%2C%20%5B46.88774%2C%206.89937%2C%204.96%5D%2C%20%5B46.35065%2C%207.17414%2C%204.776940514224839%5D%2C%20%5B46.41083%2C%206.17827%2C%204.776940514224839%5D%2C%20%5B46.91645%2C%207.02515%2C%205.0%5D%2C%20%5B46.3446%2C%207.00563%2C%205.0%5D%2C%20%5B46.28294%2C%207.07289%2C%204.88%5D%2C%20%5B46.51643%2C%206.5184%2C%204.776940514224839%5D%2C%20%5B46.51436%2C%206.63947%2C%204.67%5D%2C%20%5B46.43281%2C%206.9159%2C%204.83%5D%2C%20%5B46.27684%2C%207.01452%2C%205.0%5D%2C%20%5B46.30096%2C%207.05623%2C%205.0%5D%2C%20%5B46.44077%2C%207.12956%2C%204.776940514224839%5D%2C%20%5B46.5174%2C%206.64782%2C%204.776940514224839%5D%2C%20%5B46.4467%2C%206.16137%2C%204.75%5D%2C%20%5B46.52387%2C%206.62519%2C%204.776940514224839%5D%2C%20%5B46.5192%2C%206.63675%2C%204.776940514224839%5D%2C%20%5B46.51493%2C%206.63845%2C%205.0%5D%2C%20%5B46.29826%2C%207.03907%2C%205.0%5D%2C%20%5B46.51629%2C%206.61685%2C%205.0%5D%2C%20%5B46.61793%2C%206.24094%2C%205.0%5D%2C%20%5B46.51164%2C%206.62758%2C%204.776940514224839%5D%2C%20%5B46.52689%2C%206.62208%2C%204.64%5D%2C%20%5B46.5258%2C%206.63703%2C%204.7%5D%2C%20%5B46.42125%2C%206.92527%2C%205.0%5D%2C%20%5B46.5177%2C%206.60463%2C%204.73%5D%2C%20%5B46.53802%2C%206.58158%2C%205.0%5D%2C%20%5B46.54096%2C%206.57117%2C%204.776940514224839%5D%2C%20%5B46.54086%2C%206.57218%2C%203.67%5D%2C%20%5B46.54557%2C%206.63053%2C%204.75%5D%2C%20%5B46.54576%2C%206.63188%2C%204.776940514224839%5D%2C%20%5B46.59146%2C%206.62437%2C%204.82%5D%2C%20%5B46.53152%2C%206.62412%2C%205.0%5D%2C%20%5B46.53113%2C%206.61756%2C%204.5%5D%2C%20%5B46.34778%2C%207.14337%2C%204.43%5D%2C%20%5B46.53494%2C%206.64766%2C%204.776940514224839%5D%2C%20%5B46.54041%2C%206.63369%2C%204.6%5D%2C%20%5B46.31039%2C%207.06016%2C%204.75%5D%2C%20%5B46.43724%2C%206.90871%2C%205.0%5D%2C%20%5B46.60113%2C%206.67697%2C%205.0%5D%2C%20%5B46.29635%2C%207.03929%2C%205.0%5D%2C%20%5B46.39256%2C%206.20357%2C%205.0%5D%2C%20%5B46.51628%2C%206.62457%2C%205.0%5D%2C%20%5B46.28076%2C%207.07251%2C%204.776940514224839%5D%2C%20%5B46.48687%2C%206.41985%2C%204.75%5D%2C%20%5B46.52796%2C%206.62193%2C%204.88%5D%2C%20%5B46.51629%2C%206.64377%2C%205.0%5D%2C%20%5B46.52943%2C%206.57229%2C%205.0%5D%2C%20%5B46.51678%2C%206.64351%2C%204.776940514224839%5D%2C%20%5B46.51594%2C%206.64533%2C%204.75%5D%2C%20%5B46.53633%2C%206.61026%2C%205.0%5D%2C%20%5B46.53443%2C%206.60994%2C%204.4%5D%2C%20%5B46.47256%2C%206.42803%2C%204.776940514224839%5D%2C%20%5B46.44301%2C%206.8905%2C%204.776940514224839%5D%2C%20%5B46.44142%2C%206.89064%2C%205.0%5D%2C%20%5B46.53626%2C%206.61012%2C%204.0%5D%2C%20%5B46.2914%2C%206.97739%2C%204.78%5D%2C%20%5B46.56093%2C%206.68246%2C%204.45%5D%2C%20%5B46.53901%2C%206.57107%2C%204.776940514224839%5D%2C%20%5B46.53966%2C%206.57093%2C%205.0%5D%2C%20%5B46.54625%2C%206.62824%2C%205.0%5D%2C%20%5B46.45014%2C%206.89901%2C%204.94%5D%2C%20%5B46.31702%2C%206.96459%2C%204.5%5D%2C%20%5B46.31818%2C%206.96425%2C%204.8%5D%2C%20%5B46.3171%2C%206.96622%2C%201.0%5D%2C%20%5B46.3184%2C%206.96554%2C%204.776940514224839%5D%2C%20%5B46.31643%2C%206.96502%2C%204.776940514224839%5D%2C%20%5B46.31785%2C%206.96428%2C%205.0%5D%2C%20%5B46.31765%2C%206.96482%2C%204.776940514224839%5D%2C%20%5B46.31764%2C%206.96589%2C%205.0%5D%2C%20%5B46.3178%2C%206.96557%2C%204.776940514224839%5D%2C%20%5B46.31822%2C%206.96595%2C%204.776940514224839%5D%2C%20%5B46.31829%2C%206.96597%2C%204.0%5D%2C%20%5B46.31789%2C%206.96475%2C%205.0%5D%2C%20%5B46.31692%2C%206.96463%2C%205.0%5D%2C%20%5B46.31682%2C%206.96546%2C%204.33%5D%2C%20%5B46.31858%2C%206.96501%2C%204.75%5D%2C%20%5B46.31654%2C%206.96637%2C%205.0%5D%2C%20%5B46.31713%2C%206.96453%2C%205.0%5D%2C%20%5B46.31763%2C%206.96434%2C%204.67%5D%2C%20%5B46.29389%2C%207.05362%2C%204.776940514224839%5D%2C%20%5B46.55951%2C%206.68149%2C%204.5%5D%2C%20%5B46.53687%2C%206.62056%2C%205.0%5D%2C%20%5B46.53361%2C%206.64832%2C%204.71%5D%2C%20%5B46.51598%2C%206.6241%2C%204.776940514224839%5D%2C%20%5B46.52258%2C%206.61889%2C%204.78%5D%2C%20%5B46.517%2C%206.65507%2C%204.776940514224839%5D%2C%20%5B46.59165%2C%206.62521%2C%204.88%5D%2C%20%5B46.54915%2C%206.54801%2C%205.0%5D%2C%20%5B46.51729%2C%206.60797%2C%204.776940514224839%5D%2C%20%5B46.34762%2C%207.00437%2C%204.82%5D%2C%20%5B46.52642%2C%206.62718%2C%204.81%5D%2C%20%5B46.5282%2C%206.62763%2C%205.0%5D%2C%20%5B46.29971%2C%207.04109%2C%204.776940514224839%5D%2C%20%5B46.54201%2C%206.64141%2C%204.33%5D%2C%20%5B46.27311%2C%207.02675%2C%205.0%5D%2C%20%5B46.53287%2C%206.6462%2C%205.0%5D%2C%20%5B46.4975%2C%206.724%2C%204.776940514224839%5D%2C%20%5B46.50581%2C%206.68322%2C%204.92%5D%2C%20%5B46.35037%2C%207.15703%2C%205.0%5D%2C%20%5B46.51059%2C%206.64821%2C%204.776940514224839%5D%2C%20%5B46.52759%2C%206.62813%2C%204.78%5D%2C%20%5B46.52607%2C%206.63789%2C%205.0%5D%2C%20%5B46.77044%2C%206.68681%2C%204.83%5D%2C%20%5B46.44417%2C%206.90768%2C%203.5%5D%2C%20%5B46.39582%2C%207.10235%2C%205.0%5D%2C%20%5B46.43552%2C%206.9567%2C%204.75%5D%2C%20%5B46.21069%2C%207.03831%2C%204.72%5D%2C%20%5B46.51681%2C%206.49571%2C%204.776940514224839%5D%2C%20%5B46.52609%2C%206.63213%2C%204.776940514224839%5D%2C%20%5B46.52741%2C%206.61878%2C%203.0%5D%2C%20%5B46.53367%2C%206.60148%2C%204.8%5D%2C%20%5B46.41002%2C%206.23496%2C%204.83%5D%2C%20%5B46.30205%2C%207.04137%2C%204.776940514224839%5D%2C%20%5B46.52587%2C%206.63626%2C%204.63%5D%2C%20%5B46.35066%2C%207.16563%2C%204.91%5D%2C%20%5B46.44031%2C%207.12974%2C%204.79%5D%2C%20%5B46.44638%2C%206.15761%2C%204.82%5D%2C%20%5B46.38227%2C%206.23713%2C%205.0%5D%2C%20%5B46.47184%2C%207.12521%2C%204.63%5D%2C%20%5B46.28764%2C%207.08172%2C%205.0%5D%2C%20%5B46.34752%2C%207.01597%2C%204.0%5D%2C%20%5B46.511%2C%206.6336%2C%204.82%5D%2C%20%5B46.34957%2C%207.17424%2C%205.0%5D%2C%20%5B46.51332%2C%206.62723%2C%204.93%5D%2C%20%5B46.44215%2C%206.88826%2C%204.776940514224839%5D%2C%20%5B46.29842%2C%207.03729%2C%204.0%5D%2C%20%5B46.34113%2C%207.0064%2C%205.0%5D%2C%20%5B46.29966%2C%207.05384%2C%204.5%5D%2C%20%5B46.70377%2C%206.83711%2C%204.33%5D%2C%20%5B46.25666%2C%207.00019%2C%205.0%5D%2C%20%5B46.29475%2C%207.05289%2C%204.86%5D%2C%20%5B46.42125%2C%206.92527%2C%205.0%5D%2C%20%5B46.52453%2C%206.63742%2C%205.0%5D%2C%20%5B46.29901%2C%207.03742%2C%204.75%5D%2C%20%5B46.49877%2C%206.87293%2C%205.0%5D%2C%20%5B46.5153%2C%206.62602%2C%205.0%5D%2C%20%5B46.47784%2C%206.8239%2C%204.776940514224839%5D%2C%20%5B46.28249%2C%207.08541%2C%204.776940514224839%5D%2C%20%5B46.52821%2C%206.54174%2C%204.776940514224839%5D%2C%20%5B46.52854%2C%206.54144%2C%204.5%5D%2C%20%5B46.28713%2C%207.09768%2C%204.5%5D%2C%20%5B46.79131%2C%206.6346%2C%205.0%5D%2C%20%5B46.49308%2C%206.25817%2C%204.89%5D%2C%20%5B46.39275%2C%206.23166%2C%205.0%5D%2C%20%5B46.53832%2C%206.596%2C%203.0%5D%2C%20%5B46.29714%2C%207.06436%2C%204.75%5D%2C%20%5B46.43181%2C%206.91205%2C%204.776940514224839%5D%2C%20%5B46.47224%2C%207.12682%2C%204.91%5D%2C%20%5B46.34242%2C%207.01627%2C%204.71%5D%2C%20%5B46.76985%2C%206.63003%2C%204.38%5D%2C%20%5B46.58039%2C%206.20675%2C%204.776940514224839%5D%2C%20%5B46.6064%2C%206.23006%2C%204.65%5D%2C%20%5B46.42975%2C%206.91217%2C%205.0%5D%2C%20%5B46.47044%2C%207.12511%2C%204.64%5D%2C%20%5B46.42291%2C%206.92469%2C%204.776940514224839%5D%2C%20%5B46.51474%2C%206.70478%2C%204.776940514224839%5D%2C%20%5B46.33866%2C%207.00843%2C%204.73%5D%2C%20%5B46.42412%2C%206.92447%2C%205.0%5D%2C%20%5B46.53316%2C%206.64814%2C%204.776940514224839%5D%2C%20%5B46.53473%2C%206.64705%2C%204.776940514224839%5D%2C%20%5B46.53483%2C%206.64807%2C%205.0%5D%2C%20%5B46.53315%2C%206.64619%2C%204.776940514224839%5D%2C%20%5B46.53517%2C%206.6476%2C%204.776940514224839%5D%2C%20%5B46.53491%2C%206.64677%2C%204.67%5D%2C%20%5B46.53499%2C%206.64715%2C%205.0%5D%2C%20%5B46.53439%2C%206.64682%2C%204.776940514224839%5D%2C%20%5B46.53313%2C%206.64804%2C%204.0%5D%2C%20%5B46.349%2C%207.15763%2C%204.83%5D%2C%20%5B46.53445%2C%206.64665%2C%204.0%5D%2C%20%5B46.53472%2C%206.64635%2C%204.0%5D%2C%20%5B46.5346%2C%206.64841%2C%204.776940514224839%5D%2C%20%5B46.5343%2C%206.64712%2C%204.776940514224839%5D%2C%20%5B46.53317%2C%206.64707%2C%202.0%5D%2C%20%5B46.53331%2C%206.64842%2C%204.776940514224839%5D%2C%20%5B46.53285%2C%206.64812%2C%204.776940514224839%5D%2C%20%5B46.53439%2C%206.64795%2C%205.0%5D%2C%20%5B46.53367%2C%206.64626%2C%204.776940514224839%5D%2C%20%5B46.5336%2C%206.64791%2C%204.776940514224839%5D%2C%20%5B46.53435%2C%206.64707%2C%204.776940514224839%5D%2C%20%5B46.5347%2C%206.64826%2C%204.776940514224839%5D%2C%20%5B46.53437%2C%206.64659%2C%202.0%5D%2C%20%5B46.51914%2C%206.57354%2C%205.0%5D%2C%20%5B46.54923%2C%206.6285%2C%204.776940514224839%5D%2C%20%5B46.52324%2C%206.60369%2C%204.776940514224839%5D%2C%20%5B46.53827%2C%206.58187%2C%205.0%5D%2C%20%5B46.45032%2C%206.16703%2C%204.776940514224839%5D%2C%20%5B46.53861%2C%206.59613%2C%204.71%5D%2C%20%5B46.52341%2C%206.56549%2C%204.776940514224839%5D%2C%20%5B46.26966%2C%207.01335%2C%204.83%5D%2C%20%5B46.29797%2C%207.04147%2C%205.0%5D%2C%20%5B46.51679%2C%206.64795%2C%204.776940514224839%5D%2C%20%5B46.5602%2C%206.78216%2C%204.69%5D%2C%20%5B46.47976%2C%206.79203%2C%201.0%5D%2C%20%5B46.46362%2C%206.33554%2C%204.776940514224839%5D%2C%20%5B46.46381%2C%206.33611%2C%204.776940514224839%5D%2C%20%5B46.50977%2C%206.49626%2C%205.0%5D%2C%20%5B46.53622%2C%206.59528%2C%204.0%5D%2C%20%5B46.66623%2C%206.32919%2C%204.83%5D%2C%20%5B46.47002%2C%207.16074%2C%204.85%5D%2C%20%5B46.28958%2C%207.09461%2C%205.0%5D%2C%20%5B46.29985%2C%207.05676%2C%205.0%5D%2C%20%5B46.52049%2C%206.65788%2C%204.0%5D%2C%20%5B46.34298%2C%207.01359%2C%205.0%5D%2C%20%5B46.28371%2C%207.08635%2C%204.8%5D%2C%20%5B46.51589%2C%206.61643%2C%205.0%5D%2C%20%5B46.47267%2C%206.32654%2C%204.92%5D%2C%20%5B46.47381%2C%206.32725%2C%204.88%5D%2C%20%5B46.38634%2C%206.22831%2C%204.77%5D%2C%20%5B46.51665%2C%206.64293%2C%204.776940514224839%5D%2C%20%5B46.4732%2C%206.42694%2C%204.776940514224839%5D%2C%20%5B46.50694%2C%206.66812%2C%204.776940514224839%5D%2C%20%5B46.51729%2C%206.6144%2C%204.8%5D%2C%20%5B46.53406%2C%206.64944%2C%204.776940514224839%5D%2C%20%5B46.47416%2C%206.83711%2C%205.0%5D%2C%20%5B46.33823%2C%207.00512%2C%205.0%5D%2C%20%5B46.82919%2C%206.95812%2C%204.6%5D%2C%20%5B46.58408%2C%206.60458%2C%205.0%5D%2C%20%5B46.30925%2C%207.06048%2C%204.5%5D%2C%20%5B46.51635%2C%206.66109%2C%205.0%5D%2C%20%5B46.5161%2C%206.62985%2C%204.66%5D%2C%20%5B46.52047%2C%206.63682%2C%204.92%5D%2C%20%5B46.39222%2C%206.2319%2C%204.77%5D%2C%20%5B46.55904%2C%206.67907%2C%205.0%5D%2C%20%5B46.38276%2C%206.23254%2C%204.25%5D%2C%20%5B46.53751%2C%206.59608%2C%205.0%5D%2C%20%5B46.2924%2C%207.06109%2C%204.776940514224839%5D%2C%20%5B46.29352%2C%207.06258%2C%204.776940514224839%5D%2C%20%5B46.29273%2C%207.06151%2C%204.776940514224839%5D%2C%20%5B46.29245%2C%207.0614%2C%204.776940514224839%5D%2C%20%5B46.29404%2C%207.06181%2C%204.776940514224839%5D%2C%20%5B46.29268%2C%207.06227%2C%204.776940514224839%5D%2C%20%5B46.29275%2C%207.06182%2C%204.776940514224839%5D%2C%20%5B46.29436%2C%207.06094%2C%204.776940514224839%5D%2C%20%5B46.29261%2C%207.06134%2C%204.776940514224839%5D%2C%20%5B46.29391%2C%207.06165%2C%204.776940514224839%5D%2C%20%5B46.29239%2C%207.06249%2C%204.776940514224839%5D%2C%20%5B46.29237%2C%207.06155%2C%204.776940514224839%5D%2C%20%5B46.29224%2C%207.06308%2C%204.776940514224839%5D%2C%20%5B46.29281%2C%207.06152%2C%204.776940514224839%5D%2C%20%5B46.52468%2C%206.62901%2C%204.97%5D%2C%20%5B46.52476%2C%206.62312%2C%204.84%5D%2C%20%5B46.53226%2C%206.59877%2C%204.8%5D%2C%20%5B46.5602%2C%206.68286%2C%204.21%5D%2C%20%5B46.35428%2C%207.00825%2C%205.0%5D%2C%20%5B46.88768%2C%206.90551%2C%204.69%5D%2C%20%5B46.45434%2C%206.85498%2C%205.0%5D%2C%20%5B46.47215%2C%206.89746%2C%204.82%5D%2C%20%5B46.54843%2C%206.67337%2C%204.44%5D%2C%20%5B46.487591%2C%207.201514%2C%205.0%5D%2C%20%5B46.53849%2C%206.58175%2C%205.0%5D%2C%20%5B46.52942%2C%206.63167%2C%204.776940514224839%5D%2C%20%5B46.35407%2C%207.15211%2C%205.0%5D%2C%20%5B46.81594%2C%206.92971%2C%204.776940514224839%5D%2C%20%5B46.81585%2C%206.92783%2C%204.776940514224839%5D%2C%20%5B46.55764%2C%206.67938%2C%204.75%5D%2C%20%5B46.53984%2C%206.62946%2C%204.72%5D%2C%20%5B46.52248%2C%206.63748%2C%201.0%5D%2C%20%5B46.41015%2C%206.2361%2C%205.0%5D%2C%20%5B46.51941%2C%206.63859%2C%205.0%5D%2C%20%5B46.4493%2C%206.866%2C%204.776940514224839%5D%2C%20%5B46.46088%2C%206.85145%2C%205.0%5D%2C%20%5B46.51167%2C%206.63693%2C%204.776940514224839%5D%2C%20%5B46.6011%2C%206.68111%2C%204.0%5D%2C%20%5B46.51433%2C%206.62648%2C%205.0%5D%2C%20%5B46.28101%2C%207.07073%2C%204.776940514224839%5D%2C%20%5B46.5182%2C%206.63095%2C%205.0%5D%2C%20%5B46.80082%2C%206.62728%2C%204.75%5D%2C%20%5B46.41087%2C%206.23418%2C%204.776940514224839%5D%2C%20%5B46.50308%2C%206.68548%2C%204.776940514224839%5D%2C%20%5B46.29034%2C%207.09643%2C%204.776940514224839%5D%2C%20%5B46.52217%2C%206.64052%2C%204.88%5D%2C%20%5B46.34106%2C%207.01211%2C%205.0%5D%2C%20%5B46.454%2C%206.90874%2C%204.45%5D%2C%20%5B46.4899%2C%207.20828%2C%204.776940514224839%5D%2C%20%5B46.51363%2C%206.69144%2C%205.0%5D%2C%20%5B46.49069%2C%207.20779%2C%205.0%5D%2C%20%5B46.73756%2C%206.64217%2C%204.83%5D%2C%20%5B46.49096%2C%207.20703%2C%205.0%5D%2C%20%5B46.49045%2C%206.73986%2C%204.776940514224839%5D%2C%20%5B46.46112%2C%206.84181%2C%205.0%5D%2C%20%5B46.48239%2C%206.83694%2C%204.5%5D%2C%20%5B46.47119%2C%207.12618%2C%204.776940514224839%5D%2C%20%5B46.28543%2C%207.07853%2C%204.67%5D%2C%20%5B46.28678%2C%207.07443%2C%204.776940514224839%5D%2C%20%5B46.29915%2C%207.05536%2C%205.0%5D%2C%20%5B46.30623%2C%207.05858%2C%204.776940514224839%5D%2C%20%5B46.28262%2C%207.07455%2C%204.776940514224839%5D%2C%20%5B46.29938%2C%207.04475%2C%204.776940514224839%5D%2C%20%5B46.5405%2C%206.58638%2C%204.776940514224839%5D%2C%20%5B46.42168%2C%206.92905%2C%205.0%5D%2C%20%5B46.48383%2C%206.41835%2C%204.6%5D%2C%20%5B46.35328%2C%207.02437%2C%204.776940514224839%5D%2C%20%5B46.43275%2C%206.91051%2C%205.0%5D%2C%20%5B46.29989%2C%207.05286%2C%205.0%5D%2C%20%5B46.223274%2C%207.014244%2C%204.776940514224839%5D%2C%20%5B46.51227%2C%206.63437%2C%205.0%5D%2C%20%5B46.51204%2C%206.63498%2C%205.0%5D%2C%20%5B46.42978%2C%206.91084%2C%205.0%5D%2C%20%5B46.52396%2C%206.62462%2C%204.74%5D%2C%20%5B46.52764%2C%206.63171%2C%204.0%5D%2C%20%5B46.52662%2C%206.611%2C%204.4%5D%2C%20%5B46.94136%2C%206.99884%2C%204.32%5D%2C%20%5B46.9401%2C%206.9986%2C%204.57%5D%2C%20%5B46.44866%2C%206.9062%2C%205.0%5D%2C%20%5B46.53537%2C%206.65291%2C%204.776940514224839%5D%2C%20%5B46.5129%2C%206.62701%2C%205.0%5D%2C%20%5B46.53334%2C%206.69321%2C%204.9%5D%2C%20%5B46.54956%2C%206.67289%2C%204.2%5D%2C%20%5B46.55921%2C%206.59736%2C%205.0%5D%2C%20%5B46.52802%2C%206.64459%2C%204.71%5D%2C%20%5B46.79736%2C%206.74908%2C%204.6%5D%2C%20%5B46.43476%2C%206.91002%2C%205.0%5D%2C%20%5B46.51434%2C%206.63794%2C%204.74%5D%2C%20%5B46.34689%2C%206.19269%2C%205.0%5D%2C%20%5B46.47581%2C%207.13275%2C%204.0%5D%2C%20%5B46.92818%2C%207.03194%2C%204.87%5D%2C%20%5B46.66107%2C%206.60868%2C%205.0%5D%2C%20%5B46.52589%2C%206.63664%2C%204.83%5D%2C%20%5B46.39446%2C%207.09743%2C%204.776940514224839%5D%2C%20%5B46.51545%2C%206.68209%2C%205.0%5D%2C%20%5B46.77195%2C%206.91615%2C%204.8%5D%2C%20%5B46.54566%2C%206.55474%2C%204.776940514224839%5D%2C%20%5B46.71605%2C%206.41514%2C%204.47%5D%2C%20%5B46.52111%2C%206.60214%2C%205.0%5D%2C%20%5B46.30219%2C%207.05059%2C%204.71%5D%2C%20%5B46.54516%2C%206.55435%2C%204.776940514224839%5D%2C%20%5B46.94179%2C%206.99895%2C%204.33%5D%2C%20%5B46.42731%2C%206.92209%2C%204.78%5D%2C%20%5B46.50479%2C%206.71167%2C%204.776940514224839%5D%2C%20%5B46.44227%2C%206.8817%2C%204.776940514224839%5D%2C%20%5B46.52592%2C%206.63665%2C%204.25%5D%2C%20%5B46.29708%2C%207.0493%2C%204.776940514224839%5D%2C%20%5B46.52634%2C%206.62649%2C%204.776940514224839%5D%2C%20%5B46.30286%2C%207.05011%2C%204.776940514224839%5D%2C%20%5B46.51086%2C%206.30676%2C%204.776940514224839%5D%2C%20%5B46.930195%2C%207.045325%2C%204.776940514224839%5D%2C%20%5B46.51968%2C%206.69306%2C%204.85%5D%2C%20%5B46.51696%2C%206.63197%2C%205.0%5D%2C%20%5B46.53442%2C%206.58082%2C%204.67%5D%2C%20%5B46.47778%2C%207.14281%2C%205.0%5D%2C%20%5B46.52714%2C%206.62582%2C%203.75%5D%2C%20%5B46.46552%2C%206.35641%2C%205.0%5D%2C%20%5B46.841614%2C%206.575995%2C%204.776940514224839%5D%2C%20%5B46.30257%2C%207.046405%2C%204.776940514224839%5D%2C%20%5B46.28823%2C%207.09712%2C%204.776940514224839%5D%2C%20%5B46.354416%2C%207.170724%2C%204.776940514224839%5D%2C%20%5B46.351101%2C%207.159186%2C%204.776940514224839%5D%2C%20%5B46.294518%2C%207.061647%2C%204.776940514224839%5D%2C%20%5B46.433853%2C%206.926508%2C%204.776940514224839%5D%2C%20%5B46.508469%2C%206.718361%2C%204.776940514224839%5D%2C%20%5B46.29762%2C%207.05847%2C%204.776940514224839%5D%2C%20%5B46.295048%2C%207.061761%2C%204.776940514224839%5D%2C%20%5B46.298428%2C%207.055013%2C%204.776940514224839%5D%2C%20%5B46.300495%2C%207.05532%2C%204.776940514224839%5D%2C%20%5B46.298428%2C%207.055013%2C%204.776940514224839%5D%2C%20%5B46.28772%2C%207.095135%2C%204.776940514224839%5D%2C%20%5B46.35139%2C%207.15806%2C%204.776940514224839%5D%2C%20%5B46.349537%2C%207.157163%2C%204.776940514224839%5D%2C%20%5B46.273918%2C%207.060921%2C%204.776940514224839%5D%2C%20%5B46.285568%2C%207.079227%2C%204.776940514224839%5D%2C%20%5B46.29768%2C%207.05194%2C%204.776940514224839%5D%2C%20%5B46.299854%2C%207.054062%2C%204.776940514224839%5D%2C%20%5B46.298428%2C%207.055013%2C%204.776940514224839%5D%2C%20%5B46.298428%2C%207.055013%2C%204.776940514224839%5D%2C%20%5B46.301929%2C%207.049697%2C%204.776940514224839%5D%2C%20%5B46.30051%2C%207.055312%2C%204.776940514224839%5D%2C%20%5B46.294743%2C%207.060596%2C%204.776940514224839%5D%2C%20%5B46.283089%2C%207.072934%2C%204.776940514224839%5D%2C%20%5B46.301727%2C%207.049994%2C%204.776940514224839%5D%2C%20%5B46.48394%2C%207.218254%2C%204.776940514224839%5D%2C%20%5B46.467674%2C%207.081532%2C%204.776940514224839%5D%2C%20%5B46.467602%2C%207.081636%2C%204.776940514224839%5D%2C%20%5B46.488731%2C%207.203469%2C%204.776940514224839%5D%2C%20%5B46.467609%2C%207.081626%2C%204.776940514224839%5D%2C%20%5B46.467731%2C%207.081427%2C%204.776940514224839%5D%2C%20%5B46.269871%2C%207.048804%2C%204.776940514224839%5D%2C%20%5B46.49627%2C%206.4778%2C%204.776940514224839%5D%2C%20%5B46.43363%2C%206.91341%2C%205.0%5D%2C%20%5B46.57122%2C%206.65303%2C%204.67%5D%2C%20%5B46.77368%2C%206.6658%2C%205.0%5D%2C%20%5B46.94796%2C%207.02722%2C%204.7%5D%2C%20%5B46.8907%2C%206.90096%2C%204.64%5D%2C%20%5B46.54549%2C%206.5164%2C%204.93%5D%2C%20%5B46.530312%2C%206.625934%2C%204.9%5D%2C%20%5B46.51738%2C%206.611%2C%205.0%5D%2C%20%5B46.71693%2C%206.712127%2C%204.94%5D%2C%20%5B46.49082%2C%207.22543%2C%204.56%5D%2C%20%5B46.819504%2C%206.468717%2C%204.776940514224839%5D%2C%20%5B46.49166%2C%207.22467%2C%204.71%5D%2C%20%5B46.49169%2C%207.22642%2C%204.58%5D%2C%20%5B46.52184%2C%206.6394%2C%201.0%5D%2C%20%5B46.50945%2C%206.49632%2C%205.0%5D%2C%20%5B46.50314%2C%206.88254%2C%205.0%5D%2C%20%5B46.71653%2C%206.89809%2C%204.8%5D%2C%20%5B46.71629%2C%206.89669%2C%204.62%5D%2C%20%5B46.71762%2C%206.89941%2C%204.38%5D%2C%20%5B46.47943%2C%206.82513%2C%205.0%5D%2C%20%5B46.54572%2C%206.63105%2C%204.776940514224839%5D%2C%20%5B46.54835%2C%206.67352%2C%204.44%5D%2C%20%5B46.60104%2C%206.61629%2C%204.6%5D%2C%20%5B46.30123%2C%206.98461%2C%204.44%5D%2C%20%5B46.34475%2C%207.00673%2C%205.0%5D%2C%20%5B46.53519%2C%206.54625%2C%204.89%5D%2C%20%5B46.51196%2C%206.63703%2C%205.0%5D%2C%20%5B46.51384%2C%206.6484%2C%205.0%5D%2C%20%5B46.312778%2C%207.198611%2C%204.776940514224839%5D%2C%20%5B46.52311%2C%206.61324%2C%204.776940514224839%5D%2C%20%5B46.52995%2C%206.76856%2C%203.67%5D%2C%20%5B46.53084%2C%206.61658%2C%204.69%5D%2C%20%5B46.53027%2C%206.62574%2C%204.67%5D%2C%20%5B46.51836%2C%206.57148%2C%205.0%5D%2C%20%5B46.290562%2C%207.098122%2C%204.55%5D%2C%20%5B46.92756%2C%207.03075%2C%205.0%5D%2C%20%5B46.34677%2C%207.0129%2C%205.0%5D%2C%20%5B46.72315%2C%206.53163%2C%205.0%5D%2C%20%5B46.50893%2C%206.4673%2C%203.63%5D%2C%20%5B46.5269%2C%206.63799%2C%204.58%5D%2C%20%5B46.450665%2C%206.895899%2C%204.86%5D%2C%20%5B46.53228%2C%206.604%2C%204.776940514224839%5D%2C%20%5B46.51504%2C%206.62189%2C%204.83%5D%2C%20%5B46.52852%2C%206.62576%2C%204.776940514224839%5D%2C%20%5B46.30721%2C%207.06426%2C%205.0%5D%2C%20%5B46.29236%2C%207.02723%2C%204.67%5D%2C%20%5B46.52109%2C%206.63438%2C%205.0%5D%2C%20%5B46.51987%2C%206.63454%2C%205.0%5D%2C%20%5B46.46843%2C%206.25567%2C%204.2%5D%2C%20%5B46.5084%2C%206.62497%2C%205.0%5D%2C%20%5B46.49474%2C%206.47672%2C%204.75%5D%2C%20%5B46.52291%2C%206.64621%2C%205.0%5D%2C%20%5B46.52299%2C%206.6307%2C%205.0%5D%2C%20%5B46.5544%2C%206.62927%2C%204.776940514224839%5D%2C%20%5B46.45336%2C%206.86557%2C%204.776940514224839%5D%2C%20%5B46.44146%2C%206.88796%2C%204.56%5D%2C%20%5B46.7772%2C%206.64044%2C%204.96%5D%2C%20%5B46.747662%2C%206.80667%2C%204.83%5D%2C%20%5B46.490234%2C%206.728752%2C%204.78%5D%2C%20%5B46.51444%2C%206.27422%2C%204.93%5D%2C%20%5B46.51504%2C%206.65437%2C%204.0%5D%2C%20%5B46.49419%2C%206.31564%2C%204.88%5D%2C%20%5B46.2916%2C%207.09131%2C%205.0%5D%2C%20%5B46.52856%2C%206.62735%2C%205.0%5D%2C%20%5B46.5215%2C%206.63311%2C%204.776940514224839%5D%2C%20%5B46.51805%2C%206.7897%2C%205.0%5D%2C%20%5B46.7738%2C%206.65941%2C%205.0%5D%2C%20%5B46.71009%2C%206.57061%2C%204.5%5D%2C%20%5B46.38932%2C%206.22379%2C%204.776940514224839%5D%2C%20%5B46.51312%2C%206.62584%2C%204.71%5D%2C%20%5B46.28852%2C%207.09654%2C%204.776940514224839%5D%2C%20%5B46.90713%2C%207.07602%2C%203.0%5D%2C%20%5B46.71594%2C%206.71309%2C%204.75%5D%2C%20%5B46.52857%2C%206.62715%2C%204.776940514224839%5D%2C%20%5B46.822582%2C%206.503825%2C%204.776940514224839%5D%2C%20%5B46.51233%2C%206.6304%2C%205.0%5D%2C%20%5B46.51653%2C%206.62329%2C%204.8%5D%2C%20%5B46.51923%2C%206.59795%2C%204.88%5D%2C%20%5B46.43339%2C%206.91548%2C%204.776940514224839%5D%2C%20%5B46.53556%2C%206.64657%2C%205.0%5D%2C%20%5B46.47935%2C%206.35533%2C%205.0%5D%2C%20%5B46.47169%2C%207.12472%2C%205.0%5D%2C%20%5B46.48095%2C%206.77733%2C%204.86%5D%2C%20%5B46.54852%2C%206.67357%2C%204.7%5D%2C%20%5B46.51847%2C%206.62584%2C%204.776940514224839%5D%2C%20%5B46.46186%2C%206.8392%2C%205.0%5D%2C%20%5B46.80374%2C%206.72965%2C%204.8%5D%2C%20%5B46.26079%2C%207.03346%2C%204.33%5D%2C%20%5B46.47389%2C%206.8764%2C%205.0%5D%2C%20%5B46.30645%2C%207.05664%2C%204.776940514224839%5D%2C%20%5B46.29214%2C%207.09635%2C%204.776940514224839%5D%2C%20%5B46.52761%2C%206.62612%2C%204.0%5D%2C%20%5B46.38714%2C%206.23099%2C%205.0%5D%2C%20%5B46.47776%2C%206.24213%2C%204.67%5D%2C%20%5B46.48023%2C%206.8417%2C%203.5%5D%2C%20%5B46.92081%2C%207.02377%2C%205.0%5D%2C%20%5B46.4194%2C%206.92751%2C%204.7%5D%2C%20%5B46.44211%2C%206.9009%2C%205.0%5D%2C%20%5B46.53971%2C%206.6294%2C%204.776940514224839%5D%2C%20%5B46.51892%2C%206.62123%2C%204.776940514224839%5D%2C%20%5B46.44382%2C%206.88689%2C%204.0%5D%2C%20%5B46.537426%2C%206.594602%2C%205.0%5D%2C%20%5B46.27541%2C%207.06542%2C%204.79%5D%2C%20%5B46.52493%2C%206.61916%2C%204.776940514224839%5D%2C%20%5B46.84772%2C%206.71615%2C%205.0%5D%2C%20%5B46.50976%2C%206.56128%2C%205.0%5D%2C%20%5B46.51316%2C%206.62613%2C%205.0%5D%2C%20%5B46.52692%2C%206.61985%2C%204.56%5D%2C%20%5B46.52715%2C%206.61987%2C%204.89%5D%2C%20%5B46.53955%2C%206.64167%2C%204.776940514224839%5D%2C%20%5B46.52438%2C%206.62499%2C%204.776940514224839%5D%2C%20%5B46.74941%2C%206.80777%2C%204.67%5D%2C%20%5B46.74935%2C%206.80858%2C%204.64%5D%2C%20%5B46.34496%2C%207.01441%2C%204.776940514224839%5D%2C%20%5B46.74848%2C%206.80745%2C%204.5%5D%2C%20%5B46.53023%2C%206.57293%2C%205.0%5D%2C%20%5B46.45649%2C%206.90718%2C%204.89%5D%2C%20%5B46.50924%2C%206.55893%2C%204.776940514224839%5D%2C%20%5B46.50994%2C%206.55993%2C%204.776940514224839%5D%2C%20%5B46.51049%2C%206.55931%2C%204.776940514224839%5D%2C%20%5B46.50897%2C%206.55932%2C%204.776940514224839%5D%2C%20%5B46.50888%2C%206.55901%2C%204.776940514224839%5D%2C%20%5B46.51036%2C%206.56038%2C%204.776940514224839%5D%2C%20%5B46.50892%2C%206.56044%2C%204.776940514224839%5D%2C%20%5B46.50876%2C%206.56019%2C%204.776940514224839%5D%2C%20%5B46.52843%2C%206.6173%2C%204.75%5D%2C%20%5B46.71743%2C%206.71098%2C%204.86%5D%2C%20%5B46.51739%2C%206.61112%2C%204.68%5D%2C%20%5B46.53997%2C%206.57893%2C%205.0%5D%2C%20%5B46.54169%2C%206.65818%2C%205.0%5D%2C%20%5B46.54187%2C%206.641%2C%205.0%5D%2C%20%5B46.5238%2C%206.62549%2C%205.0%5D%2C%20%5B46.9159%2C%207.03026%2C%205.0%5D%2C%20%5B46.78113%2C%206.63801%2C%205.0%5D%2C%20%5B46.53357%2C%206.60771%2C%204.776940514224839%5D%2C%20%5B46.46212%2C%206.84049%2C%205.0%5D%2C%20%5B46.51992%2C%206.50689%2C%204.776940514224839%5D%2C%20%5B46.52269%2C%206.62777%2C%204.9%5D%2C%20%5B46.56454%2C%206.74299%2C%205.0%5D%2C%20%5B46.48136%2C%206.82595%2C%204.88%5D%2C%20%5B46.39181%2C%206.2435%2C%205.0%5D%2C%20%5B46.55524%2C%206.68406%2C%204.776940514224839%5D%2C%20%5B46.94404%2C%207.02298%2C%204.86%5D%2C%20%5B46.51405%2C%206.62624%2C%204.776940514224839%5D%2C%20%5B46.39668%2C%207.10472%2C%204.776940514224839%5D%2C%20%5B46.48938%2C%207.21109%2C%204.776940514224839%5D%2C%20%5B46.43861%2C%206.30629%2C%205.0%5D%2C%20%5B46.71272%2C%206.72446%2C%204.8%5D%2C%20%5B46.51089%2C%206.68241%2C%204.776940514224839%5D%2C%20%5B46.53305%2C%206.5786%2C%205.0%5D%2C%20%5B46.50996%2C%206.66083%2C%205.0%5D%2C%20%5B46.46398%2C%206.85125%2C%204.6%5D%2C%20%5B46.51975%2C%206.60627%2C%204.56%5D%2C%20%5B46.64689%2C%206.63868%2C%204.776940514224839%5D%2C%20%5B46.53616%2C%206.66477%2C%204.0%5D%2C%20%5B46.42018%2C%206.92563%2C%205.0%5D%2C%20%5B46.52372%2C%206.6384%2C%205.0%5D%2C%20%5B46.53091%2C%206.60931%2C%204.776940514224839%5D%2C%20%5B46.51635%2C%206.61505%2C%205.0%5D%2C%20%5B46.45372%2C%206.85741%2C%205.0%5D%2C%20%5B46.81978%2C%206.93867%2C%205.0%5D%2C%20%5B46.50569%2C%206.67148%2C%205.0%5D%2C%20%5B46.84597%2C%206.70615%2C%204.776940514224839%5D%2C%20%5B46.54892%2C%206.54722%2C%204.83%5D%2C%20%5B46.38744%2C%206.22876%2C%204.776940514224839%5D%2C%20%5B46.52165%2C%206.63514%2C%205.0%5D%2C%20%5B46.43163%2C%206.91427%2C%204.31%5D%2C%20%5B46.47507%2C%207.13339%2C%204.776940514224839%5D%2C%20%5B46.52771%2C%206.62148%2C%204.776940514224839%5D%2C%20%5B46.45139%2C%206.86259%2C%204.776940514224839%5D%2C%20%5B46.53429%2C%206.66321%2C%204.0%5D%2C%20%5B46.39184%2C%206.9268%2C%204.5%5D%2C%20%5B46.28393%2C%207.09609%2C%204.776940514224839%5D%2C%20%5B46.49031%2C%207.20619%2C%204.776940514224839%5D%2C%20%5B46.53323%2C%206.63233%2C%204.75%5D%2C%20%5B46.45575%2C%206.86134%2C%204.776940514224839%5D%2C%20%5B46.46871%2C%206.91683%2C%204.5%5D%2C%20%5B46.52176%2C%206.62647%2C%204.776940514224839%5D%2C%20%5B46.34659%2C%206.19217%2C%204.77%5D%2C%20%5B46.49971%2C%206.70073%2C%205.0%5D%2C%20%5B46.53169%2C%206.51866%2C%204.776940514224839%5D%2C%20%5B46.43166%2C%206.91115%2C%204.96%5D%2C%20%5B46.45419%2C%206.86435%2C%204.25%5D%2C%20%5B46.52278%2C%206.63374%2C%204.776940514224839%5D%2C%20%5B46.51273%2C%206.64319%2C%204.776940514224839%5D%2C%20%5B46.47186%2C%206.84219%2C%204.776940514224839%5D%2C%20%5B46.51298%2C%206.67396%2C%204.83%5D%2C%20%5B46.34151%2C%207.01562%2C%205.0%5D%2C%20%5B46.48998%2C%207.20931%2C%204.776940514224839%5D%2C%20%5B46.47177%2C%207.11923%2C%204.776940514224839%5D%2C%20%5B46.52924%2C%206.63244%2C%204.776940514224839%5D%2C%20%5B46.51283%2C%206.32914%2C%205.0%5D%2C%20%5B46.42127%2C%206.92756%2C%205.0%5D%2C%20%5B46.53041%2C%206.63888%2C%204.57%5D%2C%20%5B46.46905%2C%206.33956%2C%205.0%5D%2C%20%5B46.54511%2C%206.63217%2C%204.776940514224839%5D%2C%20%5B46.54124%2C%206.57059%2C%204.776940514224839%5D%2C%20%5B46.55036%2C%206.67461%2C%205.0%5D%2C%20%5B46.51945%2C%206.60686%2C%204.5%5D%2C%20%5B46.44374%2C%206.90562%2C%205.0%5D%2C%20%5B46.2869%2C%207.09625%2C%204.776940514224839%5D%2C%20%5B46.498119%2C%206.748771%2C%204.87%5D%2C%20%5B46.33255%2C%206.19845%2C%205.0%5D%2C%20%5B46.46573%2C%206.35543%2C%205.0%5D%2C%20%5B46.5232%2C%206.51577%2C%204.776940514224839%5D%2C%20%5B46.27883%2C%207.07131%2C%205.0%5D%2C%20%5B46.5266%2C%206.63816%2C%204.68%5D%2C%20%5B46.29974%2C%206.17427%2C%205.0%5D%2C%20%5B46.34942%2C%207.15764%2C%205.0%5D%2C%20%5B46.44938%2C%206.89875%2C%204.5%5D%2C%20%5B46.52795%2C%206.62737%2C%204.776940514224839%5D%2C%20%5B46.34682%2C%207.01353%2C%204.776940514224839%5D%2C%20%5B46.66891%2C%206.32775%2C%204.92%5D%2C%20%5B46.42083%2C%207.10585%2C%204.776940514224839%5D%2C%20%5B46.45819%2C%206.85605%2C%204.776940514224839%5D%2C%20%5B46.48392%2C%206.45342%2C%204.9%5D%2C%20%5B46.51193%2C%206.63655%2C%204.776940514224839%5D%2C%20%5B46.79811%2C%206.74667%2C%204.5%5D%2C%20%5B46.51637%2C%206.61464%2C%204.55%5D%2C%20%5B46.49305%2C%206.71326%2C%204.94%5D%2C%20%5B46.34994%2C%207.1589%2C%204.776940514224839%5D%2C%20%5B46.5245%2C%206.61594%2C%204.5%5D%2C%20%5B46.441273%2C%206.89477%2C%204.93%5D%2C%20%5B46.55426%2C%206.6844%2C%205.0%5D%2C%20%5B46.43931%2C%206.90596%2C%204.776940514224839%5D%2C%20%5B46.51375%2C%206.64686%2C%204.83%5D%2C%20%5B46.51627%2C%206.63627%2C%205.0%5D%2C%20%5B46.47218%2C%206.82533%2C%204.776940514224839%5D%2C%20%5B46.49736%2C%206.74889%2C%204.95%5D%2C%20%5B46.4768%2C%206.77752%2C%204.776940514224839%5D%2C%20%5B46.52043%2C%206.619%2C%204.67%5D%2C%20%5B46.46941%2C%206.85674%2C%205.0%5D%2C%20%5B46.43526%2C%206.90963%2C%205.0%5D%2C%20%5B46.53427%2C%206.64836%2C%205.0%5D%2C%20%5B46.51586%2C%206.61795%2C%204.776940514224839%5D%2C%20%5B46.51612%2C%206.6317%2C%205.0%5D%2C%20%5B46.52897%2C%206.6162%2C%205.0%5D%2C%20%5B46.51705%2C%206.63127%2C%204.75%5D%2C%20%5B46.52778%2C%206.63933%2C%205.0%5D%2C%20%5B46.52339%2C%206.62279%2C%204.91%5D%2C%20%5B46.50948%2C%206.62645%2C%201.0%5D%2C%20%5B46.53954%2C%206.6093%2C%204.8%5D%2C%20%5B46.47345%2C%206.83649%2C%204.21%5D%2C%20%5B46.5245%2C%206.62202%2C%204.71%5D%2C%20%5B46.82085%2C%206.49622%2C%204.84%5D%2C%20%5B46.62072%2C%206.24576%2C%204.75%5D%2C%20%5B46.4736%2C%206.85203%2C%204.776940514224839%5D%2C%20%5B46.53325%2C%206.60147%2C%204.63%5D%2C%20%5B46.55147%2C%206.4357%2C%204.67%5D%2C%20%5B46.517876%2C%206.63163%2C%205.0%5D%2C%20%5B46.5068%2C%206.65109%2C%205.0%5D%2C%20%5B46.43711%2C%206.90757%2C%204.75%5D%2C%20%5B46.47179%2C%206.84826%2C%204.56%5D%2C%20%5B46.52696%2C%206.49644%2C%205.0%5D%2C%20%5B46.53124%2C%206.64985%2C%204.5%5D%2C%20%5B46.55055%2C%206.5888%2C%205.0%5D%2C%20%5B46.51778%2C%206.62887%2C%205.0%5D%2C%20%5B46.51092%2C%206.63882%2C%204.5%5D%2C%20%5B46.43472%2C%206.91539%2C%204.63%5D%2C%20%5B46.91632%2C%207.03029%2C%205.0%5D%2C%20%5B46.51524%2C%206.56606%2C%205.0%5D%2C%20%5B46.329548%2C%207.134994%2C%204.89%5D%2C%20%5B46.4321%2C%206.24873%2C%205.0%5D%2C%20%5B46.49335%2C%206.71401%2C%205.0%5D%2C%20%5B46.51085%2C%206.6422%2C%204.67%5D%2C%20%5B46.529476%2C%206.769645%2C%205.0%5D%2C%20%5B46.79379%2C%206.73988%2C%204.79%5D%2C%20%5B46.51356%2C%206.54633%2C%205.0%5D%2C%20%5B46.51998%2C%206.61573%2C%204.0%5D%2C%20%5B46.52915%2C%206.63289%2C%204.52%5D%2C%20%5B46.53707%2C%206.59328%2C%205.0%5D%2C%20%5B46.30786%2C%207.06212%2C%204.776940514224839%5D%2C%20%5B46.343304%2C%207.005403%2C%204.45%5D%2C%20%5B46.85063%2C%206.7107%2C%204.96%5D%2C%20%5B46.47007%2C%207.08594%2C%204.776940514224839%5D%2C%20%5B46.52903%2C%206.62667%2C%205.0%5D%2C%20%5B46.51141%2C%206.64943%2C%205.0%5D%2C%20%5B46.61635%2C%206.50784%2C%204.38%5D%2C%20%5B46.50399%2C%206.67981%2C%204.5%5D%2C%20%5B46.54396%2C%206.63204%2C%204.776940514224839%5D%2C%20%5B46.54285%2C%206.66062%2C%204.776940514224839%5D%2C%20%5B46.51556%2C%206.61443%2C%204.84%5D%2C%20%5B46.48398%2C%206.77831%2C%205.0%5D%2C%20%5B46.46023%2C%206.84446%2C%204.0%5D%2C%20%5B46.34549%2C%207.01761%2C%204.776940514224839%5D%2C%20%5B46.80204%2C%206.56299%2C%204.75%5D%2C%20%5B46.51726%2C%206.62914%2C%204.776940514224839%5D%2C%20%5B46.44348%2C%206.8867%2C%205.0%5D%2C%20%5B46.77146%2C%206.76353%2C%205.0%5D%2C%20%5B46.52615%2C%206.63301%2C%204.776940514224839%5D%2C%20%5B46.4493%2C%206.86448%2C%204.75%5D%2C%20%5B46.52328%2C%206.63773%2C%204.67%5D%2C%20%5B46.298985%2C%207.043866%2C%204.776940514224839%5D%2C%20%5B46.298977%2C%207.043877%2C%204.5%5D%2C%20%5B46.298962%2C%207.043845%2C%204.776940514224839%5D%2C%20%5B46.50991%2C%206.66981%2C%205.0%5D%2C%20%5B46.51148%2C%206.62784%2C%205.0%5D%2C%20%5B46.52293%2C%206.63845%2C%204.776940514224839%5D%2C%20%5B46.54175%2C%206.65597%2C%205.0%5D%2C%20%5B46.76795%2C%206.64614%2C%204.5%5D%2C%20%5B46.548%2C%206.63533%2C%205.0%5D%2C%20%5B46.52384%2C%206.62646%2C%204.29%5D%2C%20%5B46.52368%2C%206.62612%2C%204.83%5D%2C%20%5B46.34526%2C%206.97481%2C%204.776940514224839%5D%2C%20%5B46.8791%2C%207.03994%2C%204.776940514224839%5D%2C%20%5B46.292515%2C%207.055435%2C%204.776940514224839%5D%2C%20%5B46.711857%2C%206.37919%2C%204.776940514224839%5D%2C%20%5B46.37997%2C%206.15156%2C%201.0%5D%2C%20%5B46.52357%2C%206.62986%2C%205.0%5D%2C%20%5B46.51198%2C%206.68643%2C%204.776940514224839%5D%2C%20%5B46.47092%2C%206.42313%2C%204.88%5D%2C%20%5B46.5365%2C%206.58721%2C%204.94%5D%2C%20%5B46.53138%2C%206.61711%2C%205.0%5D%2C%20%5B46.51485%2C%206.63752%2C%205.0%5D%2C%20%5B46.52224%2C%206.66518%2C%205.0%5D%2C%20%5B46.52798%2C%206.631%2C%204.776940514224839%5D%2C%20%5B46.31456%2C%206.18252%2C%204.776940514224839%5D%2C%20%5B46.53743%2C%206.5944%2C%204.776940514224839%5D%2C%20%5B46.51584%2C%206.61662%2C%204.76%5D%2C%20%5B46.71586%2C%206.90001%2C%205.0%5D%2C%20%5B46.53254%2C%206.62892%2C%204.71%5D%2C%20%5B46.54836%2C%206.67316%2C%205.0%5D%2C%20%5B46.55024%2C%206.67476%2C%204.0%5D%2C%20%5B46.45981%2C%206.84303%2C%205.0%5D%2C%20%5B46.51562%2C%206.63779%2C%204.776940514224839%5D%2C%20%5B46.41991%2C%206.92813%2C%204.5%5D%2C%20%5B46.51324%2C%206.6546%2C%205.0%5D%2C%20%5B46.52225%2C%206.63896%2C%205.0%5D%2C%20%5B46.38696%2C%206.22191%2C%204.67%5D%2C%20%5B46.53734%2C%206.58815%2C%204.776940514224839%5D%2C%20%5B46.55579%2C%206.68061%2C%204.776940514224839%5D%2C%20%5B46.5387%2C%206.59995%2C%204.0%5D%2C%20%5B46.51196%2C%206.62456%2C%204.75%5D%2C%20%5B46.5261%2C%206.6259%2C%204.776940514224839%5D%2C%20%5B46.46191%2C%206.2098%2C%204.776940514224839%5D%2C%20%5B46.22006%2C%207.0174%2C%204.71%5D%2C%20%5B46.27457%2C%207.014704%2C%204.86%5D%2C%20%5B46.81879%2C%206.93804%2C%204.75%5D%2C%20%5B46.53265%2C%206.5317%2C%204.8%5D%2C%20%5B46.45691%2C%206.8937%2C%204.81%5D%2C%20%5B46.50633%2C%206.62792%2C%204.5%5D%2C%20%5B46.52322%2C%206.51574%2C%204.776940514224839%5D%2C%20%5B46.522%2C%206.51659%2C%205.0%5D%2C%20%5B46.51764%2C%206.62783%2C%204.5%5D%2C%20%5B46.52221%2C%206.51423%2C%204.776940514224839%5D%2C%20%5B46.52365%2C%206.62622%2C%205.0%5D%2C%20%5B46.35384%2C%207.03712%2C%205.0%5D%2C%20%5B46.5202%2C%206.63705%2C%205.0%5D%2C%20%5B46.5486%2C%206.67401%2C%204.5%5D%2C%20%5B46.4594%2C%206.84471%2C%204.776940514224839%5D%2C%20%5B46.24777%2C%207.0286%2C%205.0%5D%2C%20%5B46.4609%2C%206.85706%2C%205.0%5D%2C%20%5B46.29424%2C%207.06438%2C%204.776940514224839%5D%2C%20%5B46.50711%2C%206.65115%2C%205.0%5D%2C%20%5B46.46317%2C%206.85153%2C%204.776940514224839%5D%2C%20%5B46.55292%2C%206.56007%2C%204.67%5D%2C%20%5B46.52255%2C%206.68163%2C%204.67%5D%2C%20%5B46.47298%2C%206.79557%2C%204.776940514224839%5D%2C%20%5B46.52464%2C%206.69072%2C%204.776940514224839%5D%2C%20%5B46.4981%2C%206.87262%2C%205.0%5D%2C%20%5B46.50922%2C%206.65124%2C%205.0%5D%2C%20%5B46.50881%2C%206.65272%2C%205.0%5D%2C%20%5B46.29933%2C%207.05494%2C%204.776940514224839%5D%2C%20%5B46.301369%2C%207.048767%2C%204.776940514224839%5D%2C%20%5B46.25444%2C%207.02812%2C%204.776940514224839%5D%2C%20%5B46.51303%2C%206.62824%2C%205.0%5D%2C%20%5B46.50704%2C%206.71682%2C%204.776940514224839%5D%2C%20%5B46.43071%2C%206.91264%2C%204.776940514224839%5D%2C%20%5B46.53527%2C%206.63381%2C%204.67%5D%2C%20%5B46.51794%2C%206.52838%2C%204.776940514224839%5D%2C%20%5B46.47639%2C%207.13325%2C%205.0%5D%2C%20%5B46.43322%2C%206.91361%2C%204.33%5D%2C%20%5B46.4323%2C%206.91466%2C%202.0%5D%2C%20%5B46.30199%2C%206.98473%2C%204.8%5D%2C%20%5B46.71283%2C%206.72423%2C%205.0%5D%2C%20%5B46.35471%2C%207.03623%2C%205.0%5D%2C%20%5B46.52632%2C%206.62311%2C%204.0%5D%2C%20%5B46.53683%2C%206.6019%2C%204.776940514224839%5D%2C%20%5B46.47229%2C%207.12416%2C%204.776940514224839%5D%2C%20%5B46.52344%2C%206.6373%2C%204.67%5D%2C%20%5B46.53881%2C%206.596%2C%204.776940514224839%5D%2C%20%5B46.4271%2C%206.92528%2C%204.776940514224839%5D%2C%20%5B46.47646%2C%206.44702%2C%204.43%5D%2C%20%5B46.52968%2C%206.6556%2C%204.43%5D%2C%20%5B46.54235%2C%206.65605%2C%204.776940514224839%5D%2C%20%5B46.54956%2C%206.67447%2C%204.0%5D%2C%20%5B46.5486%2C%206.67536%2C%204.776940514224839%5D%2C%20%5B46.51711%2C%206.63087%2C%204.776940514224839%5D%2C%20%5B46.284748%2C%207.084034%2C%204.776940514224839%5D%2C%20%5B46.51396%2C%206.65405%2C%204.0%5D%2C%20%5B46.52486%2C%206.61916%2C%204.776940514224839%5D%2C%20%5B46.51029%2C%206.626%2C%204.776940514224839%5D%2C%20%5B46.52268%2C%206.63671%2C%204.776940514224839%5D%2C%20%5B46.38449%2C%206.22501%2C%205.0%5D%2C%20%5B46.27523%2C%207.0155%2C%204.776940514224839%5D%2C%20%5B46.49247%2C%206.75291%2C%205.0%5D%2C%20%5B46.52592%2C%206.61939%2C%205.0%5D%2C%20%5B46.52637%2C%206.68443%2C%204.83%5D%2C%20%5B46.53878%2C%206.66477%2C%205.0%5D%2C%20%5B46.46255%2C%206.85825%2C%204.776940514224839%5D%2C%20%5B46.46718%2C%206.90575%2C%204.776940514224839%5D%2C%20%5B46.52024%2C%206.67982%2C%204.92%5D%2C%20%5B46.51297%2C%206.62803%2C%204.776940514224839%5D%2C%20%5B46.51132%2C%206.63697%2C%205.0%5D%2C%20%5B46.52647%2C%206.63053%2C%204.776940514224839%5D%2C%20%5B46.43393%2C%206.91515%2C%205.0%5D%2C%20%5B46.51027%2C%206.49547%2C%204.776940514224839%5D%2C%20%5B46.54599%2C%206.55332%2C%204.776940514224839%5D%2C%20%5B46.52191%2C%206.62512%2C%205.0%5D%2C%20%5B46.53011%2C%206.64863%2C%204.776940514224839%5D%2C%20%5B46.55424%2C%206.6994%2C%204.76%5D%2C%20%5B46.37786%2C%207.08038%2C%205.0%5D%2C%20%5B46.51128%2C%206.63587%2C%204.776940514224839%5D%2C%20%5B46.50868%2C%206.663%2C%204.776940514224839%5D%2C%20%5B46.351223%2C%207.15893%2C%205.0%5D%2C%20%5B46.51167%2C%206.62592%2C%204.79%5D%2C%20%5B46.52229%2C%206.67805%2C%204.8%5D%2C%20%5B46.31157%2C%207.06098%2C%204.776940514224839%5D%2C%20%5B46.39669%2C%207.10392%2C%204.0%5D%2C%20%5B46.49859%2C%206.72506%2C%203.0%5D%2C%20%5B46.53296%2C%206.61838%2C%205.0%5D%2C%20%5B46.493664%2C%206.716008%2C%205.0%5D%2C%20%5B46.5182%2C%206.55319%2C%204.33%5D%2C%20%5B46.51516%2C%206.62514%2C%204.776940514224839%5D%2C%20%5B46.31374%2C%206.16925%2C%204.67%5D%2C%20%5B46.34955%2C%207.01927%2C%205.0%5D%2C%20%5B46.53369%2C%206.60013%2C%204.5%5D%2C%20%5B46.5068%2C%206.66836%2C%204.776940514224839%5D%2C%20%5B46.524158%2C%206.631998%2C%204.92%5D%2C%20%5B46.51541%2C%206.62364%2C%204.776940514224839%5D%2C%20%5B46.49444%2C%206.71001%2C%204.776940514224839%5D%2C%20%5B46.37974%2C%206.90338%2C%204.3%5D%2C%20%5B46.52028%2C%206.63455%2C%204.776940514224839%5D%2C%20%5B46.51474%2C%206.63621%2C%205.0%5D%2C%20%5B46.5403%2C%206.77315%2C%204.776940514224839%5D%2C%20%5B46.52808%2C%206.61594%2C%205.0%5D%2C%20%5B46.46321%2C%206.85883%2C%204.776940514224839%5D%2C%20%5B46.46664%2C%206.84294%2C%204.776940514224839%5D%2C%20%5B46.4242%2C%206.2707%2C%204.0%5D%2C%20%5B46.45653%2C%206.85317%2C%204.776940514224839%5D%2C%20%5B46.38651%2C%206.22488%2C%204.776940514224839%5D%2C%20%5B46.27509%2C%207.06627%2C%204.776940514224839%5D%2C%20%5B46.293484%2C%207.056479%2C%204.776940514224839%5D%2C%20%5B46.297974%2C%207.055876%2C%204.776940514224839%5D%2C%20%5B46.298595%2C%207.055857%2C%204.776940514224839%5D%2C%20%5B46.298428%2C%207.055013%2C%204.776940514224839%5D%2C%20%5B46.293041%2C%207.055143%2C%204.776940514224839%5D%2C%20%5B46.29398%2C%207.056002%2C%204.776940514224839%5D%2C%20%5B46.293335%2C%207.059744%2C%204.776940514224839%5D%2C%20%5B46.4781%2C%206.91304%2C%204.776940514224839%5D%2C%20%5B46.35603%2C%206.20684%2C%204.776940514224839%5D%2C%20%5B46.53001%2C%206.62954%2C%204.776940514224839%5D%2C%20%5B46.46078%2C%206.33913%2C%204.776940514224839%5D%2C%20%5B46.35665%2C%206.20823%2C%204.776940514224839%5D%2C%20%5B46.44978%2C%206.91175%2C%204.776940514224839%5D%2C%20%5B46.52567%2C%206.49557%2C%204.776940514224839%5D%2C%20%5B46.34689%2C%206.19207%2C%204.776940514224839%5D%2C%20%5B46.44152%2C%206.89776%2C%204.8%5D%2C%20%5B46.39419%2C%207.10586%2C%204.776940514224839%5D%2C%20%5B46.81795%2C%206.56441%2C%204.776940514224839%5D%2C%20%5B46.76854%2C%206.64635%2C%204.33%5D%2C%20%5B46.5156%2C%206.62474%2C%205.0%5D%2C%20%5B46.51577%2C%206.61331%2C%204.776940514224839%5D%2C%20%5B46.349495%2C%207.019325%2C%204.776940514224839%5D%2C%20%5B46.51631%2C%206.61178%2C%204.776940514224839%5D%2C%20%5B46.51636%2C%206.61344%2C%204.776940514224839%5D%2C%20%5B46.51155%2C%206.64037%2C%205.0%5D%2C%20%5B46.28772%2C%207.06389%2C%204.776940514224839%5D%2C%20%5B46.51294%2C%206.63171%2C%205.0%5D%2C%20%5B46.53134%2C%206.62871%2C%204.776940514224839%5D%2C%20%5B46.76801%2C%206.64755%2C%204.8%5D%2C%20%5B46.41702%2C%206.92907%2C%204.776940514224839%5D%2C%20%5B46.33522%2C%206.19333%2C%204.776940514224839%5D%2C%20%5B46.45129%2C%206.20462%2C%204.776940514224839%5D%2C%20%5B46.53101%2C%206.62872%2C%204.776940514224839%5D%2C%20%5B46.52638%2C%206.65512%2C%204.776940514224839%5D%2C%20%5B46.28455%2C%207.08219%2C%204.776940514224839%5D%2C%20%5B46.46413%2C%206.86014%2C%204.776940514224839%5D%2C%20%5B46.50776%2C%206.49814%2C%204.776940514224839%5D%2C%20%5B46.38305%2C%206.23412%2C%204.776940514224839%5D%2C%20%5B46.52448%2C%206.61371%2C%204.0%5D%2C%20%5B46.5153%2C%206.62511%2C%204.776940514224839%5D%2C%20%5B46.31336%2C%206.16943%2C%205.0%5D%2C%20%5B46.51754%2C%206.62847%2C%204.776940514224839%5D%2C%20%5B46.51316%2C%206.64126%2C%204.776940514224839%5D%2C%20%5B46.31544%2C%206.16963%2C%203.0%5D%2C%20%5B46.43111%2C%206.91566%2C%204.776940514224839%5D%2C%20%5B46.31313%2C%206.17071%2C%204.0%5D%2C%20%5B46.31478%2C%206.16953%2C%204.67%5D%2C%20%5B46.82162%2C%206.92565%2C%204.78%5D%2C%20%5B46.44097%2C%206.90693%2C%204.776940514224839%5D%2C%20%5B46.43483%2C%206.91135%2C%205.0%5D%2C%20%5B46.7893%2C%206.6353%2C%204.5%5D%2C%20%5B46.5337%2C%206.60132%2C%204.776940514224839%5D%2C%20%5B46.44298%2C%206.91268%2C%204.776940514224839%5D%2C%20%5B46.53501%2C%206.61269%2C%201.0%5D%2C%20%5B46.4344%2C%206.91412%2C%204.776940514224839%5D%2C%20%5B46.53421%2C%206.60839%2C%204.776940514224839%5D%2C%20%5B46.35393%2C%207.12891%2C%204.776940514224839%5D%2C%20%5B46.43293%2C%206.9139%2C%204.776940514224839%5D%2C%20%5B46.43189%2C%206.91566%2C%204.776940514224839%5D%2C%20%5B46.43246%2C%206.91412%2C%204.776940514224839%5D%2C%20%5B46.51106%2C%206.63523%2C%204.776940514224839%5D%2C%20%5B46.51323%2C%206.62802%2C%205.0%5D%2C%20%5B46.47302%2C%207.13705%2C%204.0%5D%2C%20%5B46.52352%2C%206.58764%2C%205.0%5D%2C%20%5B46.48442%2C%206.41149%2C%205.0%5D%2C%20%5B46.52566%2C%206.58777%2C%204.776940514224839%5D%2C%20%5B46.51787%2C%206.61483%2C%204.776940514224839%5D%2C%20%5B46.45935%2C%206.84509%2C%205.0%5D%2C%20%5B46.55192%2C%206.5727%2C%205.0%5D%2C%20%5B46.44447%2C%206.90221%2C%205.0%5D%2C%20%5B46.44479%2C%206.90215%2C%204.0%5D%2C%20%5B46.44557%2C%206.90229%2C%204.776940514224839%5D%2C%20%5B46.44409%2C%206.90338%2C%204.776940514224839%5D%2C%20%5B46.44634%2C%206.90205%2C%205.0%5D%2C%20%5B46.43197%2C%206.91567%2C%204.0%5D%2C%20%5B46.54909%2C%206.55293%2C%204.776940514224839%5D%2C%20%5B46.549%2C%206.55426%2C%204.776940514224839%5D%2C%20%5B46.55026%2C%206.55284%2C%204.776940514224839%5D%2C%20%5B46.55397%2C%206.37396%2C%205.0%5D%2C%20%5B46.43339%2C%206.91396%2C%204.776940514224839%5D%2C%20%5B46.432%2C%206.914%2C%204.776940514224839%5D%2C%20%5B46.43279%2C%206.91395%2C%205.0%5D%2C%20%5B46.50913%2C%206.63826%2C%205.0%5D%2C%20%5B46.82144%2C%206.50643%2C%204.776940514224839%5D%2C%20%5B46.82096%2C%206.50619%2C%204.776940514224839%5D%2C%20%5B46.34146%2C%207.16493%2C%204.776940514224839%5D%2C%20%5B46.81741%2C%206.93837%2C%204.776940514224839%5D%2C%20%5B46.5486%2C%206.55251%2C%204.776940514224839%5D%2C%20%5B46.5234%2C%206.63261%2C%205.0%5D%2C%20%5B46.46297%2C%206.83853%2C%204.776940514224839%5D%2C%20%5B46.549461%2C%206.553351%2C%204.776940514224839%5D%2C%20%5B46.54837%2C%206.55231%2C%204.0%5D%2C%20%5B46.51855%2C%206.45968%2C%204.776940514224839%5D%2C%20%5B46.4305%2C%206.9167%2C%204.776940514224839%5D%2C%20%5B46.30697%2C%206.17359%2C%204.776940514224839%5D%2C%20%5B46.52222%2C%206.6267%2C%204.776940514224839%5D%2C%20%5B46.53778%2C%206.66552%2C%204.776940514224839%5D%2C%20%5B46.21959%2C%207.01824%2C%204.776940514224839%5D%2C%20%5B46.52191%2C%206.51588%2C%204.776940514224839%5D%2C%20%5B46.53145%2C%206.62509%2C%204.776940514224839%5D%2C%20%5B46.52657%2C%206.63538%2C%204.776940514224839%5D%2C%20%5B46.53557%2C%206.63503%2C%202.0%5D%2C%20%5B46.43273%2C%206.91216%2C%204.776940514224839%5D%2C%20%5B46.52245%2C%206.64073%2C%204.776940514224839%5D%2C%20%5B46.443897%2C%206.879426%2C%204.776940514224839%5D%2C%20%5B46.45906%2C%206.07098%2C%204.776940514224839%5D%2C%20%5B46.51618%2C%206.65362%2C%204.67%5D%2C%20%5B46.30705%2C%207.06017%2C%204.776940514224839%5D%2C%20%5B46.271599%2C%207.047506%2C%204.776940514224839%5D%2C%20%5B46.53486%2C%206.58108%2C%205.0%5D%2C%20%5B46.49869%2C%206.10075%2C%204.776940514224839%5D%2C%20%5B46.52542%2C%206.62473%2C%204.776940514224839%5D%2C%20%5B46.44989%2C%206.87371%2C%205.0%5D%2C%20%5B46.82608%2C%206.4931%2C%205.0%5D%2C%20%5B46.82719%2C%206.49127%2C%204.776940514224839%5D%2C%20%5B46.51582%2C%206.63873%2C%205.0%5D%2C%20%5B46.54033%2C%206.65109%2C%204.776940514224839%5D%2C%20%5B46.36662%2C%207.05408%2C%204.776940514224839%5D%2C%20%5B46.45321%2C%206.85776%2C%205.0%5D%2C%20%5B46.54645%2C%206.57374%2C%204.776940514224839%5D%2C%20%5B46.50237%2C%206.68752%2C%205.0%5D%2C%20%5B46.4518%2C%206.85759%2C%205.0%5D%2C%20%5B46.42493%2C%206.92646%2C%204.776940514224839%5D%2C%20%5B46.50781%2C%206.67288%2C%204.776940514224839%5D%2C%20%5B46.51824%2C%206.46002%2C%205.0%5D%2C%20%5B46.5244%2C%206.6221%2C%204.776940514224839%5D%2C%20%5B46.34867%2C%207.01973%2C%204.776940514224839%5D%2C%20%5B46.55172%2C%206.55909%2C%204.776940514224839%5D%2C%20%5B46.51076%2C%206.63274%2C%205.0%5D%2C%20%5B46.51689%2C%206.62424%2C%205.0%5D%2C%20%5B46.46189%2C%206.07007%2C%204.776940514224839%5D%2C%20%5B46.5144%2C%206.70353%2C%204.776940514224839%5D%2C%20%5B46.52561%2C%206.61951%2C%204.776940514224839%5D%2C%20%5B46.53102%2C%206.65441%2C%205.0%5D%2C%20%5B46.52293%2C%206.62929%2C%204.776940514224839%5D%2C%20%5B46.52254%2C%206.62886%2C%204.776940514224839%5D%2C%20%5B46.819099%2C%206.527877%2C%204.776940514224839%5D%2C%20%5B46.81918%2C%206.46841%2C%204.776940514224839%5D%2C%20%5B46.8186%2C%206.46828%2C%204.776940514224839%5D%2C%20%5B46.47446%2C%206.88883%2C%204.776940514224839%5D%2C%20%5B46.43448%2C%206.90987%2C%205.0%5D%2C%20%5B46.52898%2C%206.59119%2C%204.776940514224839%5D%2C%20%5B46.44241%2C%206.91119%2C%204.776940514224839%5D%2C%20%5B46.4882%2C%207.20878%2C%204.776940514224839%5D%2C%20%5B46.68785%2C%206.8124%2C%204.776940514224839%5D%2C%20%5B46.55349%2C%206.55896%2C%204.776940514224839%5D%2C%20%5B46.52966%2C%206.6155%2C%204.776940514224839%5D%2C%20%5B46.43173%2C%206.91432%2C%204.776940514224839%5D%2C%20%5B46.943184%2C%206.998383%2C%204.776940514224839%5D%2C%20%5B46.43055%2C%206.91517%2C%204.776940514224839%5D%2C%20%5B46.36392%2C%207.05629%2C%204.776940514224839%5D%2C%20%5B46.4589%2C%206.84884%2C%204.776940514224839%5D%2C%20%5B46.47787%2C%206.82918%2C%204.776940514224839%5D%2C%20%5B46.83025%2C%206.55527%2C%205.0%5D%2C%20%5B46.41143%2C%206.17586%2C%204.776940514224839%5D%2C%20%5B46.43411%2C%206.91077%2C%204.776940514224839%5D%2C%20%5B46.43346%2C%206.91086%2C%204.776940514224839%5D%2C%20%5B46.4858%2C%206.72862%2C%204.776940514224839%5D%2C%20%5B46.53332%2C%206.64481%2C%204.776940514224839%5D%2C%20%5B46.53362756492688%2C%206.645833659072593%2C%204.776940514224839%5D%2C%20%5B46.53514469012983%2C%206.6448791463135946%2C%204.776940514224839%5D%2C%20%5B46.533703600919615%2C%206.644874019449874%2C%204.776940514224839%5D%2C%20%5B46.53372%2C%206.64641%2C%204.776940514224839%5D%2C%20%5B46.53434%2C%206.64759%2C%204.776940514224839%5D%2C%20%5B46.53327%2C%206.64666%2C%204.776940514224839%5D%2C%20%5B46.53492%2C%206.64607%2C%204.776940514224839%5D%2C%20%5B46.53452513437402%2C%206.646385593313235%2C%204.776940514224839%5D%2C%20%5B46.53303393118918%2C%206.646700316885369%2C%204.776940514224839%5D%2C%20%5B46.53310948485183%2C%206.644816419942109%2C%204.776940514224839%5D%2C%20%5B46.53314609931923%2C%206.645581428091576%2C%204.776940514224839%5D%2C%20%5B46.53518373459618%2C%206.645756564890185%2C%204.776940514224839%5D%2C%20%5B46.533500035775546%2C%206.647733260012968%2C%204.776940514224839%5D%2C%20%5B46.53456%2C%206.64823%2C%204.776940514224839%5D%2C%20%5B46.53375217557869%2C%206.645623249043799%2C%204.776940514224839%5D%2C%20%5B46.53474467882069%2C%206.644660279945668%2C%204.776940514224839%5D%2C%20%5B46.53428772337967%2C%206.6446523161066775%2C%204.776940514224839%5D%2C%20%5B46.53283%2C%206.64549%2C%204.776940514224839%5D%2C%20%5B46.53429%2C%206.64714%2C%204.776940514224839%5D%2C%20%5B46.53514%2C%206.64817%2C%204.776940514224839%5D%2C%20%5B46.5332%2C%206.64677%2C%204.776940514224839%5D%2C%20%5B46.45567%2C%206.85299%2C%204.776940514224839%5D%2C%20%5B46.53487%2C%206.64651%2C%204.776940514224839%5D%2C%20%5B46.53496%2C%206.64766%2C%204.776940514224839%5D%2C%20%5B46.5334%2C%206.64672%2C%204.776940514224839%5D%2C%20%5B46.53364%2C%206.64782%2C%204.776940514224839%5D%2C%20%5B46.53358%2C%206.64621%2C%204.776940514224839%5D%2C%20%5B46.53466%2C%206.64648%2C%204.776940514224839%5D%2C%20%5B46.53487%2C%206.64675%2C%204.776940514224839%5D%2C%20%5B46.53326%2C%206.64705%2C%204.776940514224839%5D%2C%20%5B46.53282%2C%206.64691%2C%204.776940514224839%5D%2C%20%5B46.43892%2C%206.91411%2C%205.0%5D%2C%20%5B46.36586%2C%207.08929%2C%204.776940514224839%5D%2C%20%5B46.43684%2C%206.91581%2C%205.0%5D%2C%20%5B46.30099%2C%207.04577%2C%204.776940514224839%5D%2C%20%5B46.442%2C%206.89897%2C%204.776940514224839%5D%2C%20%5B46.43868%2C%206.91394%2C%204.776940514224839%5D%2C%20%5B46.51062%2C%206.65239%2C%204.776940514224839%5D%2C%20%5B46.44802%2C%206.28343%2C%204.776940514224839%5D%2C%20%5B46.53754%2C%206.62255%2C%205.0%5D%2C%20%5B46.52554%2C%206.61134%2C%205.0%5D%2C%20%5B46.44757%2C%206.89712%2C%205.0%5D%2C%20%5B46.43442%2C%206.91222%2C%204.776940514224839%5D%2C%20%5B46.47212%2C%206.8214%2C%204.776940514224839%5D%2C%20%5B46.87681%2C%207.0366%2C%204.776940514224839%5D%2C%20%5B46.34368%2C%207.01044%2C%204.776940514224839%5D%2C%20%5B46.53323%2C%206.64658%2C%204.776940514224839%5D%2C%20%5B46.53426%2C%206.64806%2C%204.776940514224839%5D%2C%20%5B46.53265%2C%206.62323%2C%204.776940514224839%5D%2C%20%5B46.5344%2C%206.64774%2C%204.776940514224839%5D%2C%20%5B46.53511%2C%206.64628%2C%204.776940514224839%5D%2C%20%5B46.53462%2C%206.64696%2C%204.776940514224839%5D%2C%20%5B46.53315801566795%2C%206.646086186191371%2C%204.776940514224839%5D%2C%20%5B46.54457%2C%206.66129%2C%204.776940514224839%5D%2C%20%5B46.47099%2C%206.39641%2C%204.776940514224839%5D%2C%20%5B46.46949%2C%206.39663%2C%204.776940514224839%5D%2C%20%5B46.46962%2C%206.3952%2C%204.776940514224839%5D%2C%20%5B46.30153%2C%207.04142%2C%204.776940514224839%5D%2C%20%5B46.53431%2C%206.64622%2C%204.776940514224839%5D%2C%20%5B46.36793%2C%207.0584%2C%204.776940514224839%5D%2C%20%5B46.51557%2C%206.63061%2C%204.776940514224839%5D%2C%20%5B46.51464%2C%206.63183%2C%204.776940514224839%5D%2C%20%5B46.45885%2C%206.06796%2C%204.776940514224839%5D%2C%20%5B46.52468%2C%206.62298%2C%204.776940514224839%5D%2C%20%5B46.51445%2C%206.68854%2C%204.776940514224839%5D%2C%20%5B46.44509%2C%206.88555%2C%204.776940514224839%5D%2C%20%5B46.51845%2C%206.63232%2C%204.776940514224839%5D%2C%20%5B46.424187%2C%206.924241%2C%204.776940514224839%5D%2C%20%5B46.424187%2C%206.924241%2C%204.776940514224839%5D%2C%20%5B46.424187%2C%206.924241%2C%204.776940514224839%5D%2C%20%5B46.424187%2C%206.924241%2C%204.776940514224839%5D%2C%20%5B46.424187%2C%206.924241%2C%204.776940514224839%5D%2C%20%5B46.51744%2C%206.6395%2C%204.776940514224839%5D%2C%20%5B46.43289%2C%206.91134%2C%204.776940514224839%5D%2C%20%5B46.50916%2C%206.4946%2C%204.776940514224839%5D%2C%20%5B46.53979%2C%206.57082%2C%204.776940514224839%5D%2C%20%5B46.51031%2C%206.62378%2C%204.776940514224839%5D%2C%20%5B46.53957%2C%206.57258%2C%204.776940514224839%5D%2C%20%5B46.51965%2C%206.63637%2C%204.776940514224839%5D%2C%20%5B46.45878%2C%206.07027%2C%204.776940514224839%5D%2C%20%5B46.4818%2C%206.79224%2C%204.776940514224839%5D%2C%20%5B46.52399%2C%206.63853%2C%204.776940514224839%5D%2C%20%5B46.30029%2C%207.05649%2C%204.776940514224839%5D%2C%20%5B46.271633%2C%207.047484%2C%204.776940514224839%5D%2C%20%5B46.4913%2C%207.22485%2C%205.0%5D%2C%20%5B46.44849%2C%206.14992%2C%204.776940514224839%5D%2C%20%5B46.45629%2C%206.85083%2C%204.776940514224839%5D%2C%20%5B46.5226%2C%206.62901%2C%204.776940514224839%5D%2C%20%5B46.81966%2C%206.93833%2C%205.0%5D%2C%20%5B46.44557%2C%206.89528%2C%204.0%5D%2C%20%5B46.51426%2C%206.6377%2C%204.776940514224839%5D%2C%20%5B46.53183%2C%206.72454%2C%204.776940514224839%5D%2C%20%5B46.53309%2C%206.62933%2C%204.776940514224839%5D%2C%20%5B46.28946%2C%207.08887%2C%204.776940514224839%5D%2C%20%5B46.50865%2C%206.67115%2C%204.776940514224839%5D%2C%20%5B46.3873%2C%206.23005%2C%204.776940514224839%5D%2C%20%5B46.54461%2C%206.63079%2C%204.776940514224839%5D%2C%20%5B46.5146%2C%206.70462%2C%204.776940514224839%5D%5D%2C%0A%20%20%20%20%20%20%20%20%20%20%20%20%20%20%20%20%7B%22blur%22%3A%206.0%2C%20%22maxZoom%22%3A%2018%2C%20%22minOpacity%22%3A%200.5%2C%20%22radius%22%3A%205.0%7D%0A%20%20%20%20%20%20%20%20%20%20%20%20%29.addTo%28map_56d3a97f7a0140b4b0918fc0cb1b8b67%29%3B%0A%20%20%20%20%20%20%20%20%0A%3C/script%3E onload=\"this.contentDocument.open();this.contentDocument.write(    decodeURIComponent(this.getAttribute('data-html')));this.contentDocument.close();\" allowfullscreen webkitallowfullscreen mozallowfullscreen></iframe></div></div>"
      ],
      "text/plain": [
       "<folium.folium.Map at 0x7fb8b4198130>"
      ]
     },
     "execution_count": 14,
     "metadata": {},
     "output_type": "execute_result"
    }
   ],
   "source": [
    "m = folium.Map(location = [( df_loc_filled.latitude.min() + df_loc_filled.latitude.max() )/2,\n",
    "                           ( df_loc_filled.longitude.min() + df_loc_filled.longitude.max() )/2], \n",
    "               tiles='Stamen toner', zoom_start = 8.)\n",
    "folium.plugins.HeatMap( \n",
    "    df_loc_filled, name=\"Review Score Location\", radius=5.,blur=6. ).add_to( m )\n",
    "dp_report.add_plot( m, \"review_score_location\" )\n",
    "m"
   ]
  },
  {
   "cell_type": "markdown",
   "metadata": {},
   "source": [
    "### Question: What kind of room is for rent?\n"
   ]
  },
  {
   "cell_type": "markdown",
   "metadata": {},
   "source": [
    "#### Get an Idea of Room Types\n",
    "\n",
    "AirBnB has different room types in its database. A description is available [here](https://www.airbnb.com/help/article/5/what-does-the-room-type-of-a-listing-mean).\n",
    "Do we have a room_type for every listing?"
   ]
  },
  {
   "cell_type": "code",
   "execution_count": 15,
   "metadata": {},
   "outputs": [
    {
     "data": {
      "text/plain": [
       "True"
      ]
     },
     "execution_count": 15,
     "metadata": {},
     "output_type": "execute_result"
    }
   ],
   "source": [
    "listings.room_type.notnull().all()"
   ]
  },
  {
   "cell_type": "code",
   "execution_count": 16,
   "metadata": {},
   "outputs": [
    {
     "data": {
      "text/plain": [
       "Entire home/apt    0.693215\n",
       "Private room       0.294995\n",
       "Hotel room         0.005895\n",
       "Shared room        0.005895\n",
       "Name: room_type, dtype: float64"
      ]
     },
     "execution_count": 16,
     "metadata": {},
     "output_type": "execute_result"
    }
   ],
   "source": [
    "listings.room_type.value_counts()/listings.shape[0]"
   ]
  },
  {
   "cell_type": "markdown",
   "metadata": {},
   "source": [
    "Two thirds of the listings are entire homes. 29% are private rooms. Shared rooms and hotel rooms are negligible. "
   ]
  },
  {
   "cell_type": "code",
   "execution_count": 17,
   "metadata": {},
   "outputs": [
    {
     "data": {
      "image/png": "[encoded data removed]",
      "text/plain": [
       "<Figure size 360x360 with 1 Axes>"
      ]
     },
     "metadata": {},
     "output_type": "display_data"
    }
   ],
   "source": [
    "ax = listings.room_type.value_counts().plot.pie( shadow=True, figsize=(5,5), explode=(0, 0, 0, 0.1), startangle=45 )\n",
    "ax.set_ylabel( None )\n",
    "ax.set_title( \"Room Type\" );\n",
    "plt.gcf().set_tight_layout(True)\n",
    "dp_report.add_plot( ax, \"room_type\" )"
   ]
  },
  {
   "cell_type": "markdown",
   "metadata": {},
   "source": [
    "#### Have a Look at Amenities\n",
    "\n",
    "The amenities column contains a list of features. Take care, the list is in fact a string."
   ]
  },
  {
   "cell_type": "code",
   "execution_count": 18,
   "metadata": {},
   "outputs": [
    {
     "data": {
      "text/plain": [
       "0    [\"Hot tub\", \"Heating\", \"Elevator\", \"Dryer\", \"C...\n",
       "1    [\"Fire extinguisher\", \"Air conditioning\", \"Ind...\n",
       "2    [\"Stove\", \"Bed linens\", \"Elevator\", \"Microwave...\n",
       "3    [\"Lock on bedroom door\", \"Heating\", \"Elevator\"...\n",
       "4    [\"Free parking on premises\", \"Heating\", \"Eleva...\n",
       "Name: amenities, dtype: object"
      ]
     },
     "execution_count": 18,
     "metadata": {},
     "output_type": "execute_result"
    }
   ],
   "source": [
    "listings.amenities.head()"
   ]
  },
  {
   "cell_type": "markdown",
   "metadata": {},
   "source": [
    "We split these into seperate columns for further processing."
   ]
  },
  {
   "cell_type": "code",
   "execution_count": 19,
   "metadata": {},
   "outputs": [],
   "source": [
    "def split_amenities( amenities_str ) :\n",
    "    \"\"\"\n",
    "        Transform amenities from a string representation of a list into a pandas.Series which can be used to build new columns\n",
    "        \n",
    "        Parameters:\n",
    "        amenities_list(str): A list of features in string representation\n",
    "        \n",
    "        Returns:\n",
    "        pandas.Series: columns are lowercased entries of input list with blanks replaced by underscore, values are [True/False]\n",
    "    \n",
    "    \"\"\"\n",
    "    res = dict()\n",
    "    try :\n",
    "        for key in json.loads( amenities_str ) :\n",
    "            res[key.lower().replace( \" \", \"_\" )] = 1\n",
    "    except :\n",
    "        pass\n",
    "    return pd.Series( res, dtype=\"bool\" )"
   ]
  },
  {
   "cell_type": "code",
   "execution_count": 20,
   "metadata": {},
   "outputs": [],
   "source": [
    "amenities = listings.amenities.apply( split_amenities ).fillna( 0 )"
   ]
  },
  {
   "cell_type": "code",
   "execution_count": 21,
   "metadata": {},
   "outputs": [
    {
     "data": {
      "text/html": [
       "<div>\n",
       "<style scoped>\n",
       "    .dataframe tbody tr th:only-of-type {\n",
       "        vertical-align: middle;\n",
       "    }\n",
       "\n",
       "    .dataframe tbody tr th {\n",
       "        vertical-align: top;\n",
       "    }\n",
       "\n",
       "    .dataframe thead th {\n",
       "        text-align: right;\n",
       "    }\n",
       "</style>\n",
       "<table border=\"1\" class=\"dataframe\">\n",
       "  <thead>\n",
       "    <tr style=\"text-align: right;\">\n",
       "      <th></th>\n",
       "      <th>hot_tub</th>\n",
       "      <th>heating</th>\n",
       "      <th>elevator</th>\n",
       "      <th>dryer</th>\n",
       "      <th>cable_tv</th>\n",
       "      <th>tv_with_standard_cable</th>\n",
       "      <th>washer</th>\n",
       "      <th>wifi</th>\n",
       "      <th>lake_access</th>\n",
       "      <th>essentials</th>\n",
       "      <th>...</th>\n",
       "      <th>four_micro-onde_combiné_grill_marque_weber_oven</th>\n",
       "      <th>no_body_soap</th>\n",
       "      <th>no_shampoo</th>\n",
       "      <th>yes_oven</th>\n",
       "      <th>yes_refrigerator</th>\n",
       "      <th>hdtv_with_chromecast,_netflix,_standard_cable</th>\n",
       "      <th>pain_de_savon_bio__body_soap</th>\n",
       "      <th>divers_(nuxe,_le_petit_marseillais,_well...)_body_soap</th>\n",
       "      <th>divers_(nuxe,_le_petit_marseillais,_well...)_shampoo</th>\n",
       "      <th>divers_(nuxe,_le_petit_marseillais,_well...)_conditioner</th>\n",
       "    </tr>\n",
       "  </thead>\n",
       "  <tbody>\n",
       "    <tr>\n",
       "      <th>count</th>\n",
       "      <td>8651</td>\n",
       "      <td>8651</td>\n",
       "      <td>8651</td>\n",
       "      <td>8651</td>\n",
       "      <td>8651</td>\n",
       "      <td>8651</td>\n",
       "      <td>8651</td>\n",
       "      <td>8651</td>\n",
       "      <td>8651</td>\n",
       "      <td>8651</td>\n",
       "      <td>...</td>\n",
       "      <td>8651</td>\n",
       "      <td>8651</td>\n",
       "      <td>8651</td>\n",
       "      <td>8651</td>\n",
       "      <td>8651</td>\n",
       "      <td>8651</td>\n",
       "      <td>8651</td>\n",
       "      <td>8651</td>\n",
       "      <td>8651</td>\n",
       "      <td>8651</td>\n",
       "    </tr>\n",
       "    <tr>\n",
       "      <th>unique</th>\n",
       "      <td>2</td>\n",
       "      <td>2</td>\n",
       "      <td>2</td>\n",
       "      <td>2</td>\n",
       "      <td>2</td>\n",
       "      <td>2</td>\n",
       "      <td>2</td>\n",
       "      <td>2</td>\n",
       "      <td>2</td>\n",
       "      <td>2</td>\n",
       "      <td>...</td>\n",
       "      <td>2</td>\n",
       "      <td>2</td>\n",
       "      <td>2</td>\n",
       "      <td>2</td>\n",
       "      <td>2</td>\n",
       "      <td>2</td>\n",
       "      <td>2</td>\n",
       "      <td>2</td>\n",
       "      <td>2</td>\n",
       "      <td>2</td>\n",
       "    </tr>\n",
       "    <tr>\n",
       "      <th>top</th>\n",
       "      <td>0</td>\n",
       "      <td>True</td>\n",
       "      <td>0</td>\n",
       "      <td>0</td>\n",
       "      <td>0</td>\n",
       "      <td>0</td>\n",
       "      <td>True</td>\n",
       "      <td>True</td>\n",
       "      <td>0</td>\n",
       "      <td>True</td>\n",
       "      <td>...</td>\n",
       "      <td>0</td>\n",
       "      <td>0</td>\n",
       "      <td>0</td>\n",
       "      <td>0</td>\n",
       "      <td>0</td>\n",
       "      <td>0</td>\n",
       "      <td>0</td>\n",
       "      <td>0</td>\n",
       "      <td>0</td>\n",
       "      <td>0</td>\n",
       "    </tr>\n",
       "    <tr>\n",
       "      <th>freq</th>\n",
       "      <td>8404</td>\n",
       "      <td>7223</td>\n",
       "      <td>5249</td>\n",
       "      <td>4527</td>\n",
       "      <td>6642</td>\n",
       "      <td>6738</td>\n",
       "      <td>5631</td>\n",
       "      <td>7895</td>\n",
       "      <td>7595</td>\n",
       "      <td>7702</td>\n",
       "      <td>...</td>\n",
       "      <td>8650</td>\n",
       "      <td>8650</td>\n",
       "      <td>8650</td>\n",
       "      <td>8650</td>\n",
       "      <td>8650</td>\n",
       "      <td>8650</td>\n",
       "      <td>8650</td>\n",
       "      <td>8650</td>\n",
       "      <td>8650</td>\n",
       "      <td>8650</td>\n",
       "    </tr>\n",
       "  </tbody>\n",
       "</table>\n",
       "<p>4 rows × 1046 columns</p>\n",
       "</div>"
      ],
      "text/plain": [
       "        hot_tub heating  elevator  dryer  cable_tv  tv_with_standard_cable  \\\n",
       "count      8651    8651      8651   8651      8651                    8651   \n",
       "unique        2       2         2      2         2                       2   \n",
       "top           0    True         0      0         0                       0   \n",
       "freq       8404    7223      5249   4527      6642                    6738   \n",
       "\n",
       "       washer  wifi  lake_access essentials  ...  \\\n",
       "count    8651  8651         8651       8651  ...   \n",
       "unique      2     2            2          2  ...   \n",
       "top      True  True            0       True  ...   \n",
       "freq     5631  7895         7595       7702  ...   \n",
       "\n",
       "       four_micro-onde_combiné_grill_marque_weber_oven no_body_soap  \\\n",
       "count                                             8651         8651   \n",
       "unique                                               2            2   \n",
       "top                                                  0            0   \n",
       "freq                                              8650         8650   \n",
       "\n",
       "        no_shampoo  yes_oven  yes_refrigerator  \\\n",
       "count         8651      8651              8651   \n",
       "unique           2         2                 2   \n",
       "top              0         0                 0   \n",
       "freq          8650      8650              8650   \n",
       "\n",
       "        hdtv_with_chromecast,_netflix,_standard_cable  \\\n",
       "count                                            8651   \n",
       "unique                                              2   \n",
       "top                                                 0   \n",
       "freq                                             8650   \n",
       "\n",
       "        pain_de_savon_bio__body_soap  \\\n",
       "count                           8651   \n",
       "unique                             2   \n",
       "top                                0   \n",
       "freq                            8650   \n",
       "\n",
       "       divers_(nuxe,_le_petit_marseillais,_well...)_body_soap  \\\n",
       "count                                                8651       \n",
       "unique                                                  2       \n",
       "top                                                     0       \n",
       "freq                                                 8650       \n",
       "\n",
       "       divers_(nuxe,_le_petit_marseillais,_well...)_shampoo  \\\n",
       "count                                                8651     \n",
       "unique                                                  2     \n",
       "top                                                     0     \n",
       "freq                                                 8650     \n",
       "\n",
       "        divers_(nuxe,_le_petit_marseillais,_well...)_conditioner  \n",
       "count                                                8651         \n",
       "unique                                                  2         \n",
       "top                                                     0         \n",
       "freq                                                 8650         \n",
       "\n",
       "[4 rows x 1046 columns]"
      ]
     },
     "execution_count": 21,
     "metadata": {},
     "output_type": "execute_result"
    }
   ],
   "source": [
    "amenities.describe()"
   ]
  },
  {
   "cell_type": "markdown",
   "metadata": {},
   "source": [
    "Amenities are not standardized but a manually written information by the hosts. Hence, we have quite some spread and possibly double entries. Have a look at the 30 most popular amenities and their percentage."
   ]
  },
  {
   "cell_type": "code",
   "execution_count": 22,
   "metadata": {},
   "outputs": [
    {
     "data": {
      "image/png": "[encoded data removed]",
      "text/plain": [
       "<Figure size 432x288 with 1 Axes>"
      ]
     },
     "metadata": {
      "needs_background": "light"
     },
     "output_type": "display_data"
    }
   ],
   "source": [
    "ax = (amenities.sum()/amenities.shape[0]).sort_values( ascending=False ).head(30).plot.bar()\n",
    "ax.set_ylabel( \"Percentage of all listings\" );\n",
    "ax.set_title( \"Amenities\" );\n",
    "plt.gcf().set_tight_layout(True)\n",
    "dp_report.add_plot( ax, \"amenities\" )"
   ]
  },
  {
   "cell_type": "markdown",
   "metadata": {},
   "source": [
    "How many columns in amenities have only one single entry?"
   ]
  },
  {
   "cell_type": "code",
   "execution_count": 23,
   "metadata": {},
   "outputs": [
    {
     "name": "stdout",
     "output_type": "stream",
     "text": [
      "Index(['gaggenau_oven', 'paid_parking_garage_on_premises_–_20_spaces',\n",
      "       '55\"_hdtv_with_apple_tv,_chromecast,_netflix,_standard_cable',\n",
      "       'private_outdoor_heated_rooftop_pool', 'fast_wifi_–_248_mbps',\n",
      "       'gaggenau_electric_stove', '55\"_hdtv_with_netflix,_apple_tv',\n",
      "       'dedicated_workspace:_desk,_table,_office_chair,_and_monitor',\n",
      "       'nivea__body_soap', 'aqua_di_parma_conditioner',\n",
      "       ...\n",
      "       'four_micro-onde_combiné_grill_marque_weber_oven', 'no_body_soap',\n",
      "       'no_shampoo', 'yes_oven', 'yes_refrigerator',\n",
      "       'hdtv_with_chromecast,_netflix,_standard_cable',\n",
      "       'pain_de_savon_bio__body_soap',\n",
      "       'divers_(nuxe,_le_petit_marseillais,_well...)_body_soap',\n",
      "       'divers_(nuxe,_le_petit_marseillais,_well...)_shampoo',\n",
      "       'divers_(nuxe,_le_petit_marseillais,_well...)_conditioner'],\n",
      "      dtype='object', length=613)\n"
     ]
    }
   ],
   "source": [
    "sparse_columns = amenities.loc[:,amenities.sum()==1].columns\n",
    "print( sparse_columns )"
   ]
  },
  {
   "cell_type": "markdown",
   "metadata": {},
   "source": [
    "There are 521 columns with only one entry. They cary valuable information. The description shows that they are quite specific in their formulation and could possibly be summarized in one of the more popular categories.\n",
    "\n",
    "In order to get some more structure into amenities we make some data cleaning. Build a category dict by hand."
   ]
  },
  {
   "cell_type": "code",
   "execution_count": 24,
   "metadata": {},
   "outputs": [],
   "source": [
    "categories = {\n",
    "    \"stove\" : re.compile( \"stove|^(?!.*provenant).*oven\" ),\n",
    "    \"refrigerator\" : re.compile( \"refrigerator|freezer\" ),\n",
    "    \"wifi\" : re.compile( \"wifi\" ),\n",
    "    \"sound_system\" : re.compile( \"^(?!.*tv).*sound_system\" ),\n",
    "    \"air_conditioning\" : re.compile( \"air_conditioning\" ),\n",
    "    \"patio_or_balcony\" : re.compile( \"patio_or_balcony\" ),\n",
    "    \"free_parking\" : re.compile( \"free_.*parking\" ),\n",
    "    \"paid_parking\" : re.compile( \"paid_.*parking\" ),\n",
    "    \"soap\" : re.compile( \"soap|shampoo|conditioner|shower_gel\" ),\n",
    "    \"clothing_storage\" : re.compile( \"clothing_storage\" ),\n",
    "    \"hair_dryer\" : re.compile( \"hair_dryer\" ),\n",
    "    \"dryer\" : re.compile( \"^(?!hair_dryer).*dryer\" ),\n",
    "    \"workspace\" : re.compile( \"workspace\" ),\n",
    "    \"children’s_books_and_toys\" : re.compile( \"children’s_books_and_toys\" ),\n",
    "    \"hot_tub\" : re.compile( \"hot_tub|rooftop_pool\" ),\n",
    "    \"coffee_maker\" : re.compile( \"coffee_maker|nespresso_machine\" ),\n",
    "    \"smoke_alarm\" : re.compile( \"smoke_alarm|carbon_monoxide_alarm\" ),\n",
    "    \"tv\" : re.compile( \"^tv.*|.*tv$\" ),\n",
    "    \"washer\" : re.compile( \"^(?!dish_washer).*washer\" ),\n",
    "    \"dish_washer\" : re.compile( \"dish_washer\" )\n",
    "}"
   ]
  },
  {
   "cell_type": "markdown",
   "metadata": {},
   "source": [
    "Add the top runners to the categories. Top runners are those columns with more than a given threshold portion not null:"
   ]
  },
  {
   "cell_type": "code",
   "execution_count": 25,
   "metadata": {},
   "outputs": [],
   "source": [
    "def add_top_runner_to_categories( df, category, threshold ) :\n",
    "    \"\"\"\n",
    "        add top runner categories from df to categories\n",
    "        \n",
    "        Parameter:\n",
    "        df(DataFrame) : input dataframe\n",
    "        category(dict) : dict with column names as keys and re's as values\n",
    "        threshold(float) : only consider columns with >= threshold not null values\n",
    "        \n",
    "        Output:\n",
    "        dict : new category dict\n",
    "    \"\"\"\n",
    "    new_categories = categories.copy()\n",
    "    for col in tqdm( amenities.columns ) :\n",
    "        if ( amenities[col].sum()/amenities.shape[0] >= threshold ) :\n",
    "            # make sure col is not yet matched by an already existing re\n",
    "            double = False\n",
    "            for excol, match in new_categories.items():\n",
    "                if ( match.search(col) ) :\n",
    "                    double = True\n",
    "                    break\n",
    "            if ( not double ) :\n",
    "                new_categories[col] = re.compile( col )\n",
    "    \n",
    "    return new_categories"
   ]
  },
  {
   "cell_type": "markdown",
   "metadata": {},
   "source": [
    "We concentrate on those with at least 5 percent not null entries:"
   ]
  },
  {
   "cell_type": "code",
   "execution_count": 26,
   "metadata": {},
   "outputs": [
    {
     "name": "stderr",
     "output_type": "stream",
     "text": [
      "100%|██████████| 1046/1046 [00:00<00:00, 2669.38it/s]\n"
     ]
    }
   ],
   "source": [
    "new_categories = add_top_runner_to_categories( amenities, categories, 0.05 )"
   ]
  },
  {
   "cell_type": "code",
   "execution_count": 27,
   "metadata": {},
   "outputs": [],
   "source": [
    "def collapse_columns( df, categories ) :\n",
    "    \"\"\"\n",
    "        Reduce the number of columns by their name. \n",
    "        Combines the values over collapsed columns into new columns by logical or operator.\n",
    "        Raises a ValueError in case of overlapping categories.\n",
    "        Drops empty columns\n",
    "        \n",
    "        Parameter:\n",
    "        df(DataFrame): input data with a numeric dtype\n",
    "        categories(dict): a dict containing new column names as keys and re's to match on old column names.\n",
    "        \n",
    "        Returns:\n",
    "        DataFrame: resulting df with a reduced number of columns \n",
    "        dict: a dictionary with a mapping fomr old column names to new column names\n",
    "    \n",
    "    \"\"\"\n",
    "    old_to_new = dict()\n",
    "    df_new = df.copy()\n",
    "    df_new.drop( df_new.columns, axis=1, inplace=True )\n",
    "    \n",
    "    for cat, match in tqdm(categories.items()) :\n",
    "        \n",
    "        df_new[cat] = 0\n",
    "        \n",
    "        for col in df.columns :\n",
    "            \n",
    "            if ( df[col].isnull().all() ) :\n",
    "                old_to_new[col] = None\n",
    "            elif ( match.search( col ) ) :\n",
    "                df_new[cat] |= df[col]\n",
    "                if col in old_to_new.keys() :\n",
    "                    raise ValueError( \"%s allready matched to %s\" % (col, old_to_new[col]) )\n",
    "                old_to_new[col] = cat\n",
    "    \n",
    "    for col in df_new.columns :\n",
    "        if ( (df_new[col]==0).all() ) :\n",
    "            df_new.drop( [col], axis=1, inplace=True )\n",
    "    \n",
    "    \n",
    "    return df_new, old_to_new"
   ]
  },
  {
   "cell_type": "code",
   "execution_count": 28,
   "metadata": {},
   "outputs": [
    {
     "name": "stderr",
     "output_type": "stream",
     "text": [
      "100%|██████████| 62/62 [00:17<00:00,  3.50it/s]"
     ]
    },
    {
     "name": "stdout",
     "output_type": "stream",
     "text": [
      "new_amenities contains now 61 categories\n"
     ]
    },
    {
     "name": "stderr",
     "output_type": "stream",
     "text": [
      "\n"
     ]
    }
   ],
   "source": [
    "new_amenities, old_to_new = collapse_columns( amenities, new_categories )\n",
    "print( \"new_amenities contains now %s categories\" % new_amenities.shape[1] )"
   ]
  },
  {
   "cell_type": "code",
   "execution_count": 29,
   "metadata": {},
   "outputs": [
    {
     "data": {
      "image/png": "[encoded data removed]",
      "text/plain": [
       "<Figure size 720x432 with 1 Axes>"
      ]
     },
     "metadata": {
      "needs_background": "light"
     },
     "output_type": "display_data"
    }
   ],
   "source": [
    "ax = (new_amenities.sum()/new_amenities.shape[0]).sort_values( ascending=False ).plot.bar( width=0.8, figsize=(10, 6) )\n",
    "ax.set_ylabel( \"Percentage of all listings\" );\n",
    "ax.set_title( \"Amenities\" );\n",
    "plt.gcf().set_tight_layout(True)\n",
    "dp_report.add_plot( ax, \"amenities\" )"
   ]
  },
  {
   "cell_type": "markdown",
   "metadata": {},
   "source": [
    "What are the top-10 amenities with their percentage?"
   ]
  },
  {
   "cell_type": "code",
   "execution_count": 30,
   "metadata": {},
   "outputs": [
    {
     "data": {
      "text/plain": [
       "wifi                       0.923477\n",
       "heating                    0.902092\n",
       "kitchen                    0.900012\n",
       "essentials                 0.890764\n",
       "long_term_stays_allowed    0.851578\n",
       "hangers                    0.778292\n",
       "washer                     0.772859\n",
       "hair_dryer                 0.711594\n",
       "iron                       0.693215\n",
       "hot_water                  0.687782\n",
       "dtype: float64"
      ]
     },
     "execution_count": 30,
     "metadata": {},
     "output_type": "execute_result"
    }
   ],
   "source": [
    "(new_amenities.sum()/new_amenities.shape[0]).sort_values( ascending=False ).head(10)"
   ]
  },
  {
   "cell_type": "markdown",
   "metadata": {},
   "source": [
    "### What are the prices?"
   ]
  },
  {
   "cell_type": "markdown",
   "metadata": {},
   "source": [
    "The price column seems to be a text column with a leading $ character:"
   ]
  },
  {
   "cell_type": "code",
   "execution_count": 31,
   "metadata": {},
   "outputs": [
    {
     "data": {
      "text/plain": [
       "count        8651\n",
       "unique        561\n",
       "top       $100.00\n",
       "freq          299\n",
       "Name: price, dtype: object"
      ]
     },
     "execution_count": 31,
     "metadata": {},
     "output_type": "execute_result"
    }
   ],
   "source": [
    "listings.price.describe()"
   ]
  },
  {
   "cell_type": "code",
   "execution_count": 32,
   "metadata": {},
   "outputs": [
    {
     "data": {
      "text/plain": [
       "0    $100.00\n",
       "1    $195.00\n",
       "2    $200.00\n",
       "3     $60.00\n",
       "4    $200.00\n",
       "Name: price, dtype: object"
      ]
     },
     "execution_count": 32,
     "metadata": {},
     "output_type": "execute_result"
    }
   ],
   "source": [
    "listings.price.head(5)"
   ]
  },
  {
   "cell_type": "markdown",
   "metadata": {},
   "source": [
    "Do we have a price for every listing?"
   ]
  },
  {
   "cell_type": "code",
   "execution_count": 33,
   "metadata": {},
   "outputs": [
    {
     "data": {
      "text/plain": [
       "True"
      ]
     },
     "execution_count": 33,
     "metadata": {},
     "output_type": "execute_result"
    }
   ],
   "source": [
    "listings.price.notnull().sum() == listings.shape[0]"
   ]
  },
  {
   "cell_type": "markdown",
   "metadata": {},
   "source": [
    "Generate a new column containing the price as a float:"
   ]
  },
  {
   "cell_type": "code",
   "execution_count": 34,
   "metadata": {},
   "outputs": [
    {
     "name": "stderr",
     "output_type": "stream",
     "text": [
      "<ipython-input-34-b6f6a35f612e>:1: FutureWarning: The default value of regex will change from True to False in a future version.\n",
      "  listings[\"dollar_price\"] = listings.price.str.replace( \"[$,]\", \"\" ).astype(float)\n"
     ]
    }
   ],
   "source": [
    "listings[\"dollar_price\"] = listings.price.str.replace( \"[$,]\", \"\" ).astype(float)"
   ]
  },
  {
   "cell_type": "markdown",
   "metadata": {},
   "source": [
    "Get an understanding of the prices:"
   ]
  },
  {
   "cell_type": "code",
   "execution_count": 35,
   "metadata": {},
   "outputs": [
    {
     "data": {
      "text/plain": [
       "count    8651.000000\n",
       "mean      153.930181\n",
       "std       288.274586\n",
       "min         0.000000\n",
       "25%        70.000000\n",
       "50%       100.000000\n",
       "75%       155.000000\n",
       "max      9840.000000\n",
       "Name: dollar_price, dtype: float64"
      ]
     },
     "execution_count": 35,
     "metadata": {},
     "output_type": "execute_result"
    }
   ],
   "source": [
    "listings.dollar_price.describe()"
   ]
  },
  {
   "cell_type": "markdown",
   "metadata": {},
   "source": [
    "Interestingly, there are 0$ items:"
   ]
  },
  {
   "cell_type": "code",
   "execution_count": 36,
   "metadata": {},
   "outputs": [
    {
     "data": {
      "text/plain": [
       "2"
      ]
     },
     "execution_count": 36,
     "metadata": {},
     "output_type": "execute_result"
    }
   ],
   "source": [
    "(listings.dollar_price == 0).sum()"
   ]
  },
  {
   "cell_type": "code",
   "execution_count": 37,
   "metadata": {},
   "outputs": [
    {
     "data": {
      "text/html": [
       "<div>\n",
       "<style scoped>\n",
       "    .dataframe tbody tr th:only-of-type {\n",
       "        vertical-align: middle;\n",
       "    }\n",
       "\n",
       "    .dataframe tbody tr th {\n",
       "        vertical-align: top;\n",
       "    }\n",
       "\n",
       "    .dataframe thead th {\n",
       "        text-align: right;\n",
       "    }\n",
       "</style>\n",
       "<table border=\"1\" class=\"dataframe\">\n",
       "  <thead>\n",
       "    <tr style=\"text-align: right;\">\n",
       "      <th></th>\n",
       "      <th>id</th>\n",
       "      <th>scrape_id</th>\n",
       "      <th>last_scraped</th>\n",
       "      <th>name</th>\n",
       "      <th>description</th>\n",
       "      <th>neighborhood_overview</th>\n",
       "      <th>host_id</th>\n",
       "      <th>host_name</th>\n",
       "      <th>host_since</th>\n",
       "      <th>host_location</th>\n",
       "      <th>...</th>\n",
       "      <th>review_scores_value</th>\n",
       "      <th>license</th>\n",
       "      <th>instant_bookable</th>\n",
       "      <th>calculated_host_listings_count</th>\n",
       "      <th>calculated_host_listings_count_entire_homes</th>\n",
       "      <th>calculated_host_listings_count_private_rooms</th>\n",
       "      <th>calculated_host_listings_count_shared_rooms</th>\n",
       "      <th>reviews_per_month</th>\n",
       "      <th>city</th>\n",
       "      <th>dollar_price</th>\n",
       "    </tr>\n",
       "  </thead>\n",
       "  <tbody>\n",
       "    <tr>\n",
       "      <th>1375</th>\n",
       "      <td>46326518</td>\n",
       "      <td>20211228000812</td>\n",
       "      <td>2021-12-28</td>\n",
       "      <td>citizenM Zurich</td>\n",
       "      <td>NaN</td>\n",
       "      <td>NaN</td>\n",
       "      <td>374971781</td>\n",
       "      <td>CitizenM</td>\n",
       "      <td>2020-11-09</td>\n",
       "      <td>Zürich, Zurich, Switzerland</td>\n",
       "      <td>...</td>\n",
       "      <td>4.56</td>\n",
       "      <td>NaN</td>\n",
       "      <td>f</td>\n",
       "      <td>1</td>\n",
       "      <td>0</td>\n",
       "      <td>0</td>\n",
       "      <td>0</td>\n",
       "      <td>1.45</td>\n",
       "      <td>zurich</td>\n",
       "      <td>0.0</td>\n",
       "    </tr>\n",
       "    <tr>\n",
       "      <th>1617</th>\n",
       "      <td>46327775</td>\n",
       "      <td>20211226165745</td>\n",
       "      <td>2021-12-26</td>\n",
       "      <td>citizenM Geneva</td>\n",
       "      <td>NaN</td>\n",
       "      <td>NaN</td>\n",
       "      <td>374979867</td>\n",
       "      <td>CitizenM</td>\n",
       "      <td>2020-11-09</td>\n",
       "      <td>Geneva, Geneva, Switzerland</td>\n",
       "      <td>...</td>\n",
       "      <td>4.57</td>\n",
       "      <td>NaN</td>\n",
       "      <td>f</td>\n",
       "      <td>1</td>\n",
       "      <td>0</td>\n",
       "      <td>0</td>\n",
       "      <td>0</td>\n",
       "      <td>2.74</td>\n",
       "      <td>geneva</td>\n",
       "      <td>0.0</td>\n",
       "    </tr>\n",
       "  </tbody>\n",
       "</table>\n",
       "<p>2 rows × 67 columns</p>\n",
       "</div>"
      ],
      "text/plain": [
       "            id       scrape_id last_scraped             name description  \\\n",
       "1375  46326518  20211228000812   2021-12-28  citizenM Zurich         NaN   \n",
       "1617  46327775  20211226165745   2021-12-26  citizenM Geneva         NaN   \n",
       "\n",
       "     neighborhood_overview    host_id host_name  host_since  \\\n",
       "1375                   NaN  374971781  CitizenM  2020-11-09   \n",
       "1617                   NaN  374979867  CitizenM  2020-11-09   \n",
       "\n",
       "                    host_location  ... review_scores_value license  \\\n",
       "1375  Zürich, Zurich, Switzerland  ...                4.56     NaN   \n",
       "1617  Geneva, Geneva, Switzerland  ...                4.57     NaN   \n",
       "\n",
       "     instant_bookable calculated_host_listings_count  \\\n",
       "1375                f                              1   \n",
       "1617                f                              1   \n",
       "\n",
       "     calculated_host_listings_count_entire_homes  \\\n",
       "1375                                           0   \n",
       "1617                                           0   \n",
       "\n",
       "      calculated_host_listings_count_private_rooms  \\\n",
       "1375                                             0   \n",
       "1617                                             0   \n",
       "\n",
       "      calculated_host_listings_count_shared_rooms reviews_per_month    city  \\\n",
       "1375                                            0              1.45  zurich   \n",
       "1617                                            0              2.74  geneva   \n",
       "\n",
       "     dollar_price  \n",
       "1375          0.0  \n",
       "1617          0.0  \n",
       "\n",
       "[2 rows x 67 columns]"
      ]
     },
     "execution_count": 37,
     "metadata": {},
     "output_type": "execute_result"
    }
   ],
   "source": [
    "listings[listings.dollar_price==0.]"
   ]
  },
  {
   "cell_type": "markdown",
   "metadata": {},
   "source": [
    "It can be assumed, that this is not a valid listing. Meanwhile, the given url to the listing shows a non-zero price tag. Therefore we inject a mean-value as price for the further analysis:"
   ]
  },
  {
   "cell_type": "code",
   "execution_count": 38,
   "metadata": {},
   "outputs": [],
   "source": [
    "listings['dollar_price'].replace( 0.0, listings.dollar_price.mean(), inplace=True)"
   ]
  },
  {
   "cell_type": "markdown",
   "metadata": {},
   "source": [
    "How are the prices distributed in the market?"
   ]
  },
  {
   "cell_type": "code",
   "execution_count": 39,
   "metadata": {},
   "outputs": [
    {
     "data": {
      "image/png": "[encoded data removed]",
      "text/plain": [
       "<Figure size 432x288 with 1 Axes>"
      ]
     },
     "metadata": {
      "needs_background": "light"
     },
     "output_type": "display_data"
    }
   ],
   "source": [
    "ax = listings.dollar_price.plot.hist(range=(0.0, 500.), title = \"Histogram of prices in Dollar\" )\n",
    "ax.set_ylabel( \"Count\" );\n",
    "plt.gcf().set_tight_layout(True)\n",
    "dp_report.add_plot( ax, \"prices\" )"
   ]
  },
  {
   "cell_type": "markdown",
   "metadata": {},
   "source": [
    "## Question 2: What do the reviews tell us?"
   ]
  },
  {
   "cell_type": "markdown",
   "metadata": {},
   "source": [
    "Reviews have grown since the beginning of the date-Series:"
   ]
  },
  {
   "cell_type": "code",
   "execution_count": 40,
   "metadata": {},
   "outputs": [],
   "source": [
    "reviews.date = pd.to_datetime( reviews.date )"
   ]
  },
  {
   "cell_type": "code",
   "execution_count": 41,
   "metadata": {
    "scrolled": true
   },
   "outputs": [
    {
     "data": {
      "image/png": "[encoded data removed]",
      "text/plain": [
       "<Figure size 432x288 with 1 Axes>"
      ]
     },
     "metadata": {
      "needs_background": "light"
     },
     "output_type": "display_data"
    }
   ],
   "source": [
    "yearly_reviews = reviews.id.groupby(reviews[\"date\"].dt.year).count()\n",
    "ax = yearly_reviews.plot(kind=\"bar\", title=\"Number of reviews over years\" )\n",
    "ax.set_xlabel( \"Years\" );\n",
    "plt.gcf().set_tight_layout(True)\n",
    "dp_report.add_plot( ax, \"reviews_over_year\" )"
   ]
  },
  {
   "cell_type": "markdown",
   "metadata": {},
   "source": [
    "The highest number of reviews is in 2019. 2020 shows a massive reduction of reviews going down to the level of 2018. This might be an effect of COVID19-regulations.\n",
    "\n",
    "Compute growth rates:"
   ]
  },
  {
   "cell_type": "code",
   "execution_count": 42,
   "metadata": {},
   "outputs": [
    {
     "data": {
      "image/png": "[encoded data removed]",
      "text/plain": [
       "<Figure size 432x288 with 1 Axes>"
      ]
     },
     "metadata": {
      "needs_background": "light"
     },
     "output_type": "display_data"
    }
   ],
   "source": [
    "reviews_growth = yearly_reviews.rename(\"yearly_reviews\").to_frame()\n",
    "reviews_growth[\"change\"] = reviews_growth.pct_change()*100.\n",
    "ax = reviews_growth[\"change\"].plot(kind=\"bar\", title=\"Yearly growth in reviews\" )\n",
    "ax.set_xlabel( \"Years\" );\n",
    "plt.gcf().set_tight_layout(True)\n",
    "dp_report.add_plot( ax, \"change_rates\" )"
   ]
  },
  {
   "cell_type": "markdown",
   "metadata": {},
   "source": [
    "Mean growth rates since 2010:"
   ]
  },
  {
   "cell_type": "code",
   "execution_count": 43,
   "metadata": {},
   "outputs": [
    {
     "data": {
      "text/plain": [
       "yearly_reviews    14430.166667\n",
       "change              183.186539\n",
       "dtype: float64"
      ]
     },
     "execution_count": 43,
     "metadata": {},
     "output_type": "execute_result"
    }
   ],
   "source": [
    "reviews_growth.mean()"
   ]
  },
  {
   "cell_type": "markdown",
   "metadata": {},
   "source": [
    "#### Do we have seasonal effects?"
   ]
  },
  {
   "cell_type": "code",
   "execution_count": 44,
   "metadata": {},
   "outputs": [
    {
     "data": {
      "image/png": "[encoded data removed]",
      "text/plain": [
       "<Figure size 432x288 with 1 Axes>"
      ]
     },
     "metadata": {
      "needs_background": "light"
     },
     "output_type": "display_data"
    }
   ],
   "source": [
    "ax = (reviews.id.groupby(reviews[\"date\"].dt.month).count()/reviews.shape[0]).plot(kind=\"bar\", title=\"Percentage of reviews over months\" )\n",
    "ax.set_xlabel( \"Month\" );\n",
    "plt.gcf().set_tight_layout(True)\n",
    "dp_report.add_plot( ax, \"seasons\" ) "
   ]
  },
  {
   "cell_type": "markdown",
   "metadata": {},
   "source": [
    "There are more reviews during summer and late summer in Switzerland than during winter or spring season."
   ]
  },
  {
   "cell_type": "markdown",
   "metadata": {},
   "source": [
    "The latest date in terms of the dataset is given by the scrape-date in listings:"
   ]
  },
  {
   "cell_type": "code",
   "execution_count": 45,
   "metadata": {},
   "outputs": [
    {
     "data": {
      "text/plain": [
       "Timestamp('2021-12-28 00:00:00')"
      ]
     },
     "execution_count": 45,
     "metadata": {},
     "output_type": "execute_result"
    }
   ],
   "source": [
    "listings.last_scraped = pd.to_datetime( listings.last_scraped )\n",
    "now_date = listings.last_scraped.max()\n",
    "now_date"
   ]
  },
  {
   "cell_type": "markdown",
   "metadata": {},
   "source": [
    "Get all reviews within the last 365 days from now_date:"
   ]
  },
  {
   "cell_type": "code",
   "execution_count": 46,
   "metadata": {},
   "outputs": [],
   "source": [
    "start_date = pd.DateOffset(days=-365)+pd.Timestamp( now_date )\n",
    "reviews_365 = reviews[reviews.date >= start_date]"
   ]
  },
  {
   "cell_type": "code",
   "execution_count": 47,
   "metadata": {},
   "outputs": [
    {
     "data": {
      "image/png": "[encoded data removed]",
      "text/plain": [
       "<Figure size 432x288 with 1 Axes>"
      ]
     },
     "metadata": {
      "needs_background": "light"
     },
     "output_type": "display_data"
    }
   ],
   "source": [
    "ax = reviews_365.id.groupby(reviews_365[\"date\"].dt.month).count().plot(kind=\"bar\", title=\"Number of reviews over the last 12 months\");\n",
    "ax.set_xlabel( \"Month\" );"
   ]
  },
  {
   "cell_type": "markdown",
   "metadata": {},
   "source": [
    "Obviously we have a higher number of reviews in the second semester of 2021 than in the first. This might be due to COVID19-regulations reducing the number of bookings in the early months of the year. The 2021 distribution looks quite different to the one over all years above."
   ]
  },
  {
   "cell_type": "code",
   "execution_count": 48,
   "metadata": {},
   "outputs": [
    {
     "data": {
      "image/png": "[encoded data removed]",
      "text/plain": [
       "<Figure size 432x288 with 1 Axes>"
      ]
     },
     "metadata": {
      "needs_background": "light"
     },
     "output_type": "display_data"
    }
   ],
   "source": [
    "ax = (reviews.id.groupby(reviews[\"date\"].dt.dayofweek).count()/reviews.shape[0]).plot(kind=\"bar\", title=\"Percentage of reviews over day of week\" )\n",
    "ax.set_xlabel( \"Day of Week\" );\n",
    "ax.set_xticklabels([\"Monday\", \"Tuesday\", \"Wednesday\", \"Thursday\", \"Friday\", \"Saturday\", \"Sunday\"]);\n",
    "plt.gcf().set_tight_layout(True)\n",
    "dp_report.add_plot( ax, \"day_of_week\" )"
   ]
  },
  {
   "cell_type": "markdown",
   "metadata": {},
   "source": [
    "When looking at the day of week of the review, we see more than twenty percent on Sundays and only ten percent on Tuesdays."
   ]
  },
  {
   "cell_type": "markdown",
   "metadata": {},
   "source": [
    "How many reviewers do we have? Show the top ten reviewers with their number of reviews:"
   ]
  },
  {
   "cell_type": "code",
   "execution_count": 49,
   "metadata": {},
   "outputs": [
    {
     "data": {
      "text/plain": [
       "reviewer_id\n",
       "26960561     55\n",
       "6767178      37\n",
       "368668312    36\n",
       "15660298     31\n",
       "23279882     30\n",
       "89170814     29\n",
       "86275054     27\n",
       "125644493    26\n",
       "5290071      25\n",
       "382285618    24\n",
       "Name: reviewer_id, dtype: int64"
      ]
     },
     "execution_count": 49,
     "metadata": {},
     "output_type": "execute_result"
    }
   ],
   "source": [
    "top_reviewers = reviews.reviewer_id.groupby( reviews.reviewer_id ).count().sort_values( ascending=False )\n",
    "top_reviewers.head(10)"
   ]
  },
  {
   "cell_type": "markdown",
   "metadata": {},
   "source": [
    "There are indications, that reviewers with multiple reviews, review the same listing more than once. Here are the reviews of the top candidate in the above list. Quentin has written 31 reviews for one listing within three years:"
   ]
  },
  {
   "cell_type": "code",
   "execution_count": 50,
   "metadata": {},
   "outputs": [
    {
     "data": {
      "text/html": [
       "<div>\n",
       "<style scoped>\n",
       "    .dataframe tbody tr th:only-of-type {\n",
       "        vertical-align: middle;\n",
       "    }\n",
       "\n",
       "    .dataframe tbody tr th {\n",
       "        vertical-align: top;\n",
       "    }\n",
       "\n",
       "    .dataframe thead th {\n",
       "        text-align: right;\n",
       "    }\n",
       "</style>\n",
       "<table border=\"1\" class=\"dataframe\">\n",
       "  <thead>\n",
       "    <tr style=\"text-align: right;\">\n",
       "      <th></th>\n",
       "      <th>listing_id</th>\n",
       "      <th>date</th>\n",
       "      <th>reviewer_id</th>\n",
       "      <th>reviewer_name</th>\n",
       "      <th>comments</th>\n",
       "    </tr>\n",
       "  </thead>\n",
       "  <tbody>\n",
       "    <tr>\n",
       "      <th>10022</th>\n",
       "      <td>6266377</td>\n",
       "      <td>2015-10-10</td>\n",
       "      <td>26960561</td>\n",
       "      <td>Quentin</td>\n",
       "      <td>J'ai été très bien accueilli par Frédérique.\\r...</td>\n",
       "    </tr>\n",
       "    <tr>\n",
       "      <th>64970</th>\n",
       "      <td>41746054</td>\n",
       "      <td>2020-05-08</td>\n",
       "      <td>26960561</td>\n",
       "      <td>Quentin</td>\n",
       "      <td>L'appartement de Mandira est très bien placé, ...</td>\n",
       "    </tr>\n",
       "    <tr>\n",
       "      <th>64971</th>\n",
       "      <td>41746054</td>\n",
       "      <td>2020-05-29</td>\n",
       "      <td>26960561</td>\n",
       "      <td>Quentin</td>\n",
       "      <td>Toujours parfait ! Merci à Mandira pour son ho...</td>\n",
       "    </tr>\n",
       "    <tr>\n",
       "      <th>64975</th>\n",
       "      <td>41746054</td>\n",
       "      <td>2020-06-26</td>\n",
       "      <td>26960561</td>\n",
       "      <td>Quentin</td>\n",
       "      <td>Toujours très bien accueilli chez Mandira, je ...</td>\n",
       "    </tr>\n",
       "    <tr>\n",
       "      <th>64981</th>\n",
       "      <td>41746054</td>\n",
       "      <td>2020-07-10</td>\n",
       "      <td>26960561</td>\n",
       "      <td>Quentin</td>\n",
       "      <td>J'ai encore une fois passé un très bon séjour ...</td>\n",
       "    </tr>\n",
       "    <tr>\n",
       "      <th>64985</th>\n",
       "      <td>41746054</td>\n",
       "      <td>2020-07-31</td>\n",
       "      <td>26960561</td>\n",
       "      <td>Quentin</td>\n",
       "      <td>Excellent séjour, je recommande !</td>\n",
       "    </tr>\n",
       "    <tr>\n",
       "      <th>64988</th>\n",
       "      <td>41746054</td>\n",
       "      <td>2020-08-14</td>\n",
       "      <td>26960561</td>\n",
       "      <td>Quentin</td>\n",
       "      <td>Super séjour chez Mandira, je recommande !</td>\n",
       "    </tr>\n",
       "    <tr>\n",
       "      <th>64991</th>\n",
       "      <td>41746054</td>\n",
       "      <td>2020-08-28</td>\n",
       "      <td>26960561</td>\n",
       "      <td>Quentin</td>\n",
       "      <td>Excellent séjour, je recommande !</td>\n",
       "    </tr>\n",
       "    <tr>\n",
       "      <th>64993</th>\n",
       "      <td>41746054</td>\n",
       "      <td>2020-09-04</td>\n",
       "      <td>26960561</td>\n",
       "      <td>Quentin</td>\n",
       "      <td>Mandira est très sympathique et accueillante, ...</td>\n",
       "    </tr>\n",
       "    <tr>\n",
       "      <th>64997</th>\n",
       "      <td>41746054</td>\n",
       "      <td>2020-09-11</td>\n",
       "      <td>26960561</td>\n",
       "      <td>Quentin</td>\n",
       "      <td>Très bon séjour, je recommande !</td>\n",
       "    </tr>\n",
       "    <tr>\n",
       "      <th>65000</th>\n",
       "      <td>41746054</td>\n",
       "      <td>2020-09-18</td>\n",
       "      <td>26960561</td>\n",
       "      <td>Quentin</td>\n",
       "      <td>Très bon séjour chez Mandira, comme toujours. ...</td>\n",
       "    </tr>\n",
       "    <tr>\n",
       "      <th>65001</th>\n",
       "      <td>41746054</td>\n",
       "      <td>2020-09-25</td>\n",
       "      <td>26960561</td>\n",
       "      <td>Quentin</td>\n",
       "      <td>Toujours très bien, logement propre, Mandira e...</td>\n",
       "    </tr>\n",
       "    <tr>\n",
       "      <th>65004</th>\n",
       "      <td>41746054</td>\n",
       "      <td>2020-10-02</td>\n",
       "      <td>26960561</td>\n",
       "      <td>Quentin</td>\n",
       "      <td>L'appartement de Mandira est propre et parfait...</td>\n",
       "    </tr>\n",
       "    <tr>\n",
       "      <th>65008</th>\n",
       "      <td>41746054</td>\n",
       "      <td>2020-10-16</td>\n",
       "      <td>26960561</td>\n",
       "      <td>Quentin</td>\n",
       "      <td>Toujours conforme à la description, logement f...</td>\n",
       "    </tr>\n",
       "    <tr>\n",
       "      <th>65011</th>\n",
       "      <td>41746054</td>\n",
       "      <td>2020-10-23</td>\n",
       "      <td>26960561</td>\n",
       "      <td>Quentin</td>\n",
       "      <td>Tout était super, je remercie Mandira pour son...</td>\n",
       "    </tr>\n",
       "    <tr>\n",
       "      <th>65013</th>\n",
       "      <td>41746054</td>\n",
       "      <td>2020-10-30</td>\n",
       "      <td>26960561</td>\n",
       "      <td>Quentin</td>\n",
       "      <td>Toujours très bon séjour chez Mandira, tout ét...</td>\n",
       "    </tr>\n",
       "    <tr>\n",
       "      <th>65015</th>\n",
       "      <td>41746054</td>\n",
       "      <td>2020-11-06</td>\n",
       "      <td>26960561</td>\n",
       "      <td>Quentin</td>\n",
       "      <td>Très bien, je recommande !!!</td>\n",
       "    </tr>\n",
       "    <tr>\n",
       "      <th>65017</th>\n",
       "      <td>41746054</td>\n",
       "      <td>2020-11-13</td>\n",
       "      <td>26960561</td>\n",
       "      <td>Quentin</td>\n",
       "      <td>Très bon séjour dans l'appartement de Mandira ...</td>\n",
       "    </tr>\n",
       "    <tr>\n",
       "      <th>65018</th>\n",
       "      <td>41746054</td>\n",
       "      <td>2020-11-14</td>\n",
       "      <td>26960561</td>\n",
       "      <td>Quentin</td>\n",
       "      <td>Je recommande, tout s'est très bien passé !</td>\n",
       "    </tr>\n",
       "    <tr>\n",
       "      <th>65021</th>\n",
       "      <td>41746054</td>\n",
       "      <td>2020-11-20</td>\n",
       "      <td>26960561</td>\n",
       "      <td>Quentin</td>\n",
       "      <td>Excellent séjour chez Mandira qui est une hôte...</td>\n",
       "    </tr>\n",
       "    <tr>\n",
       "      <th>65023</th>\n",
       "      <td>41746054</td>\n",
       "      <td>2020-11-27</td>\n",
       "      <td>26960561</td>\n",
       "      <td>Quentin</td>\n",
       "      <td>Excellent séjour chez Mandira qui est une hôte...</td>\n",
       "    </tr>\n",
       "    <tr>\n",
       "      <th>65025</th>\n",
       "      <td>41746054</td>\n",
       "      <td>2020-12-04</td>\n",
       "      <td>26960561</td>\n",
       "      <td>Quentin</td>\n",
       "      <td>Très bon séjour, je recommande !</td>\n",
       "    </tr>\n",
       "    <tr>\n",
       "      <th>65027</th>\n",
       "      <td>41746054</td>\n",
       "      <td>2020-12-11</td>\n",
       "      <td>26960561</td>\n",
       "      <td>Quentin</td>\n",
       "      <td>Excellent séjour chez Mandira, appartement idé...</td>\n",
       "    </tr>\n",
       "    <tr>\n",
       "      <th>65030</th>\n",
       "      <td>41746054</td>\n",
       "      <td>2020-12-18</td>\n",
       "      <td>26960561</td>\n",
       "      <td>Quentin</td>\n",
       "      <td>J'ai passé un très bon séjour chez Mandira. L'...</td>\n",
       "    </tr>\n",
       "    <tr>\n",
       "      <th>65033</th>\n",
       "      <td>41746054</td>\n",
       "      <td>2021-01-08</td>\n",
       "      <td>26960561</td>\n",
       "      <td>Quentin</td>\n",
       "      <td>Toujours très bien ! Mandira est une hôte symp...</td>\n",
       "    </tr>\n",
       "    <tr>\n",
       "      <th>65035</th>\n",
       "      <td>41746054</td>\n",
       "      <td>2021-01-15</td>\n",
       "      <td>26960561</td>\n",
       "      <td>Quentin</td>\n",
       "      <td>Super séjour, Mandira est une hôte très intére...</td>\n",
       "    </tr>\n",
       "    <tr>\n",
       "      <th>65037</th>\n",
       "      <td>41746054</td>\n",
       "      <td>2021-01-22</td>\n",
       "      <td>26960561</td>\n",
       "      <td>Quentin</td>\n",
       "      <td>Tout s'est très bien passé, je recommande ce l...</td>\n",
       "    </tr>\n",
       "    <tr>\n",
       "      <th>65038</th>\n",
       "      <td>41746054</td>\n",
       "      <td>2021-02-05</td>\n",
       "      <td>26960561</td>\n",
       "      <td>Quentin</td>\n",
       "      <td>L'appartement est conforme à la description, t...</td>\n",
       "    </tr>\n",
       "    <tr>\n",
       "      <th>65040</th>\n",
       "      <td>41746054</td>\n",
       "      <td>2021-02-12</td>\n",
       "      <td>26960561</td>\n",
       "      <td>Quentin</td>\n",
       "      <td>Super séjour, Mandira est une hôte très sympat...</td>\n",
       "    </tr>\n",
       "    <tr>\n",
       "      <th>65042</th>\n",
       "      <td>41746054</td>\n",
       "      <td>2021-02-26</td>\n",
       "      <td>26960561</td>\n",
       "      <td>Quentin</td>\n",
       "      <td>Je recommande, tout était parfait !</td>\n",
       "    </tr>\n",
       "    <tr>\n",
       "      <th>65044</th>\n",
       "      <td>41746054</td>\n",
       "      <td>2021-03-05</td>\n",
       "      <td>26960561</td>\n",
       "      <td>Quentin</td>\n",
       "      <td>Logement très bien situé à Lausanne, proche de...</td>\n",
       "    </tr>\n",
       "    <tr>\n",
       "      <th>65046</th>\n",
       "      <td>41746054</td>\n",
       "      <td>2021-03-12</td>\n",
       "      <td>26960561</td>\n",
       "      <td>Quentin</td>\n",
       "      <td>Très bon séjour, je recommande !</td>\n",
       "    </tr>\n",
       "    <tr>\n",
       "      <th>65049</th>\n",
       "      <td>41746054</td>\n",
       "      <td>2021-03-26</td>\n",
       "      <td>26960561</td>\n",
       "      <td>Quentin</td>\n",
       "      <td>Très bon séjour, je recommande !</td>\n",
       "    </tr>\n",
       "    <tr>\n",
       "      <th>65053</th>\n",
       "      <td>41746054</td>\n",
       "      <td>2021-04-09</td>\n",
       "      <td>26960561</td>\n",
       "      <td>Quentin</td>\n",
       "      <td>Très bon séjour, Mandira est très sympathique ...</td>\n",
       "    </tr>\n",
       "    <tr>\n",
       "      <th>65057</th>\n",
       "      <td>41746054</td>\n",
       "      <td>2021-04-23</td>\n",
       "      <td>26960561</td>\n",
       "      <td>Quentin</td>\n",
       "      <td>Mandira est une hôte très gentille, discussion...</td>\n",
       "    </tr>\n",
       "    <tr>\n",
       "      <th>65060</th>\n",
       "      <td>41746054</td>\n",
       "      <td>2021-04-30</td>\n",
       "      <td>26960561</td>\n",
       "      <td>Quentin</td>\n",
       "      <td>Super séjour, je recommande !</td>\n",
       "    </tr>\n",
       "    <tr>\n",
       "      <th>65063</th>\n",
       "      <td>41746054</td>\n",
       "      <td>2021-05-07</td>\n",
       "      <td>26960561</td>\n",
       "      <td>Quentin</td>\n",
       "      <td>Logement conforme à la description, propre et ...</td>\n",
       "    </tr>\n",
       "    <tr>\n",
       "      <th>65068</th>\n",
       "      <td>41746054</td>\n",
       "      <td>2021-05-28</td>\n",
       "      <td>26960561</td>\n",
       "      <td>Quentin</td>\n",
       "      <td>Super séjour, je recommande !</td>\n",
       "    </tr>\n",
       "    <tr>\n",
       "      <th>65078</th>\n",
       "      <td>41746054</td>\n",
       "      <td>2021-07-02</td>\n",
       "      <td>26960561</td>\n",
       "      <td>Quentin</td>\n",
       "      <td>Excellent séjour, appartement très bien situé,...</td>\n",
       "    </tr>\n",
       "    <tr>\n",
       "      <th>65081</th>\n",
       "      <td>41746054</td>\n",
       "      <td>2021-07-16</td>\n",
       "      <td>26960561</td>\n",
       "      <td>Quentin</td>\n",
       "      <td>Excellent séjour, Mandira est une hôte très sy...</td>\n",
       "    </tr>\n",
       "    <tr>\n",
       "      <th>65083</th>\n",
       "      <td>41746054</td>\n",
       "      <td>2021-07-23</td>\n",
       "      <td>26960561</td>\n",
       "      <td>Quentin</td>\n",
       "      <td>Logement propre et très bien situé. Mandira es...</td>\n",
       "    </tr>\n",
       "    <tr>\n",
       "      <th>65085</th>\n",
       "      <td>41746054</td>\n",
       "      <td>2021-07-30</td>\n",
       "      <td>26960561</td>\n",
       "      <td>Quentin</td>\n",
       "      <td>Très bon séjour chez Mandira. Elle est très sy...</td>\n",
       "    </tr>\n",
       "    <tr>\n",
       "      <th>65091</th>\n",
       "      <td>41746054</td>\n",
       "      <td>2021-08-13</td>\n",
       "      <td>26960561</td>\n",
       "      <td>Quentin</td>\n",
       "      <td>J'ai passé un très bon séjour chez Mandira. El...</td>\n",
       "    </tr>\n",
       "    <tr>\n",
       "      <th>65095</th>\n",
       "      <td>41746054</td>\n",
       "      <td>2021-08-20</td>\n",
       "      <td>26960561</td>\n",
       "      <td>Quentin</td>\n",
       "      <td>Appartement conforme à la description, propre ...</td>\n",
       "    </tr>\n",
       "    <tr>\n",
       "      <th>65098</th>\n",
       "      <td>41746054</td>\n",
       "      <td>2021-08-27</td>\n",
       "      <td>26960561</td>\n",
       "      <td>Quentin</td>\n",
       "      <td>Excellent séjour chez Mandira, discussions int...</td>\n",
       "    </tr>\n",
       "    <tr>\n",
       "      <th>65101</th>\n",
       "      <td>41746054</td>\n",
       "      <td>2021-09-03</td>\n",
       "      <td>26960561</td>\n",
       "      <td>Quentin</td>\n",
       "      <td>Excellent séjour, je recommande ! Tout était t...</td>\n",
       "    </tr>\n",
       "    <tr>\n",
       "      <th>65105</th>\n",
       "      <td>41746054</td>\n",
       "      <td>2021-09-10</td>\n",
       "      <td>26960561</td>\n",
       "      <td>Quentin</td>\n",
       "      <td>Très bon séjour chez Mandira, super accueil et...</td>\n",
       "    </tr>\n",
       "    <tr>\n",
       "      <th>65111</th>\n",
       "      <td>41746054</td>\n",
       "      <td>2021-09-24</td>\n",
       "      <td>26960561</td>\n",
       "      <td>Quentin</td>\n",
       "      <td>Appartement propre et bien situé, conforme à l...</td>\n",
       "    </tr>\n",
       "    <tr>\n",
       "      <th>65114</th>\n",
       "      <td>41746054</td>\n",
       "      <td>2021-10-01</td>\n",
       "      <td>26960561</td>\n",
       "      <td>Quentin</td>\n",
       "      <td>Très bon séjour chez Mandira, l'appartement es...</td>\n",
       "    </tr>\n",
       "    <tr>\n",
       "      <th>65117</th>\n",
       "      <td>41746054</td>\n",
       "      <td>2021-10-08</td>\n",
       "      <td>26960561</td>\n",
       "      <td>Quentin</td>\n",
       "      <td>Très bon séjour, tout est conforme à la descri...</td>\n",
       "    </tr>\n",
       "    <tr>\n",
       "      <th>65119</th>\n",
       "      <td>41746054</td>\n",
       "      <td>2021-10-15</td>\n",
       "      <td>26960561</td>\n",
       "      <td>Quentin</td>\n",
       "      <td>Très bon séjour chez Mandira, elle est très sy...</td>\n",
       "    </tr>\n",
       "    <tr>\n",
       "      <th>65123</th>\n",
       "      <td>41746054</td>\n",
       "      <td>2021-10-29</td>\n",
       "      <td>26960561</td>\n",
       "      <td>Quentin</td>\n",
       "      <td>L'appartement est conforme à la description, p...</td>\n",
       "    </tr>\n",
       "    <tr>\n",
       "      <th>65127</th>\n",
       "      <td>41746054</td>\n",
       "      <td>2021-11-12</td>\n",
       "      <td>26960561</td>\n",
       "      <td>Quentin</td>\n",
       "      <td>Très bon séjour chez Mandira, elle est très sy...</td>\n",
       "    </tr>\n",
       "    <tr>\n",
       "      <th>65130</th>\n",
       "      <td>41746054</td>\n",
       "      <td>2021-11-19</td>\n",
       "      <td>26960561</td>\n",
       "      <td>Quentin</td>\n",
       "      <td>Appartement propre et bien situé, conforme à l...</td>\n",
       "    </tr>\n",
       "    <tr>\n",
       "      <th>65133</th>\n",
       "      <td>41746054</td>\n",
       "      <td>2021-11-26</td>\n",
       "      <td>26960561</td>\n",
       "      <td>Quentin</td>\n",
       "      <td>Très bon séjour, Mandira est une hôte très sym...</td>\n",
       "    </tr>\n",
       "  </tbody>\n",
       "</table>\n",
       "</div>"
      ],
      "text/plain": [
       "       listing_id       date  reviewer_id reviewer_name  \\\n",
       "10022     6266377 2015-10-10     26960561       Quentin   \n",
       "64970    41746054 2020-05-08     26960561       Quentin   \n",
       "64971    41746054 2020-05-29     26960561       Quentin   \n",
       "64975    41746054 2020-06-26     26960561       Quentin   \n",
       "64981    41746054 2020-07-10     26960561       Quentin   \n",
       "64985    41746054 2020-07-31     26960561       Quentin   \n",
       "64988    41746054 2020-08-14     26960561       Quentin   \n",
       "64991    41746054 2020-08-28     26960561       Quentin   \n",
       "64993    41746054 2020-09-04     26960561       Quentin   \n",
       "64997    41746054 2020-09-11     26960561       Quentin   \n",
       "65000    41746054 2020-09-18     26960561       Quentin   \n",
       "65001    41746054 2020-09-25     26960561       Quentin   \n",
       "65004    41746054 2020-10-02     26960561       Quentin   \n",
       "65008    41746054 2020-10-16     26960561       Quentin   \n",
       "65011    41746054 2020-10-23     26960561       Quentin   \n",
       "65013    41746054 2020-10-30     26960561       Quentin   \n",
       "65015    41746054 2020-11-06     26960561       Quentin   \n",
       "65017    41746054 2020-11-13     26960561       Quentin   \n",
       "65018    41746054 2020-11-14     26960561       Quentin   \n",
       "65021    41746054 2020-11-20     26960561       Quentin   \n",
       "65023    41746054 2020-11-27     26960561       Quentin   \n",
       "65025    41746054 2020-12-04     26960561       Quentin   \n",
       "65027    41746054 2020-12-11     26960561       Quentin   \n",
       "65030    41746054 2020-12-18     26960561       Quentin   \n",
       "65033    41746054 2021-01-08     26960561       Quentin   \n",
       "65035    41746054 2021-01-15     26960561       Quentin   \n",
       "65037    41746054 2021-01-22     26960561       Quentin   \n",
       "65038    41746054 2021-02-05     26960561       Quentin   \n",
       "65040    41746054 2021-02-12     26960561       Quentin   \n",
       "65042    41746054 2021-02-26     26960561       Quentin   \n",
       "65044    41746054 2021-03-05     26960561       Quentin   \n",
       "65046    41746054 2021-03-12     26960561       Quentin   \n",
       "65049    41746054 2021-03-26     26960561       Quentin   \n",
       "65053    41746054 2021-04-09     26960561       Quentin   \n",
       "65057    41746054 2021-04-23     26960561       Quentin   \n",
       "65060    41746054 2021-04-30     26960561       Quentin   \n",
       "65063    41746054 2021-05-07     26960561       Quentin   \n",
       "65068    41746054 2021-05-28     26960561       Quentin   \n",
       "65078    41746054 2021-07-02     26960561       Quentin   \n",
       "65081    41746054 2021-07-16     26960561       Quentin   \n",
       "65083    41746054 2021-07-23     26960561       Quentin   \n",
       "65085    41746054 2021-07-30     26960561       Quentin   \n",
       "65091    41746054 2021-08-13     26960561       Quentin   \n",
       "65095    41746054 2021-08-20     26960561       Quentin   \n",
       "65098    41746054 2021-08-27     26960561       Quentin   \n",
       "65101    41746054 2021-09-03     26960561       Quentin   \n",
       "65105    41746054 2021-09-10     26960561       Quentin   \n",
       "65111    41746054 2021-09-24     26960561       Quentin   \n",
       "65114    41746054 2021-10-01     26960561       Quentin   \n",
       "65117    41746054 2021-10-08     26960561       Quentin   \n",
       "65119    41746054 2021-10-15     26960561       Quentin   \n",
       "65123    41746054 2021-10-29     26960561       Quentin   \n",
       "65127    41746054 2021-11-12     26960561       Quentin   \n",
       "65130    41746054 2021-11-19     26960561       Quentin   \n",
       "65133    41746054 2021-11-26     26960561       Quentin   \n",
       "\n",
       "                                                comments  \n",
       "10022  J'ai été très bien accueilli par Frédérique.\\r...  \n",
       "64970  L'appartement de Mandira est très bien placé, ...  \n",
       "64971  Toujours parfait ! Merci à Mandira pour son ho...  \n",
       "64975  Toujours très bien accueilli chez Mandira, je ...  \n",
       "64981  J'ai encore une fois passé un très bon séjour ...  \n",
       "64985                  Excellent séjour, je recommande !  \n",
       "64988         Super séjour chez Mandira, je recommande !  \n",
       "64991                  Excellent séjour, je recommande !  \n",
       "64993  Mandira est très sympathique et accueillante, ...  \n",
       "64997                   Très bon séjour, je recommande !  \n",
       "65000  Très bon séjour chez Mandira, comme toujours. ...  \n",
       "65001  Toujours très bien, logement propre, Mandira e...  \n",
       "65004  L'appartement de Mandira est propre et parfait...  \n",
       "65008  Toujours conforme à la description, logement f...  \n",
       "65011  Tout était super, je remercie Mandira pour son...  \n",
       "65013  Toujours très bon séjour chez Mandira, tout ét...  \n",
       "65015                       Très bien, je recommande !!!  \n",
       "65017  Très bon séjour dans l'appartement de Mandira ...  \n",
       "65018        Je recommande, tout s'est très bien passé !  \n",
       "65021  Excellent séjour chez Mandira qui est une hôte...  \n",
       "65023  Excellent séjour chez Mandira qui est une hôte...  \n",
       "65025                   Très bon séjour, je recommande !  \n",
       "65027  Excellent séjour chez Mandira, appartement idé...  \n",
       "65030  J'ai passé un très bon séjour chez Mandira. L'...  \n",
       "65033  Toujours très bien ! Mandira est une hôte symp...  \n",
       "65035  Super séjour, Mandira est une hôte très intére...  \n",
       "65037  Tout s'est très bien passé, je recommande ce l...  \n",
       "65038  L'appartement est conforme à la description, t...  \n",
       "65040  Super séjour, Mandira est une hôte très sympat...  \n",
       "65042                Je recommande, tout était parfait !  \n",
       "65044  Logement très bien situé à Lausanne, proche de...  \n",
       "65046                   Très bon séjour, je recommande !  \n",
       "65049                   Très bon séjour, je recommande !  \n",
       "65053  Très bon séjour, Mandira est très sympathique ...  \n",
       "65057  Mandira est une hôte très gentille, discussion...  \n",
       "65060                      Super séjour, je recommande !  \n",
       "65063  Logement conforme à la description, propre et ...  \n",
       "65068                      Super séjour, je recommande !  \n",
       "65078  Excellent séjour, appartement très bien situé,...  \n",
       "65081  Excellent séjour, Mandira est une hôte très sy...  \n",
       "65083  Logement propre et très bien situé. Mandira es...  \n",
       "65085  Très bon séjour chez Mandira. Elle est très sy...  \n",
       "65091  J'ai passé un très bon séjour chez Mandira. El...  \n",
       "65095  Appartement conforme à la description, propre ...  \n",
       "65098  Excellent séjour chez Mandira, discussions int...  \n",
       "65101  Excellent séjour, je recommande ! Tout était t...  \n",
       "65105  Très bon séjour chez Mandira, super accueil et...  \n",
       "65111  Appartement propre et bien situé, conforme à l...  \n",
       "65114  Très bon séjour chez Mandira, l'appartement es...  \n",
       "65117  Très bon séjour, tout est conforme à la descri...  \n",
       "65119  Très bon séjour chez Mandira, elle est très sy...  \n",
       "65123  L'appartement est conforme à la description, p...  \n",
       "65127  Très bon séjour chez Mandira, elle est très sy...  \n",
       "65130  Appartement propre et bien situé, conforme à l...  \n",
       "65133  Très bon séjour, Mandira est une hôte très sym...  "
      ]
     },
     "execution_count": 50,
     "metadata": {},
     "output_type": "execute_result"
    }
   ],
   "source": [
    "influencer = reviews[reviews.reviewer_id==top_reviewers.index[0]]\n",
    "influencer = influencer.drop( [\"id\", \"city\"], axis=1 )\n",
    "dp_report.add_table( influencer, \"influencer\" )\n",
    "influencer"
   ]
  },
  {
   "cell_type": "code",
   "execution_count": 51,
   "metadata": {},
   "outputs": [
    {
     "data": {
      "text/plain": [
       "41746054    54\n",
       "6266377      1\n",
       "Name: listing_id, dtype: int64"
      ]
     },
     "execution_count": 51,
     "metadata": {},
     "output_type": "execute_result"
    }
   ],
   "source": [
    "reviews.iloc[np.where( reviews.reviewer_id==top_reviewers.index[0] )].listing_id.value_counts()"
   ]
  },
  {
   "cell_type": "code",
   "execution_count": 52,
   "metadata": {},
   "outputs": [
    {
     "data": {
      "text/html": [
       "<div>\n",
       "<style scoped>\n",
       "    .dataframe tbody tr th:only-of-type {\n",
       "        vertical-align: middle;\n",
       "    }\n",
       "\n",
       "    .dataframe tbody tr th {\n",
       "        vertical-align: top;\n",
       "    }\n",
       "\n",
       "    .dataframe thead th {\n",
       "        text-align: right;\n",
       "    }\n",
       "</style>\n",
       "<table border=\"1\" class=\"dataframe\">\n",
       "  <thead>\n",
       "    <tr style=\"text-align: right;\">\n",
       "      <th></th>\n",
       "      <th>reviewer_id</th>\n",
       "      <th>listing_id</th>\n",
       "      <th>multiple_reviews_count</th>\n",
       "    </tr>\n",
       "  </thead>\n",
       "  <tbody>\n",
       "    <tr>\n",
       "      <th>0</th>\n",
       "      <td>26960561</td>\n",
       "      <td>41746054</td>\n",
       "      <td>54</td>\n",
       "    </tr>\n",
       "    <tr>\n",
       "      <th>1</th>\n",
       "      <td>15660298</td>\n",
       "      <td>3073966</td>\n",
       "      <td>31</td>\n",
       "    </tr>\n",
       "    <tr>\n",
       "      <th>2</th>\n",
       "      <td>86275054</td>\n",
       "      <td>12531745</td>\n",
       "      <td>24</td>\n",
       "    </tr>\n",
       "    <tr>\n",
       "      <th>3</th>\n",
       "      <td>101206495</td>\n",
       "      <td>898829</td>\n",
       "      <td>19</td>\n",
       "    </tr>\n",
       "    <tr>\n",
       "      <th>4</th>\n",
       "      <td>6767178</td>\n",
       "      <td>19820423</td>\n",
       "      <td>19</td>\n",
       "    </tr>\n",
       "    <tr>\n",
       "      <th>...</th>\n",
       "      <td>...</td>\n",
       "      <td>...</td>\n",
       "      <td>...</td>\n",
       "    </tr>\n",
       "    <tr>\n",
       "      <th>168392</th>\n",
       "      <td>36432009</td>\n",
       "      <td>3096833</td>\n",
       "      <td>1</td>\n",
       "    </tr>\n",
       "    <tr>\n",
       "      <th>168393</th>\n",
       "      <td>36432401</td>\n",
       "      <td>29838232</td>\n",
       "      <td>1</td>\n",
       "    </tr>\n",
       "    <tr>\n",
       "      <th>168394</th>\n",
       "      <td>36432654</td>\n",
       "      <td>4887567</td>\n",
       "      <td>1</td>\n",
       "    </tr>\n",
       "    <tr>\n",
       "      <th>168395</th>\n",
       "      <td>36433903</td>\n",
       "      <td>4797373</td>\n",
       "      <td>1</td>\n",
       "    </tr>\n",
       "    <tr>\n",
       "      <th>168396</th>\n",
       "      <td>436646596</td>\n",
       "      <td>6857376</td>\n",
       "      <td>1</td>\n",
       "    </tr>\n",
       "  </tbody>\n",
       "</table>\n",
       "<p>168397 rows × 3 columns</p>\n",
       "</div>"
      ],
      "text/plain": [
       "        reviewer_id  listing_id  multiple_reviews_count\n",
       "0          26960561    41746054                      54\n",
       "1          15660298     3073966                      31\n",
       "2          86275054    12531745                      24\n",
       "3         101206495      898829                      19\n",
       "4           6767178    19820423                      19\n",
       "...             ...         ...                     ...\n",
       "168392     36432009     3096833                       1\n",
       "168393     36432401    29838232                       1\n",
       "168394     36432654     4887567                       1\n",
       "168395     36433903     4797373                       1\n",
       "168396    436646596     6857376                       1\n",
       "\n",
       "[168397 rows x 3 columns]"
      ]
     },
     "execution_count": 52,
     "metadata": {},
     "output_type": "execute_result"
    }
   ],
   "source": [
    "multiple_reviews = reviews.groupby( [\"reviewer_id\"] ).listing_id.value_counts().sort_values( ascending=False )\n",
    "multiple_reviews.rename( \"multiple_reviews_count\", inplace=True )\n",
    "multiple_reviews = multiple_reviews.reset_index()\n",
    "multiple_reviews"
   ]
  },
  {
   "cell_type": "code",
   "execution_count": 53,
   "metadata": {},
   "outputs": [],
   "source": [
    "reviewer_name = reviews.groupby( [\"reviewer_id\"] ).reviewer_name.first()"
   ]
  },
  {
   "cell_type": "code",
   "execution_count": 54,
   "metadata": {},
   "outputs": [
    {
     "data": {
      "text/html": [
       "<div>\n",
       "<style scoped>\n",
       "    .dataframe tbody tr th:only-of-type {\n",
       "        vertical-align: middle;\n",
       "    }\n",
       "\n",
       "    .dataframe tbody tr th {\n",
       "        vertical-align: top;\n",
       "    }\n",
       "\n",
       "    .dataframe thead th {\n",
       "        text-align: right;\n",
       "    }\n",
       "</style>\n",
       "<table border=\"1\" class=\"dataframe\">\n",
       "  <thead>\n",
       "    <tr style=\"text-align: right;\">\n",
       "      <th></th>\n",
       "      <th>reviewer_id</th>\n",
       "      <th>listing_id</th>\n",
       "      <th>multiple_reviews_count</th>\n",
       "      <th>reviewer_name</th>\n",
       "    </tr>\n",
       "  </thead>\n",
       "  <tbody>\n",
       "    <tr>\n",
       "      <th>0</th>\n",
       "      <td>26960561</td>\n",
       "      <td>41746054</td>\n",
       "      <td>54</td>\n",
       "      <td>Quentin</td>\n",
       "    </tr>\n",
       "    <tr>\n",
       "      <th>2</th>\n",
       "      <td>15660298</td>\n",
       "      <td>3073966</td>\n",
       "      <td>31</td>\n",
       "      <td>Felix</td>\n",
       "    </tr>\n",
       "    <tr>\n",
       "      <th>3</th>\n",
       "      <td>86275054</td>\n",
       "      <td>12531745</td>\n",
       "      <td>24</td>\n",
       "      <td>Stephan</td>\n",
       "    </tr>\n",
       "    <tr>\n",
       "      <th>5</th>\n",
       "      <td>101206495</td>\n",
       "      <td>898829</td>\n",
       "      <td>19</td>\n",
       "      <td>Ali</td>\n",
       "    </tr>\n",
       "    <tr>\n",
       "      <th>6</th>\n",
       "      <td>6767178</td>\n",
       "      <td>19820423</td>\n",
       "      <td>19</td>\n",
       "      <td>Joelle</td>\n",
       "    </tr>\n",
       "    <tr>\n",
       "      <th>...</th>\n",
       "      <td>...</td>\n",
       "      <td>...</td>\n",
       "      <td>...</td>\n",
       "      <td>...</td>\n",
       "    </tr>\n",
       "    <tr>\n",
       "      <th>58368</th>\n",
       "      <td>388511163</td>\n",
       "      <td>47438688</td>\n",
       "      <td>1</td>\n",
       "      <td>Alexandre</td>\n",
       "    </tr>\n",
       "    <tr>\n",
       "      <th>58369</th>\n",
       "      <td>388516223</td>\n",
       "      <td>47310245</td>\n",
       "      <td>1</td>\n",
       "      <td>Olivier</td>\n",
       "    </tr>\n",
       "    <tr>\n",
       "      <th>58370</th>\n",
       "      <td>388563899</td>\n",
       "      <td>42537709</td>\n",
       "      <td>1</td>\n",
       "      <td>Arnaud</td>\n",
       "    </tr>\n",
       "    <tr>\n",
       "      <th>58371</th>\n",
       "      <td>388523618</td>\n",
       "      <td>38408552</td>\n",
       "      <td>1</td>\n",
       "      <td>Barbara</td>\n",
       "    </tr>\n",
       "    <tr>\n",
       "      <th>168396</th>\n",
       "      <td>436646596</td>\n",
       "      <td>6857376</td>\n",
       "      <td>1</td>\n",
       "      <td>Hazem</td>\n",
       "    </tr>\n",
       "  </tbody>\n",
       "</table>\n",
       "<p>168397 rows × 4 columns</p>\n",
       "</div>"
      ],
      "text/plain": [
       "        reviewer_id  listing_id  multiple_reviews_count reviewer_name\n",
       "0          26960561    41746054                      54       Quentin\n",
       "2          15660298     3073966                      31         Felix\n",
       "3          86275054    12531745                      24       Stephan\n",
       "5         101206495      898829                      19           Ali\n",
       "6           6767178    19820423                      19        Joelle\n",
       "...             ...         ...                     ...           ...\n",
       "58368     388511163    47438688                       1     Alexandre\n",
       "58369     388516223    47310245                       1       Olivier\n",
       "58370     388563899    42537709                       1        Arnaud\n",
       "58371     388523618    38408552                       1       Barbara\n",
       "168396    436646596     6857376                       1         Hazem\n",
       "\n",
       "[168397 rows x 4 columns]"
      ]
     },
     "execution_count": 54,
     "metadata": {},
     "output_type": "execute_result"
    }
   ],
   "source": [
    "review_count = pd.merge( multiple_reviews, reviewer_name.to_frame(), on=\"reviewer_id\" ).sort_values( \"multiple_reviews_count\", ascending=False )\n",
    "review_count"
   ]
  },
  {
   "cell_type": "code",
   "execution_count": 55,
   "metadata": {},
   "outputs": [
    {
     "name": "stdout",
     "output_type": "stream",
     "text": [
      "326 reviews have been written by 19 reviewers about 20 listings.\n"
     ]
    }
   ],
   "source": [
    "review_subset = review_count[review_count.multiple_reviews_count>=10]\n",
    "num_reviews = review_subset.multiple_reviews_count.sum()\n",
    "num_reviewers = len(review_subset.reviewer_id.unique())\n",
    "num_listings = len(review_subset.listing_id.unique())\n",
    "print( \"%s reviews have been written by %s reviewers about %s listings.\" % (num_reviews, num_reviewers, num_listings))"
   ]
  },
  {
   "cell_type": "code",
   "execution_count": 56,
   "metadata": {},
   "outputs": [],
   "source": [
    "most_active_reviewers = review_subset[[\"reviewer_name\", \"multiple_reviews_count\", \"listing_id\"]]\n",
    "dp_report.add_table( most_active_reviewers, \"most_active_reviewers\")"
   ]
  },
  {
   "cell_type": "markdown",
   "metadata": {},
   "source": [
    "## Question 3: How can you optimize your revenue as a host?\n",
    "### Estimate the number of Bookings and Revenue"
   ]
  },
  {
   "cell_type": "markdown",
   "metadata": {},
   "source": [
    "In the following we estimate the number of bookings, the duration of bookings and the earnings based on the \"San Francisco Model\" discussed [here](http://insideairbnb.com/about.html).\n",
    "\n",
    "We assume, that 50 percent of guests write a review. Hence, we can double the number of reviews to estimate a total count of bookings for every listing. We do this for a future 12 month range based on the last 12 months:"
   ]
  },
  {
   "cell_type": "code",
   "execution_count": 57,
   "metadata": {},
   "outputs": [],
   "source": [
    "listings[\"number_of_bookings_12m\"] = listings.number_of_reviews_ltm * 2"
   ]
  },
  {
   "cell_type": "markdown",
   "metadata": {},
   "source": [
    "Check if there are listings without estimated number of booked nights:"
   ]
  },
  {
   "cell_type": "code",
   "execution_count": 58,
   "metadata": {},
   "outputs": [
    {
     "data": {
      "text/plain": [
       "False"
      ]
     },
     "execution_count": 58,
     "metadata": {},
     "output_type": "execute_result"
    }
   ],
   "source": [
    "listings[\"number_of_bookings_12m\"].isnull().any()"
   ]
  },
  {
   "cell_type": "markdown",
   "metadata": {},
   "source": [
    "We assume an average length of stay of 3 nights per booking in general. If there is a minimum length of stay given by the host, we adjust the values to this minimum length. "
   ]
  },
  {
   "cell_type": "code",
   "execution_count": 59,
   "metadata": {},
   "outputs": [],
   "source": [
    "listings[\"average_length_of_stay\"] = 3\n",
    "listings[\"average_length_of_stay\"].clip( lower=listings[\"minimum_nights_avg_ntm\"], inplace=True )"
   ]
  },
  {
   "cell_type": "markdown",
   "metadata": {},
   "source": [
    "The 12-month occupancy is estimated from the number of bookings and the average length. The total occupancy is capped to 70% according to the model given in the above link."
   ]
  },
  {
   "cell_type": "code",
   "execution_count": 60,
   "metadata": {},
   "outputs": [],
   "source": [
    "listings[\"estimated_occupied_nights\"] = listings[\"number_of_bookings_12m\"]*listings[\"average_length_of_stay\"]\n",
    "listings[\"estimated_occupied_nights\"].clip( upper=0.7*365, inplace=True )"
   ]
  },
  {
   "cell_type": "markdown",
   "metadata": {},
   "source": [
    "The estimated revenue is the product of estimated nights and price:"
   ]
  },
  {
   "cell_type": "code",
   "execution_count": 61,
   "metadata": {},
   "outputs": [],
   "source": [
    "listings[\"estimated_revenue\"] = listings[\"estimated_occupied_nights\"].astype(float).multiply( listings[\"dollar_price\"] )"
   ]
  },
  {
   "cell_type": "code",
   "execution_count": 62,
   "metadata": {},
   "outputs": [
    {
     "data": {
      "image/png": "[encoded data removed]",
      "text/plain": [
       "<Figure size 432x288 with 1 Axes>"
      ]
     },
     "metadata": {
      "needs_background": "light"
     },
     "output_type": "display_data"
    }
   ],
   "source": [
    "ax = listings[\"estimated_revenue\"].hist()\n",
    "ax.set_xlabel( \"Dollar\" )\n",
    "ax.set_title( \"Estimated revenue\" );"
   ]
  },
  {
   "cell_type": "markdown",
   "metadata": {},
   "source": [
    "Most revenues are in the range 0 to 10000 Dollars per year. But there are some top earners as well.\n",
    "What are the top 10 earning hosts and their estimated revenue?"
   ]
  },
  {
   "cell_type": "code",
   "execution_count": 63,
   "metadata": {},
   "outputs": [
    {
     "data": {
      "text/html": [
       "<div>\n",
       "<style scoped>\n",
       "    .dataframe tbody tr th:only-of-type {\n",
       "        vertical-align: middle;\n",
       "    }\n",
       "\n",
       "    .dataframe tbody tr th {\n",
       "        vertical-align: top;\n",
       "    }\n",
       "\n",
       "    .dataframe thead th {\n",
       "        text-align: right;\n",
       "    }\n",
       "</style>\n",
       "<table border=\"1\" class=\"dataframe\">\n",
       "  <thead>\n",
       "    <tr style=\"text-align: right;\">\n",
       "      <th></th>\n",
       "      <th>host_id</th>\n",
       "      <th>estimated_revenue</th>\n",
       "    </tr>\n",
       "    <tr>\n",
       "      <th>host_id</th>\n",
       "      <th></th>\n",
       "      <th></th>\n",
       "    </tr>\n",
       "  </thead>\n",
       "  <tbody>\n",
       "    <tr>\n",
       "      <th>12886487</th>\n",
       "      <td>1172670317</td>\n",
       "      <td>1101069.6</td>\n",
       "    </tr>\n",
       "    <tr>\n",
       "      <th>3528377</th>\n",
       "      <td>374007962</td>\n",
       "      <td>922229.0</td>\n",
       "    </tr>\n",
       "    <tr>\n",
       "      <th>475053</th>\n",
       "      <td>8550954</td>\n",
       "      <td>516103.5</td>\n",
       "    </tr>\n",
       "    <tr>\n",
       "      <th>23561865</th>\n",
       "      <td>871789005</td>\n",
       "      <td>480331.5</td>\n",
       "    </tr>\n",
       "    <tr>\n",
       "      <th>16703823</th>\n",
       "      <td>1236082902</td>\n",
       "      <td>436938.0</td>\n",
       "    </tr>\n",
       "    <tr>\n",
       "      <th>8382530</th>\n",
       "      <td>276623490</td>\n",
       "      <td>415387.2</td>\n",
       "    </tr>\n",
       "    <tr>\n",
       "      <th>179365953</th>\n",
       "      <td>1793659530</td>\n",
       "      <td>335604.3</td>\n",
       "    </tr>\n",
       "    <tr>\n",
       "      <th>13570663</th>\n",
       "      <td>502114531</td>\n",
       "      <td>319135.9</td>\n",
       "    </tr>\n",
       "    <tr>\n",
       "      <th>134680524</th>\n",
       "      <td>2289568908</td>\n",
       "      <td>293340.0</td>\n",
       "    </tr>\n",
       "    <tr>\n",
       "      <th>94673785</th>\n",
       "      <td>8425966865</td>\n",
       "      <td>284697.8</td>\n",
       "    </tr>\n",
       "  </tbody>\n",
       "</table>\n",
       "</div>"
      ],
      "text/plain": [
       "              host_id  estimated_revenue\n",
       "host_id                                 \n",
       "12886487   1172670317          1101069.6\n",
       "3528377     374007962           922229.0\n",
       "475053        8550954           516103.5\n",
       "23561865    871789005           480331.5\n",
       "16703823   1236082902           436938.0\n",
       "8382530     276623490           415387.2\n",
       "179365953  1793659530           335604.3\n",
       "13570663    502114531           319135.9\n",
       "134680524  2289568908           293340.0\n",
       "94673785   8425966865           284697.8"
      ]
     },
     "execution_count": 63,
     "metadata": {},
     "output_type": "execute_result"
    }
   ],
   "source": [
    "top_earners = listings[[\"host_id\", \"estimated_revenue\"]].groupby(listings[\"host_id\"]).sum().sort_values( by=\"estimated_revenue\", ascending=False ).head(10)\n",
    "dp_report.add_table( top_earners, \"top_earners\" )\n",
    "top_earners"
   ]
  },
  {
   "cell_type": "markdown",
   "metadata": {},
   "source": [
    "### Build a model to predict revenue"
   ]
  },
  {
   "cell_type": "markdown",
   "metadata": {},
   "source": [
    "Select numeric columns as input for the model."
   ]
  },
  {
   "cell_type": "code",
   "execution_count": 64,
   "metadata": {},
   "outputs": [
    {
     "data": {
      "text/html": [
       "<div>\n",
       "<style scoped>\n",
       "    .dataframe tbody tr th:only-of-type {\n",
       "        vertical-align: middle;\n",
       "    }\n",
       "\n",
       "    .dataframe tbody tr th {\n",
       "        vertical-align: top;\n",
       "    }\n",
       "\n",
       "    .dataframe thead th {\n",
       "        text-align: right;\n",
       "    }\n",
       "</style>\n",
       "<table border=\"1\" class=\"dataframe\">\n",
       "  <thead>\n",
       "    <tr style=\"text-align: right;\">\n",
       "      <th></th>\n",
       "      <th>id</th>\n",
       "      <th>scrape_id</th>\n",
       "      <th>host_id</th>\n",
       "      <th>host_listings_count</th>\n",
       "      <th>host_total_listings_count</th>\n",
       "      <th>latitude</th>\n",
       "      <th>longitude</th>\n",
       "      <th>accommodates</th>\n",
       "      <th>bathrooms</th>\n",
       "      <th>bedrooms</th>\n",
       "      <th>...</th>\n",
       "      <th>calculated_host_listings_count</th>\n",
       "      <th>calculated_host_listings_count_entire_homes</th>\n",
       "      <th>calculated_host_listings_count_private_rooms</th>\n",
       "      <th>calculated_host_listings_count_shared_rooms</th>\n",
       "      <th>reviews_per_month</th>\n",
       "      <th>dollar_price</th>\n",
       "      <th>number_of_bookings_12m</th>\n",
       "      <th>average_length_of_stay</th>\n",
       "      <th>estimated_occupied_nights</th>\n",
       "      <th>estimated_revenue</th>\n",
       "    </tr>\n",
       "  </thead>\n",
       "  <tbody>\n",
       "    <tr>\n",
       "      <th>count</th>\n",
       "      <td>8.651000e+03</td>\n",
       "      <td>8.651000e+03</td>\n",
       "      <td>8.651000e+03</td>\n",
       "      <td>8502.000000</td>\n",
       "      <td>8502.000000</td>\n",
       "      <td>8651.000000</td>\n",
       "      <td>8651.000000</td>\n",
       "      <td>8651.000000</td>\n",
       "      <td>0.0</td>\n",
       "      <td>7631.000000</td>\n",
       "      <td>...</td>\n",
       "      <td>8651.000000</td>\n",
       "      <td>8651.000000</td>\n",
       "      <td>8651.000000</td>\n",
       "      <td>8651.000000</td>\n",
       "      <td>6682.000000</td>\n",
       "      <td>8651.000000</td>\n",
       "      <td>8651.000000</td>\n",
       "      <td>8651.000000</td>\n",
       "      <td>8651.000000</td>\n",
       "      <td>8651.000000</td>\n",
       "    </tr>\n",
       "    <tr>\n",
       "      <th>mean</th>\n",
       "      <td>3.175336e+07</td>\n",
       "      <td>2.021121e+13</td>\n",
       "      <td>1.141312e+08</td>\n",
       "      <td>17.315455</td>\n",
       "      <td>17.315455</td>\n",
       "      <td>46.607688</td>\n",
       "      <td>6.974121</td>\n",
       "      <td>3.104612</td>\n",
       "      <td>NaN</td>\n",
       "      <td>1.530337</td>\n",
       "      <td>...</td>\n",
       "      <td>11.790660</td>\n",
       "      <td>10.846954</td>\n",
       "      <td>0.879783</td>\n",
       "      <td>0.013293</td>\n",
       "      <td>0.869328</td>\n",
       "      <td>153.965768</td>\n",
       "      <td>9.232459</td>\n",
       "      <td>9.146480</td>\n",
       "      <td>32.230910</td>\n",
       "      <td>4155.716233</td>\n",
       "    </tr>\n",
       "    <tr>\n",
       "      <th>std</th>\n",
       "      <td>1.595765e+07</td>\n",
       "      <td>1.142476e+07</td>\n",
       "      <td>1.238848e+08</td>\n",
       "      <td>84.566232</td>\n",
       "      <td>84.566232</td>\n",
       "      <td>0.428827</td>\n",
       "      <td>0.870274</td>\n",
       "      <td>1.992481</td>\n",
       "      <td>NaN</td>\n",
       "      <td>0.967813</td>\n",
       "      <td>...</td>\n",
       "      <td>28.725828</td>\n",
       "      <td>28.714854</td>\n",
       "      <td>1.958971</td>\n",
       "      <td>0.154871</td>\n",
       "      <td>1.200746</td>\n",
       "      <td>288.265081</td>\n",
       "      <td>19.227363</td>\n",
       "      <td>77.998839</td>\n",
       "      <td>55.757352</td>\n",
       "      <td>8752.676375</td>\n",
       "    </tr>\n",
       "    <tr>\n",
       "      <th>min</th>\n",
       "      <td>7.381000e+03</td>\n",
       "      <td>2.021120e+13</td>\n",
       "      <td>2.667000e+03</td>\n",
       "      <td>0.000000</td>\n",
       "      <td>0.000000</td>\n",
       "      <td>46.142170</td>\n",
       "      <td>5.994620</td>\n",
       "      <td>0.000000</td>\n",
       "      <td>NaN</td>\n",
       "      <td>1.000000</td>\n",
       "      <td>...</td>\n",
       "      <td>1.000000</td>\n",
       "      <td>0.000000</td>\n",
       "      <td>0.000000</td>\n",
       "      <td>0.000000</td>\n",
       "      <td>0.010000</td>\n",
       "      <td>9.000000</td>\n",
       "      <td>0.000000</td>\n",
       "      <td>3.000000</td>\n",
       "      <td>0.000000</td>\n",
       "      <td>0.000000</td>\n",
       "    </tr>\n",
       "    <tr>\n",
       "      <th>25%</th>\n",
       "      <td>1.831148e+07</td>\n",
       "      <td>2.021120e+13</td>\n",
       "      <td>1.670382e+07</td>\n",
       "      <td>1.000000</td>\n",
       "      <td>1.000000</td>\n",
       "      <td>46.275255</td>\n",
       "      <td>6.197030</td>\n",
       "      <td>2.000000</td>\n",
       "      <td>NaN</td>\n",
       "      <td>1.000000</td>\n",
       "      <td>...</td>\n",
       "      <td>1.000000</td>\n",
       "      <td>0.000000</td>\n",
       "      <td>0.000000</td>\n",
       "      <td>0.000000</td>\n",
       "      <td>0.150000</td>\n",
       "      <td>70.000000</td>\n",
       "      <td>0.000000</td>\n",
       "      <td>3.000000</td>\n",
       "      <td>0.000000</td>\n",
       "      <td>0.000000</td>\n",
       "    </tr>\n",
       "    <tr>\n",
       "      <th>50%</th>\n",
       "      <td>3.448940e+07</td>\n",
       "      <td>2.021120e+13</td>\n",
       "      <td>5.911288e+07</td>\n",
       "      <td>1.000000</td>\n",
       "      <td>1.000000</td>\n",
       "      <td>46.498610</td>\n",
       "      <td>6.646570</td>\n",
       "      <td>2.000000</td>\n",
       "      <td>NaN</td>\n",
       "      <td>1.000000</td>\n",
       "      <td>...</td>\n",
       "      <td>1.000000</td>\n",
       "      <td>1.000000</td>\n",
       "      <td>0.000000</td>\n",
       "      <td>0.000000</td>\n",
       "      <td>0.440000</td>\n",
       "      <td>100.000000</td>\n",
       "      <td>2.000000</td>\n",
       "      <td>3.000000</td>\n",
       "      <td>6.000000</td>\n",
       "      <td>390.000000</td>\n",
       "    </tr>\n",
       "    <tr>\n",
       "      <th>75%</th>\n",
       "      <td>4.586619e+07</td>\n",
       "      <td>2.021123e+13</td>\n",
       "      <td>1.759829e+08</td>\n",
       "      <td>4.000000</td>\n",
       "      <td>4.000000</td>\n",
       "      <td>46.654709</td>\n",
       "      <td>7.085600</td>\n",
       "      <td>4.000000</td>\n",
       "      <td>NaN</td>\n",
       "      <td>2.000000</td>\n",
       "      <td>...</td>\n",
       "      <td>5.000000</td>\n",
       "      <td>2.000000</td>\n",
       "      <td>1.000000</td>\n",
       "      <td>0.000000</td>\n",
       "      <td>1.050000</td>\n",
       "      <td>155.000000</td>\n",
       "      <td>10.000000</td>\n",
       "      <td>5.000000</td>\n",
       "      <td>40.000000</td>\n",
       "      <td>4528.000000</td>\n",
       "    </tr>\n",
       "    <tr>\n",
       "      <th>max</th>\n",
       "      <td>5.401237e+07</td>\n",
       "      <td>2.021123e+13</td>\n",
       "      <td>4.367388e+08</td>\n",
       "      <td>3552.000000</td>\n",
       "      <td>3552.000000</td>\n",
       "      <td>47.431290</td>\n",
       "      <td>8.604800</td>\n",
       "      <td>16.000000</td>\n",
       "      <td>NaN</td>\n",
       "      <td>18.000000</td>\n",
       "      <td>...</td>\n",
       "      <td>149.000000</td>\n",
       "      <td>149.000000</td>\n",
       "      <td>18.000000</td>\n",
       "      <td>3.000000</td>\n",
       "      <td>15.140000</td>\n",
       "      <td>9840.000000</td>\n",
       "      <td>344.000000</td>\n",
       "      <td>6666.000000</td>\n",
       "      <td>255.500000</td>\n",
       "      <td>113616.000000</td>\n",
       "    </tr>\n",
       "  </tbody>\n",
       "</table>\n",
       "<p>8 rows × 45 columns</p>\n",
       "</div>"
      ],
      "text/plain": [
       "                 id     scrape_id       host_id  host_listings_count  \\\n",
       "count  8.651000e+03  8.651000e+03  8.651000e+03          8502.000000   \n",
       "mean   3.175336e+07  2.021121e+13  1.141312e+08            17.315455   \n",
       "std    1.595765e+07  1.142476e+07  1.238848e+08            84.566232   \n",
       "min    7.381000e+03  2.021120e+13  2.667000e+03             0.000000   \n",
       "25%    1.831148e+07  2.021120e+13  1.670382e+07             1.000000   \n",
       "50%    3.448940e+07  2.021120e+13  5.911288e+07             1.000000   \n",
       "75%    4.586619e+07  2.021123e+13  1.759829e+08             4.000000   \n",
       "max    5.401237e+07  2.021123e+13  4.367388e+08          3552.000000   \n",
       "\n",
       "       host_total_listings_count     latitude    longitude  accommodates  \\\n",
       "count                8502.000000  8651.000000  8651.000000   8651.000000   \n",
       "mean                   17.315455    46.607688     6.974121      3.104612   \n",
       "std                    84.566232     0.428827     0.870274      1.992481   \n",
       "min                     0.000000    46.142170     5.994620      0.000000   \n",
       "25%                     1.000000    46.275255     6.197030      2.000000   \n",
       "50%                     1.000000    46.498610     6.646570      2.000000   \n",
       "75%                     4.000000    46.654709     7.085600      4.000000   \n",
       "max                  3552.000000    47.431290     8.604800     16.000000   \n",
       "\n",
       "       bathrooms     bedrooms  ...  calculated_host_listings_count  \\\n",
       "count        0.0  7631.000000  ...                     8651.000000   \n",
       "mean         NaN     1.530337  ...                       11.790660   \n",
       "std          NaN     0.967813  ...                       28.725828   \n",
       "min          NaN     1.000000  ...                        1.000000   \n",
       "25%          NaN     1.000000  ...                        1.000000   \n",
       "50%          NaN     1.000000  ...                        1.000000   \n",
       "75%          NaN     2.000000  ...                        5.000000   \n",
       "max          NaN    18.000000  ...                      149.000000   \n",
       "\n",
       "       calculated_host_listings_count_entire_homes  \\\n",
       "count                                  8651.000000   \n",
       "mean                                     10.846954   \n",
       "std                                      28.714854   \n",
       "min                                       0.000000   \n",
       "25%                                       0.000000   \n",
       "50%                                       1.000000   \n",
       "75%                                       2.000000   \n",
       "max                                     149.000000   \n",
       "\n",
       "       calculated_host_listings_count_private_rooms  \\\n",
       "count                                   8651.000000   \n",
       "mean                                       0.879783   \n",
       "std                                        1.958971   \n",
       "min                                        0.000000   \n",
       "25%                                        0.000000   \n",
       "50%                                        0.000000   \n",
       "75%                                        1.000000   \n",
       "max                                       18.000000   \n",
       "\n",
       "       calculated_host_listings_count_shared_rooms  reviews_per_month  \\\n",
       "count                                  8651.000000        6682.000000   \n",
       "mean                                      0.013293           0.869328   \n",
       "std                                       0.154871           1.200746   \n",
       "min                                       0.000000           0.010000   \n",
       "25%                                       0.000000           0.150000   \n",
       "50%                                       0.000000           0.440000   \n",
       "75%                                       0.000000           1.050000   \n",
       "max                                       3.000000          15.140000   \n",
       "\n",
       "       dollar_price  number_of_bookings_12m  average_length_of_stay  \\\n",
       "count   8651.000000             8651.000000             8651.000000   \n",
       "mean     153.965768                9.232459                9.146480   \n",
       "std      288.265081               19.227363               77.998839   \n",
       "min        9.000000                0.000000                3.000000   \n",
       "25%       70.000000                0.000000                3.000000   \n",
       "50%      100.000000                2.000000                3.000000   \n",
       "75%      155.000000               10.000000                5.000000   \n",
       "max     9840.000000              344.000000             6666.000000   \n",
       "\n",
       "       estimated_occupied_nights  estimated_revenue  \n",
       "count                8651.000000        8651.000000  \n",
       "mean                   32.230910        4155.716233  \n",
       "std                    55.757352        8752.676375  \n",
       "min                     0.000000           0.000000  \n",
       "25%                     0.000000           0.000000  \n",
       "50%                     6.000000         390.000000  \n",
       "75%                    40.000000        4528.000000  \n",
       "max                   255.500000      113616.000000  \n",
       "\n",
       "[8 rows x 45 columns]"
      ]
     },
     "execution_count": 64,
     "metadata": {},
     "output_type": "execute_result"
    }
   ],
   "source": [
    "num_vars = listings.select_dtypes( include=np.number )\n",
    "num_vars.describe()"
   ]
  },
  {
   "cell_type": "markdown",
   "metadata": {},
   "source": [
    "Drop bathrooms, calendar, and license, since they are empty."
   ]
  },
  {
   "cell_type": "code",
   "execution_count": 65,
   "metadata": {},
   "outputs": [
    {
     "name": "stdout",
     "output_type": "stream",
     "text": [
      "True\n",
      "True\n",
      "True\n"
     ]
    }
   ],
   "source": [
    "print( num_vars.bathrooms.isna().all() )\n",
    "print( num_vars.license.isna().all() )\n",
    "print( num_vars.calendar_updated.isna().all() )\n",
    "num_vars = num_vars.drop( [\"bathrooms\", \"license\", \"calendar_updated\"], axis=1 )"
   ]
  },
  {
   "cell_type": "markdown",
   "metadata": {},
   "source": [
    "Drop IDs, since they can not explain the data."
   ]
  },
  {
   "cell_type": "code",
   "execution_count": 66,
   "metadata": {},
   "outputs": [],
   "source": [
    "num_vars = num_vars.drop( [\"id\",\"scrape_id\", \"host_id\" ], axis=1 )"
   ]
  },
  {
   "cell_type": "markdown",
   "metadata": {},
   "source": [
    "Drop longitude and latitude, we use the rating of the location instead."
   ]
  },
  {
   "cell_type": "code",
   "execution_count": 67,
   "metadata": {},
   "outputs": [],
   "source": [
    "num_vars = num_vars.drop( [\"longitude\", \"latitude\"], axis=1 )"
   ]
  },
  {
   "cell_type": "markdown",
   "metadata": {},
   "source": [
    "Remove the temporary variables we introduced above."
   ]
  },
  {
   "cell_type": "code",
   "execution_count": 68,
   "metadata": {},
   "outputs": [],
   "source": [
    "num_vars = num_vars.drop( [\"number_of_bookings_12m\", \"average_length_of_stay\", \"estimated_occupied_nights\"], axis=1 )"
   ]
  },
  {
   "cell_type": "markdown",
   "metadata": {},
   "source": [
    "Remove the calculated variables introduced by airbnbinside."
   ]
  },
  {
   "cell_type": "code",
   "execution_count": 69,
   "metadata": {},
   "outputs": [],
   "source": [
    "num_vars = num_vars.drop( [c for c in filter( lambda s : s.startswith( \"calculated_\" ), num_vars.columns.to_list() ) ], axis=1 )\n",
    "num_vars = num_vars.drop( [\"minimum_minimum_nights\", \n",
    "                           \"maximum_minimum_nights\", \n",
    "                           \"minimum_maximum_nights\", \n",
    "                           \"maximum_maximum_nights\",\n",
    "                           \"minimum_nights_avg_ntm\",\n",
    "                           \"maximum_nights_avg_ntm\"], \n",
    "                         axis=1 )"
   ]
  },
  {
   "cell_type": "markdown",
   "metadata": {},
   "source": [
    "Add the amenities from question 1 as well:"
   ]
  },
  {
   "cell_type": "code",
   "execution_count": 70,
   "metadata": {},
   "outputs": [],
   "source": [
    "num_vars = pd.concat( [num_vars, new_amenities.astype(\"uint8\")], axis=1 )"
   ]
  },
  {
   "cell_type": "markdown",
   "metadata": {},
   "source": [
    "Add categorical columns from listings:"
   ]
  },
  {
   "cell_type": "code",
   "execution_count": 71,
   "metadata": {},
   "outputs": [],
   "source": [
    "cat_columns = [\"property_type\", \"room_type\", \"has_availability\", \"instant_bookable\"]"
   ]
  },
  {
   "cell_type": "code",
   "execution_count": 72,
   "metadata": {},
   "outputs": [],
   "source": [
    "def create_dummy_df(df, cat_cols, dummy_na):\n",
    "    \"\"\"\n",
    "    Parameters:\n",
    "    df(DataFrame): pandas dataframe with categorical variables you want to dummy\n",
    "    cat_cols(List): list of strings that are associated with names of the categorical columns\n",
    "    dummy_na(bool): Bool holding whether you want to dummy NA vals of categorical columns or not\n",
    "    \n",
    "    Returns:\n",
    "    df(DataFrame): a new dataframe that has the following characteristics:\n",
    "            1. contains no collumns not specified as categorical\n",
    "            2. removes all the original columns in cat_cols\n",
    "            3. dummy columns for each of the categorical columns in cat_cols\n",
    "            4. if dummy_na is True - it also contains dummy columns for the NaN values\n",
    "            5. Use a prefix of the column name with an underscore (_) for separating \n",
    "    \"\"\"\n",
    "    res = df[cat_cols]\n",
    "    for col in cat_cols :\n",
    "        try:\n",
    "            res = pd.concat([res.drop(col, axis=1), pd.get_dummies(res[col], prefix=col, prefix_sep='_', drop_first=True, dummy_na=dummy_na)], axis=1)\n",
    "        except:\n",
    "            continue\n",
    "\n",
    "    return res"
   ]
  },
  {
   "cell_type": "code",
   "execution_count": 73,
   "metadata": {
    "scrolled": true
   },
   "outputs": [],
   "source": [
    "cat_vars = create_dummy_df( listings, cat_columns, False )"
   ]
  },
  {
   "cell_type": "markdown",
   "metadata": {},
   "source": [
    "Put numerical and categorical together:"
   ]
  },
  {
   "cell_type": "code",
   "execution_count": 74,
   "metadata": {},
   "outputs": [],
   "source": [
    "all_vars = pd.concat( [num_vars, cat_vars], axis=1 )"
   ]
  },
  {
   "cell_type": "markdown",
   "metadata": {},
   "source": [
    "Fill NaN values for the columns. First have a look at the portion of NaNs:"
   ]
  },
  {
   "cell_type": "code",
   "execution_count": 75,
   "metadata": {},
   "outputs": [
    {
     "data": {
      "text/plain": [
       "review_scores_accuracy                               0.240203\n",
       "review_scores_value                                  0.240203\n",
       "review_scores_location                               0.240203\n",
       "review_scores_communication                          0.240203\n",
       "review_scores_checkin                                0.240203\n",
       "review_scores_cleanliness                            0.240203\n",
       "review_scores_rating                                 0.227604\n",
       "reviews_per_month                                    0.227604\n",
       "bedrooms                                             0.117905\n",
       "beds                                                 0.037915\n",
       "host_listings_count                                  0.017223\n",
       "host_total_listings_count                            0.017223\n",
       "property_type_Private room in bed and breakfast      0.000000\n",
       "property_type_Private room in chalet                 0.000000\n",
       "property_type_Entire vacation home                   0.000000\n",
       "property_type_Entire villa                           0.000000\n",
       "property_type_Farm stay                              0.000000\n",
       "property_type_Houseboat                              0.000000\n",
       "property_type_Hut                                    0.000000\n",
       "property_type_Private room in condominium (condo)    0.000000\n",
       "dtype: float64"
      ]
     },
     "execution_count": 75,
     "metadata": {},
     "output_type": "execute_result"
    }
   ],
   "source": [
    "(all_vars.isna().sum()/all_vars.shape[0]).sort_values( ascending=False ).head(20)"
   ]
  },
  {
   "cell_type": "markdown",
   "metadata": {},
   "source": [
    "* Drop the rows, where we have NaN in estimated revenue - it is only 0.02 percent.\n",
    "* Fill bedrooms and beds with mode, these are discrete in nature.\n",
    "* Fill the reviews with a mean value. They are missing for 20 percent of the rows.\n",
    "* Fill minimum_nights_avg_ntm and minimum_nights_avg_mtm with mean value."
   ]
  },
  {
   "cell_type": "code",
   "execution_count": 76,
   "metadata": {},
   "outputs": [],
   "source": [
    "all_vars = all_vars.dropna( subset=[\"estimated_revenue\"], axis=0 )\n",
    "all_vars[\"beds\"] = all_vars.beds.fillna( all_vars.beds.mode() )\n",
    "all_vars[\"bedrooms\"] = all_vars.bedrooms.fillna( all_vars.bedrooms.mode() )\n",
    "fill_mean = lambda col : col.fillna( col.mean() )\n",
    "all_vars = all_vars.apply( fill_mean, axis=0 )"
   ]
  },
  {
   "cell_type": "markdown",
   "metadata": {},
   "source": [
    "#### Fit a model on all variables"
   ]
  },
  {
   "cell_type": "code",
   "execution_count": 77,
   "metadata": {},
   "outputs": [],
   "source": [
    "class LRResult( object ) :\n",
    "    \"\"\" \n",
    "        a class to transport results from a linear regression\n",
    "    \"\"\"\n",
    "    \n",
    "    def __init__( self, \n",
    "                 X,\n",
    "                 y,\n",
    "                 X_train = None, \n",
    "                 X_test = None, \n",
    "                 y_train = None, \n",
    "                 y_test = None, \n",
    "                 lm_model = None, \n",
    "                 r2_scores_test = None,\n",
    "                 r2_scores_train = None,\n",
    "                 test_size = 0.3,\n",
    "                 random_state = 42 ) :\n",
    "        \"\"\"\n",
    "            X: X-Matrix\n",
    "            y: response\n",
    "            X_train: training set of X\n",
    "            X_test: test set of X\n",
    "            y_train: test set of y\n",
    "            y_test: test set of y\n",
    "            lm_model: the linear model\n",
    "            r2_scores_test: r2 scores on the test data\n",
    "            r2_scores_train: r2 scores on the training data\n",
    "            test_size(float) : between 0 and 1, default 0.3, determines the portion of data used as test data\n",
    "            random_state(int) : default 42, initialize the random-number generator to select train and test data\n",
    "        \"\"\"\n",
    "        self.X = X\n",
    "        self.y = y\n",
    "        self.X_train = X_train\n",
    "        self.X_test = X_test\n",
    "        self.y_train = y_train\n",
    "        self.y_test = y_test\n",
    "        self.lm_model = lm_model\n",
    "        self.r2_scores_test = r2_scores_test\n",
    "        self.r2_scores_train = r2_scores_train\n",
    "        self.test_size = test_size\n",
    "        self.random_state = random_state\n",
    "    \n",
    "    def setup( self ) :\n",
    "        \"\"\" \n",
    "            split train and test data\n",
    "            instanciate lm_model\n",
    "        \"\"\"\n",
    "        self.X_train, self.X_test, self.y_train, self.y_test = train_test_split( self.X, \n",
    "                                                                                self.y, \n",
    "                                                                                test_size = self.test_size, \n",
    "                                                                                random_state = self.random_state )\n",
    "        self.lm_model = LinearRegression( normalize=True )\n",
    "        \n",
    "    def fit( self ) :\n",
    "        \"\"\" \n",
    "            fit the model and compute r2\n",
    "        \"\"\"\n",
    "        self.lm_model = LinearRegression( normalize=True )\n",
    "        self.lm_model.fit( self.X_train, self.y_train )\n",
    "        y_test_preds = self.lm_model.predict( self.X_test )\n",
    "        y_train_preds = self.lm_model.predict( self.X_train )\n",
    "        \n",
    "        self.r2_scores_test = r2_score( self.y_test, y_test_preds )\n",
    "        self.r2_scores_train = r2_score( self.y_train, y_train_preds )\n",
    "        \n",
    "    \n",
    "    def cutoff( self, num_features ) :\n",
    "        \"\"\"\n",
    "            cutoff the number of features\n",
    "            \n",
    "            Parameters:\n",
    "            num_features(int) : number of non-zero values, drop columns with less than cutoff  non-zero entries\n",
    "            \n",
    "            Returns:\n",
    "            LRResult with a cutoff X-Matrix\n",
    "        \"\"\"\n",
    "        assert(self.X is not None)\n",
    "        \n",
    "        # reduce_X = X.iloc[:, np.where((self.X.sum() > num_features) == True)[0]]\n",
    "        reduce_X = X.iloc[:, np.where((self.X.astype(bool).sum() > num_features) == True)[0]]\n",
    "        return LRResult( y = self.y, X = reduce_X, test_size = self.test_size, random_state = self.random_state)\n",
    "    \n",
    "    def relative_cutoff( self, rel_num_features ) :\n",
    "        \"\"\" \n",
    "            similar to cutoff, but with a relative portion of non-zeros\n",
    "            \n",
    "            Parameters:\n",
    "            rel_num_features(float): number of non-zero values, drop columns with less non-zero entries\n",
    "            \n",
    "            Returns:\n",
    "            LRResult with a cutoff X-Matrix\n",
    "        \n",
    "        \"\"\"\n",
    "        return self.cutoff( num_features = rel_num_features*self.X.shape[0] )\n",
    "    \n",
    "    def __repr__( self ) :\n",
    "        return \"LRResult( r-squared score %s @ %s values @ %s features )\" % (self.r2_scores_test, self.y_test.shape[0], self.X.shape[1])\n",
    "    \n",
    "    def __call__( self, num_features = None, rel_num_features = None ) :\n",
    "        \"\"\"\n",
    "            1. calls cutoff or relative_cutoff if num_features of rel_num_features is given\n",
    "            2. calls setup\n",
    "            3. calls fit\n",
    "            \n",
    "            Parameters:\n",
    "            num_features : see cutoff\n",
    "            rel_num_features : see relative_cutoff\n",
    "            \n",
    "            Returns:\n",
    "            self\n",
    "        \"\"\"\n",
    "        res = self\n",
    "        assert( None in [num_features, rel_num_features] )\n",
    "        if (num_features is not None) :\n",
    "            res = self.cutoff( num_features )\n",
    "        elif (rel_num_features is not None) :\n",
    "            res = self.relative_cutoff( rel_num_features )\n",
    "        res.setup()\n",
    "        res.fit()\n",
    "        return res\n",
    "    \n",
    "    \n",
    "    @property\n",
    "    def coefs( self ) :\n",
    "        \"\"\" \n",
    "            Returns: the coeficients of the linear model in a DataFrame\n",
    "            \n",
    "        \"\"\"\n",
    "        return pd.DataFrame( { \"est_int\" : self.X_train.columns,\n",
    "                               \"coefs\" : self.lm_model.coef_,\n",
    "                               \"abs_coefs\" : np.abs( self.lm_model.coef_ ) } )\n",
    "    \n",
    "    @property\n",
    "    def features( self ) :\n",
    "        return self.X.shape[1]\n",
    "    \n",
    "    @property\n",
    "    def num_values( self ) :\n",
    "        return self.X.shape[0]\n",
    "\n",
    "def make_linear_regression( X, y, test_size=0.3, random_state=42 ) :\n",
    "    \"\"\"\n",
    "        Fit a linear regression model with X-Matrix X and response y\n",
    "        \n",
    "        Parameters:\n",
    "        X(DataFrame) : X-Matrix\n",
    "        y(DataFrame): y, response variable\n",
    "        test_size(float) : between 0 and 1, default 0.3, determines the portion of data used as test data\n",
    "        random_state(int) : default 42, initialize the random-number generator to select train and test data\n",
    "        \n",
    "        Returns:\n",
    "        LRResult\n",
    "    \n",
    "    \"\"\"\n",
    "    res = LRResult( X=X, y=y, test_size=test_size, random_state=random_state )\n",
    "    return res()"
   ]
  },
  {
   "cell_type": "markdown",
   "metadata": {},
   "source": [
    "The use of all features gives a very poor fit:"
   ]
  },
  {
   "cell_type": "code",
   "execution_count": 78,
   "metadata": {},
   "outputs": [
    {
     "data": {
      "text/plain": [
       "LRResult( r-squared score -1.8968276631951338e+23 @ 2596 values @ 155 features )"
      ]
     },
     "execution_count": 78,
     "metadata": {},
     "output_type": "execute_result"
    }
   ],
   "source": [
    "X = all_vars.drop( \"estimated_revenue\", axis=1 )\n",
    "y = all_vars[\"estimated_revenue\"]\n",
    "\n",
    "make_linear_regression( X, y )"
   ]
  },
  {
   "cell_type": "markdown",
   "metadata": {},
   "source": [
    "#### Find the best fitting model for a range of cutoffs"
   ]
  },
  {
   "cell_type": "code",
   "execution_count": 79,
   "metadata": {},
   "outputs": [
    {
     "name": "stderr",
     "output_type": "stream",
     "text": [
      "100%|██████████| 160/160 [00:03<00:00, 41.67it/s]\n"
     ]
    }
   ],
   "source": [
    "cutoffs = trange( 3, 800, 5 )\n",
    "lr = LRResult( X, y )\n",
    "fits = list( map( lr, cutoffs ) )"
   ]
  },
  {
   "cell_type": "code",
   "execution_count": 80,
   "metadata": {},
   "outputs": [
    {
     "data": {
      "text/html": [
       "<div>\n",
       "<style scoped>\n",
       "    .dataframe tbody tr th:only-of-type {\n",
       "        vertical-align: middle;\n",
       "    }\n",
       "\n",
       "    .dataframe tbody tr th {\n",
       "        vertical-align: top;\n",
       "    }\n",
       "\n",
       "    .dataframe thead th {\n",
       "        text-align: right;\n",
       "    }\n",
       "</style>\n",
       "<table border=\"1\" class=\"dataframe\">\n",
       "  <thead>\n",
       "    <tr style=\"text-align: right;\">\n",
       "      <th></th>\n",
       "      <th>cutoffs</th>\n",
       "      <th>r2_scores_test</th>\n",
       "      <th>r2_scores_train</th>\n",
       "      <th>features</th>\n",
       "    </tr>\n",
       "  </thead>\n",
       "  <tbody>\n",
       "    <tr>\n",
       "      <th>count</th>\n",
       "      <td>160.000000</td>\n",
       "      <td>160.000000</td>\n",
       "      <td>160.000000</td>\n",
       "      <td>160.000000</td>\n",
       "    </tr>\n",
       "    <tr>\n",
       "      <th>mean</th>\n",
       "      <td>400.500000</td>\n",
       "      <td>0.437101</td>\n",
       "      <td>0.529888</td>\n",
       "      <td>90.106250</td>\n",
       "    </tr>\n",
       "    <tr>\n",
       "      <th>std</th>\n",
       "      <td>231.660671</td>\n",
       "      <td>0.001446</td>\n",
       "      <td>0.003120</td>\n",
       "      <td>7.963436</td>\n",
       "    </tr>\n",
       "    <tr>\n",
       "      <th>min</th>\n",
       "      <td>3.000000</td>\n",
       "      <td>0.428070</td>\n",
       "      <td>0.525257</td>\n",
       "      <td>78.000000</td>\n",
       "    </tr>\n",
       "    <tr>\n",
       "      <th>25%</th>\n",
       "      <td>201.750000</td>\n",
       "      <td>0.436568</td>\n",
       "      <td>0.527274</td>\n",
       "      <td>84.000000</td>\n",
       "    </tr>\n",
       "    <tr>\n",
       "      <th>50%</th>\n",
       "      <td>400.500000</td>\n",
       "      <td>0.437066</td>\n",
       "      <td>0.529469</td>\n",
       "      <td>89.000000</td>\n",
       "    </tr>\n",
       "    <tr>\n",
       "      <th>75%</th>\n",
       "      <td>599.250000</td>\n",
       "      <td>0.438343</td>\n",
       "      <td>0.532013</td>\n",
       "      <td>94.000000</td>\n",
       "    </tr>\n",
       "    <tr>\n",
       "      <th>max</th>\n",
       "      <td>798.000000</td>\n",
       "      <td>0.438657</td>\n",
       "      <td>0.547477</td>\n",
       "      <td>133.000000</td>\n",
       "    </tr>\n",
       "  </tbody>\n",
       "</table>\n",
       "</div>"
      ],
      "text/plain": [
       "          cutoffs  r2_scores_test  r2_scores_train    features\n",
       "count  160.000000      160.000000       160.000000  160.000000\n",
       "mean   400.500000        0.437101         0.529888   90.106250\n",
       "std    231.660671        0.001446         0.003120    7.963436\n",
       "min      3.000000        0.428070         0.525257   78.000000\n",
       "25%    201.750000        0.436568         0.527274   84.000000\n",
       "50%    400.500000        0.437066         0.529469   89.000000\n",
       "75%    599.250000        0.438343         0.532013   94.000000\n",
       "max    798.000000        0.438657         0.547477  133.000000"
      ]
     },
     "execution_count": 80,
     "metadata": {},
     "output_type": "execute_result"
    }
   ],
   "source": [
    "fit_df = pd.DataFrame()\n",
    "fit_df[\"cutoffs\"] = cutoffs\n",
    "fit_df[\"r2_scores_test\"] = [ f.r2_scores_test for f in fits ]\n",
    "fit_df[\"r2_scores_train\"] = [ f.r2_scores_train for f in fits ]\n",
    "fit_df[\"features\"] = [ f.features for f in fits ]\n",
    "fit_df.describe()"
   ]
  },
  {
   "cell_type": "code",
   "execution_count": 81,
   "metadata": {},
   "outputs": [
    {
     "data": {
      "image/png": "[encoded data removed]",
      "text/plain": [
       "<Figure size 432x288 with 1 Axes>"
      ]
     },
     "metadata": {
      "needs_background": "light"
     },
     "output_type": "display_data"
    }
   ],
   "source": [
    "ax = fit_df.plot( x=\"features\", y=[\"r2_scores_test\", \"r2_scores_train\"] )"
   ]
  },
  {
   "cell_type": "markdown",
   "metadata": {},
   "source": [
    "The above figure illustrates the number of features in the model on the x-axis and the r2-score for train and test data on the y-axis.\n",
    "\n",
    "Already at the lowest number of features there is a gap between train and test r2-scores. The linear regression model does not explain all responses.\n",
    "\n",
    "With an increasing number of features in the model the fit on the train data becomes slightly better. But already from slightly more than 80 features upwards we see a decrease in the r2-score of the prediction on the test data set. This is in contrast to the train data, were including more features increases the r2-score. Such an effect is called overfitting.\n",
    "\n",
    "In the following we select the model with the best r2-score:"
   ]
  },
  {
   "cell_type": "code",
   "execution_count": 82,
   "metadata": {},
   "outputs": [],
   "source": [
    "fits.sort( key = lambda f : f.r2_scores_test, reverse=True )"
   ]
  },
  {
   "cell_type": "code",
   "execution_count": 83,
   "metadata": {},
   "outputs": [
    {
     "data": {
      "text/plain": [
       "LRResult( r-squared score 0.43865693045070775 @ 2596 values @ 84 features )"
      ]
     },
     "execution_count": 83,
     "metadata": {},
     "output_type": "execute_result"
    }
   ],
   "source": [
    "best = fits[0]\n",
    "best"
   ]
  },
  {
   "cell_type": "markdown",
   "metadata": {},
   "source": [
    "### Which features have most impact on the revenue"
   ]
  },
  {
   "cell_type": "code",
   "execution_count": 84,
   "metadata": {},
   "outputs": [
    {
     "data": {
      "text/html": [
       "<div>\n",
       "<style scoped>\n",
       "    .dataframe tbody tr th:only-of-type {\n",
       "        vertical-align: middle;\n",
       "    }\n",
       "\n",
       "    .dataframe tbody tr th {\n",
       "        vertical-align: top;\n",
       "    }\n",
       "\n",
       "    .dataframe thead th {\n",
       "        text-align: right;\n",
       "    }\n",
       "</style>\n",
       "<table border=\"1\" class=\"dataframe\">\n",
       "  <thead>\n",
       "    <tr style=\"text-align: right;\">\n",
       "      <th></th>\n",
       "      <th>est_int</th>\n",
       "      <th>coefs</th>\n",
       "      <th>abs_coefs</th>\n",
       "    </tr>\n",
       "  </thead>\n",
       "  <tbody>\n",
       "    <tr>\n",
       "      <th>62</th>\n",
       "      <td>lockbox</td>\n",
       "      <td>1311.807656</td>\n",
       "      <td>1311.807656</td>\n",
       "    </tr>\n",
       "    <tr>\n",
       "      <th>54</th>\n",
       "      <td>baking_sheet</td>\n",
       "      <td>1239.094191</td>\n",
       "      <td>1239.094191</td>\n",
       "    </tr>\n",
       "    <tr>\n",
       "      <th>73</th>\n",
       "      <td>high_chair</td>\n",
       "      <td>1016.303391</td>\n",
       "      <td>1016.303391</td>\n",
       "    </tr>\n",
       "    <tr>\n",
       "      <th>78</th>\n",
       "      <td>crib</td>\n",
       "      <td>910.910054</td>\n",
       "      <td>910.910054</td>\n",
       "    </tr>\n",
       "    <tr>\n",
       "      <th>72</th>\n",
       "      <td>outdoor_furniture</td>\n",
       "      <td>867.575941</td>\n",
       "      <td>867.575941</td>\n",
       "    </tr>\n",
       "    <tr>\n",
       "      <th>35</th>\n",
       "      <td>children’s_books_and_toys</td>\n",
       "      <td>-836.744373</td>\n",
       "      <td>836.744373</td>\n",
       "    </tr>\n",
       "    <tr>\n",
       "      <th>26</th>\n",
       "      <td>air_conditioning</td>\n",
       "      <td>818.709794</td>\n",
       "      <td>818.709794</td>\n",
       "    </tr>\n",
       "    <tr>\n",
       "      <th>20</th>\n",
       "      <td>review_scores_value</td>\n",
       "      <td>-790.582692</td>\n",
       "      <td>790.582692</td>\n",
       "    </tr>\n",
       "    <tr>\n",
       "      <th>13</th>\n",
       "      <td>number_of_reviews_l30d</td>\n",
       "      <td>-770.158673</td>\n",
       "      <td>770.158673</td>\n",
       "    </tr>\n",
       "    <tr>\n",
       "      <th>61</th>\n",
       "      <td>cleaning_products</td>\n",
       "      <td>-766.550942</td>\n",
       "      <td>766.550942</td>\n",
       "    </tr>\n",
       "    <tr>\n",
       "      <th>3</th>\n",
       "      <td>bedrooms</td>\n",
       "      <td>749.043617</td>\n",
       "      <td>749.043617</td>\n",
       "    </tr>\n",
       "    <tr>\n",
       "      <th>76</th>\n",
       "      <td>bathtub</td>\n",
       "      <td>747.969402</td>\n",
       "      <td>747.969402</td>\n",
       "    </tr>\n",
       "    <tr>\n",
       "      <th>23</th>\n",
       "      <td>stove</td>\n",
       "      <td>-712.765129</td>\n",
       "      <td>712.765129</td>\n",
       "    </tr>\n",
       "    <tr>\n",
       "      <th>43</th>\n",
       "      <td>essentials</td>\n",
       "      <td>665.678542</td>\n",
       "      <td>665.678542</td>\n",
       "    </tr>\n",
       "    <tr>\n",
       "      <th>12</th>\n",
       "      <td>number_of_reviews_ltm</td>\n",
       "      <td>638.540958</td>\n",
       "      <td>638.540958</td>\n",
       "    </tr>\n",
       "    <tr>\n",
       "      <th>53</th>\n",
       "      <td>dishes_and_silverware</td>\n",
       "      <td>616.346799</td>\n",
       "      <td>616.346799</td>\n",
       "    </tr>\n",
       "    <tr>\n",
       "      <th>28</th>\n",
       "      <td>free_parking</td>\n",
       "      <td>-597.023103</td>\n",
       "      <td>597.023103</td>\n",
       "    </tr>\n",
       "    <tr>\n",
       "      <th>81</th>\n",
       "      <td>room_type_Private room</td>\n",
       "      <td>-591.471917</td>\n",
       "      <td>591.471917</td>\n",
       "    </tr>\n",
       "    <tr>\n",
       "      <th>63</th>\n",
       "      <td>wine_glasses</td>\n",
       "      <td>567.625656</td>\n",
       "      <td>567.625656</td>\n",
       "    </tr>\n",
       "    <tr>\n",
       "      <th>71</th>\n",
       "      <td>dining_table</td>\n",
       "      <td>-551.071257</td>\n",
       "      <td>551.071257</td>\n",
       "    </tr>\n",
       "  </tbody>\n",
       "</table>\n",
       "</div>"
      ],
      "text/plain": [
       "                      est_int        coefs    abs_coefs\n",
       "62                    lockbox  1311.807656  1311.807656\n",
       "54               baking_sheet  1239.094191  1239.094191\n",
       "73                 high_chair  1016.303391  1016.303391\n",
       "78                       crib   910.910054   910.910054\n",
       "72          outdoor_furniture   867.575941   867.575941\n",
       "35  children’s_books_and_toys  -836.744373   836.744373\n",
       "26           air_conditioning   818.709794   818.709794\n",
       "20        review_scores_value  -790.582692   790.582692\n",
       "13     number_of_reviews_l30d  -770.158673   770.158673\n",
       "61          cleaning_products  -766.550942   766.550942\n",
       "3                    bedrooms   749.043617   749.043617\n",
       "76                    bathtub   747.969402   747.969402\n",
       "23                      stove  -712.765129   712.765129\n",
       "43                 essentials   665.678542   665.678542\n",
       "12      number_of_reviews_ltm   638.540958   638.540958\n",
       "53      dishes_and_silverware   616.346799   616.346799\n",
       "28               free_parking  -597.023103   597.023103\n",
       "81     room_type_Private room  -591.471917   591.471917\n",
       "63               wine_glasses   567.625656   567.625656\n",
       "71               dining_table  -551.071257   551.071257"
      ]
     },
     "execution_count": 84,
     "metadata": {},
     "output_type": "execute_result"
    }
   ],
   "source": [
    "impact = best.coefs.sort_values( [\"abs_coefs\"], ascending=False )\n",
    "dp_report.add_table( impact, \"impact\" )\n",
    "impact.head(20)"
   ]
  },
  {
   "cell_type": "markdown",
   "metadata": {},
   "source": [
    "Generate a merged DataFrame containing the coefs (scaled to a range 0...1) and the percentage for all amenities:"
   ]
  },
  {
   "cell_type": "code",
   "execution_count": 85,
   "metadata": {},
   "outputs": [],
   "source": [
    "amenities_percentage = (new_amenities.sum()/new_amenities.shape[0]).rename(\"precentage_of_listings\").to_frame()\n",
    "impact_and_percentage = pd.merge( impact, amenities_percentage, left_on=\"est_int\", right_index=True ).set_index(\"est_int\").drop([\"coefs\"],axis=1)\n",
    "impact_and_percentage.abs_coefs /= impact_and_percentage.abs_coefs.max()\n",
    "impact_and_percentage.rename( {\"abs_coefs\" : \"impact_factor\", \"est_int\" : \"amenities\" }, axis=1,inplace=True )"
   ]
  },
  {
   "cell_type": "code",
   "execution_count": 86,
   "metadata": {},
   "outputs": [
    {
     "data": {
      "image/png": "[encoded data removed]",
      "text/plain": [
       "<Figure size 720x432 with 1 Axes>"
      ]
     },
     "metadata": {
      "needs_background": "light"
     },
     "output_type": "display_data"
    }
   ],
   "source": [
    "ax = impact_and_percentage.plot.bar( width=0.8, figsize=(10, 6) )\n",
    "ax.set_title(\"Impact on estimated sales (scaled to 1) and percentage of listings\")\n",
    "ax.set_xlabel(None);\n",
    "plt.gcf().set_tight_layout(True)\n",
    "dp_report.add_plot( ax, \"impact_and_percentage\" )"
   ]
  },
  {
   "cell_type": "markdown",
   "metadata": {},
   "source": [
    "#### Upload report to datapane"
   ]
  },
  {
   "cell_type": "code",
   "execution_count": 87,
   "metadata": {},
   "outputs": [
    {
     "data": {
      "text/markdown": [
       "Uploading report and associated data - *please wait...*"
      ],
      "text/plain": [
       "<IPython.core.display.Markdown object>"
      ]
     },
     "metadata": {},
     "output_type": "display_data"
    },
    {
     "data": {
      "text/markdown": [
       "Your report only contains a single element - did you know you can include additional plots, tables and text in a single report? Check out [the docs](https://docs.datapane.com/reports/blocks/layout-pages-and-selects) for more info"
      ],
      "text/plain": [
       "<IPython.core.display.Markdown object>"
      ]
     },
     "metadata": {},
     "output_type": "display_data"
    },
    {
     "data": {
      "text/markdown": [
       "Report successfully uploaded, click [here](https://datapane.com/u/david17/reports/yklvoJ3/airbnbcase-review-score-location/) to view and share your report."
      ],
      "text/plain": [
       "<IPython.core.display.Markdown object>"
      ]
     },
     "metadata": {},
     "output_type": "display_data"
    },
    {
     "data": {
      "text/markdown": [
       "Uploading report and associated data - *please wait...*"
      ],
      "text/plain": [
       "<IPython.core.display.Markdown object>"
      ]
     },
     "metadata": {},
     "output_type": "display_data"
    },
    {
     "data": {
      "text/markdown": [
       "Your report only contains a single element - did you know you can include additional plots, tables and text in a single report? Check out [the docs](https://docs.datapane.com/reports/blocks/layout-pages-and-selects) for more info"
      ],
      "text/plain": [
       "<IPython.core.display.Markdown object>"
      ]
     },
     "metadata": {},
     "output_type": "display_data"
    },
    {
     "data": {
      "text/markdown": [
       "Report successfully uploaded, click [here](https://datapane.com/u/david17/reports/M7bKjmk/airbnbcase-room-type/) to view and share your report."
      ],
      "text/plain": [
       "<IPython.core.display.Markdown object>"
      ]
     },
     "metadata": {},
     "output_type": "display_data"
    },
    {
     "data": {
      "text/markdown": [
       "Uploading report and associated data - *please wait...*"
      ],
      "text/plain": [
       "<IPython.core.display.Markdown object>"
      ]
     },
     "metadata": {},
     "output_type": "display_data"
    },
    {
     "data": {
      "text/markdown": [
       "Your report only contains a single element - did you know you can include additional plots, tables and text in a single report? Check out [the docs](https://docs.datapane.com/reports/blocks/layout-pages-and-selects) for more info"
      ],
      "text/plain": [
       "<IPython.core.display.Markdown object>"
      ]
     },
     "metadata": {},
     "output_type": "display_data"
    },
    {
     "data": {
      "text/markdown": [
       "Report successfully uploaded, click [here](https://datapane.com/u/david17/reports/M3821Jk/airbnbcase-amenities/) to view and share your report."
      ],
      "text/plain": [
       "<IPython.core.display.Markdown object>"
      ]
     },
     "metadata": {},
     "output_type": "display_data"
    },
    {
     "data": {
      "text/markdown": [
       "Uploading report and associated data - *please wait...*"
      ],
      "text/plain": [
       "<IPython.core.display.Markdown object>"
      ]
     },
     "metadata": {},
     "output_type": "display_data"
    },
    {
     "data": {
      "text/markdown": [
       "Your report only contains a single element - did you know you can include additional plots, tables and text in a single report? Check out [the docs](https://docs.datapane.com/reports/blocks/layout-pages-and-selects) for more info"
      ],
      "text/plain": [
       "<IPython.core.display.Markdown object>"
      ]
     },
     "metadata": {},
     "output_type": "display_data"
    },
    {
     "data": {
      "text/markdown": [
       "Report successfully uploaded, click [here](https://datapane.com/u/david17/reports/0kebKOA/airbnbcase-prices/) to view and share your report."
      ],
      "text/plain": [
       "<IPython.core.display.Markdown object>"
      ]
     },
     "metadata": {},
     "output_type": "display_data"
    },
    {
     "data": {
      "text/markdown": [
       "Uploading report and associated data - *please wait...*"
      ],
      "text/plain": [
       "<IPython.core.display.Markdown object>"
      ]
     },
     "metadata": {},
     "output_type": "display_data"
    },
    {
     "data": {
      "text/markdown": [
       "Your report only contains a single element - did you know you can include additional plots, tables and text in a single report? Check out [the docs](https://docs.datapane.com/reports/blocks/layout-pages-and-selects) for more info"
      ],
      "text/plain": [
       "<IPython.core.display.Markdown object>"
      ]
     },
     "metadata": {},
     "output_type": "display_data"
    },
    {
     "data": {
      "text/markdown": [
       "Report successfully uploaded, click [here](https://datapane.com/u/david17/reports/n3ZXWMk/airbnbcase-reviews-over-year/) to view and share your report."
      ],
      "text/plain": [
       "<IPython.core.display.Markdown object>"
      ]
     },
     "metadata": {},
     "output_type": "display_data"
    },
    {
     "data": {
      "text/markdown": [
       "Uploading report and associated data - *please wait...*"
      ],
      "text/plain": [
       "<IPython.core.display.Markdown object>"
      ]
     },
     "metadata": {},
     "output_type": "display_data"
    },
    {
     "data": {
      "text/markdown": [
       "Your report only contains a single element - did you know you can include additional plots, tables and text in a single report? Check out [the docs](https://docs.datapane.com/reports/blocks/layout-pages-and-selects) for more info"
      ],
      "text/plain": [
       "<IPython.core.display.Markdown object>"
      ]
     },
     "metadata": {},
     "output_type": "display_data"
    },
    {
     "data": {
      "text/markdown": [
       "Report successfully uploaded, click [here](https://datapane.com/u/david17/reports/E7og967/airbnbcase-change-rates/) to view and share your report."
      ],
      "text/plain": [
       "<IPython.core.display.Markdown object>"
      ]
     },
     "metadata": {},
     "output_type": "display_data"
    },
    {
     "data": {
      "text/markdown": [
       "Uploading report and associated data - *please wait...*"
      ],
      "text/plain": [
       "<IPython.core.display.Markdown object>"
      ]
     },
     "metadata": {},
     "output_type": "display_data"
    },
    {
     "data": {
      "text/markdown": [
       "Your report only contains a single element - did you know you can include additional plots, tables and text in a single report? Check out [the docs](https://docs.datapane.com/reports/blocks/layout-pages-and-selects) for more info"
      ],
      "text/plain": [
       "<IPython.core.display.Markdown object>"
      ]
     },
     "metadata": {},
     "output_type": "display_data"
    },
    {
     "data": {
      "text/markdown": [
       "Report successfully uploaded, click [here](https://datapane.com/u/david17/reports/v7JR8B7/airbnbcase-seasons/) to view and share your report."
      ],
      "text/plain": [
       "<IPython.core.display.Markdown object>"
      ]
     },
     "metadata": {},
     "output_type": "display_data"
    },
    {
     "data": {
      "text/markdown": [
       "Uploading report and associated data - *please wait...*"
      ],
      "text/plain": [
       "<IPython.core.display.Markdown object>"
      ]
     },
     "metadata": {},
     "output_type": "display_data"
    },
    {
     "data": {
      "text/markdown": [
       "Your report only contains a single element - did you know you can include additional plots, tables and text in a single report? Check out [the docs](https://docs.datapane.com/reports/blocks/layout-pages-and-selects) for more info"
      ],
      "text/plain": [
       "<IPython.core.display.Markdown object>"
      ]
     },
     "metadata": {},
     "output_type": "display_data"
    },
    {
     "data": {
      "text/markdown": [
       "Report successfully uploaded, click [here](https://datapane.com/u/david17/reports/VkB9B27/airbnbcase-day-of-week/) to view and share your report."
      ],
      "text/plain": [
       "<IPython.core.display.Markdown object>"
      ]
     },
     "metadata": {},
     "output_type": "display_data"
    },
    {
     "data": {
      "text/markdown": [
       "Uploading report and associated data - *please wait...*"
      ],
      "text/plain": [
       "<IPython.core.display.Markdown object>"
      ]
     },
     "metadata": {},
     "output_type": "display_data"
    },
    {
     "data": {
      "text/markdown": [
       "Your report only contains a single element - did you know you can include additional plots, tables and text in a single report? Check out [the docs](https://docs.datapane.com/reports/blocks/layout-pages-and-selects) for more info"
      ],
      "text/plain": [
       "<IPython.core.display.Markdown object>"
      ]
     },
     "metadata": {},
     "output_type": "display_data"
    },
    {
     "data": {
      "text/markdown": [
       "Report successfully uploaded, click [here](https://datapane.com/u/david17/reports/63Ol6R7/airbnbcase-influencer/) to view and share your report."
      ],
      "text/plain": [
       "<IPython.core.display.Markdown object>"
      ]
     },
     "metadata": {},
     "output_type": "display_data"
    },
    {
     "data": {
      "text/markdown": [
       "Uploading report and associated data - *please wait...*"
      ],
      "text/plain": [
       "<IPython.core.display.Markdown object>"
      ]
     },
     "metadata": {},
     "output_type": "display_data"
    },
    {
     "data": {
      "text/markdown": [
       "Your report only contains a single element - did you know you can include additional plots, tables and text in a single report? Check out [the docs](https://docs.datapane.com/reports/blocks/layout-pages-and-selects) for more info"
      ],
      "text/plain": [
       "<IPython.core.display.Markdown object>"
      ]
     },
     "metadata": {},
     "output_type": "display_data"
    },
    {
     "data": {
      "text/markdown": [
       "Report successfully uploaded, click [here](https://datapane.com/u/david17/reports/43grG4A/airbnbcase-most-active-reviewers/) to view and share your report."
      ],
      "text/plain": [
       "<IPython.core.display.Markdown object>"
      ]
     },
     "metadata": {},
     "output_type": "display_data"
    },
    {
     "data": {
      "text/markdown": [
       "Uploading report and associated data - *please wait...*"
      ],
      "text/plain": [
       "<IPython.core.display.Markdown object>"
      ]
     },
     "metadata": {},
     "output_type": "display_data"
    },
    {
     "data": {
      "text/markdown": [
       "Your report only contains a single element - did you know you can include additional plots, tables and text in a single report? Check out [the docs](https://docs.datapane.com/reports/blocks/layout-pages-and-selects) for more info"
      ],
      "text/plain": [
       "<IPython.core.display.Markdown object>"
      ]
     },
     "metadata": {},
     "output_type": "display_data"
    },
    {
     "data": {
      "text/markdown": [
       "Report successfully uploaded, click [here](https://datapane.com/u/david17/reports/E7ogn67/airbnbcase-top-earners/) to view and share your report."
      ],
      "text/plain": [
       "<IPython.core.display.Markdown object>"
      ]
     },
     "metadata": {},
     "output_type": "display_data"
    },
    {
     "data": {
      "text/markdown": [
       "Uploading report and associated data - *please wait...*"
      ],
      "text/plain": [
       "<IPython.core.display.Markdown object>"
      ]
     },
     "metadata": {},
     "output_type": "display_data"
    },
    {
     "data": {
      "text/markdown": [
       "Your report only contains a single element - did you know you can include additional plots, tables and text in a single report? Check out [the docs](https://docs.datapane.com/reports/blocks/layout-pages-and-selects) for more info"
      ],
      "text/plain": [
       "<IPython.core.display.Markdown object>"
      ]
     },
     "metadata": {},
     "output_type": "display_data"
    },
    {
     "data": {
      "text/markdown": [
       "Report successfully uploaded, click [here](https://datapane.com/u/david17/reports/W3QlWaA/airbnbcase-impact/) to view and share your report."
      ],
      "text/plain": [
       "<IPython.core.display.Markdown object>"
      ]
     },
     "metadata": {},
     "output_type": "display_data"
    },
    {
     "data": {
      "text/markdown": [
       "Uploading report and associated data - *please wait...*"
      ],
      "text/plain": [
       "<IPython.core.display.Markdown object>"
      ]
     },
     "metadata": {},
     "output_type": "display_data"
    },
    {
     "data": {
      "text/markdown": [
       "Your report only contains a single element - did you know you can include additional plots, tables and text in a single report? Check out [the docs](https://docs.datapane.com/reports/blocks/layout-pages-and-selects) for more info"
      ],
      "text/plain": [
       "<IPython.core.display.Markdown object>"
      ]
     },
     "metadata": {},
     "output_type": "display_data"
    },
    {
     "data": {
      "text/markdown": [
       "Report successfully uploaded, click [here](https://datapane.com/u/david17/reports/63OlGR7/airbnbcase-impact-and-percentage/) to view and share your report."
      ],
      "text/plain": [
       "<IPython.core.display.Markdown object>"
      ]
     },
     "metadata": {},
     "output_type": "display_data"
    }
   ],
   "source": [
    "dp_report.upload( \"airbnbcase\" )"
   ]
  },
  {
   "cell_type": "code",
   "execution_count": null,
   "metadata": {},
   "outputs": [],
   "source": []
  }
 ],
 "metadata": {
  "kernelspec": {
   "display_name": "Python 3",
   "language": "python",
   "name": "python3"
  },
  "language_info": {
   "codemirror_mode": {
    "name": "ipython",
    "version": 3
   },
   "file_extension": ".py",
   "mimetype": "text/x-python",
   "name": "python",
   "nbconvert_exporter": "python",
   "pygments_lexer": "ipython3",
   "version": "3.8.3"
  }
 },
 "nbformat": 4,
 "nbformat_minor": 4
}
